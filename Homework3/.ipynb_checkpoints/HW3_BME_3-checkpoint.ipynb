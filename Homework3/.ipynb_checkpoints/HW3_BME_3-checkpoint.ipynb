{
 "cells": [
  {
   "cell_type": "code",
   "execution_count": 2,
   "metadata": {},
   "outputs": [],
   "source": [
    "library(data.table)\n",
    "library(TSrepr)\n",
    "library(TSdist)\n",
    "library(dtw)\n",
    "library(TunePareto)\n",
    "library(dplyr)"
   ]
  },
  {
   "cell_type": "markdown",
   "metadata": {},
   "source": [
    "# Summary\n",
    "\n",
    "In this homework, 60 different parameter combination will be tried to get hyperparameter tuning. To get this combination, 5 different representation types(raw + 2 different difference taken + 2 different PAA), 4 different distance calculations, and 3 different k values will be used. Difference will be taken by shift function and 1, 2 will be used to get difference values. For PAA, 2 different segment length will be used by considering proper values for timeseries. In terms of distance, Euclidean, Dynamic Time Wrapping, Longest Common Subsequence, and Edit Distance with Real Penalties will be used. Lastly, k values are selected as 1, 5, 10 for k-nearest neighbor model. \n",
    "\n",
    "Performance of the models will be inspected by using 10-fold cross and 5 repeated validation technique. Moreover, performance of the models will be controlled by having the same test indices to have identical conditions. Lastly, obtained 60 performance will be controlled by a dataframe including average accuracy and standard deviation in accuracy. By considering this dataframe, the best parameter combination will be controlled and this parameters will be used to get accuracy performance in the test dataset. Last comments will be held at the end of the notebooks."
   ]
  },
  {
   "cell_type": "markdown",
   "metadata": {},
   "source": [
    "# Context\n",
    "(In order to get specified techniques rapidly, a context part is added to Notebook.)\n",
    "\n",
    "1. [Data Preparation](#1)\n",
    "1. [Classify Function](#2)\n",
    "1. [Representations](#3)\n",
    "    1. Raw Data\n",
    "    1. [Difference Function](#4)\n",
    "    1. [PAA Function](#5)\n",
    "1. [Distances](#6)\n",
    "    1. [Raw Data](#7)\n",
    "    1. [Difference Data](#8)\n",
    "    1. [PAA Data](#9)\n",
    "1. [Main Model](#10)\n",
    "1. [Result of Models](#11)\n",
    "1. [Test Performance](#12)\n",
    "1. [Comments](#13)"
   ]
  },
  {
   "cell_type": "markdown",
   "metadata": {},
   "source": [
    "<a id=\"1\"></a>\n",
    "# Data Preparation"
   ]
  },
  {
   "cell_type": "code",
   "execution_count": 3,
   "metadata": {},
   "outputs": [],
   "source": [
    "dataset_path=\"D:/Datasets/Univariate2018_arff/Univariate_arff/\""
   ]
  },
  {
   "cell_type": "code",
   "execution_count": 4,
   "metadata": {},
   "outputs": [],
   "source": [
    "distance_path=\"C:/Users/bahad/GitHub/IE48B/Homework3/Distances/\""
   ]
  },
  {
   "cell_type": "code",
   "execution_count": 7,
   "metadata": {},
   "outputs": [],
   "source": [
    "first_dataset=\"Beef\"\n",
    "second_dataset=\"BirdChicken\"\n",
    "third_dataset=\"BME\"\n",
    "fourth_dataset=\"Coffee\"\n",
    "fifth_dataset=\"Wine\""
   ]
  },
  {
   "cell_type": "markdown",
   "metadata": {},
   "source": [
    "## Loading Dataset"
   ]
  },
  {
   "cell_type": "code",
   "execution_count": 8,
   "metadata": {},
   "outputs": [],
   "source": [
    "traindata=as.matrix(fread(sprintf('%s%s/%s_TRAIN.txt',dataset_path, third_dataset,third_dataset)))"
   ]
  },
  {
   "cell_type": "code",
   "execution_count": 9,
   "metadata": {},
   "outputs": [
    {
     "data": {
      "text/html": [
       "<table>\n",
       "<thead><tr><th scope=col>V1</th><th scope=col>V2</th><th scope=col>V3</th><th scope=col>V4</th><th scope=col>V5</th><th scope=col>V6</th><th scope=col>V7</th><th scope=col>V8</th><th scope=col>V9</th><th scope=col>V10</th><th scope=col>...</th><th scope=col>V120</th><th scope=col>V121</th><th scope=col>V122</th><th scope=col>V123</th><th scope=col>V124</th><th scope=col>V125</th><th scope=col>V126</th><th scope=col>V127</th><th scope=col>V128</th><th scope=col>V129</th></tr></thead>\n",
       "<tbody>\n",
       "\t<tr><td>1            </td><td> 0.0377646330</td><td>0.0002531124 </td><td>0.003977076  </td><td>0.02076406   </td><td>0.02173118   </td><td>0.114000000  </td><td>0.41400000   </td><td>0.71800000   </td><td>0.88900000   </td><td>...          </td><td>0.034208601  </td><td>0.02283097   </td><td>0.013387386  </td><td>0.038906948  </td><td>0.039187692  </td><td> 0.0536167050</td><td>0.054673016  </td><td>0.031523157  </td><td>0.03978737   </td><td>0.02066080   </td></tr>\n",
       "\t<tr><td>1            </td><td> 0.0004248819</td><td>0.0209818240 </td><td>0.002525833  </td><td>0.02011753   </td><td>0.03707394   </td><td>0.034782011  </td><td>0.08300000   </td><td>0.31700000   </td><td>0.55000000   </td><td>...          </td><td>0.036964033  </td><td>0.01122764   </td><td>0.025040340  </td><td>0.044364509  </td><td>0.043476064  </td><td> 0.0441632130</td><td>0.021766566  </td><td>0.007789026  </td><td>0.02919420   </td><td>0.02183739   </td></tr>\n",
       "\t<tr><td>1            </td><td> 0.0198557600</td><td>0.0036765858 </td><td>0.035077439  </td><td>0.01154532   </td><td>0.12700000   </td><td>0.462000000  </td><td>0.79700000   </td><td>0.98500000   </td><td>1.07400000   </td><td>...          </td><td>0.043864909  </td><td>0.01768577   </td><td>0.046659284  </td><td>0.005716803  </td><td>0.019495807  </td><td> 0.0215920930</td><td>0.018679618  </td><td>0.022478860  </td><td>0.03220358   </td><td>0.04518721   </td></tr>\n",
       "\t<tr><td>1            </td><td>-0.0058045195</td><td>0.0026662398 </td><td>0.021715744  </td><td>0.01695835   </td><td>0.02703698   </td><td>0.003595671  </td><td>0.01259742   </td><td>0.09000000   </td><td>0.33800000   </td><td>...          </td><td>0.007400456  </td><td>0.02147181   </td><td>0.005443165  </td><td>0.045583447  </td><td>0.001083856  </td><td> 0.0190912200</td><td>0.005705397  </td><td>0.003578330  </td><td>0.03154213   </td><td>0.03438603   </td></tr>\n",
       "\t<tr><td>1            </td><td> 0.0313804330</td><td>0.0570924850 </td><td>0.047269203  </td><td>0.04387237   </td><td>0.02690178   </td><td>0.037878251  </td><td>0.03226138   </td><td>0.01146470   </td><td>0.02436203   </td><td>...          </td><td>0.035658042  </td><td>0.01919065   </td><td>0.044963907  </td><td>0.014297094  </td><td>0.005419482  </td><td>-0.0002304543</td><td>0.027151247  </td><td>0.029029138  </td><td>0.04078212   </td><td>0.03472307   </td></tr>\n",
       "\t<tr><td>1            </td><td> 0.0269493680</td><td>0.0465532830 </td><td>0.012495950  </td><td>0.04275020   </td><td>0.02778757   </td><td>0.038858944  </td><td>0.01938303   </td><td>0.01827375   </td><td>0.12000000   </td><td>...          </td><td>0.014155193  </td><td>0.01372328   </td><td>0.046840932  </td><td>0.041271348  </td><td>0.051914020  </td><td> 0.0581532340</td><td>0.039676077  </td><td>0.042518082  </td><td>0.03827971   </td><td>0.03426204   </td></tr>\n",
       "</tbody>\n",
       "</table>\n"
      ],
      "text/latex": [
       "\\begin{tabular}{lllllllllllllllllllllllllllllllllllllllllllllllllllllllllllllllllllllllllllllllllllllllllllllllllllllllllllllllllllllllllllllllll}\n",
       " V1 & V2 & V3 & V4 & V5 & V6 & V7 & V8 & V9 & V10 & ... & V120 & V121 & V122 & V123 & V124 & V125 & V126 & V127 & V128 & V129\\\\\n",
       "\\hline\n",
       "\t 1             &  0.0377646330 & 0.0002531124  & 0.003977076   & 0.02076406    & 0.02173118    & 0.114000000   & 0.41400000    & 0.71800000    & 0.88900000    & ...           & 0.034208601   & 0.02283097    & 0.013387386   & 0.038906948   & 0.039187692   &  0.0536167050 & 0.054673016   & 0.031523157   & 0.03978737    & 0.02066080   \\\\\n",
       "\t 1             &  0.0004248819 & 0.0209818240  & 0.002525833   & 0.02011753    & 0.03707394    & 0.034782011   & 0.08300000    & 0.31700000    & 0.55000000    & ...           & 0.036964033   & 0.01122764    & 0.025040340   & 0.044364509   & 0.043476064   &  0.0441632130 & 0.021766566   & 0.007789026   & 0.02919420    & 0.02183739   \\\\\n",
       "\t 1             &  0.0198557600 & 0.0036765858  & 0.035077439   & 0.01154532    & 0.12700000    & 0.462000000   & 0.79700000    & 0.98500000    & 1.07400000    & ...           & 0.043864909   & 0.01768577    & 0.046659284   & 0.005716803   & 0.019495807   &  0.0215920930 & 0.018679618   & 0.022478860   & 0.03220358    & 0.04518721   \\\\\n",
       "\t 1             & -0.0058045195 & 0.0026662398  & 0.021715744   & 0.01695835    & 0.02703698    & 0.003595671   & 0.01259742    & 0.09000000    & 0.33800000    & ...           & 0.007400456   & 0.02147181    & 0.005443165   & 0.045583447   & 0.001083856   &  0.0190912200 & 0.005705397   & 0.003578330   & 0.03154213    & 0.03438603   \\\\\n",
       "\t 1             &  0.0313804330 & 0.0570924850  & 0.047269203   & 0.04387237    & 0.02690178    & 0.037878251   & 0.03226138    & 0.01146470    & 0.02436203    & ...           & 0.035658042   & 0.01919065    & 0.044963907   & 0.014297094   & 0.005419482   & -0.0002304543 & 0.027151247   & 0.029029138   & 0.04078212    & 0.03472307   \\\\\n",
       "\t 1             &  0.0269493680 & 0.0465532830  & 0.012495950   & 0.04275020    & 0.02778757    & 0.038858944   & 0.01938303    & 0.01827375    & 0.12000000    & ...           & 0.014155193   & 0.01372328    & 0.046840932   & 0.041271348   & 0.051914020   &  0.0581532340 & 0.039676077   & 0.042518082   & 0.03827971    & 0.03426204   \\\\\n",
       "\\end{tabular}\n"
      ],
      "text/markdown": [
       "\n",
       "| V1 | V2 | V3 | V4 | V5 | V6 | V7 | V8 | V9 | V10 | ... | V120 | V121 | V122 | V123 | V124 | V125 | V126 | V127 | V128 | V129 |\n",
       "|---|---|---|---|---|---|---|---|---|---|---|---|---|---|---|---|---|---|---|---|---|\n",
       "| 1             |  0.0377646330 | 0.0002531124  | 0.003977076   | 0.02076406    | 0.02173118    | 0.114000000   | 0.41400000    | 0.71800000    | 0.88900000    | ...           | 0.034208601   | 0.02283097    | 0.013387386   | 0.038906948   | 0.039187692   |  0.0536167050 | 0.054673016   | 0.031523157   | 0.03978737    | 0.02066080    |\n",
       "| 1             |  0.0004248819 | 0.0209818240  | 0.002525833   | 0.02011753    | 0.03707394    | 0.034782011   | 0.08300000    | 0.31700000    | 0.55000000    | ...           | 0.036964033   | 0.01122764    | 0.025040340   | 0.044364509   | 0.043476064   |  0.0441632130 | 0.021766566   | 0.007789026   | 0.02919420    | 0.02183739    |\n",
       "| 1             |  0.0198557600 | 0.0036765858  | 0.035077439   | 0.01154532    | 0.12700000    | 0.462000000   | 0.79700000    | 0.98500000    | 1.07400000    | ...           | 0.043864909   | 0.01768577    | 0.046659284   | 0.005716803   | 0.019495807   |  0.0215920930 | 0.018679618   | 0.022478860   | 0.03220358    | 0.04518721    |\n",
       "| 1             | -0.0058045195 | 0.0026662398  | 0.021715744   | 0.01695835    | 0.02703698    | 0.003595671   | 0.01259742    | 0.09000000    | 0.33800000    | ...           | 0.007400456   | 0.02147181    | 0.005443165   | 0.045583447   | 0.001083856   |  0.0190912200 | 0.005705397   | 0.003578330   | 0.03154213    | 0.03438603    |\n",
       "| 1             |  0.0313804330 | 0.0570924850  | 0.047269203   | 0.04387237    | 0.02690178    | 0.037878251   | 0.03226138    | 0.01146470    | 0.02436203    | ...           | 0.035658042   | 0.01919065    | 0.044963907   | 0.014297094   | 0.005419482   | -0.0002304543 | 0.027151247   | 0.029029138   | 0.04078212    | 0.03472307    |\n",
       "| 1             |  0.0269493680 | 0.0465532830  | 0.012495950   | 0.04275020    | 0.02778757    | 0.038858944   | 0.01938303    | 0.01827375    | 0.12000000    | ...           | 0.014155193   | 0.01372328    | 0.046840932   | 0.041271348   | 0.051914020   |  0.0581532340 | 0.039676077   | 0.042518082   | 0.03827971    | 0.03426204    |\n",
       "\n"
      ],
      "text/plain": [
       "     V1 V2            V3           V4          V5         V6        \n",
       "[1,] 1   0.0377646330 0.0002531124 0.003977076 0.02076406 0.02173118\n",
       "[2,] 1   0.0004248819 0.0209818240 0.002525833 0.02011753 0.03707394\n",
       "[3,] 1   0.0198557600 0.0036765858 0.035077439 0.01154532 0.12700000\n",
       "[4,] 1  -0.0058045195 0.0026662398 0.021715744 0.01695835 0.02703698\n",
       "[5,] 1   0.0313804330 0.0570924850 0.047269203 0.04387237 0.02690178\n",
       "[6,] 1   0.0269493680 0.0465532830 0.012495950 0.04275020 0.02778757\n",
       "     V7          V8         V9         V10        ... V120        V121      \n",
       "[1,] 0.114000000 0.41400000 0.71800000 0.88900000 ... 0.034208601 0.02283097\n",
       "[2,] 0.034782011 0.08300000 0.31700000 0.55000000 ... 0.036964033 0.01122764\n",
       "[3,] 0.462000000 0.79700000 0.98500000 1.07400000 ... 0.043864909 0.01768577\n",
       "[4,] 0.003595671 0.01259742 0.09000000 0.33800000 ... 0.007400456 0.02147181\n",
       "[5,] 0.037878251 0.03226138 0.01146470 0.02436203 ... 0.035658042 0.01919065\n",
       "[6,] 0.038858944 0.01938303 0.01827375 0.12000000 ... 0.014155193 0.01372328\n",
       "     V122        V123        V124        V125          V126        V127       \n",
       "[1,] 0.013387386 0.038906948 0.039187692  0.0536167050 0.054673016 0.031523157\n",
       "[2,] 0.025040340 0.044364509 0.043476064  0.0441632130 0.021766566 0.007789026\n",
       "[3,] 0.046659284 0.005716803 0.019495807  0.0215920930 0.018679618 0.022478860\n",
       "[4,] 0.005443165 0.045583447 0.001083856  0.0190912200 0.005705397 0.003578330\n",
       "[5,] 0.044963907 0.014297094 0.005419482 -0.0002304543 0.027151247 0.029029138\n",
       "[6,] 0.046840932 0.041271348 0.051914020  0.0581532340 0.039676077 0.042518082\n",
       "     V128       V129      \n",
       "[1,] 0.03978737 0.02066080\n",
       "[2,] 0.02919420 0.02183739\n",
       "[3,] 0.03220358 0.04518721\n",
       "[4,] 0.03154213 0.03438603\n",
       "[5,] 0.04078212 0.03472307\n",
       "[6,] 0.03827971 0.03426204"
      ]
     },
     "metadata": {},
     "output_type": "display_data"
    }
   ],
   "source": [
    "head(traindata)"
   ]
  },
  {
   "cell_type": "code",
   "execution_count": 8,
   "metadata": {},
   "outputs": [
    {
     "name": "stdout",
     "output_type": "stream",
     "text": [
      " num [1:30, 1:471] 1 1 1 1 1 1 2 2 2 2 ...\n",
      " - attr(*, \"dimnames\")=List of 2\n",
      "  ..$ : NULL\n",
      "  ..$ : chr [1:471] \"V1\" \"V2\" \"V3\" \"V4\" ...\n"
     ]
    }
   ],
   "source": [
    "str(traindata)"
   ]
  },
  {
   "cell_type": "markdown",
   "metadata": {},
   "source": [
    "## Class Information"
   ]
  },
  {
   "cell_type": "code",
   "execution_count": 9,
   "metadata": {},
   "outputs": [],
   "source": [
    "trainclass=traindata[,1] "
   ]
  },
  {
   "cell_type": "markdown",
   "metadata": {},
   "source": [
    "## Time Series"
   ]
  },
  {
   "cell_type": "code",
   "execution_count": 10,
   "metadata": {},
   "outputs": [],
   "source": [
    "traindata=traindata[,2:ncol(traindata)]"
   ]
  },
  {
   "cell_type": "markdown",
   "metadata": {},
   "source": [
    "## Dataset Information"
   ]
  },
  {
   "cell_type": "code",
   "execution_count": 11,
   "metadata": {},
   "outputs": [],
   "source": [
    "tlength=ncol(traindata)\n",
    "n_series_train=nrow(traindata)"
   ]
  },
  {
   "cell_type": "markdown",
   "metadata": {},
   "source": [
    "## Indices for Datasets"
   ]
  },
  {
   "cell_type": "markdown",
   "metadata": {},
   "source": [
    "Mentioned test indices are obtained by TunePareto library to have identical conditions. nfold and ntimes parameters are selected as 10, 5 respectively."
   ]
  },
  {
   "cell_type": "code",
   "execution_count": 12,
   "metadata": {},
   "outputs": [],
   "source": [
    "set.seed(35)\n",
    "nof_rep=5\n",
    "n_fold=10"
   ]
  },
  {
   "cell_type": "code",
   "execution_count": 13,
   "metadata": {},
   "outputs": [
    {
     "name": "stdout",
     "output_type": "stream",
     "text": [
      "List of 5\n",
      " $ Run  1:List of 10\n",
      "  ..$ Fold  1 : int [1:3] 2 10 21\n",
      "  ..$ Fold  2 : int [1:3] 1 9 22\n",
      "  ..$ Fold  3 : int [1:3] 3 13 19\n",
      "  ..$ Fold  4 : int [1:3] 4 15 20\n",
      "  ..$ Fold  5 : int [1:3] 5 18 29\n",
      "  ..$ Fold  6 : int [1:3] 6 16 28\n",
      "  ..$ Fold  7 : int [1:3] 11 17 26\n",
      "  ..$ Fold  8 : int [1:3] 8 14 25\n",
      "  ..$ Fold  9 : int [1:3] 12 23 27\n",
      "  ..$ Fold  10: int [1:3] 7 24 30\n",
      " $ Run  2:List of 10\n",
      "  ..$ Fold  1 : int [1:3] 5 12 19\n",
      "  ..$ Fold  2 : int [1:3] 1 9 22\n",
      "  ..$ Fold  3 : int [1:3] 2 15 23\n",
      "  ..$ Fold  4 : int [1:3] 3 14 20\n",
      "  ..$ Fold  5 : int [1:3] 6 17 26\n",
      "  ..$ Fold  6 : int [1:3] 4 16 27\n",
      "  ..$ Fold  7 : int [1:3] 11 13 25\n",
      "  ..$ Fold  8 : int [1:3] 7 18 30\n",
      "  ..$ Fold  9 : int [1:3] 8 21 29\n",
      "  ..$ Fold  10: int [1:3] 10 24 28\n",
      " $ Run  3:List of 10\n",
      "  ..$ Fold  1 : int [1:3] 4 12 20\n",
      "  ..$ Fold  2 : int [1:3] 1 9 19\n",
      "  ..$ Fold  3 : int [1:3] 6 17 24\n",
      "  ..$ Fold  4 : int [1:3] 3 13 22\n",
      "  ..$ Fold  5 : int [1:3] 2 16 26\n",
      "  ..$ Fold  6 : int [1:3] 5 14 29\n",
      "  ..$ Fold  7 : int [1:3] 10 15 25\n",
      "  ..$ Fold  8 : int [1:3] 7 18 27\n",
      "  ..$ Fold  9 : int [1:3] 11 21 30\n",
      "  ..$ Fold  10: int [1:3] 8 23 28\n",
      " $ Run  4:List of 10\n",
      "  ..$ Fold  1 : int [1:3] 2 8 19\n",
      "  ..$ Fold  2 : int [1:3] 5 10 23\n",
      "  ..$ Fold  3 : int [1:3] 4 16 24\n",
      "  ..$ Fold  4 : int [1:3] 1 14 20\n",
      "  ..$ Fold  5 : int [1:3] 3 15 30\n",
      "  ..$ Fold  6 : int [1:3] 6 17 28\n",
      "  ..$ Fold  7 : int [1:3] 9 18 26\n",
      "  ..$ Fold  8 : int [1:3] 12 13 25\n",
      "  ..$ Fold  9 : int [1:3] 7 22 27\n",
      "  ..$ Fold  10: int [1:3] 11 21 29\n",
      " $ Run  5:List of 10\n",
      "  ..$ Fold  1 : int [1:3] 5 10 19\n",
      "  ..$ Fold  2 : int [1:3] 3 12 22\n",
      "  ..$ Fold  3 : int [1:3] 1 17 23\n",
      "  ..$ Fold  4 : int [1:3] 6 16 20\n",
      "  ..$ Fold  5 : int [1:3] 4 18 26\n",
      "  ..$ Fold  6 : int [1:3] 2 15 30\n",
      "  ..$ Fold  7 : int [1:3] 7 14 28\n",
      "  ..$ Fold  8 : int [1:3] 8 13 25\n",
      "  ..$ Fold  9 : int [1:3] 11 21 29\n",
      "  ..$ Fold  10: int [1:3] 9 24 27\n"
     ]
    }
   ],
   "source": [
    "cv_indices=generateCVRuns(trainclass, ntimes =nof_rep, nfold = n_fold, \n",
    "                          leaveOneOut = FALSE, stratified = TRUE)\n",
    "\n",
    "str(cv_indices)"
   ]
  },
  {
   "cell_type": "markdown",
   "metadata": {},
   "source": [
    "<a id=\"2\"></a>\n",
    "# Classify Function"
   ]
  },
  {
   "cell_type": "markdown",
   "metadata": {},
   "source": [
    "Classify function is obtained from lecture notebooks. Function takes 4 different parameters, distance matrix, class information, test indeces and k parameter."
   ]
  },
  {
   "cell_type": "code",
   "execution_count": 14,
   "metadata": {},
   "outputs": [],
   "source": [
    "nn_classify_cv=function(dist_matrix,train_class,test_indices,k){\n",
    "    \n",
    "    test_distances_to_train=dist_matrix[test_indices,]\n",
    "    test_distances_to_train=test_distances_to_train[,-test_indices]\n",
    "    train_class=train_class[-test_indices]\n",
    "\n",
    "    ordered_indices=apply(test_distances_to_train,1,order)\n",
    "    if(k==1){\n",
    "        nearest_class=as.numeric(train_class[as.numeric(ordered_indices[1,])])\n",
    "        nearest_class=data.table(id=test_indices,nearest_class)\n",
    "    } else {\n",
    "        nearest_class=apply(ordered_indices[1:k,],2,function(x) {train_class[x]})\n",
    "        nearest_class=data.table(id=test_indices,t(nearest_class))\n",
    "    }\n",
    "    \n",
    "    long_nn_class=melt(nearest_class,'id')\n",
    "\n",
    "    class_counts=long_nn_class[,.N,list(id,value)]\n",
    "    class_counts[,predicted_prob:=N/k]\n",
    "    wide_class_prob_predictions=dcast(class_counts,id~value,value.var='predicted_prob')\n",
    "    wide_class_prob_predictions[is.na(wide_class_prob_predictions)]=0\n",
    "    class_predictions=class_counts[,list(predicted=value[which.max(N)]),by=list(id)]\n",
    "    \n",
    "    \n",
    "    return(list(prediction=class_predictions,prob_estimates=wide_class_prob_predictions))\n",
    "    \n",
    "}"
   ]
  },
  {
   "cell_type": "code",
   "execution_count": null,
   "metadata": {},
   "outputs": [],
   "source": []
  },
  {
   "cell_type": "markdown",
   "metadata": {},
   "source": [
    "<a id=\"3\"></a>\n",
    "# Representations"
   ]
  },
  {
   "cell_type": "markdown",
   "metadata": {},
   "source": [
    "There are 3 major representations, raw dataset, difference taken dataset, and paa representation. For difference taken dataset 1 and 2 will be used in shift operator. At the beginning, an example code will be given to show obtained dataframes in difference datasets. For paa dataset 4 and 8 will be used in segment length parameter. At the beginning, an example code will be given to show obtained dataframes in paa datasets."
   ]
  },
  {
   "cell_type": "markdown",
   "metadata": {},
   "source": [
    "## Example Code for difference datasets"
   ]
  },
  {
   "cell_type": "code",
   "execution_count": 15,
   "metadata": {
    "scrolled": true
   },
   "outputs": [
    {
     "data": {
      "text/html": [
       "<table>\n",
       "<thead><tr><th scope=col>id</th><th scope=col>variable</th><th scope=col>value</th><th scope=col>time</th><th scope=col>diff_series</th></tr></thead>\n",
       "<tbody>\n",
       "\t<tr><td>1          </td><td>V2         </td><td>-0.3629225 </td><td>1          </td><td>         NA</td></tr>\n",
       "\t<tr><td>1          </td><td>V3         </td><td>-0.3653278 </td><td>2          </td><td>-0.00240529</td></tr>\n",
       "\t<tr><td>1          </td><td>V4         </td><td>-0.3878120 </td><td>3          </td><td>-0.02248423</td></tr>\n",
       "\t<tr><td>1          </td><td>V5         </td><td>-0.4055902 </td><td>4          </td><td>-0.01777823</td></tr>\n",
       "\t<tr><td>1          </td><td>V6         </td><td>-0.3990018 </td><td>5          </td><td> 0.00658840</td></tr>\n",
       "\t<tr><td>1          </td><td>V7         </td><td>-0.3665827 </td><td>6          </td><td> 0.03241913</td></tr>\n",
       "</tbody>\n",
       "</table>\n"
      ],
      "text/latex": [
       "\\begin{tabular}{r|lllll}\n",
       " id & variable & value & time & diff\\_series\\\\\n",
       "\\hline\n",
       "\t 1           & V2          & -0.3629225  & 1           &          NA\\\\\n",
       "\t 1           & V3          & -0.3653278  & 2           & -0.00240529\\\\\n",
       "\t 1           & V4          & -0.3878120  & 3           & -0.02248423\\\\\n",
       "\t 1           & V5          & -0.4055902  & 4           & -0.01777823\\\\\n",
       "\t 1           & V6          & -0.3990018  & 5           &  0.00658840\\\\\n",
       "\t 1           & V7          & -0.3665827  & 6           &  0.03241913\\\\\n",
       "\\end{tabular}\n"
      ],
      "text/markdown": [
       "\n",
       "| id | variable | value | time | diff_series |\n",
       "|---|---|---|---|---|\n",
       "| 1           | V2          | -0.3629225  | 1           |          NA |\n",
       "| 1           | V3          | -0.3653278  | 2           | -0.00240529 |\n",
       "| 1           | V4          | -0.3878120  | 3           | -0.02248423 |\n",
       "| 1           | V5          | -0.4055902  | 4           | -0.01777823 |\n",
       "| 1           | V6          | -0.3990018  | 5           |  0.00658840 |\n",
       "| 1           | V7          | -0.3665827  | 6           |  0.03241913 |\n",
       "\n"
      ],
      "text/plain": [
       "  id variable value      time diff_series\n",
       "1 1  V2       -0.3629225 1             NA\n",
       "2 1  V3       -0.3653278 2    -0.00240529\n",
       "3 1  V4       -0.3878120 3    -0.02248423\n",
       "4 1  V5       -0.4055902 4    -0.01777823\n",
       "5 1  V6       -0.3990018 5     0.00658840\n",
       "6 1  V7       -0.3665827 6     0.03241913"
      ]
     },
     "metadata": {},
     "output_type": "display_data"
    }
   ],
   "source": [
    "dt_ts_train=data.table(traindata)\n",
    "dt_ts_train[,id:=1:.N]\n",
    "long_train=melt(dt_ts_train,id.vars=c('id'))\n",
    "long_train[,time:=as.numeric(gsub(\"\\\\D\", \"\", variable))-1]\n",
    "long_train=long_train[order(id,time)]\n",
    "diff_long=copy(long_train)\n",
    "diff_long[,diff_series:=value-shift(value,1),by=list(id)]\n",
    "head(diff_long)"
   ]
  },
  {
   "cell_type": "code",
   "execution_count": 16,
   "metadata": {
    "scrolled": true
   },
   "outputs": [
    {
     "data": {
      "text/html": [
       "<table>\n",
       "<thead><tr><th scope=col>2</th><th scope=col>3</th><th scope=col>4</th><th scope=col>5</th><th scope=col>6</th><th scope=col>7</th><th scope=col>8</th><th scope=col>9</th><th scope=col>10</th><th scope=col>11</th><th scope=col>...</th><th scope=col>461</th><th scope=col>462</th><th scope=col>463</th><th scope=col>464</th><th scope=col>465</th><th scope=col>466</th><th scope=col>467</th><th scope=col>468</th><th scope=col>469</th><th scope=col>470</th></tr></thead>\n",
       "<tbody>\n",
       "\t<tr><td>-0.002405290</td><td>-0.02248423 </td><td>-0.01777823 </td><td> 0.00658840 </td><td>0.03241913  </td><td>0.04204029  </td><td> 0.00721587 </td><td>-0.009202850</td><td>0.021647610 </td><td>0.02771313  </td><td>...         </td><td> 0.001150300</td><td> 0.003346500</td><td>-0.000104500</td><td>-0.026876600</td><td>-0.004183100</td><td> 0.022275100</td><td> 0.01349060 </td><td> 0.00847080 </td><td>-0.003869400</td><td>-0.021020200</td></tr>\n",
       "\t<tr><td>-0.000147610</td><td> 0.01099662 </td><td> 0.01564619 </td><td> 0.02461324 </td><td>0.01435465  </td><td>0.01129183  </td><td> 0.01313690 </td><td> 0.003800845</td><td>0.009299153 </td><td>0.01572000  </td><td>...         </td><td>-0.000295211</td><td>-0.001955774</td><td>-0.007564788</td><td>-0.007786196</td><td>-0.001439155</td><td>-0.004354365</td><td>-0.01088591 </td><td>-0.01099662 </td><td> 0.006162535</td><td>-0.004317465</td></tr>\n",
       "\t<tr><td>-0.001765700</td><td> 0.00298610 </td><td> 0.00804951 </td><td> 0.01259358 </td><td>0.01002293  </td><td>0.01506037  </td><td> 0.00984117 </td><td> 0.006050110</td><td>0.012152160 </td><td>0.02269441  </td><td>...         </td><td>-0.002778380</td><td>-0.003920890</td><td>-0.003089970</td><td> 0.000701090</td><td>-0.005920280</td><td>-0.005349030</td><td>-0.00553079 </td><td>-0.00327178 </td><td> 0.000077900</td><td>-0.007867700</td></tr>\n",
       "\t<tr><td> 0.008447077</td><td> 0.01504793 </td><td> 0.01138079 </td><td> 0.01750112 </td><td>0.01294881  </td><td>0.01502264  </td><td> 0.01282236 </td><td> 0.002908424</td><td>0.007258415 </td><td>0.01256945  </td><td>...         </td><td>-0.007384870</td><td>-0.005715690</td><td>-0.000177030</td><td> 0.001340400</td><td>-0.004527020</td><td>-0.003743020</td><td>-0.00341424 </td><td>-0.00541219 </td><td> 0.000505810</td><td>-0.005538650</td></tr>\n",
       "\t<tr><td> 0.011131410</td><td> 0.01903387 </td><td> 0.02362238 </td><td> 0.03326678 </td><td>0.01580490  </td><td>0.02574670  </td><td> 0.03798275 </td><td> 0.016229767</td><td>0.016059823 </td><td>0.03662319  </td><td>...         </td><td>-0.002846580</td><td>-0.004588520</td><td>-0.003059020</td><td>-0.012363510</td><td>-0.003866250</td><td>-0.002464210</td><td>-0.01758933 </td><td>-0.00909207 </td><td> 0.011471300</td><td>-0.012193560</td></tr>\n",
       "\t<tr><td>-0.016387700</td><td>-0.03062227 </td><td>-0.00765556 </td><td>-0.00191389 </td><td>0.02260784  </td><td>0.01303839  </td><td>-0.01698579 </td><td>-0.003588550</td><td>0.008732130 </td><td>0.01758388  </td><td>...         </td><td>-0.016746500</td><td> 0.005023900</td><td>-0.002870800</td><td>-0.030981100</td><td> 0.003229700</td><td> 0.008851700</td><td> 0.00370820 </td><td> 0.02679450 </td><td>-0.002153200</td><td>-0.015071900</td></tr>\n",
       "</tbody>\n",
       "</table>\n"
      ],
      "text/latex": [
       "\\begin{tabular}{r|lllllllllllllllllllllllllllllllllllllllllllllllllllllllllllllllllllllllllllllllllllllllllllllllllllllllllllllllllllllllllllllllllllllllllllllllllllllllllllllllllllllllllllllllllllllllllllllllllllllllllllllllllllllllllllllllllllllllllllllllllllllllllllllllllllllllllllllllllllllllllllllllllllllllllllllllllllllllllllllllllllllllllllllllllllllllllllllllllllllllllllllllllllllllllllllllllllllllllllllllllllllllllllllllllllllllllllllllllllllllllllllllllllllllllllllllllllll}\n",
       " 2 & 3 & 4 & 5 & 6 & 7 & 8 & 9 & 10 & 11 & ... & 461 & 462 & 463 & 464 & 465 & 466 & 467 & 468 & 469 & 470\\\\\n",
       "\\hline\n",
       "\t -0.002405290 & -0.02248423  & -0.01777823  &  0.00658840  & 0.03241913   & 0.04204029   &  0.00721587  & -0.009202850 & 0.021647610  & 0.02771313   & ...          &  0.001150300 &  0.003346500 & -0.000104500 & -0.026876600 & -0.004183100 &  0.022275100 &  0.01349060  &  0.00847080  & -0.003869400 & -0.021020200\\\\\n",
       "\t -0.000147610 &  0.01099662  &  0.01564619  &  0.02461324  & 0.01435465   & 0.01129183   &  0.01313690  &  0.003800845 & 0.009299153  & 0.01572000   & ...          & -0.000295211 & -0.001955774 & -0.007564788 & -0.007786196 & -0.001439155 & -0.004354365 & -0.01088591  & -0.01099662  &  0.006162535 & -0.004317465\\\\\n",
       "\t -0.001765700 &  0.00298610  &  0.00804951  &  0.01259358  & 0.01002293   & 0.01506037   &  0.00984117  &  0.006050110 & 0.012152160  & 0.02269441   & ...          & -0.002778380 & -0.003920890 & -0.003089970 &  0.000701090 & -0.005920280 & -0.005349030 & -0.00553079  & -0.00327178  &  0.000077900 & -0.007867700\\\\\n",
       "\t  0.008447077 &  0.01504793  &  0.01138079  &  0.01750112  & 0.01294881   & 0.01502264   &  0.01282236  &  0.002908424 & 0.007258415  & 0.01256945   & ...          & -0.007384870 & -0.005715690 & -0.000177030 &  0.001340400 & -0.004527020 & -0.003743020 & -0.00341424  & -0.00541219  &  0.000505810 & -0.005538650\\\\\n",
       "\t  0.011131410 &  0.01903387  &  0.02362238  &  0.03326678  & 0.01580490   & 0.02574670   &  0.03798275  &  0.016229767 & 0.016059823  & 0.03662319   & ...          & -0.002846580 & -0.004588520 & -0.003059020 & -0.012363510 & -0.003866250 & -0.002464210 & -0.01758933  & -0.00909207  &  0.011471300 & -0.012193560\\\\\n",
       "\t -0.016387700 & -0.03062227  & -0.00765556  & -0.00191389  & 0.02260784   & 0.01303839   & -0.01698579  & -0.003588550 & 0.008732130  & 0.01758388   & ...          & -0.016746500 &  0.005023900 & -0.002870800 & -0.030981100 &  0.003229700 &  0.008851700 &  0.00370820  &  0.02679450  & -0.002153200 & -0.015071900\\\\\n",
       "\\end{tabular}\n"
      ],
      "text/markdown": [
       "\n",
       "| 2 | 3 | 4 | 5 | 6 | 7 | 8 | 9 | 10 | 11 | ... | 461 | 462 | 463 | 464 | 465 | 466 | 467 | 468 | 469 | 470 |\n",
       "|---|---|---|---|---|---|---|---|---|---|---|---|---|---|---|---|---|---|---|---|---|\n",
       "| -0.002405290 | -0.02248423  | -0.01777823  |  0.00658840  | 0.03241913   | 0.04204029   |  0.00721587  | -0.009202850 | 0.021647610  | 0.02771313   | ...          |  0.001150300 |  0.003346500 | -0.000104500 | -0.026876600 | -0.004183100 |  0.022275100 |  0.01349060  |  0.00847080  | -0.003869400 | -0.021020200 |\n",
       "| -0.000147610 |  0.01099662  |  0.01564619  |  0.02461324  | 0.01435465   | 0.01129183   |  0.01313690  |  0.003800845 | 0.009299153  | 0.01572000   | ...          | -0.000295211 | -0.001955774 | -0.007564788 | -0.007786196 | -0.001439155 | -0.004354365 | -0.01088591  | -0.01099662  |  0.006162535 | -0.004317465 |\n",
       "| -0.001765700 |  0.00298610  |  0.00804951  |  0.01259358  | 0.01002293   | 0.01506037   |  0.00984117  |  0.006050110 | 0.012152160  | 0.02269441   | ...          | -0.002778380 | -0.003920890 | -0.003089970 |  0.000701090 | -0.005920280 | -0.005349030 | -0.00553079  | -0.00327178  |  0.000077900 | -0.007867700 |\n",
       "|  0.008447077 |  0.01504793  |  0.01138079  |  0.01750112  | 0.01294881   | 0.01502264   |  0.01282236  |  0.002908424 | 0.007258415  | 0.01256945   | ...          | -0.007384870 | -0.005715690 | -0.000177030 |  0.001340400 | -0.004527020 | -0.003743020 | -0.00341424  | -0.00541219  |  0.000505810 | -0.005538650 |\n",
       "|  0.011131410 |  0.01903387  |  0.02362238  |  0.03326678  | 0.01580490   | 0.02574670   |  0.03798275  |  0.016229767 | 0.016059823  | 0.03662319   | ...          | -0.002846580 | -0.004588520 | -0.003059020 | -0.012363510 | -0.003866250 | -0.002464210 | -0.01758933  | -0.00909207  |  0.011471300 | -0.012193560 |\n",
       "| -0.016387700 | -0.03062227  | -0.00765556  | -0.00191389  | 0.02260784   | 0.01303839   | -0.01698579  | -0.003588550 | 0.008732130  | 0.01758388   | ...          | -0.016746500 |  0.005023900 | -0.002870800 | -0.030981100 |  0.003229700 |  0.008851700 |  0.00370820  |  0.02679450  | -0.002153200 | -0.015071900 |\n",
       "\n"
      ],
      "text/plain": [
       "  2            3           4           5           6          7         \n",
       "1 -0.002405290 -0.02248423 -0.01777823  0.00658840 0.03241913 0.04204029\n",
       "2 -0.000147610  0.01099662  0.01564619  0.02461324 0.01435465 0.01129183\n",
       "3 -0.001765700  0.00298610  0.00804951  0.01259358 0.01002293 0.01506037\n",
       "4  0.008447077  0.01504793  0.01138079  0.01750112 0.01294881 0.01502264\n",
       "5  0.011131410  0.01903387  0.02362238  0.03326678 0.01580490 0.02574670\n",
       "6 -0.016387700 -0.03062227 -0.00765556 -0.00191389 0.02260784 0.01303839\n",
       "  8           9            10          11         ... 461          462         \n",
       "1  0.00721587 -0.009202850 0.021647610 0.02771313 ...  0.001150300  0.003346500\n",
       "2  0.01313690  0.003800845 0.009299153 0.01572000 ... -0.000295211 -0.001955774\n",
       "3  0.00984117  0.006050110 0.012152160 0.02269441 ... -0.002778380 -0.003920890\n",
       "4  0.01282236  0.002908424 0.007258415 0.01256945 ... -0.007384870 -0.005715690\n",
       "5  0.03798275  0.016229767 0.016059823 0.03662319 ... -0.002846580 -0.004588520\n",
       "6 -0.01698579 -0.003588550 0.008732130 0.01758388 ... -0.016746500  0.005023900\n",
       "  463          464          465          466          467         468        \n",
       "1 -0.000104500 -0.026876600 -0.004183100  0.022275100  0.01349060  0.00847080\n",
       "2 -0.007564788 -0.007786196 -0.001439155 -0.004354365 -0.01088591 -0.01099662\n",
       "3 -0.003089970  0.000701090 -0.005920280 -0.005349030 -0.00553079 -0.00327178\n",
       "4 -0.000177030  0.001340400 -0.004527020 -0.003743020 -0.00341424 -0.00541219\n",
       "5 -0.003059020 -0.012363510 -0.003866250 -0.002464210 -0.01758933 -0.00909207\n",
       "6 -0.002870800 -0.030981100  0.003229700  0.008851700  0.00370820  0.02679450\n",
       "  469          470         \n",
       "1 -0.003869400 -0.021020200\n",
       "2  0.006162535 -0.004317465\n",
       "3  0.000077900 -0.007867700\n",
       "4  0.000505810 -0.005538650\n",
       "5  0.011471300 -0.012193560\n",
       "6 -0.002153200 -0.015071900"
      ]
     },
     "metadata": {},
     "output_type": "display_data"
    }
   ],
   "source": [
    "diff_train=dcast(diff_long[!is.na(diff_series)],id~time,value.var='diff_series')\n",
    "diff_train=diff_train[,-c(\"id\")]\n",
    "head(diff_train)\n",
    "diff_train=as.matrix(diff_train)"
   ]
  },
  {
   "cell_type": "markdown",
   "metadata": {},
   "source": [
    "<a id=\"4\"></a>\n",
    "## Difference Function"
   ]
  },
  {
   "cell_type": "code",
   "execution_count": 17,
   "metadata": {},
   "outputs": [],
   "source": [
    "difference_obtainer=function(traindata, diff_value){\n",
    "    dt_ts_train=data.table(traindata)\n",
    "    dt_ts_train[,id:=1:.N]\n",
    "    long_train=melt(dt_ts_train,id.vars=c('id'))\n",
    "    long_train[,time:=as.numeric(gsub(\"\\\\D\", \"\", variable))-1]\n",
    "    long_train=long_train[order(id,time)]\n",
    "    diff_long=copy(long_train)\n",
    "    diff_long[,diff_series:=value-shift(value,diff_value),by=list(id)]#Lag value is assigned by diff_value\n",
    "    head(diff_long)\n",
    "    \n",
    "    diff_train=dcast(diff_long[!is.na(diff_series)],id~time,value.var='diff_series')\n",
    "    diff_train=diff_train[,-c(\"id\")]\n",
    "    head(diff_train)\n",
    "    diff_train=as.matrix(diff_train)\n",
    "    \n",
    "    return(diff_train)\n",
    "}"
   ]
  },
  {
   "cell_type": "markdown",
   "metadata": {},
   "source": [
    "This function will be used to get a difference dataset. \"_2\" string will be used to mention 2 differences taken dataset."
   ]
  },
  {
   "cell_type": "markdown",
   "metadata": {},
   "source": [
    "###  1 Difference"
   ]
  },
  {
   "cell_type": "code",
   "execution_count": 18,
   "metadata": {},
   "outputs": [],
   "source": [
    "diff_train=difference_obtainer(traindata,1)"
   ]
  },
  {
   "cell_type": "markdown",
   "metadata": {},
   "source": [
    "### 2 Difference"
   ]
  },
  {
   "cell_type": "code",
   "execution_count": 19,
   "metadata": {},
   "outputs": [],
   "source": [
    "diff_train_2=difference_obtainer(traindata,2)"
   ]
  },
  {
   "cell_type": "code",
   "execution_count": null,
   "metadata": {},
   "outputs": [],
   "source": []
  },
  {
   "cell_type": "code",
   "execution_count": null,
   "metadata": {},
   "outputs": [],
   "source": []
  },
  {
   "cell_type": "markdown",
   "metadata": {},
   "source": [
    "## Example Code for PAA"
   ]
  },
  {
   "cell_type": "code",
   "execution_count": 20,
   "metadata": {},
   "outputs": [],
   "source": [
    "segment_length=5"
   ]
  },
  {
   "cell_type": "code",
   "execution_count": 21,
   "metadata": {},
   "outputs": [],
   "source": [
    "paa_results=vector(\"list\", max(long_train$id))"
   ]
  },
  {
   "cell_type": "code",
   "execution_count": 22,
   "metadata": {
    "scrolled": false
   },
   "outputs": [],
   "source": [
    "for(i in 1:max(long_train$id)){\n",
    "    current_ts=long_train[id==i,]$value\n",
    "    \n",
    "    paa_rep=repr_paa(current_ts, segment_length, meanC)\n",
    "    current_dt=data.table(time=1:length(long_train[id==i,]$value))\n",
    "    result_dt=data.table(time=c(1:(length(paa_rep)))*segment_length, values=paa_rep)\n",
    "    all_dt=merge(current_dt, result_dt, by='time',all.x=T)\n",
    "    all_dt[,values:=nafill(values,'nocb')]\n",
    "    paa_results[[i]]=transpose(data.table(values=all_dt$values))\n",
    "    \n",
    "}"
   ]
  },
  {
   "cell_type": "code",
   "execution_count": 23,
   "metadata": {},
   "outputs": [],
   "source": [
    "paa_train=rbindlist(paa_results)"
   ]
  },
  {
   "cell_type": "code",
   "execution_count": 24,
   "metadata": {},
   "outputs": [
    {
     "data": {
      "text/html": [
       "<table>\n",
       "<thead><tr><th scope=col>V1</th><th scope=col>V2</th><th scope=col>V3</th><th scope=col>V4</th><th scope=col>V5</th><th scope=col>V6</th><th scope=col>V7</th><th scope=col>V8</th><th scope=col>V9</th><th scope=col>V10</th><th scope=col>...</th><th scope=col>V461</th><th scope=col>V462</th><th scope=col>V463</th><th scope=col>V464</th><th scope=col>V465</th><th scope=col>V466</th><th scope=col>V467</th><th scope=col>V468</th><th scope=col>V469</th><th scope=col>V470</th></tr></thead>\n",
       "<tbody>\n",
       "\t<tr><td>-0.38413086 </td><td>-0.38413086 </td><td>-0.38413086 </td><td>-0.38413086 </td><td>-0.38413086 </td><td>-0.327972564</td><td>-0.327972564</td><td>-0.327972564</td><td>-0.327972564</td><td>-0.327972564</td><td>...         </td><td>-1.86160656 </td><td>-1.86160656 </td><td>-1.86160656 </td><td>-1.86160656 </td><td>-1.86160656 </td><td>-1.84805324 </td><td>-1.84805324 </td><td>-1.84805324 </td><td>-1.84805324 </td><td>-1.84805324 </td></tr>\n",
       "\t<tr><td>-0.09861947 </td><td>-0.09861947 </td><td>-0.09861947 </td><td>-0.09861947 </td><td>-0.09861947 </td><td>-0.030521622</td><td>-0.030521622</td><td>-0.030521622</td><td>-0.030521622</td><td>-0.030521622</td><td>...         </td><td>-0.02345869 </td><td>-0.02345869 </td><td>-0.02345869 </td><td>-0.02345869 </td><td>-0.02345869 </td><td>-0.05075835 </td><td>-0.05075835 </td><td>-0.05075835 </td><td>-0.05075835 </td><td>-0.05075835 </td></tr>\n",
       "\t<tr><td>-0.17319911 </td><td>-0.17319911 </td><td>-0.17319911 </td><td>-0.17319911 </td><td>-0.17319911 </td><td>-0.124626836</td><td>-0.124626836</td><td>-0.124626836</td><td>-0.124626836</td><td>-0.124626836</td><td>...         </td><td>-0.98073586 </td><td>-0.98073586 </td><td>-0.98073586 </td><td>-0.98073586 </td><td>-0.98073586 </td><td>-1.00035071 </td><td>-1.00035071 </td><td>-1.00035071 </td><td>-1.00035071 </td><td>-1.00035071 </td></tr>\n",
       "\t<tr><td>-0.07991795 </td><td>-0.07991795 </td><td>-0.07991795 </td><td>-0.07991795 </td><td>-0.07991795 </td><td>-0.016104597</td><td>-0.016104597</td><td>-0.016104597</td><td>-0.016104597</td><td>-0.016104597</td><td>...         </td><td> 0.37209666 </td><td> 0.37209666 </td><td> 0.37209666 </td><td> 0.37209666 </td><td> 0.37209666 </td><td> 0.35743820 </td><td> 0.35743820 </td><td> 0.35743820 </td><td> 0.35743820 </td><td> 0.35743820 </td></tr>\n",
       "\t<tr><td>-0.17167187 </td><td>-0.17167187 </td><td>-0.17167187 </td><td>-0.17167187 </td><td>-0.17167187 </td><td>-0.052149406</td><td>-0.052149406</td><td>-0.052149406</td><td>-0.052149406</td><td>-0.052149406</td><td>...         </td><td>-0.93781037 </td><td>-0.93781037 </td><td>-0.93781037 </td><td>-0.93781037 </td><td>-0.93781037 </td><td>-0.97030390 </td><td>-0.97030390 </td><td>-0.97030390 </td><td>-0.97030390 </td><td>-0.97030390 </td></tr>\n",
       "\t<tr><td>-0.46294774 </td><td>-0.46294774 </td><td>-0.46294774 </td><td>-0.46294774 </td><td>-0.46294774 </td><td>-0.461440556</td><td>-0.461440556</td><td>-0.461440556</td><td>-0.461440556</td><td>-0.461440556</td><td>...         </td><td>-1.80374846 </td><td>-1.80374846 </td><td>-1.80374846 </td><td>-1.80374846 </td><td>-1.80374846 </td><td>-1.79587760 </td><td>-1.79587760 </td><td>-1.79587760 </td><td>-1.79587760 </td><td>-1.79587760 </td></tr>\n",
       "\t<tr><td>-0.25753801 </td><td>-0.25753801 </td><td>-0.25753801 </td><td>-0.25753801 </td><td>-0.25753801 </td><td>-0.264602712</td><td>-0.264602712</td><td>-0.264602712</td><td>-0.264602712</td><td>-0.264602712</td><td>...         </td><td>-1.86876802 </td><td>-1.86876802 </td><td>-1.86876802 </td><td>-1.86876802 </td><td>-1.86876802 </td><td>-1.86652070 </td><td>-1.86652070 </td><td>-1.86652070 </td><td>-1.86652070 </td><td>-1.86652070 </td></tr>\n",
       "\t<tr><td>-0.25570127 </td><td>-0.25570127 </td><td>-0.25570127 </td><td>-0.25570127 </td><td>-0.25570127 </td><td>-0.247961676</td><td>-0.247961676</td><td>-0.247961676</td><td>-0.247961676</td><td>-0.247961676</td><td>...         </td><td>-1.67321354 </td><td>-1.67321354 </td><td>-1.67321354 </td><td>-1.67321354 </td><td>-1.67321354 </td><td>-1.66747398 </td><td>-1.66747398 </td><td>-1.66747398 </td><td>-1.66747398 </td><td>-1.66747398 </td></tr>\n",
       "\t<tr><td>-0.28052244 </td><td>-0.28052244 </td><td>-0.28052244 </td><td>-0.28052244 </td><td>-0.28052244 </td><td>-0.260379090</td><td>-0.260379090</td><td>-0.260379090</td><td>-0.260379090</td><td>-0.260379090</td><td>...         </td><td>-2.01081034 </td><td>-2.01081034 </td><td>-2.01081034 </td><td>-2.01081034 </td><td>-2.01081034 </td><td>-2.00416586 </td><td>-2.00416586 </td><td>-2.00416586 </td><td>-2.00416586 </td><td>-2.00416586 </td></tr>\n",
       "\t<tr><td>-0.18944863 </td><td>-0.18944863 </td><td>-0.18944863 </td><td>-0.18944863 </td><td>-0.18944863 </td><td>-0.159592326</td><td>-0.159592326</td><td>-0.159592326</td><td>-0.159592326</td><td>-0.159592326</td><td>...         </td><td>-2.01370996 </td><td>-2.01370996 </td><td>-2.01370996 </td><td>-2.01370996 </td><td>-2.01370996 </td><td>-2.01355066 </td><td>-2.01355066 </td><td>-2.01355066 </td><td>-2.01355066 </td><td>-2.01355066 </td></tr>\n",
       "\t<tr><td>-0.19202037 </td><td>-0.19202037 </td><td>-0.19202037 </td><td>-0.19202037 </td><td>-0.19202037 </td><td>-0.175961914</td><td>-0.175961914</td><td>-0.175961914</td><td>-0.175961914</td><td>-0.175961914</td><td>...         </td><td>-1.60925826 </td><td>-1.60925826 </td><td>-1.60925826 </td><td>-1.60925826 </td><td>-1.60925826 </td><td>-1.60810800 </td><td>-1.60810800 </td><td>-1.60810800 </td><td>-1.60810800 </td><td>-1.60810800 </td></tr>\n",
       "\t<tr><td>-0.22882250 </td><td>-0.22882250 </td><td>-0.22882250 </td><td>-0.22882250 </td><td>-0.22882250 </td><td>-0.265533176</td><td>-0.265533176</td><td>-0.265533176</td><td>-0.265533176</td><td>-0.265533176</td><td>...         </td><td>-1.60002582 </td><td>-1.60002582 </td><td>-1.60002582 </td><td>-1.60002582 </td><td>-1.60002582 </td><td>-1.59761924 </td><td>-1.59761924 </td><td>-1.59761924 </td><td>-1.59761924 </td><td>-1.59761924 </td></tr>\n",
       "\t<tr><td>-0.31626129 </td><td>-0.31626129 </td><td>-0.31626129 </td><td>-0.31626129 </td><td>-0.31626129 </td><td>-0.320899336</td><td>-0.320899336</td><td>-0.320899336</td><td>-0.320899336</td><td>-0.320899336</td><td>...         </td><td>-1.95810144 </td><td>-1.95810144 </td><td>-1.95810144 </td><td>-1.95810144 </td><td>-1.95810144 </td><td>-1.96073064 </td><td>-1.96073064 </td><td>-1.96073064 </td><td>-1.96073064 </td><td>-1.96073064 </td></tr>\n",
       "\t<tr><td>-0.20646227 </td><td>-0.20646227 </td><td>-0.20646227 </td><td>-0.20646227 </td><td>-0.20646227 </td><td>-0.221173468</td><td>-0.221173468</td><td>-0.221173468</td><td>-0.221173468</td><td>-0.221173468</td><td>...         </td><td>-1.59403074 </td><td>-1.59403074 </td><td>-1.59403074 </td><td>-1.59403074 </td><td>-1.59403074 </td><td>-1.59396808 </td><td>-1.59396808 </td><td>-1.59396808 </td><td>-1.59396808 </td><td>-1.59396808 </td></tr>\n",
       "\t<tr><td>-0.18604193 </td><td>-0.18604193 </td><td>-0.18604193 </td><td>-0.18604193 </td><td>-0.18604193 </td><td>-0.196958502</td><td>-0.196958502</td><td>-0.196958502</td><td>-0.196958502</td><td>-0.196958502</td><td>...         </td><td>-1.94680844 </td><td>-1.94680844 </td><td>-1.94680844 </td><td>-1.94680844 </td><td>-1.94680844 </td><td>-1.94985132 </td><td>-1.94985132 </td><td>-1.94985132 </td><td>-1.94985132 </td><td>-1.94985132 </td></tr>\n",
       "\t<tr><td>-0.22612721 </td><td>-0.22612721 </td><td>-0.22612721 </td><td>-0.22612721 </td><td>-0.22612721 </td><td>-0.219193672</td><td>-0.219193672</td><td>-0.219193672</td><td>-0.219193672</td><td>-0.219193672</td><td>...         </td><td>-1.95537622 </td><td>-1.95537622 </td><td>-1.95537622 </td><td>-1.95537622 </td><td>-1.95537622 </td><td>-1.94685760 </td><td>-1.94685760 </td><td>-1.94685760 </td><td>-1.94685760 </td><td>-1.94685760 </td></tr>\n",
       "\t<tr><td>-0.18181536 </td><td>-0.18181536 </td><td>-0.18181536 </td><td>-0.18181536 </td><td>-0.18181536 </td><td>-0.167255894</td><td>-0.167255894</td><td>-0.167255894</td><td>-0.167255894</td><td>-0.167255894</td><td>...         </td><td>-1.60528908 </td><td>-1.60528908 </td><td>-1.60528908 </td><td>-1.60528908 </td><td>-1.60528908 </td><td>-1.59923804 </td><td>-1.59923804 </td><td>-1.59923804 </td><td>-1.59923804 </td><td>-1.59923804 </td></tr>\n",
       "\t<tr><td>-0.26653366 </td><td>-0.26653366 </td><td>-0.26653366 </td><td>-0.26653366 </td><td>-0.26653366 </td><td>-0.298488746</td><td>-0.298488746</td><td>-0.298488746</td><td>-0.298488746</td><td>-0.298488746</td><td>...         </td><td>-1.65846048 </td><td>-1.65846048 </td><td>-1.65846048 </td><td>-1.65846048 </td><td>-1.65846048 </td><td>-1.65940526 </td><td>-1.65940526 </td><td>-1.65940526 </td><td>-1.65940526 </td><td>-1.65940526 </td></tr>\n",
       "\t<tr><td>-0.15269584 </td><td>-0.15269584 </td><td>-0.15269584 </td><td>-0.15269584 </td><td>-0.15269584 </td><td>-0.130703367</td><td>-0.130703367</td><td>-0.130703367</td><td>-0.130703367</td><td>-0.130703367</td><td>...         </td><td>-2.00401990 </td><td>-2.00401990 </td><td>-2.00401990 </td><td>-2.00401990 </td><td>-2.00401990 </td><td>-2.00368614 </td><td>-2.00368614 </td><td>-2.00368614 </td><td>-2.00368614 </td><td>-2.00368614 </td></tr>\n",
       "\t<tr><td>-0.17255396 </td><td>-0.17255396 </td><td>-0.17255396 </td><td>-0.17255396 </td><td>-0.17255396 </td><td>-0.158345292</td><td>-0.158345292</td><td>-0.158345292</td><td>-0.158345292</td><td>-0.158345292</td><td>...         </td><td>-1.72826338 </td><td>-1.72826338 </td><td>-1.72826338 </td><td>-1.72826338 </td><td>-1.72826338 </td><td>-1.72124840 </td><td>-1.72124840 </td><td>-1.72124840 </td><td>-1.72124840 </td><td>-1.72124840 </td></tr>\n",
       "\t<tr><td>-0.10343856 </td><td>-0.10343856 </td><td>-0.10343856 </td><td>-0.10343856 </td><td>-0.10343856 </td><td>-0.057660172</td><td>-0.057660172</td><td>-0.057660172</td><td>-0.057660172</td><td>-0.057660172</td><td>...         </td><td>-2.03815900 </td><td>-2.03815900 </td><td>-2.03815900 </td><td>-2.03815900 </td><td>-2.03815900 </td><td>-2.04331212 </td><td>-2.04331212 </td><td>-2.04331212 </td><td>-2.04331212 </td><td>-2.04331212 </td></tr>\n",
       "\t<tr><td>-0.04941248 </td><td>-0.04941248 </td><td>-0.04941248 </td><td>-0.04941248 </td><td>-0.04941248 </td><td> 0.003359417</td><td> 0.003359417</td><td> 0.003359417</td><td> 0.003359417</td><td> 0.003359417</td><td>...         </td><td>-1.95263298 </td><td>-1.95263298 </td><td>-1.95263298 </td><td>-1.95263298 </td><td>-1.95263298 </td><td>-1.95091208 </td><td>-1.95091208 </td><td>-1.95091208 </td><td>-1.95091208 </td><td>-1.95091208 </td></tr>\n",
       "\t<tr><td> 0.05460818 </td><td> 0.05460818 </td><td> 0.05460818 </td><td> 0.05460818 </td><td> 0.05460818 </td><td> 0.174882928</td><td> 0.174882928</td><td> 0.174882928</td><td> 0.174882928</td><td> 0.174882928</td><td>...         </td><td>-1.75088490 </td><td>-1.75088490 </td><td>-1.75088490 </td><td>-1.75088490 </td><td>-1.75088490 </td><td>-1.74590878 </td><td>-1.74590878 </td><td>-1.74590878 </td><td>-1.74590878 </td><td>-1.74590878 </td></tr>\n",
       "\t<tr><td>-0.06595101 </td><td>-0.06595101 </td><td>-0.06595101 </td><td>-0.06595101 </td><td>-0.06595101 </td><td>-0.014937715</td><td>-0.014937715</td><td>-0.014937715</td><td>-0.014937715</td><td>-0.014937715</td><td>...         </td><td>-1.78251956 </td><td>-1.78251956 </td><td>-1.78251956 </td><td>-1.78251956 </td><td>-1.78251956 </td><td>-1.78235736 </td><td>-1.78235736 </td><td>-1.78235736 </td><td>-1.78235736 </td><td>-1.78235736 </td></tr>\n",
       "\t<tr><td>-0.26355191 </td><td>-0.26355191 </td><td>-0.26355191 </td><td>-0.26355191 </td><td>-0.26355191 </td><td>-0.269362364</td><td>-0.269362364</td><td>-0.269362364</td><td>-0.269362364</td><td>-0.269362364</td><td>...         </td><td>-1.95223288 </td><td>-1.95223288 </td><td>-1.95223288 </td><td>-1.95223288 </td><td>-1.95223288 </td><td>-1.95356254 </td><td>-1.95356254 </td><td>-1.95356254 </td><td>-1.95356254 </td><td>-1.95356254 </td></tr>\n",
       "\t<tr><td>-0.22896245 </td><td>-0.22896245 </td><td>-0.22896245 </td><td>-0.22896245 </td><td>-0.22896245 </td><td>-0.248023498</td><td>-0.248023498</td><td>-0.248023498</td><td>-0.248023498</td><td>-0.248023498</td><td>...         </td><td>-1.60744780 </td><td>-1.60744780 </td><td>-1.60744780 </td><td>-1.60744780 </td><td>-1.60744780 </td><td>-1.60818660 </td><td>-1.60818660 </td><td>-1.60818660 </td><td>-1.60818660 </td><td>-1.60818660 </td></tr>\n",
       "\t<tr><td>-0.21884517 </td><td>-0.21884517 </td><td>-0.21884517 </td><td>-0.21884517 </td><td>-0.21884517 </td><td>-0.223305664</td><td>-0.223305664</td><td>-0.223305664</td><td>-0.223305664</td><td>-0.223305664</td><td>...         </td><td>-1.96944308 </td><td>-1.96944308 </td><td>-1.96944308 </td><td>-1.96944308 </td><td>-1.96944308 </td><td>-1.97052060 </td><td>-1.97052060 </td><td>-1.97052060 </td><td>-1.97052060 </td><td>-1.97052060 </td></tr>\n",
       "\t<tr><td>-0.19961289 </td><td>-0.19961289 </td><td>-0.19961289 </td><td>-0.19961289 </td><td>-0.19961289 </td><td>-0.169711098</td><td>-0.169711098</td><td>-0.169711098</td><td>-0.169711098</td><td>-0.169711098</td><td>...         </td><td>-2.01514914 </td><td>-2.01514914 </td><td>-2.01514914 </td><td>-2.01514914 </td><td>-2.01514914 </td><td>-2.01504218 </td><td>-2.01504218 </td><td>-2.01504218 </td><td>-2.01504218 </td><td>-2.01504218 </td></tr>\n",
       "\t<tr><td>-0.23489132 </td><td>-0.23489132 </td><td>-0.23489132 </td><td>-0.23489132 </td><td>-0.23489132 </td><td>-0.211246228</td><td>-0.211246228</td><td>-0.211246228</td><td>-0.211246228</td><td>-0.211246228</td><td>...         </td><td>-1.68059600 </td><td>-1.68059600 </td><td>-1.68059600 </td><td>-1.68059600 </td><td>-1.68059600 </td><td>-1.67452854 </td><td>-1.67452854 </td><td>-1.67452854 </td><td>-1.67452854 </td><td>-1.67452854 </td></tr>\n",
       "\t<tr><td>-0.22609111 </td><td>-0.22609111 </td><td>-0.22609111 </td><td>-0.22609111 </td><td>-0.22609111 </td><td>-0.267278418</td><td>-0.267278418</td><td>-0.267278418</td><td>-0.267278418</td><td>-0.267278418</td><td>...         </td><td>-1.61006320 </td><td>-1.61006320 </td><td>-1.61006320 </td><td>-1.61006320 </td><td>-1.61006320 </td><td>-1.61039268 </td><td>-1.61039268 </td><td>-1.61039268 </td><td>-1.61039268 </td><td>-1.61039268 </td></tr>\n",
       "</tbody>\n",
       "</table>\n"
      ],
      "text/latex": [
       "\\begin{tabular}{r|llllllllllllllllllllllllllllllllllllllllllllllllllllllllllllllllllllllllllllllllllllllllllllllllllllllllllllllllllllllllllllllllllllllllllllllllllllllllllllllllllllllllllllllllllllllllllllllllllllllllllllllllllllllllllllllllllllllllllllllllllllllllllllllllllllllllllllllllllllllllllllllllllllllllllllllllllllllllllllllllllllllllllllllllllllllllllllllllllllllllllllllllllllllllllllllllllllllllllllllllllllllllllllllllllllllllllllllllllllllllllllllllllllllllllllllllllllll}\n",
       " V1 & V2 & V3 & V4 & V5 & V6 & V7 & V8 & V9 & V10 & ... & V461 & V462 & V463 & V464 & V465 & V466 & V467 & V468 & V469 & V470\\\\\n",
       "\\hline\n",
       "\t -0.38413086  & -0.38413086  & -0.38413086  & -0.38413086  & -0.38413086  & -0.327972564 & -0.327972564 & -0.327972564 & -0.327972564 & -0.327972564 & ...          & -1.86160656  & -1.86160656  & -1.86160656  & -1.86160656  & -1.86160656  & -1.84805324  & -1.84805324  & -1.84805324  & -1.84805324  & -1.84805324 \\\\\n",
       "\t -0.09861947  & -0.09861947  & -0.09861947  & -0.09861947  & -0.09861947  & -0.030521622 & -0.030521622 & -0.030521622 & -0.030521622 & -0.030521622 & ...          & -0.02345869  & -0.02345869  & -0.02345869  & -0.02345869  & -0.02345869  & -0.05075835  & -0.05075835  & -0.05075835  & -0.05075835  & -0.05075835 \\\\\n",
       "\t -0.17319911  & -0.17319911  & -0.17319911  & -0.17319911  & -0.17319911  & -0.124626836 & -0.124626836 & -0.124626836 & -0.124626836 & -0.124626836 & ...          & -0.98073586  & -0.98073586  & -0.98073586  & -0.98073586  & -0.98073586  & -1.00035071  & -1.00035071  & -1.00035071  & -1.00035071  & -1.00035071 \\\\\n",
       "\t -0.07991795  & -0.07991795  & -0.07991795  & -0.07991795  & -0.07991795  & -0.016104597 & -0.016104597 & -0.016104597 & -0.016104597 & -0.016104597 & ...          &  0.37209666  &  0.37209666  &  0.37209666  &  0.37209666  &  0.37209666  &  0.35743820  &  0.35743820  &  0.35743820  &  0.35743820  &  0.35743820 \\\\\n",
       "\t -0.17167187  & -0.17167187  & -0.17167187  & -0.17167187  & -0.17167187  & -0.052149406 & -0.052149406 & -0.052149406 & -0.052149406 & -0.052149406 & ...          & -0.93781037  & -0.93781037  & -0.93781037  & -0.93781037  & -0.93781037  & -0.97030390  & -0.97030390  & -0.97030390  & -0.97030390  & -0.97030390 \\\\\n",
       "\t -0.46294774  & -0.46294774  & -0.46294774  & -0.46294774  & -0.46294774  & -0.461440556 & -0.461440556 & -0.461440556 & -0.461440556 & -0.461440556 & ...          & -1.80374846  & -1.80374846  & -1.80374846  & -1.80374846  & -1.80374846  & -1.79587760  & -1.79587760  & -1.79587760  & -1.79587760  & -1.79587760 \\\\\n",
       "\t -0.25753801  & -0.25753801  & -0.25753801  & -0.25753801  & -0.25753801  & -0.264602712 & -0.264602712 & -0.264602712 & -0.264602712 & -0.264602712 & ...          & -1.86876802  & -1.86876802  & -1.86876802  & -1.86876802  & -1.86876802  & -1.86652070  & -1.86652070  & -1.86652070  & -1.86652070  & -1.86652070 \\\\\n",
       "\t -0.25570127  & -0.25570127  & -0.25570127  & -0.25570127  & -0.25570127  & -0.247961676 & -0.247961676 & -0.247961676 & -0.247961676 & -0.247961676 & ...          & -1.67321354  & -1.67321354  & -1.67321354  & -1.67321354  & -1.67321354  & -1.66747398  & -1.66747398  & -1.66747398  & -1.66747398  & -1.66747398 \\\\\n",
       "\t -0.28052244  & -0.28052244  & -0.28052244  & -0.28052244  & -0.28052244  & -0.260379090 & -0.260379090 & -0.260379090 & -0.260379090 & -0.260379090 & ...          & -2.01081034  & -2.01081034  & -2.01081034  & -2.01081034  & -2.01081034  & -2.00416586  & -2.00416586  & -2.00416586  & -2.00416586  & -2.00416586 \\\\\n",
       "\t -0.18944863  & -0.18944863  & -0.18944863  & -0.18944863  & -0.18944863  & -0.159592326 & -0.159592326 & -0.159592326 & -0.159592326 & -0.159592326 & ...          & -2.01370996  & -2.01370996  & -2.01370996  & -2.01370996  & -2.01370996  & -2.01355066  & -2.01355066  & -2.01355066  & -2.01355066  & -2.01355066 \\\\\n",
       "\t -0.19202037  & -0.19202037  & -0.19202037  & -0.19202037  & -0.19202037  & -0.175961914 & -0.175961914 & -0.175961914 & -0.175961914 & -0.175961914 & ...          & -1.60925826  & -1.60925826  & -1.60925826  & -1.60925826  & -1.60925826  & -1.60810800  & -1.60810800  & -1.60810800  & -1.60810800  & -1.60810800 \\\\\n",
       "\t -0.22882250  & -0.22882250  & -0.22882250  & -0.22882250  & -0.22882250  & -0.265533176 & -0.265533176 & -0.265533176 & -0.265533176 & -0.265533176 & ...          & -1.60002582  & -1.60002582  & -1.60002582  & -1.60002582  & -1.60002582  & -1.59761924  & -1.59761924  & -1.59761924  & -1.59761924  & -1.59761924 \\\\\n",
       "\t -0.31626129  & -0.31626129  & -0.31626129  & -0.31626129  & -0.31626129  & -0.320899336 & -0.320899336 & -0.320899336 & -0.320899336 & -0.320899336 & ...          & -1.95810144  & -1.95810144  & -1.95810144  & -1.95810144  & -1.95810144  & -1.96073064  & -1.96073064  & -1.96073064  & -1.96073064  & -1.96073064 \\\\\n",
       "\t -0.20646227  & -0.20646227  & -0.20646227  & -0.20646227  & -0.20646227  & -0.221173468 & -0.221173468 & -0.221173468 & -0.221173468 & -0.221173468 & ...          & -1.59403074  & -1.59403074  & -1.59403074  & -1.59403074  & -1.59403074  & -1.59396808  & -1.59396808  & -1.59396808  & -1.59396808  & -1.59396808 \\\\\n",
       "\t -0.18604193  & -0.18604193  & -0.18604193  & -0.18604193  & -0.18604193  & -0.196958502 & -0.196958502 & -0.196958502 & -0.196958502 & -0.196958502 & ...          & -1.94680844  & -1.94680844  & -1.94680844  & -1.94680844  & -1.94680844  & -1.94985132  & -1.94985132  & -1.94985132  & -1.94985132  & -1.94985132 \\\\\n",
       "\t -0.22612721  & -0.22612721  & -0.22612721  & -0.22612721  & -0.22612721  & -0.219193672 & -0.219193672 & -0.219193672 & -0.219193672 & -0.219193672 & ...          & -1.95537622  & -1.95537622  & -1.95537622  & -1.95537622  & -1.95537622  & -1.94685760  & -1.94685760  & -1.94685760  & -1.94685760  & -1.94685760 \\\\\n",
       "\t -0.18181536  & -0.18181536  & -0.18181536  & -0.18181536  & -0.18181536  & -0.167255894 & -0.167255894 & -0.167255894 & -0.167255894 & -0.167255894 & ...          & -1.60528908  & -1.60528908  & -1.60528908  & -1.60528908  & -1.60528908  & -1.59923804  & -1.59923804  & -1.59923804  & -1.59923804  & -1.59923804 \\\\\n",
       "\t -0.26653366  & -0.26653366  & -0.26653366  & -0.26653366  & -0.26653366  & -0.298488746 & -0.298488746 & -0.298488746 & -0.298488746 & -0.298488746 & ...          & -1.65846048  & -1.65846048  & -1.65846048  & -1.65846048  & -1.65846048  & -1.65940526  & -1.65940526  & -1.65940526  & -1.65940526  & -1.65940526 \\\\\n",
       "\t -0.15269584  & -0.15269584  & -0.15269584  & -0.15269584  & -0.15269584  & -0.130703367 & -0.130703367 & -0.130703367 & -0.130703367 & -0.130703367 & ...          & -2.00401990  & -2.00401990  & -2.00401990  & -2.00401990  & -2.00401990  & -2.00368614  & -2.00368614  & -2.00368614  & -2.00368614  & -2.00368614 \\\\\n",
       "\t -0.17255396  & -0.17255396  & -0.17255396  & -0.17255396  & -0.17255396  & -0.158345292 & -0.158345292 & -0.158345292 & -0.158345292 & -0.158345292 & ...          & -1.72826338  & -1.72826338  & -1.72826338  & -1.72826338  & -1.72826338  & -1.72124840  & -1.72124840  & -1.72124840  & -1.72124840  & -1.72124840 \\\\\n",
       "\t -0.10343856  & -0.10343856  & -0.10343856  & -0.10343856  & -0.10343856  & -0.057660172 & -0.057660172 & -0.057660172 & -0.057660172 & -0.057660172 & ...          & -2.03815900  & -2.03815900  & -2.03815900  & -2.03815900  & -2.03815900  & -2.04331212  & -2.04331212  & -2.04331212  & -2.04331212  & -2.04331212 \\\\\n",
       "\t -0.04941248  & -0.04941248  & -0.04941248  & -0.04941248  & -0.04941248  &  0.003359417 &  0.003359417 &  0.003359417 &  0.003359417 &  0.003359417 & ...          & -1.95263298  & -1.95263298  & -1.95263298  & -1.95263298  & -1.95263298  & -1.95091208  & -1.95091208  & -1.95091208  & -1.95091208  & -1.95091208 \\\\\n",
       "\t  0.05460818  &  0.05460818  &  0.05460818  &  0.05460818  &  0.05460818  &  0.174882928 &  0.174882928 &  0.174882928 &  0.174882928 &  0.174882928 & ...          & -1.75088490  & -1.75088490  & -1.75088490  & -1.75088490  & -1.75088490  & -1.74590878  & -1.74590878  & -1.74590878  & -1.74590878  & -1.74590878 \\\\\n",
       "\t -0.06595101  & -0.06595101  & -0.06595101  & -0.06595101  & -0.06595101  & -0.014937715 & -0.014937715 & -0.014937715 & -0.014937715 & -0.014937715 & ...          & -1.78251956  & -1.78251956  & -1.78251956  & -1.78251956  & -1.78251956  & -1.78235736  & -1.78235736  & -1.78235736  & -1.78235736  & -1.78235736 \\\\\n",
       "\t -0.26355191  & -0.26355191  & -0.26355191  & -0.26355191  & -0.26355191  & -0.269362364 & -0.269362364 & -0.269362364 & -0.269362364 & -0.269362364 & ...          & -1.95223288  & -1.95223288  & -1.95223288  & -1.95223288  & -1.95223288  & -1.95356254  & -1.95356254  & -1.95356254  & -1.95356254  & -1.95356254 \\\\\n",
       "\t -0.22896245  & -0.22896245  & -0.22896245  & -0.22896245  & -0.22896245  & -0.248023498 & -0.248023498 & -0.248023498 & -0.248023498 & -0.248023498 & ...          & -1.60744780  & -1.60744780  & -1.60744780  & -1.60744780  & -1.60744780  & -1.60818660  & -1.60818660  & -1.60818660  & -1.60818660  & -1.60818660 \\\\\n",
       "\t -0.21884517  & -0.21884517  & -0.21884517  & -0.21884517  & -0.21884517  & -0.223305664 & -0.223305664 & -0.223305664 & -0.223305664 & -0.223305664 & ...          & -1.96944308  & -1.96944308  & -1.96944308  & -1.96944308  & -1.96944308  & -1.97052060  & -1.97052060  & -1.97052060  & -1.97052060  & -1.97052060 \\\\\n",
       "\t -0.19961289  & -0.19961289  & -0.19961289  & -0.19961289  & -0.19961289  & -0.169711098 & -0.169711098 & -0.169711098 & -0.169711098 & -0.169711098 & ...          & -2.01514914  & -2.01514914  & -2.01514914  & -2.01514914  & -2.01514914  & -2.01504218  & -2.01504218  & -2.01504218  & -2.01504218  & -2.01504218 \\\\\n",
       "\t -0.23489132  & -0.23489132  & -0.23489132  & -0.23489132  & -0.23489132  & -0.211246228 & -0.211246228 & -0.211246228 & -0.211246228 & -0.211246228 & ...          & -1.68059600  & -1.68059600  & -1.68059600  & -1.68059600  & -1.68059600  & -1.67452854  & -1.67452854  & -1.67452854  & -1.67452854  & -1.67452854 \\\\\n",
       "\t -0.22609111  & -0.22609111  & -0.22609111  & -0.22609111  & -0.22609111  & -0.267278418 & -0.267278418 & -0.267278418 & -0.267278418 & -0.267278418 & ...          & -1.61006320  & -1.61006320  & -1.61006320  & -1.61006320  & -1.61006320  & -1.61039268  & -1.61039268  & -1.61039268  & -1.61039268  & -1.61039268 \\\\\n",
       "\\end{tabular}\n"
      ],
      "text/markdown": [
       "\n",
       "| V1 | V2 | V3 | V4 | V5 | V6 | V7 | V8 | V9 | V10 | ... | V461 | V462 | V463 | V464 | V465 | V466 | V467 | V468 | V469 | V470 |\n",
       "|---|---|---|---|---|---|---|---|---|---|---|---|---|---|---|---|---|---|---|---|---|\n",
       "| -0.38413086  | -0.38413086  | -0.38413086  | -0.38413086  | -0.38413086  | -0.327972564 | -0.327972564 | -0.327972564 | -0.327972564 | -0.327972564 | ...          | -1.86160656  | -1.86160656  | -1.86160656  | -1.86160656  | -1.86160656  | -1.84805324  | -1.84805324  | -1.84805324  | -1.84805324  | -1.84805324  |\n",
       "| -0.09861947  | -0.09861947  | -0.09861947  | -0.09861947  | -0.09861947  | -0.030521622 | -0.030521622 | -0.030521622 | -0.030521622 | -0.030521622 | ...          | -0.02345869  | -0.02345869  | -0.02345869  | -0.02345869  | -0.02345869  | -0.05075835  | -0.05075835  | -0.05075835  | -0.05075835  | -0.05075835  |\n",
       "| -0.17319911  | -0.17319911  | -0.17319911  | -0.17319911  | -0.17319911  | -0.124626836 | -0.124626836 | -0.124626836 | -0.124626836 | -0.124626836 | ...          | -0.98073586  | -0.98073586  | -0.98073586  | -0.98073586  | -0.98073586  | -1.00035071  | -1.00035071  | -1.00035071  | -1.00035071  | -1.00035071  |\n",
       "| -0.07991795  | -0.07991795  | -0.07991795  | -0.07991795  | -0.07991795  | -0.016104597 | -0.016104597 | -0.016104597 | -0.016104597 | -0.016104597 | ...          |  0.37209666  |  0.37209666  |  0.37209666  |  0.37209666  |  0.37209666  |  0.35743820  |  0.35743820  |  0.35743820  |  0.35743820  |  0.35743820  |\n",
       "| -0.17167187  | -0.17167187  | -0.17167187  | -0.17167187  | -0.17167187  | -0.052149406 | -0.052149406 | -0.052149406 | -0.052149406 | -0.052149406 | ...          | -0.93781037  | -0.93781037  | -0.93781037  | -0.93781037  | -0.93781037  | -0.97030390  | -0.97030390  | -0.97030390  | -0.97030390  | -0.97030390  |\n",
       "| -0.46294774  | -0.46294774  | -0.46294774  | -0.46294774  | -0.46294774  | -0.461440556 | -0.461440556 | -0.461440556 | -0.461440556 | -0.461440556 | ...          | -1.80374846  | -1.80374846  | -1.80374846  | -1.80374846  | -1.80374846  | -1.79587760  | -1.79587760  | -1.79587760  | -1.79587760  | -1.79587760  |\n",
       "| -0.25753801  | -0.25753801  | -0.25753801  | -0.25753801  | -0.25753801  | -0.264602712 | -0.264602712 | -0.264602712 | -0.264602712 | -0.264602712 | ...          | -1.86876802  | -1.86876802  | -1.86876802  | -1.86876802  | -1.86876802  | -1.86652070  | -1.86652070  | -1.86652070  | -1.86652070  | -1.86652070  |\n",
       "| -0.25570127  | -0.25570127  | -0.25570127  | -0.25570127  | -0.25570127  | -0.247961676 | -0.247961676 | -0.247961676 | -0.247961676 | -0.247961676 | ...          | -1.67321354  | -1.67321354  | -1.67321354  | -1.67321354  | -1.67321354  | -1.66747398  | -1.66747398  | -1.66747398  | -1.66747398  | -1.66747398  |\n",
       "| -0.28052244  | -0.28052244  | -0.28052244  | -0.28052244  | -0.28052244  | -0.260379090 | -0.260379090 | -0.260379090 | -0.260379090 | -0.260379090 | ...          | -2.01081034  | -2.01081034  | -2.01081034  | -2.01081034  | -2.01081034  | -2.00416586  | -2.00416586  | -2.00416586  | -2.00416586  | -2.00416586  |\n",
       "| -0.18944863  | -0.18944863  | -0.18944863  | -0.18944863  | -0.18944863  | -0.159592326 | -0.159592326 | -0.159592326 | -0.159592326 | -0.159592326 | ...          | -2.01370996  | -2.01370996  | -2.01370996  | -2.01370996  | -2.01370996  | -2.01355066  | -2.01355066  | -2.01355066  | -2.01355066  | -2.01355066  |\n",
       "| -0.19202037  | -0.19202037  | -0.19202037  | -0.19202037  | -0.19202037  | -0.175961914 | -0.175961914 | -0.175961914 | -0.175961914 | -0.175961914 | ...          | -1.60925826  | -1.60925826  | -1.60925826  | -1.60925826  | -1.60925826  | -1.60810800  | -1.60810800  | -1.60810800  | -1.60810800  | -1.60810800  |\n",
       "| -0.22882250  | -0.22882250  | -0.22882250  | -0.22882250  | -0.22882250  | -0.265533176 | -0.265533176 | -0.265533176 | -0.265533176 | -0.265533176 | ...          | -1.60002582  | -1.60002582  | -1.60002582  | -1.60002582  | -1.60002582  | -1.59761924  | -1.59761924  | -1.59761924  | -1.59761924  | -1.59761924  |\n",
       "| -0.31626129  | -0.31626129  | -0.31626129  | -0.31626129  | -0.31626129  | -0.320899336 | -0.320899336 | -0.320899336 | -0.320899336 | -0.320899336 | ...          | -1.95810144  | -1.95810144  | -1.95810144  | -1.95810144  | -1.95810144  | -1.96073064  | -1.96073064  | -1.96073064  | -1.96073064  | -1.96073064  |\n",
       "| -0.20646227  | -0.20646227  | -0.20646227  | -0.20646227  | -0.20646227  | -0.221173468 | -0.221173468 | -0.221173468 | -0.221173468 | -0.221173468 | ...          | -1.59403074  | -1.59403074  | -1.59403074  | -1.59403074  | -1.59403074  | -1.59396808  | -1.59396808  | -1.59396808  | -1.59396808  | -1.59396808  |\n",
       "| -0.18604193  | -0.18604193  | -0.18604193  | -0.18604193  | -0.18604193  | -0.196958502 | -0.196958502 | -0.196958502 | -0.196958502 | -0.196958502 | ...          | -1.94680844  | -1.94680844  | -1.94680844  | -1.94680844  | -1.94680844  | -1.94985132  | -1.94985132  | -1.94985132  | -1.94985132  | -1.94985132  |\n",
       "| -0.22612721  | -0.22612721  | -0.22612721  | -0.22612721  | -0.22612721  | -0.219193672 | -0.219193672 | -0.219193672 | -0.219193672 | -0.219193672 | ...          | -1.95537622  | -1.95537622  | -1.95537622  | -1.95537622  | -1.95537622  | -1.94685760  | -1.94685760  | -1.94685760  | -1.94685760  | -1.94685760  |\n",
       "| -0.18181536  | -0.18181536  | -0.18181536  | -0.18181536  | -0.18181536  | -0.167255894 | -0.167255894 | -0.167255894 | -0.167255894 | -0.167255894 | ...          | -1.60528908  | -1.60528908  | -1.60528908  | -1.60528908  | -1.60528908  | -1.59923804  | -1.59923804  | -1.59923804  | -1.59923804  | -1.59923804  |\n",
       "| -0.26653366  | -0.26653366  | -0.26653366  | -0.26653366  | -0.26653366  | -0.298488746 | -0.298488746 | -0.298488746 | -0.298488746 | -0.298488746 | ...          | -1.65846048  | -1.65846048  | -1.65846048  | -1.65846048  | -1.65846048  | -1.65940526  | -1.65940526  | -1.65940526  | -1.65940526  | -1.65940526  |\n",
       "| -0.15269584  | -0.15269584  | -0.15269584  | -0.15269584  | -0.15269584  | -0.130703367 | -0.130703367 | -0.130703367 | -0.130703367 | -0.130703367 | ...          | -2.00401990  | -2.00401990  | -2.00401990  | -2.00401990  | -2.00401990  | -2.00368614  | -2.00368614  | -2.00368614  | -2.00368614  | -2.00368614  |\n",
       "| -0.17255396  | -0.17255396  | -0.17255396  | -0.17255396  | -0.17255396  | -0.158345292 | -0.158345292 | -0.158345292 | -0.158345292 | -0.158345292 | ...          | -1.72826338  | -1.72826338  | -1.72826338  | -1.72826338  | -1.72826338  | -1.72124840  | -1.72124840  | -1.72124840  | -1.72124840  | -1.72124840  |\n",
       "| -0.10343856  | -0.10343856  | -0.10343856  | -0.10343856  | -0.10343856  | -0.057660172 | -0.057660172 | -0.057660172 | -0.057660172 | -0.057660172 | ...          | -2.03815900  | -2.03815900  | -2.03815900  | -2.03815900  | -2.03815900  | -2.04331212  | -2.04331212  | -2.04331212  | -2.04331212  | -2.04331212  |\n",
       "| -0.04941248  | -0.04941248  | -0.04941248  | -0.04941248  | -0.04941248  |  0.003359417 |  0.003359417 |  0.003359417 |  0.003359417 |  0.003359417 | ...          | -1.95263298  | -1.95263298  | -1.95263298  | -1.95263298  | -1.95263298  | -1.95091208  | -1.95091208  | -1.95091208  | -1.95091208  | -1.95091208  |\n",
       "|  0.05460818  |  0.05460818  |  0.05460818  |  0.05460818  |  0.05460818  |  0.174882928 |  0.174882928 |  0.174882928 |  0.174882928 |  0.174882928 | ...          | -1.75088490  | -1.75088490  | -1.75088490  | -1.75088490  | -1.75088490  | -1.74590878  | -1.74590878  | -1.74590878  | -1.74590878  | -1.74590878  |\n",
       "| -0.06595101  | -0.06595101  | -0.06595101  | -0.06595101  | -0.06595101  | -0.014937715 | -0.014937715 | -0.014937715 | -0.014937715 | -0.014937715 | ...          | -1.78251956  | -1.78251956  | -1.78251956  | -1.78251956  | -1.78251956  | -1.78235736  | -1.78235736  | -1.78235736  | -1.78235736  | -1.78235736  |\n",
       "| -0.26355191  | -0.26355191  | -0.26355191  | -0.26355191  | -0.26355191  | -0.269362364 | -0.269362364 | -0.269362364 | -0.269362364 | -0.269362364 | ...          | -1.95223288  | -1.95223288  | -1.95223288  | -1.95223288  | -1.95223288  | -1.95356254  | -1.95356254  | -1.95356254  | -1.95356254  | -1.95356254  |\n",
       "| -0.22896245  | -0.22896245  | -0.22896245  | -0.22896245  | -0.22896245  | -0.248023498 | -0.248023498 | -0.248023498 | -0.248023498 | -0.248023498 | ...          | -1.60744780  | -1.60744780  | -1.60744780  | -1.60744780  | -1.60744780  | -1.60818660  | -1.60818660  | -1.60818660  | -1.60818660  | -1.60818660  |\n",
       "| -0.21884517  | -0.21884517  | -0.21884517  | -0.21884517  | -0.21884517  | -0.223305664 | -0.223305664 | -0.223305664 | -0.223305664 | -0.223305664 | ...          | -1.96944308  | -1.96944308  | -1.96944308  | -1.96944308  | -1.96944308  | -1.97052060  | -1.97052060  | -1.97052060  | -1.97052060  | -1.97052060  |\n",
       "| -0.19961289  | -0.19961289  | -0.19961289  | -0.19961289  | -0.19961289  | -0.169711098 | -0.169711098 | -0.169711098 | -0.169711098 | -0.169711098 | ...          | -2.01514914  | -2.01514914  | -2.01514914  | -2.01514914  | -2.01514914  | -2.01504218  | -2.01504218  | -2.01504218  | -2.01504218  | -2.01504218  |\n",
       "| -0.23489132  | -0.23489132  | -0.23489132  | -0.23489132  | -0.23489132  | -0.211246228 | -0.211246228 | -0.211246228 | -0.211246228 | -0.211246228 | ...          | -1.68059600  | -1.68059600  | -1.68059600  | -1.68059600  | -1.68059600  | -1.67452854  | -1.67452854  | -1.67452854  | -1.67452854  | -1.67452854  |\n",
       "| -0.22609111  | -0.22609111  | -0.22609111  | -0.22609111  | -0.22609111  | -0.267278418 | -0.267278418 | -0.267278418 | -0.267278418 | -0.267278418 | ...          | -1.61006320  | -1.61006320  | -1.61006320  | -1.61006320  | -1.61006320  | -1.61039268  | -1.61039268  | -1.61039268  | -1.61039268  | -1.61039268  |\n",
       "\n"
      ],
      "text/plain": [
       "   V1          V2          V3          V4          V5          V6          \n",
       "1  -0.38413086 -0.38413086 -0.38413086 -0.38413086 -0.38413086 -0.327972564\n",
       "2  -0.09861947 -0.09861947 -0.09861947 -0.09861947 -0.09861947 -0.030521622\n",
       "3  -0.17319911 -0.17319911 -0.17319911 -0.17319911 -0.17319911 -0.124626836\n",
       "4  -0.07991795 -0.07991795 -0.07991795 -0.07991795 -0.07991795 -0.016104597\n",
       "5  -0.17167187 -0.17167187 -0.17167187 -0.17167187 -0.17167187 -0.052149406\n",
       "6  -0.46294774 -0.46294774 -0.46294774 -0.46294774 -0.46294774 -0.461440556\n",
       "7  -0.25753801 -0.25753801 -0.25753801 -0.25753801 -0.25753801 -0.264602712\n",
       "8  -0.25570127 -0.25570127 -0.25570127 -0.25570127 -0.25570127 -0.247961676\n",
       "9  -0.28052244 -0.28052244 -0.28052244 -0.28052244 -0.28052244 -0.260379090\n",
       "10 -0.18944863 -0.18944863 -0.18944863 -0.18944863 -0.18944863 -0.159592326\n",
       "11 -0.19202037 -0.19202037 -0.19202037 -0.19202037 -0.19202037 -0.175961914\n",
       "12 -0.22882250 -0.22882250 -0.22882250 -0.22882250 -0.22882250 -0.265533176\n",
       "13 -0.31626129 -0.31626129 -0.31626129 -0.31626129 -0.31626129 -0.320899336\n",
       "14 -0.20646227 -0.20646227 -0.20646227 -0.20646227 -0.20646227 -0.221173468\n",
       "15 -0.18604193 -0.18604193 -0.18604193 -0.18604193 -0.18604193 -0.196958502\n",
       "16 -0.22612721 -0.22612721 -0.22612721 -0.22612721 -0.22612721 -0.219193672\n",
       "17 -0.18181536 -0.18181536 -0.18181536 -0.18181536 -0.18181536 -0.167255894\n",
       "18 -0.26653366 -0.26653366 -0.26653366 -0.26653366 -0.26653366 -0.298488746\n",
       "19 -0.15269584 -0.15269584 -0.15269584 -0.15269584 -0.15269584 -0.130703367\n",
       "20 -0.17255396 -0.17255396 -0.17255396 -0.17255396 -0.17255396 -0.158345292\n",
       "21 -0.10343856 -0.10343856 -0.10343856 -0.10343856 -0.10343856 -0.057660172\n",
       "22 -0.04941248 -0.04941248 -0.04941248 -0.04941248 -0.04941248  0.003359417\n",
       "23  0.05460818  0.05460818  0.05460818  0.05460818  0.05460818  0.174882928\n",
       "24 -0.06595101 -0.06595101 -0.06595101 -0.06595101 -0.06595101 -0.014937715\n",
       "25 -0.26355191 -0.26355191 -0.26355191 -0.26355191 -0.26355191 -0.269362364\n",
       "26 -0.22896245 -0.22896245 -0.22896245 -0.22896245 -0.22896245 -0.248023498\n",
       "27 -0.21884517 -0.21884517 -0.21884517 -0.21884517 -0.21884517 -0.223305664\n",
       "28 -0.19961289 -0.19961289 -0.19961289 -0.19961289 -0.19961289 -0.169711098\n",
       "29 -0.23489132 -0.23489132 -0.23489132 -0.23489132 -0.23489132 -0.211246228\n",
       "30 -0.22609111 -0.22609111 -0.22609111 -0.22609111 -0.22609111 -0.267278418\n",
       "   V7           V8           V9           V10          ... V461       \n",
       "1  -0.327972564 -0.327972564 -0.327972564 -0.327972564 ... -1.86160656\n",
       "2  -0.030521622 -0.030521622 -0.030521622 -0.030521622 ... -0.02345869\n",
       "3  -0.124626836 -0.124626836 -0.124626836 -0.124626836 ... -0.98073586\n",
       "4  -0.016104597 -0.016104597 -0.016104597 -0.016104597 ...  0.37209666\n",
       "5  -0.052149406 -0.052149406 -0.052149406 -0.052149406 ... -0.93781037\n",
       "6  -0.461440556 -0.461440556 -0.461440556 -0.461440556 ... -1.80374846\n",
       "7  -0.264602712 -0.264602712 -0.264602712 -0.264602712 ... -1.86876802\n",
       "8  -0.247961676 -0.247961676 -0.247961676 -0.247961676 ... -1.67321354\n",
       "9  -0.260379090 -0.260379090 -0.260379090 -0.260379090 ... -2.01081034\n",
       "10 -0.159592326 -0.159592326 -0.159592326 -0.159592326 ... -2.01370996\n",
       "11 -0.175961914 -0.175961914 -0.175961914 -0.175961914 ... -1.60925826\n",
       "12 -0.265533176 -0.265533176 -0.265533176 -0.265533176 ... -1.60002582\n",
       "13 -0.320899336 -0.320899336 -0.320899336 -0.320899336 ... -1.95810144\n",
       "14 -0.221173468 -0.221173468 -0.221173468 -0.221173468 ... -1.59403074\n",
       "15 -0.196958502 -0.196958502 -0.196958502 -0.196958502 ... -1.94680844\n",
       "16 -0.219193672 -0.219193672 -0.219193672 -0.219193672 ... -1.95537622\n",
       "17 -0.167255894 -0.167255894 -0.167255894 -0.167255894 ... -1.60528908\n",
       "18 -0.298488746 -0.298488746 -0.298488746 -0.298488746 ... -1.65846048\n",
       "19 -0.130703367 -0.130703367 -0.130703367 -0.130703367 ... -2.00401990\n",
       "20 -0.158345292 -0.158345292 -0.158345292 -0.158345292 ... -1.72826338\n",
       "21 -0.057660172 -0.057660172 -0.057660172 -0.057660172 ... -2.03815900\n",
       "22  0.003359417  0.003359417  0.003359417  0.003359417 ... -1.95263298\n",
       "23  0.174882928  0.174882928  0.174882928  0.174882928 ... -1.75088490\n",
       "24 -0.014937715 -0.014937715 -0.014937715 -0.014937715 ... -1.78251956\n",
       "25 -0.269362364 -0.269362364 -0.269362364 -0.269362364 ... -1.95223288\n",
       "26 -0.248023498 -0.248023498 -0.248023498 -0.248023498 ... -1.60744780\n",
       "27 -0.223305664 -0.223305664 -0.223305664 -0.223305664 ... -1.96944308\n",
       "28 -0.169711098 -0.169711098 -0.169711098 -0.169711098 ... -2.01514914\n",
       "29 -0.211246228 -0.211246228 -0.211246228 -0.211246228 ... -1.68059600\n",
       "30 -0.267278418 -0.267278418 -0.267278418 -0.267278418 ... -1.61006320\n",
       "   V462        V463        V464        V465        V466        V467       \n",
       "1  -1.86160656 -1.86160656 -1.86160656 -1.86160656 -1.84805324 -1.84805324\n",
       "2  -0.02345869 -0.02345869 -0.02345869 -0.02345869 -0.05075835 -0.05075835\n",
       "3  -0.98073586 -0.98073586 -0.98073586 -0.98073586 -1.00035071 -1.00035071\n",
       "4   0.37209666  0.37209666  0.37209666  0.37209666  0.35743820  0.35743820\n",
       "5  -0.93781037 -0.93781037 -0.93781037 -0.93781037 -0.97030390 -0.97030390\n",
       "6  -1.80374846 -1.80374846 -1.80374846 -1.80374846 -1.79587760 -1.79587760\n",
       "7  -1.86876802 -1.86876802 -1.86876802 -1.86876802 -1.86652070 -1.86652070\n",
       "8  -1.67321354 -1.67321354 -1.67321354 -1.67321354 -1.66747398 -1.66747398\n",
       "9  -2.01081034 -2.01081034 -2.01081034 -2.01081034 -2.00416586 -2.00416586\n",
       "10 -2.01370996 -2.01370996 -2.01370996 -2.01370996 -2.01355066 -2.01355066\n",
       "11 -1.60925826 -1.60925826 -1.60925826 -1.60925826 -1.60810800 -1.60810800\n",
       "12 -1.60002582 -1.60002582 -1.60002582 -1.60002582 -1.59761924 -1.59761924\n",
       "13 -1.95810144 -1.95810144 -1.95810144 -1.95810144 -1.96073064 -1.96073064\n",
       "14 -1.59403074 -1.59403074 -1.59403074 -1.59403074 -1.59396808 -1.59396808\n",
       "15 -1.94680844 -1.94680844 -1.94680844 -1.94680844 -1.94985132 -1.94985132\n",
       "16 -1.95537622 -1.95537622 -1.95537622 -1.95537622 -1.94685760 -1.94685760\n",
       "17 -1.60528908 -1.60528908 -1.60528908 -1.60528908 -1.59923804 -1.59923804\n",
       "18 -1.65846048 -1.65846048 -1.65846048 -1.65846048 -1.65940526 -1.65940526\n",
       "19 -2.00401990 -2.00401990 -2.00401990 -2.00401990 -2.00368614 -2.00368614\n",
       "20 -1.72826338 -1.72826338 -1.72826338 -1.72826338 -1.72124840 -1.72124840\n",
       "21 -2.03815900 -2.03815900 -2.03815900 -2.03815900 -2.04331212 -2.04331212\n",
       "22 -1.95263298 -1.95263298 -1.95263298 -1.95263298 -1.95091208 -1.95091208\n",
       "23 -1.75088490 -1.75088490 -1.75088490 -1.75088490 -1.74590878 -1.74590878\n",
       "24 -1.78251956 -1.78251956 -1.78251956 -1.78251956 -1.78235736 -1.78235736\n",
       "25 -1.95223288 -1.95223288 -1.95223288 -1.95223288 -1.95356254 -1.95356254\n",
       "26 -1.60744780 -1.60744780 -1.60744780 -1.60744780 -1.60818660 -1.60818660\n",
       "27 -1.96944308 -1.96944308 -1.96944308 -1.96944308 -1.97052060 -1.97052060\n",
       "28 -2.01514914 -2.01514914 -2.01514914 -2.01514914 -2.01504218 -2.01504218\n",
       "29 -1.68059600 -1.68059600 -1.68059600 -1.68059600 -1.67452854 -1.67452854\n",
       "30 -1.61006320 -1.61006320 -1.61006320 -1.61006320 -1.61039268 -1.61039268\n",
       "   V468        V469        V470       \n",
       "1  -1.84805324 -1.84805324 -1.84805324\n",
       "2  -0.05075835 -0.05075835 -0.05075835\n",
       "3  -1.00035071 -1.00035071 -1.00035071\n",
       "4   0.35743820  0.35743820  0.35743820\n",
       "5  -0.97030390 -0.97030390 -0.97030390\n",
       "6  -1.79587760 -1.79587760 -1.79587760\n",
       "7  -1.86652070 -1.86652070 -1.86652070\n",
       "8  -1.66747398 -1.66747398 -1.66747398\n",
       "9  -2.00416586 -2.00416586 -2.00416586\n",
       "10 -2.01355066 -2.01355066 -2.01355066\n",
       "11 -1.60810800 -1.60810800 -1.60810800\n",
       "12 -1.59761924 -1.59761924 -1.59761924\n",
       "13 -1.96073064 -1.96073064 -1.96073064\n",
       "14 -1.59396808 -1.59396808 -1.59396808\n",
       "15 -1.94985132 -1.94985132 -1.94985132\n",
       "16 -1.94685760 -1.94685760 -1.94685760\n",
       "17 -1.59923804 -1.59923804 -1.59923804\n",
       "18 -1.65940526 -1.65940526 -1.65940526\n",
       "19 -2.00368614 -2.00368614 -2.00368614\n",
       "20 -1.72124840 -1.72124840 -1.72124840\n",
       "21 -2.04331212 -2.04331212 -2.04331212\n",
       "22 -1.95091208 -1.95091208 -1.95091208\n",
       "23 -1.74590878 -1.74590878 -1.74590878\n",
       "24 -1.78235736 -1.78235736 -1.78235736\n",
       "25 -1.95356254 -1.95356254 -1.95356254\n",
       "26 -1.60818660 -1.60818660 -1.60818660\n",
       "27 -1.97052060 -1.97052060 -1.97052060\n",
       "28 -2.01504218 -2.01504218 -2.01504218\n",
       "29 -1.67452854 -1.67452854 -1.67452854\n",
       "30 -1.61039268 -1.61039268 -1.61039268"
      ]
     },
     "metadata": {},
     "output_type": "display_data"
    }
   ],
   "source": [
    "paa_train"
   ]
  },
  {
   "cell_type": "markdown",
   "metadata": {},
   "source": [
    "<a id=\"5\"></a>\n",
    "## PAA Function"
   ]
  },
  {
   "cell_type": "code",
   "execution_count": 25,
   "metadata": {},
   "outputs": [],
   "source": [
    "paa_obtainer=function(traindata,segment_length){\n",
    "    dt_ts_train=data.table(traindata)\n",
    "    dt_ts_train[,id:=1:.N]\n",
    "    long_train=melt(dt_ts_train,id.vars=c('id'))\n",
    "    long_train[,time:=as.numeric(gsub(\"\\\\D\", \"\", variable))-1]\n",
    "    long_train=long_train[order(id,time)]\n",
    "    \n",
    "    paa_results=vector(\"list\", max(long_train$id))\n",
    "    for(i in 1:max(long_train$id)){\n",
    "        current_ts=long_train[id==i,]$value\n",
    "\n",
    "        paa_rep=repr_paa(current_ts, segment_length, meanC)\n",
    "        current_dt=data.table(time=1:length(long_train[id==i,]$value))\n",
    "        result_dt=data.table(time=c(1:(length(paa_rep)))*segment_length, values=paa_rep)\n",
    "        all_dt=merge(current_dt, result_dt, by='time',all.x=T)\n",
    "        all_dt[,values:=nafill(values,'nocb')]\n",
    "        paa_results[[i]]=transpose(data.table(values=all_dt$values))\n",
    "\n",
    "    }\n",
    "    return(rbindlist(paa_results))\n",
    "}"
   ]
  },
  {
   "cell_type": "markdown",
   "metadata": {},
   "source": [
    "This function will be used to get a difference dataset. \"_2\" string will be used to mention segment lentgh determined as 10."
   ]
  },
  {
   "cell_type": "markdown",
   "metadata": {},
   "source": [
    "### Segment Length 4"
   ]
  },
  {
   "cell_type": "code",
   "execution_count": 26,
   "metadata": {},
   "outputs": [],
   "source": [
    "paa_train=paa_obtainer(traindata, 4)"
   ]
  },
  {
   "cell_type": "markdown",
   "metadata": {},
   "source": [
    "### Segment Length 8"
   ]
  },
  {
   "cell_type": "code",
   "execution_count": 27,
   "metadata": {},
   "outputs": [],
   "source": [
    "paa_train_2=paa_obtainer(traindata, 8)"
   ]
  },
  {
   "cell_type": "code",
   "execution_count": null,
   "metadata": {},
   "outputs": [],
   "source": []
  },
  {
   "cell_type": "code",
   "execution_count": null,
   "metadata": {},
   "outputs": [],
   "source": []
  },
  {
   "cell_type": "markdown",
   "metadata": {},
   "source": [
    "<a id=\"6\"></a>\n",
    "# Distances"
   ]
  },
  {
   "cell_type": "markdown",
   "metadata": {},
   "source": [
    "In this part, distance datasets will be calculated to have 20 different combination (5 representation * 4 different distance calculation types). In addition, obtained distance datasets will be stored in a file to skip distance calculation."
   ]
  },
  {
   "cell_type": "code",
   "execution_count": 28,
   "metadata": {},
   "outputs": [],
   "source": [
    "large_number=10000"
   ]
  },
  {
   "cell_type": "markdown",
   "metadata": {},
   "source": [
    "<a id=\"7\"></a>\n",
    "## Raw Dataset "
   ]
  },
  {
   "cell_type": "code",
   "execution_count": 29,
   "metadata": {},
   "outputs": [
    {
     "name": "stderr",
     "output_type": "stream",
     "text": [
      "x being coerced from class: matrix to data.table\n",
      "x being coerced from class: matrix to data.table\n",
      "x being coerced from class: matrix to data.table\n",
      "x being coerced from class: matrix to data.table\n"
     ]
    }
   ],
   "source": [
    "dist_euc=as.matrix(dist(traindata))\n",
    "diag(dist_euc)=large_number\n",
    "fwrite(dist_euc,sprintf('%s%s/%s_euc_raw_dist.csv', distance_path, third_dataset, third_dataset),col.names=F)\n",
    "\n",
    "dist_dtw=as.matrix(dtwDist(traindata))\n",
    "diag(dist_dtw)=large_number\n",
    "fwrite(dist_dtw,sprintf('%s%s/%s_dtw_raw_dist.csv', distance_path, third_dataset, third_dataset),col.names=F)\n",
    "\n",
    "dist_lcss=TSDatabaseDistances(traindata,distance='lcss',epsilon=0.05)\n",
    "dist_lcss=as.matrix(dist_lcss)\n",
    "diag(dist_lcss)=large_number\n",
    "fwrite(dist_lcss,sprintf('%s%s/%s_lcss_raw_epsilon_005.csv', distance_path, third_dataset, third_dataset),col.names=F)  \n",
    "\n",
    "dist_erp=TSDatabaseDistances(traindata,distance='erp',g=0.5)\n",
    "dist_erp=as.matrix(dist_erp)\n",
    "diag(dist_erp)=large_number\n",
    "fwrite(dist_erp,sprintf('%s%s/%s_erp_raw_gap_005.csv', distance_path, third_dataset, third_dataset),col.names=F)  "
   ]
  },
  {
   "cell_type": "markdown",
   "metadata": {},
   "source": [
    "<a id=\"8\"></a>\n",
    "## Difference taken Datasets"
   ]
  },
  {
   "cell_type": "markdown",
   "metadata": {},
   "source": [
    "### First difference dataset when shift value is 1"
   ]
  },
  {
   "cell_type": "code",
   "execution_count": 30,
   "metadata": {},
   "outputs": [
    {
     "name": "stderr",
     "output_type": "stream",
     "text": [
      "x being coerced from class: matrix to data.table\n",
      "x being coerced from class: matrix to data.table\n",
      "x being coerced from class: matrix to data.table\n",
      "x being coerced from class: matrix to data.table\n"
     ]
    }
   ],
   "source": [
    "dist_euc_diff=as.matrix(dist(diff_train))\n",
    "diag(dist_euc_diff)=large_number\n",
    "fwrite(dist_euc_diff,sprintf('%s%s/%s_euc_diff_dist.csv', distance_path, third_dataset, third_dataset),col.names=F)\n",
    "\n",
    "dist_dtw_diff=as.matrix(dtwDist(diff_train))\n",
    "diag(dist_dtw_diff)=large_number\n",
    "fwrite(dist_dtw_diff,sprintf('%s%s/%s_dtw_diff_dist.csv', distance_path, third_dataset, third_dataset),col.names=F)\n",
    "\n",
    "dist_lcss_diff=TSDatabaseDistances(diff_train,distance='lcss',epsilon=0.05)\n",
    "dist_lcss_diff=as.matrix(dist_lcss_diff)\n",
    "diag(dist_lcss_diff)=large_number\n",
    "fwrite(dist_lcss_diff,sprintf('%s%s/%s_lcss_diff_epsilon_005.csv', distance_path, third_dataset, third_dataset),col.names=F)  \n",
    "\n",
    "dist_erp_diff=TSDatabaseDistances(diff_train,distance='erp',g=0.5)\n",
    "dist_erp_diff=as.matrix(dist_erp_diff)\n",
    "diag(dist_erp_diff)=large_number\n",
    "fwrite(dist_erp_diff,sprintf('%s%s/%s_erp_diff_gap_005.csv', distance_path, third_dataset, third_dataset),col.names=F)  "
   ]
  },
  {
   "cell_type": "markdown",
   "metadata": {},
   "source": [
    "### Second difference dataset when shift value is 2"
   ]
  },
  {
   "cell_type": "code",
   "execution_count": 31,
   "metadata": {},
   "outputs": [
    {
     "name": "stderr",
     "output_type": "stream",
     "text": [
      "x being coerced from class: matrix to data.table\n",
      "x being coerced from class: matrix to data.table\n",
      "x being coerced from class: matrix to data.table\n",
      "x being coerced from class: matrix to data.table\n"
     ]
    }
   ],
   "source": [
    "dist_euc_diff_2=as.matrix(dist(diff_train_2))\n",
    "diag(dist_euc_diff_2)=large_number\n",
    "fwrite(dist_euc_diff_2,sprintf('%s%s/%s_euc_diff2_dist.csv', distance_path, third_dataset, third_dataset),col.names=F)\n",
    "\n",
    "dist_dtw_diff_2=as.matrix(dtwDist(diff_train_2))\n",
    "diag(dist_dtw_diff_2)=large_number\n",
    "fwrite(dist_dtw_diff_2,sprintf('%s%s/%s_dtw_diff2_dist.csv', distance_path, third_dataset, third_dataset),col.names=F)\n",
    "\n",
    "dist_lcss_diff_2=TSDatabaseDistances(diff_train_2,distance='lcss',epsilon=0.05)\n",
    "dist_lcss_diff_2=as.matrix(dist_lcss_diff_2)\n",
    "diag(dist_lcss_diff_2)=large_number\n",
    "fwrite(dist_lcss_diff_2,sprintf('%s%s/%s_lcss_diff2_epsilon_005.csv', distance_path, third_dataset, third_dataset),col.names=F)  \n",
    "\n",
    "dist_erp_diff_2=TSDatabaseDistances(diff_train_2,distance='erp',g=0.5)\n",
    "dist_erp_diff_2=as.matrix(dist_erp_diff_2)\n",
    "diag(dist_erp_diff_2)=large_number\n",
    "fwrite(dist_erp_diff_2,sprintf('%s%s/%s_erp_diff2_gap_005.csv', distance_path, third_dataset, third_dataset),col.names=F)  "
   ]
  },
  {
   "cell_type": "markdown",
   "metadata": {},
   "source": [
    "<a id=\"9\"></a>\n",
    "## PAA Datasets"
   ]
  },
  {
   "cell_type": "markdown",
   "metadata": {},
   "source": [
    "### First PAA dataset when segment length value is 4"
   ]
  },
  {
   "cell_type": "code",
   "execution_count": 32,
   "metadata": {},
   "outputs": [
    {
     "name": "stderr",
     "output_type": "stream",
     "text": [
      "x being coerced from class: matrix to data.table\n",
      "x being coerced from class: matrix to data.table\n",
      "x being coerced from class: matrix to data.table\n",
      "x being coerced from class: matrix to data.table\n"
     ]
    }
   ],
   "source": [
    "dist_euc_paa=as.matrix(dist(paa_train))\n",
    "diag(dist_euc_paa)=large_number\n",
    "fwrite(dist_euc_paa,sprintf('%s%s/%s_euc_paa_dist.csv', distance_path, third_dataset, third_dataset),col.names=F)\n",
    "\n",
    "dist_dtw_paa=as.matrix(dtwDist(paa_train))\n",
    "diag(dist_dtw_paa)=large_number\n",
    "fwrite(dist_dtw_paa,sprintf('%s%s/%s_dtw_paa_dist.csv', distance_path, third_dataset, third_dataset),col.names=F)\n",
    "\n",
    "dist_lcss_paa=TSDatabaseDistances(paa_train,distance='lcss',epsilon=0.05)\n",
    "dist_lcss_paa=as.matrix(dist_lcss_paa)\n",
    "diag(dist_lcss_paa)=large_number\n",
    "fwrite(dist_lcss_paa,sprintf('%s%s/%s_lcss_paa_epsilon_005.csv', distance_path, third_dataset, third_dataset),col.names=F)  \n",
    "\n",
    "dist_erp_paa=TSDatabaseDistances(paa_train,distance='erp',g=0.5)\n",
    "dist_erp_paa=as.matrix(dist_erp_paa)\n",
    "diag(dist_erp_paa)=large_number\n",
    "fwrite(dist_erp_paa,sprintf('%s%s/%s_erp_paa_gap_005.csv', distance_path, third_dataset, third_dataset),col.names=F)  "
   ]
  },
  {
   "cell_type": "markdown",
   "metadata": {},
   "source": [
    "### Second PAA dataset when segment length value is 8"
   ]
  },
  {
   "cell_type": "code",
   "execution_count": 33,
   "metadata": {},
   "outputs": [
    {
     "name": "stderr",
     "output_type": "stream",
     "text": [
      "x being coerced from class: matrix to data.table\n",
      "x being coerced from class: matrix to data.table\n",
      "x being coerced from class: matrix to data.table\n",
      "x being coerced from class: matrix to data.table\n"
     ]
    }
   ],
   "source": [
    "dist_euc_paa_2=as.matrix(dist(paa_train_2))\n",
    "diag(dist_euc_paa_2)=large_number\n",
    "fwrite(dist_euc_paa_2,sprintf('%s%s/%s_euc_paa2_dist.csv', distance_path, third_dataset, third_dataset),col.names=F)\n",
    "\n",
    "dist_dtw_paa_2=as.matrix(dtwDist(paa_train_2))\n",
    "diag(dist_dtw_paa_2)=large_number\n",
    "fwrite(dist_dtw_paa_2,sprintf('%s%s/%s_dtw_paa2_dist.csv', distance_path, third_dataset, third_dataset),col.names=F)\n",
    "\n",
    "dist_lcss_paa_2=TSDatabaseDistances(paa_train_2,distance='lcss',epsilon=0.05)\n",
    "dist_lcss_paa_2=as.matrix(dist_lcss_paa_2)\n",
    "diag(dist_lcss_paa_2)=large_number\n",
    "fwrite(dist_lcss_paa_2,sprintf('%s%s/%s_lcss_paa2_epsilon_005.csv', distance_path, third_dataset, third_dataset),col.names=F)  \n",
    "\n",
    "dist_erp_paa_2=TSDatabaseDistances(paa_train_2,distance='erp',g=0.5)\n",
    "dist_erp_paa_2=as.matrix(dist_erp_paa_2)\n",
    "diag(dist_erp_paa_2)=large_number\n",
    "fwrite(dist_erp_paa_2,sprintf('%s%s/%s_erp_paa2_gap_005.csv', distance_path, third_dataset, third_dataset),col.names=F)  "
   ]
  },
  {
   "cell_type": "markdown",
   "metadata": {},
   "source": [
    "### To store obtained distance datasetes in a list"
   ]
  },
  {
   "cell_type": "code",
   "execution_count": 34,
   "metadata": {},
   "outputs": [],
   "source": [
    "dist_folder=sprintf('%s%s', distance_path, third_dataset)\n",
    "dist_files=list.files(dist_folder, full.names=T)"
   ]
  },
  {
   "cell_type": "code",
   "execution_count": 35,
   "metadata": {},
   "outputs": [
    {
     "data": {
      "text/html": [
       "<ol class=list-inline>\n",
       "\t<li>'C:/Users/bahad/GitHub/IE48B/Homework3/Distances/Beef/Beef_dtw_diff_dist.csv'</li>\n",
       "\t<li>'C:/Users/bahad/GitHub/IE48B/Homework3/Distances/Beef/Beef_dtw_diff2_dist.csv'</li>\n",
       "\t<li>'C:/Users/bahad/GitHub/IE48B/Homework3/Distances/Beef/Beef_dtw_paa_dist.csv'</li>\n",
       "\t<li>'C:/Users/bahad/GitHub/IE48B/Homework3/Distances/Beef/Beef_dtw_paa2_dist.csv'</li>\n",
       "\t<li>'C:/Users/bahad/GitHub/IE48B/Homework3/Distances/Beef/Beef_dtw_raw_dist.csv'</li>\n",
       "\t<li>'C:/Users/bahad/GitHub/IE48B/Homework3/Distances/Beef/Beef_erp_diff_gap_005.csv'</li>\n",
       "\t<li>'C:/Users/bahad/GitHub/IE48B/Homework3/Distances/Beef/Beef_erp_diff2_gap_005.csv'</li>\n",
       "\t<li>'C:/Users/bahad/GitHub/IE48B/Homework3/Distances/Beef/Beef_erp_paa_gap_005.csv'</li>\n",
       "\t<li>'C:/Users/bahad/GitHub/IE48B/Homework3/Distances/Beef/Beef_erp_paa2_gap_005.csv'</li>\n",
       "\t<li>'C:/Users/bahad/GitHub/IE48B/Homework3/Distances/Beef/Beef_erp_raw_gap_005.csv'</li>\n",
       "\t<li>'C:/Users/bahad/GitHub/IE48B/Homework3/Distances/Beef/Beef_euc_diff_dist.csv'</li>\n",
       "\t<li>'C:/Users/bahad/GitHub/IE48B/Homework3/Distances/Beef/Beef_euc_diff2_dist.csv'</li>\n",
       "\t<li>'C:/Users/bahad/GitHub/IE48B/Homework3/Distances/Beef/Beef_euc_paa_dist.csv'</li>\n",
       "\t<li>'C:/Users/bahad/GitHub/IE48B/Homework3/Distances/Beef/Beef_euc_paa2_dist.csv'</li>\n",
       "\t<li>'C:/Users/bahad/GitHub/IE48B/Homework3/Distances/Beef/Beef_euc_raw_dist.csv'</li>\n",
       "\t<li>'C:/Users/bahad/GitHub/IE48B/Homework3/Distances/Beef/Beef_lcss_diff_epsilon_005.csv'</li>\n",
       "\t<li>'C:/Users/bahad/GitHub/IE48B/Homework3/Distances/Beef/Beef_lcss_diff2_epsilon_005.csv'</li>\n",
       "\t<li>'C:/Users/bahad/GitHub/IE48B/Homework3/Distances/Beef/Beef_lcss_paa_epsilon_005.csv'</li>\n",
       "\t<li>'C:/Users/bahad/GitHub/IE48B/Homework3/Distances/Beef/Beef_lcss_paa2_epsilon_005.csv'</li>\n",
       "\t<li>'C:/Users/bahad/GitHub/IE48B/Homework3/Distances/Beef/Beef_lcss_raw_epsilon_005.csv'</li>\n",
       "</ol>\n"
      ],
      "text/latex": [
       "\\begin{enumerate*}\n",
       "\\item 'C:/Users/bahad/GitHub/IE48B/Homework3/Distances/Beef/Beef\\_dtw\\_diff\\_dist.csv'\n",
       "\\item 'C:/Users/bahad/GitHub/IE48B/Homework3/Distances/Beef/Beef\\_dtw\\_diff2\\_dist.csv'\n",
       "\\item 'C:/Users/bahad/GitHub/IE48B/Homework3/Distances/Beef/Beef\\_dtw\\_paa\\_dist.csv'\n",
       "\\item 'C:/Users/bahad/GitHub/IE48B/Homework3/Distances/Beef/Beef\\_dtw\\_paa2\\_dist.csv'\n",
       "\\item 'C:/Users/bahad/GitHub/IE48B/Homework3/Distances/Beef/Beef\\_dtw\\_raw\\_dist.csv'\n",
       "\\item 'C:/Users/bahad/GitHub/IE48B/Homework3/Distances/Beef/Beef\\_erp\\_diff\\_gap\\_005.csv'\n",
       "\\item 'C:/Users/bahad/GitHub/IE48B/Homework3/Distances/Beef/Beef\\_erp\\_diff2\\_gap\\_005.csv'\n",
       "\\item 'C:/Users/bahad/GitHub/IE48B/Homework3/Distances/Beef/Beef\\_erp\\_paa\\_gap\\_005.csv'\n",
       "\\item 'C:/Users/bahad/GitHub/IE48B/Homework3/Distances/Beef/Beef\\_erp\\_paa2\\_gap\\_005.csv'\n",
       "\\item 'C:/Users/bahad/GitHub/IE48B/Homework3/Distances/Beef/Beef\\_erp\\_raw\\_gap\\_005.csv'\n",
       "\\item 'C:/Users/bahad/GitHub/IE48B/Homework3/Distances/Beef/Beef\\_euc\\_diff\\_dist.csv'\n",
       "\\item 'C:/Users/bahad/GitHub/IE48B/Homework3/Distances/Beef/Beef\\_euc\\_diff2\\_dist.csv'\n",
       "\\item 'C:/Users/bahad/GitHub/IE48B/Homework3/Distances/Beef/Beef\\_euc\\_paa\\_dist.csv'\n",
       "\\item 'C:/Users/bahad/GitHub/IE48B/Homework3/Distances/Beef/Beef\\_euc\\_paa2\\_dist.csv'\n",
       "\\item 'C:/Users/bahad/GitHub/IE48B/Homework3/Distances/Beef/Beef\\_euc\\_raw\\_dist.csv'\n",
       "\\item 'C:/Users/bahad/GitHub/IE48B/Homework3/Distances/Beef/Beef\\_lcss\\_diff\\_epsilon\\_005.csv'\n",
       "\\item 'C:/Users/bahad/GitHub/IE48B/Homework3/Distances/Beef/Beef\\_lcss\\_diff2\\_epsilon\\_005.csv'\n",
       "\\item 'C:/Users/bahad/GitHub/IE48B/Homework3/Distances/Beef/Beef\\_lcss\\_paa\\_epsilon\\_005.csv'\n",
       "\\item 'C:/Users/bahad/GitHub/IE48B/Homework3/Distances/Beef/Beef\\_lcss\\_paa2\\_epsilon\\_005.csv'\n",
       "\\item 'C:/Users/bahad/GitHub/IE48B/Homework3/Distances/Beef/Beef\\_lcss\\_raw\\_epsilon\\_005.csv'\n",
       "\\end{enumerate*}\n"
      ],
      "text/markdown": [
       "1. 'C:/Users/bahad/GitHub/IE48B/Homework3/Distances/Beef/Beef_dtw_diff_dist.csv'\n",
       "2. 'C:/Users/bahad/GitHub/IE48B/Homework3/Distances/Beef/Beef_dtw_diff2_dist.csv'\n",
       "3. 'C:/Users/bahad/GitHub/IE48B/Homework3/Distances/Beef/Beef_dtw_paa_dist.csv'\n",
       "4. 'C:/Users/bahad/GitHub/IE48B/Homework3/Distances/Beef/Beef_dtw_paa2_dist.csv'\n",
       "5. 'C:/Users/bahad/GitHub/IE48B/Homework3/Distances/Beef/Beef_dtw_raw_dist.csv'\n",
       "6. 'C:/Users/bahad/GitHub/IE48B/Homework3/Distances/Beef/Beef_erp_diff_gap_005.csv'\n",
       "7. 'C:/Users/bahad/GitHub/IE48B/Homework3/Distances/Beef/Beef_erp_diff2_gap_005.csv'\n",
       "8. 'C:/Users/bahad/GitHub/IE48B/Homework3/Distances/Beef/Beef_erp_paa_gap_005.csv'\n",
       "9. 'C:/Users/bahad/GitHub/IE48B/Homework3/Distances/Beef/Beef_erp_paa2_gap_005.csv'\n",
       "10. 'C:/Users/bahad/GitHub/IE48B/Homework3/Distances/Beef/Beef_erp_raw_gap_005.csv'\n",
       "11. 'C:/Users/bahad/GitHub/IE48B/Homework3/Distances/Beef/Beef_euc_diff_dist.csv'\n",
       "12. 'C:/Users/bahad/GitHub/IE48B/Homework3/Distances/Beef/Beef_euc_diff2_dist.csv'\n",
       "13. 'C:/Users/bahad/GitHub/IE48B/Homework3/Distances/Beef/Beef_euc_paa_dist.csv'\n",
       "14. 'C:/Users/bahad/GitHub/IE48B/Homework3/Distances/Beef/Beef_euc_paa2_dist.csv'\n",
       "15. 'C:/Users/bahad/GitHub/IE48B/Homework3/Distances/Beef/Beef_euc_raw_dist.csv'\n",
       "16. 'C:/Users/bahad/GitHub/IE48B/Homework3/Distances/Beef/Beef_lcss_diff_epsilon_005.csv'\n",
       "17. 'C:/Users/bahad/GitHub/IE48B/Homework3/Distances/Beef/Beef_lcss_diff2_epsilon_005.csv'\n",
       "18. 'C:/Users/bahad/GitHub/IE48B/Homework3/Distances/Beef/Beef_lcss_paa_epsilon_005.csv'\n",
       "19. 'C:/Users/bahad/GitHub/IE48B/Homework3/Distances/Beef/Beef_lcss_paa2_epsilon_005.csv'\n",
       "20. 'C:/Users/bahad/GitHub/IE48B/Homework3/Distances/Beef/Beef_lcss_raw_epsilon_005.csv'\n",
       "\n",
       "\n"
      ],
      "text/plain": [
       " [1] \"C:/Users/bahad/GitHub/IE48B/Homework3/Distances/Beef/Beef_dtw_diff_dist.csv\"         \n",
       " [2] \"C:/Users/bahad/GitHub/IE48B/Homework3/Distances/Beef/Beef_dtw_diff2_dist.csv\"        \n",
       " [3] \"C:/Users/bahad/GitHub/IE48B/Homework3/Distances/Beef/Beef_dtw_paa_dist.csv\"          \n",
       " [4] \"C:/Users/bahad/GitHub/IE48B/Homework3/Distances/Beef/Beef_dtw_paa2_dist.csv\"         \n",
       " [5] \"C:/Users/bahad/GitHub/IE48B/Homework3/Distances/Beef/Beef_dtw_raw_dist.csv\"          \n",
       " [6] \"C:/Users/bahad/GitHub/IE48B/Homework3/Distances/Beef/Beef_erp_diff_gap_005.csv\"      \n",
       " [7] \"C:/Users/bahad/GitHub/IE48B/Homework3/Distances/Beef/Beef_erp_diff2_gap_005.csv\"     \n",
       " [8] \"C:/Users/bahad/GitHub/IE48B/Homework3/Distances/Beef/Beef_erp_paa_gap_005.csv\"       \n",
       " [9] \"C:/Users/bahad/GitHub/IE48B/Homework3/Distances/Beef/Beef_erp_paa2_gap_005.csv\"      \n",
       "[10] \"C:/Users/bahad/GitHub/IE48B/Homework3/Distances/Beef/Beef_erp_raw_gap_005.csv\"       \n",
       "[11] \"C:/Users/bahad/GitHub/IE48B/Homework3/Distances/Beef/Beef_euc_diff_dist.csv\"         \n",
       "[12] \"C:/Users/bahad/GitHub/IE48B/Homework3/Distances/Beef/Beef_euc_diff2_dist.csv\"        \n",
       "[13] \"C:/Users/bahad/GitHub/IE48B/Homework3/Distances/Beef/Beef_euc_paa_dist.csv\"          \n",
       "[14] \"C:/Users/bahad/GitHub/IE48B/Homework3/Distances/Beef/Beef_euc_paa2_dist.csv\"         \n",
       "[15] \"C:/Users/bahad/GitHub/IE48B/Homework3/Distances/Beef/Beef_euc_raw_dist.csv\"          \n",
       "[16] \"C:/Users/bahad/GitHub/IE48B/Homework3/Distances/Beef/Beef_lcss_diff_epsilon_005.csv\" \n",
       "[17] \"C:/Users/bahad/GitHub/IE48B/Homework3/Distances/Beef/Beef_lcss_diff2_epsilon_005.csv\"\n",
       "[18] \"C:/Users/bahad/GitHub/IE48B/Homework3/Distances/Beef/Beef_lcss_paa_epsilon_005.csv\"  \n",
       "[19] \"C:/Users/bahad/GitHub/IE48B/Homework3/Distances/Beef/Beef_lcss_paa2_epsilon_005.csv\" \n",
       "[20] \"C:/Users/bahad/GitHub/IE48B/Homework3/Distances/Beef/Beef_lcss_raw_epsilon_005.csv\"  "
      ]
     },
     "metadata": {},
     "output_type": "display_data"
    }
   ],
   "source": [
    "dist_files"
   ]
  },
  {
   "cell_type": "code",
   "execution_count": null,
   "metadata": {},
   "outputs": [],
   "source": []
  },
  {
   "cell_type": "code",
   "execution_count": null,
   "metadata": {},
   "outputs": [],
   "source": []
  },
  {
   "cell_type": "markdown",
   "metadata": {},
   "source": [
    "<a id=\"10\"></a>\n",
    "# Main Model"
   ]
  },
  {
   "cell_type": "code",
   "execution_count": 36,
   "metadata": {},
   "outputs": [],
   "source": [
    "k_levels=c(1,5,10)\n",
    "approach_file=list.files(dist_folder)"
   ]
  },
  {
   "cell_type": "code",
   "execution_count": 37,
   "metadata": {},
   "outputs": [],
   "source": [
    "result=vector('list',length(dist_files)*nof_rep*n_fold*length(k_levels))"
   ]
  },
  {
   "cell_type": "code",
   "execution_count": 38,
   "metadata": {},
   "outputs": [
    {
     "name": "stdout",
     "output_type": "stream",
     "text": [
      "[1] \"C:/Users/bahad/GitHub/IE48B/Homework3/Distances/Beef/Beef_dtw_diff_dist.csv\"\n",
      "[1] \"C:/Users/bahad/GitHub/IE48B/Homework3/Distances/Beef/Beef_dtw_diff2_dist.csv\"\n",
      "[1] \"C:/Users/bahad/GitHub/IE48B/Homework3/Distances/Beef/Beef_dtw_paa_dist.csv\"\n",
      "[1] \"C:/Users/bahad/GitHub/IE48B/Homework3/Distances/Beef/Beef_dtw_paa2_dist.csv\"\n",
      "[1] \"C:/Users/bahad/GitHub/IE48B/Homework3/Distances/Beef/Beef_dtw_raw_dist.csv\"\n",
      "[1] \"C:/Users/bahad/GitHub/IE48B/Homework3/Distances/Beef/Beef_erp_diff_gap_005.csv\"\n",
      "[1] \"C:/Users/bahad/GitHub/IE48B/Homework3/Distances/Beef/Beef_erp_diff2_gap_005.csv\"\n",
      "[1] \"C:/Users/bahad/GitHub/IE48B/Homework3/Distances/Beef/Beef_erp_paa_gap_005.csv\"\n",
      "[1] \"C:/Users/bahad/GitHub/IE48B/Homework3/Distances/Beef/Beef_erp_paa2_gap_005.csv\"\n",
      "[1] \"C:/Users/bahad/GitHub/IE48B/Homework3/Distances/Beef/Beef_erp_raw_gap_005.csv\"\n",
      "[1] \"C:/Users/bahad/GitHub/IE48B/Homework3/Distances/Beef/Beef_euc_diff_dist.csv\"\n",
      "[1] \"C:/Users/bahad/GitHub/IE48B/Homework3/Distances/Beef/Beef_euc_diff2_dist.csv\"\n",
      "[1] \"C:/Users/bahad/GitHub/IE48B/Homework3/Distances/Beef/Beef_euc_paa_dist.csv\"\n",
      "[1] \"C:/Users/bahad/GitHub/IE48B/Homework3/Distances/Beef/Beef_euc_paa2_dist.csv\"\n",
      "[1] \"C:/Users/bahad/GitHub/IE48B/Homework3/Distances/Beef/Beef_euc_raw_dist.csv\"\n",
      "[1] \"C:/Users/bahad/GitHub/IE48B/Homework3/Distances/Beef/Beef_lcss_diff_epsilon_005.csv\"\n",
      "[1] \"C:/Users/bahad/GitHub/IE48B/Homework3/Distances/Beef/Beef_lcss_diff2_epsilon_005.csv\"\n",
      "[1] \"C:/Users/bahad/GitHub/IE48B/Homework3/Distances/Beef/Beef_lcss_paa_epsilon_005.csv\"\n",
      "[1] \"C:/Users/bahad/GitHub/IE48B/Homework3/Distances/Beef/Beef_lcss_paa2_epsilon_005.csv\"\n",
      "[1] \"C:/Users/bahad/GitHub/IE48B/Homework3/Distances/Beef/Beef_lcss_raw_epsilon_005.csv\"\n"
     ]
    }
   ],
   "source": [
    "iter=1\n",
    "for(m in 1:length(dist_files)){ #\n",
    "    print(dist_files[m])\n",
    "    dist_mat=as.matrix(fread(dist_files[m],header=FALSE))\n",
    "    for(i in 1:nof_rep){\n",
    "        this_fold=cv_indices[[i]]\n",
    "        for(j in 1:n_fold){\n",
    "            test_indices=this_fold[[j]]\n",
    "            for(k in 1:length(k_levels)){\n",
    "                current_k=k_levels[k]\n",
    "                current_fold=nn_classify_cv(dist_mat,trainclass,test_indices,k=current_k)\n",
    "                accuracy=sum(trainclass[test_indices]==current_fold$prediction$predicted)/length(test_indices)\n",
    "                tmp=data.table(approach=approach_file[m],repid=i,foldid=j,\n",
    "                               k=current_k,acc=accuracy)\n",
    "                result[[iter]]=tmp\n",
    "                iter=iter+1\n",
    "            }\n",
    "            \n",
    "        }\n",
    "    \n",
    "    }   \n",
    "    \n",
    "}"
   ]
  },
  {
   "cell_type": "markdown",
   "metadata": {},
   "source": [
    "<a id=\"11\"></a>\n",
    "# Result of Models"
   ]
  },
  {
   "cell_type": "code",
   "execution_count": 39,
   "metadata": {},
   "outputs": [
    {
     "data": {
      "text/html": [
       "<table>\n",
       "<thead><tr><th scope=col>approach</th><th scope=col>repid</th><th scope=col>foldid</th><th scope=col>k</th><th scope=col>acc</th></tr></thead>\n",
       "<tbody>\n",
       "\t<tr><td>Beef_dtw_diff_dist.csv</td><td>1                     </td><td>1                     </td><td> 1                    </td><td>0.0000000             </td></tr>\n",
       "\t<tr><td>Beef_dtw_diff_dist.csv</td><td>1                     </td><td>1                     </td><td> 5                    </td><td>0.0000000             </td></tr>\n",
       "\t<tr><td>Beef_dtw_diff_dist.csv</td><td>1                     </td><td>1                     </td><td>10                    </td><td>0.0000000             </td></tr>\n",
       "\t<tr><td>Beef_dtw_diff_dist.csv</td><td>1                     </td><td>2                     </td><td> 1                    </td><td>0.0000000             </td></tr>\n",
       "\t<tr><td>Beef_dtw_diff_dist.csv</td><td>1                     </td><td>2                     </td><td> 5                    </td><td>0.6666667             </td></tr>\n",
       "\t<tr><td>Beef_dtw_diff_dist.csv</td><td>1                     </td><td>2                     </td><td>10                    </td><td>0.0000000             </td></tr>\n",
       "</tbody>\n",
       "</table>\n"
      ],
      "text/latex": [
       "\\begin{tabular}{r|lllll}\n",
       " approach & repid & foldid & k & acc\\\\\n",
       "\\hline\n",
       "\t Beef\\_dtw\\_diff\\_dist.csv & 1                            & 1                            &  1                           & 0.0000000                   \\\\\n",
       "\t Beef\\_dtw\\_diff\\_dist.csv & 1                            & 1                            &  5                           & 0.0000000                   \\\\\n",
       "\t Beef\\_dtw\\_diff\\_dist.csv & 1                            & 1                            & 10                           & 0.0000000                   \\\\\n",
       "\t Beef\\_dtw\\_diff\\_dist.csv & 1                            & 2                            &  1                           & 0.0000000                   \\\\\n",
       "\t Beef\\_dtw\\_diff\\_dist.csv & 1                            & 2                            &  5                           & 0.6666667                   \\\\\n",
       "\t Beef\\_dtw\\_diff\\_dist.csv & 1                            & 2                            & 10                           & 0.0000000                   \\\\\n",
       "\\end{tabular}\n"
      ],
      "text/markdown": [
       "\n",
       "| approach | repid | foldid | k | acc |\n",
       "|---|---|---|---|---|\n",
       "| Beef_dtw_diff_dist.csv | 1                      | 1                      |  1                     | 0.0000000              |\n",
       "| Beef_dtw_diff_dist.csv | 1                      | 1                      |  5                     | 0.0000000              |\n",
       "| Beef_dtw_diff_dist.csv | 1                      | 1                      | 10                     | 0.0000000              |\n",
       "| Beef_dtw_diff_dist.csv | 1                      | 2                      |  1                     | 0.0000000              |\n",
       "| Beef_dtw_diff_dist.csv | 1                      | 2                      |  5                     | 0.6666667              |\n",
       "| Beef_dtw_diff_dist.csv | 1                      | 2                      | 10                     | 0.0000000              |\n",
       "\n"
      ],
      "text/plain": [
       "  approach               repid foldid k  acc      \n",
       "1 Beef_dtw_diff_dist.csv 1     1       1 0.0000000\n",
       "2 Beef_dtw_diff_dist.csv 1     1       5 0.0000000\n",
       "3 Beef_dtw_diff_dist.csv 1     1      10 0.0000000\n",
       "4 Beef_dtw_diff_dist.csv 1     2       1 0.0000000\n",
       "5 Beef_dtw_diff_dist.csv 1     2       5 0.6666667\n",
       "6 Beef_dtw_diff_dist.csv 1     2      10 0.0000000"
      ]
     },
     "metadata": {},
     "output_type": "display_data"
    }
   ],
   "source": [
    "dataframe_result=rbindlist(result)\n",
    "head(dataframe_result)"
   ]
  },
  {
   "cell_type": "markdown",
   "metadata": {},
   "source": [
    "In this dataset, result of each fold exists in this dataframe. repid and foldid represent which repetition and fold respectively. "
   ]
  },
  {
   "cell_type": "markdown",
   "metadata": {},
   "source": [
    "### Accumulated Datasets"
   ]
  },
  {
   "cell_type": "code",
   "execution_count": 40,
   "metadata": {
    "scrolled": true
   },
   "outputs": [],
   "source": [
    "acc_res=dataframe_result[,list(avg_acc=mean(acc),sdev_acc=sd(acc), repid=max(repid), foldid=max(foldid), \n",
    "                                   result_count=.N),by=list(approach,k)]\n",
    "acc_res_ordered=acc_res[order(avg_acc,decreasing = TRUE)]"
   ]
  },
  {
   "cell_type": "markdown",
   "metadata": {},
   "source": [
    "Accumulated dataset are ordered by avg_acc value. "
   ]
  },
  {
   "cell_type": "code",
   "execution_count": 41,
   "metadata": {},
   "outputs": [
    {
     "data": {
      "text/html": [
       "<table>\n",
       "<thead><tr><th scope=col>approach</th><th scope=col>k</th><th scope=col>avg_acc</th><th scope=col>sdev_acc</th><th scope=col>repid</th><th scope=col>foldid</th><th scope=col>result_count</th></tr></thead>\n",
       "<tbody>\n",
       "\t<tr><td>Beef_euc_diff_dist.csv         </td><td> 1                             </td><td>0.56000000                     </td><td>0.2375231                      </td><td>5                              </td><td>10                             </td><td>50                             </td></tr>\n",
       "\t<tr><td>Beef_erp_diff2_gap_005.csv     </td><td> 1                             </td><td>0.52666667                     </td><td>0.2616016                      </td><td>5                              </td><td>10                             </td><td>50                             </td></tr>\n",
       "\t<tr><td>Beef_erp_diff_gap_005.csv      </td><td> 1                             </td><td>0.52666667                     </td><td>0.2242650                      </td><td>5                              </td><td>10                             </td><td>50                             </td></tr>\n",
       "\t<tr><td>Beef_dtw_raw_dist.csv          </td><td> 1                             </td><td>0.50000000                     </td><td>0.2876916                      </td><td>5                              </td><td>10                             </td><td>50                             </td></tr>\n",
       "\t<tr><td>Beef_euc_paa_dist.csv          </td><td> 1                             </td><td>0.50000000                     </td><td>0.3104382                      </td><td>5                              </td><td>10                             </td><td>50                             </td></tr>\n",
       "\t<tr><td>Beef_euc_paa2_dist.csv         </td><td> 1                             </td><td>0.50000000                     </td><td>0.3104382                      </td><td>5                              </td><td>10                             </td><td>50                             </td></tr>\n",
       "\t<tr><td>Beef_euc_raw_dist.csv          </td><td> 1                             </td><td>0.50000000                     </td><td>0.3104382                      </td><td>5                              </td><td>10                             </td><td>50                             </td></tr>\n",
       "\t<tr><td>Beef_dtw_diff2_dist.csv        </td><td> 1                             </td><td>0.50000000                     </td><td>0.2629848                      </td><td>5                              </td><td>10                             </td><td>50                             </td></tr>\n",
       "\t<tr><td>Beef_euc_diff2_dist.csv        </td><td> 1                             </td><td>0.49333333                     </td><td>0.2628985                      </td><td>5                              </td><td>10                             </td><td>50                             </td></tr>\n",
       "\t<tr><td>Beef_erp_diff2_gap_005.csv     </td><td> 5                             </td><td>0.48000000                     </td><td>0.2947769                      </td><td>5                              </td><td>10                             </td><td>50                             </td></tr>\n",
       "\t<tr><td>Beef_euc_diff2_dist.csv        </td><td> 5                             </td><td>0.44000000                     </td><td>0.2375231                      </td><td>5                              </td><td>10                             </td><td>50                             </td></tr>\n",
       "\t<tr><td>Beef_erp_paa_gap_005.csv       </td><td> 1                             </td><td>0.43333333                     </td><td>0.3176587                      </td><td>5                              </td><td>10                             </td><td>50                             </td></tr>\n",
       "\t<tr><td>Beef_erp_paa2_gap_005.csv      </td><td> 1                             </td><td>0.43333333                     </td><td>0.3176587                      </td><td>5                              </td><td>10                             </td><td>50                             </td></tr>\n",
       "\t<tr><td>Beef_erp_raw_gap_005.csv       </td><td> 1                             </td><td>0.43333333                     </td><td>0.3176587                      </td><td>5                              </td><td>10                             </td><td>50                             </td></tr>\n",
       "\t<tr><td>Beef_euc_diff_dist.csv         </td><td> 5                             </td><td>0.43333333                     </td><td>0.2156044                      </td><td>5                              </td><td>10                             </td><td>50                             </td></tr>\n",
       "\t<tr><td>Beef_erp_diff_gap_005.csv      </td><td> 5                             </td><td>0.40666667                     </td><td>0.2633295                      </td><td>5                              </td><td>10                             </td><td>50                             </td></tr>\n",
       "\t<tr><td>Beef_dtw_paa_dist.csv          </td><td> 1                             </td><td>0.38666667                     </td><td>0.2551954                      </td><td>5                              </td><td>10                             </td><td>50                             </td></tr>\n",
       "\t<tr><td>Beef_dtw_diff_dist.csv         </td><td> 1                             </td><td>0.38000000                     </td><td>0.2694582                      </td><td>5                              </td><td>10                             </td><td>50                             </td></tr>\n",
       "\t<tr><td>Beef_euc_paa2_dist.csv         </td><td> 5                             </td><td>0.37333333                     </td><td>0.2576714                      </td><td>5                              </td><td>10                             </td><td>50                             </td></tr>\n",
       "\t<tr><td>Beef_dtw_paa2_dist.csv         </td><td> 1                             </td><td>0.36666667                     </td><td>0.2796986                      </td><td>5                              </td><td>10                             </td><td>50                             </td></tr>\n",
       "\t<tr><td>Beef_dtw_diff2_dist.csv        </td><td> 5                             </td><td>0.34666667                     </td><td>0.2604723                      </td><td>5                              </td><td>10                             </td><td>50                             </td></tr>\n",
       "\t<tr><td>Beef_euc_paa_dist.csv          </td><td> 5                             </td><td>0.34666667                     </td><td>0.2604723                      </td><td>5                              </td><td>10                             </td><td>50                             </td></tr>\n",
       "\t<tr><td>Beef_euc_raw_dist.csv          </td><td> 5                             </td><td>0.34666667                     </td><td>0.2604723                      </td><td>5                              </td><td>10                             </td><td>50                             </td></tr>\n",
       "\t<tr><td>Beef_dtw_raw_dist.csv          </td><td> 5                             </td><td>0.33333333                     </td><td>0.2693740                      </td><td>5                              </td><td>10                             </td><td>50                             </td></tr>\n",
       "\t<tr><td>Beef_erp_paa_gap_005.csv       </td><td> 5                             </td><td>0.31333333                     </td><td>0.2643608                      </td><td>5                              </td><td>10                             </td><td>50                             </td></tr>\n",
       "\t<tr><td>Beef_erp_paa2_gap_005.csv      </td><td> 5                             </td><td>0.31333333                     </td><td>0.2643608                      </td><td>5                              </td><td>10                             </td><td>50                             </td></tr>\n",
       "\t<tr><td>Beef_erp_raw_gap_005.csv       </td><td> 5                             </td><td>0.31333333                     </td><td>0.2643608                      </td><td>5                              </td><td>10                             </td><td>50                             </td></tr>\n",
       "\t<tr><td>Beef_dtw_diff_dist.csv         </td><td> 5                             </td><td>0.27333333                     </td><td>0.2398979                      </td><td>5                              </td><td>10                             </td><td>50                             </td></tr>\n",
       "\t<tr><td>Beef_dtw_paa_dist.csv          </td><td> 5                             </td><td>0.26000000                     </td><td>0.2957752                      </td><td>5                              </td><td>10                             </td><td>50                             </td></tr>\n",
       "\t<tr><td>Beef_dtw_paa2_dist.csv         </td><td> 5                             </td><td>0.26000000                     </td><td>0.2800227                      </td><td>5                              </td><td>10                             </td><td>50                             </td></tr>\n",
       "\t<tr><td>Beef_lcss_diff2_epsilon_005.csv</td><td> 1                             </td><td>0.16666667                     </td><td>0.1683588                      </td><td>5                              </td><td>10                             </td><td>50                             </td></tr>\n",
       "\t<tr><td>Beef_lcss_diff2_epsilon_005.csv</td><td>10                             </td><td>0.16666667                     </td><td>0.1683588                      </td><td>5                              </td><td>10                             </td><td>50                             </td></tr>\n",
       "\t<tr><td>Beef_lcss_paa2_epsilon_005.csv </td><td> 1                             </td><td>0.14000000                     </td><td>0.1793159                      </td><td>5                              </td><td>10                             </td><td>50                             </td></tr>\n",
       "\t<tr><td>Beef_euc_paa_dist.csv          </td><td>10                             </td><td>0.13333333                     </td><td>0.1649572                      </td><td>5                              </td><td>10                             </td><td>50                             </td></tr>\n",
       "\t<tr><td>Beef_euc_paa2_dist.csv         </td><td>10                             </td><td>0.13333333                     </td><td>0.1649572                      </td><td>5                              </td><td>10                             </td><td>50                             </td></tr>\n",
       "\t<tr><td>Beef_euc_raw_dist.csv          </td><td>10                             </td><td>0.13333333                     </td><td>0.1649572                      </td><td>5                              </td><td>10                             </td><td>50                             </td></tr>\n",
       "\t<tr><td>Beef_lcss_diff_epsilon_005.csv </td><td> 5                             </td><td>0.13333333                     </td><td>0.1649572                      </td><td>5                              </td><td>10                             </td><td>50                             </td></tr>\n",
       "\t<tr><td>Beef_lcss_diff2_epsilon_005.csv</td><td> 5                             </td><td>0.13333333                     </td><td>0.1649572                      </td><td>5                              </td><td>10                             </td><td>50                             </td></tr>\n",
       "\t<tr><td>Beef_dtw_paa2_dist.csv         </td><td>10                             </td><td>0.12666667                     </td><td>0.1891621                      </td><td>5                              </td><td>10                             </td><td>50                             </td></tr>\n",
       "\t<tr><td>Beef_erp_raw_gap_005.csv       </td><td>10                             </td><td>0.12666667                     </td><td>0.1634381                      </td><td>5                              </td><td>10                             </td><td>50                             </td></tr>\n",
       "\t<tr><td>Beef_dtw_raw_dist.csv          </td><td>10                             </td><td>0.12000000                     </td><td>0.1616244                      </td><td>5                              </td><td>10                             </td><td>50                             </td></tr>\n",
       "\t<tr><td>Beef_erp_diff2_gap_005.csv     </td><td>10                             </td><td>0.10000000                     </td><td>0.1683588                      </td><td>5                              </td><td>10                             </td><td>50                             </td></tr>\n",
       "\t<tr><td>Beef_erp_paa_gap_005.csv       </td><td>10                             </td><td>0.10000000                     </td><td>0.1543033                      </td><td>5                              </td><td>10                             </td><td>50                             </td></tr>\n",
       "\t<tr><td>Beef_erp_paa2_gap_005.csv      </td><td>10                             </td><td>0.10000000                     </td><td>0.1543033                      </td><td>5                              </td><td>10                             </td><td>50                             </td></tr>\n",
       "\t<tr><td>Beef_lcss_diff_epsilon_005.csv </td><td> 1                             </td><td>0.10000000                     </td><td>0.1543033                      </td><td>5                              </td><td>10                             </td><td>50                             </td></tr>\n",
       "\t<tr><td>Beef_lcss_diff_epsilon_005.csv </td><td>10                             </td><td>0.10000000                     </td><td>0.1543033                      </td><td>5                              </td><td>10                             </td><td>50                             </td></tr>\n",
       "\t<tr><td>Beef_lcss_paa2_epsilon_005.csv </td><td> 5                             </td><td>0.10000000                     </td><td>0.1543033                      </td><td>5                              </td><td>10                             </td><td>50                             </td></tr>\n",
       "\t<tr><td>Beef_lcss_paa2_epsilon_005.csv </td><td>10                             </td><td>0.10000000                     </td><td>0.1543033                      </td><td>5                              </td><td>10                             </td><td>50                             </td></tr>\n",
       "\t<tr><td>Beef_dtw_paa_dist.csv          </td><td>10                             </td><td>0.08666667                     </td><td>0.1476958                      </td><td>5                              </td><td>10                             </td><td>50                             </td></tr>\n",
       "\t<tr><td>Beef_erp_diff_gap_005.csv      </td><td>10                             </td><td>0.08000000                     </td><td>0.1438064                      </td><td>5                              </td><td>10                             </td><td>50                             </td></tr>\n",
       "\t<tr><td>Beef_lcss_paa_epsilon_005.csv  </td><td> 1                             </td><td>0.07333333                     </td><td>0.1394840                      </td><td>5                              </td><td>10                             </td><td>50                             </td></tr>\n",
       "\t<tr><td>Beef_euc_diff_dist.csv         </td><td>10                             </td><td>0.06666667                     </td><td>0.1649572                      </td><td>5                              </td><td>10                             </td><td>50                             </td></tr>\n",
       "\t<tr><td>Beef_dtw_diff_dist.csv         </td><td>10                             </td><td>0.06000000                     </td><td>0.1458418                      </td><td>5                              </td><td>10                             </td><td>50                             </td></tr>\n",
       "\t<tr><td>Beef_euc_diff2_dist.csv        </td><td>10                             </td><td>0.06000000                     </td><td>0.1458418                      </td><td>5                              </td><td>10                             </td><td>50                             </td></tr>\n",
       "\t<tr><td>Beef_dtw_diff2_dist.csv        </td><td>10                             </td><td>0.04000000                     </td><td>0.1094202                      </td><td>5                              </td><td>10                             </td><td>50                             </td></tr>\n",
       "\t<tr><td>Beef_lcss_paa_epsilon_005.csv  </td><td> 5                             </td><td>0.03333333                     </td><td>0.1010153                      </td><td>5                              </td><td>10                             </td><td>50                             </td></tr>\n",
       "\t<tr><td>Beef_lcss_paa_epsilon_005.csv  </td><td>10                             </td><td>0.03333333                     </td><td>0.1010153                      </td><td>5                              </td><td>10                             </td><td>50                             </td></tr>\n",
       "\t<tr><td>Beef_lcss_raw_epsilon_005.csv  </td><td> 1                             </td><td>0.03333333                     </td><td>0.1010153                      </td><td>5                              </td><td>10                             </td><td>50                             </td></tr>\n",
       "\t<tr><td>Beef_lcss_raw_epsilon_005.csv  </td><td> 5                             </td><td>0.03333333                     </td><td>0.1010153                      </td><td>5                              </td><td>10                             </td><td>50                             </td></tr>\n",
       "\t<tr><td>Beef_lcss_raw_epsilon_005.csv  </td><td>10                             </td><td>0.03333333                     </td><td>0.1010153                      </td><td>5                              </td><td>10                             </td><td>50                             </td></tr>\n",
       "</tbody>\n",
       "</table>\n"
      ],
      "text/latex": [
       "\\begin{tabular}{r|lllllll}\n",
       " approach & k & avg\\_acc & sdev\\_acc & repid & foldid & result\\_count\\\\\n",
       "\\hline\n",
       "\t Beef\\_euc\\_diff\\_dist.csv          &  1                                    & 0.56000000                            & 0.2375231                             & 5                                     & 10                                    & 50                                   \\\\\n",
       "\t Beef\\_erp\\_diff2\\_gap\\_005.csv      &  1                                      & 0.52666667                              & 0.2616016                               & 5                                       & 10                                      & 50                                     \\\\\n",
       "\t Beef\\_erp\\_diff\\_gap\\_005.csv       &  1                                      & 0.52666667                              & 0.2242650                               & 5                                       & 10                                      & 50                                     \\\\\n",
       "\t Beef\\_dtw\\_raw\\_dist.csv           &  1                                    & 0.50000000                            & 0.2876916                             & 5                                     & 10                                    & 50                                   \\\\\n",
       "\t Beef\\_euc\\_paa\\_dist.csv           &  1                                    & 0.50000000                            & 0.3104382                             & 5                                     & 10                                    & 50                                   \\\\\n",
       "\t Beef\\_euc\\_paa2\\_dist.csv          &  1                                    & 0.50000000                            & 0.3104382                             & 5                                     & 10                                    & 50                                   \\\\\n",
       "\t Beef\\_euc\\_raw\\_dist.csv           &  1                                    & 0.50000000                            & 0.3104382                             & 5                                     & 10                                    & 50                                   \\\\\n",
       "\t Beef\\_dtw\\_diff2\\_dist.csv         &  1                                    & 0.50000000                            & 0.2629848                             & 5                                     & 10                                    & 50                                   \\\\\n",
       "\t Beef\\_euc\\_diff2\\_dist.csv         &  1                                    & 0.49333333                            & 0.2628985                             & 5                                     & 10                                    & 50                                   \\\\\n",
       "\t Beef\\_erp\\_diff2\\_gap\\_005.csv      &  5                                      & 0.48000000                              & 0.2947769                               & 5                                       & 10                                      & 50                                     \\\\\n",
       "\t Beef\\_euc\\_diff2\\_dist.csv         &  5                                    & 0.44000000                            & 0.2375231                             & 5                                     & 10                                    & 50                                   \\\\\n",
       "\t Beef\\_erp\\_paa\\_gap\\_005.csv        &  1                                      & 0.43333333                              & 0.3176587                               & 5                                       & 10                                      & 50                                     \\\\\n",
       "\t Beef\\_erp\\_paa2\\_gap\\_005.csv       &  1                                      & 0.43333333                              & 0.3176587                               & 5                                       & 10                                      & 50                                     \\\\\n",
       "\t Beef\\_erp\\_raw\\_gap\\_005.csv        &  1                                      & 0.43333333                              & 0.3176587                               & 5                                       & 10                                      & 50                                     \\\\\n",
       "\t Beef\\_euc\\_diff\\_dist.csv          &  5                                    & 0.43333333                            & 0.2156044                             & 5                                     & 10                                    & 50                                   \\\\\n",
       "\t Beef\\_erp\\_diff\\_gap\\_005.csv       &  5                                      & 0.40666667                              & 0.2633295                               & 5                                       & 10                                      & 50                                     \\\\\n",
       "\t Beef\\_dtw\\_paa\\_dist.csv           &  1                                    & 0.38666667                            & 0.2551954                             & 5                                     & 10                                    & 50                                   \\\\\n",
       "\t Beef\\_dtw\\_diff\\_dist.csv          &  1                                    & 0.38000000                            & 0.2694582                             & 5                                     & 10                                    & 50                                   \\\\\n",
       "\t Beef\\_euc\\_paa2\\_dist.csv          &  5                                    & 0.37333333                            & 0.2576714                             & 5                                     & 10                                    & 50                                   \\\\\n",
       "\t Beef\\_dtw\\_paa2\\_dist.csv          &  1                                    & 0.36666667                            & 0.2796986                             & 5                                     & 10                                    & 50                                   \\\\\n",
       "\t Beef\\_dtw\\_diff2\\_dist.csv         &  5                                    & 0.34666667                            & 0.2604723                             & 5                                     & 10                                    & 50                                   \\\\\n",
       "\t Beef\\_euc\\_paa\\_dist.csv           &  5                                    & 0.34666667                            & 0.2604723                             & 5                                     & 10                                    & 50                                   \\\\\n",
       "\t Beef\\_euc\\_raw\\_dist.csv           &  5                                    & 0.34666667                            & 0.2604723                             & 5                                     & 10                                    & 50                                   \\\\\n",
       "\t Beef\\_dtw\\_raw\\_dist.csv           &  5                                    & 0.33333333                            & 0.2693740                             & 5                                     & 10                                    & 50                                   \\\\\n",
       "\t Beef\\_erp\\_paa\\_gap\\_005.csv        &  5                                      & 0.31333333                              & 0.2643608                               & 5                                       & 10                                      & 50                                     \\\\\n",
       "\t Beef\\_erp\\_paa2\\_gap\\_005.csv       &  5                                      & 0.31333333                              & 0.2643608                               & 5                                       & 10                                      & 50                                     \\\\\n",
       "\t Beef\\_erp\\_raw\\_gap\\_005.csv        &  5                                      & 0.31333333                              & 0.2643608                               & 5                                       & 10                                      & 50                                     \\\\\n",
       "\t Beef\\_dtw\\_diff\\_dist.csv          &  5                                    & 0.27333333                            & 0.2398979                             & 5                                     & 10                                    & 50                                   \\\\\n",
       "\t Beef\\_dtw\\_paa\\_dist.csv           &  5                                    & 0.26000000                            & 0.2957752                             & 5                                     & 10                                    & 50                                   \\\\\n",
       "\t Beef\\_dtw\\_paa2\\_dist.csv          &  5                                    & 0.26000000                            & 0.2800227                             & 5                                     & 10                                    & 50                                   \\\\\n",
       "\t Beef\\_lcss\\_diff2\\_epsilon\\_005.csv &  1                                      & 0.16666667                              & 0.1683588                               & 5                                       & 10                                      & 50                                     \\\\\n",
       "\t Beef\\_lcss\\_diff2\\_epsilon\\_005.csv & 10                                      & 0.16666667                              & 0.1683588                               & 5                                       & 10                                      & 50                                     \\\\\n",
       "\t Beef\\_lcss\\_paa2\\_epsilon\\_005.csv  &  1                                      & 0.14000000                              & 0.1793159                               & 5                                       & 10                                      & 50                                     \\\\\n",
       "\t Beef\\_euc\\_paa\\_dist.csv           & 10                                    & 0.13333333                            & 0.1649572                             & 5                                     & 10                                    & 50                                   \\\\\n",
       "\t Beef\\_euc\\_paa2\\_dist.csv          & 10                                    & 0.13333333                            & 0.1649572                             & 5                                     & 10                                    & 50                                   \\\\\n",
       "\t Beef\\_euc\\_raw\\_dist.csv           & 10                                    & 0.13333333                            & 0.1649572                             & 5                                     & 10                                    & 50                                   \\\\\n",
       "\t Beef\\_lcss\\_diff\\_epsilon\\_005.csv  &  5                                      & 0.13333333                              & 0.1649572                               & 5                                       & 10                                      & 50                                     \\\\\n",
       "\t Beef\\_lcss\\_diff2\\_epsilon\\_005.csv &  5                                      & 0.13333333                              & 0.1649572                               & 5                                       & 10                                      & 50                                     \\\\\n",
       "\t Beef\\_dtw\\_paa2\\_dist.csv          & 10                                    & 0.12666667                            & 0.1891621                             & 5                                     & 10                                    & 50                                   \\\\\n",
       "\t Beef\\_erp\\_raw\\_gap\\_005.csv        & 10                                      & 0.12666667                              & 0.1634381                               & 5                                       & 10                                      & 50                                     \\\\\n",
       "\t Beef\\_dtw\\_raw\\_dist.csv           & 10                                    & 0.12000000                            & 0.1616244                             & 5                                     & 10                                    & 50                                   \\\\\n",
       "\t Beef\\_erp\\_diff2\\_gap\\_005.csv      & 10                                      & 0.10000000                              & 0.1683588                               & 5                                       & 10                                      & 50                                     \\\\\n",
       "\t Beef\\_erp\\_paa\\_gap\\_005.csv        & 10                                      & 0.10000000                              & 0.1543033                               & 5                                       & 10                                      & 50                                     \\\\\n",
       "\t Beef\\_erp\\_paa2\\_gap\\_005.csv       & 10                                      & 0.10000000                              & 0.1543033                               & 5                                       & 10                                      & 50                                     \\\\\n",
       "\t Beef\\_lcss\\_diff\\_epsilon\\_005.csv  &  1                                      & 0.10000000                              & 0.1543033                               & 5                                       & 10                                      & 50                                     \\\\\n",
       "\t Beef\\_lcss\\_diff\\_epsilon\\_005.csv  & 10                                      & 0.10000000                              & 0.1543033                               & 5                                       & 10                                      & 50                                     \\\\\n",
       "\t Beef\\_lcss\\_paa2\\_epsilon\\_005.csv  &  5                                      & 0.10000000                              & 0.1543033                               & 5                                       & 10                                      & 50                                     \\\\\n",
       "\t Beef\\_lcss\\_paa2\\_epsilon\\_005.csv  & 10                                      & 0.10000000                              & 0.1543033                               & 5                                       & 10                                      & 50                                     \\\\\n",
       "\t Beef\\_dtw\\_paa\\_dist.csv           & 10                                    & 0.08666667                            & 0.1476958                             & 5                                     & 10                                    & 50                                   \\\\\n",
       "\t Beef\\_erp\\_diff\\_gap\\_005.csv       & 10                                      & 0.08000000                              & 0.1438064                               & 5                                       & 10                                      & 50                                     \\\\\n",
       "\t Beef\\_lcss\\_paa\\_epsilon\\_005.csv   &  1                                      & 0.07333333                              & 0.1394840                               & 5                                       & 10                                      & 50                                     \\\\\n",
       "\t Beef\\_euc\\_diff\\_dist.csv          & 10                                    & 0.06666667                            & 0.1649572                             & 5                                     & 10                                    & 50                                   \\\\\n",
       "\t Beef\\_dtw\\_diff\\_dist.csv          & 10                                    & 0.06000000                            & 0.1458418                             & 5                                     & 10                                    & 50                                   \\\\\n",
       "\t Beef\\_euc\\_diff2\\_dist.csv         & 10                                    & 0.06000000                            & 0.1458418                             & 5                                     & 10                                    & 50                                   \\\\\n",
       "\t Beef\\_dtw\\_diff2\\_dist.csv         & 10                                    & 0.04000000                            & 0.1094202                             & 5                                     & 10                                    & 50                                   \\\\\n",
       "\t Beef\\_lcss\\_paa\\_epsilon\\_005.csv   &  5                                      & 0.03333333                              & 0.1010153                               & 5                                       & 10                                      & 50                                     \\\\\n",
       "\t Beef\\_lcss\\_paa\\_epsilon\\_005.csv   & 10                                      & 0.03333333                              & 0.1010153                               & 5                                       & 10                                      & 50                                     \\\\\n",
       "\t Beef\\_lcss\\_raw\\_epsilon\\_005.csv   &  1                                      & 0.03333333                              & 0.1010153                               & 5                                       & 10                                      & 50                                     \\\\\n",
       "\t Beef\\_lcss\\_raw\\_epsilon\\_005.csv   &  5                                      & 0.03333333                              & 0.1010153                               & 5                                       & 10                                      & 50                                     \\\\\n",
       "\t Beef\\_lcss\\_raw\\_epsilon\\_005.csv   & 10                                      & 0.03333333                              & 0.1010153                               & 5                                       & 10                                      & 50                                     \\\\\n",
       "\\end{tabular}\n"
      ],
      "text/markdown": [
       "\n",
       "| approach | k | avg_acc | sdev_acc | repid | foldid | result_count |\n",
       "|---|---|---|---|---|---|---|\n",
       "| Beef_euc_diff_dist.csv          |  1                              | 0.56000000                      | 0.2375231                       | 5                               | 10                              | 50                              |\n",
       "| Beef_erp_diff2_gap_005.csv      |  1                              | 0.52666667                      | 0.2616016                       | 5                               | 10                              | 50                              |\n",
       "| Beef_erp_diff_gap_005.csv       |  1                              | 0.52666667                      | 0.2242650                       | 5                               | 10                              | 50                              |\n",
       "| Beef_dtw_raw_dist.csv           |  1                              | 0.50000000                      | 0.2876916                       | 5                               | 10                              | 50                              |\n",
       "| Beef_euc_paa_dist.csv           |  1                              | 0.50000000                      | 0.3104382                       | 5                               | 10                              | 50                              |\n",
       "| Beef_euc_paa2_dist.csv          |  1                              | 0.50000000                      | 0.3104382                       | 5                               | 10                              | 50                              |\n",
       "| Beef_euc_raw_dist.csv           |  1                              | 0.50000000                      | 0.3104382                       | 5                               | 10                              | 50                              |\n",
       "| Beef_dtw_diff2_dist.csv         |  1                              | 0.50000000                      | 0.2629848                       | 5                               | 10                              | 50                              |\n",
       "| Beef_euc_diff2_dist.csv         |  1                              | 0.49333333                      | 0.2628985                       | 5                               | 10                              | 50                              |\n",
       "| Beef_erp_diff2_gap_005.csv      |  5                              | 0.48000000                      | 0.2947769                       | 5                               | 10                              | 50                              |\n",
       "| Beef_euc_diff2_dist.csv         |  5                              | 0.44000000                      | 0.2375231                       | 5                               | 10                              | 50                              |\n",
       "| Beef_erp_paa_gap_005.csv        |  1                              | 0.43333333                      | 0.3176587                       | 5                               | 10                              | 50                              |\n",
       "| Beef_erp_paa2_gap_005.csv       |  1                              | 0.43333333                      | 0.3176587                       | 5                               | 10                              | 50                              |\n",
       "| Beef_erp_raw_gap_005.csv        |  1                              | 0.43333333                      | 0.3176587                       | 5                               | 10                              | 50                              |\n",
       "| Beef_euc_diff_dist.csv          |  5                              | 0.43333333                      | 0.2156044                       | 5                               | 10                              | 50                              |\n",
       "| Beef_erp_diff_gap_005.csv       |  5                              | 0.40666667                      | 0.2633295                       | 5                               | 10                              | 50                              |\n",
       "| Beef_dtw_paa_dist.csv           |  1                              | 0.38666667                      | 0.2551954                       | 5                               | 10                              | 50                              |\n",
       "| Beef_dtw_diff_dist.csv          |  1                              | 0.38000000                      | 0.2694582                       | 5                               | 10                              | 50                              |\n",
       "| Beef_euc_paa2_dist.csv          |  5                              | 0.37333333                      | 0.2576714                       | 5                               | 10                              | 50                              |\n",
       "| Beef_dtw_paa2_dist.csv          |  1                              | 0.36666667                      | 0.2796986                       | 5                               | 10                              | 50                              |\n",
       "| Beef_dtw_diff2_dist.csv         |  5                              | 0.34666667                      | 0.2604723                       | 5                               | 10                              | 50                              |\n",
       "| Beef_euc_paa_dist.csv           |  5                              | 0.34666667                      | 0.2604723                       | 5                               | 10                              | 50                              |\n",
       "| Beef_euc_raw_dist.csv           |  5                              | 0.34666667                      | 0.2604723                       | 5                               | 10                              | 50                              |\n",
       "| Beef_dtw_raw_dist.csv           |  5                              | 0.33333333                      | 0.2693740                       | 5                               | 10                              | 50                              |\n",
       "| Beef_erp_paa_gap_005.csv        |  5                              | 0.31333333                      | 0.2643608                       | 5                               | 10                              | 50                              |\n",
       "| Beef_erp_paa2_gap_005.csv       |  5                              | 0.31333333                      | 0.2643608                       | 5                               | 10                              | 50                              |\n",
       "| Beef_erp_raw_gap_005.csv        |  5                              | 0.31333333                      | 0.2643608                       | 5                               | 10                              | 50                              |\n",
       "| Beef_dtw_diff_dist.csv          |  5                              | 0.27333333                      | 0.2398979                       | 5                               | 10                              | 50                              |\n",
       "| Beef_dtw_paa_dist.csv           |  5                              | 0.26000000                      | 0.2957752                       | 5                               | 10                              | 50                              |\n",
       "| Beef_dtw_paa2_dist.csv          |  5                              | 0.26000000                      | 0.2800227                       | 5                               | 10                              | 50                              |\n",
       "| Beef_lcss_diff2_epsilon_005.csv |  1                              | 0.16666667                      | 0.1683588                       | 5                               | 10                              | 50                              |\n",
       "| Beef_lcss_diff2_epsilon_005.csv | 10                              | 0.16666667                      | 0.1683588                       | 5                               | 10                              | 50                              |\n",
       "| Beef_lcss_paa2_epsilon_005.csv  |  1                              | 0.14000000                      | 0.1793159                       | 5                               | 10                              | 50                              |\n",
       "| Beef_euc_paa_dist.csv           | 10                              | 0.13333333                      | 0.1649572                       | 5                               | 10                              | 50                              |\n",
       "| Beef_euc_paa2_dist.csv          | 10                              | 0.13333333                      | 0.1649572                       | 5                               | 10                              | 50                              |\n",
       "| Beef_euc_raw_dist.csv           | 10                              | 0.13333333                      | 0.1649572                       | 5                               | 10                              | 50                              |\n",
       "| Beef_lcss_diff_epsilon_005.csv  |  5                              | 0.13333333                      | 0.1649572                       | 5                               | 10                              | 50                              |\n",
       "| Beef_lcss_diff2_epsilon_005.csv |  5                              | 0.13333333                      | 0.1649572                       | 5                               | 10                              | 50                              |\n",
       "| Beef_dtw_paa2_dist.csv          | 10                              | 0.12666667                      | 0.1891621                       | 5                               | 10                              | 50                              |\n",
       "| Beef_erp_raw_gap_005.csv        | 10                              | 0.12666667                      | 0.1634381                       | 5                               | 10                              | 50                              |\n",
       "| Beef_dtw_raw_dist.csv           | 10                              | 0.12000000                      | 0.1616244                       | 5                               | 10                              | 50                              |\n",
       "| Beef_erp_diff2_gap_005.csv      | 10                              | 0.10000000                      | 0.1683588                       | 5                               | 10                              | 50                              |\n",
       "| Beef_erp_paa_gap_005.csv        | 10                              | 0.10000000                      | 0.1543033                       | 5                               | 10                              | 50                              |\n",
       "| Beef_erp_paa2_gap_005.csv       | 10                              | 0.10000000                      | 0.1543033                       | 5                               | 10                              | 50                              |\n",
       "| Beef_lcss_diff_epsilon_005.csv  |  1                              | 0.10000000                      | 0.1543033                       | 5                               | 10                              | 50                              |\n",
       "| Beef_lcss_diff_epsilon_005.csv  | 10                              | 0.10000000                      | 0.1543033                       | 5                               | 10                              | 50                              |\n",
       "| Beef_lcss_paa2_epsilon_005.csv  |  5                              | 0.10000000                      | 0.1543033                       | 5                               | 10                              | 50                              |\n",
       "| Beef_lcss_paa2_epsilon_005.csv  | 10                              | 0.10000000                      | 0.1543033                       | 5                               | 10                              | 50                              |\n",
       "| Beef_dtw_paa_dist.csv           | 10                              | 0.08666667                      | 0.1476958                       | 5                               | 10                              | 50                              |\n",
       "| Beef_erp_diff_gap_005.csv       | 10                              | 0.08000000                      | 0.1438064                       | 5                               | 10                              | 50                              |\n",
       "| Beef_lcss_paa_epsilon_005.csv   |  1                              | 0.07333333                      | 0.1394840                       | 5                               | 10                              | 50                              |\n",
       "| Beef_euc_diff_dist.csv          | 10                              | 0.06666667                      | 0.1649572                       | 5                               | 10                              | 50                              |\n",
       "| Beef_dtw_diff_dist.csv          | 10                              | 0.06000000                      | 0.1458418                       | 5                               | 10                              | 50                              |\n",
       "| Beef_euc_diff2_dist.csv         | 10                              | 0.06000000                      | 0.1458418                       | 5                               | 10                              | 50                              |\n",
       "| Beef_dtw_diff2_dist.csv         | 10                              | 0.04000000                      | 0.1094202                       | 5                               | 10                              | 50                              |\n",
       "| Beef_lcss_paa_epsilon_005.csv   |  5                              | 0.03333333                      | 0.1010153                       | 5                               | 10                              | 50                              |\n",
       "| Beef_lcss_paa_epsilon_005.csv   | 10                              | 0.03333333                      | 0.1010153                       | 5                               | 10                              | 50                              |\n",
       "| Beef_lcss_raw_epsilon_005.csv   |  1                              | 0.03333333                      | 0.1010153                       | 5                               | 10                              | 50                              |\n",
       "| Beef_lcss_raw_epsilon_005.csv   |  5                              | 0.03333333                      | 0.1010153                       | 5                               | 10                              | 50                              |\n",
       "| Beef_lcss_raw_epsilon_005.csv   | 10                              | 0.03333333                      | 0.1010153                       | 5                               | 10                              | 50                              |\n",
       "\n"
      ],
      "text/plain": [
       "   approach                        k  avg_acc    sdev_acc  repid foldid\n",
       "1  Beef_euc_diff_dist.csv           1 0.56000000 0.2375231 5     10    \n",
       "2  Beef_erp_diff2_gap_005.csv       1 0.52666667 0.2616016 5     10    \n",
       "3  Beef_erp_diff_gap_005.csv        1 0.52666667 0.2242650 5     10    \n",
       "4  Beef_dtw_raw_dist.csv            1 0.50000000 0.2876916 5     10    \n",
       "5  Beef_euc_paa_dist.csv            1 0.50000000 0.3104382 5     10    \n",
       "6  Beef_euc_paa2_dist.csv           1 0.50000000 0.3104382 5     10    \n",
       "7  Beef_euc_raw_dist.csv            1 0.50000000 0.3104382 5     10    \n",
       "8  Beef_dtw_diff2_dist.csv          1 0.50000000 0.2629848 5     10    \n",
       "9  Beef_euc_diff2_dist.csv          1 0.49333333 0.2628985 5     10    \n",
       "10 Beef_erp_diff2_gap_005.csv       5 0.48000000 0.2947769 5     10    \n",
       "11 Beef_euc_diff2_dist.csv          5 0.44000000 0.2375231 5     10    \n",
       "12 Beef_erp_paa_gap_005.csv         1 0.43333333 0.3176587 5     10    \n",
       "13 Beef_erp_paa2_gap_005.csv        1 0.43333333 0.3176587 5     10    \n",
       "14 Beef_erp_raw_gap_005.csv         1 0.43333333 0.3176587 5     10    \n",
       "15 Beef_euc_diff_dist.csv           5 0.43333333 0.2156044 5     10    \n",
       "16 Beef_erp_diff_gap_005.csv        5 0.40666667 0.2633295 5     10    \n",
       "17 Beef_dtw_paa_dist.csv            1 0.38666667 0.2551954 5     10    \n",
       "18 Beef_dtw_diff_dist.csv           1 0.38000000 0.2694582 5     10    \n",
       "19 Beef_euc_paa2_dist.csv           5 0.37333333 0.2576714 5     10    \n",
       "20 Beef_dtw_paa2_dist.csv           1 0.36666667 0.2796986 5     10    \n",
       "21 Beef_dtw_diff2_dist.csv          5 0.34666667 0.2604723 5     10    \n",
       "22 Beef_euc_paa_dist.csv            5 0.34666667 0.2604723 5     10    \n",
       "23 Beef_euc_raw_dist.csv            5 0.34666667 0.2604723 5     10    \n",
       "24 Beef_dtw_raw_dist.csv            5 0.33333333 0.2693740 5     10    \n",
       "25 Beef_erp_paa_gap_005.csv         5 0.31333333 0.2643608 5     10    \n",
       "26 Beef_erp_paa2_gap_005.csv        5 0.31333333 0.2643608 5     10    \n",
       "27 Beef_erp_raw_gap_005.csv         5 0.31333333 0.2643608 5     10    \n",
       "28 Beef_dtw_diff_dist.csv           5 0.27333333 0.2398979 5     10    \n",
       "29 Beef_dtw_paa_dist.csv            5 0.26000000 0.2957752 5     10    \n",
       "30 Beef_dtw_paa2_dist.csv           5 0.26000000 0.2800227 5     10    \n",
       "31 Beef_lcss_diff2_epsilon_005.csv  1 0.16666667 0.1683588 5     10    \n",
       "32 Beef_lcss_diff2_epsilon_005.csv 10 0.16666667 0.1683588 5     10    \n",
       "33 Beef_lcss_paa2_epsilon_005.csv   1 0.14000000 0.1793159 5     10    \n",
       "34 Beef_euc_paa_dist.csv           10 0.13333333 0.1649572 5     10    \n",
       "35 Beef_euc_paa2_dist.csv          10 0.13333333 0.1649572 5     10    \n",
       "36 Beef_euc_raw_dist.csv           10 0.13333333 0.1649572 5     10    \n",
       "37 Beef_lcss_diff_epsilon_005.csv   5 0.13333333 0.1649572 5     10    \n",
       "38 Beef_lcss_diff2_epsilon_005.csv  5 0.13333333 0.1649572 5     10    \n",
       "39 Beef_dtw_paa2_dist.csv          10 0.12666667 0.1891621 5     10    \n",
       "40 Beef_erp_raw_gap_005.csv        10 0.12666667 0.1634381 5     10    \n",
       "41 Beef_dtw_raw_dist.csv           10 0.12000000 0.1616244 5     10    \n",
       "42 Beef_erp_diff2_gap_005.csv      10 0.10000000 0.1683588 5     10    \n",
       "43 Beef_erp_paa_gap_005.csv        10 0.10000000 0.1543033 5     10    \n",
       "44 Beef_erp_paa2_gap_005.csv       10 0.10000000 0.1543033 5     10    \n",
       "45 Beef_lcss_diff_epsilon_005.csv   1 0.10000000 0.1543033 5     10    \n",
       "46 Beef_lcss_diff_epsilon_005.csv  10 0.10000000 0.1543033 5     10    \n",
       "47 Beef_lcss_paa2_epsilon_005.csv   5 0.10000000 0.1543033 5     10    \n",
       "48 Beef_lcss_paa2_epsilon_005.csv  10 0.10000000 0.1543033 5     10    \n",
       "49 Beef_dtw_paa_dist.csv           10 0.08666667 0.1476958 5     10    \n",
       "50 Beef_erp_diff_gap_005.csv       10 0.08000000 0.1438064 5     10    \n",
       "51 Beef_lcss_paa_epsilon_005.csv    1 0.07333333 0.1394840 5     10    \n",
       "52 Beef_euc_diff_dist.csv          10 0.06666667 0.1649572 5     10    \n",
       "53 Beef_dtw_diff_dist.csv          10 0.06000000 0.1458418 5     10    \n",
       "54 Beef_euc_diff2_dist.csv         10 0.06000000 0.1458418 5     10    \n",
       "55 Beef_dtw_diff2_dist.csv         10 0.04000000 0.1094202 5     10    \n",
       "56 Beef_lcss_paa_epsilon_005.csv    5 0.03333333 0.1010153 5     10    \n",
       "57 Beef_lcss_paa_epsilon_005.csv   10 0.03333333 0.1010153 5     10    \n",
       "58 Beef_lcss_raw_epsilon_005.csv    1 0.03333333 0.1010153 5     10    \n",
       "59 Beef_lcss_raw_epsilon_005.csv    5 0.03333333 0.1010153 5     10    \n",
       "60 Beef_lcss_raw_epsilon_005.csv   10 0.03333333 0.1010153 5     10    \n",
       "   result_count\n",
       "1  50          \n",
       "2  50          \n",
       "3  50          \n",
       "4  50          \n",
       "5  50          \n",
       "6  50          \n",
       "7  50          \n",
       "8  50          \n",
       "9  50          \n",
       "10 50          \n",
       "11 50          \n",
       "12 50          \n",
       "13 50          \n",
       "14 50          \n",
       "15 50          \n",
       "16 50          \n",
       "17 50          \n",
       "18 50          \n",
       "19 50          \n",
       "20 50          \n",
       "21 50          \n",
       "22 50          \n",
       "23 50          \n",
       "24 50          \n",
       "25 50          \n",
       "26 50          \n",
       "27 50          \n",
       "28 50          \n",
       "29 50          \n",
       "30 50          \n",
       "31 50          \n",
       "32 50          \n",
       "33 50          \n",
       "34 50          \n",
       "35 50          \n",
       "36 50          \n",
       "37 50          \n",
       "38 50          \n",
       "39 50          \n",
       "40 50          \n",
       "41 50          \n",
       "42 50          \n",
       "43 50          \n",
       "44 50          \n",
       "45 50          \n",
       "46 50          \n",
       "47 50          \n",
       "48 50          \n",
       "49 50          \n",
       "50 50          \n",
       "51 50          \n",
       "52 50          \n",
       "53 50          \n",
       "54 50          \n",
       "55 50          \n",
       "56 50          \n",
       "57 50          \n",
       "58 50          \n",
       "59 50          \n",
       "60 50          "
      ]
     },
     "metadata": {},
     "output_type": "display_data"
    }
   ],
   "source": [
    "acc_res_ordered"
   ]
  },
  {
   "cell_type": "code",
   "execution_count": 42,
   "metadata": {},
   "outputs": [],
   "source": [
    "# require(ggplot2)\n",
    "# ggplot(dataframe_result,aes(x=paste0(approach,'with K=',k), y=acc)) +\n",
    "#         geom_boxplot()+\n",
    "#         labs(title=\"Boxplot of Models\")+\n",
    "#         xlab(\"Model Types\")+\n",
    "#         coord_flip()"
   ]
  },
  {
   "cell_type": "code",
   "execution_count": null,
   "metadata": {},
   "outputs": [],
   "source": []
  },
  {
   "cell_type": "markdown",
   "metadata": {},
   "source": [
    "<a id=\"12\"></a>\n",
    "# Test Performance"
   ]
  },
  {
   "cell_type": "markdown",
   "metadata": {},
   "source": [
    "Best performance is obtained when representation, distance, and k values are difference=1, Euclidean, and K=1 respectively."
   ]
  },
  {
   "cell_type": "code",
   "execution_count": 43,
   "metadata": {},
   "outputs": [],
   "source": [
    "traindata=as.matrix(fread(sprintf('%s%s/%s_TRAIN.txt',dataset_path, third_dataset,third_dataset)))\n",
    "testdata=as.matrix(fread(sprintf('%s%s/%s_TEST.txt',dataset_path, third_dataset,third_dataset)))"
   ]
  },
  {
   "cell_type": "markdown",
   "metadata": {},
   "source": [
    "To get test performance, train and test datasets will be used. These 2 datasets will be bind and test indices are selected as test dataset indices."
   ]
  },
  {
   "cell_type": "code",
   "execution_count": 44,
   "metadata": {},
   "outputs": [],
   "source": [
    "all_dt=rbind(traindata, testdata)"
   ]
  },
  {
   "cell_type": "code",
   "execution_count": 45,
   "metadata": {},
   "outputs": [],
   "source": [
    "allclass=all_dt[,1] \n",
    "all_dt=all_dt[,2:ncol(all_dt)]"
   ]
  },
  {
   "cell_type": "code",
   "execution_count": 46,
   "metadata": {},
   "outputs": [],
   "source": [
    "test_indices_last=(nrow(all_dt)+1-nrow(testdata)):nrow(all_dt)"
   ]
  },
  {
   "cell_type": "markdown",
   "metadata": {},
   "source": [
    "### Parameters"
   ]
  },
  {
   "cell_type": "code",
   "execution_count": 47,
   "metadata": {},
   "outputs": [
    {
     "data": {
      "text/html": [
       "<ol class=list-inline>\n",
       "\t<li>31</li>\n",
       "\t<li>32</li>\n",
       "\t<li>33</li>\n",
       "\t<li>34</li>\n",
       "\t<li>35</li>\n",
       "\t<li>36</li>\n",
       "\t<li>37</li>\n",
       "\t<li>38</li>\n",
       "\t<li>39</li>\n",
       "\t<li>40</li>\n",
       "\t<li>41</li>\n",
       "\t<li>42</li>\n",
       "\t<li>43</li>\n",
       "\t<li>44</li>\n",
       "\t<li>45</li>\n",
       "\t<li>46</li>\n",
       "\t<li>47</li>\n",
       "\t<li>48</li>\n",
       "\t<li>49</li>\n",
       "\t<li>50</li>\n",
       "\t<li>51</li>\n",
       "\t<li>52</li>\n",
       "\t<li>53</li>\n",
       "\t<li>54</li>\n",
       "\t<li>55</li>\n",
       "\t<li>56</li>\n",
       "\t<li>57</li>\n",
       "\t<li>58</li>\n",
       "\t<li>59</li>\n",
       "\t<li>60</li>\n",
       "</ol>\n"
      ],
      "text/latex": [
       "\\begin{enumerate*}\n",
       "\\item 31\n",
       "\\item 32\n",
       "\\item 33\n",
       "\\item 34\n",
       "\\item 35\n",
       "\\item 36\n",
       "\\item 37\n",
       "\\item 38\n",
       "\\item 39\n",
       "\\item 40\n",
       "\\item 41\n",
       "\\item 42\n",
       "\\item 43\n",
       "\\item 44\n",
       "\\item 45\n",
       "\\item 46\n",
       "\\item 47\n",
       "\\item 48\n",
       "\\item 49\n",
       "\\item 50\n",
       "\\item 51\n",
       "\\item 52\n",
       "\\item 53\n",
       "\\item 54\n",
       "\\item 55\n",
       "\\item 56\n",
       "\\item 57\n",
       "\\item 58\n",
       "\\item 59\n",
       "\\item 60\n",
       "\\end{enumerate*}\n"
      ],
      "text/markdown": [
       "1. 31\n",
       "2. 32\n",
       "3. 33\n",
       "4. 34\n",
       "5. 35\n",
       "6. 36\n",
       "7. 37\n",
       "8. 38\n",
       "9. 39\n",
       "10. 40\n",
       "11. 41\n",
       "12. 42\n",
       "13. 43\n",
       "14. 44\n",
       "15. 45\n",
       "16. 46\n",
       "17. 47\n",
       "18. 48\n",
       "19. 49\n",
       "20. 50\n",
       "21. 51\n",
       "22. 52\n",
       "23. 53\n",
       "24. 54\n",
       "25. 55\n",
       "26. 56\n",
       "27. 57\n",
       "28. 58\n",
       "29. 59\n",
       "30. 60\n",
       "\n",
       "\n"
      ],
      "text/plain": [
       " [1] 31 32 33 34 35 36 37 38 39 40 41 42 43 44 45 46 47 48 49 50 51 52 53 54 55\n",
       "[26] 56 57 58 59 60"
      ]
     },
     "metadata": {},
     "output_type": "display_data"
    }
   ],
   "source": [
    "test_indices_last"
   ]
  },
  {
   "cell_type": "code",
   "execution_count": 48,
   "metadata": {},
   "outputs": [],
   "source": [
    "last_k=1"
   ]
  },
  {
   "cell_type": "markdown",
   "metadata": {},
   "source": [
    "## Representation and Distance Calculation"
   ]
  },
  {
   "cell_type": "markdown",
   "metadata": {},
   "source": [
    "Representation and distance types are selected by looking the best parameter combination obtained in train dataset."
   ]
  },
  {
   "cell_type": "code",
   "execution_count": 49,
   "metadata": {},
   "outputs": [],
   "source": [
    "diff_test=difference_obtainer(all_dt,1)"
   ]
  },
  {
   "cell_type": "code",
   "execution_count": 50,
   "metadata": {},
   "outputs": [],
   "source": [
    "dist_euc_diff_test=as.matrix(dist(diff_test))\n",
    "diag(dist_euc_diff_test)=large_number"
   ]
  },
  {
   "cell_type": "markdown",
   "metadata": {},
   "source": [
    "## Result of Test Dataset"
   ]
  },
  {
   "cell_type": "code",
   "execution_count": 51,
   "metadata": {},
   "outputs": [],
   "source": [
    "last_result=nn_classify_cv(dist_euc_diff_test,allclass,test_indices_last,k=last_k)\n",
    "accuracy=sum(allclass[test_indices_last]==last_result$prediction$predicted)/length(test_indices_last)\n",
    "final_res=data.table(approach=\"Beef_euc_diff_dist.csv\", k=last_k, acc=accuracy)"
   ]
  },
  {
   "cell_type": "markdown",
   "metadata": {},
   "source": [
    "### Test Result"
   ]
  },
  {
   "cell_type": "code",
   "execution_count": 52,
   "metadata": {},
   "outputs": [
    {
     "data": {
      "text/html": [
       "<table>\n",
       "<thead><tr><th scope=col>approach</th><th scope=col>k</th><th scope=col>acc</th></tr></thead>\n",
       "<tbody>\n",
       "\t<tr><td>Beef_euc_diff_dist.csv</td><td>1                     </td><td>0.7                   </td></tr>\n",
       "</tbody>\n",
       "</table>\n"
      ],
      "text/latex": [
       "\\begin{tabular}{r|lll}\n",
       " approach & k & acc\\\\\n",
       "\\hline\n",
       "\t Beef\\_euc\\_diff\\_dist.csv & 1                            & 0.7                         \\\\\n",
       "\\end{tabular}\n"
      ],
      "text/markdown": [
       "\n",
       "| approach | k | acc |\n",
       "|---|---|---|\n",
       "| Beef_euc_diff_dist.csv | 1                      | 0.7                    |\n",
       "\n"
      ],
      "text/plain": [
       "  approach               k acc\n",
       "1 Beef_euc_diff_dist.csv 1 0.7"
      ]
     },
     "metadata": {},
     "output_type": "display_data"
    }
   ],
   "source": [
    "final_res"
   ]
  },
  {
   "cell_type": "markdown",
   "metadata": {},
   "source": [
    "### Train Result"
   ]
  },
  {
   "cell_type": "code",
   "execution_count": 53,
   "metadata": {},
   "outputs": [
    {
     "data": {
      "text/html": [
       "<table>\n",
       "<thead><tr><th scope=col>approach</th><th scope=col>k</th><th scope=col>avg_acc</th></tr></thead>\n",
       "<tbody>\n",
       "\t<tr><td>Beef_euc_diff_dist.csv</td><td>1                     </td><td>0.56                  </td></tr>\n",
       "</tbody>\n",
       "</table>\n"
      ],
      "text/latex": [
       "\\begin{tabular}{r|lll}\n",
       " approach & k & avg\\_acc\\\\\n",
       "\\hline\n",
       "\t Beef\\_euc\\_diff\\_dist.csv & 1                            & 0.56                        \\\\\n",
       "\\end{tabular}\n"
      ],
      "text/markdown": [
       "\n",
       "| approach | k | avg_acc |\n",
       "|---|---|---|\n",
       "| Beef_euc_diff_dist.csv | 1                      | 0.56                   |\n",
       "\n"
      ],
      "text/plain": [
       "  approach               k avg_acc\n",
       "1 Beef_euc_diff_dist.csv 1 0.56   "
      ]
     },
     "metadata": {},
     "output_type": "display_data"
    }
   ],
   "source": [
    "acc_res_ordered[1][,c(\"approach\", \"k\", \"avg_acc\")]"
   ]
  },
  {
   "cell_type": "markdown",
   "metadata": {},
   "source": [
    "<a id=\"13\"></a>\n",
    "# Comments"
   ]
  },
  {
   "cell_type": "markdown",
   "metadata": {},
   "source": [
    "Obtained results will be analyzed in the result comparison notebook."
   ]
  }
 ],
 "metadata": {
  "kernelspec": {
   "display_name": "R",
   "language": "R",
   "name": "ir"
  },
  "language_info": {
   "codemirror_mode": "r",
   "file_extension": ".r",
   "mimetype": "text/x-r-source",
   "name": "R",
   "pygments_lexer": "r",
   "version": "3.6.1"
  }
 },
 "nbformat": 4,
 "nbformat_minor": 4
}
