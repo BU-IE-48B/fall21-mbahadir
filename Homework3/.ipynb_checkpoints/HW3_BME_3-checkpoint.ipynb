{
 "cells": [
  {
   "cell_type": "code",
   "execution_count": 53,
   "metadata": {},
   "outputs": [],
   "source": [
    "library(data.table)\n",
    "library(TSrepr)\n",
    "library(TSdist)\n",
    "library(dtw)\n",
    "library(TunePareto)\n",
    "library(dplyr)"
   ]
  },
  {
   "cell_type": "markdown",
   "metadata": {},
   "source": [
    "# Summary\n",
    "\n",
    "In this homework, 60 different parameter combination will be tried to get hyperparameter tuning. To get this combination, 5 different representation types(raw + 2 different difference taken + 2 different PAA), 4 different distance calculations, and 3 different k values will be used. Difference will be taken by shift function and 1, 2 will be used to get difference values. For PAA, 2 different segment length will be used by considering proper values for timeseries. In terms of distance, Euclidean, Dynamic Time Warping, Longest Common Subsequence, and Edit Distance with Real Penalties will be used. Lastly, k values are selected as 1, 3, 5 for k-nearest neighbor model. \n",
    "\n",
    "Performance of the models will be inspected by using 10-fold cross and 5 repeated validation technique. Moreover, performance of the models will be controlled by having the same test indices to have identical conditions. Lastly, obtained 60 performance will be controlled by a dataframe including average accuracy and standard deviation in accuracy. By considering this dataframe, the best parameter combination will be controlled and this parameters will be used to get accuracy performance in the test dataset. Last comments will be held at the end of the notebooks.\n",
    "\n",
    "### Parameter Selections\n",
    "\n",
    "- Representation Type(5): Raw, 1 Difference Taken, 2 Difference Taken, Piecewise Aggregate Approximation(PAA) with 4 segment length, Piecewise Aggregate Approximation(PAA) with 8 segment length\n",
    "- Distance Calculation(4): Euclidean, Dynamic Time Warping with default parameters, Longest Common Subsequence(LCSS) with epsilon 0.05, Edit Distance with Real Penalties(ERP) with epsilon 0.5\n",
    "- k values of nearest neighbor model(3): 1, 3, 5"
   ]
  },
  {
   "cell_type": "markdown",
   "metadata": {},
   "source": [
    "# Context\n",
    "(In order to get specified techniques rapidly, a context part is added to Notebook.)\n",
    "\n",
    "1. [Data Preparation](#1)\n",
    "1. [Classify Function](#2)\n",
    "1. [Representations](#3)\n",
    "    1. Raw Data\n",
    "    1. [Difference Function](#4)\n",
    "    1. [PAA Function](#5)\n",
    "1. [Distances](#6)\n",
    "    1. [Raw Data](#7)\n",
    "    1. [Difference Data](#8)\n",
    "    1. [PAA Data](#9)\n",
    "1. [Main Model](#10)\n",
    "1. [Result of Models](#11)\n",
    "1. [Test Performance](#12)\n",
    "1. [Comments](#13)"
   ]
  },
  {
   "cell_type": "markdown",
   "metadata": {},
   "source": [
    "<a id=\"1\"></a>\n",
    "# Data Preparation"
   ]
  },
  {
   "cell_type": "code",
   "execution_count": 2,
   "metadata": {},
   "outputs": [],
   "source": [
    "dataset_path=\"D:/Datasets/Univariate2018_arff/Univariate_arff/\""
   ]
  },
  {
   "cell_type": "code",
   "execution_count": 3,
   "metadata": {},
   "outputs": [],
   "source": [
    "distance_path=\"C:/Users/bahad/GitHub/IE48B/Homework3/Distances/\""
   ]
  },
  {
   "cell_type": "code",
   "execution_count": 4,
   "metadata": {},
   "outputs": [],
   "source": [
    "first_dataset=\"Beef\"\n",
    "second_dataset=\"BirdChicken\"\n",
    "third_dataset=\"BME\"\n",
    "fourth_dataset=\"Coffee\"\n",
    "fifth_dataset=\"Wine\""
   ]
  },
  {
   "cell_type": "markdown",
   "metadata": {},
   "source": [
    "## Loading Dataset"
   ]
  },
  {
   "cell_type": "code",
   "execution_count": 5,
   "metadata": {},
   "outputs": [],
   "source": [
    "traindata=as.matrix(fread(sprintf('%s%s/%s_TRAIN.txt',dataset_path, third_dataset,third_dataset)))"
   ]
  },
  {
   "cell_type": "code",
   "execution_count": 6,
   "metadata": {},
   "outputs": [
    {
     "data": {
      "text/html": [
       "<table>\n",
       "<thead><tr><th scope=col>V1</th><th scope=col>V2</th><th scope=col>V3</th><th scope=col>V4</th><th scope=col>V5</th><th scope=col>V6</th><th scope=col>V7</th><th scope=col>V8</th><th scope=col>V9</th><th scope=col>V10</th><th scope=col>...</th><th scope=col>V120</th><th scope=col>V121</th><th scope=col>V122</th><th scope=col>V123</th><th scope=col>V124</th><th scope=col>V125</th><th scope=col>V126</th><th scope=col>V127</th><th scope=col>V128</th><th scope=col>V129</th></tr></thead>\n",
       "<tbody>\n",
       "\t<tr><td>1            </td><td> 0.0377646330</td><td>0.0002531124 </td><td>0.003977076  </td><td>0.02076406   </td><td>0.02173118   </td><td>0.114000000  </td><td>0.41400000   </td><td>0.71800000   </td><td>0.88900000   </td><td>...          </td><td>0.034208601  </td><td>0.02283097   </td><td>0.013387386  </td><td>0.038906948  </td><td>0.039187692  </td><td> 0.0536167050</td><td>0.054673016  </td><td>0.031523157  </td><td>0.03978737   </td><td>0.02066080   </td></tr>\n",
       "\t<tr><td>1            </td><td> 0.0004248819</td><td>0.0209818240 </td><td>0.002525833  </td><td>0.02011753   </td><td>0.03707394   </td><td>0.034782011  </td><td>0.08300000   </td><td>0.31700000   </td><td>0.55000000   </td><td>...          </td><td>0.036964033  </td><td>0.01122764   </td><td>0.025040340  </td><td>0.044364509  </td><td>0.043476064  </td><td> 0.0441632130</td><td>0.021766566  </td><td>0.007789026  </td><td>0.02919420   </td><td>0.02183739   </td></tr>\n",
       "\t<tr><td>1            </td><td> 0.0198557600</td><td>0.0036765858 </td><td>0.035077439  </td><td>0.01154532   </td><td>0.12700000   </td><td>0.462000000  </td><td>0.79700000   </td><td>0.98500000   </td><td>1.07400000   </td><td>...          </td><td>0.043864909  </td><td>0.01768577   </td><td>0.046659284  </td><td>0.005716803  </td><td>0.019495807  </td><td> 0.0215920930</td><td>0.018679618  </td><td>0.022478860  </td><td>0.03220358   </td><td>0.04518721   </td></tr>\n",
       "\t<tr><td>1            </td><td>-0.0058045195</td><td>0.0026662398 </td><td>0.021715744  </td><td>0.01695835   </td><td>0.02703698   </td><td>0.003595671  </td><td>0.01259742   </td><td>0.09000000   </td><td>0.33800000   </td><td>...          </td><td>0.007400456  </td><td>0.02147181   </td><td>0.005443165  </td><td>0.045583447  </td><td>0.001083856  </td><td> 0.0190912200</td><td>0.005705397  </td><td>0.003578330  </td><td>0.03154213   </td><td>0.03438603   </td></tr>\n",
       "\t<tr><td>1            </td><td> 0.0313804330</td><td>0.0570924850 </td><td>0.047269203  </td><td>0.04387237   </td><td>0.02690178   </td><td>0.037878251  </td><td>0.03226138   </td><td>0.01146470   </td><td>0.02436203   </td><td>...          </td><td>0.035658042  </td><td>0.01919065   </td><td>0.044963907  </td><td>0.014297094  </td><td>0.005419482  </td><td>-0.0002304543</td><td>0.027151247  </td><td>0.029029138  </td><td>0.04078212   </td><td>0.03472307   </td></tr>\n",
       "\t<tr><td>1            </td><td> 0.0269493680</td><td>0.0465532830 </td><td>0.012495950  </td><td>0.04275020   </td><td>0.02778757   </td><td>0.038858944  </td><td>0.01938303   </td><td>0.01827375   </td><td>0.12000000   </td><td>...          </td><td>0.014155193  </td><td>0.01372328   </td><td>0.046840932  </td><td>0.041271348  </td><td>0.051914020  </td><td> 0.0581532340</td><td>0.039676077  </td><td>0.042518082  </td><td>0.03827971   </td><td>0.03426204   </td></tr>\n",
       "</tbody>\n",
       "</table>\n"
      ],
      "text/latex": [
       "\\begin{tabular}{lllllllllllllllllllllllllllllllllllllllllllllllllllllllllllllllllllllllllllllllllllllllllllllllllllllllllllllllllllllllllllllllll}\n",
       " V1 & V2 & V3 & V4 & V5 & V6 & V7 & V8 & V9 & V10 & ... & V120 & V121 & V122 & V123 & V124 & V125 & V126 & V127 & V128 & V129\\\\\n",
       "\\hline\n",
       "\t 1             &  0.0377646330 & 0.0002531124  & 0.003977076   & 0.02076406    & 0.02173118    & 0.114000000   & 0.41400000    & 0.71800000    & 0.88900000    & ...           & 0.034208601   & 0.02283097    & 0.013387386   & 0.038906948   & 0.039187692   &  0.0536167050 & 0.054673016   & 0.031523157   & 0.03978737    & 0.02066080   \\\\\n",
       "\t 1             &  0.0004248819 & 0.0209818240  & 0.002525833   & 0.02011753    & 0.03707394    & 0.034782011   & 0.08300000    & 0.31700000    & 0.55000000    & ...           & 0.036964033   & 0.01122764    & 0.025040340   & 0.044364509   & 0.043476064   &  0.0441632130 & 0.021766566   & 0.007789026   & 0.02919420    & 0.02183739   \\\\\n",
       "\t 1             &  0.0198557600 & 0.0036765858  & 0.035077439   & 0.01154532    & 0.12700000    & 0.462000000   & 0.79700000    & 0.98500000    & 1.07400000    & ...           & 0.043864909   & 0.01768577    & 0.046659284   & 0.005716803   & 0.019495807   &  0.0215920930 & 0.018679618   & 0.022478860   & 0.03220358    & 0.04518721   \\\\\n",
       "\t 1             & -0.0058045195 & 0.0026662398  & 0.021715744   & 0.01695835    & 0.02703698    & 0.003595671   & 0.01259742    & 0.09000000    & 0.33800000    & ...           & 0.007400456   & 0.02147181    & 0.005443165   & 0.045583447   & 0.001083856   &  0.0190912200 & 0.005705397   & 0.003578330   & 0.03154213    & 0.03438603   \\\\\n",
       "\t 1             &  0.0313804330 & 0.0570924850  & 0.047269203   & 0.04387237    & 0.02690178    & 0.037878251   & 0.03226138    & 0.01146470    & 0.02436203    & ...           & 0.035658042   & 0.01919065    & 0.044963907   & 0.014297094   & 0.005419482   & -0.0002304543 & 0.027151247   & 0.029029138   & 0.04078212    & 0.03472307   \\\\\n",
       "\t 1             &  0.0269493680 & 0.0465532830  & 0.012495950   & 0.04275020    & 0.02778757    & 0.038858944   & 0.01938303    & 0.01827375    & 0.12000000    & ...           & 0.014155193   & 0.01372328    & 0.046840932   & 0.041271348   & 0.051914020   &  0.0581532340 & 0.039676077   & 0.042518082   & 0.03827971    & 0.03426204   \\\\\n",
       "\\end{tabular}\n"
      ],
      "text/markdown": [
       "\n",
       "| V1 | V2 | V3 | V4 | V5 | V6 | V7 | V8 | V9 | V10 | ... | V120 | V121 | V122 | V123 | V124 | V125 | V126 | V127 | V128 | V129 |\n",
       "|---|---|---|---|---|---|---|---|---|---|---|---|---|---|---|---|---|---|---|---|---|\n",
       "| 1             |  0.0377646330 | 0.0002531124  | 0.003977076   | 0.02076406    | 0.02173118    | 0.114000000   | 0.41400000    | 0.71800000    | 0.88900000    | ...           | 0.034208601   | 0.02283097    | 0.013387386   | 0.038906948   | 0.039187692   |  0.0536167050 | 0.054673016   | 0.031523157   | 0.03978737    | 0.02066080    |\n",
       "| 1             |  0.0004248819 | 0.0209818240  | 0.002525833   | 0.02011753    | 0.03707394    | 0.034782011   | 0.08300000    | 0.31700000    | 0.55000000    | ...           | 0.036964033   | 0.01122764    | 0.025040340   | 0.044364509   | 0.043476064   |  0.0441632130 | 0.021766566   | 0.007789026   | 0.02919420    | 0.02183739    |\n",
       "| 1             |  0.0198557600 | 0.0036765858  | 0.035077439   | 0.01154532    | 0.12700000    | 0.462000000   | 0.79700000    | 0.98500000    | 1.07400000    | ...           | 0.043864909   | 0.01768577    | 0.046659284   | 0.005716803   | 0.019495807   |  0.0215920930 | 0.018679618   | 0.022478860   | 0.03220358    | 0.04518721    |\n",
       "| 1             | -0.0058045195 | 0.0026662398  | 0.021715744   | 0.01695835    | 0.02703698    | 0.003595671   | 0.01259742    | 0.09000000    | 0.33800000    | ...           | 0.007400456   | 0.02147181    | 0.005443165   | 0.045583447   | 0.001083856   |  0.0190912200 | 0.005705397   | 0.003578330   | 0.03154213    | 0.03438603    |\n",
       "| 1             |  0.0313804330 | 0.0570924850  | 0.047269203   | 0.04387237    | 0.02690178    | 0.037878251   | 0.03226138    | 0.01146470    | 0.02436203    | ...           | 0.035658042   | 0.01919065    | 0.044963907   | 0.014297094   | 0.005419482   | -0.0002304543 | 0.027151247   | 0.029029138   | 0.04078212    | 0.03472307    |\n",
       "| 1             |  0.0269493680 | 0.0465532830  | 0.012495950   | 0.04275020    | 0.02778757    | 0.038858944   | 0.01938303    | 0.01827375    | 0.12000000    | ...           | 0.014155193   | 0.01372328    | 0.046840932   | 0.041271348   | 0.051914020   |  0.0581532340 | 0.039676077   | 0.042518082   | 0.03827971    | 0.03426204    |\n",
       "\n"
      ],
      "text/plain": [
       "     V1 V2            V3           V4          V5         V6        \n",
       "[1,] 1   0.0377646330 0.0002531124 0.003977076 0.02076406 0.02173118\n",
       "[2,] 1   0.0004248819 0.0209818240 0.002525833 0.02011753 0.03707394\n",
       "[3,] 1   0.0198557600 0.0036765858 0.035077439 0.01154532 0.12700000\n",
       "[4,] 1  -0.0058045195 0.0026662398 0.021715744 0.01695835 0.02703698\n",
       "[5,] 1   0.0313804330 0.0570924850 0.047269203 0.04387237 0.02690178\n",
       "[6,] 1   0.0269493680 0.0465532830 0.012495950 0.04275020 0.02778757\n",
       "     V7          V8         V9         V10        ... V120        V121      \n",
       "[1,] 0.114000000 0.41400000 0.71800000 0.88900000 ... 0.034208601 0.02283097\n",
       "[2,] 0.034782011 0.08300000 0.31700000 0.55000000 ... 0.036964033 0.01122764\n",
       "[3,] 0.462000000 0.79700000 0.98500000 1.07400000 ... 0.043864909 0.01768577\n",
       "[4,] 0.003595671 0.01259742 0.09000000 0.33800000 ... 0.007400456 0.02147181\n",
       "[5,] 0.037878251 0.03226138 0.01146470 0.02436203 ... 0.035658042 0.01919065\n",
       "[6,] 0.038858944 0.01938303 0.01827375 0.12000000 ... 0.014155193 0.01372328\n",
       "     V122        V123        V124        V125          V126        V127       \n",
       "[1,] 0.013387386 0.038906948 0.039187692  0.0536167050 0.054673016 0.031523157\n",
       "[2,] 0.025040340 0.044364509 0.043476064  0.0441632130 0.021766566 0.007789026\n",
       "[3,] 0.046659284 0.005716803 0.019495807  0.0215920930 0.018679618 0.022478860\n",
       "[4,] 0.005443165 0.045583447 0.001083856  0.0190912200 0.005705397 0.003578330\n",
       "[5,] 0.044963907 0.014297094 0.005419482 -0.0002304543 0.027151247 0.029029138\n",
       "[6,] 0.046840932 0.041271348 0.051914020  0.0581532340 0.039676077 0.042518082\n",
       "     V128       V129      \n",
       "[1,] 0.03978737 0.02066080\n",
       "[2,] 0.02919420 0.02183739\n",
       "[3,] 0.03220358 0.04518721\n",
       "[4,] 0.03154213 0.03438603\n",
       "[5,] 0.04078212 0.03472307\n",
       "[6,] 0.03827971 0.03426204"
      ]
     },
     "metadata": {},
     "output_type": "display_data"
    }
   ],
   "source": [
    "head(traindata)"
   ]
  },
  {
   "cell_type": "code",
   "execution_count": 7,
   "metadata": {},
   "outputs": [
    {
     "name": "stdout",
     "output_type": "stream",
     "text": [
      " num [1:30, 1:129] 1 1 1 1 1 1 1 1 1 1 ...\n",
      " - attr(*, \"dimnames\")=List of 2\n",
      "  ..$ : NULL\n",
      "  ..$ : chr [1:129] \"V1\" \"V2\" \"V3\" \"V4\" ...\n"
     ]
    }
   ],
   "source": [
    "str(traindata)"
   ]
  },
  {
   "cell_type": "markdown",
   "metadata": {},
   "source": [
    "## Class Information"
   ]
  },
  {
   "cell_type": "code",
   "execution_count": 8,
   "metadata": {},
   "outputs": [],
   "source": [
    "trainclass=traindata[,1] "
   ]
  },
  {
   "cell_type": "markdown",
   "metadata": {},
   "source": [
    "## Time Series"
   ]
  },
  {
   "cell_type": "code",
   "execution_count": 9,
   "metadata": {},
   "outputs": [],
   "source": [
    "traindata=traindata[,2:ncol(traindata)]"
   ]
  },
  {
   "cell_type": "markdown",
   "metadata": {},
   "source": [
    "## Dataset Information"
   ]
  },
  {
   "cell_type": "code",
   "execution_count": 10,
   "metadata": {},
   "outputs": [],
   "source": [
    "tlength=ncol(traindata)\n",
    "n_series_train=nrow(traindata)"
   ]
  },
  {
   "cell_type": "markdown",
   "metadata": {},
   "source": [
    "## Indices for Datasets"
   ]
  },
  {
   "cell_type": "markdown",
   "metadata": {},
   "source": [
    "Mentioned test indices are obtained by TunePareto library to have identical conditions. nfold and ntimes parameters are selected as 10, 5 respectively."
   ]
  },
  {
   "cell_type": "code",
   "execution_count": 11,
   "metadata": {},
   "outputs": [],
   "source": [
    "set.seed(35)\n",
    "nof_rep=5\n",
    "n_fold=10"
   ]
  },
  {
   "cell_type": "code",
   "execution_count": 12,
   "metadata": {},
   "outputs": [
    {
     "name": "stdout",
     "output_type": "stream",
     "text": [
      "List of 5\n",
      " $ Run  1:List of 10\n",
      "  ..$ Fold  1 : int [1:3] 10 19 27\n",
      "  ..$ Fold  2 : int [1:3] 6 20 23\n",
      "  ..$ Fold  3 : int [1:3] 8 11 30\n",
      "  ..$ Fold  4 : int [1:3] 1 13 26\n",
      "  ..$ Fold  5 : int [1:3] 3 15 25\n",
      "  ..$ Fold  6 : int [1:3] 7 18 24\n",
      "  ..$ Fold  7 : int [1:3] 2 17 22\n",
      "  ..$ Fold  8 : int [1:3] 5 12 21\n",
      "  ..$ Fold  9 : int [1:3] 4 16 29\n",
      "  ..$ Fold  10: int [1:3] 9 14 28\n",
      " $ Run  2:List of 10\n",
      "  ..$ Fold  1 : int [1:3] 8 20 23\n",
      "  ..$ Fold  2 : int [1:3] 9 11 21\n",
      "  ..$ Fold  3 : int [1:3] 6 17 27\n",
      "  ..$ Fold  4 : int [1:3] 4 13 29\n",
      "  ..$ Fold  5 : int [1:3] 3 12 22\n",
      "  ..$ Fold  6 : int [1:3] 5 16 30\n",
      "  ..$ Fold  7 : int [1:3] 2 19 28\n",
      "  ..$ Fold  8 : int [1:3] 1 18 26\n",
      "  ..$ Fold  9 : int [1:3] 10 14 25\n",
      "  ..$ Fold  10: int [1:3] 7 15 24\n",
      " $ Run  3:List of 10\n",
      "  ..$ Fold  1 : int [1:3] 4 11 21\n",
      "  ..$ Fold  2 : int [1:3] 6 20 23\n",
      "  ..$ Fold  3 : int [1:3] 7 18 29\n",
      "  ..$ Fold  4 : int [1:3] 1 14 22\n",
      "  ..$ Fold  5 : int [1:3] 3 12 25\n",
      "  ..$ Fold  6 : int [1:3] 10 16 26\n",
      "  ..$ Fold  7 : int [1:3] 8 13 28\n",
      "  ..$ Fold  8 : int [1:3] 5 17 27\n",
      "  ..$ Fold  9 : int [1:3] 2 19 30\n",
      "  ..$ Fold  10: int [1:3] 9 15 24\n",
      " $ Run  4:List of 10\n",
      "  ..$ Fold  1 : int [1:3] 5 14 28\n",
      "  ..$ Fold  2 : int [1:3] 10 17 27\n",
      "  ..$ Fold  3 : int [1:3] 3 12 23\n",
      "  ..$ Fold  4 : int [1:3] 2 13 25\n",
      "  ..$ Fold  5 : int [1:3] 8 20 30\n",
      "  ..$ Fold  6 : int [1:3] 6 18 24\n",
      "  ..$ Fold  7 : int [1:3] 1 16 22\n",
      "  ..$ Fold  8 : int [1:3] 9 15 21\n",
      "  ..$ Fold  9 : int [1:3] 7 19 26\n",
      "  ..$ Fold  10: int [1:3] 4 11 29\n",
      " $ Run  5:List of 10\n",
      "  ..$ Fold  1 : int [1:3] 5 20 28\n",
      "  ..$ Fold  2 : int [1:3] 8 17 23\n",
      "  ..$ Fold  3 : int [1:3] 3 16 21\n",
      "  ..$ Fold  4 : int [1:3] 1 11 25\n",
      "  ..$ Fold  5 : int [1:3] 4 15 27\n",
      "  ..$ Fold  6 : int [1:3] 9 14 22\n",
      "  ..$ Fold  7 : int [1:3] 7 18 26\n",
      "  ..$ Fold  8 : int [1:3] 10 13 30\n",
      "  ..$ Fold  9 : int [1:3] 6 12 24\n",
      "  ..$ Fold  10: int [1:3] 2 19 29\n"
     ]
    }
   ],
   "source": [
    "cv_indices=generateCVRuns(trainclass, ntimes =nof_rep, nfold = n_fold, \n",
    "                          leaveOneOut = FALSE, stratified = TRUE)\n",
    "\n",
    "str(cv_indices)"
   ]
  },
  {
   "cell_type": "markdown",
   "metadata": {},
   "source": [
    "<a id=\"2\"></a>\n",
    "# Classify Function"
   ]
  },
  {
   "cell_type": "markdown",
   "metadata": {},
   "source": [
    "Classify function is obtained from lecture notebooks. Function takes 4 different parameters, distance matrix, class information, test indeces and k parameter."
   ]
  },
  {
   "cell_type": "code",
   "execution_count": 13,
   "metadata": {},
   "outputs": [],
   "source": [
    "nn_classify_cv=function(dist_matrix,train_class,test_indices,k){\n",
    "    \n",
    "    test_distances_to_train=dist_matrix[test_indices,]\n",
    "    test_distances_to_train=test_distances_to_train[,-test_indices]\n",
    "    train_class=train_class[-test_indices]\n",
    "\n",
    "    ordered_indices=apply(test_distances_to_train,1,order)\n",
    "    if(k==1){\n",
    "        nearest_class=as.numeric(train_class[as.numeric(ordered_indices[1,])])\n",
    "        nearest_class=data.table(id=test_indices,nearest_class)\n",
    "    } else {\n",
    "        nearest_class=apply(ordered_indices[1:k,],2,function(x) {train_class[x]})\n",
    "        nearest_class=data.table(id=test_indices,t(nearest_class))\n",
    "    }\n",
    "    \n",
    "    long_nn_class=melt(nearest_class,'id')\n",
    "\n",
    "    class_counts=long_nn_class[,.N,list(id,value)]\n",
    "    class_counts[,predicted_prob:=N/k]\n",
    "    wide_class_prob_predictions=dcast(class_counts,id~value,value.var='predicted_prob')\n",
    "    wide_class_prob_predictions[is.na(wide_class_prob_predictions)]=0\n",
    "    class_predictions=class_counts[,list(predicted=value[which.max(N)]),by=list(id)]\n",
    "    \n",
    "    \n",
    "    return(list(prediction=class_predictions,prob_estimates=wide_class_prob_predictions))\n",
    "    \n",
    "}"
   ]
  },
  {
   "cell_type": "code",
   "execution_count": null,
   "metadata": {},
   "outputs": [],
   "source": []
  },
  {
   "cell_type": "markdown",
   "metadata": {},
   "source": [
    "<a id=\"3\"></a>\n",
    "# Representations"
   ]
  },
  {
   "cell_type": "markdown",
   "metadata": {},
   "source": [
    "There are 3 major representations, raw dataset, difference taken dataset, and paa representation. For difference taken dataset 1 and 2 will be used in shift operator. At the beginning, an example code will be given to show obtained dataframes in difference datasets. For paa dataset 4 and 8 will be used in segment length parameter. At the beginning, an example code will be given to show obtained dataframes in paa datasets."
   ]
  },
  {
   "cell_type": "markdown",
   "metadata": {},
   "source": [
    "## Example Code for difference datasets"
   ]
  },
  {
   "cell_type": "code",
   "execution_count": 14,
   "metadata": {
    "scrolled": true
   },
   "outputs": [
    {
     "data": {
      "text/html": [
       "<table>\n",
       "<thead><tr><th scope=col>id</th><th scope=col>variable</th><th scope=col>value</th><th scope=col>time</th><th scope=col>diff_series</th></tr></thead>\n",
       "<tbody>\n",
       "\t<tr><td>1           </td><td>V2          </td><td>0.0377646330</td><td>1           </td><td>          NA</td></tr>\n",
       "\t<tr><td>1           </td><td>V3          </td><td>0.0002531124</td><td>2           </td><td>-0.037511521</td></tr>\n",
       "\t<tr><td>1           </td><td>V4          </td><td>0.0039770760</td><td>3           </td><td> 0.003723964</td></tr>\n",
       "\t<tr><td>1           </td><td>V5          </td><td>0.0207640580</td><td>4           </td><td> 0.016786982</td></tr>\n",
       "\t<tr><td>1           </td><td>V6          </td><td>0.0217311800</td><td>5           </td><td> 0.000967122</td></tr>\n",
       "\t<tr><td>1           </td><td>V7          </td><td>0.1140000000</td><td>6           </td><td> 0.092268820</td></tr>\n",
       "</tbody>\n",
       "</table>\n"
      ],
      "text/latex": [
       "\\begin{tabular}{r|lllll}\n",
       " id & variable & value & time & diff\\_series\\\\\n",
       "\\hline\n",
       "\t 1            & V2           & 0.0377646330 & 1            &           NA\\\\\n",
       "\t 1            & V3           & 0.0002531124 & 2            & -0.037511521\\\\\n",
       "\t 1            & V4           & 0.0039770760 & 3            &  0.003723964\\\\\n",
       "\t 1            & V5           & 0.0207640580 & 4            &  0.016786982\\\\\n",
       "\t 1            & V6           & 0.0217311800 & 5            &  0.000967122\\\\\n",
       "\t 1            & V7           & 0.1140000000 & 6            &  0.092268820\\\\\n",
       "\\end{tabular}\n"
      ],
      "text/markdown": [
       "\n",
       "| id | variable | value | time | diff_series |\n",
       "|---|---|---|---|---|\n",
       "| 1            | V2           | 0.0377646330 | 1            |           NA |\n",
       "| 1            | V3           | 0.0002531124 | 2            | -0.037511521 |\n",
       "| 1            | V4           | 0.0039770760 | 3            |  0.003723964 |\n",
       "| 1            | V5           | 0.0207640580 | 4            |  0.016786982 |\n",
       "| 1            | V6           | 0.0217311800 | 5            |  0.000967122 |\n",
       "| 1            | V7           | 0.1140000000 | 6            |  0.092268820 |\n",
       "\n"
      ],
      "text/plain": [
       "  id variable value        time diff_series \n",
       "1 1  V2       0.0377646330 1              NA\n",
       "2 1  V3       0.0002531124 2    -0.037511521\n",
       "3 1  V4       0.0039770760 3     0.003723964\n",
       "4 1  V5       0.0207640580 4     0.016786982\n",
       "5 1  V6       0.0217311800 5     0.000967122\n",
       "6 1  V7       0.1140000000 6     0.092268820"
      ]
     },
     "metadata": {},
     "output_type": "display_data"
    }
   ],
   "source": [
    "dt_ts_train=data.table(traindata)\n",
    "dt_ts_train[,id:=1:.N]\n",
    "long_train=melt(dt_ts_train,id.vars=c('id'))\n",
    "long_train[,time:=as.numeric(gsub(\"\\\\D\", \"\", variable))-1]\n",
    "long_train=long_train[order(id,time)]\n",
    "diff_long=copy(long_train)\n",
    "diff_long[,diff_series:=value-shift(value,1),by=list(id)]\n",
    "head(diff_long)"
   ]
  },
  {
   "cell_type": "code",
   "execution_count": 15,
   "metadata": {
    "scrolled": true
   },
   "outputs": [
    {
     "data": {
      "text/html": [
       "<table>\n",
       "<thead><tr><th scope=col>2</th><th scope=col>3</th><th scope=col>4</th><th scope=col>5</th><th scope=col>6</th><th scope=col>7</th><th scope=col>8</th><th scope=col>9</th><th scope=col>10</th><th scope=col>11</th><th scope=col>...</th><th scope=col>119</th><th scope=col>120</th><th scope=col>121</th><th scope=col>122</th><th scope=col>123</th><th scope=col>124</th><th scope=col>125</th><th scope=col>126</th><th scope=col>127</th><th scope=col>128</th></tr></thead>\n",
       "<tbody>\n",
       "\t<tr><td>-0.037511521</td><td> 0.003723964</td><td> 0.016786982</td><td> 0.000967122</td><td> 0.092268820</td><td> 0.300000000</td><td> 0.304000000</td><td>0.17100000  </td><td> 0.08000000 </td><td> 0.03300000 </td><td>...         </td><td> 0.015133234</td><td>-0.011377629</td><td>-0.009443586</td><td> 0.025519562</td><td> 0.000280744</td><td> 0.014429013</td><td> 0.001056311</td><td>-0.023149859</td><td> 0.008264213</td><td>-0.019126568</td></tr>\n",
       "\t<tr><td> 0.020556942</td><td>-0.018455991</td><td> 0.017591693</td><td> 0.016956416</td><td>-0.002291931</td><td> 0.048217989</td><td> 0.234000000</td><td>0.23300000  </td><td> 0.13000000 </td><td>-0.02700000 </td><td>...         </td><td> 0.007019978</td><td>-0.025736393</td><td> 0.013812700</td><td> 0.019324169</td><td>-0.000888445</td><td> 0.000687149</td><td>-0.022396647</td><td>-0.013977540</td><td> 0.021405171</td><td>-0.007356809</td></tr>\n",
       "\t<tr><td>-0.016179174</td><td> 0.031400853</td><td>-0.023532115</td><td> 0.115454676</td><td> 0.335000000</td><td> 0.335000000</td><td> 0.188000000</td><td>0.08900000  </td><td>-0.09100000 </td><td>-0.32400000 </td><td>...         </td><td> 0.023940894</td><td>-0.026179138</td><td> 0.028973513</td><td>-0.040942481</td><td> 0.013779004</td><td> 0.002096286</td><td>-0.002912475</td><td> 0.003799242</td><td> 0.009724722</td><td> 0.012983624</td></tr>\n",
       "\t<tr><td> 0.008470759</td><td> 0.019049504</td><td>-0.004757391</td><td> 0.010078628</td><td>-0.023441310</td><td> 0.009001748</td><td> 0.077402581</td><td>0.24800000  </td><td> 0.24300000 </td><td> 0.13100000 </td><td>...         </td><td>-0.015041910</td><td> 0.014071350</td><td>-0.016028641</td><td> 0.040140282</td><td>-0.044499591</td><td> 0.018007364</td><td>-0.013385823</td><td>-0.002127067</td><td> 0.027963798</td><td> 0.002843902</td></tr>\n",
       "\t<tr><td> 0.025712052</td><td>-0.009823282</td><td>-0.003396833</td><td>-0.016970592</td><td> 0.010976473</td><td>-0.005616872</td><td>-0.020796678</td><td>0.01289733  </td><td> 0.01472031 </td><td> 0.06691766 </td><td>...         </td><td> 0.014433514</td><td>-0.016467389</td><td> 0.025773254</td><td>-0.030666813</td><td>-0.008877612</td><td>-0.005649936</td><td> 0.027381701</td><td> 0.001877891</td><td> 0.011752984</td><td>-0.006059050</td></tr>\n",
       "\t<tr><td> 0.019603915</td><td>-0.034057333</td><td> 0.030254248</td><td>-0.014962628</td><td> 0.011071374</td><td>-0.019475918</td><td>-0.001109278</td><td>0.10172625  </td><td> 0.31400000 </td><td> 0.31300000 </td><td>...         </td><td>-0.029374361</td><td>-0.000431908</td><td> 0.033117647</td><td>-0.005569584</td><td> 0.010642672</td><td> 0.006239214</td><td>-0.018477157</td><td> 0.002842005</td><td>-0.004238373</td><td>-0.004017664</td></tr>\n",
       "</tbody>\n",
       "</table>\n"
      ],
      "text/latex": [
       "\\begin{tabular}{r|lllllllllllllllllllllllllllllllllllllllllllllllllllllllllllllllllllllllllllllllllllllllllllllllllllllllllllllllllllllllllllllll}\n",
       " 2 & 3 & 4 & 5 & 6 & 7 & 8 & 9 & 10 & 11 & ... & 119 & 120 & 121 & 122 & 123 & 124 & 125 & 126 & 127 & 128\\\\\n",
       "\\hline\n",
       "\t -0.037511521 &  0.003723964 &  0.016786982 &  0.000967122 &  0.092268820 &  0.300000000 &  0.304000000 & 0.17100000   &  0.08000000  &  0.03300000  & ...          &  0.015133234 & -0.011377629 & -0.009443586 &  0.025519562 &  0.000280744 &  0.014429013 &  0.001056311 & -0.023149859 &  0.008264213 & -0.019126568\\\\\n",
       "\t  0.020556942 & -0.018455991 &  0.017591693 &  0.016956416 & -0.002291931 &  0.048217989 &  0.234000000 & 0.23300000   &  0.13000000  & -0.02700000  & ...          &  0.007019978 & -0.025736393 &  0.013812700 &  0.019324169 & -0.000888445 &  0.000687149 & -0.022396647 & -0.013977540 &  0.021405171 & -0.007356809\\\\\n",
       "\t -0.016179174 &  0.031400853 & -0.023532115 &  0.115454676 &  0.335000000 &  0.335000000 &  0.188000000 & 0.08900000   & -0.09100000  & -0.32400000  & ...          &  0.023940894 & -0.026179138 &  0.028973513 & -0.040942481 &  0.013779004 &  0.002096286 & -0.002912475 &  0.003799242 &  0.009724722 &  0.012983624\\\\\n",
       "\t  0.008470759 &  0.019049504 & -0.004757391 &  0.010078628 & -0.023441310 &  0.009001748 &  0.077402581 & 0.24800000   &  0.24300000  &  0.13100000  & ...          & -0.015041910 &  0.014071350 & -0.016028641 &  0.040140282 & -0.044499591 &  0.018007364 & -0.013385823 & -0.002127067 &  0.027963798 &  0.002843902\\\\\n",
       "\t  0.025712052 & -0.009823282 & -0.003396833 & -0.016970592 &  0.010976473 & -0.005616872 & -0.020796678 & 0.01289733   &  0.01472031  &  0.06691766  & ...          &  0.014433514 & -0.016467389 &  0.025773254 & -0.030666813 & -0.008877612 & -0.005649936 &  0.027381701 &  0.001877891 &  0.011752984 & -0.006059050\\\\\n",
       "\t  0.019603915 & -0.034057333 &  0.030254248 & -0.014962628 &  0.011071374 & -0.019475918 & -0.001109278 & 0.10172625   &  0.31400000  &  0.31300000  & ...          & -0.029374361 & -0.000431908 &  0.033117647 & -0.005569584 &  0.010642672 &  0.006239214 & -0.018477157 &  0.002842005 & -0.004238373 & -0.004017664\\\\\n",
       "\\end{tabular}\n"
      ],
      "text/markdown": [
       "\n",
       "| 2 | 3 | 4 | 5 | 6 | 7 | 8 | 9 | 10 | 11 | ... | 119 | 120 | 121 | 122 | 123 | 124 | 125 | 126 | 127 | 128 |\n",
       "|---|---|---|---|---|---|---|---|---|---|---|---|---|---|---|---|---|---|---|---|---|\n",
       "| -0.037511521 |  0.003723964 |  0.016786982 |  0.000967122 |  0.092268820 |  0.300000000 |  0.304000000 | 0.17100000   |  0.08000000  |  0.03300000  | ...          |  0.015133234 | -0.011377629 | -0.009443586 |  0.025519562 |  0.000280744 |  0.014429013 |  0.001056311 | -0.023149859 |  0.008264213 | -0.019126568 |\n",
       "|  0.020556942 | -0.018455991 |  0.017591693 |  0.016956416 | -0.002291931 |  0.048217989 |  0.234000000 | 0.23300000   |  0.13000000  | -0.02700000  | ...          |  0.007019978 | -0.025736393 |  0.013812700 |  0.019324169 | -0.000888445 |  0.000687149 | -0.022396647 | -0.013977540 |  0.021405171 | -0.007356809 |\n",
       "| -0.016179174 |  0.031400853 | -0.023532115 |  0.115454676 |  0.335000000 |  0.335000000 |  0.188000000 | 0.08900000   | -0.09100000  | -0.32400000  | ...          |  0.023940894 | -0.026179138 |  0.028973513 | -0.040942481 |  0.013779004 |  0.002096286 | -0.002912475 |  0.003799242 |  0.009724722 |  0.012983624 |\n",
       "|  0.008470759 |  0.019049504 | -0.004757391 |  0.010078628 | -0.023441310 |  0.009001748 |  0.077402581 | 0.24800000   |  0.24300000  |  0.13100000  | ...          | -0.015041910 |  0.014071350 | -0.016028641 |  0.040140282 | -0.044499591 |  0.018007364 | -0.013385823 | -0.002127067 |  0.027963798 |  0.002843902 |\n",
       "|  0.025712052 | -0.009823282 | -0.003396833 | -0.016970592 |  0.010976473 | -0.005616872 | -0.020796678 | 0.01289733   |  0.01472031  |  0.06691766  | ...          |  0.014433514 | -0.016467389 |  0.025773254 | -0.030666813 | -0.008877612 | -0.005649936 |  0.027381701 |  0.001877891 |  0.011752984 | -0.006059050 |\n",
       "|  0.019603915 | -0.034057333 |  0.030254248 | -0.014962628 |  0.011071374 | -0.019475918 | -0.001109278 | 0.10172625   |  0.31400000  |  0.31300000  | ...          | -0.029374361 | -0.000431908 |  0.033117647 | -0.005569584 |  0.010642672 |  0.006239214 | -0.018477157 |  0.002842005 | -0.004238373 | -0.004017664 |\n",
       "\n"
      ],
      "text/plain": [
       "  2            3            4            5            6            7           \n",
       "1 -0.037511521  0.003723964  0.016786982  0.000967122  0.092268820  0.300000000\n",
       "2  0.020556942 -0.018455991  0.017591693  0.016956416 -0.002291931  0.048217989\n",
       "3 -0.016179174  0.031400853 -0.023532115  0.115454676  0.335000000  0.335000000\n",
       "4  0.008470759  0.019049504 -0.004757391  0.010078628 -0.023441310  0.009001748\n",
       "5  0.025712052 -0.009823282 -0.003396833 -0.016970592  0.010976473 -0.005616872\n",
       "6  0.019603915 -0.034057333  0.030254248 -0.014962628  0.011071374 -0.019475918\n",
       "  8            9          10          11          ... 119          120         \n",
       "1  0.304000000 0.17100000  0.08000000  0.03300000 ...  0.015133234 -0.011377629\n",
       "2  0.234000000 0.23300000  0.13000000 -0.02700000 ...  0.007019978 -0.025736393\n",
       "3  0.188000000 0.08900000 -0.09100000 -0.32400000 ...  0.023940894 -0.026179138\n",
       "4  0.077402581 0.24800000  0.24300000  0.13100000 ... -0.015041910  0.014071350\n",
       "5 -0.020796678 0.01289733  0.01472031  0.06691766 ...  0.014433514 -0.016467389\n",
       "6 -0.001109278 0.10172625  0.31400000  0.31300000 ... -0.029374361 -0.000431908\n",
       "  121          122          123          124          125          126         \n",
       "1 -0.009443586  0.025519562  0.000280744  0.014429013  0.001056311 -0.023149859\n",
       "2  0.013812700  0.019324169 -0.000888445  0.000687149 -0.022396647 -0.013977540\n",
       "3  0.028973513 -0.040942481  0.013779004  0.002096286 -0.002912475  0.003799242\n",
       "4 -0.016028641  0.040140282 -0.044499591  0.018007364 -0.013385823 -0.002127067\n",
       "5  0.025773254 -0.030666813 -0.008877612 -0.005649936  0.027381701  0.001877891\n",
       "6  0.033117647 -0.005569584  0.010642672  0.006239214 -0.018477157  0.002842005\n",
       "  127          128         \n",
       "1  0.008264213 -0.019126568\n",
       "2  0.021405171 -0.007356809\n",
       "3  0.009724722  0.012983624\n",
       "4  0.027963798  0.002843902\n",
       "5  0.011752984 -0.006059050\n",
       "6 -0.004238373 -0.004017664"
      ]
     },
     "metadata": {},
     "output_type": "display_data"
    }
   ],
   "source": [
    "diff_train=dcast(diff_long[!is.na(diff_series)],id~time,value.var='diff_series')\n",
    "diff_train=diff_train[,-c(\"id\")]\n",
    "head(diff_train)\n",
    "diff_train=as.matrix(diff_train)"
   ]
  },
  {
   "cell_type": "markdown",
   "metadata": {},
   "source": [
    "<a id=\"4\"></a>\n",
    "## Difference Function"
   ]
  },
  {
   "cell_type": "code",
   "execution_count": 16,
   "metadata": {},
   "outputs": [],
   "source": [
    "difference_obtainer=function(traindata, diff_value){\n",
    "    dt_ts_train=data.table(traindata)\n",
    "    dt_ts_train[,id:=1:.N]\n",
    "    long_train=melt(dt_ts_train,id.vars=c('id'))\n",
    "    long_train[,time:=as.numeric(gsub(\"\\\\D\", \"\", variable))-1]\n",
    "    long_train=long_train[order(id,time)]\n",
    "    diff_long=copy(long_train)\n",
    "    diff_long[,diff_series:=value-shift(value,diff_value),by=list(id)]#Lag value is assigned by diff_value\n",
    "    head(diff_long)\n",
    "    \n",
    "    diff_train=dcast(diff_long[!is.na(diff_series)],id~time,value.var='diff_series')\n",
    "    diff_train=diff_train[,-c(\"id\")]\n",
    "    head(diff_train)\n",
    "    diff_train=as.matrix(diff_train)\n",
    "    \n",
    "    return(diff_train)\n",
    "}"
   ]
  },
  {
   "cell_type": "markdown",
   "metadata": {},
   "source": [
    "This function will be used to get a difference dataset. \"_2\" string will be used to mention 2 differences taken dataset."
   ]
  },
  {
   "cell_type": "markdown",
   "metadata": {},
   "source": [
    "###  1 Difference"
   ]
  },
  {
   "cell_type": "code",
   "execution_count": 17,
   "metadata": {},
   "outputs": [],
   "source": [
    "diff_train=difference_obtainer(traindata,1)"
   ]
  },
  {
   "cell_type": "markdown",
   "metadata": {},
   "source": [
    "### 2 Difference"
   ]
  },
  {
   "cell_type": "code",
   "execution_count": 18,
   "metadata": {},
   "outputs": [],
   "source": [
    "diff_train_2=difference_obtainer(traindata,2)"
   ]
  },
  {
   "cell_type": "code",
   "execution_count": null,
   "metadata": {},
   "outputs": [],
   "source": []
  },
  {
   "cell_type": "code",
   "execution_count": null,
   "metadata": {},
   "outputs": [],
   "source": []
  },
  {
   "cell_type": "markdown",
   "metadata": {},
   "source": [
    "## Example Code for PAA"
   ]
  },
  {
   "cell_type": "code",
   "execution_count": 19,
   "metadata": {},
   "outputs": [],
   "source": [
    "segment_length=5"
   ]
  },
  {
   "cell_type": "code",
   "execution_count": 20,
   "metadata": {},
   "outputs": [],
   "source": [
    "paa_results=vector(\"list\", max(long_train$id))"
   ]
  },
  {
   "cell_type": "code",
   "execution_count": 21,
   "metadata": {
    "scrolled": false
   },
   "outputs": [],
   "source": [
    "for(i in 1:max(long_train$id)){\n",
    "    current_ts=long_train[id==i,]$value\n",
    "    \n",
    "    paa_rep=repr_paa(current_ts, segment_length, meanC)\n",
    "    current_dt=data.table(time=1:length(long_train[id==i,]$value))\n",
    "    result_dt=data.table(time=c(1:(length(paa_rep)))*segment_length, values=paa_rep)\n",
    "    all_dt=merge(current_dt, result_dt, by='time',all.x=T)\n",
    "    all_dt[,values:=nafill(values,'nocb')]\n",
    "    paa_results[[i]]=transpose(data.table(values=all_dt$values))\n",
    "    \n",
    "}"
   ]
  },
  {
   "cell_type": "code",
   "execution_count": 22,
   "metadata": {},
   "outputs": [],
   "source": [
    "paa_train=rbindlist(paa_results)"
   ]
  },
  {
   "cell_type": "code",
   "execution_count": 23,
   "metadata": {},
   "outputs": [
    {
     "data": {
      "text/html": [
       "<table>\n",
       "<thead><tr><th scope=col>V1</th><th scope=col>V2</th><th scope=col>V3</th><th scope=col>V4</th><th scope=col>V5</th><th scope=col>V6</th><th scope=col>V7</th><th scope=col>V8</th><th scope=col>V9</th><th scope=col>V10</th><th scope=col>...</th><th scope=col>V119</th><th scope=col>V120</th><th scope=col>V121</th><th scope=col>V122</th><th scope=col>V123</th><th scope=col>V124</th><th scope=col>V125</th><th scope=col>V126</th><th scope=col>V127</th><th scope=col>V128</th></tr></thead>\n",
       "<tbody>\n",
       "\t<tr><td>0.0168980119</td><td>0.0168980119</td><td>0.0168980119</td><td>0.0168980119</td><td>0.0168980119</td><td>0.620800000 </td><td>0.620800000 </td><td>0.620800000 </td><td>0.620800000 </td><td>0.620800000 </td><td>...         </td><td>0.02895437  </td><td>0.02895437  </td><td>0.03995435  </td><td>0.03995435  </td><td>0.03995435  </td><td>0.03995435  </td><td>0.03995435  </td><td>NA          </td><td>NA          </td><td>NA          </td></tr>\n",
       "\t<tr><td>0.0162248013</td><td>0.0162248013</td><td>0.0162248013</td><td>0.0162248013</td><td>0.0162248013</td><td>0.332956402 </td><td>0.332956402 </td><td>0.332956402 </td><td>0.332956402 </td><td>0.332956402 </td><td>...         </td><td>0.03060810  </td><td>0.03060810  </td><td>0.03576214  </td><td>0.03576214  </td><td>0.03576214  </td><td>0.03576214  </td><td>0.03576214  </td><td>NA          </td><td>NA          </td><td>NA          </td></tr>\n",
       "\t<tr><td>0.0394310218</td><td>0.0394310218</td><td>0.0394310218</td><td>0.0394310218</td><td>0.0394310218</td><td>0.860200000 </td><td>0.860200000 </td><td>0.860200000 </td><td>0.860200000 </td><td>0.860200000 </td><td>...         </td><td>0.03425886  </td><td>0.03425886  </td><td>0.02242872  </td><td>0.02242872  </td><td>0.02242872  </td><td>0.02242872  </td><td>0.02242872  </td><td>NA          </td><td>NA          </td><td>NA          </td></tr>\n",
       "\t<tr><td>0.0125145597</td><td>0.0125145597</td><td>0.0125145597</td><td>0.0125145597</td><td>0.0125145597</td><td>0.205038618 </td><td>0.205038618 </td><td>0.205038618 </td><td>0.205038618 </td><td>0.205038618 </td><td>...         </td><td>0.01669614  </td><td>0.01669614  </td><td>0.01538142  </td><td>0.01538142  </td><td>0.01538142  </td><td>0.01538142  </td><td>0.01538142  </td><td>NA          </td><td>NA          </td><td>NA          </td></tr>\n",
       "\t<tr><td>0.0413032538</td><td>0.0413032538</td><td>0.0413032538</td><td>0.0413032538</td><td>0.0413032538</td><td>0.029009739 </td><td>0.029009739 </td><td>0.029009739 </td><td>0.029009739 </td><td>0.029009739 </td><td>...         </td><td>0.02115875  </td><td>0.02115875  </td><td>0.01832026  </td><td>0.01832026  </td><td>0.01832026  </td><td>0.01832026  </td><td>0.01832026  </td><td>NA          </td><td>NA          </td><td>NA          </td></tr>\n",
       "\t<tr><td>0.0313072738</td><td>0.0313072738</td><td>0.0313072738</td><td>0.0313072738</td><td>0.0313072738</td><td>0.126103144 </td><td>0.126103144 </td><td>0.126103144 </td><td>0.126103144 </td><td>0.126103144 </td><td>...         </td><td>0.02361924  </td><td>0.02361924  </td><td>0.04757112  </td><td>0.04757112  </td><td>0.04757112  </td><td>0.04757112  </td><td>0.04757112  </td><td>NA          </td><td>NA          </td><td>NA          </td></tr>\n",
       "\t<tr><td>0.0294146025</td><td>0.0294146025</td><td>0.0294146025</td><td>0.0294146025</td><td>0.0294146025</td><td>0.018427795 </td><td>0.018427795 </td><td>0.018427795 </td><td>0.018427795 </td><td>0.018427795 </td><td>...         </td><td>0.02034330  </td><td>0.02034330  </td><td>0.03349451  </td><td>0.03349451  </td><td>0.03349451  </td><td>0.03349451  </td><td>0.03349451  </td><td>NA          </td><td>NA          </td><td>NA          </td></tr>\n",
       "\t<tr><td>0.0113078153</td><td>0.0113078153</td><td>0.0113078153</td><td>0.0113078153</td><td>0.0113078153</td><td>0.128904942 </td><td>0.128904942 </td><td>0.128904942 </td><td>0.128904942 </td><td>0.128904942 </td><td>...         </td><td>0.03616909  </td><td>0.03616909  </td><td>0.03875980  </td><td>0.03875980  </td><td>0.03875980  </td><td>0.03875980  </td><td>0.03875980  </td><td>NA          </td><td>NA          </td><td>NA          </td></tr>\n",
       "\t<tr><td>0.0307588139</td><td>0.0307588139</td><td>0.0307588139</td><td>0.0307588139</td><td>0.0307588139</td><td>0.460328199 </td><td>0.460328199 </td><td>0.460328199 </td><td>0.460328199 </td><td>0.460328199 </td><td>...         </td><td>0.02593722  </td><td>0.02593722  </td><td>0.02463345  </td><td>0.02463345  </td><td>0.02463345  </td><td>0.02463345  </td><td>0.02463345  </td><td>NA          </td><td>NA          </td><td>NA          </td></tr>\n",
       "\t<tr><td>0.0288568120</td><td>0.0288568120</td><td>0.0288568120</td><td>0.0288568120</td><td>0.0288568120</td><td>0.128333054 </td><td>0.128333054 </td><td>0.128333054 </td><td>0.128333054 </td><td>0.128333054 </td><td>...         </td><td>0.03006264  </td><td>0.03006264  </td><td>0.02712369  </td><td>0.02712369  </td><td>0.02712369  </td><td>0.02712369  </td><td>0.02712369  </td><td>NA          </td><td>NA          </td><td>NA          </td></tr>\n",
       "\t<tr><td>0.0177754415</td><td>0.0177754415</td><td>0.0177754415</td><td>0.0177754415</td><td>0.0177754415</td><td>0.014398848 </td><td>0.014398848 </td><td>0.014398848 </td><td>0.014398848 </td><td>0.014398848 </td><td>...         </td><td>0.02723155  </td><td>0.02723155  </td><td>0.03432022  </td><td>0.03432022  </td><td>0.03432022  </td><td>0.03432022  </td><td>0.03432022  </td><td>NA          </td><td>NA          </td><td>NA          </td></tr>\n",
       "\t<tr><td>0.0154187540</td><td>0.0154187540</td><td>0.0154187540</td><td>0.0154187540</td><td>0.0154187540</td><td>0.015753976 </td><td>0.015753976 </td><td>0.015753976 </td><td>0.015753976 </td><td>0.015753976 </td><td>...         </td><td>0.02294538  </td><td>0.02294538  </td><td>0.02350121  </td><td>0.02350121  </td><td>0.02350121  </td><td>0.02350121  </td><td>0.02350121  </td><td>NA          </td><td>NA          </td><td>NA          </td></tr>\n",
       "\t<tr><td>0.0268055453</td><td>0.0268055453</td><td>0.0268055453</td><td>0.0268055453</td><td>0.0268055453</td><td>0.025169922 </td><td>0.025169922 </td><td>0.025169922 </td><td>0.025169922 </td><td>0.025169922 </td><td>...         </td><td>0.03039062  </td><td>0.03039062  </td><td>0.02287421  </td><td>0.02287421  </td><td>0.02287421  </td><td>0.02287421  </td><td>0.02287421  </td><td>NA          </td><td>NA          </td><td>NA          </td></tr>\n",
       "\t<tr><td>0.0192343094</td><td>0.0192343094</td><td>0.0192343094</td><td>0.0192343094</td><td>0.0192343094</td><td>0.012807037 </td><td>0.012807037 </td><td>0.012807037 </td><td>0.012807037 </td><td>0.012807037 </td><td>...         </td><td>0.02163751  </td><td>0.02163751  </td><td>0.02360917  </td><td>0.02360917  </td><td>0.02360917  </td><td>0.02360917  </td><td>0.02360917  </td><td>NA          </td><td>NA          </td><td>NA          </td></tr>\n",
       "\t<tr><td>0.0222852607</td><td>0.0222852607</td><td>0.0222852607</td><td>0.0222852607</td><td>0.0222852607</td><td>0.021170342 </td><td>0.021170342 </td><td>0.021170342 </td><td>0.021170342 </td><td>0.021170342 </td><td>...         </td><td>0.02412494  </td><td>0.02412494  </td><td>0.03792936  </td><td>0.03792936  </td><td>0.03792936  </td><td>0.03792936  </td><td>0.03792936  </td><td>NA          </td><td>NA          </td><td>NA          </td></tr>\n",
       "\t<tr><td>0.0362657190</td><td>0.0362657190</td><td>0.0362657190</td><td>0.0362657190</td><td>0.0362657190</td><td>0.017531538 </td><td>0.017531538 </td><td>0.017531538 </td><td>0.017531538 </td><td>0.017531538 </td><td>...         </td><td>0.01124889  </td><td>0.01124889  </td><td>0.02296966  </td><td>0.02296966  </td><td>0.02296966  </td><td>0.02296966  </td><td>0.02296966  </td><td>NA          </td><td>NA          </td><td>NA          </td></tr>\n",
       "\t<tr><td>0.0163688964</td><td>0.0163688964</td><td>0.0163688964</td><td>0.0163688964</td><td>0.0163688964</td><td>0.017356786 </td><td>0.017356786 </td><td>0.017356786 </td><td>0.017356786 </td><td>0.017356786 </td><td>...         </td><td>0.02963157  </td><td>0.02963157  </td><td>0.01512957  </td><td>0.01512957  </td><td>0.01512957  </td><td>0.01512957  </td><td>0.01512957  </td><td>NA          </td><td>NA          </td><td>NA          </td></tr>\n",
       "\t<tr><td>0.0229478896</td><td>0.0229478896</td><td>0.0229478896</td><td>0.0229478896</td><td>0.0229478896</td><td>0.013251879 </td><td>0.013251879 </td><td>0.013251879 </td><td>0.013251879 </td><td>0.013251879 </td><td>...         </td><td>0.02812540  </td><td>0.02812540  </td><td>0.01385494  </td><td>0.01385494  </td><td>0.01385494  </td><td>0.01385494  </td><td>0.01385494  </td><td>NA          </td><td>NA          </td><td>NA          </td></tr>\n",
       "\t<tr><td>0.0194247693</td><td>0.0194247693</td><td>0.0194247693</td><td>0.0194247693</td><td>0.0194247693</td><td>0.016890873 </td><td>0.016890873 </td><td>0.016890873 </td><td>0.016890873 </td><td>0.016890873 </td><td>...         </td><td>0.02509704  </td><td>0.02509704  </td><td>0.02626674  </td><td>0.02626674  </td><td>0.02626674  </td><td>0.02626674  </td><td>0.02626674  </td><td>NA          </td><td>NA          </td><td>NA          </td></tr>\n",
       "\t<tr><td>0.0303694235</td><td>0.0303694235</td><td>0.0303694235</td><td>0.0303694235</td><td>0.0303694235</td><td>0.017075563 </td><td>0.017075563 </td><td>0.017075563 </td><td>0.017075563 </td><td>0.017075563 </td><td>...         </td><td>0.02610631  </td><td>0.02610631  </td><td>0.02132071  </td><td>0.02132071  </td><td>0.02132071  </td><td>0.02132071  </td><td>0.02132071  </td><td>NA          </td><td>NA          </td><td>NA          </td></tr>\n",
       "\t<tr><td>0.0186244703</td><td>0.0186244703</td><td>0.0186244703</td><td>0.0186244703</td><td>0.0186244703</td><td>0.015271937 </td><td>0.015271937 </td><td>0.015271937 </td><td>0.015271937 </td><td>0.015271937 </td><td>...         </td><td>0.46140000  </td><td>0.46140000  </td><td>0.17626058  </td><td>0.17626058  </td><td>0.17626058  </td><td>0.17626058  </td><td>0.17626058  </td><td>NA          </td><td>NA          </td><td>NA          </td></tr>\n",
       "\t<tr><td>0.0189977288</td><td>0.0189977288</td><td>0.0189977288</td><td>0.0189977288</td><td>0.0189977288</td><td>0.019156852 </td><td>0.019156852 </td><td>0.019156852 </td><td>0.019156852 </td><td>0.019156852 </td><td>...         </td><td>0.18527348  </td><td>0.18527348  </td><td>0.03274235  </td><td>0.03274235  </td><td>0.03274235  </td><td>0.03274235  </td><td>0.03274235  </td><td>NA          </td><td>NA          </td><td>NA          </td></tr>\n",
       "\t<tr><td>0.0244386866</td><td>0.0244386866</td><td>0.0244386866</td><td>0.0244386866</td><td>0.0244386866</td><td>0.017426962 </td><td>0.017426962 </td><td>0.017426962 </td><td>0.017426962 </td><td>0.017426962 </td><td>...         </td><td>0.43740000  </td><td>0.43740000  </td><td>0.02787224  </td><td>0.02787224  </td><td>0.02787224  </td><td>0.02787224  </td><td>0.02787224  </td><td>NA          </td><td>NA          </td><td>NA          </td></tr>\n",
       "\t<tr><td>0.0161873084</td><td>0.0161873084</td><td>0.0161873084</td><td>0.0161873084</td><td>0.0161873084</td><td>0.028115100 </td><td>0.028115100 </td><td>0.028115100 </td><td>0.028115100 </td><td>0.028115100 </td><td>...         </td><td>0.77360000  </td><td>0.77360000  </td><td>0.05074452  </td><td>0.05074452  </td><td>0.05074452  </td><td>0.05074452  </td><td>0.05074452  </td><td>NA          </td><td>NA          </td><td>NA          </td></tr>\n",
       "\t<tr><td>0.0261256957</td><td>0.0261256957</td><td>0.0261256957</td><td>0.0261256957</td><td>0.0261256957</td><td>0.032356781 </td><td>0.032356781 </td><td>0.032356781 </td><td>0.032356781 </td><td>0.032356781 </td><td>...         </td><td>0.10443388  </td><td>0.10443388  </td><td>0.03463223  </td><td>0.03463223  </td><td>0.03463223  </td><td>0.03463223  </td><td>0.03463223  </td><td>NA          </td><td>NA          </td><td>NA          </td></tr>\n",
       "\t<tr><td>0.0295911586</td><td>0.0295911586</td><td>0.0295911586</td><td>0.0295911586</td><td>0.0295911586</td><td>0.031434498 </td><td>0.031434498 </td><td>0.031434498 </td><td>0.031434498 </td><td>0.031434498 </td><td>...         </td><td>0.57300000  </td><td>0.57300000  </td><td>0.03761354  </td><td>0.03761354  </td><td>0.03761354  </td><td>0.03761354  </td><td>0.03761354  </td><td>NA          </td><td>NA          </td><td>NA          </td></tr>\n",
       "\t<tr><td>0.0099783397</td><td>0.0099783397</td><td>0.0099783397</td><td>0.0099783397</td><td>0.0099783397</td><td>0.003649551 </td><td>0.003649551 </td><td>0.003649551 </td><td>0.003649551 </td><td>0.003649551 </td><td>...         </td><td>0.12112487  </td><td>0.12112487  </td><td>0.01557713  </td><td>0.01557713  </td><td>0.01557713  </td><td>0.01557713  </td><td>0.01557713  </td><td>NA          </td><td>NA          </td><td>NA          </td></tr>\n",
       "\t<tr><td>0.0166998189</td><td>0.0166998189</td><td>0.0166998189</td><td>0.0166998189</td><td>0.0166998189</td><td>0.026302864 </td><td>0.026302864 </td><td>0.026302864 </td><td>0.026302864 </td><td>0.026302864 </td><td>...         </td><td>0.37730432  </td><td>0.37730432  </td><td>0.01672144  </td><td>0.01672144  </td><td>0.01672144  </td><td>0.01672144  </td><td>0.01672144  </td><td>NA          </td><td>NA          </td><td>NA          </td></tr>\n",
       "\t<tr><td>0.0222092480</td><td>0.0222092480</td><td>0.0222092480</td><td>0.0222092480</td><td>0.0222092480</td><td>0.012534391 </td><td>0.012534391 </td><td>0.012534391 </td><td>0.012534391 </td><td>0.012534391 </td><td>...         </td><td>0.67200000  </td><td>0.67200000  </td><td>0.05970110  </td><td>0.05970110  </td><td>0.05970110  </td><td>0.05970110  </td><td>0.05970110  </td><td>NA          </td><td>NA          </td><td>NA          </td></tr>\n",
       "\t<tr><td>0.0000623553</td><td>0.0000623553</td><td>0.0000623553</td><td>0.0000623553</td><td>0.0000623553</td><td>0.022477013 </td><td>0.022477013 </td><td>0.022477013 </td><td>0.022477013 </td><td>0.022477013 </td><td>...         </td><td>0.77220000  </td><td>0.77220000  </td><td>0.09695551  </td><td>0.09695551  </td><td>0.09695551  </td><td>0.09695551  </td><td>0.09695551  </td><td>NA          </td><td>NA          </td><td>NA          </td></tr>\n",
       "</tbody>\n",
       "</table>\n"
      ],
      "text/latex": [
       "\\begin{tabular}{r|llllllllllllllllllllllllllllllllllllllllllllllllllllllllllllllllllllllllllllllllllllllllllllllllllllllllllllllllllllllllllllllll}\n",
       " V1 & V2 & V3 & V4 & V5 & V6 & V7 & V8 & V9 & V10 & ... & V119 & V120 & V121 & V122 & V123 & V124 & V125 & V126 & V127 & V128\\\\\n",
       "\\hline\n",
       "\t 0.0168980119 & 0.0168980119 & 0.0168980119 & 0.0168980119 & 0.0168980119 & 0.620800000  & 0.620800000  & 0.620800000  & 0.620800000  & 0.620800000  & ...          & 0.02895437   & 0.02895437   & 0.03995435   & 0.03995435   & 0.03995435   & 0.03995435   & 0.03995435   & NA           & NA           & NA          \\\\\n",
       "\t 0.0162248013 & 0.0162248013 & 0.0162248013 & 0.0162248013 & 0.0162248013 & 0.332956402  & 0.332956402  & 0.332956402  & 0.332956402  & 0.332956402  & ...          & 0.03060810   & 0.03060810   & 0.03576214   & 0.03576214   & 0.03576214   & 0.03576214   & 0.03576214   & NA           & NA           & NA          \\\\\n",
       "\t 0.0394310218 & 0.0394310218 & 0.0394310218 & 0.0394310218 & 0.0394310218 & 0.860200000  & 0.860200000  & 0.860200000  & 0.860200000  & 0.860200000  & ...          & 0.03425886   & 0.03425886   & 0.02242872   & 0.02242872   & 0.02242872   & 0.02242872   & 0.02242872   & NA           & NA           & NA          \\\\\n",
       "\t 0.0125145597 & 0.0125145597 & 0.0125145597 & 0.0125145597 & 0.0125145597 & 0.205038618  & 0.205038618  & 0.205038618  & 0.205038618  & 0.205038618  & ...          & 0.01669614   & 0.01669614   & 0.01538142   & 0.01538142   & 0.01538142   & 0.01538142   & 0.01538142   & NA           & NA           & NA          \\\\\n",
       "\t 0.0413032538 & 0.0413032538 & 0.0413032538 & 0.0413032538 & 0.0413032538 & 0.029009739  & 0.029009739  & 0.029009739  & 0.029009739  & 0.029009739  & ...          & 0.02115875   & 0.02115875   & 0.01832026   & 0.01832026   & 0.01832026   & 0.01832026   & 0.01832026   & NA           & NA           & NA          \\\\\n",
       "\t 0.0313072738 & 0.0313072738 & 0.0313072738 & 0.0313072738 & 0.0313072738 & 0.126103144  & 0.126103144  & 0.126103144  & 0.126103144  & 0.126103144  & ...          & 0.02361924   & 0.02361924   & 0.04757112   & 0.04757112   & 0.04757112   & 0.04757112   & 0.04757112   & NA           & NA           & NA          \\\\\n",
       "\t 0.0294146025 & 0.0294146025 & 0.0294146025 & 0.0294146025 & 0.0294146025 & 0.018427795  & 0.018427795  & 0.018427795  & 0.018427795  & 0.018427795  & ...          & 0.02034330   & 0.02034330   & 0.03349451   & 0.03349451   & 0.03349451   & 0.03349451   & 0.03349451   & NA           & NA           & NA          \\\\\n",
       "\t 0.0113078153 & 0.0113078153 & 0.0113078153 & 0.0113078153 & 0.0113078153 & 0.128904942  & 0.128904942  & 0.128904942  & 0.128904942  & 0.128904942  & ...          & 0.03616909   & 0.03616909   & 0.03875980   & 0.03875980   & 0.03875980   & 0.03875980   & 0.03875980   & NA           & NA           & NA          \\\\\n",
       "\t 0.0307588139 & 0.0307588139 & 0.0307588139 & 0.0307588139 & 0.0307588139 & 0.460328199  & 0.460328199  & 0.460328199  & 0.460328199  & 0.460328199  & ...          & 0.02593722   & 0.02593722   & 0.02463345   & 0.02463345   & 0.02463345   & 0.02463345   & 0.02463345   & NA           & NA           & NA          \\\\\n",
       "\t 0.0288568120 & 0.0288568120 & 0.0288568120 & 0.0288568120 & 0.0288568120 & 0.128333054  & 0.128333054  & 0.128333054  & 0.128333054  & 0.128333054  & ...          & 0.03006264   & 0.03006264   & 0.02712369   & 0.02712369   & 0.02712369   & 0.02712369   & 0.02712369   & NA           & NA           & NA          \\\\\n",
       "\t 0.0177754415 & 0.0177754415 & 0.0177754415 & 0.0177754415 & 0.0177754415 & 0.014398848  & 0.014398848  & 0.014398848  & 0.014398848  & 0.014398848  & ...          & 0.02723155   & 0.02723155   & 0.03432022   & 0.03432022   & 0.03432022   & 0.03432022   & 0.03432022   & NA           & NA           & NA          \\\\\n",
       "\t 0.0154187540 & 0.0154187540 & 0.0154187540 & 0.0154187540 & 0.0154187540 & 0.015753976  & 0.015753976  & 0.015753976  & 0.015753976  & 0.015753976  & ...          & 0.02294538   & 0.02294538   & 0.02350121   & 0.02350121   & 0.02350121   & 0.02350121   & 0.02350121   & NA           & NA           & NA          \\\\\n",
       "\t 0.0268055453 & 0.0268055453 & 0.0268055453 & 0.0268055453 & 0.0268055453 & 0.025169922  & 0.025169922  & 0.025169922  & 0.025169922  & 0.025169922  & ...          & 0.03039062   & 0.03039062   & 0.02287421   & 0.02287421   & 0.02287421   & 0.02287421   & 0.02287421   & NA           & NA           & NA          \\\\\n",
       "\t 0.0192343094 & 0.0192343094 & 0.0192343094 & 0.0192343094 & 0.0192343094 & 0.012807037  & 0.012807037  & 0.012807037  & 0.012807037  & 0.012807037  & ...          & 0.02163751   & 0.02163751   & 0.02360917   & 0.02360917   & 0.02360917   & 0.02360917   & 0.02360917   & NA           & NA           & NA          \\\\\n",
       "\t 0.0222852607 & 0.0222852607 & 0.0222852607 & 0.0222852607 & 0.0222852607 & 0.021170342  & 0.021170342  & 0.021170342  & 0.021170342  & 0.021170342  & ...          & 0.02412494   & 0.02412494   & 0.03792936   & 0.03792936   & 0.03792936   & 0.03792936   & 0.03792936   & NA           & NA           & NA          \\\\\n",
       "\t 0.0362657190 & 0.0362657190 & 0.0362657190 & 0.0362657190 & 0.0362657190 & 0.017531538  & 0.017531538  & 0.017531538  & 0.017531538  & 0.017531538  & ...          & 0.01124889   & 0.01124889   & 0.02296966   & 0.02296966   & 0.02296966   & 0.02296966   & 0.02296966   & NA           & NA           & NA          \\\\\n",
       "\t 0.0163688964 & 0.0163688964 & 0.0163688964 & 0.0163688964 & 0.0163688964 & 0.017356786  & 0.017356786  & 0.017356786  & 0.017356786  & 0.017356786  & ...          & 0.02963157   & 0.02963157   & 0.01512957   & 0.01512957   & 0.01512957   & 0.01512957   & 0.01512957   & NA           & NA           & NA          \\\\\n",
       "\t 0.0229478896 & 0.0229478896 & 0.0229478896 & 0.0229478896 & 0.0229478896 & 0.013251879  & 0.013251879  & 0.013251879  & 0.013251879  & 0.013251879  & ...          & 0.02812540   & 0.02812540   & 0.01385494   & 0.01385494   & 0.01385494   & 0.01385494   & 0.01385494   & NA           & NA           & NA          \\\\\n",
       "\t 0.0194247693 & 0.0194247693 & 0.0194247693 & 0.0194247693 & 0.0194247693 & 0.016890873  & 0.016890873  & 0.016890873  & 0.016890873  & 0.016890873  & ...          & 0.02509704   & 0.02509704   & 0.02626674   & 0.02626674   & 0.02626674   & 0.02626674   & 0.02626674   & NA           & NA           & NA          \\\\\n",
       "\t 0.0303694235 & 0.0303694235 & 0.0303694235 & 0.0303694235 & 0.0303694235 & 0.017075563  & 0.017075563  & 0.017075563  & 0.017075563  & 0.017075563  & ...          & 0.02610631   & 0.02610631   & 0.02132071   & 0.02132071   & 0.02132071   & 0.02132071   & 0.02132071   & NA           & NA           & NA          \\\\\n",
       "\t 0.0186244703 & 0.0186244703 & 0.0186244703 & 0.0186244703 & 0.0186244703 & 0.015271937  & 0.015271937  & 0.015271937  & 0.015271937  & 0.015271937  & ...          & 0.46140000   & 0.46140000   & 0.17626058   & 0.17626058   & 0.17626058   & 0.17626058   & 0.17626058   & NA           & NA           & NA          \\\\\n",
       "\t 0.0189977288 & 0.0189977288 & 0.0189977288 & 0.0189977288 & 0.0189977288 & 0.019156852  & 0.019156852  & 0.019156852  & 0.019156852  & 0.019156852  & ...          & 0.18527348   & 0.18527348   & 0.03274235   & 0.03274235   & 0.03274235   & 0.03274235   & 0.03274235   & NA           & NA           & NA          \\\\\n",
       "\t 0.0244386866 & 0.0244386866 & 0.0244386866 & 0.0244386866 & 0.0244386866 & 0.017426962  & 0.017426962  & 0.017426962  & 0.017426962  & 0.017426962  & ...          & 0.43740000   & 0.43740000   & 0.02787224   & 0.02787224   & 0.02787224   & 0.02787224   & 0.02787224   & NA           & NA           & NA          \\\\\n",
       "\t 0.0161873084 & 0.0161873084 & 0.0161873084 & 0.0161873084 & 0.0161873084 & 0.028115100  & 0.028115100  & 0.028115100  & 0.028115100  & 0.028115100  & ...          & 0.77360000   & 0.77360000   & 0.05074452   & 0.05074452   & 0.05074452   & 0.05074452   & 0.05074452   & NA           & NA           & NA          \\\\\n",
       "\t 0.0261256957 & 0.0261256957 & 0.0261256957 & 0.0261256957 & 0.0261256957 & 0.032356781  & 0.032356781  & 0.032356781  & 0.032356781  & 0.032356781  & ...          & 0.10443388   & 0.10443388   & 0.03463223   & 0.03463223   & 0.03463223   & 0.03463223   & 0.03463223   & NA           & NA           & NA          \\\\\n",
       "\t 0.0295911586 & 0.0295911586 & 0.0295911586 & 0.0295911586 & 0.0295911586 & 0.031434498  & 0.031434498  & 0.031434498  & 0.031434498  & 0.031434498  & ...          & 0.57300000   & 0.57300000   & 0.03761354   & 0.03761354   & 0.03761354   & 0.03761354   & 0.03761354   & NA           & NA           & NA          \\\\\n",
       "\t 0.0099783397 & 0.0099783397 & 0.0099783397 & 0.0099783397 & 0.0099783397 & 0.003649551  & 0.003649551  & 0.003649551  & 0.003649551  & 0.003649551  & ...          & 0.12112487   & 0.12112487   & 0.01557713   & 0.01557713   & 0.01557713   & 0.01557713   & 0.01557713   & NA           & NA           & NA          \\\\\n",
       "\t 0.0166998189 & 0.0166998189 & 0.0166998189 & 0.0166998189 & 0.0166998189 & 0.026302864  & 0.026302864  & 0.026302864  & 0.026302864  & 0.026302864  & ...          & 0.37730432   & 0.37730432   & 0.01672144   & 0.01672144   & 0.01672144   & 0.01672144   & 0.01672144   & NA           & NA           & NA          \\\\\n",
       "\t 0.0222092480 & 0.0222092480 & 0.0222092480 & 0.0222092480 & 0.0222092480 & 0.012534391  & 0.012534391  & 0.012534391  & 0.012534391  & 0.012534391  & ...          & 0.67200000   & 0.67200000   & 0.05970110   & 0.05970110   & 0.05970110   & 0.05970110   & 0.05970110   & NA           & NA           & NA          \\\\\n",
       "\t 0.0000623553 & 0.0000623553 & 0.0000623553 & 0.0000623553 & 0.0000623553 & 0.022477013  & 0.022477013  & 0.022477013  & 0.022477013  & 0.022477013  & ...          & 0.77220000   & 0.77220000   & 0.09695551   & 0.09695551   & 0.09695551   & 0.09695551   & 0.09695551   & NA           & NA           & NA          \\\\\n",
       "\\end{tabular}\n"
      ],
      "text/markdown": [
       "\n",
       "| V1 | V2 | V3 | V4 | V5 | V6 | V7 | V8 | V9 | V10 | ... | V119 | V120 | V121 | V122 | V123 | V124 | V125 | V126 | V127 | V128 |\n",
       "|---|---|---|---|---|---|---|---|---|---|---|---|---|---|---|---|---|---|---|---|---|\n",
       "| 0.0168980119 | 0.0168980119 | 0.0168980119 | 0.0168980119 | 0.0168980119 | 0.620800000  | 0.620800000  | 0.620800000  | 0.620800000  | 0.620800000  | ...          | 0.02895437   | 0.02895437   | 0.03995435   | 0.03995435   | 0.03995435   | 0.03995435   | 0.03995435   | NA           | NA           | NA           |\n",
       "| 0.0162248013 | 0.0162248013 | 0.0162248013 | 0.0162248013 | 0.0162248013 | 0.332956402  | 0.332956402  | 0.332956402  | 0.332956402  | 0.332956402  | ...          | 0.03060810   | 0.03060810   | 0.03576214   | 0.03576214   | 0.03576214   | 0.03576214   | 0.03576214   | NA           | NA           | NA           |\n",
       "| 0.0394310218 | 0.0394310218 | 0.0394310218 | 0.0394310218 | 0.0394310218 | 0.860200000  | 0.860200000  | 0.860200000  | 0.860200000  | 0.860200000  | ...          | 0.03425886   | 0.03425886   | 0.02242872   | 0.02242872   | 0.02242872   | 0.02242872   | 0.02242872   | NA           | NA           | NA           |\n",
       "| 0.0125145597 | 0.0125145597 | 0.0125145597 | 0.0125145597 | 0.0125145597 | 0.205038618  | 0.205038618  | 0.205038618  | 0.205038618  | 0.205038618  | ...          | 0.01669614   | 0.01669614   | 0.01538142   | 0.01538142   | 0.01538142   | 0.01538142   | 0.01538142   | NA           | NA           | NA           |\n",
       "| 0.0413032538 | 0.0413032538 | 0.0413032538 | 0.0413032538 | 0.0413032538 | 0.029009739  | 0.029009739  | 0.029009739  | 0.029009739  | 0.029009739  | ...          | 0.02115875   | 0.02115875   | 0.01832026   | 0.01832026   | 0.01832026   | 0.01832026   | 0.01832026   | NA           | NA           | NA           |\n",
       "| 0.0313072738 | 0.0313072738 | 0.0313072738 | 0.0313072738 | 0.0313072738 | 0.126103144  | 0.126103144  | 0.126103144  | 0.126103144  | 0.126103144  | ...          | 0.02361924   | 0.02361924   | 0.04757112   | 0.04757112   | 0.04757112   | 0.04757112   | 0.04757112   | NA           | NA           | NA           |\n",
       "| 0.0294146025 | 0.0294146025 | 0.0294146025 | 0.0294146025 | 0.0294146025 | 0.018427795  | 0.018427795  | 0.018427795  | 0.018427795  | 0.018427795  | ...          | 0.02034330   | 0.02034330   | 0.03349451   | 0.03349451   | 0.03349451   | 0.03349451   | 0.03349451   | NA           | NA           | NA           |\n",
       "| 0.0113078153 | 0.0113078153 | 0.0113078153 | 0.0113078153 | 0.0113078153 | 0.128904942  | 0.128904942  | 0.128904942  | 0.128904942  | 0.128904942  | ...          | 0.03616909   | 0.03616909   | 0.03875980   | 0.03875980   | 0.03875980   | 0.03875980   | 0.03875980   | NA           | NA           | NA           |\n",
       "| 0.0307588139 | 0.0307588139 | 0.0307588139 | 0.0307588139 | 0.0307588139 | 0.460328199  | 0.460328199  | 0.460328199  | 0.460328199  | 0.460328199  | ...          | 0.02593722   | 0.02593722   | 0.02463345   | 0.02463345   | 0.02463345   | 0.02463345   | 0.02463345   | NA           | NA           | NA           |\n",
       "| 0.0288568120 | 0.0288568120 | 0.0288568120 | 0.0288568120 | 0.0288568120 | 0.128333054  | 0.128333054  | 0.128333054  | 0.128333054  | 0.128333054  | ...          | 0.03006264   | 0.03006264   | 0.02712369   | 0.02712369   | 0.02712369   | 0.02712369   | 0.02712369   | NA           | NA           | NA           |\n",
       "| 0.0177754415 | 0.0177754415 | 0.0177754415 | 0.0177754415 | 0.0177754415 | 0.014398848  | 0.014398848  | 0.014398848  | 0.014398848  | 0.014398848  | ...          | 0.02723155   | 0.02723155   | 0.03432022   | 0.03432022   | 0.03432022   | 0.03432022   | 0.03432022   | NA           | NA           | NA           |\n",
       "| 0.0154187540 | 0.0154187540 | 0.0154187540 | 0.0154187540 | 0.0154187540 | 0.015753976  | 0.015753976  | 0.015753976  | 0.015753976  | 0.015753976  | ...          | 0.02294538   | 0.02294538   | 0.02350121   | 0.02350121   | 0.02350121   | 0.02350121   | 0.02350121   | NA           | NA           | NA           |\n",
       "| 0.0268055453 | 0.0268055453 | 0.0268055453 | 0.0268055453 | 0.0268055453 | 0.025169922  | 0.025169922  | 0.025169922  | 0.025169922  | 0.025169922  | ...          | 0.03039062   | 0.03039062   | 0.02287421   | 0.02287421   | 0.02287421   | 0.02287421   | 0.02287421   | NA           | NA           | NA           |\n",
       "| 0.0192343094 | 0.0192343094 | 0.0192343094 | 0.0192343094 | 0.0192343094 | 0.012807037  | 0.012807037  | 0.012807037  | 0.012807037  | 0.012807037  | ...          | 0.02163751   | 0.02163751   | 0.02360917   | 0.02360917   | 0.02360917   | 0.02360917   | 0.02360917   | NA           | NA           | NA           |\n",
       "| 0.0222852607 | 0.0222852607 | 0.0222852607 | 0.0222852607 | 0.0222852607 | 0.021170342  | 0.021170342  | 0.021170342  | 0.021170342  | 0.021170342  | ...          | 0.02412494   | 0.02412494   | 0.03792936   | 0.03792936   | 0.03792936   | 0.03792936   | 0.03792936   | NA           | NA           | NA           |\n",
       "| 0.0362657190 | 0.0362657190 | 0.0362657190 | 0.0362657190 | 0.0362657190 | 0.017531538  | 0.017531538  | 0.017531538  | 0.017531538  | 0.017531538  | ...          | 0.01124889   | 0.01124889   | 0.02296966   | 0.02296966   | 0.02296966   | 0.02296966   | 0.02296966   | NA           | NA           | NA           |\n",
       "| 0.0163688964 | 0.0163688964 | 0.0163688964 | 0.0163688964 | 0.0163688964 | 0.017356786  | 0.017356786  | 0.017356786  | 0.017356786  | 0.017356786  | ...          | 0.02963157   | 0.02963157   | 0.01512957   | 0.01512957   | 0.01512957   | 0.01512957   | 0.01512957   | NA           | NA           | NA           |\n",
       "| 0.0229478896 | 0.0229478896 | 0.0229478896 | 0.0229478896 | 0.0229478896 | 0.013251879  | 0.013251879  | 0.013251879  | 0.013251879  | 0.013251879  | ...          | 0.02812540   | 0.02812540   | 0.01385494   | 0.01385494   | 0.01385494   | 0.01385494   | 0.01385494   | NA           | NA           | NA           |\n",
       "| 0.0194247693 | 0.0194247693 | 0.0194247693 | 0.0194247693 | 0.0194247693 | 0.016890873  | 0.016890873  | 0.016890873  | 0.016890873  | 0.016890873  | ...          | 0.02509704   | 0.02509704   | 0.02626674   | 0.02626674   | 0.02626674   | 0.02626674   | 0.02626674   | NA           | NA           | NA           |\n",
       "| 0.0303694235 | 0.0303694235 | 0.0303694235 | 0.0303694235 | 0.0303694235 | 0.017075563  | 0.017075563  | 0.017075563  | 0.017075563  | 0.017075563  | ...          | 0.02610631   | 0.02610631   | 0.02132071   | 0.02132071   | 0.02132071   | 0.02132071   | 0.02132071   | NA           | NA           | NA           |\n",
       "| 0.0186244703 | 0.0186244703 | 0.0186244703 | 0.0186244703 | 0.0186244703 | 0.015271937  | 0.015271937  | 0.015271937  | 0.015271937  | 0.015271937  | ...          | 0.46140000   | 0.46140000   | 0.17626058   | 0.17626058   | 0.17626058   | 0.17626058   | 0.17626058   | NA           | NA           | NA           |\n",
       "| 0.0189977288 | 0.0189977288 | 0.0189977288 | 0.0189977288 | 0.0189977288 | 0.019156852  | 0.019156852  | 0.019156852  | 0.019156852  | 0.019156852  | ...          | 0.18527348   | 0.18527348   | 0.03274235   | 0.03274235   | 0.03274235   | 0.03274235   | 0.03274235   | NA           | NA           | NA           |\n",
       "| 0.0244386866 | 0.0244386866 | 0.0244386866 | 0.0244386866 | 0.0244386866 | 0.017426962  | 0.017426962  | 0.017426962  | 0.017426962  | 0.017426962  | ...          | 0.43740000   | 0.43740000   | 0.02787224   | 0.02787224   | 0.02787224   | 0.02787224   | 0.02787224   | NA           | NA           | NA           |\n",
       "| 0.0161873084 | 0.0161873084 | 0.0161873084 | 0.0161873084 | 0.0161873084 | 0.028115100  | 0.028115100  | 0.028115100  | 0.028115100  | 0.028115100  | ...          | 0.77360000   | 0.77360000   | 0.05074452   | 0.05074452   | 0.05074452   | 0.05074452   | 0.05074452   | NA           | NA           | NA           |\n",
       "| 0.0261256957 | 0.0261256957 | 0.0261256957 | 0.0261256957 | 0.0261256957 | 0.032356781  | 0.032356781  | 0.032356781  | 0.032356781  | 0.032356781  | ...          | 0.10443388   | 0.10443388   | 0.03463223   | 0.03463223   | 0.03463223   | 0.03463223   | 0.03463223   | NA           | NA           | NA           |\n",
       "| 0.0295911586 | 0.0295911586 | 0.0295911586 | 0.0295911586 | 0.0295911586 | 0.031434498  | 0.031434498  | 0.031434498  | 0.031434498  | 0.031434498  | ...          | 0.57300000   | 0.57300000   | 0.03761354   | 0.03761354   | 0.03761354   | 0.03761354   | 0.03761354   | NA           | NA           | NA           |\n",
       "| 0.0099783397 | 0.0099783397 | 0.0099783397 | 0.0099783397 | 0.0099783397 | 0.003649551  | 0.003649551  | 0.003649551  | 0.003649551  | 0.003649551  | ...          | 0.12112487   | 0.12112487   | 0.01557713   | 0.01557713   | 0.01557713   | 0.01557713   | 0.01557713   | NA           | NA           | NA           |\n",
       "| 0.0166998189 | 0.0166998189 | 0.0166998189 | 0.0166998189 | 0.0166998189 | 0.026302864  | 0.026302864  | 0.026302864  | 0.026302864  | 0.026302864  | ...          | 0.37730432   | 0.37730432   | 0.01672144   | 0.01672144   | 0.01672144   | 0.01672144   | 0.01672144   | NA           | NA           | NA           |\n",
       "| 0.0222092480 | 0.0222092480 | 0.0222092480 | 0.0222092480 | 0.0222092480 | 0.012534391  | 0.012534391  | 0.012534391  | 0.012534391  | 0.012534391  | ...          | 0.67200000   | 0.67200000   | 0.05970110   | 0.05970110   | 0.05970110   | 0.05970110   | 0.05970110   | NA           | NA           | NA           |\n",
       "| 0.0000623553 | 0.0000623553 | 0.0000623553 | 0.0000623553 | 0.0000623553 | 0.022477013  | 0.022477013  | 0.022477013  | 0.022477013  | 0.022477013  | ...          | 0.77220000   | 0.77220000   | 0.09695551   | 0.09695551   | 0.09695551   | 0.09695551   | 0.09695551   | NA           | NA           | NA           |\n",
       "\n"
      ],
      "text/plain": [
       "   V1           V2           V3           V4           V5           V6         \n",
       "1  0.0168980119 0.0168980119 0.0168980119 0.0168980119 0.0168980119 0.620800000\n",
       "2  0.0162248013 0.0162248013 0.0162248013 0.0162248013 0.0162248013 0.332956402\n",
       "3  0.0394310218 0.0394310218 0.0394310218 0.0394310218 0.0394310218 0.860200000\n",
       "4  0.0125145597 0.0125145597 0.0125145597 0.0125145597 0.0125145597 0.205038618\n",
       "5  0.0413032538 0.0413032538 0.0413032538 0.0413032538 0.0413032538 0.029009739\n",
       "6  0.0313072738 0.0313072738 0.0313072738 0.0313072738 0.0313072738 0.126103144\n",
       "7  0.0294146025 0.0294146025 0.0294146025 0.0294146025 0.0294146025 0.018427795\n",
       "8  0.0113078153 0.0113078153 0.0113078153 0.0113078153 0.0113078153 0.128904942\n",
       "9  0.0307588139 0.0307588139 0.0307588139 0.0307588139 0.0307588139 0.460328199\n",
       "10 0.0288568120 0.0288568120 0.0288568120 0.0288568120 0.0288568120 0.128333054\n",
       "11 0.0177754415 0.0177754415 0.0177754415 0.0177754415 0.0177754415 0.014398848\n",
       "12 0.0154187540 0.0154187540 0.0154187540 0.0154187540 0.0154187540 0.015753976\n",
       "13 0.0268055453 0.0268055453 0.0268055453 0.0268055453 0.0268055453 0.025169922\n",
       "14 0.0192343094 0.0192343094 0.0192343094 0.0192343094 0.0192343094 0.012807037\n",
       "15 0.0222852607 0.0222852607 0.0222852607 0.0222852607 0.0222852607 0.021170342\n",
       "16 0.0362657190 0.0362657190 0.0362657190 0.0362657190 0.0362657190 0.017531538\n",
       "17 0.0163688964 0.0163688964 0.0163688964 0.0163688964 0.0163688964 0.017356786\n",
       "18 0.0229478896 0.0229478896 0.0229478896 0.0229478896 0.0229478896 0.013251879\n",
       "19 0.0194247693 0.0194247693 0.0194247693 0.0194247693 0.0194247693 0.016890873\n",
       "20 0.0303694235 0.0303694235 0.0303694235 0.0303694235 0.0303694235 0.017075563\n",
       "21 0.0186244703 0.0186244703 0.0186244703 0.0186244703 0.0186244703 0.015271937\n",
       "22 0.0189977288 0.0189977288 0.0189977288 0.0189977288 0.0189977288 0.019156852\n",
       "23 0.0244386866 0.0244386866 0.0244386866 0.0244386866 0.0244386866 0.017426962\n",
       "24 0.0161873084 0.0161873084 0.0161873084 0.0161873084 0.0161873084 0.028115100\n",
       "25 0.0261256957 0.0261256957 0.0261256957 0.0261256957 0.0261256957 0.032356781\n",
       "26 0.0295911586 0.0295911586 0.0295911586 0.0295911586 0.0295911586 0.031434498\n",
       "27 0.0099783397 0.0099783397 0.0099783397 0.0099783397 0.0099783397 0.003649551\n",
       "28 0.0166998189 0.0166998189 0.0166998189 0.0166998189 0.0166998189 0.026302864\n",
       "29 0.0222092480 0.0222092480 0.0222092480 0.0222092480 0.0222092480 0.012534391\n",
       "30 0.0000623553 0.0000623553 0.0000623553 0.0000623553 0.0000623553 0.022477013\n",
       "   V7          V8          V9          V10         ... V119       V120      \n",
       "1  0.620800000 0.620800000 0.620800000 0.620800000 ... 0.02895437 0.02895437\n",
       "2  0.332956402 0.332956402 0.332956402 0.332956402 ... 0.03060810 0.03060810\n",
       "3  0.860200000 0.860200000 0.860200000 0.860200000 ... 0.03425886 0.03425886\n",
       "4  0.205038618 0.205038618 0.205038618 0.205038618 ... 0.01669614 0.01669614\n",
       "5  0.029009739 0.029009739 0.029009739 0.029009739 ... 0.02115875 0.02115875\n",
       "6  0.126103144 0.126103144 0.126103144 0.126103144 ... 0.02361924 0.02361924\n",
       "7  0.018427795 0.018427795 0.018427795 0.018427795 ... 0.02034330 0.02034330\n",
       "8  0.128904942 0.128904942 0.128904942 0.128904942 ... 0.03616909 0.03616909\n",
       "9  0.460328199 0.460328199 0.460328199 0.460328199 ... 0.02593722 0.02593722\n",
       "10 0.128333054 0.128333054 0.128333054 0.128333054 ... 0.03006264 0.03006264\n",
       "11 0.014398848 0.014398848 0.014398848 0.014398848 ... 0.02723155 0.02723155\n",
       "12 0.015753976 0.015753976 0.015753976 0.015753976 ... 0.02294538 0.02294538\n",
       "13 0.025169922 0.025169922 0.025169922 0.025169922 ... 0.03039062 0.03039062\n",
       "14 0.012807037 0.012807037 0.012807037 0.012807037 ... 0.02163751 0.02163751\n",
       "15 0.021170342 0.021170342 0.021170342 0.021170342 ... 0.02412494 0.02412494\n",
       "16 0.017531538 0.017531538 0.017531538 0.017531538 ... 0.01124889 0.01124889\n",
       "17 0.017356786 0.017356786 0.017356786 0.017356786 ... 0.02963157 0.02963157\n",
       "18 0.013251879 0.013251879 0.013251879 0.013251879 ... 0.02812540 0.02812540\n",
       "19 0.016890873 0.016890873 0.016890873 0.016890873 ... 0.02509704 0.02509704\n",
       "20 0.017075563 0.017075563 0.017075563 0.017075563 ... 0.02610631 0.02610631\n",
       "21 0.015271937 0.015271937 0.015271937 0.015271937 ... 0.46140000 0.46140000\n",
       "22 0.019156852 0.019156852 0.019156852 0.019156852 ... 0.18527348 0.18527348\n",
       "23 0.017426962 0.017426962 0.017426962 0.017426962 ... 0.43740000 0.43740000\n",
       "24 0.028115100 0.028115100 0.028115100 0.028115100 ... 0.77360000 0.77360000\n",
       "25 0.032356781 0.032356781 0.032356781 0.032356781 ... 0.10443388 0.10443388\n",
       "26 0.031434498 0.031434498 0.031434498 0.031434498 ... 0.57300000 0.57300000\n",
       "27 0.003649551 0.003649551 0.003649551 0.003649551 ... 0.12112487 0.12112487\n",
       "28 0.026302864 0.026302864 0.026302864 0.026302864 ... 0.37730432 0.37730432\n",
       "29 0.012534391 0.012534391 0.012534391 0.012534391 ... 0.67200000 0.67200000\n",
       "30 0.022477013 0.022477013 0.022477013 0.022477013 ... 0.77220000 0.77220000\n",
       "   V121       V122       V123       V124       V125       V126 V127 V128\n",
       "1  0.03995435 0.03995435 0.03995435 0.03995435 0.03995435 NA   NA   NA  \n",
       "2  0.03576214 0.03576214 0.03576214 0.03576214 0.03576214 NA   NA   NA  \n",
       "3  0.02242872 0.02242872 0.02242872 0.02242872 0.02242872 NA   NA   NA  \n",
       "4  0.01538142 0.01538142 0.01538142 0.01538142 0.01538142 NA   NA   NA  \n",
       "5  0.01832026 0.01832026 0.01832026 0.01832026 0.01832026 NA   NA   NA  \n",
       "6  0.04757112 0.04757112 0.04757112 0.04757112 0.04757112 NA   NA   NA  \n",
       "7  0.03349451 0.03349451 0.03349451 0.03349451 0.03349451 NA   NA   NA  \n",
       "8  0.03875980 0.03875980 0.03875980 0.03875980 0.03875980 NA   NA   NA  \n",
       "9  0.02463345 0.02463345 0.02463345 0.02463345 0.02463345 NA   NA   NA  \n",
       "10 0.02712369 0.02712369 0.02712369 0.02712369 0.02712369 NA   NA   NA  \n",
       "11 0.03432022 0.03432022 0.03432022 0.03432022 0.03432022 NA   NA   NA  \n",
       "12 0.02350121 0.02350121 0.02350121 0.02350121 0.02350121 NA   NA   NA  \n",
       "13 0.02287421 0.02287421 0.02287421 0.02287421 0.02287421 NA   NA   NA  \n",
       "14 0.02360917 0.02360917 0.02360917 0.02360917 0.02360917 NA   NA   NA  \n",
       "15 0.03792936 0.03792936 0.03792936 0.03792936 0.03792936 NA   NA   NA  \n",
       "16 0.02296966 0.02296966 0.02296966 0.02296966 0.02296966 NA   NA   NA  \n",
       "17 0.01512957 0.01512957 0.01512957 0.01512957 0.01512957 NA   NA   NA  \n",
       "18 0.01385494 0.01385494 0.01385494 0.01385494 0.01385494 NA   NA   NA  \n",
       "19 0.02626674 0.02626674 0.02626674 0.02626674 0.02626674 NA   NA   NA  \n",
       "20 0.02132071 0.02132071 0.02132071 0.02132071 0.02132071 NA   NA   NA  \n",
       "21 0.17626058 0.17626058 0.17626058 0.17626058 0.17626058 NA   NA   NA  \n",
       "22 0.03274235 0.03274235 0.03274235 0.03274235 0.03274235 NA   NA   NA  \n",
       "23 0.02787224 0.02787224 0.02787224 0.02787224 0.02787224 NA   NA   NA  \n",
       "24 0.05074452 0.05074452 0.05074452 0.05074452 0.05074452 NA   NA   NA  \n",
       "25 0.03463223 0.03463223 0.03463223 0.03463223 0.03463223 NA   NA   NA  \n",
       "26 0.03761354 0.03761354 0.03761354 0.03761354 0.03761354 NA   NA   NA  \n",
       "27 0.01557713 0.01557713 0.01557713 0.01557713 0.01557713 NA   NA   NA  \n",
       "28 0.01672144 0.01672144 0.01672144 0.01672144 0.01672144 NA   NA   NA  \n",
       "29 0.05970110 0.05970110 0.05970110 0.05970110 0.05970110 NA   NA   NA  \n",
       "30 0.09695551 0.09695551 0.09695551 0.09695551 0.09695551 NA   NA   NA  "
      ]
     },
     "metadata": {},
     "output_type": "display_data"
    }
   ],
   "source": [
    "paa_train"
   ]
  },
  {
   "cell_type": "markdown",
   "metadata": {},
   "source": [
    "<a id=\"5\"></a>\n",
    "## PAA Function"
   ]
  },
  {
   "cell_type": "code",
   "execution_count": 24,
   "metadata": {},
   "outputs": [],
   "source": [
    "paa_obtainer=function(traindata,segment_length){\n",
    "    dt_ts_train=data.table(traindata)\n",
    "    dt_ts_train[,id:=1:.N]\n",
    "    long_train=melt(dt_ts_train,id.vars=c('id'))\n",
    "    long_train[,time:=as.numeric(gsub(\"\\\\D\", \"\", variable))-1]\n",
    "    long_train=long_train[order(id,time)]\n",
    "    \n",
    "    paa_results=vector(\"list\", max(long_train$id))\n",
    "    for(i in 1:max(long_train$id)){\n",
    "        current_ts=long_train[id==i,]$value\n",
    "\n",
    "        paa_rep=repr_paa(current_ts, segment_length, meanC)\n",
    "        current_dt=data.table(time=1:length(long_train[id==i,]$value))\n",
    "        result_dt=data.table(time=c(1:(length(paa_rep)))*segment_length, values=paa_rep)\n",
    "        all_dt=merge(current_dt, result_dt, by='time',all.x=T)\n",
    "        all_dt[,values:=nafill(values,'nocb')]\n",
    "        paa_results[[i]]=transpose(data.table(values=all_dt$values))\n",
    "\n",
    "    }\n",
    "    return(rbindlist(paa_results))\n",
    "}"
   ]
  },
  {
   "cell_type": "markdown",
   "metadata": {},
   "source": [
    "This function will be used to get a difference dataset. \"_2\" string will be used to mention segment lentgh determined as 10."
   ]
  },
  {
   "cell_type": "markdown",
   "metadata": {},
   "source": [
    "### Segment Length 4"
   ]
  },
  {
   "cell_type": "code",
   "execution_count": 25,
   "metadata": {},
   "outputs": [],
   "source": [
    "paa_train=paa_obtainer(traindata, 4)"
   ]
  },
  {
   "cell_type": "markdown",
   "metadata": {},
   "source": [
    "### Segment Length 8"
   ]
  },
  {
   "cell_type": "code",
   "execution_count": 26,
   "metadata": {},
   "outputs": [],
   "source": [
    "paa_train_2=paa_obtainer(traindata, 8)"
   ]
  },
  {
   "cell_type": "code",
   "execution_count": null,
   "metadata": {},
   "outputs": [],
   "source": []
  },
  {
   "cell_type": "code",
   "execution_count": null,
   "metadata": {},
   "outputs": [],
   "source": []
  },
  {
   "cell_type": "markdown",
   "metadata": {},
   "source": [
    "<a id=\"6\"></a>\n",
    "# Distances"
   ]
  },
  {
   "cell_type": "markdown",
   "metadata": {},
   "source": [
    "In this part, distance datasets will be calculated to have 20 different combination (5 representation * 4 different distance calculation types). In addition, obtained distance datasets will be stored in a file to skip distance calculation."
   ]
  },
  {
   "cell_type": "code",
   "execution_count": 27,
   "metadata": {},
   "outputs": [],
   "source": [
    "large_number=10000"
   ]
  },
  {
   "cell_type": "markdown",
   "metadata": {},
   "source": [
    "<a id=\"7\"></a>\n",
    "## Raw Dataset "
   ]
  },
  {
   "cell_type": "code",
   "execution_count": 28,
   "metadata": {},
   "outputs": [
    {
     "name": "stderr",
     "output_type": "stream",
     "text": [
      "x being coerced from class: matrix to data.table\n",
      "x being coerced from class: matrix to data.table\n",
      "x being coerced from class: matrix to data.table\n",
      "x being coerced from class: matrix to data.table\n"
     ]
    }
   ],
   "source": [
    "dist_euc=as.matrix(dist(traindata))\n",
    "diag(dist_euc)=large_number\n",
    "fwrite(dist_euc,sprintf('%s%s/%s_euc_raw_dist.csv', distance_path, third_dataset, third_dataset),col.names=F)\n",
    "\n",
    "dist_dtw=as.matrix(dtwDist(traindata))\n",
    "diag(dist_dtw)=large_number\n",
    "fwrite(dist_dtw,sprintf('%s%s/%s_dtw_raw_dist.csv', distance_path, third_dataset, third_dataset),col.names=F)\n",
    "\n",
    "dist_lcss=TSDatabaseDistances(traindata,distance='lcss',epsilon=0.05)\n",
    "dist_lcss=as.matrix(dist_lcss)\n",
    "diag(dist_lcss)=large_number\n",
    "fwrite(dist_lcss,sprintf('%s%s/%s_lcss_raw_epsilon_005.csv', distance_path, third_dataset, third_dataset),col.names=F)  \n",
    "\n",
    "dist_erp=TSDatabaseDistances(traindata,distance='erp',g=0.5)\n",
    "dist_erp=as.matrix(dist_erp)\n",
    "diag(dist_erp)=large_number\n",
    "fwrite(dist_erp,sprintf('%s%s/%s_erp_raw_gap_005.csv', distance_path, third_dataset, third_dataset),col.names=F)  "
   ]
  },
  {
   "cell_type": "markdown",
   "metadata": {},
   "source": [
    "<a id=\"8\"></a>\n",
    "## Difference taken Datasets"
   ]
  },
  {
   "cell_type": "markdown",
   "metadata": {},
   "source": [
    "### First difference dataset when shift value is 1"
   ]
  },
  {
   "cell_type": "code",
   "execution_count": 29,
   "metadata": {},
   "outputs": [
    {
     "name": "stderr",
     "output_type": "stream",
     "text": [
      "x being coerced from class: matrix to data.table\n",
      "x being coerced from class: matrix to data.table\n",
      "x being coerced from class: matrix to data.table\n",
      "x being coerced from class: matrix to data.table\n"
     ]
    }
   ],
   "source": [
    "dist_euc_diff=as.matrix(dist(diff_train))\n",
    "diag(dist_euc_diff)=large_number\n",
    "fwrite(dist_euc_diff,sprintf('%s%s/%s_euc_diff_dist.csv', distance_path, third_dataset, third_dataset),col.names=F)\n",
    "\n",
    "dist_dtw_diff=as.matrix(dtwDist(diff_train))\n",
    "diag(dist_dtw_diff)=large_number\n",
    "fwrite(dist_dtw_diff,sprintf('%s%s/%s_dtw_diff_dist.csv', distance_path, third_dataset, third_dataset),col.names=F)\n",
    "\n",
    "dist_lcss_diff=TSDatabaseDistances(diff_train,distance='lcss',epsilon=0.05)\n",
    "dist_lcss_diff=as.matrix(dist_lcss_diff)\n",
    "diag(dist_lcss_diff)=large_number\n",
    "fwrite(dist_lcss_diff,sprintf('%s%s/%s_lcss_diff_epsilon_005.csv', distance_path, third_dataset, third_dataset),col.names=F)  \n",
    "\n",
    "dist_erp_diff=TSDatabaseDistances(diff_train,distance='erp',g=0.5)\n",
    "dist_erp_diff=as.matrix(dist_erp_diff)\n",
    "diag(dist_erp_diff)=large_number\n",
    "fwrite(dist_erp_diff,sprintf('%s%s/%s_erp_diff_gap_005.csv', distance_path, third_dataset, third_dataset),col.names=F)  "
   ]
  },
  {
   "cell_type": "markdown",
   "metadata": {},
   "source": [
    "### Second difference dataset when shift value is 2"
   ]
  },
  {
   "cell_type": "code",
   "execution_count": 30,
   "metadata": {},
   "outputs": [
    {
     "name": "stderr",
     "output_type": "stream",
     "text": [
      "x being coerced from class: matrix to data.table\n",
      "x being coerced from class: matrix to data.table\n",
      "x being coerced from class: matrix to data.table\n",
      "x being coerced from class: matrix to data.table\n"
     ]
    }
   ],
   "source": [
    "dist_euc_diff_2=as.matrix(dist(diff_train_2))\n",
    "diag(dist_euc_diff_2)=large_number\n",
    "fwrite(dist_euc_diff_2,sprintf('%s%s/%s_euc_diff2_dist.csv', distance_path, third_dataset, third_dataset),col.names=F)\n",
    "\n",
    "dist_dtw_diff_2=as.matrix(dtwDist(diff_train_2))\n",
    "diag(dist_dtw_diff_2)=large_number\n",
    "fwrite(dist_dtw_diff_2,sprintf('%s%s/%s_dtw_diff2_dist.csv', distance_path, third_dataset, third_dataset),col.names=F)\n",
    "\n",
    "dist_lcss_diff_2=TSDatabaseDistances(diff_train_2,distance='lcss',epsilon=0.05)\n",
    "dist_lcss_diff_2=as.matrix(dist_lcss_diff_2)\n",
    "diag(dist_lcss_diff_2)=large_number\n",
    "fwrite(dist_lcss_diff_2,sprintf('%s%s/%s_lcss_diff2_epsilon_005.csv', distance_path, third_dataset, third_dataset),col.names=F)  \n",
    "\n",
    "dist_erp_diff_2=TSDatabaseDistances(diff_train_2,distance='erp',g=0.5)\n",
    "dist_erp_diff_2=as.matrix(dist_erp_diff_2)\n",
    "diag(dist_erp_diff_2)=large_number\n",
    "fwrite(dist_erp_diff_2,sprintf('%s%s/%s_erp_diff2_gap_005.csv', distance_path, third_dataset, third_dataset),col.names=F)  "
   ]
  },
  {
   "cell_type": "markdown",
   "metadata": {},
   "source": [
    "<a id=\"9\"></a>\n",
    "## PAA Datasets"
   ]
  },
  {
   "cell_type": "markdown",
   "metadata": {},
   "source": [
    "### First PAA dataset when segment length value is 4"
   ]
  },
  {
   "cell_type": "code",
   "execution_count": 31,
   "metadata": {},
   "outputs": [
    {
     "name": "stderr",
     "output_type": "stream",
     "text": [
      "x being coerced from class: matrix to data.table\n",
      "x being coerced from class: matrix to data.table\n",
      "x being coerced from class: matrix to data.table\n",
      "x being coerced from class: matrix to data.table\n"
     ]
    }
   ],
   "source": [
    "dist_euc_paa=as.matrix(dist(paa_train))\n",
    "diag(dist_euc_paa)=large_number\n",
    "fwrite(dist_euc_paa,sprintf('%s%s/%s_euc_paa_dist.csv', distance_path, third_dataset, third_dataset),col.names=F)\n",
    "\n",
    "dist_dtw_paa=as.matrix(dtwDist(paa_train))\n",
    "diag(dist_dtw_paa)=large_number\n",
    "fwrite(dist_dtw_paa,sprintf('%s%s/%s_dtw_paa_dist.csv', distance_path, third_dataset, third_dataset),col.names=F)\n",
    "\n",
    "dist_lcss_paa=TSDatabaseDistances(paa_train,distance='lcss',epsilon=0.05)\n",
    "dist_lcss_paa=as.matrix(dist_lcss_paa)\n",
    "diag(dist_lcss_paa)=large_number\n",
    "fwrite(dist_lcss_paa,sprintf('%s%s/%s_lcss_paa_epsilon_005.csv', distance_path, third_dataset, third_dataset),col.names=F)  \n",
    "\n",
    "dist_erp_paa=TSDatabaseDistances(paa_train,distance='erp',g=0.5)\n",
    "dist_erp_paa=as.matrix(dist_erp_paa)\n",
    "diag(dist_erp_paa)=large_number\n",
    "fwrite(dist_erp_paa,sprintf('%s%s/%s_erp_paa_gap_005.csv', distance_path, third_dataset, third_dataset),col.names=F)  "
   ]
  },
  {
   "cell_type": "markdown",
   "metadata": {},
   "source": [
    "### Second PAA dataset when segment length value is 8"
   ]
  },
  {
   "cell_type": "code",
   "execution_count": 32,
   "metadata": {},
   "outputs": [
    {
     "name": "stderr",
     "output_type": "stream",
     "text": [
      "x being coerced from class: matrix to data.table\n",
      "x being coerced from class: matrix to data.table\n",
      "x being coerced from class: matrix to data.table\n",
      "x being coerced from class: matrix to data.table\n"
     ]
    }
   ],
   "source": [
    "dist_euc_paa_2=as.matrix(dist(paa_train_2))\n",
    "diag(dist_euc_paa_2)=large_number\n",
    "fwrite(dist_euc_paa_2,sprintf('%s%s/%s_euc_paa2_dist.csv', distance_path, third_dataset, third_dataset),col.names=F)\n",
    "\n",
    "dist_dtw_paa_2=as.matrix(dtwDist(paa_train_2))\n",
    "diag(dist_dtw_paa_2)=large_number\n",
    "fwrite(dist_dtw_paa_2,sprintf('%s%s/%s_dtw_paa2_dist.csv', distance_path, third_dataset, third_dataset),col.names=F)\n",
    "\n",
    "dist_lcss_paa_2=TSDatabaseDistances(paa_train_2,distance='lcss',epsilon=0.05)\n",
    "dist_lcss_paa_2=as.matrix(dist_lcss_paa_2)\n",
    "diag(dist_lcss_paa_2)=large_number\n",
    "fwrite(dist_lcss_paa_2,sprintf('%s%s/%s_lcss_paa2_epsilon_005.csv', distance_path, third_dataset, third_dataset),col.names=F)  \n",
    "\n",
    "dist_erp_paa_2=TSDatabaseDistances(paa_train_2,distance='erp',g=0.5)\n",
    "dist_erp_paa_2=as.matrix(dist_erp_paa_2)\n",
    "diag(dist_erp_paa_2)=large_number\n",
    "fwrite(dist_erp_paa_2,sprintf('%s%s/%s_erp_paa2_gap_005.csv', distance_path, third_dataset, third_dataset),col.names=F)  "
   ]
  },
  {
   "cell_type": "markdown",
   "metadata": {},
   "source": [
    "### To store obtained distance datasetes in a list"
   ]
  },
  {
   "cell_type": "code",
   "execution_count": 33,
   "metadata": {},
   "outputs": [],
   "source": [
    "dist_folder=sprintf('%s%s', distance_path, third_dataset)\n",
    "dist_files=list.files(dist_folder, full.names=T)"
   ]
  },
  {
   "cell_type": "code",
   "execution_count": 34,
   "metadata": {},
   "outputs": [
    {
     "data": {
      "text/html": [
       "<ol class=list-inline>\n",
       "\t<li>'C:/Users/bahad/GitHub/IE48B/Homework3/Distances/BME/BME_dtw_diff_dist.csv'</li>\n",
       "\t<li>'C:/Users/bahad/GitHub/IE48B/Homework3/Distances/BME/BME_dtw_diff2_dist.csv'</li>\n",
       "\t<li>'C:/Users/bahad/GitHub/IE48B/Homework3/Distances/BME/BME_dtw_paa_dist.csv'</li>\n",
       "\t<li>'C:/Users/bahad/GitHub/IE48B/Homework3/Distances/BME/BME_dtw_paa2_dist.csv'</li>\n",
       "\t<li>'C:/Users/bahad/GitHub/IE48B/Homework3/Distances/BME/BME_dtw_raw_dist.csv'</li>\n",
       "\t<li>'C:/Users/bahad/GitHub/IE48B/Homework3/Distances/BME/BME_erp_diff_gap_005.csv'</li>\n",
       "\t<li>'C:/Users/bahad/GitHub/IE48B/Homework3/Distances/BME/BME_erp_diff2_gap_005.csv'</li>\n",
       "\t<li>'C:/Users/bahad/GitHub/IE48B/Homework3/Distances/BME/BME_erp_paa_gap_005.csv'</li>\n",
       "\t<li>'C:/Users/bahad/GitHub/IE48B/Homework3/Distances/BME/BME_erp_paa2_gap_005.csv'</li>\n",
       "\t<li>'C:/Users/bahad/GitHub/IE48B/Homework3/Distances/BME/BME_erp_raw_gap_005.csv'</li>\n",
       "\t<li>'C:/Users/bahad/GitHub/IE48B/Homework3/Distances/BME/BME_euc_diff_dist.csv'</li>\n",
       "\t<li>'C:/Users/bahad/GitHub/IE48B/Homework3/Distances/BME/BME_euc_diff2_dist.csv'</li>\n",
       "\t<li>'C:/Users/bahad/GitHub/IE48B/Homework3/Distances/BME/BME_euc_paa_dist.csv'</li>\n",
       "\t<li>'C:/Users/bahad/GitHub/IE48B/Homework3/Distances/BME/BME_euc_paa2_dist.csv'</li>\n",
       "\t<li>'C:/Users/bahad/GitHub/IE48B/Homework3/Distances/BME/BME_euc_raw_dist.csv'</li>\n",
       "\t<li>'C:/Users/bahad/GitHub/IE48B/Homework3/Distances/BME/BME_lcss_diff_epsilon_005.csv'</li>\n",
       "\t<li>'C:/Users/bahad/GitHub/IE48B/Homework3/Distances/BME/BME_lcss_diff2_epsilon_005.csv'</li>\n",
       "\t<li>'C:/Users/bahad/GitHub/IE48B/Homework3/Distances/BME/BME_lcss_paa_epsilon_005.csv'</li>\n",
       "\t<li>'C:/Users/bahad/GitHub/IE48B/Homework3/Distances/BME/BME_lcss_paa2_epsilon_005.csv'</li>\n",
       "\t<li>'C:/Users/bahad/GitHub/IE48B/Homework3/Distances/BME/BME_lcss_raw_epsilon_005.csv'</li>\n",
       "</ol>\n"
      ],
      "text/latex": [
       "\\begin{enumerate*}\n",
       "\\item 'C:/Users/bahad/GitHub/IE48B/Homework3/Distances/BME/BME\\_dtw\\_diff\\_dist.csv'\n",
       "\\item 'C:/Users/bahad/GitHub/IE48B/Homework3/Distances/BME/BME\\_dtw\\_diff2\\_dist.csv'\n",
       "\\item 'C:/Users/bahad/GitHub/IE48B/Homework3/Distances/BME/BME\\_dtw\\_paa\\_dist.csv'\n",
       "\\item 'C:/Users/bahad/GitHub/IE48B/Homework3/Distances/BME/BME\\_dtw\\_paa2\\_dist.csv'\n",
       "\\item 'C:/Users/bahad/GitHub/IE48B/Homework3/Distances/BME/BME\\_dtw\\_raw\\_dist.csv'\n",
       "\\item 'C:/Users/bahad/GitHub/IE48B/Homework3/Distances/BME/BME\\_erp\\_diff\\_gap\\_005.csv'\n",
       "\\item 'C:/Users/bahad/GitHub/IE48B/Homework3/Distances/BME/BME\\_erp\\_diff2\\_gap\\_005.csv'\n",
       "\\item 'C:/Users/bahad/GitHub/IE48B/Homework3/Distances/BME/BME\\_erp\\_paa\\_gap\\_005.csv'\n",
       "\\item 'C:/Users/bahad/GitHub/IE48B/Homework3/Distances/BME/BME\\_erp\\_paa2\\_gap\\_005.csv'\n",
       "\\item 'C:/Users/bahad/GitHub/IE48B/Homework3/Distances/BME/BME\\_erp\\_raw\\_gap\\_005.csv'\n",
       "\\item 'C:/Users/bahad/GitHub/IE48B/Homework3/Distances/BME/BME\\_euc\\_diff\\_dist.csv'\n",
       "\\item 'C:/Users/bahad/GitHub/IE48B/Homework3/Distances/BME/BME\\_euc\\_diff2\\_dist.csv'\n",
       "\\item 'C:/Users/bahad/GitHub/IE48B/Homework3/Distances/BME/BME\\_euc\\_paa\\_dist.csv'\n",
       "\\item 'C:/Users/bahad/GitHub/IE48B/Homework3/Distances/BME/BME\\_euc\\_paa2\\_dist.csv'\n",
       "\\item 'C:/Users/bahad/GitHub/IE48B/Homework3/Distances/BME/BME\\_euc\\_raw\\_dist.csv'\n",
       "\\item 'C:/Users/bahad/GitHub/IE48B/Homework3/Distances/BME/BME\\_lcss\\_diff\\_epsilon\\_005.csv'\n",
       "\\item 'C:/Users/bahad/GitHub/IE48B/Homework3/Distances/BME/BME\\_lcss\\_diff2\\_epsilon\\_005.csv'\n",
       "\\item 'C:/Users/bahad/GitHub/IE48B/Homework3/Distances/BME/BME\\_lcss\\_paa\\_epsilon\\_005.csv'\n",
       "\\item 'C:/Users/bahad/GitHub/IE48B/Homework3/Distances/BME/BME\\_lcss\\_paa2\\_epsilon\\_005.csv'\n",
       "\\item 'C:/Users/bahad/GitHub/IE48B/Homework3/Distances/BME/BME\\_lcss\\_raw\\_epsilon\\_005.csv'\n",
       "\\end{enumerate*}\n"
      ],
      "text/markdown": [
       "1. 'C:/Users/bahad/GitHub/IE48B/Homework3/Distances/BME/BME_dtw_diff_dist.csv'\n",
       "2. 'C:/Users/bahad/GitHub/IE48B/Homework3/Distances/BME/BME_dtw_diff2_dist.csv'\n",
       "3. 'C:/Users/bahad/GitHub/IE48B/Homework3/Distances/BME/BME_dtw_paa_dist.csv'\n",
       "4. 'C:/Users/bahad/GitHub/IE48B/Homework3/Distances/BME/BME_dtw_paa2_dist.csv'\n",
       "5. 'C:/Users/bahad/GitHub/IE48B/Homework3/Distances/BME/BME_dtw_raw_dist.csv'\n",
       "6. 'C:/Users/bahad/GitHub/IE48B/Homework3/Distances/BME/BME_erp_diff_gap_005.csv'\n",
       "7. 'C:/Users/bahad/GitHub/IE48B/Homework3/Distances/BME/BME_erp_diff2_gap_005.csv'\n",
       "8. 'C:/Users/bahad/GitHub/IE48B/Homework3/Distances/BME/BME_erp_paa_gap_005.csv'\n",
       "9. 'C:/Users/bahad/GitHub/IE48B/Homework3/Distances/BME/BME_erp_paa2_gap_005.csv'\n",
       "10. 'C:/Users/bahad/GitHub/IE48B/Homework3/Distances/BME/BME_erp_raw_gap_005.csv'\n",
       "11. 'C:/Users/bahad/GitHub/IE48B/Homework3/Distances/BME/BME_euc_diff_dist.csv'\n",
       "12. 'C:/Users/bahad/GitHub/IE48B/Homework3/Distances/BME/BME_euc_diff2_dist.csv'\n",
       "13. 'C:/Users/bahad/GitHub/IE48B/Homework3/Distances/BME/BME_euc_paa_dist.csv'\n",
       "14. 'C:/Users/bahad/GitHub/IE48B/Homework3/Distances/BME/BME_euc_paa2_dist.csv'\n",
       "15. 'C:/Users/bahad/GitHub/IE48B/Homework3/Distances/BME/BME_euc_raw_dist.csv'\n",
       "16. 'C:/Users/bahad/GitHub/IE48B/Homework3/Distances/BME/BME_lcss_diff_epsilon_005.csv'\n",
       "17. 'C:/Users/bahad/GitHub/IE48B/Homework3/Distances/BME/BME_lcss_diff2_epsilon_005.csv'\n",
       "18. 'C:/Users/bahad/GitHub/IE48B/Homework3/Distances/BME/BME_lcss_paa_epsilon_005.csv'\n",
       "19. 'C:/Users/bahad/GitHub/IE48B/Homework3/Distances/BME/BME_lcss_paa2_epsilon_005.csv'\n",
       "20. 'C:/Users/bahad/GitHub/IE48B/Homework3/Distances/BME/BME_lcss_raw_epsilon_005.csv'\n",
       "\n",
       "\n"
      ],
      "text/plain": [
       " [1] \"C:/Users/bahad/GitHub/IE48B/Homework3/Distances/BME/BME_dtw_diff_dist.csv\"         \n",
       " [2] \"C:/Users/bahad/GitHub/IE48B/Homework3/Distances/BME/BME_dtw_diff2_dist.csv\"        \n",
       " [3] \"C:/Users/bahad/GitHub/IE48B/Homework3/Distances/BME/BME_dtw_paa_dist.csv\"          \n",
       " [4] \"C:/Users/bahad/GitHub/IE48B/Homework3/Distances/BME/BME_dtw_paa2_dist.csv\"         \n",
       " [5] \"C:/Users/bahad/GitHub/IE48B/Homework3/Distances/BME/BME_dtw_raw_dist.csv\"          \n",
       " [6] \"C:/Users/bahad/GitHub/IE48B/Homework3/Distances/BME/BME_erp_diff_gap_005.csv\"      \n",
       " [7] \"C:/Users/bahad/GitHub/IE48B/Homework3/Distances/BME/BME_erp_diff2_gap_005.csv\"     \n",
       " [8] \"C:/Users/bahad/GitHub/IE48B/Homework3/Distances/BME/BME_erp_paa_gap_005.csv\"       \n",
       " [9] \"C:/Users/bahad/GitHub/IE48B/Homework3/Distances/BME/BME_erp_paa2_gap_005.csv\"      \n",
       "[10] \"C:/Users/bahad/GitHub/IE48B/Homework3/Distances/BME/BME_erp_raw_gap_005.csv\"       \n",
       "[11] \"C:/Users/bahad/GitHub/IE48B/Homework3/Distances/BME/BME_euc_diff_dist.csv\"         \n",
       "[12] \"C:/Users/bahad/GitHub/IE48B/Homework3/Distances/BME/BME_euc_diff2_dist.csv\"        \n",
       "[13] \"C:/Users/bahad/GitHub/IE48B/Homework3/Distances/BME/BME_euc_paa_dist.csv\"          \n",
       "[14] \"C:/Users/bahad/GitHub/IE48B/Homework3/Distances/BME/BME_euc_paa2_dist.csv\"         \n",
       "[15] \"C:/Users/bahad/GitHub/IE48B/Homework3/Distances/BME/BME_euc_raw_dist.csv\"          \n",
       "[16] \"C:/Users/bahad/GitHub/IE48B/Homework3/Distances/BME/BME_lcss_diff_epsilon_005.csv\" \n",
       "[17] \"C:/Users/bahad/GitHub/IE48B/Homework3/Distances/BME/BME_lcss_diff2_epsilon_005.csv\"\n",
       "[18] \"C:/Users/bahad/GitHub/IE48B/Homework3/Distances/BME/BME_lcss_paa_epsilon_005.csv\"  \n",
       "[19] \"C:/Users/bahad/GitHub/IE48B/Homework3/Distances/BME/BME_lcss_paa2_epsilon_005.csv\" \n",
       "[20] \"C:/Users/bahad/GitHub/IE48B/Homework3/Distances/BME/BME_lcss_raw_epsilon_005.csv\"  "
      ]
     },
     "metadata": {},
     "output_type": "display_data"
    }
   ],
   "source": [
    "dist_files"
   ]
  },
  {
   "cell_type": "code",
   "execution_count": null,
   "metadata": {},
   "outputs": [],
   "source": []
  },
  {
   "cell_type": "code",
   "execution_count": null,
   "metadata": {},
   "outputs": [],
   "source": []
  },
  {
   "cell_type": "markdown",
   "metadata": {},
   "source": [
    "<a id=\"10\"></a>\n",
    "# Main Model"
   ]
  },
  {
   "cell_type": "code",
   "execution_count": 35,
   "metadata": {},
   "outputs": [],
   "source": [
    "k_levels=c(1,3,5)\n",
    "approach_file=list.files(dist_folder)"
   ]
  },
  {
   "cell_type": "code",
   "execution_count": 36,
   "metadata": {},
   "outputs": [],
   "source": [
    "result=vector('list',length(dist_files)*nof_rep*n_fold*length(k_levels))"
   ]
  },
  {
   "cell_type": "code",
   "execution_count": 37,
   "metadata": {},
   "outputs": [
    {
     "name": "stdout",
     "output_type": "stream",
     "text": [
      "[1] \"C:/Users/bahad/GitHub/IE48B/Homework3/Distances/BME/BME_dtw_diff_dist.csv\"\n",
      "[1] \"C:/Users/bahad/GitHub/IE48B/Homework3/Distances/BME/BME_dtw_diff2_dist.csv\"\n",
      "[1] \"C:/Users/bahad/GitHub/IE48B/Homework3/Distances/BME/BME_dtw_paa_dist.csv\"\n",
      "[1] \"C:/Users/bahad/GitHub/IE48B/Homework3/Distances/BME/BME_dtw_paa2_dist.csv\"\n",
      "[1] \"C:/Users/bahad/GitHub/IE48B/Homework3/Distances/BME/BME_dtw_raw_dist.csv\"\n",
      "[1] \"C:/Users/bahad/GitHub/IE48B/Homework3/Distances/BME/BME_erp_diff_gap_005.csv\"\n",
      "[1] \"C:/Users/bahad/GitHub/IE48B/Homework3/Distances/BME/BME_erp_diff2_gap_005.csv\"\n",
      "[1] \"C:/Users/bahad/GitHub/IE48B/Homework3/Distances/BME/BME_erp_paa_gap_005.csv\"\n",
      "[1] \"C:/Users/bahad/GitHub/IE48B/Homework3/Distances/BME/BME_erp_paa2_gap_005.csv\"\n",
      "[1] \"C:/Users/bahad/GitHub/IE48B/Homework3/Distances/BME/BME_erp_raw_gap_005.csv\"\n",
      "[1] \"C:/Users/bahad/GitHub/IE48B/Homework3/Distances/BME/BME_euc_diff_dist.csv\"\n",
      "[1] \"C:/Users/bahad/GitHub/IE48B/Homework3/Distances/BME/BME_euc_diff2_dist.csv\"\n",
      "[1] \"C:/Users/bahad/GitHub/IE48B/Homework3/Distances/BME/BME_euc_paa_dist.csv\"\n",
      "[1] \"C:/Users/bahad/GitHub/IE48B/Homework3/Distances/BME/BME_euc_paa2_dist.csv\"\n",
      "[1] \"C:/Users/bahad/GitHub/IE48B/Homework3/Distances/BME/BME_euc_raw_dist.csv\"\n",
      "[1] \"C:/Users/bahad/GitHub/IE48B/Homework3/Distances/BME/BME_lcss_diff_epsilon_005.csv\"\n",
      "[1] \"C:/Users/bahad/GitHub/IE48B/Homework3/Distances/BME/BME_lcss_diff2_epsilon_005.csv\"\n",
      "[1] \"C:/Users/bahad/GitHub/IE48B/Homework3/Distances/BME/BME_lcss_paa_epsilon_005.csv\"\n",
      "[1] \"C:/Users/bahad/GitHub/IE48B/Homework3/Distances/BME/BME_lcss_paa2_epsilon_005.csv\"\n",
      "[1] \"C:/Users/bahad/GitHub/IE48B/Homework3/Distances/BME/BME_lcss_raw_epsilon_005.csv\"\n"
     ]
    }
   ],
   "source": [
    "iter=1\n",
    "for(m in 1:length(dist_files)){ #\n",
    "    print(dist_files[m])\n",
    "    dist_mat=as.matrix(fread(dist_files[m],header=FALSE))\n",
    "    for(i in 1:nof_rep){\n",
    "        this_fold=cv_indices[[i]]\n",
    "        for(j in 1:n_fold){\n",
    "            test_indices=this_fold[[j]]\n",
    "            for(k in 1:length(k_levels)){\n",
    "                current_k=k_levels[k]\n",
    "                current_fold=nn_classify_cv(dist_mat,trainclass,test_indices,k=current_k)\n",
    "                accuracy=sum(trainclass[test_indices]==current_fold$prediction$predicted)/length(test_indices)\n",
    "                tmp=data.table(approach=approach_file[m],repid=i,foldid=j,\n",
    "                               k=current_k,acc=accuracy)\n",
    "                result[[iter]]=tmp\n",
    "                iter=iter+1\n",
    "            }\n",
    "            \n",
    "        }\n",
    "    \n",
    "    }   \n",
    "    \n",
    "}"
   ]
  },
  {
   "cell_type": "markdown",
   "metadata": {},
   "source": [
    "<a id=\"11\"></a>\n",
    "# Result of Models"
   ]
  },
  {
   "cell_type": "code",
   "execution_count": 38,
   "metadata": {},
   "outputs": [
    {
     "data": {
      "text/html": [
       "<table>\n",
       "<thead><tr><th scope=col>approach</th><th scope=col>repid</th><th scope=col>foldid</th><th scope=col>k</th><th scope=col>acc</th></tr></thead>\n",
       "<tbody>\n",
       "\t<tr><td>BME_dtw_diff_dist.csv</td><td>1                    </td><td>1                    </td><td>1                    </td><td>1                    </td></tr>\n",
       "\t<tr><td>BME_dtw_diff_dist.csv</td><td>1                    </td><td>1                    </td><td>3                    </td><td>1                    </td></tr>\n",
       "\t<tr><td>BME_dtw_diff_dist.csv</td><td>1                    </td><td>1                    </td><td>5                    </td><td>1                    </td></tr>\n",
       "\t<tr><td>BME_dtw_diff_dist.csv</td><td>1                    </td><td>2                    </td><td>1                    </td><td>1                    </td></tr>\n",
       "\t<tr><td>BME_dtw_diff_dist.csv</td><td>1                    </td><td>2                    </td><td>3                    </td><td>1                    </td></tr>\n",
       "\t<tr><td>BME_dtw_diff_dist.csv</td><td>1                    </td><td>2                    </td><td>5                    </td><td>1                    </td></tr>\n",
       "</tbody>\n",
       "</table>\n"
      ],
      "text/latex": [
       "\\begin{tabular}{r|lllll}\n",
       " approach & repid & foldid & k & acc\\\\\n",
       "\\hline\n",
       "\t BME\\_dtw\\_diff\\_dist.csv & 1                           & 1                           & 1                           & 1                          \\\\\n",
       "\t BME\\_dtw\\_diff\\_dist.csv & 1                           & 1                           & 3                           & 1                          \\\\\n",
       "\t BME\\_dtw\\_diff\\_dist.csv & 1                           & 1                           & 5                           & 1                          \\\\\n",
       "\t BME\\_dtw\\_diff\\_dist.csv & 1                           & 2                           & 1                           & 1                          \\\\\n",
       "\t BME\\_dtw\\_diff\\_dist.csv & 1                           & 2                           & 3                           & 1                          \\\\\n",
       "\t BME\\_dtw\\_diff\\_dist.csv & 1                           & 2                           & 5                           & 1                          \\\\\n",
       "\\end{tabular}\n"
      ],
      "text/markdown": [
       "\n",
       "| approach | repid | foldid | k | acc |\n",
       "|---|---|---|---|---|\n",
       "| BME_dtw_diff_dist.csv | 1                     | 1                     | 1                     | 1                     |\n",
       "| BME_dtw_diff_dist.csv | 1                     | 1                     | 3                     | 1                     |\n",
       "| BME_dtw_diff_dist.csv | 1                     | 1                     | 5                     | 1                     |\n",
       "| BME_dtw_diff_dist.csv | 1                     | 2                     | 1                     | 1                     |\n",
       "| BME_dtw_diff_dist.csv | 1                     | 2                     | 3                     | 1                     |\n",
       "| BME_dtw_diff_dist.csv | 1                     | 2                     | 5                     | 1                     |\n",
       "\n"
      ],
      "text/plain": [
       "  approach              repid foldid k acc\n",
       "1 BME_dtw_diff_dist.csv 1     1      1 1  \n",
       "2 BME_dtw_diff_dist.csv 1     1      3 1  \n",
       "3 BME_dtw_diff_dist.csv 1     1      5 1  \n",
       "4 BME_dtw_diff_dist.csv 1     2      1 1  \n",
       "5 BME_dtw_diff_dist.csv 1     2      3 1  \n",
       "6 BME_dtw_diff_dist.csv 1     2      5 1  "
      ]
     },
     "metadata": {},
     "output_type": "display_data"
    }
   ],
   "source": [
    "dataframe_result=rbindlist(result)\n",
    "head(dataframe_result)"
   ]
  },
  {
   "cell_type": "markdown",
   "metadata": {},
   "source": [
    "In this dataset, result of each fold exists in this dataframe. repid and foldid represent which repetition and fold respectively. "
   ]
  },
  {
   "cell_type": "markdown",
   "metadata": {},
   "source": [
    "### Accumulated Datasets"
   ]
  },
  {
   "cell_type": "code",
   "execution_count": 39,
   "metadata": {
    "scrolled": true
   },
   "outputs": [],
   "source": [
    "acc_res=dataframe_result[,list(avg_acc=mean(acc),sdev_acc=sd(acc), repid=max(repid), foldid=max(foldid), \n",
    "                                   result_count=.N),by=list(approach,k)]\n",
    "acc_res_ordered=acc_res[order(avg_acc,decreasing = TRUE)]"
   ]
  },
  {
   "cell_type": "markdown",
   "metadata": {},
   "source": [
    "Accumulated dataset are ordered by avg_acc value. "
   ]
  },
  {
   "cell_type": "code",
   "execution_count": 40,
   "metadata": {},
   "outputs": [
    {
     "data": {
      "text/html": [
       "<table>\n",
       "<thead><tr><th scope=col>approach</th><th scope=col>k</th><th scope=col>avg_acc</th><th scope=col>sdev_acc</th><th scope=col>repid</th><th scope=col>foldid</th><th scope=col>result_count</th></tr></thead>\n",
       "<tbody>\n",
       "\t<tr><td>BME_dtw_diff2_dist.csv        </td><td>1                             </td><td>1.00000000                    </td><td>0.00000000                    </td><td>5                             </td><td>10                            </td><td>50                            </td></tr>\n",
       "\t<tr><td>BME_dtw_diff2_dist.csv        </td><td>3                             </td><td>1.00000000                    </td><td>0.00000000                    </td><td>5                             </td><td>10                            </td><td>50                            </td></tr>\n",
       "\t<tr><td>BME_dtw_diff2_dist.csv        </td><td>5                             </td><td>0.96666667                    </td><td>0.10101525                    </td><td>5                             </td><td>10                            </td><td>50                            </td></tr>\n",
       "\t<tr><td>BME_dtw_diff_dist.csv         </td><td>1                             </td><td>0.94000000                    </td><td>0.12936264                    </td><td>5                             </td><td>10                            </td><td>50                            </td></tr>\n",
       "\t<tr><td>BME_dtw_diff_dist.csv         </td><td>5                             </td><td>0.94000000                    </td><td>0.12936264                    </td><td>5                             </td><td>10                            </td><td>50                            </td></tr>\n",
       "\t<tr><td>BME_dtw_diff_dist.csv         </td><td>3                             </td><td>0.93333333                    </td><td>0.13468701                    </td><td>5                             </td><td>10                            </td><td>50                            </td></tr>\n",
       "\t<tr><td>BME_euc_paa_dist.csv          </td><td>1                             </td><td>0.90000000                    </td><td>0.15430335                    </td><td>5                             </td><td>10                            </td><td>50                            </td></tr>\n",
       "\t<tr><td>BME_euc_paa2_dist.csv         </td><td>1                             </td><td>0.90000000                    </td><td>0.15430335                    </td><td>5                             </td><td>10                            </td><td>50                            </td></tr>\n",
       "\t<tr><td>BME_euc_raw_dist.csv          </td><td>1                             </td><td>0.87333333                    </td><td>0.16343812                    </td><td>5                             </td><td>10                            </td><td>50                            </td></tr>\n",
       "\t<tr><td>BME_dtw_paa2_dist.csv         </td><td>1                             </td><td>0.87333333                    </td><td>0.16343812                    </td><td>5                             </td><td>10                            </td><td>50                            </td></tr>\n",
       "\t<tr><td>BME_erp_paa2_gap_005.csv      </td><td>5                             </td><td>0.84000000                    </td><td>0.19331222                    </td><td>5                             </td><td>10                            </td><td>50                            </td></tr>\n",
       "\t<tr><td>BME_erp_paa2_gap_005.csv      </td><td>1                             </td><td>0.83333333                    </td><td>0.18132793                    </td><td>5                             </td><td>10                            </td><td>50                            </td></tr>\n",
       "\t<tr><td>BME_euc_paa2_dist.csv         </td><td>3                             </td><td>0.83333333                    </td><td>0.19342949                    </td><td>5                             </td><td>10                            </td><td>50                            </td></tr>\n",
       "\t<tr><td>BME_erp_diff_gap_005.csv      </td><td>1                             </td><td>0.83333333                    </td><td>0.19342949                    </td><td>5                             </td><td>10                            </td><td>50                            </td></tr>\n",
       "\t<tr><td>BME_euc_paa_dist.csv          </td><td>3                             </td><td>0.82000000                    </td><td>0.18082702                    </td><td>5                             </td><td>10                            </td><td>50                            </td></tr>\n",
       "\t<tr><td>BME_euc_raw_dist.csv          </td><td>3                             </td><td>0.81333333                    </td><td>0.19237152                    </td><td>5                             </td><td>10                            </td><td>50                            </td></tr>\n",
       "\t<tr><td>BME_erp_paa2_gap_005.csv      </td><td>3                             </td><td>0.80666667                    </td><td>0.20303815                    </td><td>5                             </td><td>10                            </td><td>50                            </td></tr>\n",
       "\t<tr><td>BME_euc_diff2_dist.csv        </td><td>1                             </td><td>0.80666667                    </td><td>0.17931591                    </td><td>5                             </td><td>10                            </td><td>50                            </td></tr>\n",
       "\t<tr><td>BME_erp_paa_gap_005.csv       </td><td>1                             </td><td>0.80000000                    </td><td>0.17817416                    </td><td>5                             </td><td>10                            </td><td>50                            </td></tr>\n",
       "\t<tr><td>BME_erp_paa_gap_005.csv       </td><td>3                             </td><td>0.80000000                    </td><td>0.20203051                    </td><td>5                             </td><td>10                            </td><td>50                            </td></tr>\n",
       "\t<tr><td>BME_erp_paa_gap_005.csv       </td><td>5                             </td><td>0.80000000                    </td><td>0.20203051                    </td><td>5                             </td><td>10                            </td><td>50                            </td></tr>\n",
       "\t<tr><td>BME_erp_raw_gap_005.csv       </td><td>5                             </td><td>0.80000000                    </td><td>0.20203051                    </td><td>5                             </td><td>10                            </td><td>50                            </td></tr>\n",
       "\t<tr><td>BME_dtw_paa2_dist.csv         </td><td>3                             </td><td>0.80000000                    </td><td>0.22335313                    </td><td>5                             </td><td>10                            </td><td>50                            </td></tr>\n",
       "\t<tr><td>BME_erp_diff_gap_005.csv      </td><td>3                             </td><td>0.80000000                    </td><td>0.19047619                    </td><td>5                             </td><td>10                            </td><td>50                            </td></tr>\n",
       "\t<tr><td>BME_erp_diff2_gap_005.csv     </td><td>1                             </td><td>0.80000000                    </td><td>0.19047619                    </td><td>5                             </td><td>10                            </td><td>50                            </td></tr>\n",
       "\t<tr><td>BME_erp_diff2_gap_005.csv     </td><td>3                             </td><td>0.80000000                    </td><td>0.19047619                    </td><td>5                             </td><td>10                            </td><td>50                            </td></tr>\n",
       "\t<tr><td>BME_erp_diff2_gap_005.csv     </td><td>5                             </td><td>0.80000000                    </td><td>0.17817416                    </td><td>5                             </td><td>10                            </td><td>50                            </td></tr>\n",
       "\t<tr><td>BME_erp_diff_gap_005.csv      </td><td>5                             </td><td>0.79333333                    </td><td>0.20079208                    </td><td>5                             </td><td>10                            </td><td>50                            </td></tr>\n",
       "\t<tr><td>BME_erp_raw_gap_005.csv       </td><td>3                             </td><td>0.78666667                    </td><td>0.19931857                    </td><td>5                             </td><td>10                            </td><td>50                            </td></tr>\n",
       "\t<tr><td>BME_dtw_raw_dist.csv          </td><td>1                             </td><td>0.78000000                    </td><td>0.19760470                    </td><td>5                             </td><td>10                            </td><td>50                            </td></tr>\n",
       "\t<tr><td>BME_dtw_raw_dist.csv          </td><td>5                             </td><td>0.77333333                    </td><td>0.20691010                    </td><td>5                             </td><td>10                            </td><td>50                            </td></tr>\n",
       "\t<tr><td>BME_euc_diff_dist.csv         </td><td>1                             </td><td>0.77333333                    </td><td>0.18368859                    </td><td>5                             </td><td>10                            </td><td>50                            </td></tr>\n",
       "\t<tr><td>BME_euc_paa2_dist.csv         </td><td>5                             </td><td>0.77333333                    </td><td>0.21759352                    </td><td>5                             </td><td>10                            </td><td>50                            </td></tr>\n",
       "\t<tr><td>BME_erp_raw_gap_005.csv       </td><td>1                             </td><td>0.76666667                    </td><td>0.16835876                    </td><td>5                             </td><td>10                            </td><td>50                            </td></tr>\n",
       "\t<tr><td>BME_dtw_paa_dist.csv          </td><td>1                             </td><td>0.76666667                    </td><td>0.20481727                    </td><td>5                             </td><td>10                            </td><td>50                            </td></tr>\n",
       "\t<tr><td>BME_dtw_paa_dist.csv          </td><td>3                             </td><td>0.76666667                    </td><td>0.21560441                    </td><td>5                             </td><td>10                            </td><td>50                            </td></tr>\n",
       "\t<tr><td>BME_dtw_paa2_dist.csv         </td><td>5                             </td><td>0.76666667                    </td><td>0.21560441                    </td><td>5                             </td><td>10                            </td><td>50                            </td></tr>\n",
       "\t<tr><td>BME_euc_diff_dist.csv         </td><td>3                             </td><td>0.76000000                    </td><td>0.19095179                    </td><td>5                             </td><td>10                            </td><td>50                            </td></tr>\n",
       "\t<tr><td>BME_euc_diff2_dist.csv        </td><td>3                             </td><td>0.76000000                    </td><td>0.19095179                    </td><td>5                             </td><td>10                            </td><td>50                            </td></tr>\n",
       "\t<tr><td>BME_dtw_paa_dist.csv          </td><td>5                             </td><td>0.75333333                    </td><td>0.22141577                    </td><td>5                             </td><td>10                            </td><td>50                            </td></tr>\n",
       "\t<tr><td>BME_dtw_raw_dist.csv          </td><td>3                             </td><td>0.74666667                    </td><td>0.20822106                    </td><td>5                             </td><td>10                            </td><td>50                            </td></tr>\n",
       "\t<tr><td>BME_euc_paa_dist.csv          </td><td>5                             </td><td>0.74000000                    </td><td>0.23608677                    </td><td>5                             </td><td>10                            </td><td>50                            </td></tr>\n",
       "\t<tr><td>BME_euc_raw_dist.csv          </td><td>5                             </td><td>0.74000000                    </td><td>0.23608677                    </td><td>5                             </td><td>10                            </td><td>50                            </td></tr>\n",
       "\t<tr><td>BME_euc_diff2_dist.csv        </td><td>5                             </td><td>0.66666667                    </td><td>0.25197632                    </td><td>5                             </td><td>10                            </td><td>50                            </td></tr>\n",
       "\t<tr><td>BME_euc_diff_dist.csv         </td><td>5                             </td><td>0.64666667                    </td><td>0.24660966                    </td><td>5                             </td><td>10                            </td><td>50                            </td></tr>\n",
       "\t<tr><td>BME_lcss_paa2_epsilon_005.csv </td><td>5                             </td><td>0.28000000                    </td><td>0.18269834                    </td><td>5                             </td><td>10                            </td><td>50                            </td></tr>\n",
       "\t<tr><td>BME_lcss_paa2_epsilon_005.csv </td><td>3                             </td><td>0.20666667                    </td><td>0.16343812                    </td><td>5                             </td><td>10                            </td><td>50                            </td></tr>\n",
       "\t<tr><td>BME_lcss_paa_epsilon_005.csv  </td><td>1                             </td><td>0.17333333                    </td><td>0.16822402                    </td><td>5                             </td><td>10                            </td><td>50                            </td></tr>\n",
       "\t<tr><td>BME_lcss_paa2_epsilon_005.csv </td><td>1                             </td><td>0.15333333                    </td><td>0.16781914                    </td><td>5                             </td><td>10                            </td><td>50                            </td></tr>\n",
       "\t<tr><td>BME_lcss_raw_epsilon_005.csv  </td><td>3                             </td><td>0.10000000                    </td><td>0.15430335                    </td><td>5                             </td><td>10                            </td><td>50                            </td></tr>\n",
       "\t<tr><td>BME_lcss_raw_epsilon_005.csv  </td><td>1                             </td><td>0.08000000                    </td><td>0.14380637                    </td><td>5                             </td><td>10                            </td><td>50                            </td></tr>\n",
       "\t<tr><td>BME_lcss_paa_epsilon_005.csv  </td><td>3                             </td><td>0.07333333                    </td><td>0.13948399                    </td><td>5                             </td><td>10                            </td><td>50                            </td></tr>\n",
       "\t<tr><td>BME_lcss_raw_epsilon_005.csv  </td><td>5                             </td><td>0.06000000                    </td><td>0.12936264                    </td><td>5                             </td><td>10                            </td><td>50                            </td></tr>\n",
       "\t<tr><td>BME_lcss_paa_epsilon_005.csv  </td><td>5                             </td><td>0.02666667                    </td><td>0.09134917                    </td><td>5                             </td><td>10                            </td><td>50                            </td></tr>\n",
       "\t<tr><td>BME_lcss_diff_epsilon_005.csv </td><td>1                             </td><td>0.01333333                    </td><td>0.06598289                    </td><td>5                             </td><td>10                            </td><td>50                            </td></tr>\n",
       "\t<tr><td>BME_lcss_diff_epsilon_005.csv </td><td>3                             </td><td>0.00000000                    </td><td>0.00000000                    </td><td>5                             </td><td>10                            </td><td>50                            </td></tr>\n",
       "\t<tr><td>BME_lcss_diff_epsilon_005.csv </td><td>5                             </td><td>0.00000000                    </td><td>0.00000000                    </td><td>5                             </td><td>10                            </td><td>50                            </td></tr>\n",
       "\t<tr><td>BME_lcss_diff2_epsilon_005.csv</td><td>1                             </td><td>0.00000000                    </td><td>0.00000000                    </td><td>5                             </td><td>10                            </td><td>50                            </td></tr>\n",
       "\t<tr><td>BME_lcss_diff2_epsilon_005.csv</td><td>3                             </td><td>0.00000000                    </td><td>0.00000000                    </td><td>5                             </td><td>10                            </td><td>50                            </td></tr>\n",
       "\t<tr><td>BME_lcss_diff2_epsilon_005.csv</td><td>5                             </td><td>0.00000000                    </td><td>0.00000000                    </td><td>5                             </td><td>10                            </td><td>50                            </td></tr>\n",
       "</tbody>\n",
       "</table>\n"
      ],
      "text/latex": [
       "\\begin{tabular}{r|lllllll}\n",
       " approach & k & avg\\_acc & sdev\\_acc & repid & foldid & result\\_count\\\\\n",
       "\\hline\n",
       "\t BME\\_dtw\\_diff2\\_dist.csv         & 1                                    & 1.00000000                           & 0.00000000                           & 5                                    & 10                                   & 50                                  \\\\\n",
       "\t BME\\_dtw\\_diff2\\_dist.csv         & 3                                    & 1.00000000                           & 0.00000000                           & 5                                    & 10                                   & 50                                  \\\\\n",
       "\t BME\\_dtw\\_diff2\\_dist.csv         & 5                                    & 0.96666667                           & 0.10101525                           & 5                                    & 10                                   & 50                                  \\\\\n",
       "\t BME\\_dtw\\_diff\\_dist.csv          & 1                                    & 0.94000000                           & 0.12936264                           & 5                                    & 10                                   & 50                                  \\\\\n",
       "\t BME\\_dtw\\_diff\\_dist.csv          & 5                                    & 0.94000000                           & 0.12936264                           & 5                                    & 10                                   & 50                                  \\\\\n",
       "\t BME\\_dtw\\_diff\\_dist.csv          & 3                                    & 0.93333333                           & 0.13468701                           & 5                                    & 10                                   & 50                                  \\\\\n",
       "\t BME\\_euc\\_paa\\_dist.csv           & 1                                    & 0.90000000                           & 0.15430335                           & 5                                    & 10                                   & 50                                  \\\\\n",
       "\t BME\\_euc\\_paa2\\_dist.csv          & 1                                    & 0.90000000                           & 0.15430335                           & 5                                    & 10                                   & 50                                  \\\\\n",
       "\t BME\\_euc\\_raw\\_dist.csv           & 1                                    & 0.87333333                           & 0.16343812                           & 5                                    & 10                                   & 50                                  \\\\\n",
       "\t BME\\_dtw\\_paa2\\_dist.csv          & 1                                    & 0.87333333                           & 0.16343812                           & 5                                    & 10                                   & 50                                  \\\\\n",
       "\t BME\\_erp\\_paa2\\_gap\\_005.csv       & 5                                      & 0.84000000                             & 0.19331222                             & 5                                      & 10                                     & 50                                    \\\\\n",
       "\t BME\\_erp\\_paa2\\_gap\\_005.csv       & 1                                      & 0.83333333                             & 0.18132793                             & 5                                      & 10                                     & 50                                    \\\\\n",
       "\t BME\\_euc\\_paa2\\_dist.csv          & 3                                    & 0.83333333                           & 0.19342949                           & 5                                    & 10                                   & 50                                  \\\\\n",
       "\t BME\\_erp\\_diff\\_gap\\_005.csv       & 1                                      & 0.83333333                             & 0.19342949                             & 5                                      & 10                                     & 50                                    \\\\\n",
       "\t BME\\_euc\\_paa\\_dist.csv           & 3                                    & 0.82000000                           & 0.18082702                           & 5                                    & 10                                   & 50                                  \\\\\n",
       "\t BME\\_euc\\_raw\\_dist.csv           & 3                                    & 0.81333333                           & 0.19237152                           & 5                                    & 10                                   & 50                                  \\\\\n",
       "\t BME\\_erp\\_paa2\\_gap\\_005.csv       & 3                                      & 0.80666667                             & 0.20303815                             & 5                                      & 10                                     & 50                                    \\\\\n",
       "\t BME\\_euc\\_diff2\\_dist.csv         & 1                                    & 0.80666667                           & 0.17931591                           & 5                                    & 10                                   & 50                                  \\\\\n",
       "\t BME\\_erp\\_paa\\_gap\\_005.csv        & 1                                      & 0.80000000                             & 0.17817416                             & 5                                      & 10                                     & 50                                    \\\\\n",
       "\t BME\\_erp\\_paa\\_gap\\_005.csv        & 3                                      & 0.80000000                             & 0.20203051                             & 5                                      & 10                                     & 50                                    \\\\\n",
       "\t BME\\_erp\\_paa\\_gap\\_005.csv        & 5                                      & 0.80000000                             & 0.20203051                             & 5                                      & 10                                     & 50                                    \\\\\n",
       "\t BME\\_erp\\_raw\\_gap\\_005.csv        & 5                                      & 0.80000000                             & 0.20203051                             & 5                                      & 10                                     & 50                                    \\\\\n",
       "\t BME\\_dtw\\_paa2\\_dist.csv          & 3                                    & 0.80000000                           & 0.22335313                           & 5                                    & 10                                   & 50                                  \\\\\n",
       "\t BME\\_erp\\_diff\\_gap\\_005.csv       & 3                                      & 0.80000000                             & 0.19047619                             & 5                                      & 10                                     & 50                                    \\\\\n",
       "\t BME\\_erp\\_diff2\\_gap\\_005.csv      & 1                                      & 0.80000000                             & 0.19047619                             & 5                                      & 10                                     & 50                                    \\\\\n",
       "\t BME\\_erp\\_diff2\\_gap\\_005.csv      & 3                                      & 0.80000000                             & 0.19047619                             & 5                                      & 10                                     & 50                                    \\\\\n",
       "\t BME\\_erp\\_diff2\\_gap\\_005.csv      & 5                                      & 0.80000000                             & 0.17817416                             & 5                                      & 10                                     & 50                                    \\\\\n",
       "\t BME\\_erp\\_diff\\_gap\\_005.csv       & 5                                      & 0.79333333                             & 0.20079208                             & 5                                      & 10                                     & 50                                    \\\\\n",
       "\t BME\\_erp\\_raw\\_gap\\_005.csv        & 3                                      & 0.78666667                             & 0.19931857                             & 5                                      & 10                                     & 50                                    \\\\\n",
       "\t BME\\_dtw\\_raw\\_dist.csv           & 1                                    & 0.78000000                           & 0.19760470                           & 5                                    & 10                                   & 50                                  \\\\\n",
       "\t BME\\_dtw\\_raw\\_dist.csv           & 5                                    & 0.77333333                           & 0.20691010                           & 5                                    & 10                                   & 50                                  \\\\\n",
       "\t BME\\_euc\\_diff\\_dist.csv          & 1                                    & 0.77333333                           & 0.18368859                           & 5                                    & 10                                   & 50                                  \\\\\n",
       "\t BME\\_euc\\_paa2\\_dist.csv          & 5                                    & 0.77333333                           & 0.21759352                           & 5                                    & 10                                   & 50                                  \\\\\n",
       "\t BME\\_erp\\_raw\\_gap\\_005.csv        & 1                                      & 0.76666667                             & 0.16835876                             & 5                                      & 10                                     & 50                                    \\\\\n",
       "\t BME\\_dtw\\_paa\\_dist.csv           & 1                                    & 0.76666667                           & 0.20481727                           & 5                                    & 10                                   & 50                                  \\\\\n",
       "\t BME\\_dtw\\_paa\\_dist.csv           & 3                                    & 0.76666667                           & 0.21560441                           & 5                                    & 10                                   & 50                                  \\\\\n",
       "\t BME\\_dtw\\_paa2\\_dist.csv          & 5                                    & 0.76666667                           & 0.21560441                           & 5                                    & 10                                   & 50                                  \\\\\n",
       "\t BME\\_euc\\_diff\\_dist.csv          & 3                                    & 0.76000000                           & 0.19095179                           & 5                                    & 10                                   & 50                                  \\\\\n",
       "\t BME\\_euc\\_diff2\\_dist.csv         & 3                                    & 0.76000000                           & 0.19095179                           & 5                                    & 10                                   & 50                                  \\\\\n",
       "\t BME\\_dtw\\_paa\\_dist.csv           & 5                                    & 0.75333333                           & 0.22141577                           & 5                                    & 10                                   & 50                                  \\\\\n",
       "\t BME\\_dtw\\_raw\\_dist.csv           & 3                                    & 0.74666667                           & 0.20822106                           & 5                                    & 10                                   & 50                                  \\\\\n",
       "\t BME\\_euc\\_paa\\_dist.csv           & 5                                    & 0.74000000                           & 0.23608677                           & 5                                    & 10                                   & 50                                  \\\\\n",
       "\t BME\\_euc\\_raw\\_dist.csv           & 5                                    & 0.74000000                           & 0.23608677                           & 5                                    & 10                                   & 50                                  \\\\\n",
       "\t BME\\_euc\\_diff2\\_dist.csv         & 5                                    & 0.66666667                           & 0.25197632                           & 5                                    & 10                                   & 50                                  \\\\\n",
       "\t BME\\_euc\\_diff\\_dist.csv          & 5                                    & 0.64666667                           & 0.24660966                           & 5                                    & 10                                   & 50                                  \\\\\n",
       "\t BME\\_lcss\\_paa2\\_epsilon\\_005.csv  & 5                                      & 0.28000000                             & 0.18269834                             & 5                                      & 10                                     & 50                                    \\\\\n",
       "\t BME\\_lcss\\_paa2\\_epsilon\\_005.csv  & 3                                      & 0.20666667                             & 0.16343812                             & 5                                      & 10                                     & 50                                    \\\\\n",
       "\t BME\\_lcss\\_paa\\_epsilon\\_005.csv   & 1                                      & 0.17333333                             & 0.16822402                             & 5                                      & 10                                     & 50                                    \\\\\n",
       "\t BME\\_lcss\\_paa2\\_epsilon\\_005.csv  & 1                                      & 0.15333333                             & 0.16781914                             & 5                                      & 10                                     & 50                                    \\\\\n",
       "\t BME\\_lcss\\_raw\\_epsilon\\_005.csv   & 3                                      & 0.10000000                             & 0.15430335                             & 5                                      & 10                                     & 50                                    \\\\\n",
       "\t BME\\_lcss\\_raw\\_epsilon\\_005.csv   & 1                                      & 0.08000000                             & 0.14380637                             & 5                                      & 10                                     & 50                                    \\\\\n",
       "\t BME\\_lcss\\_paa\\_epsilon\\_005.csv   & 3                                      & 0.07333333                             & 0.13948399                             & 5                                      & 10                                     & 50                                    \\\\\n",
       "\t BME\\_lcss\\_raw\\_epsilon\\_005.csv   & 5                                      & 0.06000000                             & 0.12936264                             & 5                                      & 10                                     & 50                                    \\\\\n",
       "\t BME\\_lcss\\_paa\\_epsilon\\_005.csv   & 5                                      & 0.02666667                             & 0.09134917                             & 5                                      & 10                                     & 50                                    \\\\\n",
       "\t BME\\_lcss\\_diff\\_epsilon\\_005.csv  & 1                                      & 0.01333333                             & 0.06598289                             & 5                                      & 10                                     & 50                                    \\\\\n",
       "\t BME\\_lcss\\_diff\\_epsilon\\_005.csv  & 3                                      & 0.00000000                             & 0.00000000                             & 5                                      & 10                                     & 50                                    \\\\\n",
       "\t BME\\_lcss\\_diff\\_epsilon\\_005.csv  & 5                                      & 0.00000000                             & 0.00000000                             & 5                                      & 10                                     & 50                                    \\\\\n",
       "\t BME\\_lcss\\_diff2\\_epsilon\\_005.csv & 1                                      & 0.00000000                             & 0.00000000                             & 5                                      & 10                                     & 50                                    \\\\\n",
       "\t BME\\_lcss\\_diff2\\_epsilon\\_005.csv & 3                                      & 0.00000000                             & 0.00000000                             & 5                                      & 10                                     & 50                                    \\\\\n",
       "\t BME\\_lcss\\_diff2\\_epsilon\\_005.csv & 5                                      & 0.00000000                             & 0.00000000                             & 5                                      & 10                                     & 50                                    \\\\\n",
       "\\end{tabular}\n"
      ],
      "text/markdown": [
       "\n",
       "| approach | k | avg_acc | sdev_acc | repid | foldid | result_count |\n",
       "|---|---|---|---|---|---|---|\n",
       "| BME_dtw_diff2_dist.csv         | 1                              | 1.00000000                     | 0.00000000                     | 5                              | 10                             | 50                             |\n",
       "| BME_dtw_diff2_dist.csv         | 3                              | 1.00000000                     | 0.00000000                     | 5                              | 10                             | 50                             |\n",
       "| BME_dtw_diff2_dist.csv         | 5                              | 0.96666667                     | 0.10101525                     | 5                              | 10                             | 50                             |\n",
       "| BME_dtw_diff_dist.csv          | 1                              | 0.94000000                     | 0.12936264                     | 5                              | 10                             | 50                             |\n",
       "| BME_dtw_diff_dist.csv          | 5                              | 0.94000000                     | 0.12936264                     | 5                              | 10                             | 50                             |\n",
       "| BME_dtw_diff_dist.csv          | 3                              | 0.93333333                     | 0.13468701                     | 5                              | 10                             | 50                             |\n",
       "| BME_euc_paa_dist.csv           | 1                              | 0.90000000                     | 0.15430335                     | 5                              | 10                             | 50                             |\n",
       "| BME_euc_paa2_dist.csv          | 1                              | 0.90000000                     | 0.15430335                     | 5                              | 10                             | 50                             |\n",
       "| BME_euc_raw_dist.csv           | 1                              | 0.87333333                     | 0.16343812                     | 5                              | 10                             | 50                             |\n",
       "| BME_dtw_paa2_dist.csv          | 1                              | 0.87333333                     | 0.16343812                     | 5                              | 10                             | 50                             |\n",
       "| BME_erp_paa2_gap_005.csv       | 5                              | 0.84000000                     | 0.19331222                     | 5                              | 10                             | 50                             |\n",
       "| BME_erp_paa2_gap_005.csv       | 1                              | 0.83333333                     | 0.18132793                     | 5                              | 10                             | 50                             |\n",
       "| BME_euc_paa2_dist.csv          | 3                              | 0.83333333                     | 0.19342949                     | 5                              | 10                             | 50                             |\n",
       "| BME_erp_diff_gap_005.csv       | 1                              | 0.83333333                     | 0.19342949                     | 5                              | 10                             | 50                             |\n",
       "| BME_euc_paa_dist.csv           | 3                              | 0.82000000                     | 0.18082702                     | 5                              | 10                             | 50                             |\n",
       "| BME_euc_raw_dist.csv           | 3                              | 0.81333333                     | 0.19237152                     | 5                              | 10                             | 50                             |\n",
       "| BME_erp_paa2_gap_005.csv       | 3                              | 0.80666667                     | 0.20303815                     | 5                              | 10                             | 50                             |\n",
       "| BME_euc_diff2_dist.csv         | 1                              | 0.80666667                     | 0.17931591                     | 5                              | 10                             | 50                             |\n",
       "| BME_erp_paa_gap_005.csv        | 1                              | 0.80000000                     | 0.17817416                     | 5                              | 10                             | 50                             |\n",
       "| BME_erp_paa_gap_005.csv        | 3                              | 0.80000000                     | 0.20203051                     | 5                              | 10                             | 50                             |\n",
       "| BME_erp_paa_gap_005.csv        | 5                              | 0.80000000                     | 0.20203051                     | 5                              | 10                             | 50                             |\n",
       "| BME_erp_raw_gap_005.csv        | 5                              | 0.80000000                     | 0.20203051                     | 5                              | 10                             | 50                             |\n",
       "| BME_dtw_paa2_dist.csv          | 3                              | 0.80000000                     | 0.22335313                     | 5                              | 10                             | 50                             |\n",
       "| BME_erp_diff_gap_005.csv       | 3                              | 0.80000000                     | 0.19047619                     | 5                              | 10                             | 50                             |\n",
       "| BME_erp_diff2_gap_005.csv      | 1                              | 0.80000000                     | 0.19047619                     | 5                              | 10                             | 50                             |\n",
       "| BME_erp_diff2_gap_005.csv      | 3                              | 0.80000000                     | 0.19047619                     | 5                              | 10                             | 50                             |\n",
       "| BME_erp_diff2_gap_005.csv      | 5                              | 0.80000000                     | 0.17817416                     | 5                              | 10                             | 50                             |\n",
       "| BME_erp_diff_gap_005.csv       | 5                              | 0.79333333                     | 0.20079208                     | 5                              | 10                             | 50                             |\n",
       "| BME_erp_raw_gap_005.csv        | 3                              | 0.78666667                     | 0.19931857                     | 5                              | 10                             | 50                             |\n",
       "| BME_dtw_raw_dist.csv           | 1                              | 0.78000000                     | 0.19760470                     | 5                              | 10                             | 50                             |\n",
       "| BME_dtw_raw_dist.csv           | 5                              | 0.77333333                     | 0.20691010                     | 5                              | 10                             | 50                             |\n",
       "| BME_euc_diff_dist.csv          | 1                              | 0.77333333                     | 0.18368859                     | 5                              | 10                             | 50                             |\n",
       "| BME_euc_paa2_dist.csv          | 5                              | 0.77333333                     | 0.21759352                     | 5                              | 10                             | 50                             |\n",
       "| BME_erp_raw_gap_005.csv        | 1                              | 0.76666667                     | 0.16835876                     | 5                              | 10                             | 50                             |\n",
       "| BME_dtw_paa_dist.csv           | 1                              | 0.76666667                     | 0.20481727                     | 5                              | 10                             | 50                             |\n",
       "| BME_dtw_paa_dist.csv           | 3                              | 0.76666667                     | 0.21560441                     | 5                              | 10                             | 50                             |\n",
       "| BME_dtw_paa2_dist.csv          | 5                              | 0.76666667                     | 0.21560441                     | 5                              | 10                             | 50                             |\n",
       "| BME_euc_diff_dist.csv          | 3                              | 0.76000000                     | 0.19095179                     | 5                              | 10                             | 50                             |\n",
       "| BME_euc_diff2_dist.csv         | 3                              | 0.76000000                     | 0.19095179                     | 5                              | 10                             | 50                             |\n",
       "| BME_dtw_paa_dist.csv           | 5                              | 0.75333333                     | 0.22141577                     | 5                              | 10                             | 50                             |\n",
       "| BME_dtw_raw_dist.csv           | 3                              | 0.74666667                     | 0.20822106                     | 5                              | 10                             | 50                             |\n",
       "| BME_euc_paa_dist.csv           | 5                              | 0.74000000                     | 0.23608677                     | 5                              | 10                             | 50                             |\n",
       "| BME_euc_raw_dist.csv           | 5                              | 0.74000000                     | 0.23608677                     | 5                              | 10                             | 50                             |\n",
       "| BME_euc_diff2_dist.csv         | 5                              | 0.66666667                     | 0.25197632                     | 5                              | 10                             | 50                             |\n",
       "| BME_euc_diff_dist.csv          | 5                              | 0.64666667                     | 0.24660966                     | 5                              | 10                             | 50                             |\n",
       "| BME_lcss_paa2_epsilon_005.csv  | 5                              | 0.28000000                     | 0.18269834                     | 5                              | 10                             | 50                             |\n",
       "| BME_lcss_paa2_epsilon_005.csv  | 3                              | 0.20666667                     | 0.16343812                     | 5                              | 10                             | 50                             |\n",
       "| BME_lcss_paa_epsilon_005.csv   | 1                              | 0.17333333                     | 0.16822402                     | 5                              | 10                             | 50                             |\n",
       "| BME_lcss_paa2_epsilon_005.csv  | 1                              | 0.15333333                     | 0.16781914                     | 5                              | 10                             | 50                             |\n",
       "| BME_lcss_raw_epsilon_005.csv   | 3                              | 0.10000000                     | 0.15430335                     | 5                              | 10                             | 50                             |\n",
       "| BME_lcss_raw_epsilon_005.csv   | 1                              | 0.08000000                     | 0.14380637                     | 5                              | 10                             | 50                             |\n",
       "| BME_lcss_paa_epsilon_005.csv   | 3                              | 0.07333333                     | 0.13948399                     | 5                              | 10                             | 50                             |\n",
       "| BME_lcss_raw_epsilon_005.csv   | 5                              | 0.06000000                     | 0.12936264                     | 5                              | 10                             | 50                             |\n",
       "| BME_lcss_paa_epsilon_005.csv   | 5                              | 0.02666667                     | 0.09134917                     | 5                              | 10                             | 50                             |\n",
       "| BME_lcss_diff_epsilon_005.csv  | 1                              | 0.01333333                     | 0.06598289                     | 5                              | 10                             | 50                             |\n",
       "| BME_lcss_diff_epsilon_005.csv  | 3                              | 0.00000000                     | 0.00000000                     | 5                              | 10                             | 50                             |\n",
       "| BME_lcss_diff_epsilon_005.csv  | 5                              | 0.00000000                     | 0.00000000                     | 5                              | 10                             | 50                             |\n",
       "| BME_lcss_diff2_epsilon_005.csv | 1                              | 0.00000000                     | 0.00000000                     | 5                              | 10                             | 50                             |\n",
       "| BME_lcss_diff2_epsilon_005.csv | 3                              | 0.00000000                     | 0.00000000                     | 5                              | 10                             | 50                             |\n",
       "| BME_lcss_diff2_epsilon_005.csv | 5                              | 0.00000000                     | 0.00000000                     | 5                              | 10                             | 50                             |\n",
       "\n"
      ],
      "text/plain": [
       "   approach                       k avg_acc    sdev_acc   repid foldid\n",
       "1  BME_dtw_diff2_dist.csv         1 1.00000000 0.00000000 5     10    \n",
       "2  BME_dtw_diff2_dist.csv         3 1.00000000 0.00000000 5     10    \n",
       "3  BME_dtw_diff2_dist.csv         5 0.96666667 0.10101525 5     10    \n",
       "4  BME_dtw_diff_dist.csv          1 0.94000000 0.12936264 5     10    \n",
       "5  BME_dtw_diff_dist.csv          5 0.94000000 0.12936264 5     10    \n",
       "6  BME_dtw_diff_dist.csv          3 0.93333333 0.13468701 5     10    \n",
       "7  BME_euc_paa_dist.csv           1 0.90000000 0.15430335 5     10    \n",
       "8  BME_euc_paa2_dist.csv          1 0.90000000 0.15430335 5     10    \n",
       "9  BME_euc_raw_dist.csv           1 0.87333333 0.16343812 5     10    \n",
       "10 BME_dtw_paa2_dist.csv          1 0.87333333 0.16343812 5     10    \n",
       "11 BME_erp_paa2_gap_005.csv       5 0.84000000 0.19331222 5     10    \n",
       "12 BME_erp_paa2_gap_005.csv       1 0.83333333 0.18132793 5     10    \n",
       "13 BME_euc_paa2_dist.csv          3 0.83333333 0.19342949 5     10    \n",
       "14 BME_erp_diff_gap_005.csv       1 0.83333333 0.19342949 5     10    \n",
       "15 BME_euc_paa_dist.csv           3 0.82000000 0.18082702 5     10    \n",
       "16 BME_euc_raw_dist.csv           3 0.81333333 0.19237152 5     10    \n",
       "17 BME_erp_paa2_gap_005.csv       3 0.80666667 0.20303815 5     10    \n",
       "18 BME_euc_diff2_dist.csv         1 0.80666667 0.17931591 5     10    \n",
       "19 BME_erp_paa_gap_005.csv        1 0.80000000 0.17817416 5     10    \n",
       "20 BME_erp_paa_gap_005.csv        3 0.80000000 0.20203051 5     10    \n",
       "21 BME_erp_paa_gap_005.csv        5 0.80000000 0.20203051 5     10    \n",
       "22 BME_erp_raw_gap_005.csv        5 0.80000000 0.20203051 5     10    \n",
       "23 BME_dtw_paa2_dist.csv          3 0.80000000 0.22335313 5     10    \n",
       "24 BME_erp_diff_gap_005.csv       3 0.80000000 0.19047619 5     10    \n",
       "25 BME_erp_diff2_gap_005.csv      1 0.80000000 0.19047619 5     10    \n",
       "26 BME_erp_diff2_gap_005.csv      3 0.80000000 0.19047619 5     10    \n",
       "27 BME_erp_diff2_gap_005.csv      5 0.80000000 0.17817416 5     10    \n",
       "28 BME_erp_diff_gap_005.csv       5 0.79333333 0.20079208 5     10    \n",
       "29 BME_erp_raw_gap_005.csv        3 0.78666667 0.19931857 5     10    \n",
       "30 BME_dtw_raw_dist.csv           1 0.78000000 0.19760470 5     10    \n",
       "31 BME_dtw_raw_dist.csv           5 0.77333333 0.20691010 5     10    \n",
       "32 BME_euc_diff_dist.csv          1 0.77333333 0.18368859 5     10    \n",
       "33 BME_euc_paa2_dist.csv          5 0.77333333 0.21759352 5     10    \n",
       "34 BME_erp_raw_gap_005.csv        1 0.76666667 0.16835876 5     10    \n",
       "35 BME_dtw_paa_dist.csv           1 0.76666667 0.20481727 5     10    \n",
       "36 BME_dtw_paa_dist.csv           3 0.76666667 0.21560441 5     10    \n",
       "37 BME_dtw_paa2_dist.csv          5 0.76666667 0.21560441 5     10    \n",
       "38 BME_euc_diff_dist.csv          3 0.76000000 0.19095179 5     10    \n",
       "39 BME_euc_diff2_dist.csv         3 0.76000000 0.19095179 5     10    \n",
       "40 BME_dtw_paa_dist.csv           5 0.75333333 0.22141577 5     10    \n",
       "41 BME_dtw_raw_dist.csv           3 0.74666667 0.20822106 5     10    \n",
       "42 BME_euc_paa_dist.csv           5 0.74000000 0.23608677 5     10    \n",
       "43 BME_euc_raw_dist.csv           5 0.74000000 0.23608677 5     10    \n",
       "44 BME_euc_diff2_dist.csv         5 0.66666667 0.25197632 5     10    \n",
       "45 BME_euc_diff_dist.csv          5 0.64666667 0.24660966 5     10    \n",
       "46 BME_lcss_paa2_epsilon_005.csv  5 0.28000000 0.18269834 5     10    \n",
       "47 BME_lcss_paa2_epsilon_005.csv  3 0.20666667 0.16343812 5     10    \n",
       "48 BME_lcss_paa_epsilon_005.csv   1 0.17333333 0.16822402 5     10    \n",
       "49 BME_lcss_paa2_epsilon_005.csv  1 0.15333333 0.16781914 5     10    \n",
       "50 BME_lcss_raw_epsilon_005.csv   3 0.10000000 0.15430335 5     10    \n",
       "51 BME_lcss_raw_epsilon_005.csv   1 0.08000000 0.14380637 5     10    \n",
       "52 BME_lcss_paa_epsilon_005.csv   3 0.07333333 0.13948399 5     10    \n",
       "53 BME_lcss_raw_epsilon_005.csv   5 0.06000000 0.12936264 5     10    \n",
       "54 BME_lcss_paa_epsilon_005.csv   5 0.02666667 0.09134917 5     10    \n",
       "55 BME_lcss_diff_epsilon_005.csv  1 0.01333333 0.06598289 5     10    \n",
       "56 BME_lcss_diff_epsilon_005.csv  3 0.00000000 0.00000000 5     10    \n",
       "57 BME_lcss_diff_epsilon_005.csv  5 0.00000000 0.00000000 5     10    \n",
       "58 BME_lcss_diff2_epsilon_005.csv 1 0.00000000 0.00000000 5     10    \n",
       "59 BME_lcss_diff2_epsilon_005.csv 3 0.00000000 0.00000000 5     10    \n",
       "60 BME_lcss_diff2_epsilon_005.csv 5 0.00000000 0.00000000 5     10    \n",
       "   result_count\n",
       "1  50          \n",
       "2  50          \n",
       "3  50          \n",
       "4  50          \n",
       "5  50          \n",
       "6  50          \n",
       "7  50          \n",
       "8  50          \n",
       "9  50          \n",
       "10 50          \n",
       "11 50          \n",
       "12 50          \n",
       "13 50          \n",
       "14 50          \n",
       "15 50          \n",
       "16 50          \n",
       "17 50          \n",
       "18 50          \n",
       "19 50          \n",
       "20 50          \n",
       "21 50          \n",
       "22 50          \n",
       "23 50          \n",
       "24 50          \n",
       "25 50          \n",
       "26 50          \n",
       "27 50          \n",
       "28 50          \n",
       "29 50          \n",
       "30 50          \n",
       "31 50          \n",
       "32 50          \n",
       "33 50          \n",
       "34 50          \n",
       "35 50          \n",
       "36 50          \n",
       "37 50          \n",
       "38 50          \n",
       "39 50          \n",
       "40 50          \n",
       "41 50          \n",
       "42 50          \n",
       "43 50          \n",
       "44 50          \n",
       "45 50          \n",
       "46 50          \n",
       "47 50          \n",
       "48 50          \n",
       "49 50          \n",
       "50 50          \n",
       "51 50          \n",
       "52 50          \n",
       "53 50          \n",
       "54 50          \n",
       "55 50          \n",
       "56 50          \n",
       "57 50          \n",
       "58 50          \n",
       "59 50          \n",
       "60 50          "
      ]
     },
     "metadata": {},
     "output_type": "display_data"
    }
   ],
   "source": [
    "acc_res_ordered"
   ]
  },
  {
   "cell_type": "code",
   "execution_count": 41,
   "metadata": {},
   "outputs": [],
   "source": [
    "# require(ggplot2)\n",
    "# ggplot(dataframe_result,aes(x=paste0(approach,'with K=',k), y=acc)) +\n",
    "#         geom_boxplot()+\n",
    "#         labs(title=\"Boxplot of Models\")+\n",
    "#         xlab(\"Model Types\")+\n",
    "#         coord_flip()"
   ]
  },
  {
   "cell_type": "markdown",
   "metadata": {},
   "source": [
    "## Best Result and Parameter Combination"
   ]
  },
  {
   "cell_type": "code",
   "execution_count": 54,
   "metadata": {},
   "outputs": [
    {
     "data": {
      "text/html": [
       "<table>\n",
       "<thead><tr><th scope=col>approach</th><th scope=col>k</th><th scope=col>avg_acc</th><th scope=col>sdev_acc</th><th scope=col>repid</th><th scope=col>foldid</th><th scope=col>result_count</th></tr></thead>\n",
       "<tbody>\n",
       "\t<tr><td>BME_dtw_diff2_dist.csv</td><td>1                     </td><td>1                     </td><td>0                     </td><td>5                     </td><td>10                    </td><td>50                    </td></tr>\n",
       "</tbody>\n",
       "</table>\n"
      ],
      "text/latex": [
       "\\begin{tabular}{r|lllllll}\n",
       " approach & k & avg\\_acc & sdev\\_acc & repid & foldid & result\\_count\\\\\n",
       "\\hline\n",
       "\t BME\\_dtw\\_diff2\\_dist.csv & 1                            & 1                            & 0                            & 5                            & 10                           & 50                          \\\\\n",
       "\\end{tabular}\n"
      ],
      "text/markdown": [
       "\n",
       "| approach | k | avg_acc | sdev_acc | repid | foldid | result_count |\n",
       "|---|---|---|---|---|---|---|\n",
       "| BME_dtw_diff2_dist.csv | 1                      | 1                      | 0                      | 5                      | 10                     | 50                     |\n",
       "\n"
      ],
      "text/plain": [
       "  approach               k avg_acc sdev_acc repid foldid result_count\n",
       "1 BME_dtw_diff2_dist.csv 1 1       0        5     10     50          "
      ]
     },
     "metadata": {},
     "output_type": "display_data"
    }
   ],
   "source": [
    "acc_res_ordered[1]"
   ]
  },
  {
   "cell_type": "markdown",
   "metadata": {},
   "source": [
    "Result is obtained by considering mean and standard deviation of the accuracy over the test folds. There are 2 different models obtaining the full accuracy. The only difference in these models are the k values. K is selected as 1 to have simple model."
   ]
  },
  {
   "cell_type": "markdown",
   "metadata": {},
   "source": [
    "### Best Parameter Combination"
   ]
  },
  {
   "cell_type": "markdown",
   "metadata": {},
   "source": [
    "- Representation: 2 Difference Taken Data\n",
    "- Distance: Dynamic Time Warping with epsilon 0.05\n",
    "- K value of NN: 1\n",
    "\n",
    "**Average Accuracy: 1.00 based on 5 repeats and 10-fold cross validation**"
   ]
  },
  {
   "cell_type": "markdown",
   "metadata": {},
   "source": [
    "<a id=\"12\"></a>\n",
    "# Test Performance"
   ]
  },
  {
   "cell_type": "markdown",
   "metadata": {},
   "source": [
    "Best performance is obtained when representation, distance, and k values are difference=1, Euclidean, and K=1 respectively."
   ]
  },
  {
   "cell_type": "code",
   "execution_count": 42,
   "metadata": {},
   "outputs": [],
   "source": [
    "traindata=as.matrix(fread(sprintf('%s%s/%s_TRAIN.txt',dataset_path, third_dataset,third_dataset)))\n",
    "testdata=as.matrix(fread(sprintf('%s%s/%s_TEST.txt',dataset_path, third_dataset,third_dataset)))"
   ]
  },
  {
   "cell_type": "markdown",
   "metadata": {},
   "source": [
    "To get test performance, train and test datasets will be used. These 2 datasets will be bind and test indices are selected as test dataset indices."
   ]
  },
  {
   "cell_type": "code",
   "execution_count": 43,
   "metadata": {},
   "outputs": [],
   "source": [
    "all_dt=rbind(traindata, testdata)"
   ]
  },
  {
   "cell_type": "code",
   "execution_count": 44,
   "metadata": {},
   "outputs": [],
   "source": [
    "allclass=all_dt[,1] \n",
    "all_dt=all_dt[,2:ncol(all_dt)]"
   ]
  },
  {
   "cell_type": "code",
   "execution_count": 45,
   "metadata": {},
   "outputs": [],
   "source": [
    "test_indices_last=(nrow(all_dt)+1-nrow(testdata)):nrow(all_dt)"
   ]
  },
  {
   "cell_type": "markdown",
   "metadata": {},
   "source": [
    "### Parameters"
   ]
  },
  {
   "cell_type": "code",
   "execution_count": 46,
   "metadata": {},
   "outputs": [
    {
     "data": {
      "text/html": [
       "<ol class=list-inline>\n",
       "\t<li>31</li>\n",
       "\t<li>32</li>\n",
       "\t<li>33</li>\n",
       "\t<li>34</li>\n",
       "\t<li>35</li>\n",
       "\t<li>36</li>\n",
       "\t<li>37</li>\n",
       "\t<li>38</li>\n",
       "\t<li>39</li>\n",
       "\t<li>40</li>\n",
       "\t<li>41</li>\n",
       "\t<li>42</li>\n",
       "\t<li>43</li>\n",
       "\t<li>44</li>\n",
       "\t<li>45</li>\n",
       "\t<li>46</li>\n",
       "\t<li>47</li>\n",
       "\t<li>48</li>\n",
       "\t<li>49</li>\n",
       "\t<li>50</li>\n",
       "\t<li>51</li>\n",
       "\t<li>52</li>\n",
       "\t<li>53</li>\n",
       "\t<li>54</li>\n",
       "\t<li>55</li>\n",
       "\t<li>56</li>\n",
       "\t<li>57</li>\n",
       "\t<li>58</li>\n",
       "\t<li>59</li>\n",
       "\t<li>60</li>\n",
       "\t<li>61</li>\n",
       "\t<li>62</li>\n",
       "\t<li>63</li>\n",
       "\t<li>64</li>\n",
       "\t<li>65</li>\n",
       "\t<li>66</li>\n",
       "\t<li>67</li>\n",
       "\t<li>68</li>\n",
       "\t<li>69</li>\n",
       "\t<li>70</li>\n",
       "\t<li>71</li>\n",
       "\t<li>72</li>\n",
       "\t<li>73</li>\n",
       "\t<li>74</li>\n",
       "\t<li>75</li>\n",
       "\t<li>76</li>\n",
       "\t<li>77</li>\n",
       "\t<li>78</li>\n",
       "\t<li>79</li>\n",
       "\t<li>80</li>\n",
       "\t<li>81</li>\n",
       "\t<li>82</li>\n",
       "\t<li>83</li>\n",
       "\t<li>84</li>\n",
       "\t<li>85</li>\n",
       "\t<li>86</li>\n",
       "\t<li>87</li>\n",
       "\t<li>88</li>\n",
       "\t<li>89</li>\n",
       "\t<li>90</li>\n",
       "\t<li>91</li>\n",
       "\t<li>92</li>\n",
       "\t<li>93</li>\n",
       "\t<li>94</li>\n",
       "\t<li>95</li>\n",
       "\t<li>96</li>\n",
       "\t<li>97</li>\n",
       "\t<li>98</li>\n",
       "\t<li>99</li>\n",
       "\t<li>100</li>\n",
       "\t<li>101</li>\n",
       "\t<li>102</li>\n",
       "\t<li>103</li>\n",
       "\t<li>104</li>\n",
       "\t<li>105</li>\n",
       "\t<li>106</li>\n",
       "\t<li>107</li>\n",
       "\t<li>108</li>\n",
       "\t<li>109</li>\n",
       "\t<li>110</li>\n",
       "\t<li>111</li>\n",
       "\t<li>112</li>\n",
       "\t<li>113</li>\n",
       "\t<li>114</li>\n",
       "\t<li>115</li>\n",
       "\t<li>116</li>\n",
       "\t<li>117</li>\n",
       "\t<li>118</li>\n",
       "\t<li>119</li>\n",
       "\t<li>120</li>\n",
       "\t<li>121</li>\n",
       "\t<li>122</li>\n",
       "\t<li>123</li>\n",
       "\t<li>124</li>\n",
       "\t<li>125</li>\n",
       "\t<li>126</li>\n",
       "\t<li>127</li>\n",
       "\t<li>128</li>\n",
       "\t<li>129</li>\n",
       "\t<li>130</li>\n",
       "\t<li>131</li>\n",
       "\t<li>132</li>\n",
       "\t<li>133</li>\n",
       "\t<li>134</li>\n",
       "\t<li>135</li>\n",
       "\t<li>136</li>\n",
       "\t<li>137</li>\n",
       "\t<li>138</li>\n",
       "\t<li>139</li>\n",
       "\t<li>140</li>\n",
       "\t<li>141</li>\n",
       "\t<li>142</li>\n",
       "\t<li>143</li>\n",
       "\t<li>144</li>\n",
       "\t<li>145</li>\n",
       "\t<li>146</li>\n",
       "\t<li>147</li>\n",
       "\t<li>148</li>\n",
       "\t<li>149</li>\n",
       "\t<li>150</li>\n",
       "\t<li>151</li>\n",
       "\t<li>152</li>\n",
       "\t<li>153</li>\n",
       "\t<li>154</li>\n",
       "\t<li>155</li>\n",
       "\t<li>156</li>\n",
       "\t<li>157</li>\n",
       "\t<li>158</li>\n",
       "\t<li>159</li>\n",
       "\t<li>160</li>\n",
       "\t<li>161</li>\n",
       "\t<li>162</li>\n",
       "\t<li>163</li>\n",
       "\t<li>164</li>\n",
       "\t<li>165</li>\n",
       "\t<li>166</li>\n",
       "\t<li>167</li>\n",
       "\t<li>168</li>\n",
       "\t<li>169</li>\n",
       "\t<li>170</li>\n",
       "\t<li>171</li>\n",
       "\t<li>172</li>\n",
       "\t<li>173</li>\n",
       "\t<li>174</li>\n",
       "\t<li>175</li>\n",
       "\t<li>176</li>\n",
       "\t<li>177</li>\n",
       "\t<li>178</li>\n",
       "\t<li>179</li>\n",
       "\t<li>180</li>\n",
       "</ol>\n"
      ],
      "text/latex": [
       "\\begin{enumerate*}\n",
       "\\item 31\n",
       "\\item 32\n",
       "\\item 33\n",
       "\\item 34\n",
       "\\item 35\n",
       "\\item 36\n",
       "\\item 37\n",
       "\\item 38\n",
       "\\item 39\n",
       "\\item 40\n",
       "\\item 41\n",
       "\\item 42\n",
       "\\item 43\n",
       "\\item 44\n",
       "\\item 45\n",
       "\\item 46\n",
       "\\item 47\n",
       "\\item 48\n",
       "\\item 49\n",
       "\\item 50\n",
       "\\item 51\n",
       "\\item 52\n",
       "\\item 53\n",
       "\\item 54\n",
       "\\item 55\n",
       "\\item 56\n",
       "\\item 57\n",
       "\\item 58\n",
       "\\item 59\n",
       "\\item 60\n",
       "\\item 61\n",
       "\\item 62\n",
       "\\item 63\n",
       "\\item 64\n",
       "\\item 65\n",
       "\\item 66\n",
       "\\item 67\n",
       "\\item 68\n",
       "\\item 69\n",
       "\\item 70\n",
       "\\item 71\n",
       "\\item 72\n",
       "\\item 73\n",
       "\\item 74\n",
       "\\item 75\n",
       "\\item 76\n",
       "\\item 77\n",
       "\\item 78\n",
       "\\item 79\n",
       "\\item 80\n",
       "\\item 81\n",
       "\\item 82\n",
       "\\item 83\n",
       "\\item 84\n",
       "\\item 85\n",
       "\\item 86\n",
       "\\item 87\n",
       "\\item 88\n",
       "\\item 89\n",
       "\\item 90\n",
       "\\item 91\n",
       "\\item 92\n",
       "\\item 93\n",
       "\\item 94\n",
       "\\item 95\n",
       "\\item 96\n",
       "\\item 97\n",
       "\\item 98\n",
       "\\item 99\n",
       "\\item 100\n",
       "\\item 101\n",
       "\\item 102\n",
       "\\item 103\n",
       "\\item 104\n",
       "\\item 105\n",
       "\\item 106\n",
       "\\item 107\n",
       "\\item 108\n",
       "\\item 109\n",
       "\\item 110\n",
       "\\item 111\n",
       "\\item 112\n",
       "\\item 113\n",
       "\\item 114\n",
       "\\item 115\n",
       "\\item 116\n",
       "\\item 117\n",
       "\\item 118\n",
       "\\item 119\n",
       "\\item 120\n",
       "\\item 121\n",
       "\\item 122\n",
       "\\item 123\n",
       "\\item 124\n",
       "\\item 125\n",
       "\\item 126\n",
       "\\item 127\n",
       "\\item 128\n",
       "\\item 129\n",
       "\\item 130\n",
       "\\item 131\n",
       "\\item 132\n",
       "\\item 133\n",
       "\\item 134\n",
       "\\item 135\n",
       "\\item 136\n",
       "\\item 137\n",
       "\\item 138\n",
       "\\item 139\n",
       "\\item 140\n",
       "\\item 141\n",
       "\\item 142\n",
       "\\item 143\n",
       "\\item 144\n",
       "\\item 145\n",
       "\\item 146\n",
       "\\item 147\n",
       "\\item 148\n",
       "\\item 149\n",
       "\\item 150\n",
       "\\item 151\n",
       "\\item 152\n",
       "\\item 153\n",
       "\\item 154\n",
       "\\item 155\n",
       "\\item 156\n",
       "\\item 157\n",
       "\\item 158\n",
       "\\item 159\n",
       "\\item 160\n",
       "\\item 161\n",
       "\\item 162\n",
       "\\item 163\n",
       "\\item 164\n",
       "\\item 165\n",
       "\\item 166\n",
       "\\item 167\n",
       "\\item 168\n",
       "\\item 169\n",
       "\\item 170\n",
       "\\item 171\n",
       "\\item 172\n",
       "\\item 173\n",
       "\\item 174\n",
       "\\item 175\n",
       "\\item 176\n",
       "\\item 177\n",
       "\\item 178\n",
       "\\item 179\n",
       "\\item 180\n",
       "\\end{enumerate*}\n"
      ],
      "text/markdown": [
       "1. 31\n",
       "2. 32\n",
       "3. 33\n",
       "4. 34\n",
       "5. 35\n",
       "6. 36\n",
       "7. 37\n",
       "8. 38\n",
       "9. 39\n",
       "10. 40\n",
       "11. 41\n",
       "12. 42\n",
       "13. 43\n",
       "14. 44\n",
       "15. 45\n",
       "16. 46\n",
       "17. 47\n",
       "18. 48\n",
       "19. 49\n",
       "20. 50\n",
       "21. 51\n",
       "22. 52\n",
       "23. 53\n",
       "24. 54\n",
       "25. 55\n",
       "26. 56\n",
       "27. 57\n",
       "28. 58\n",
       "29. 59\n",
       "30. 60\n",
       "31. 61\n",
       "32. 62\n",
       "33. 63\n",
       "34. 64\n",
       "35. 65\n",
       "36. 66\n",
       "37. 67\n",
       "38. 68\n",
       "39. 69\n",
       "40. 70\n",
       "41. 71\n",
       "42. 72\n",
       "43. 73\n",
       "44. 74\n",
       "45. 75\n",
       "46. 76\n",
       "47. 77\n",
       "48. 78\n",
       "49. 79\n",
       "50. 80\n",
       "51. 81\n",
       "52. 82\n",
       "53. 83\n",
       "54. 84\n",
       "55. 85\n",
       "56. 86\n",
       "57. 87\n",
       "58. 88\n",
       "59. 89\n",
       "60. 90\n",
       "61. 91\n",
       "62. 92\n",
       "63. 93\n",
       "64. 94\n",
       "65. 95\n",
       "66. 96\n",
       "67. 97\n",
       "68. 98\n",
       "69. 99\n",
       "70. 100\n",
       "71. 101\n",
       "72. 102\n",
       "73. 103\n",
       "74. 104\n",
       "75. 105\n",
       "76. 106\n",
       "77. 107\n",
       "78. 108\n",
       "79. 109\n",
       "80. 110\n",
       "81. 111\n",
       "82. 112\n",
       "83. 113\n",
       "84. 114\n",
       "85. 115\n",
       "86. 116\n",
       "87. 117\n",
       "88. 118\n",
       "89. 119\n",
       "90. 120\n",
       "91. 121\n",
       "92. 122\n",
       "93. 123\n",
       "94. 124\n",
       "95. 125\n",
       "96. 126\n",
       "97. 127\n",
       "98. 128\n",
       "99. 129\n",
       "100. 130\n",
       "101. 131\n",
       "102. 132\n",
       "103. 133\n",
       "104. 134\n",
       "105. 135\n",
       "106. 136\n",
       "107. 137\n",
       "108. 138\n",
       "109. 139\n",
       "110. 140\n",
       "111. 141\n",
       "112. 142\n",
       "113. 143\n",
       "114. 144\n",
       "115. 145\n",
       "116. 146\n",
       "117. 147\n",
       "118. 148\n",
       "119. 149\n",
       "120. 150\n",
       "121. 151\n",
       "122. 152\n",
       "123. 153\n",
       "124. 154\n",
       "125. 155\n",
       "126. 156\n",
       "127. 157\n",
       "128. 158\n",
       "129. 159\n",
       "130. 160\n",
       "131. 161\n",
       "132. 162\n",
       "133. 163\n",
       "134. 164\n",
       "135. 165\n",
       "136. 166\n",
       "137. 167\n",
       "138. 168\n",
       "139. 169\n",
       "140. 170\n",
       "141. 171\n",
       "142. 172\n",
       "143. 173\n",
       "144. 174\n",
       "145. 175\n",
       "146. 176\n",
       "147. 177\n",
       "148. 178\n",
       "149. 179\n",
       "150. 180\n",
       "\n",
       "\n"
      ],
      "text/plain": [
       "  [1]  31  32  33  34  35  36  37  38  39  40  41  42  43  44  45  46  47  48\n",
       " [19]  49  50  51  52  53  54  55  56  57  58  59  60  61  62  63  64  65  66\n",
       " [37]  67  68  69  70  71  72  73  74  75  76  77  78  79  80  81  82  83  84\n",
       " [55]  85  86  87  88  89  90  91  92  93  94  95  96  97  98  99 100 101 102\n",
       " [73] 103 104 105 106 107 108 109 110 111 112 113 114 115 116 117 118 119 120\n",
       " [91] 121 122 123 124 125 126 127 128 129 130 131 132 133 134 135 136 137 138\n",
       "[109] 139 140 141 142 143 144 145 146 147 148 149 150 151 152 153 154 155 156\n",
       "[127] 157 158 159 160 161 162 163 164 165 166 167 168 169 170 171 172 173 174\n",
       "[145] 175 176 177 178 179 180"
      ]
     },
     "metadata": {},
     "output_type": "display_data"
    }
   ],
   "source": [
    "test_indices_last"
   ]
  },
  {
   "cell_type": "code",
   "execution_count": 47,
   "metadata": {},
   "outputs": [],
   "source": [
    "last_k=1"
   ]
  },
  {
   "cell_type": "markdown",
   "metadata": {},
   "source": [
    "## Representation and Distance Calculation"
   ]
  },
  {
   "cell_type": "markdown",
   "metadata": {},
   "source": [
    "Representation and distance types are selected by looking the best parameter combination obtained in train dataset."
   ]
  },
  {
   "cell_type": "code",
   "execution_count": 48,
   "metadata": {},
   "outputs": [],
   "source": [
    "diff_test_2=difference_obtainer(all_dt,2)"
   ]
  },
  {
   "cell_type": "code",
   "execution_count": 49,
   "metadata": {},
   "outputs": [],
   "source": [
    "dist_dtw_diff_2_test=as.matrix(dtwDist(diff_test_2))\n",
    "diag(dist_dtw_diff_2_test)=large_number"
   ]
  },
  {
   "cell_type": "markdown",
   "metadata": {},
   "source": [
    "## Result of Test Dataset"
   ]
  },
  {
   "cell_type": "code",
   "execution_count": 50,
   "metadata": {},
   "outputs": [],
   "source": [
    "last_result=nn_classify_cv(dist_dtw_diff_2_test,allclass,test_indices_last,k=last_k)\n",
    "accuracy=sum(allclass[test_indices_last]==last_result$prediction$predicted)/length(test_indices_last)\n",
    "final_res=data.table(approach=\"BME_dtw_diff2_dist_Test.csv\", k=last_k, acc=accuracy)"
   ]
  },
  {
   "cell_type": "markdown",
   "metadata": {},
   "source": [
    "### Test Result"
   ]
  },
  {
   "cell_type": "code",
   "execution_count": 51,
   "metadata": {},
   "outputs": [
    {
     "data": {
      "text/html": [
       "<table>\n",
       "<thead><tr><th scope=col>approach</th><th scope=col>k</th><th scope=col>acc</th></tr></thead>\n",
       "<tbody>\n",
       "\t<tr><td>BME_dtw_diff2_dist_Test.csv</td><td>1                          </td><td>0.98                       </td></tr>\n",
       "</tbody>\n",
       "</table>\n"
      ],
      "text/latex": [
       "\\begin{tabular}{r|lll}\n",
       " approach & k & acc\\\\\n",
       "\\hline\n",
       "\t BME\\_dtw\\_diff2\\_dist\\_Test.csv & 1                                   & 0.98                               \\\\\n",
       "\\end{tabular}\n"
      ],
      "text/markdown": [
       "\n",
       "| approach | k | acc |\n",
       "|---|---|---|\n",
       "| BME_dtw_diff2_dist_Test.csv | 1                           | 0.98                        |\n",
       "\n"
      ],
      "text/plain": [
       "  approach                    k acc \n",
       "1 BME_dtw_diff2_dist_Test.csv 1 0.98"
      ]
     },
     "metadata": {},
     "output_type": "display_data"
    }
   ],
   "source": [
    "final_res"
   ]
  },
  {
   "cell_type": "markdown",
   "metadata": {},
   "source": [
    "### Train Result"
   ]
  },
  {
   "cell_type": "code",
   "execution_count": 52,
   "metadata": {},
   "outputs": [
    {
     "data": {
      "text/html": [
       "<table>\n",
       "<thead><tr><th scope=col>approach</th><th scope=col>k</th><th scope=col>avg_acc</th></tr></thead>\n",
       "<tbody>\n",
       "\t<tr><td>BME_dtw_diff2_dist.csv</td><td>1                     </td><td>1                     </td></tr>\n",
       "</tbody>\n",
       "</table>\n"
      ],
      "text/latex": [
       "\\begin{tabular}{r|lll}\n",
       " approach & k & avg\\_acc\\\\\n",
       "\\hline\n",
       "\t BME\\_dtw\\_diff2\\_dist.csv & 1                            & 1                           \\\\\n",
       "\\end{tabular}\n"
      ],
      "text/markdown": [
       "\n",
       "| approach | k | avg_acc |\n",
       "|---|---|---|\n",
       "| BME_dtw_diff2_dist.csv | 1                      | 1                      |\n",
       "\n"
      ],
      "text/plain": [
       "  approach               k avg_acc\n",
       "1 BME_dtw_diff2_dist.csv 1 1      "
      ]
     },
     "metadata": {},
     "output_type": "display_data"
    }
   ],
   "source": [
    "acc_res_ordered[1][,c(\"approach\", \"k\", \"avg_acc\")]"
   ]
  },
  {
   "cell_type": "markdown",
   "metadata": {},
   "source": [
    "<a id=\"13\"></a>\n",
    "# Comments"
   ]
  },
  {
   "cell_type": "markdown",
   "metadata": {},
   "source": [
    "Obtained results will be analyzed in the result comparison notebook."
   ]
  }
 ],
 "metadata": {
  "kernelspec": {
   "display_name": "R",
   "language": "R",
   "name": "ir"
  },
  "language_info": {
   "codemirror_mode": "r",
   "file_extension": ".r",
   "mimetype": "text/x-r-source",
   "name": "R",
   "pygments_lexer": "r",
   "version": "3.6.1"
  }
 },
 "nbformat": 4,
 "nbformat_minor": 4
}
