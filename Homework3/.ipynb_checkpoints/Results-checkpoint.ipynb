{
 "cells": [
  {
   "cell_type": "markdown",
   "metadata": {},
   "source": [
    "# Result Notebook"
   ]
  },
  {
   "cell_type": "markdown",
   "metadata": {},
   "source": [
    "In this notebook, obtained results from 5 different notebooks will be analyzed. Used datasets are Beef, Bird Chicken, BME, Coffee, and Wine. Each result of the datasets will be displayed separately, and a final table will be displayed to show all results in one table."
   ]
  },
  {
   "cell_type": "markdown",
   "metadata": {},
   "source": [
    "## First Dataset"
   ]
  },
  {
   "cell_type": "markdown",
   "metadata": {},
   "source": [
    "Obtained results for mean and standard deviation of the accuracy over the test folds for each alternative parameter combination."
   ]
  },
  {
   "cell_type": "code",
   "execution_count": 40,
   "metadata": {},
   "outputs": [
    {
     "data": {
      "text/html": [
       "<table>\n",
       "<thead><tr><th scope=col>approach</th><th scope=col>k</th><th scope=col>avg_acc</th><th scope=col>sdev_acc</th><th scope=col>repid</th><th scope=col>foldid</th><th scope=col>result_count</th></tr></thead>\n",
       "<tbody>\n",
       "\t<tr><td>Beef_euc_diff_dist.csv         </td><td>1                              </td><td>0.56000000                     </td><td>0.2375231                      </td><td>5                              </td><td>10                             </td><td>50                             </td></tr>\n",
       "\t<tr><td>Beef_erp_diff2_gap_005.csv     </td><td>1                              </td><td>0.52666667                     </td><td>0.2616016                      </td><td>5                              </td><td>10                             </td><td>50                             </td></tr>\n",
       "\t<tr><td>Beef_erp_diff_gap_005.csv      </td><td>1                              </td><td>0.52666667                     </td><td>0.2242650                      </td><td>5                              </td><td>10                             </td><td>50                             </td></tr>\n",
       "\t<tr><td>Beef_dtw_raw_dist.csv          </td><td>1                              </td><td>0.50000000                     </td><td>0.2876916                      </td><td>5                              </td><td>10                             </td><td>50                             </td></tr>\n",
       "\t<tr><td>Beef_euc_paa_dist.csv          </td><td>1                              </td><td>0.50000000                     </td><td>0.3104382                      </td><td>5                              </td><td>10                             </td><td>50                             </td></tr>\n",
       "\t<tr><td>Beef_euc_paa2_dist.csv         </td><td>1                              </td><td>0.50000000                     </td><td>0.3104382                      </td><td>5                              </td><td>10                             </td><td>50                             </td></tr>\n",
       "\t<tr><td>Beef_euc_raw_dist.csv          </td><td>1                              </td><td>0.50000000                     </td><td>0.3104382                      </td><td>5                              </td><td>10                             </td><td>50                             </td></tr>\n",
       "\t<tr><td>Beef_dtw_diff2_dist.csv        </td><td>1                              </td><td>0.50000000                     </td><td>0.2629848                      </td><td>5                              </td><td>10                             </td><td>50                             </td></tr>\n",
       "\t<tr><td>Beef_euc_diff2_dist.csv        </td><td>1                              </td><td>0.49333333                     </td><td>0.2628985                      </td><td>5                              </td><td>10                             </td><td>50                             </td></tr>\n",
       "\t<tr><td>Beef_euc_diff_dist.csv         </td><td>3                              </td><td>0.49333333                     </td><td>0.2154992                      </td><td>5                              </td><td>10                             </td><td>50                             </td></tr>\n",
       "\t<tr><td>Beef_erp_diff2_gap_005.csv     </td><td>5                              </td><td>0.48000000                     </td><td>0.2947769                      </td><td>5                              </td><td>10                             </td><td>50                             </td></tr>\n",
       "\t<tr><td>Beef_erp_diff_gap_005.csv      </td><td>3                              </td><td>0.46000000                     </td><td>0.2222336                      </td><td>5                              </td><td>10                             </td><td>50                             </td></tr>\n",
       "\t<tr><td>Beef_euc_diff2_dist.csv        </td><td>3                              </td><td>0.45333333                     </td><td>0.2309401                      </td><td>5                              </td><td>10                             </td><td>50                             </td></tr>\n",
       "\t<tr><td>Beef_erp_diff2_gap_005.csv     </td><td>3                              </td><td>0.44666667                     </td><td>0.2391406                      </td><td>5                              </td><td>10                             </td><td>50                             </td></tr>\n",
       "\t<tr><td>Beef_dtw_raw_dist.csv          </td><td>3                              </td><td>0.44000000                     </td><td>0.3044641                      </td><td>5                              </td><td>10                             </td><td>50                             </td></tr>\n",
       "\t<tr><td>Beef_euc_diff2_dist.csv        </td><td>5                              </td><td>0.44000000                     </td><td>0.2375231                      </td><td>5                              </td><td>10                             </td><td>50                             </td></tr>\n",
       "\t<tr><td>Beef_euc_paa_dist.csv          </td><td>3                              </td><td>0.44000000                     </td><td>0.3044641                      </td><td>5                              </td><td>10                             </td><td>50                             </td></tr>\n",
       "\t<tr><td>Beef_euc_paa2_dist.csv         </td><td>3                              </td><td>0.44000000                     </td><td>0.3044641                      </td><td>5                              </td><td>10                             </td><td>50                             </td></tr>\n",
       "\t<tr><td>Beef_euc_raw_dist.csv          </td><td>3                              </td><td>0.44000000                     </td><td>0.3044641                      </td><td>5                              </td><td>10                             </td><td>50                             </td></tr>\n",
       "\t<tr><td>Beef_erp_paa_gap_005.csv       </td><td>1                              </td><td>0.43333333                     </td><td>0.3176587                      </td><td>5                              </td><td>10                             </td><td>50                             </td></tr>\n",
       "\t<tr><td>Beef_erp_paa2_gap_005.csv      </td><td>1                              </td><td>0.43333333                     </td><td>0.3176587                      </td><td>5                              </td><td>10                             </td><td>50                             </td></tr>\n",
       "\t<tr><td>Beef_erp_raw_gap_005.csv       </td><td>1                              </td><td>0.43333333                     </td><td>0.3176587                      </td><td>5                              </td><td>10                             </td><td>50                             </td></tr>\n",
       "\t<tr><td>Beef_euc_diff_dist.csv         </td><td>5                              </td><td>0.43333333                     </td><td>0.2156044                      </td><td>5                              </td><td>10                             </td><td>50                             </td></tr>\n",
       "\t<tr><td>Beef_dtw_diff2_dist.csv        </td><td>3                              </td><td>0.42666667                     </td><td>0.2431837                      </td><td>5                              </td><td>10                             </td><td>50                             </td></tr>\n",
       "\t<tr><td>Beef_erp_diff_gap_005.csv      </td><td>5                              </td><td>0.40666667                     </td><td>0.2633295                      </td><td>5                              </td><td>10                             </td><td>50                             </td></tr>\n",
       "\t<tr><td>Beef_dtw_paa_dist.csv          </td><td>1                              </td><td>0.38666667                     </td><td>0.2551954                      </td><td>5                              </td><td>10                             </td><td>50                             </td></tr>\n",
       "\t<tr><td>Beef_dtw_diff_dist.csv         </td><td>1                              </td><td>0.38000000                     </td><td>0.2694582                      </td><td>5                              </td><td>10                             </td><td>50                             </td></tr>\n",
       "\t<tr><td>Beef_euc_paa2_dist.csv         </td><td>5                              </td><td>0.37333333                     </td><td>0.2576714                      </td><td>5                              </td><td>10                             </td><td>50                             </td></tr>\n",
       "\t<tr><td>Beef_erp_raw_gap_005.csv       </td><td>3                              </td><td>0.36666667                     </td><td>0.2954684                      </td><td>5                              </td><td>10                             </td><td>50                             </td></tr>\n",
       "\t<tr><td>Beef_dtw_paa2_dist.csv         </td><td>1                              </td><td>0.36666667                     </td><td>0.2796986                      </td><td>5                              </td><td>10                             </td><td>50                             </td></tr>\n",
       "\t<tr><td>Beef_erp_paa_gap_005.csv       </td><td>3                              </td><td>0.36000000                     </td><td>0.2999622                      </td><td>5                              </td><td>10                             </td><td>50                             </td></tr>\n",
       "\t<tr><td>Beef_erp_paa2_gap_005.csv      </td><td>3                              </td><td>0.36000000                     </td><td>0.2999622                      </td><td>5                              </td><td>10                             </td><td>50                             </td></tr>\n",
       "\t<tr><td>Beef_dtw_diff2_dist.csv        </td><td>5                              </td><td>0.34666667                     </td><td>0.2604723                      </td><td>5                              </td><td>10                             </td><td>50                             </td></tr>\n",
       "\t<tr><td>Beef_euc_paa_dist.csv          </td><td>5                              </td><td>0.34666667                     </td><td>0.2604723                      </td><td>5                              </td><td>10                             </td><td>50                             </td></tr>\n",
       "\t<tr><td>Beef_euc_raw_dist.csv          </td><td>5                              </td><td>0.34666667                     </td><td>0.2604723                      </td><td>5                              </td><td>10                             </td><td>50                             </td></tr>\n",
       "\t<tr><td>Beef_dtw_paa_dist.csv          </td><td>3                              </td><td>0.34000000                     </td><td>0.2563480                      </td><td>5                              </td><td>10                             </td><td>50                             </td></tr>\n",
       "\t<tr><td>Beef_dtw_raw_dist.csv          </td><td>5                              </td><td>0.33333333                     </td><td>0.2693740                      </td><td>5                              </td><td>10                             </td><td>50                             </td></tr>\n",
       "\t<tr><td>Beef_erp_paa_gap_005.csv       </td><td>5                              </td><td>0.31333333                     </td><td>0.2643608                      </td><td>5                              </td><td>10                             </td><td>50                             </td></tr>\n",
       "\t<tr><td>Beef_erp_paa2_gap_005.csv      </td><td>5                              </td><td>0.31333333                     </td><td>0.2643608                      </td><td>5                              </td><td>10                             </td><td>50                             </td></tr>\n",
       "\t<tr><td>Beef_erp_raw_gap_005.csv       </td><td>5                              </td><td>0.31333333                     </td><td>0.2643608                      </td><td>5                              </td><td>10                             </td><td>50                             </td></tr>\n",
       "\t<tr><td>Beef_dtw_paa2_dist.csv         </td><td>3                              </td><td>0.30000000                     </td><td>0.2357023                      </td><td>5                              </td><td>10                             </td><td>50                             </td></tr>\n",
       "\t<tr><td>Beef_dtw_diff_dist.csv         </td><td>5                              </td><td>0.27333333                     </td><td>0.2398979                      </td><td>5                              </td><td>10                             </td><td>50                             </td></tr>\n",
       "\t<tr><td>Beef_dtw_diff_dist.csv         </td><td>3                              </td><td>0.26000000                     </td><td>0.2052596                      </td><td>5                              </td><td>10                             </td><td>50                             </td></tr>\n",
       "\t<tr><td>Beef_dtw_paa_dist.csv          </td><td>5                              </td><td>0.26000000                     </td><td>0.2957752                      </td><td>5                              </td><td>10                             </td><td>50                             </td></tr>\n",
       "\t<tr><td>Beef_dtw_paa2_dist.csv         </td><td>5                              </td><td>0.26000000                     </td><td>0.2800227                      </td><td>5                              </td><td>10                             </td><td>50                             </td></tr>\n",
       "\t<tr><td>Beef_lcss_diff2_epsilon_005.csv</td><td>1                              </td><td>0.16666667                     </td><td>0.1683588                      </td><td>5                              </td><td>10                             </td><td>50                             </td></tr>\n",
       "\t<tr><td>Beef_lcss_diff2_epsilon_005.csv</td><td>3                              </td><td>0.16666667                     </td><td>0.1683588                      </td><td>5                              </td><td>10                             </td><td>50                             </td></tr>\n",
       "\t<tr><td>Beef_lcss_paa2_epsilon_005.csv </td><td>1                              </td><td>0.14000000                     </td><td>0.1793159                      </td><td>5                              </td><td>10                             </td><td>50                             </td></tr>\n",
       "\t<tr><td>Beef_lcss_diff_epsilon_005.csv </td><td>3                              </td><td>0.13333333                     </td><td>0.1649572                      </td><td>5                              </td><td>10                             </td><td>50                             </td></tr>\n",
       "\t<tr><td>Beef_lcss_diff_epsilon_005.csv </td><td>5                              </td><td>0.13333333                     </td><td>0.1649572                      </td><td>5                              </td><td>10                             </td><td>50                             </td></tr>\n",
       "\t<tr><td>Beef_lcss_diff2_epsilon_005.csv</td><td>5                              </td><td>0.13333333                     </td><td>0.1649572                      </td><td>5                              </td><td>10                             </td><td>50                             </td></tr>\n",
       "\t<tr><td>Beef_lcss_diff_epsilon_005.csv </td><td>1                              </td><td>0.10000000                     </td><td>0.1543033                      </td><td>5                              </td><td>10                             </td><td>50                             </td></tr>\n",
       "\t<tr><td>Beef_lcss_paa2_epsilon_005.csv </td><td>5                              </td><td>0.10000000                     </td><td>0.1543033                      </td><td>5                              </td><td>10                             </td><td>50                             </td></tr>\n",
       "\t<tr><td>Beef_lcss_paa_epsilon_005.csv  </td><td>1                              </td><td>0.07333333                     </td><td>0.1394840                      </td><td>5                              </td><td>10                             </td><td>50                             </td></tr>\n",
       "\t<tr><td>Beef_lcss_paa2_epsilon_005.csv </td><td>3                              </td><td>0.07333333                     </td><td>0.1394840                      </td><td>5                              </td><td>10                             </td><td>50                             </td></tr>\n",
       "\t<tr><td>Beef_lcss_paa_epsilon_005.csv  </td><td>3                              </td><td>0.05333333                     </td><td>0.1234427                      </td><td>5                              </td><td>10                             </td><td>50                             </td></tr>\n",
       "\t<tr><td>Beef_lcss_paa_epsilon_005.csv  </td><td>5                              </td><td>0.03333333                     </td><td>0.1010153                      </td><td>5                              </td><td>10                             </td><td>50                             </td></tr>\n",
       "\t<tr><td>Beef_lcss_raw_epsilon_005.csv  </td><td>1                              </td><td>0.03333333                     </td><td>0.1010153                      </td><td>5                              </td><td>10                             </td><td>50                             </td></tr>\n",
       "\t<tr><td>Beef_lcss_raw_epsilon_005.csv  </td><td>3                              </td><td>0.03333333                     </td><td>0.1010153                      </td><td>5                              </td><td>10                             </td><td>50                             </td></tr>\n",
       "\t<tr><td>Beef_lcss_raw_epsilon_005.csv  </td><td>5                              </td><td>0.03333333                     </td><td>0.1010153                      </td><td>5                              </td><td>10                             </td><td>50                             </td></tr>\n",
       "</tbody>\n",
       "</table>\n"
      ],
      "text/latex": [
       "\\begin{tabular}{r|lllllll}\n",
       " approach & k & avg\\_acc & sdev\\_acc & repid & foldid & result\\_count\\\\\n",
       "\\hline\n",
       "\t Beef\\_euc\\_diff\\_dist.csv          & 1                                     & 0.56000000                            & 0.2375231                             & 5                                     & 10                                    & 50                                   \\\\\n",
       "\t Beef\\_erp\\_diff2\\_gap\\_005.csv      & 1                                       & 0.52666667                              & 0.2616016                               & 5                                       & 10                                      & 50                                     \\\\\n",
       "\t Beef\\_erp\\_diff\\_gap\\_005.csv       & 1                                       & 0.52666667                              & 0.2242650                               & 5                                       & 10                                      & 50                                     \\\\\n",
       "\t Beef\\_dtw\\_raw\\_dist.csv           & 1                                     & 0.50000000                            & 0.2876916                             & 5                                     & 10                                    & 50                                   \\\\\n",
       "\t Beef\\_euc\\_paa\\_dist.csv           & 1                                     & 0.50000000                            & 0.3104382                             & 5                                     & 10                                    & 50                                   \\\\\n",
       "\t Beef\\_euc\\_paa2\\_dist.csv          & 1                                     & 0.50000000                            & 0.3104382                             & 5                                     & 10                                    & 50                                   \\\\\n",
       "\t Beef\\_euc\\_raw\\_dist.csv           & 1                                     & 0.50000000                            & 0.3104382                             & 5                                     & 10                                    & 50                                   \\\\\n",
       "\t Beef\\_dtw\\_diff2\\_dist.csv         & 1                                     & 0.50000000                            & 0.2629848                             & 5                                     & 10                                    & 50                                   \\\\\n",
       "\t Beef\\_euc\\_diff2\\_dist.csv         & 1                                     & 0.49333333                            & 0.2628985                             & 5                                     & 10                                    & 50                                   \\\\\n",
       "\t Beef\\_euc\\_diff\\_dist.csv          & 3                                     & 0.49333333                            & 0.2154992                             & 5                                     & 10                                    & 50                                   \\\\\n",
       "\t Beef\\_erp\\_diff2\\_gap\\_005.csv      & 5                                       & 0.48000000                              & 0.2947769                               & 5                                       & 10                                      & 50                                     \\\\\n",
       "\t Beef\\_erp\\_diff\\_gap\\_005.csv       & 3                                       & 0.46000000                              & 0.2222336                               & 5                                       & 10                                      & 50                                     \\\\\n",
       "\t Beef\\_euc\\_diff2\\_dist.csv         & 3                                     & 0.45333333                            & 0.2309401                             & 5                                     & 10                                    & 50                                   \\\\\n",
       "\t Beef\\_erp\\_diff2\\_gap\\_005.csv      & 3                                       & 0.44666667                              & 0.2391406                               & 5                                       & 10                                      & 50                                     \\\\\n",
       "\t Beef\\_dtw\\_raw\\_dist.csv           & 3                                     & 0.44000000                            & 0.3044641                             & 5                                     & 10                                    & 50                                   \\\\\n",
       "\t Beef\\_euc\\_diff2\\_dist.csv         & 5                                     & 0.44000000                            & 0.2375231                             & 5                                     & 10                                    & 50                                   \\\\\n",
       "\t Beef\\_euc\\_paa\\_dist.csv           & 3                                     & 0.44000000                            & 0.3044641                             & 5                                     & 10                                    & 50                                   \\\\\n",
       "\t Beef\\_euc\\_paa2\\_dist.csv          & 3                                     & 0.44000000                            & 0.3044641                             & 5                                     & 10                                    & 50                                   \\\\\n",
       "\t Beef\\_euc\\_raw\\_dist.csv           & 3                                     & 0.44000000                            & 0.3044641                             & 5                                     & 10                                    & 50                                   \\\\\n",
       "\t Beef\\_erp\\_paa\\_gap\\_005.csv        & 1                                       & 0.43333333                              & 0.3176587                               & 5                                       & 10                                      & 50                                     \\\\\n",
       "\t Beef\\_erp\\_paa2\\_gap\\_005.csv       & 1                                       & 0.43333333                              & 0.3176587                               & 5                                       & 10                                      & 50                                     \\\\\n",
       "\t Beef\\_erp\\_raw\\_gap\\_005.csv        & 1                                       & 0.43333333                              & 0.3176587                               & 5                                       & 10                                      & 50                                     \\\\\n",
       "\t Beef\\_euc\\_diff\\_dist.csv          & 5                                     & 0.43333333                            & 0.2156044                             & 5                                     & 10                                    & 50                                   \\\\\n",
       "\t Beef\\_dtw\\_diff2\\_dist.csv         & 3                                     & 0.42666667                            & 0.2431837                             & 5                                     & 10                                    & 50                                   \\\\\n",
       "\t Beef\\_erp\\_diff\\_gap\\_005.csv       & 5                                       & 0.40666667                              & 0.2633295                               & 5                                       & 10                                      & 50                                     \\\\\n",
       "\t Beef\\_dtw\\_paa\\_dist.csv           & 1                                     & 0.38666667                            & 0.2551954                             & 5                                     & 10                                    & 50                                   \\\\\n",
       "\t Beef\\_dtw\\_diff\\_dist.csv          & 1                                     & 0.38000000                            & 0.2694582                             & 5                                     & 10                                    & 50                                   \\\\\n",
       "\t Beef\\_euc\\_paa2\\_dist.csv          & 5                                     & 0.37333333                            & 0.2576714                             & 5                                     & 10                                    & 50                                   \\\\\n",
       "\t Beef\\_erp\\_raw\\_gap\\_005.csv        & 3                                       & 0.36666667                              & 0.2954684                               & 5                                       & 10                                      & 50                                     \\\\\n",
       "\t Beef\\_dtw\\_paa2\\_dist.csv          & 1                                     & 0.36666667                            & 0.2796986                             & 5                                     & 10                                    & 50                                   \\\\\n",
       "\t Beef\\_erp\\_paa\\_gap\\_005.csv        & 3                                       & 0.36000000                              & 0.2999622                               & 5                                       & 10                                      & 50                                     \\\\\n",
       "\t Beef\\_erp\\_paa2\\_gap\\_005.csv       & 3                                       & 0.36000000                              & 0.2999622                               & 5                                       & 10                                      & 50                                     \\\\\n",
       "\t Beef\\_dtw\\_diff2\\_dist.csv         & 5                                     & 0.34666667                            & 0.2604723                             & 5                                     & 10                                    & 50                                   \\\\\n",
       "\t Beef\\_euc\\_paa\\_dist.csv           & 5                                     & 0.34666667                            & 0.2604723                             & 5                                     & 10                                    & 50                                   \\\\\n",
       "\t Beef\\_euc\\_raw\\_dist.csv           & 5                                     & 0.34666667                            & 0.2604723                             & 5                                     & 10                                    & 50                                   \\\\\n",
       "\t Beef\\_dtw\\_paa\\_dist.csv           & 3                                     & 0.34000000                            & 0.2563480                             & 5                                     & 10                                    & 50                                   \\\\\n",
       "\t Beef\\_dtw\\_raw\\_dist.csv           & 5                                     & 0.33333333                            & 0.2693740                             & 5                                     & 10                                    & 50                                   \\\\\n",
       "\t Beef\\_erp\\_paa\\_gap\\_005.csv        & 5                                       & 0.31333333                              & 0.2643608                               & 5                                       & 10                                      & 50                                     \\\\\n",
       "\t Beef\\_erp\\_paa2\\_gap\\_005.csv       & 5                                       & 0.31333333                              & 0.2643608                               & 5                                       & 10                                      & 50                                     \\\\\n",
       "\t Beef\\_erp\\_raw\\_gap\\_005.csv        & 5                                       & 0.31333333                              & 0.2643608                               & 5                                       & 10                                      & 50                                     \\\\\n",
       "\t Beef\\_dtw\\_paa2\\_dist.csv          & 3                                     & 0.30000000                            & 0.2357023                             & 5                                     & 10                                    & 50                                   \\\\\n",
       "\t Beef\\_dtw\\_diff\\_dist.csv          & 5                                     & 0.27333333                            & 0.2398979                             & 5                                     & 10                                    & 50                                   \\\\\n",
       "\t Beef\\_dtw\\_diff\\_dist.csv          & 3                                     & 0.26000000                            & 0.2052596                             & 5                                     & 10                                    & 50                                   \\\\\n",
       "\t Beef\\_dtw\\_paa\\_dist.csv           & 5                                     & 0.26000000                            & 0.2957752                             & 5                                     & 10                                    & 50                                   \\\\\n",
       "\t Beef\\_dtw\\_paa2\\_dist.csv          & 5                                     & 0.26000000                            & 0.2800227                             & 5                                     & 10                                    & 50                                   \\\\\n",
       "\t Beef\\_lcss\\_diff2\\_epsilon\\_005.csv & 1                                       & 0.16666667                              & 0.1683588                               & 5                                       & 10                                      & 50                                     \\\\\n",
       "\t Beef\\_lcss\\_diff2\\_epsilon\\_005.csv & 3                                       & 0.16666667                              & 0.1683588                               & 5                                       & 10                                      & 50                                     \\\\\n",
       "\t Beef\\_lcss\\_paa2\\_epsilon\\_005.csv  & 1                                       & 0.14000000                              & 0.1793159                               & 5                                       & 10                                      & 50                                     \\\\\n",
       "\t Beef\\_lcss\\_diff\\_epsilon\\_005.csv  & 3                                       & 0.13333333                              & 0.1649572                               & 5                                       & 10                                      & 50                                     \\\\\n",
       "\t Beef\\_lcss\\_diff\\_epsilon\\_005.csv  & 5                                       & 0.13333333                              & 0.1649572                               & 5                                       & 10                                      & 50                                     \\\\\n",
       "\t Beef\\_lcss\\_diff2\\_epsilon\\_005.csv & 5                                       & 0.13333333                              & 0.1649572                               & 5                                       & 10                                      & 50                                     \\\\\n",
       "\t Beef\\_lcss\\_diff\\_epsilon\\_005.csv  & 1                                       & 0.10000000                              & 0.1543033                               & 5                                       & 10                                      & 50                                     \\\\\n",
       "\t Beef\\_lcss\\_paa2\\_epsilon\\_005.csv  & 5                                       & 0.10000000                              & 0.1543033                               & 5                                       & 10                                      & 50                                     \\\\\n",
       "\t Beef\\_lcss\\_paa\\_epsilon\\_005.csv   & 1                                       & 0.07333333                              & 0.1394840                               & 5                                       & 10                                      & 50                                     \\\\\n",
       "\t Beef\\_lcss\\_paa2\\_epsilon\\_005.csv  & 3                                       & 0.07333333                              & 0.1394840                               & 5                                       & 10                                      & 50                                     \\\\\n",
       "\t Beef\\_lcss\\_paa\\_epsilon\\_005.csv   & 3                                       & 0.05333333                              & 0.1234427                               & 5                                       & 10                                      & 50                                     \\\\\n",
       "\t Beef\\_lcss\\_paa\\_epsilon\\_005.csv   & 5                                       & 0.03333333                              & 0.1010153                               & 5                                       & 10                                      & 50                                     \\\\\n",
       "\t Beef\\_lcss\\_raw\\_epsilon\\_005.csv   & 1                                       & 0.03333333                              & 0.1010153                               & 5                                       & 10                                      & 50                                     \\\\\n",
       "\t Beef\\_lcss\\_raw\\_epsilon\\_005.csv   & 3                                       & 0.03333333                              & 0.1010153                               & 5                                       & 10                                      & 50                                     \\\\\n",
       "\t Beef\\_lcss\\_raw\\_epsilon\\_005.csv   & 5                                       & 0.03333333                              & 0.1010153                               & 5                                       & 10                                      & 50                                     \\\\\n",
       "\\end{tabular}\n"
      ],
      "text/markdown": [
       "\n",
       "| approach | k | avg_acc | sdev_acc | repid | foldid | result_count |\n",
       "|---|---|---|---|---|---|---|\n",
       "| Beef_euc_diff_dist.csv          | 1                               | 0.56000000                      | 0.2375231                       | 5                               | 10                              | 50                              |\n",
       "| Beef_erp_diff2_gap_005.csv      | 1                               | 0.52666667                      | 0.2616016                       | 5                               | 10                              | 50                              |\n",
       "| Beef_erp_diff_gap_005.csv       | 1                               | 0.52666667                      | 0.2242650                       | 5                               | 10                              | 50                              |\n",
       "| Beef_dtw_raw_dist.csv           | 1                               | 0.50000000                      | 0.2876916                       | 5                               | 10                              | 50                              |\n",
       "| Beef_euc_paa_dist.csv           | 1                               | 0.50000000                      | 0.3104382                       | 5                               | 10                              | 50                              |\n",
       "| Beef_euc_paa2_dist.csv          | 1                               | 0.50000000                      | 0.3104382                       | 5                               | 10                              | 50                              |\n",
       "| Beef_euc_raw_dist.csv           | 1                               | 0.50000000                      | 0.3104382                       | 5                               | 10                              | 50                              |\n",
       "| Beef_dtw_diff2_dist.csv         | 1                               | 0.50000000                      | 0.2629848                       | 5                               | 10                              | 50                              |\n",
       "| Beef_euc_diff2_dist.csv         | 1                               | 0.49333333                      | 0.2628985                       | 5                               | 10                              | 50                              |\n",
       "| Beef_euc_diff_dist.csv          | 3                               | 0.49333333                      | 0.2154992                       | 5                               | 10                              | 50                              |\n",
       "| Beef_erp_diff2_gap_005.csv      | 5                               | 0.48000000                      | 0.2947769                       | 5                               | 10                              | 50                              |\n",
       "| Beef_erp_diff_gap_005.csv       | 3                               | 0.46000000                      | 0.2222336                       | 5                               | 10                              | 50                              |\n",
       "| Beef_euc_diff2_dist.csv         | 3                               | 0.45333333                      | 0.2309401                       | 5                               | 10                              | 50                              |\n",
       "| Beef_erp_diff2_gap_005.csv      | 3                               | 0.44666667                      | 0.2391406                       | 5                               | 10                              | 50                              |\n",
       "| Beef_dtw_raw_dist.csv           | 3                               | 0.44000000                      | 0.3044641                       | 5                               | 10                              | 50                              |\n",
       "| Beef_euc_diff2_dist.csv         | 5                               | 0.44000000                      | 0.2375231                       | 5                               | 10                              | 50                              |\n",
       "| Beef_euc_paa_dist.csv           | 3                               | 0.44000000                      | 0.3044641                       | 5                               | 10                              | 50                              |\n",
       "| Beef_euc_paa2_dist.csv          | 3                               | 0.44000000                      | 0.3044641                       | 5                               | 10                              | 50                              |\n",
       "| Beef_euc_raw_dist.csv           | 3                               | 0.44000000                      | 0.3044641                       | 5                               | 10                              | 50                              |\n",
       "| Beef_erp_paa_gap_005.csv        | 1                               | 0.43333333                      | 0.3176587                       | 5                               | 10                              | 50                              |\n",
       "| Beef_erp_paa2_gap_005.csv       | 1                               | 0.43333333                      | 0.3176587                       | 5                               | 10                              | 50                              |\n",
       "| Beef_erp_raw_gap_005.csv        | 1                               | 0.43333333                      | 0.3176587                       | 5                               | 10                              | 50                              |\n",
       "| Beef_euc_diff_dist.csv          | 5                               | 0.43333333                      | 0.2156044                       | 5                               | 10                              | 50                              |\n",
       "| Beef_dtw_diff2_dist.csv         | 3                               | 0.42666667                      | 0.2431837                       | 5                               | 10                              | 50                              |\n",
       "| Beef_erp_diff_gap_005.csv       | 5                               | 0.40666667                      | 0.2633295                       | 5                               | 10                              | 50                              |\n",
       "| Beef_dtw_paa_dist.csv           | 1                               | 0.38666667                      | 0.2551954                       | 5                               | 10                              | 50                              |\n",
       "| Beef_dtw_diff_dist.csv          | 1                               | 0.38000000                      | 0.2694582                       | 5                               | 10                              | 50                              |\n",
       "| Beef_euc_paa2_dist.csv          | 5                               | 0.37333333                      | 0.2576714                       | 5                               | 10                              | 50                              |\n",
       "| Beef_erp_raw_gap_005.csv        | 3                               | 0.36666667                      | 0.2954684                       | 5                               | 10                              | 50                              |\n",
       "| Beef_dtw_paa2_dist.csv          | 1                               | 0.36666667                      | 0.2796986                       | 5                               | 10                              | 50                              |\n",
       "| Beef_erp_paa_gap_005.csv        | 3                               | 0.36000000                      | 0.2999622                       | 5                               | 10                              | 50                              |\n",
       "| Beef_erp_paa2_gap_005.csv       | 3                               | 0.36000000                      | 0.2999622                       | 5                               | 10                              | 50                              |\n",
       "| Beef_dtw_diff2_dist.csv         | 5                               | 0.34666667                      | 0.2604723                       | 5                               | 10                              | 50                              |\n",
       "| Beef_euc_paa_dist.csv           | 5                               | 0.34666667                      | 0.2604723                       | 5                               | 10                              | 50                              |\n",
       "| Beef_euc_raw_dist.csv           | 5                               | 0.34666667                      | 0.2604723                       | 5                               | 10                              | 50                              |\n",
       "| Beef_dtw_paa_dist.csv           | 3                               | 0.34000000                      | 0.2563480                       | 5                               | 10                              | 50                              |\n",
       "| Beef_dtw_raw_dist.csv           | 5                               | 0.33333333                      | 0.2693740                       | 5                               | 10                              | 50                              |\n",
       "| Beef_erp_paa_gap_005.csv        | 5                               | 0.31333333                      | 0.2643608                       | 5                               | 10                              | 50                              |\n",
       "| Beef_erp_paa2_gap_005.csv       | 5                               | 0.31333333                      | 0.2643608                       | 5                               | 10                              | 50                              |\n",
       "| Beef_erp_raw_gap_005.csv        | 5                               | 0.31333333                      | 0.2643608                       | 5                               | 10                              | 50                              |\n",
       "| Beef_dtw_paa2_dist.csv          | 3                               | 0.30000000                      | 0.2357023                       | 5                               | 10                              | 50                              |\n",
       "| Beef_dtw_diff_dist.csv          | 5                               | 0.27333333                      | 0.2398979                       | 5                               | 10                              | 50                              |\n",
       "| Beef_dtw_diff_dist.csv          | 3                               | 0.26000000                      | 0.2052596                       | 5                               | 10                              | 50                              |\n",
       "| Beef_dtw_paa_dist.csv           | 5                               | 0.26000000                      | 0.2957752                       | 5                               | 10                              | 50                              |\n",
       "| Beef_dtw_paa2_dist.csv          | 5                               | 0.26000000                      | 0.2800227                       | 5                               | 10                              | 50                              |\n",
       "| Beef_lcss_diff2_epsilon_005.csv | 1                               | 0.16666667                      | 0.1683588                       | 5                               | 10                              | 50                              |\n",
       "| Beef_lcss_diff2_epsilon_005.csv | 3                               | 0.16666667                      | 0.1683588                       | 5                               | 10                              | 50                              |\n",
       "| Beef_lcss_paa2_epsilon_005.csv  | 1                               | 0.14000000                      | 0.1793159                       | 5                               | 10                              | 50                              |\n",
       "| Beef_lcss_diff_epsilon_005.csv  | 3                               | 0.13333333                      | 0.1649572                       | 5                               | 10                              | 50                              |\n",
       "| Beef_lcss_diff_epsilon_005.csv  | 5                               | 0.13333333                      | 0.1649572                       | 5                               | 10                              | 50                              |\n",
       "| Beef_lcss_diff2_epsilon_005.csv | 5                               | 0.13333333                      | 0.1649572                       | 5                               | 10                              | 50                              |\n",
       "| Beef_lcss_diff_epsilon_005.csv  | 1                               | 0.10000000                      | 0.1543033                       | 5                               | 10                              | 50                              |\n",
       "| Beef_lcss_paa2_epsilon_005.csv  | 5                               | 0.10000000                      | 0.1543033                       | 5                               | 10                              | 50                              |\n",
       "| Beef_lcss_paa_epsilon_005.csv   | 1                               | 0.07333333                      | 0.1394840                       | 5                               | 10                              | 50                              |\n",
       "| Beef_lcss_paa2_epsilon_005.csv  | 3                               | 0.07333333                      | 0.1394840                       | 5                               | 10                              | 50                              |\n",
       "| Beef_lcss_paa_epsilon_005.csv   | 3                               | 0.05333333                      | 0.1234427                       | 5                               | 10                              | 50                              |\n",
       "| Beef_lcss_paa_epsilon_005.csv   | 5                               | 0.03333333                      | 0.1010153                       | 5                               | 10                              | 50                              |\n",
       "| Beef_lcss_raw_epsilon_005.csv   | 1                               | 0.03333333                      | 0.1010153                       | 5                               | 10                              | 50                              |\n",
       "| Beef_lcss_raw_epsilon_005.csv   | 3                               | 0.03333333                      | 0.1010153                       | 5                               | 10                              | 50                              |\n",
       "| Beef_lcss_raw_epsilon_005.csv   | 5                               | 0.03333333                      | 0.1010153                       | 5                               | 10                              | 50                              |\n",
       "\n"
      ],
      "text/plain": [
       "   approach                        k avg_acc    sdev_acc  repid foldid\n",
       "1  Beef_euc_diff_dist.csv          1 0.56000000 0.2375231 5     10    \n",
       "2  Beef_erp_diff2_gap_005.csv      1 0.52666667 0.2616016 5     10    \n",
       "3  Beef_erp_diff_gap_005.csv       1 0.52666667 0.2242650 5     10    \n",
       "4  Beef_dtw_raw_dist.csv           1 0.50000000 0.2876916 5     10    \n",
       "5  Beef_euc_paa_dist.csv           1 0.50000000 0.3104382 5     10    \n",
       "6  Beef_euc_paa2_dist.csv          1 0.50000000 0.3104382 5     10    \n",
       "7  Beef_euc_raw_dist.csv           1 0.50000000 0.3104382 5     10    \n",
       "8  Beef_dtw_diff2_dist.csv         1 0.50000000 0.2629848 5     10    \n",
       "9  Beef_euc_diff2_dist.csv         1 0.49333333 0.2628985 5     10    \n",
       "10 Beef_euc_diff_dist.csv          3 0.49333333 0.2154992 5     10    \n",
       "11 Beef_erp_diff2_gap_005.csv      5 0.48000000 0.2947769 5     10    \n",
       "12 Beef_erp_diff_gap_005.csv       3 0.46000000 0.2222336 5     10    \n",
       "13 Beef_euc_diff2_dist.csv         3 0.45333333 0.2309401 5     10    \n",
       "14 Beef_erp_diff2_gap_005.csv      3 0.44666667 0.2391406 5     10    \n",
       "15 Beef_dtw_raw_dist.csv           3 0.44000000 0.3044641 5     10    \n",
       "16 Beef_euc_diff2_dist.csv         5 0.44000000 0.2375231 5     10    \n",
       "17 Beef_euc_paa_dist.csv           3 0.44000000 0.3044641 5     10    \n",
       "18 Beef_euc_paa2_dist.csv          3 0.44000000 0.3044641 5     10    \n",
       "19 Beef_euc_raw_dist.csv           3 0.44000000 0.3044641 5     10    \n",
       "20 Beef_erp_paa_gap_005.csv        1 0.43333333 0.3176587 5     10    \n",
       "21 Beef_erp_paa2_gap_005.csv       1 0.43333333 0.3176587 5     10    \n",
       "22 Beef_erp_raw_gap_005.csv        1 0.43333333 0.3176587 5     10    \n",
       "23 Beef_euc_diff_dist.csv          5 0.43333333 0.2156044 5     10    \n",
       "24 Beef_dtw_diff2_dist.csv         3 0.42666667 0.2431837 5     10    \n",
       "25 Beef_erp_diff_gap_005.csv       5 0.40666667 0.2633295 5     10    \n",
       "26 Beef_dtw_paa_dist.csv           1 0.38666667 0.2551954 5     10    \n",
       "27 Beef_dtw_diff_dist.csv          1 0.38000000 0.2694582 5     10    \n",
       "28 Beef_euc_paa2_dist.csv          5 0.37333333 0.2576714 5     10    \n",
       "29 Beef_erp_raw_gap_005.csv        3 0.36666667 0.2954684 5     10    \n",
       "30 Beef_dtw_paa2_dist.csv          1 0.36666667 0.2796986 5     10    \n",
       "31 Beef_erp_paa_gap_005.csv        3 0.36000000 0.2999622 5     10    \n",
       "32 Beef_erp_paa2_gap_005.csv       3 0.36000000 0.2999622 5     10    \n",
       "33 Beef_dtw_diff2_dist.csv         5 0.34666667 0.2604723 5     10    \n",
       "34 Beef_euc_paa_dist.csv           5 0.34666667 0.2604723 5     10    \n",
       "35 Beef_euc_raw_dist.csv           5 0.34666667 0.2604723 5     10    \n",
       "36 Beef_dtw_paa_dist.csv           3 0.34000000 0.2563480 5     10    \n",
       "37 Beef_dtw_raw_dist.csv           5 0.33333333 0.2693740 5     10    \n",
       "38 Beef_erp_paa_gap_005.csv        5 0.31333333 0.2643608 5     10    \n",
       "39 Beef_erp_paa2_gap_005.csv       5 0.31333333 0.2643608 5     10    \n",
       "40 Beef_erp_raw_gap_005.csv        5 0.31333333 0.2643608 5     10    \n",
       "41 Beef_dtw_paa2_dist.csv          3 0.30000000 0.2357023 5     10    \n",
       "42 Beef_dtw_diff_dist.csv          5 0.27333333 0.2398979 5     10    \n",
       "43 Beef_dtw_diff_dist.csv          3 0.26000000 0.2052596 5     10    \n",
       "44 Beef_dtw_paa_dist.csv           5 0.26000000 0.2957752 5     10    \n",
       "45 Beef_dtw_paa2_dist.csv          5 0.26000000 0.2800227 5     10    \n",
       "46 Beef_lcss_diff2_epsilon_005.csv 1 0.16666667 0.1683588 5     10    \n",
       "47 Beef_lcss_diff2_epsilon_005.csv 3 0.16666667 0.1683588 5     10    \n",
       "48 Beef_lcss_paa2_epsilon_005.csv  1 0.14000000 0.1793159 5     10    \n",
       "49 Beef_lcss_diff_epsilon_005.csv  3 0.13333333 0.1649572 5     10    \n",
       "50 Beef_lcss_diff_epsilon_005.csv  5 0.13333333 0.1649572 5     10    \n",
       "51 Beef_lcss_diff2_epsilon_005.csv 5 0.13333333 0.1649572 5     10    \n",
       "52 Beef_lcss_diff_epsilon_005.csv  1 0.10000000 0.1543033 5     10    \n",
       "53 Beef_lcss_paa2_epsilon_005.csv  5 0.10000000 0.1543033 5     10    \n",
       "54 Beef_lcss_paa_epsilon_005.csv   1 0.07333333 0.1394840 5     10    \n",
       "55 Beef_lcss_paa2_epsilon_005.csv  3 0.07333333 0.1394840 5     10    \n",
       "56 Beef_lcss_paa_epsilon_005.csv   3 0.05333333 0.1234427 5     10    \n",
       "57 Beef_lcss_paa_epsilon_005.csv   5 0.03333333 0.1010153 5     10    \n",
       "58 Beef_lcss_raw_epsilon_005.csv   1 0.03333333 0.1010153 5     10    \n",
       "59 Beef_lcss_raw_epsilon_005.csv   3 0.03333333 0.1010153 5     10    \n",
       "60 Beef_lcss_raw_epsilon_005.csv   5 0.03333333 0.1010153 5     10    \n",
       "   result_count\n",
       "1  50          \n",
       "2  50          \n",
       "3  50          \n",
       "4  50          \n",
       "5  50          \n",
       "6  50          \n",
       "7  50          \n",
       "8  50          \n",
       "9  50          \n",
       "10 50          \n",
       "11 50          \n",
       "12 50          \n",
       "13 50          \n",
       "14 50          \n",
       "15 50          \n",
       "16 50          \n",
       "17 50          \n",
       "18 50          \n",
       "19 50          \n",
       "20 50          \n",
       "21 50          \n",
       "22 50          \n",
       "23 50          \n",
       "24 50          \n",
       "25 50          \n",
       "26 50          \n",
       "27 50          \n",
       "28 50          \n",
       "29 50          \n",
       "30 50          \n",
       "31 50          \n",
       "32 50          \n",
       "33 50          \n",
       "34 50          \n",
       "35 50          \n",
       "36 50          \n",
       "37 50          \n",
       "38 50          \n",
       "39 50          \n",
       "40 50          \n",
       "41 50          \n",
       "42 50          \n",
       "43 50          \n",
       "44 50          \n",
       "45 50          \n",
       "46 50          \n",
       "47 50          \n",
       "48 50          \n",
       "49 50          \n",
       "50 50          \n",
       "51 50          \n",
       "52 50          \n",
       "53 50          \n",
       "54 50          \n",
       "55 50          \n",
       "56 50          \n",
       "57 50          \n",
       "58 50          \n",
       "59 50          \n",
       "60 50          "
      ]
     },
     "metadata": {},
     "output_type": "display_data"
    }
   ],
   "source": [
    "acc_res_ordered"
   ]
  },
  {
   "cell_type": "markdown",
   "metadata": {},
   "source": [
    "## Best Result and Parameter Combination"
   ]
  },
  {
   "cell_type": "code",
   "execution_count": 56,
   "metadata": {},
   "outputs": [
    {
     "data": {
      "text/html": [
       "<table>\n",
       "<thead><tr><th scope=col>approach</th><th scope=col>k</th><th scope=col>avg_acc</th><th scope=col>sdev_acc</th><th scope=col>repid</th><th scope=col>foldid</th><th scope=col>result_count</th></tr></thead>\n",
       "<tbody>\n",
       "\t<tr><td>Beef_euc_diff_dist.csv</td><td>1                     </td><td>0.56                  </td><td>0.2375231             </td><td>5                     </td><td>10                    </td><td>50                    </td></tr>\n",
       "</tbody>\n",
       "</table>\n"
      ],
      "text/latex": [
       "\\begin{tabular}{r|lllllll}\n",
       " approach & k & avg\\_acc & sdev\\_acc & repid & foldid & result\\_count\\\\\n",
       "\\hline\n",
       "\t Beef\\_euc\\_diff\\_dist.csv & 1                            & 0.56                         & 0.2375231                    & 5                            & 10                           & 50                          \\\\\n",
       "\\end{tabular}\n"
      ],
      "text/markdown": [
       "\n",
       "| approach | k | avg_acc | sdev_acc | repid | foldid | result_count |\n",
       "|---|---|---|---|---|---|---|\n",
       "| Beef_euc_diff_dist.csv | 1                      | 0.56                   | 0.2375231              | 5                      | 10                     | 50                     |\n",
       "\n"
      ],
      "text/plain": [
       "  approach               k avg_acc sdev_acc  repid foldid result_count\n",
       "1 Beef_euc_diff_dist.csv 1 0.56    0.2375231 5     10     50          "
      ]
     },
     "metadata": {},
     "output_type": "display_data"
    }
   ],
   "source": [
    "acc_res_ordered[1]"
   ]
  },
  {
   "cell_type": "markdown",
   "metadata": {},
   "source": [
    "Result is obtained by considering mean and standard deviation of the accuracy over the test folds."
   ]
  },
  {
   "cell_type": "markdown",
   "metadata": {},
   "source": [
    "### Best Parameter Combination"
   ]
  },
  {
   "cell_type": "markdown",
   "metadata": {},
   "source": [
    "- Representation: 1 Difference Taken Data\n",
    "- Distance: Euclidean\n",
    "- K value of NN: 1\n",
    "\n",
    "**Average Accuracy: 0.56 based on 5 repeats and 10-fold cross validation**"
   ]
  },
  {
   "cell_type": "markdown",
   "metadata": {},
   "source": [
    "### Train Result"
   ]
  },
  {
   "cell_type": "code",
   "execution_count": 52,
   "metadata": {
    "scrolled": true
   },
   "outputs": [
    {
     "data": {
      "text/html": [
       "<table>\n",
       "<thead><tr><th scope=col>approach</th><th scope=col>k</th><th scope=col>avg_acc</th></tr></thead>\n",
       "<tbody>\n",
       "\t<tr><td>Beef_euc_diff_dist.csv</td><td>1                     </td><td>0.56                  </td></tr>\n",
       "</tbody>\n",
       "</table>\n"
      ],
      "text/latex": [
       "\\begin{tabular}{r|lll}\n",
       " approach & k & avg\\_acc\\\\\n",
       "\\hline\n",
       "\t Beef\\_euc\\_diff\\_dist.csv & 1                            & 0.56                        \\\\\n",
       "\\end{tabular}\n"
      ],
      "text/markdown": [
       "\n",
       "| approach | k | avg_acc |\n",
       "|---|---|---|\n",
       "| Beef_euc_diff_dist.csv | 1                      | 0.56                   |\n",
       "\n"
      ],
      "text/plain": [
       "  approach               k avg_acc\n",
       "1 Beef_euc_diff_dist.csv 1 0.56   "
      ]
     },
     "metadata": {},
     "output_type": "display_data"
    }
   ],
   "source": [
    "acc_res_ordered[1][,c(\"approach\", \"k\", \"avg_acc\")]"
   ]
  },
  {
   "cell_type": "markdown",
   "metadata": {},
   "source": [
    "### Test Result"
   ]
  },
  {
   "cell_type": "code",
   "execution_count": 51,
   "metadata": {},
   "outputs": [
    {
     "data": {
      "text/html": [
       "<table>\n",
       "<thead><tr><th scope=col>approach</th><th scope=col>k</th><th scope=col>acc</th></tr></thead>\n",
       "<tbody>\n",
       "\t<tr><td>Beef_euc_diff_dist_Test.csv</td><td>1                          </td><td>0.7                        </td></tr>\n",
       "</tbody>\n",
       "</table>\n"
      ],
      "text/latex": [
       "\\begin{tabular}{r|lll}\n",
       " approach & k & acc\\\\\n",
       "\\hline\n",
       "\t Beef\\_euc\\_diff\\_dist\\_Test.csv & 1                                   & 0.7                                \\\\\n",
       "\\end{tabular}\n"
      ],
      "text/markdown": [
       "\n",
       "| approach | k | acc |\n",
       "|---|---|---|\n",
       "| Beef_euc_diff_dist_Test.csv | 1                           | 0.7                         |\n",
       "\n"
      ],
      "text/plain": [
       "  approach                    k acc\n",
       "1 Beef_euc_diff_dist_Test.csv 1 0.7"
      ]
     },
     "metadata": {},
     "output_type": "display_data"
    }
   ],
   "source": [
    "final_res"
   ]
  },
  {
   "cell_type": "code",
   "execution_count": null,
   "metadata": {},
   "outputs": [],
   "source": []
  },
  {
   "cell_type": "code",
   "execution_count": null,
   "metadata": {},
   "outputs": [],
   "source": []
  },
  {
   "cell_type": "code",
   "execution_count": null,
   "metadata": {},
   "outputs": [],
   "source": []
  },
  {
   "cell_type": "markdown",
   "metadata": {},
   "source": [
    "## Second Dataset"
   ]
  },
  {
   "cell_type": "markdown",
   "metadata": {},
   "source": [
    "Obtained results for mean and standard deviation of the accuracy over the test folds for each alternative parameter combination."
   ]
  },
  {
   "cell_type": "code",
   "execution_count": 41,
   "metadata": {},
   "outputs": [
    {
     "data": {
      "text/html": [
       "<table>\n",
       "<thead><tr><th scope=col>approach</th><th scope=col>k</th><th scope=col>avg_acc</th><th scope=col>sdev_acc</th><th scope=col>repid</th><th scope=col>foldid</th><th scope=col>result_count</th></tr></thead>\n",
       "<tbody>\n",
       "\t<tr><td>BirdChicken_dtw_diff_dist.csv         </td><td>1                                     </td><td>0.91                                  </td><td>0.1940440                             </td><td>5                                     </td><td>10                                    </td><td>50                                    </td></tr>\n",
       "\t<tr><td>BirdChicken_dtw_diff2_dist.csv        </td><td>1                                     </td><td>0.90                                  </td><td>0.2020305                             </td><td>5                                     </td><td>10                                    </td><td>50                                    </td></tr>\n",
       "\t<tr><td>BirdChicken_dtw_raw_dist.csv          </td><td>1                                     </td><td>0.85                                  </td><td>0.2314550                             </td><td>5                                     </td><td>10                                    </td><td>50                                    </td></tr>\n",
       "\t<tr><td>BirdChicken_dtw_diff2_dist.csv        </td><td>3                                     </td><td>0.81                                  </td><td>0.2451572                             </td><td>5                                     </td><td>10                                    </td><td>50                                    </td></tr>\n",
       "\t<tr><td>BirdChicken_erp_diff2_gap_005.csv     </td><td>1                                     </td><td>0.81                                  </td><td>0.2451572                             </td><td>5                                     </td><td>10                                    </td><td>50                                    </td></tr>\n",
       "\t<tr><td>BirdChicken_dtw_diff_dist.csv         </td><td>3                                     </td><td>0.80                                  </td><td>0.2474358                             </td><td>5                                     </td><td>10                                    </td><td>50                                    </td></tr>\n",
       "\t<tr><td>BirdChicken_dtw_paa2_dist.csv         </td><td>1                                     </td><td>0.77                                  </td><td>0.2517287                             </td><td>5                                     </td><td>10                                    </td><td>50                                    </td></tr>\n",
       "\t<tr><td>BirdChicken_euc_paa_dist.csv          </td><td>3                                     </td><td>0.76                                  </td><td>0.3070598                             </td><td>5                                     </td><td>10                                    </td><td>50                                    </td></tr>\n",
       "\t<tr><td>BirdChicken_euc_raw_dist.csv          </td><td>3                                     </td><td>0.76                                  </td><td>0.3070598                             </td><td>5                                     </td><td>10                                    </td><td>50                                    </td></tr>\n",
       "\t<tr><td>BirdChicken_dtw_diff_dist.csv         </td><td>5                                     </td><td>0.75                                  </td><td>0.2525381                             </td><td>5                                     </td><td>10                                    </td><td>50                                    </td></tr>\n",
       "\t<tr><td>BirdChicken_dtw_diff2_dist.csv        </td><td>5                                     </td><td>0.75                                  </td><td>0.2525381                             </td><td>5                                     </td><td>10                                    </td><td>50                                    </td></tr>\n",
       "\t<tr><td>BirdChicken_euc_paa2_dist.csv         </td><td>3                                     </td><td>0.75                                  </td><td>0.3072259                             </td><td>5                                     </td><td>10                                    </td><td>50                                    </td></tr>\n",
       "\t<tr><td>BirdChicken_euc_paa_dist.csv          </td><td>1                                     </td><td>0.72                                  </td><td>0.3219836                             </td><td>5                                     </td><td>10                                    </td><td>50                                    </td></tr>\n",
       "\t<tr><td>BirdChicken_euc_paa2_dist.csv         </td><td>1                                     </td><td>0.72                                  </td><td>0.3219836                             </td><td>5                                     </td><td>10                                    </td><td>50                                    </td></tr>\n",
       "\t<tr><td>BirdChicken_euc_raw_dist.csv          </td><td>1                                     </td><td>0.72                                  </td><td>0.3219836                             </td><td>5                                     </td><td>10                                    </td><td>50                                    </td></tr>\n",
       "\t<tr><td>BirdChicken_dtw_paa_dist.csv          </td><td>1                                     </td><td>0.71                                  </td><td>0.3045572                             </td><td>5                                     </td><td>10                                    </td><td>50                                    </td></tr>\n",
       "\t<tr><td>BirdChicken_dtw_paa2_dist.csv         </td><td>5                                     </td><td>0.71                                  </td><td>0.3208725                             </td><td>5                                     </td><td>10                                    </td><td>50                                    </td></tr>\n",
       "\t<tr><td>BirdChicken_euc_diff2_dist.csv        </td><td>1                                     </td><td>0.71                                  </td><td>0.2492847                             </td><td>5                                     </td><td>10                                    </td><td>50                                    </td></tr>\n",
       "\t<tr><td>BirdChicken_euc_paa_dist.csv          </td><td>5                                     </td><td>0.71                                  </td><td>0.3208725                             </td><td>5                                     </td><td>10                                    </td><td>50                                    </td></tr>\n",
       "\t<tr><td>BirdChicken_euc_paa2_dist.csv         </td><td>5                                     </td><td>0.71                                  </td><td>0.3208725                             </td><td>5                                     </td><td>10                                    </td><td>50                                    </td></tr>\n",
       "\t<tr><td>BirdChicken_euc_raw_dist.csv          </td><td>5                                     </td><td>0.71                                  </td><td>0.3208725                             </td><td>5                                     </td><td>10                                    </td><td>50                                    </td></tr>\n",
       "\t<tr><td>BirdChicken_erp_diff_gap_005.csv      </td><td>1                                     </td><td>0.70                                  </td><td>0.2474358                             </td><td>5                                     </td><td>10                                    </td><td>50                                    </td></tr>\n",
       "\t<tr><td>BirdChicken_erp_paa_gap_005.csv       </td><td>3                                     </td><td>0.70                                  </td><td>0.3194383                             </td><td>5                                     </td><td>10                                    </td><td>50                                    </td></tr>\n",
       "\t<tr><td>BirdChicken_erp_paa2_gap_005.csv      </td><td>3                                     </td><td>0.70                                  </td><td>0.3194383                             </td><td>5                                     </td><td>10                                    </td><td>50                                    </td></tr>\n",
       "\t<tr><td>BirdChicken_erp_raw_gap_005.csv       </td><td>3                                     </td><td>0.70                                  </td><td>0.3194383                             </td><td>5                                     </td><td>10                                    </td><td>50                                    </td></tr>\n",
       "\t<tr><td>BirdChicken_erp_raw_gap_005.csv       </td><td>5                                     </td><td>0.70                                  </td><td>0.3350297                             </td><td>5                                     </td><td>10                                    </td><td>50                                    </td></tr>\n",
       "\t<tr><td>BirdChicken_erp_paa_gap_005.csv       </td><td>1                                     </td><td>0.68                                  </td><td>0.2813959                             </td><td>5                                     </td><td>10                                    </td><td>50                                    </td></tr>\n",
       "\t<tr><td>BirdChicken_erp_paa2_gap_005.csv      </td><td>1                                     </td><td>0.68                                  </td><td>0.2813959                             </td><td>5                                     </td><td>10                                    </td><td>50                                    </td></tr>\n",
       "\t<tr><td>BirdChicken_erp_raw_gap_005.csv       </td><td>1                                     </td><td>0.68                                  </td><td>0.2813959                             </td><td>5                                     </td><td>10                                    </td><td>50                                    </td></tr>\n",
       "\t<tr><td>BirdChicken_erp_diff_gap_005.csv      </td><td>3                                     </td><td>0.67                                  </td><td>0.2392591                             </td><td>5                                     </td><td>10                                    </td><td>50                                    </td></tr>\n",
       "\t<tr><td>BirdChicken_dtw_paa2_dist.csv         </td><td>3                                     </td><td>0.66                                  </td><td>0.3103652                             </td><td>5                                     </td><td>10                                    </td><td>50                                    </td></tr>\n",
       "\t<tr><td>BirdChicken_erp_paa2_gap_005.csv      </td><td>5                                     </td><td>0.66                                  </td><td>0.3103652                             </td><td>5                                     </td><td>10                                    </td><td>50                                    </td></tr>\n",
       "\t<tr><td>BirdChicken_euc_diff_dist.csv         </td><td>1                                     </td><td>0.65                                  </td><td>0.2314550                             </td><td>5                                     </td><td>10                                    </td><td>50                                    </td></tr>\n",
       "\t<tr><td>BirdChicken_erp_diff2_gap_005.csv     </td><td>3                                     </td><td>0.64                                  </td><td>0.3037185                             </td><td>5                                     </td><td>10                                    </td><td>50                                    </td></tr>\n",
       "\t<tr><td>BirdChicken_dtw_raw_dist.csv          </td><td>3                                     </td><td>0.61                                  </td><td>0.3078895                             </td><td>5                                     </td><td>10                                    </td><td>50                                    </td></tr>\n",
       "\t<tr><td>BirdChicken_erp_diff2_gap_005.csv     </td><td>5                                     </td><td>0.61                                  </td><td>0.2092260                             </td><td>5                                     </td><td>10                                    </td><td>50                                    </td></tr>\n",
       "\t<tr><td>BirdChicken_euc_diff2_dist.csv        </td><td>3                                     </td><td>0.61                                  </td><td>0.3078895                             </td><td>5                                     </td><td>10                                    </td><td>50                                    </td></tr>\n",
       "\t<tr><td>BirdChicken_dtw_paa_dist.csv          </td><td>3                                     </td><td>0.60                                  </td><td>0.3194383                             </td><td>5                                     </td><td>10                                    </td><td>50                                    </td></tr>\n",
       "\t<tr><td>BirdChicken_erp_paa_gap_005.csv       </td><td>5                                     </td><td>0.60                                  </td><td>0.3194383                             </td><td>5                                     </td><td>10                                    </td><td>50                                    </td></tr>\n",
       "\t<tr><td>BirdChicken_euc_diff_dist.csv         </td><td>3                                     </td><td>0.60                                  </td><td>0.2020305                             </td><td>5                                     </td><td>10                                    </td><td>50                                    </td></tr>\n",
       "\t<tr><td>BirdChicken_lcss_paa2_epsilon_005.csv </td><td>3                                     </td><td>0.59                                  </td><td>0.3144480                             </td><td>5                                     </td><td>10                                    </td><td>50                                    </td></tr>\n",
       "\t<tr><td>BirdChicken_dtw_paa_dist.csv          </td><td>5                                     </td><td>0.58                                  </td><td>0.3692242                             </td><td>5                                     </td><td>10                                    </td><td>50                                    </td></tr>\n",
       "\t<tr><td>BirdChicken_euc_diff2_dist.csv        </td><td>5                                     </td><td>0.58                                  </td><td>0.1851640                             </td><td>5                                     </td><td>10                                    </td><td>50                                    </td></tr>\n",
       "\t<tr><td>BirdChicken_lcss_paa2_epsilon_005.csv </td><td>1                                     </td><td>0.56                                  </td><td>0.3591373                             </td><td>5                                     </td><td>10                                    </td><td>50                                    </td></tr>\n",
       "\t<tr><td>BirdChicken_erp_diff_gap_005.csv      </td><td>5                                     </td><td>0.55                                  </td><td>0.2525381                             </td><td>5                                     </td><td>10                                    </td><td>50                                    </td></tr>\n",
       "\t<tr><td>BirdChicken_dtw_raw_dist.csv          </td><td>5                                     </td><td>0.52                                  </td><td>0.3187988                             </td><td>5                                     </td><td>10                                    </td><td>50                                    </td></tr>\n",
       "\t<tr><td>BirdChicken_euc_diff_dist.csv         </td><td>5                                     </td><td>0.52                                  </td><td>0.2249717                             </td><td>5                                     </td><td>10                                    </td><td>50                                    </td></tr>\n",
       "\t<tr><td>BirdChicken_lcss_paa2_epsilon_005.csv </td><td>5                                     </td><td>0.50                                  </td><td>0.3642157                             </td><td>5                                     </td><td>10                                    </td><td>50                                    </td></tr>\n",
       "\t<tr><td>BirdChicken_lcss_diff_epsilon_005.csv </td><td>1                                     </td><td>0.45                                  </td><td>0.1515229                             </td><td>5                                     </td><td>10                                    </td><td>50                                    </td></tr>\n",
       "\t<tr><td>BirdChicken_lcss_diff_epsilon_005.csv </td><td>3                                     </td><td>0.45                                  </td><td>0.1515229                             </td><td>5                                     </td><td>10                                    </td><td>50                                    </td></tr>\n",
       "\t<tr><td>BirdChicken_lcss_diff_epsilon_005.csv </td><td>5                                     </td><td>0.45                                  </td><td>0.1515229                             </td><td>5                                     </td><td>10                                    </td><td>50                                    </td></tr>\n",
       "\t<tr><td>BirdChicken_lcss_paa_epsilon_005.csv  </td><td>1                                     </td><td>0.43                                  </td><td>0.3032141                             </td><td>5                                     </td><td>10                                    </td><td>50                                    </td></tr>\n",
       "\t<tr><td>BirdChicken_lcss_diff2_epsilon_005.csv</td><td>3                                     </td><td>0.36                                  </td><td>0.2267787                             </td><td>5                                     </td><td>10                                    </td><td>50                                    </td></tr>\n",
       "\t<tr><td>BirdChicken_lcss_raw_epsilon_005.csv  </td><td>1                                     </td><td>0.36                                  </td><td>0.2267787                             </td><td>5                                     </td><td>10                                    </td><td>50                                    </td></tr>\n",
       "\t<tr><td>BirdChicken_lcss_raw_epsilon_005.csv  </td><td>3                                     </td><td>0.36                                  </td><td>0.2267787                             </td><td>5                                     </td><td>10                                    </td><td>50                                    </td></tr>\n",
       "\t<tr><td>BirdChicken_lcss_diff2_epsilon_005.csv</td><td>1                                     </td><td>0.35                                  </td><td>0.2314550                             </td><td>5                                     </td><td>10                                    </td><td>50                                    </td></tr>\n",
       "\t<tr><td>BirdChicken_lcss_raw_epsilon_005.csv  </td><td>5                                     </td><td>0.33                                  </td><td>0.2392591                             </td><td>5                                     </td><td>10                                    </td><td>50                                    </td></tr>\n",
       "\t<tr><td>BirdChicken_lcss_paa_epsilon_005.csv  </td><td>3                                     </td><td>0.30                                  </td><td>0.2474358                             </td><td>5                                     </td><td>10                                    </td><td>50                                    </td></tr>\n",
       "\t<tr><td>BirdChicken_lcss_diff2_epsilon_005.csv</td><td>5                                     </td><td>0.29                                  </td><td>0.2492847                             </td><td>5                                     </td><td>10                                    </td><td>50                                    </td></tr>\n",
       "\t<tr><td>BirdChicken_lcss_paa_epsilon_005.csv  </td><td>5                                     </td><td>0.19                                  </td><td>0.2451572                             </td><td>5                                     </td><td>10                                    </td><td>50                                    </td></tr>\n",
       "</tbody>\n",
       "</table>\n"
      ],
      "text/latex": [
       "\\begin{tabular}{r|lllllll}\n",
       " approach & k & avg\\_acc & sdev\\_acc & repid & foldid & result\\_count\\\\\n",
       "\\hline\n",
       "\t BirdChicken\\_dtw\\_diff\\_dist.csv          & 1                                            & 0.91                                         & 0.1940440                                    & 5                                            & 10                                           & 50                                          \\\\\n",
       "\t BirdChicken\\_dtw\\_diff2\\_dist.csv         & 1                                            & 0.90                                         & 0.2020305                                    & 5                                            & 10                                           & 50                                          \\\\\n",
       "\t BirdChicken\\_dtw\\_raw\\_dist.csv           & 1                                            & 0.85                                         & 0.2314550                                    & 5                                            & 10                                           & 50                                          \\\\\n",
       "\t BirdChicken\\_dtw\\_diff2\\_dist.csv         & 3                                            & 0.81                                         & 0.2451572                                    & 5                                            & 10                                           & 50                                          \\\\\n",
       "\t BirdChicken\\_erp\\_diff2\\_gap\\_005.csv      & 1                                              & 0.81                                           & 0.2451572                                      & 5                                              & 10                                             & 50                                            \\\\\n",
       "\t BirdChicken\\_dtw\\_diff\\_dist.csv          & 3                                            & 0.80                                         & 0.2474358                                    & 5                                            & 10                                           & 50                                          \\\\\n",
       "\t BirdChicken\\_dtw\\_paa2\\_dist.csv          & 1                                            & 0.77                                         & 0.2517287                                    & 5                                            & 10                                           & 50                                          \\\\\n",
       "\t BirdChicken\\_euc\\_paa\\_dist.csv           & 3                                            & 0.76                                         & 0.3070598                                    & 5                                            & 10                                           & 50                                          \\\\\n",
       "\t BirdChicken\\_euc\\_raw\\_dist.csv           & 3                                            & 0.76                                         & 0.3070598                                    & 5                                            & 10                                           & 50                                          \\\\\n",
       "\t BirdChicken\\_dtw\\_diff\\_dist.csv          & 5                                            & 0.75                                         & 0.2525381                                    & 5                                            & 10                                           & 50                                          \\\\\n",
       "\t BirdChicken\\_dtw\\_diff2\\_dist.csv         & 5                                            & 0.75                                         & 0.2525381                                    & 5                                            & 10                                           & 50                                          \\\\\n",
       "\t BirdChicken\\_euc\\_paa2\\_dist.csv          & 3                                            & 0.75                                         & 0.3072259                                    & 5                                            & 10                                           & 50                                          \\\\\n",
       "\t BirdChicken\\_euc\\_paa\\_dist.csv           & 1                                            & 0.72                                         & 0.3219836                                    & 5                                            & 10                                           & 50                                          \\\\\n",
       "\t BirdChicken\\_euc\\_paa2\\_dist.csv          & 1                                            & 0.72                                         & 0.3219836                                    & 5                                            & 10                                           & 50                                          \\\\\n",
       "\t BirdChicken\\_euc\\_raw\\_dist.csv           & 1                                            & 0.72                                         & 0.3219836                                    & 5                                            & 10                                           & 50                                          \\\\\n",
       "\t BirdChicken\\_dtw\\_paa\\_dist.csv           & 1                                            & 0.71                                         & 0.3045572                                    & 5                                            & 10                                           & 50                                          \\\\\n",
       "\t BirdChicken\\_dtw\\_paa2\\_dist.csv          & 5                                            & 0.71                                         & 0.3208725                                    & 5                                            & 10                                           & 50                                          \\\\\n",
       "\t BirdChicken\\_euc\\_diff2\\_dist.csv         & 1                                            & 0.71                                         & 0.2492847                                    & 5                                            & 10                                           & 50                                          \\\\\n",
       "\t BirdChicken\\_euc\\_paa\\_dist.csv           & 5                                            & 0.71                                         & 0.3208725                                    & 5                                            & 10                                           & 50                                          \\\\\n",
       "\t BirdChicken\\_euc\\_paa2\\_dist.csv          & 5                                            & 0.71                                         & 0.3208725                                    & 5                                            & 10                                           & 50                                          \\\\\n",
       "\t BirdChicken\\_euc\\_raw\\_dist.csv           & 5                                            & 0.71                                         & 0.3208725                                    & 5                                            & 10                                           & 50                                          \\\\\n",
       "\t BirdChicken\\_erp\\_diff\\_gap\\_005.csv       & 1                                              & 0.70                                           & 0.2474358                                      & 5                                              & 10                                             & 50                                            \\\\\n",
       "\t BirdChicken\\_erp\\_paa\\_gap\\_005.csv        & 3                                              & 0.70                                           & 0.3194383                                      & 5                                              & 10                                             & 50                                            \\\\\n",
       "\t BirdChicken\\_erp\\_paa2\\_gap\\_005.csv       & 3                                              & 0.70                                           & 0.3194383                                      & 5                                              & 10                                             & 50                                            \\\\\n",
       "\t BirdChicken\\_erp\\_raw\\_gap\\_005.csv        & 3                                              & 0.70                                           & 0.3194383                                      & 5                                              & 10                                             & 50                                            \\\\\n",
       "\t BirdChicken\\_erp\\_raw\\_gap\\_005.csv        & 5                                              & 0.70                                           & 0.3350297                                      & 5                                              & 10                                             & 50                                            \\\\\n",
       "\t BirdChicken\\_erp\\_paa\\_gap\\_005.csv        & 1                                              & 0.68                                           & 0.2813959                                      & 5                                              & 10                                             & 50                                            \\\\\n",
       "\t BirdChicken\\_erp\\_paa2\\_gap\\_005.csv       & 1                                              & 0.68                                           & 0.2813959                                      & 5                                              & 10                                             & 50                                            \\\\\n",
       "\t BirdChicken\\_erp\\_raw\\_gap\\_005.csv        & 1                                              & 0.68                                           & 0.2813959                                      & 5                                              & 10                                             & 50                                            \\\\\n",
       "\t BirdChicken\\_erp\\_diff\\_gap\\_005.csv       & 3                                              & 0.67                                           & 0.2392591                                      & 5                                              & 10                                             & 50                                            \\\\\n",
       "\t BirdChicken\\_dtw\\_paa2\\_dist.csv          & 3                                            & 0.66                                         & 0.3103652                                    & 5                                            & 10                                           & 50                                          \\\\\n",
       "\t BirdChicken\\_erp\\_paa2\\_gap\\_005.csv       & 5                                              & 0.66                                           & 0.3103652                                      & 5                                              & 10                                             & 50                                            \\\\\n",
       "\t BirdChicken\\_euc\\_diff\\_dist.csv          & 1                                            & 0.65                                         & 0.2314550                                    & 5                                            & 10                                           & 50                                          \\\\\n",
       "\t BirdChicken\\_erp\\_diff2\\_gap\\_005.csv      & 3                                              & 0.64                                           & 0.3037185                                      & 5                                              & 10                                             & 50                                            \\\\\n",
       "\t BirdChicken\\_dtw\\_raw\\_dist.csv           & 3                                            & 0.61                                         & 0.3078895                                    & 5                                            & 10                                           & 50                                          \\\\\n",
       "\t BirdChicken\\_erp\\_diff2\\_gap\\_005.csv      & 5                                              & 0.61                                           & 0.2092260                                      & 5                                              & 10                                             & 50                                            \\\\\n",
       "\t BirdChicken\\_euc\\_diff2\\_dist.csv         & 3                                            & 0.61                                         & 0.3078895                                    & 5                                            & 10                                           & 50                                          \\\\\n",
       "\t BirdChicken\\_dtw\\_paa\\_dist.csv           & 3                                            & 0.60                                         & 0.3194383                                    & 5                                            & 10                                           & 50                                          \\\\\n",
       "\t BirdChicken\\_erp\\_paa\\_gap\\_005.csv        & 5                                              & 0.60                                           & 0.3194383                                      & 5                                              & 10                                             & 50                                            \\\\\n",
       "\t BirdChicken\\_euc\\_diff\\_dist.csv          & 3                                            & 0.60                                         & 0.2020305                                    & 5                                            & 10                                           & 50                                          \\\\\n",
       "\t BirdChicken\\_lcss\\_paa2\\_epsilon\\_005.csv  & 3                                              & 0.59                                           & 0.3144480                                      & 5                                              & 10                                             & 50                                            \\\\\n",
       "\t BirdChicken\\_dtw\\_paa\\_dist.csv           & 5                                            & 0.58                                         & 0.3692242                                    & 5                                            & 10                                           & 50                                          \\\\\n",
       "\t BirdChicken\\_euc\\_diff2\\_dist.csv         & 5                                            & 0.58                                         & 0.1851640                                    & 5                                            & 10                                           & 50                                          \\\\\n",
       "\t BirdChicken\\_lcss\\_paa2\\_epsilon\\_005.csv  & 1                                              & 0.56                                           & 0.3591373                                      & 5                                              & 10                                             & 50                                            \\\\\n",
       "\t BirdChicken\\_erp\\_diff\\_gap\\_005.csv       & 5                                              & 0.55                                           & 0.2525381                                      & 5                                              & 10                                             & 50                                            \\\\\n",
       "\t BirdChicken\\_dtw\\_raw\\_dist.csv           & 5                                            & 0.52                                         & 0.3187988                                    & 5                                            & 10                                           & 50                                          \\\\\n",
       "\t BirdChicken\\_euc\\_diff\\_dist.csv          & 5                                            & 0.52                                         & 0.2249717                                    & 5                                            & 10                                           & 50                                          \\\\\n",
       "\t BirdChicken\\_lcss\\_paa2\\_epsilon\\_005.csv  & 5                                              & 0.50                                           & 0.3642157                                      & 5                                              & 10                                             & 50                                            \\\\\n",
       "\t BirdChicken\\_lcss\\_diff\\_epsilon\\_005.csv  & 1                                              & 0.45                                           & 0.1515229                                      & 5                                              & 10                                             & 50                                            \\\\\n",
       "\t BirdChicken\\_lcss\\_diff\\_epsilon\\_005.csv  & 3                                              & 0.45                                           & 0.1515229                                      & 5                                              & 10                                             & 50                                            \\\\\n",
       "\t BirdChicken\\_lcss\\_diff\\_epsilon\\_005.csv  & 5                                              & 0.45                                           & 0.1515229                                      & 5                                              & 10                                             & 50                                            \\\\\n",
       "\t BirdChicken\\_lcss\\_paa\\_epsilon\\_005.csv   & 1                                              & 0.43                                           & 0.3032141                                      & 5                                              & 10                                             & 50                                            \\\\\n",
       "\t BirdChicken\\_lcss\\_diff2\\_epsilon\\_005.csv & 3                                              & 0.36                                           & 0.2267787                                      & 5                                              & 10                                             & 50                                            \\\\\n",
       "\t BirdChicken\\_lcss\\_raw\\_epsilon\\_005.csv   & 1                                              & 0.36                                           & 0.2267787                                      & 5                                              & 10                                             & 50                                            \\\\\n",
       "\t BirdChicken\\_lcss\\_raw\\_epsilon\\_005.csv   & 3                                              & 0.36                                           & 0.2267787                                      & 5                                              & 10                                             & 50                                            \\\\\n",
       "\t BirdChicken\\_lcss\\_diff2\\_epsilon\\_005.csv & 1                                              & 0.35                                           & 0.2314550                                      & 5                                              & 10                                             & 50                                            \\\\\n",
       "\t BirdChicken\\_lcss\\_raw\\_epsilon\\_005.csv   & 5                                              & 0.33                                           & 0.2392591                                      & 5                                              & 10                                             & 50                                            \\\\\n",
       "\t BirdChicken\\_lcss\\_paa\\_epsilon\\_005.csv   & 3                                              & 0.30                                           & 0.2474358                                      & 5                                              & 10                                             & 50                                            \\\\\n",
       "\t BirdChicken\\_lcss\\_diff2\\_epsilon\\_005.csv & 5                                              & 0.29                                           & 0.2492847                                      & 5                                              & 10                                             & 50                                            \\\\\n",
       "\t BirdChicken\\_lcss\\_paa\\_epsilon\\_005.csv   & 5                                              & 0.19                                           & 0.2451572                                      & 5                                              & 10                                             & 50                                            \\\\\n",
       "\\end{tabular}\n"
      ],
      "text/markdown": [
       "\n",
       "| approach | k | avg_acc | sdev_acc | repid | foldid | result_count |\n",
       "|---|---|---|---|---|---|---|\n",
       "| BirdChicken_dtw_diff_dist.csv          | 1                                      | 0.91                                   | 0.1940440                              | 5                                      | 10                                     | 50                                     |\n",
       "| BirdChicken_dtw_diff2_dist.csv         | 1                                      | 0.90                                   | 0.2020305                              | 5                                      | 10                                     | 50                                     |\n",
       "| BirdChicken_dtw_raw_dist.csv           | 1                                      | 0.85                                   | 0.2314550                              | 5                                      | 10                                     | 50                                     |\n",
       "| BirdChicken_dtw_diff2_dist.csv         | 3                                      | 0.81                                   | 0.2451572                              | 5                                      | 10                                     | 50                                     |\n",
       "| BirdChicken_erp_diff2_gap_005.csv      | 1                                      | 0.81                                   | 0.2451572                              | 5                                      | 10                                     | 50                                     |\n",
       "| BirdChicken_dtw_diff_dist.csv          | 3                                      | 0.80                                   | 0.2474358                              | 5                                      | 10                                     | 50                                     |\n",
       "| BirdChicken_dtw_paa2_dist.csv          | 1                                      | 0.77                                   | 0.2517287                              | 5                                      | 10                                     | 50                                     |\n",
       "| BirdChicken_euc_paa_dist.csv           | 3                                      | 0.76                                   | 0.3070598                              | 5                                      | 10                                     | 50                                     |\n",
       "| BirdChicken_euc_raw_dist.csv           | 3                                      | 0.76                                   | 0.3070598                              | 5                                      | 10                                     | 50                                     |\n",
       "| BirdChicken_dtw_diff_dist.csv          | 5                                      | 0.75                                   | 0.2525381                              | 5                                      | 10                                     | 50                                     |\n",
       "| BirdChicken_dtw_diff2_dist.csv         | 5                                      | 0.75                                   | 0.2525381                              | 5                                      | 10                                     | 50                                     |\n",
       "| BirdChicken_euc_paa2_dist.csv          | 3                                      | 0.75                                   | 0.3072259                              | 5                                      | 10                                     | 50                                     |\n",
       "| BirdChicken_euc_paa_dist.csv           | 1                                      | 0.72                                   | 0.3219836                              | 5                                      | 10                                     | 50                                     |\n",
       "| BirdChicken_euc_paa2_dist.csv          | 1                                      | 0.72                                   | 0.3219836                              | 5                                      | 10                                     | 50                                     |\n",
       "| BirdChicken_euc_raw_dist.csv           | 1                                      | 0.72                                   | 0.3219836                              | 5                                      | 10                                     | 50                                     |\n",
       "| BirdChicken_dtw_paa_dist.csv           | 1                                      | 0.71                                   | 0.3045572                              | 5                                      | 10                                     | 50                                     |\n",
       "| BirdChicken_dtw_paa2_dist.csv          | 5                                      | 0.71                                   | 0.3208725                              | 5                                      | 10                                     | 50                                     |\n",
       "| BirdChicken_euc_diff2_dist.csv         | 1                                      | 0.71                                   | 0.2492847                              | 5                                      | 10                                     | 50                                     |\n",
       "| BirdChicken_euc_paa_dist.csv           | 5                                      | 0.71                                   | 0.3208725                              | 5                                      | 10                                     | 50                                     |\n",
       "| BirdChicken_euc_paa2_dist.csv          | 5                                      | 0.71                                   | 0.3208725                              | 5                                      | 10                                     | 50                                     |\n",
       "| BirdChicken_euc_raw_dist.csv           | 5                                      | 0.71                                   | 0.3208725                              | 5                                      | 10                                     | 50                                     |\n",
       "| BirdChicken_erp_diff_gap_005.csv       | 1                                      | 0.70                                   | 0.2474358                              | 5                                      | 10                                     | 50                                     |\n",
       "| BirdChicken_erp_paa_gap_005.csv        | 3                                      | 0.70                                   | 0.3194383                              | 5                                      | 10                                     | 50                                     |\n",
       "| BirdChicken_erp_paa2_gap_005.csv       | 3                                      | 0.70                                   | 0.3194383                              | 5                                      | 10                                     | 50                                     |\n",
       "| BirdChicken_erp_raw_gap_005.csv        | 3                                      | 0.70                                   | 0.3194383                              | 5                                      | 10                                     | 50                                     |\n",
       "| BirdChicken_erp_raw_gap_005.csv        | 5                                      | 0.70                                   | 0.3350297                              | 5                                      | 10                                     | 50                                     |\n",
       "| BirdChicken_erp_paa_gap_005.csv        | 1                                      | 0.68                                   | 0.2813959                              | 5                                      | 10                                     | 50                                     |\n",
       "| BirdChicken_erp_paa2_gap_005.csv       | 1                                      | 0.68                                   | 0.2813959                              | 5                                      | 10                                     | 50                                     |\n",
       "| BirdChicken_erp_raw_gap_005.csv        | 1                                      | 0.68                                   | 0.2813959                              | 5                                      | 10                                     | 50                                     |\n",
       "| BirdChicken_erp_diff_gap_005.csv       | 3                                      | 0.67                                   | 0.2392591                              | 5                                      | 10                                     | 50                                     |\n",
       "| BirdChicken_dtw_paa2_dist.csv          | 3                                      | 0.66                                   | 0.3103652                              | 5                                      | 10                                     | 50                                     |\n",
       "| BirdChicken_erp_paa2_gap_005.csv       | 5                                      | 0.66                                   | 0.3103652                              | 5                                      | 10                                     | 50                                     |\n",
       "| BirdChicken_euc_diff_dist.csv          | 1                                      | 0.65                                   | 0.2314550                              | 5                                      | 10                                     | 50                                     |\n",
       "| BirdChicken_erp_diff2_gap_005.csv      | 3                                      | 0.64                                   | 0.3037185                              | 5                                      | 10                                     | 50                                     |\n",
       "| BirdChicken_dtw_raw_dist.csv           | 3                                      | 0.61                                   | 0.3078895                              | 5                                      | 10                                     | 50                                     |\n",
       "| BirdChicken_erp_diff2_gap_005.csv      | 5                                      | 0.61                                   | 0.2092260                              | 5                                      | 10                                     | 50                                     |\n",
       "| BirdChicken_euc_diff2_dist.csv         | 3                                      | 0.61                                   | 0.3078895                              | 5                                      | 10                                     | 50                                     |\n",
       "| BirdChicken_dtw_paa_dist.csv           | 3                                      | 0.60                                   | 0.3194383                              | 5                                      | 10                                     | 50                                     |\n",
       "| BirdChicken_erp_paa_gap_005.csv        | 5                                      | 0.60                                   | 0.3194383                              | 5                                      | 10                                     | 50                                     |\n",
       "| BirdChicken_euc_diff_dist.csv          | 3                                      | 0.60                                   | 0.2020305                              | 5                                      | 10                                     | 50                                     |\n",
       "| BirdChicken_lcss_paa2_epsilon_005.csv  | 3                                      | 0.59                                   | 0.3144480                              | 5                                      | 10                                     | 50                                     |\n",
       "| BirdChicken_dtw_paa_dist.csv           | 5                                      | 0.58                                   | 0.3692242                              | 5                                      | 10                                     | 50                                     |\n",
       "| BirdChicken_euc_diff2_dist.csv         | 5                                      | 0.58                                   | 0.1851640                              | 5                                      | 10                                     | 50                                     |\n",
       "| BirdChicken_lcss_paa2_epsilon_005.csv  | 1                                      | 0.56                                   | 0.3591373                              | 5                                      | 10                                     | 50                                     |\n",
       "| BirdChicken_erp_diff_gap_005.csv       | 5                                      | 0.55                                   | 0.2525381                              | 5                                      | 10                                     | 50                                     |\n",
       "| BirdChicken_dtw_raw_dist.csv           | 5                                      | 0.52                                   | 0.3187988                              | 5                                      | 10                                     | 50                                     |\n",
       "| BirdChicken_euc_diff_dist.csv          | 5                                      | 0.52                                   | 0.2249717                              | 5                                      | 10                                     | 50                                     |\n",
       "| BirdChicken_lcss_paa2_epsilon_005.csv  | 5                                      | 0.50                                   | 0.3642157                              | 5                                      | 10                                     | 50                                     |\n",
       "| BirdChicken_lcss_diff_epsilon_005.csv  | 1                                      | 0.45                                   | 0.1515229                              | 5                                      | 10                                     | 50                                     |\n",
       "| BirdChicken_lcss_diff_epsilon_005.csv  | 3                                      | 0.45                                   | 0.1515229                              | 5                                      | 10                                     | 50                                     |\n",
       "| BirdChicken_lcss_diff_epsilon_005.csv  | 5                                      | 0.45                                   | 0.1515229                              | 5                                      | 10                                     | 50                                     |\n",
       "| BirdChicken_lcss_paa_epsilon_005.csv   | 1                                      | 0.43                                   | 0.3032141                              | 5                                      | 10                                     | 50                                     |\n",
       "| BirdChicken_lcss_diff2_epsilon_005.csv | 3                                      | 0.36                                   | 0.2267787                              | 5                                      | 10                                     | 50                                     |\n",
       "| BirdChicken_lcss_raw_epsilon_005.csv   | 1                                      | 0.36                                   | 0.2267787                              | 5                                      | 10                                     | 50                                     |\n",
       "| BirdChicken_lcss_raw_epsilon_005.csv   | 3                                      | 0.36                                   | 0.2267787                              | 5                                      | 10                                     | 50                                     |\n",
       "| BirdChicken_lcss_diff2_epsilon_005.csv | 1                                      | 0.35                                   | 0.2314550                              | 5                                      | 10                                     | 50                                     |\n",
       "| BirdChicken_lcss_raw_epsilon_005.csv   | 5                                      | 0.33                                   | 0.2392591                              | 5                                      | 10                                     | 50                                     |\n",
       "| BirdChicken_lcss_paa_epsilon_005.csv   | 3                                      | 0.30                                   | 0.2474358                              | 5                                      | 10                                     | 50                                     |\n",
       "| BirdChicken_lcss_diff2_epsilon_005.csv | 5                                      | 0.29                                   | 0.2492847                              | 5                                      | 10                                     | 50                                     |\n",
       "| BirdChicken_lcss_paa_epsilon_005.csv   | 5                                      | 0.19                                   | 0.2451572                              | 5                                      | 10                                     | 50                                     |\n",
       "\n"
      ],
      "text/plain": [
       "   approach                               k avg_acc sdev_acc  repid foldid\n",
       "1  BirdChicken_dtw_diff_dist.csv          1 0.91    0.1940440 5     10    \n",
       "2  BirdChicken_dtw_diff2_dist.csv         1 0.90    0.2020305 5     10    \n",
       "3  BirdChicken_dtw_raw_dist.csv           1 0.85    0.2314550 5     10    \n",
       "4  BirdChicken_dtw_diff2_dist.csv         3 0.81    0.2451572 5     10    \n",
       "5  BirdChicken_erp_diff2_gap_005.csv      1 0.81    0.2451572 5     10    \n",
       "6  BirdChicken_dtw_diff_dist.csv          3 0.80    0.2474358 5     10    \n",
       "7  BirdChicken_dtw_paa2_dist.csv          1 0.77    0.2517287 5     10    \n",
       "8  BirdChicken_euc_paa_dist.csv           3 0.76    0.3070598 5     10    \n",
       "9  BirdChicken_euc_raw_dist.csv           3 0.76    0.3070598 5     10    \n",
       "10 BirdChicken_dtw_diff_dist.csv          5 0.75    0.2525381 5     10    \n",
       "11 BirdChicken_dtw_diff2_dist.csv         5 0.75    0.2525381 5     10    \n",
       "12 BirdChicken_euc_paa2_dist.csv          3 0.75    0.3072259 5     10    \n",
       "13 BirdChicken_euc_paa_dist.csv           1 0.72    0.3219836 5     10    \n",
       "14 BirdChicken_euc_paa2_dist.csv          1 0.72    0.3219836 5     10    \n",
       "15 BirdChicken_euc_raw_dist.csv           1 0.72    0.3219836 5     10    \n",
       "16 BirdChicken_dtw_paa_dist.csv           1 0.71    0.3045572 5     10    \n",
       "17 BirdChicken_dtw_paa2_dist.csv          5 0.71    0.3208725 5     10    \n",
       "18 BirdChicken_euc_diff2_dist.csv         1 0.71    0.2492847 5     10    \n",
       "19 BirdChicken_euc_paa_dist.csv           5 0.71    0.3208725 5     10    \n",
       "20 BirdChicken_euc_paa2_dist.csv          5 0.71    0.3208725 5     10    \n",
       "21 BirdChicken_euc_raw_dist.csv           5 0.71    0.3208725 5     10    \n",
       "22 BirdChicken_erp_diff_gap_005.csv       1 0.70    0.2474358 5     10    \n",
       "23 BirdChicken_erp_paa_gap_005.csv        3 0.70    0.3194383 5     10    \n",
       "24 BirdChicken_erp_paa2_gap_005.csv       3 0.70    0.3194383 5     10    \n",
       "25 BirdChicken_erp_raw_gap_005.csv        3 0.70    0.3194383 5     10    \n",
       "26 BirdChicken_erp_raw_gap_005.csv        5 0.70    0.3350297 5     10    \n",
       "27 BirdChicken_erp_paa_gap_005.csv        1 0.68    0.2813959 5     10    \n",
       "28 BirdChicken_erp_paa2_gap_005.csv       1 0.68    0.2813959 5     10    \n",
       "29 BirdChicken_erp_raw_gap_005.csv        1 0.68    0.2813959 5     10    \n",
       "30 BirdChicken_erp_diff_gap_005.csv       3 0.67    0.2392591 5     10    \n",
       "31 BirdChicken_dtw_paa2_dist.csv          3 0.66    0.3103652 5     10    \n",
       "32 BirdChicken_erp_paa2_gap_005.csv       5 0.66    0.3103652 5     10    \n",
       "33 BirdChicken_euc_diff_dist.csv          1 0.65    0.2314550 5     10    \n",
       "34 BirdChicken_erp_diff2_gap_005.csv      3 0.64    0.3037185 5     10    \n",
       "35 BirdChicken_dtw_raw_dist.csv           3 0.61    0.3078895 5     10    \n",
       "36 BirdChicken_erp_diff2_gap_005.csv      5 0.61    0.2092260 5     10    \n",
       "37 BirdChicken_euc_diff2_dist.csv         3 0.61    0.3078895 5     10    \n",
       "38 BirdChicken_dtw_paa_dist.csv           3 0.60    0.3194383 5     10    \n",
       "39 BirdChicken_erp_paa_gap_005.csv        5 0.60    0.3194383 5     10    \n",
       "40 BirdChicken_euc_diff_dist.csv          3 0.60    0.2020305 5     10    \n",
       "41 BirdChicken_lcss_paa2_epsilon_005.csv  3 0.59    0.3144480 5     10    \n",
       "42 BirdChicken_dtw_paa_dist.csv           5 0.58    0.3692242 5     10    \n",
       "43 BirdChicken_euc_diff2_dist.csv         5 0.58    0.1851640 5     10    \n",
       "44 BirdChicken_lcss_paa2_epsilon_005.csv  1 0.56    0.3591373 5     10    \n",
       "45 BirdChicken_erp_diff_gap_005.csv       5 0.55    0.2525381 5     10    \n",
       "46 BirdChicken_dtw_raw_dist.csv           5 0.52    0.3187988 5     10    \n",
       "47 BirdChicken_euc_diff_dist.csv          5 0.52    0.2249717 5     10    \n",
       "48 BirdChicken_lcss_paa2_epsilon_005.csv  5 0.50    0.3642157 5     10    \n",
       "49 BirdChicken_lcss_diff_epsilon_005.csv  1 0.45    0.1515229 5     10    \n",
       "50 BirdChicken_lcss_diff_epsilon_005.csv  3 0.45    0.1515229 5     10    \n",
       "51 BirdChicken_lcss_diff_epsilon_005.csv  5 0.45    0.1515229 5     10    \n",
       "52 BirdChicken_lcss_paa_epsilon_005.csv   1 0.43    0.3032141 5     10    \n",
       "53 BirdChicken_lcss_diff2_epsilon_005.csv 3 0.36    0.2267787 5     10    \n",
       "54 BirdChicken_lcss_raw_epsilon_005.csv   1 0.36    0.2267787 5     10    \n",
       "55 BirdChicken_lcss_raw_epsilon_005.csv   3 0.36    0.2267787 5     10    \n",
       "56 BirdChicken_lcss_diff2_epsilon_005.csv 1 0.35    0.2314550 5     10    \n",
       "57 BirdChicken_lcss_raw_epsilon_005.csv   5 0.33    0.2392591 5     10    \n",
       "58 BirdChicken_lcss_paa_epsilon_005.csv   3 0.30    0.2474358 5     10    \n",
       "59 BirdChicken_lcss_diff2_epsilon_005.csv 5 0.29    0.2492847 5     10    \n",
       "60 BirdChicken_lcss_paa_epsilon_005.csv   5 0.19    0.2451572 5     10    \n",
       "   result_count\n",
       "1  50          \n",
       "2  50          \n",
       "3  50          \n",
       "4  50          \n",
       "5  50          \n",
       "6  50          \n",
       "7  50          \n",
       "8  50          \n",
       "9  50          \n",
       "10 50          \n",
       "11 50          \n",
       "12 50          \n",
       "13 50          \n",
       "14 50          \n",
       "15 50          \n",
       "16 50          \n",
       "17 50          \n",
       "18 50          \n",
       "19 50          \n",
       "20 50          \n",
       "21 50          \n",
       "22 50          \n",
       "23 50          \n",
       "24 50          \n",
       "25 50          \n",
       "26 50          \n",
       "27 50          \n",
       "28 50          \n",
       "29 50          \n",
       "30 50          \n",
       "31 50          \n",
       "32 50          \n",
       "33 50          \n",
       "34 50          \n",
       "35 50          \n",
       "36 50          \n",
       "37 50          \n",
       "38 50          \n",
       "39 50          \n",
       "40 50          \n",
       "41 50          \n",
       "42 50          \n",
       "43 50          \n",
       "44 50          \n",
       "45 50          \n",
       "46 50          \n",
       "47 50          \n",
       "48 50          \n",
       "49 50          \n",
       "50 50          \n",
       "51 50          \n",
       "52 50          \n",
       "53 50          \n",
       "54 50          \n",
       "55 50          \n",
       "56 50          \n",
       "57 50          \n",
       "58 50          \n",
       "59 50          \n",
       "60 50          "
      ]
     },
     "metadata": {},
     "output_type": "display_data"
    }
   ],
   "source": [
    "acc_res_ordered"
   ]
  },
  {
   "cell_type": "markdown",
   "metadata": {},
   "source": [
    "## Best Result and Parameter Combination"
   ]
  },
  {
   "cell_type": "code",
   "execution_count": 55,
   "metadata": {},
   "outputs": [
    {
     "data": {
      "text/html": [
       "<table>\n",
       "<thead><tr><th scope=col>approach</th><th scope=col>k</th><th scope=col>avg_acc</th><th scope=col>sdev_acc</th><th scope=col>repid</th><th scope=col>foldid</th><th scope=col>result_count</th></tr></thead>\n",
       "<tbody>\n",
       "\t<tr><td>BirdChicken_dtw_diff_dist.csv</td><td>1                            </td><td>0.91                         </td><td>0.194044                     </td><td>5                            </td><td>10                           </td><td>50                           </td></tr>\n",
       "</tbody>\n",
       "</table>\n"
      ],
      "text/latex": [
       "\\begin{tabular}{r|lllllll}\n",
       " approach & k & avg\\_acc & sdev\\_acc & repid & foldid & result\\_count\\\\\n",
       "\\hline\n",
       "\t BirdChicken\\_dtw\\_diff\\_dist.csv & 1                                   & 0.91                                & 0.194044                            & 5                                   & 10                                  & 50                                 \\\\\n",
       "\\end{tabular}\n"
      ],
      "text/markdown": [
       "\n",
       "| approach | k | avg_acc | sdev_acc | repid | foldid | result_count |\n",
       "|---|---|---|---|---|---|---|\n",
       "| BirdChicken_dtw_diff_dist.csv | 1                             | 0.91                          | 0.194044                      | 5                             | 10                            | 50                            |\n",
       "\n"
      ],
      "text/plain": [
       "  approach                      k avg_acc sdev_acc repid foldid result_count\n",
       "1 BirdChicken_dtw_diff_dist.csv 1 0.91    0.194044 5     10     50          "
      ]
     },
     "metadata": {},
     "output_type": "display_data"
    }
   ],
   "source": [
    "acc_res_ordered[1]"
   ]
  },
  {
   "cell_type": "markdown",
   "metadata": {},
   "source": [
    "Result is obtained by considering mean and standard deviation of the accuracy over the test folds."
   ]
  },
  {
   "cell_type": "markdown",
   "metadata": {},
   "source": [
    "### Best Parameter Combination"
   ]
  },
  {
   "cell_type": "markdown",
   "metadata": {},
   "source": [
    "- Representation: 1 Difference Taken Data\n",
    "- Distance: Dynamic Time Wrapping with epsilon 0.05\n",
    "- K value of NN: 1\n",
    "\n",
    "**Average Accuracy: 0.91 based on 5 repeats and 10-fold cross validation**"
   ]
  },
  {
   "cell_type": "markdown",
   "metadata": {},
   "source": [
    "### Train Result"
   ]
  },
  {
   "cell_type": "code",
   "execution_count": 53,
   "metadata": {},
   "outputs": [
    {
     "data": {
      "text/html": [
       "<table>\n",
       "<thead><tr><th scope=col>approach</th><th scope=col>k</th><th scope=col>avg_acc</th></tr></thead>\n",
       "<tbody>\n",
       "\t<tr><td>BirdChicken_dtw_diff_dist.csv</td><td>1                            </td><td>0.91                         </td></tr>\n",
       "</tbody>\n",
       "</table>\n"
      ],
      "text/latex": [
       "\\begin{tabular}{r|lll}\n",
       " approach & k & avg\\_acc\\\\\n",
       "\\hline\n",
       "\t BirdChicken\\_dtw\\_diff\\_dist.csv & 1                                   & 0.91                               \\\\\n",
       "\\end{tabular}\n"
      ],
      "text/markdown": [
       "\n",
       "| approach | k | avg_acc |\n",
       "|---|---|---|\n",
       "| BirdChicken_dtw_diff_dist.csv | 1                             | 0.91                          |\n",
       "\n"
      ],
      "text/plain": [
       "  approach                      k avg_acc\n",
       "1 BirdChicken_dtw_diff_dist.csv 1 0.91   "
      ]
     },
     "metadata": {},
     "output_type": "display_data"
    }
   ],
   "source": [
    "acc_res_ordered[1][,c(\"approach\", \"k\", \"avg_acc\")]"
   ]
  },
  {
   "cell_type": "markdown",
   "metadata": {},
   "source": [
    "### Test Result"
   ]
  },
  {
   "cell_type": "code",
   "execution_count": 52,
   "metadata": {},
   "outputs": [
    {
     "data": {
      "text/html": [
       "<table>\n",
       "<thead><tr><th scope=col>approach</th><th scope=col>k</th><th scope=col>acc</th></tr></thead>\n",
       "<tbody>\n",
       "\t<tr><td>BirdChicken_dtw_diff_dist_Test.csv</td><td>1                                 </td><td>0.75                              </td></tr>\n",
       "</tbody>\n",
       "</table>\n"
      ],
      "text/latex": [
       "\\begin{tabular}{r|lll}\n",
       " approach & k & acc\\\\\n",
       "\\hline\n",
       "\t BirdChicken\\_dtw\\_diff\\_dist\\_Test.csv & 1                                          & 0.75                                      \\\\\n",
       "\\end{tabular}\n"
      ],
      "text/markdown": [
       "\n",
       "| approach | k | acc |\n",
       "|---|---|---|\n",
       "| BirdChicken_dtw_diff_dist_Test.csv | 1                                  | 0.75                               |\n",
       "\n"
      ],
      "text/plain": [
       "  approach                           k acc \n",
       "1 BirdChicken_dtw_diff_dist_Test.csv 1 0.75"
      ]
     },
     "metadata": {},
     "output_type": "display_data"
    }
   ],
   "source": [
    "final_res"
   ]
  },
  {
   "cell_type": "code",
   "execution_count": null,
   "metadata": {},
   "outputs": [],
   "source": []
  },
  {
   "cell_type": "code",
   "execution_count": null,
   "metadata": {},
   "outputs": [],
   "source": []
  },
  {
   "cell_type": "code",
   "execution_count": null,
   "metadata": {},
   "outputs": [],
   "source": []
  },
  {
   "cell_type": "markdown",
   "metadata": {},
   "source": [
    "## Third Dataset"
   ]
  },
  {
   "cell_type": "markdown",
   "metadata": {},
   "source": [
    "Obtained results for mean and standard deviation of the accuracy over the test folds for each alternative parameter combination."
   ]
  },
  {
   "cell_type": "code",
   "execution_count": 40,
   "metadata": {},
   "outputs": [
    {
     "data": {
      "text/html": [
       "<table>\n",
       "<thead><tr><th scope=col>approach</th><th scope=col>k</th><th scope=col>avg_acc</th><th scope=col>sdev_acc</th><th scope=col>repid</th><th scope=col>foldid</th><th scope=col>result_count</th></tr></thead>\n",
       "<tbody>\n",
       "\t<tr><td>BME_dtw_diff2_dist.csv        </td><td>1                             </td><td>1.00000000                    </td><td>0.00000000                    </td><td>5                             </td><td>10                            </td><td>50                            </td></tr>\n",
       "\t<tr><td>BME_dtw_diff2_dist.csv        </td><td>3                             </td><td>1.00000000                    </td><td>0.00000000                    </td><td>5                             </td><td>10                            </td><td>50                            </td></tr>\n",
       "\t<tr><td>BME_dtw_diff2_dist.csv        </td><td>5                             </td><td>0.96666667                    </td><td>0.10101525                    </td><td>5                             </td><td>10                            </td><td>50                            </td></tr>\n",
       "\t<tr><td>BME_dtw_diff_dist.csv         </td><td>1                             </td><td>0.94000000                    </td><td>0.12936264                    </td><td>5                             </td><td>10                            </td><td>50                            </td></tr>\n",
       "\t<tr><td>BME_dtw_diff_dist.csv         </td><td>5                             </td><td>0.94000000                    </td><td>0.12936264                    </td><td>5                             </td><td>10                            </td><td>50                            </td></tr>\n",
       "\t<tr><td>BME_dtw_diff_dist.csv         </td><td>3                             </td><td>0.93333333                    </td><td>0.13468701                    </td><td>5                             </td><td>10                            </td><td>50                            </td></tr>\n",
       "\t<tr><td>BME_euc_paa_dist.csv          </td><td>1                             </td><td>0.90000000                    </td><td>0.15430335                    </td><td>5                             </td><td>10                            </td><td>50                            </td></tr>\n",
       "\t<tr><td>BME_euc_paa2_dist.csv         </td><td>1                             </td><td>0.90000000                    </td><td>0.15430335                    </td><td>5                             </td><td>10                            </td><td>50                            </td></tr>\n",
       "\t<tr><td>BME_euc_raw_dist.csv          </td><td>1                             </td><td>0.87333333                    </td><td>0.16343812                    </td><td>5                             </td><td>10                            </td><td>50                            </td></tr>\n",
       "\t<tr><td>BME_dtw_paa2_dist.csv         </td><td>1                             </td><td>0.87333333                    </td><td>0.16343812                    </td><td>5                             </td><td>10                            </td><td>50                            </td></tr>\n",
       "\t<tr><td>BME_erp_paa2_gap_005.csv      </td><td>5                             </td><td>0.84000000                    </td><td>0.19331222                    </td><td>5                             </td><td>10                            </td><td>50                            </td></tr>\n",
       "\t<tr><td>BME_erp_paa2_gap_005.csv      </td><td>1                             </td><td>0.83333333                    </td><td>0.18132793                    </td><td>5                             </td><td>10                            </td><td>50                            </td></tr>\n",
       "\t<tr><td>BME_euc_paa2_dist.csv         </td><td>3                             </td><td>0.83333333                    </td><td>0.19342949                    </td><td>5                             </td><td>10                            </td><td>50                            </td></tr>\n",
       "\t<tr><td>BME_erp_diff_gap_005.csv      </td><td>1                             </td><td>0.83333333                    </td><td>0.19342949                    </td><td>5                             </td><td>10                            </td><td>50                            </td></tr>\n",
       "\t<tr><td>BME_euc_paa_dist.csv          </td><td>3                             </td><td>0.82000000                    </td><td>0.18082702                    </td><td>5                             </td><td>10                            </td><td>50                            </td></tr>\n",
       "\t<tr><td>BME_euc_raw_dist.csv          </td><td>3                             </td><td>0.81333333                    </td><td>0.19237152                    </td><td>5                             </td><td>10                            </td><td>50                            </td></tr>\n",
       "\t<tr><td>BME_erp_paa2_gap_005.csv      </td><td>3                             </td><td>0.80666667                    </td><td>0.20303815                    </td><td>5                             </td><td>10                            </td><td>50                            </td></tr>\n",
       "\t<tr><td>BME_euc_diff2_dist.csv        </td><td>1                             </td><td>0.80666667                    </td><td>0.17931591                    </td><td>5                             </td><td>10                            </td><td>50                            </td></tr>\n",
       "\t<tr><td>BME_erp_paa_gap_005.csv       </td><td>1                             </td><td>0.80000000                    </td><td>0.17817416                    </td><td>5                             </td><td>10                            </td><td>50                            </td></tr>\n",
       "\t<tr><td>BME_erp_paa_gap_005.csv       </td><td>3                             </td><td>0.80000000                    </td><td>0.20203051                    </td><td>5                             </td><td>10                            </td><td>50                            </td></tr>\n",
       "\t<tr><td>BME_erp_paa_gap_005.csv       </td><td>5                             </td><td>0.80000000                    </td><td>0.20203051                    </td><td>5                             </td><td>10                            </td><td>50                            </td></tr>\n",
       "\t<tr><td>BME_erp_raw_gap_005.csv       </td><td>5                             </td><td>0.80000000                    </td><td>0.20203051                    </td><td>5                             </td><td>10                            </td><td>50                            </td></tr>\n",
       "\t<tr><td>BME_dtw_paa2_dist.csv         </td><td>3                             </td><td>0.80000000                    </td><td>0.22335313                    </td><td>5                             </td><td>10                            </td><td>50                            </td></tr>\n",
       "\t<tr><td>BME_erp_diff_gap_005.csv      </td><td>3                             </td><td>0.80000000                    </td><td>0.19047619                    </td><td>5                             </td><td>10                            </td><td>50                            </td></tr>\n",
       "\t<tr><td>BME_erp_diff2_gap_005.csv     </td><td>1                             </td><td>0.80000000                    </td><td>0.19047619                    </td><td>5                             </td><td>10                            </td><td>50                            </td></tr>\n",
       "\t<tr><td>BME_erp_diff2_gap_005.csv     </td><td>3                             </td><td>0.80000000                    </td><td>0.19047619                    </td><td>5                             </td><td>10                            </td><td>50                            </td></tr>\n",
       "\t<tr><td>BME_erp_diff2_gap_005.csv     </td><td>5                             </td><td>0.80000000                    </td><td>0.17817416                    </td><td>5                             </td><td>10                            </td><td>50                            </td></tr>\n",
       "\t<tr><td>BME_erp_diff_gap_005.csv      </td><td>5                             </td><td>0.79333333                    </td><td>0.20079208                    </td><td>5                             </td><td>10                            </td><td>50                            </td></tr>\n",
       "\t<tr><td>BME_erp_raw_gap_005.csv       </td><td>3                             </td><td>0.78666667                    </td><td>0.19931857                    </td><td>5                             </td><td>10                            </td><td>50                            </td></tr>\n",
       "\t<tr><td>BME_dtw_raw_dist.csv          </td><td>1                             </td><td>0.78000000                    </td><td>0.19760470                    </td><td>5                             </td><td>10                            </td><td>50                            </td></tr>\n",
       "\t<tr><td>BME_dtw_raw_dist.csv          </td><td>5                             </td><td>0.77333333                    </td><td>0.20691010                    </td><td>5                             </td><td>10                            </td><td>50                            </td></tr>\n",
       "\t<tr><td>BME_euc_diff_dist.csv         </td><td>1                             </td><td>0.77333333                    </td><td>0.18368859                    </td><td>5                             </td><td>10                            </td><td>50                            </td></tr>\n",
       "\t<tr><td>BME_euc_paa2_dist.csv         </td><td>5                             </td><td>0.77333333                    </td><td>0.21759352                    </td><td>5                             </td><td>10                            </td><td>50                            </td></tr>\n",
       "\t<tr><td>BME_erp_raw_gap_005.csv       </td><td>1                             </td><td>0.76666667                    </td><td>0.16835876                    </td><td>5                             </td><td>10                            </td><td>50                            </td></tr>\n",
       "\t<tr><td>BME_dtw_paa_dist.csv          </td><td>1                             </td><td>0.76666667                    </td><td>0.20481727                    </td><td>5                             </td><td>10                            </td><td>50                            </td></tr>\n",
       "\t<tr><td>BME_dtw_paa_dist.csv          </td><td>3                             </td><td>0.76666667                    </td><td>0.21560441                    </td><td>5                             </td><td>10                            </td><td>50                            </td></tr>\n",
       "\t<tr><td>BME_dtw_paa2_dist.csv         </td><td>5                             </td><td>0.76666667                    </td><td>0.21560441                    </td><td>5                             </td><td>10                            </td><td>50                            </td></tr>\n",
       "\t<tr><td>BME_euc_diff_dist.csv         </td><td>3                             </td><td>0.76000000                    </td><td>0.19095179                    </td><td>5                             </td><td>10                            </td><td>50                            </td></tr>\n",
       "\t<tr><td>BME_euc_diff2_dist.csv        </td><td>3                             </td><td>0.76000000                    </td><td>0.19095179                    </td><td>5                             </td><td>10                            </td><td>50                            </td></tr>\n",
       "\t<tr><td>BME_dtw_paa_dist.csv          </td><td>5                             </td><td>0.75333333                    </td><td>0.22141577                    </td><td>5                             </td><td>10                            </td><td>50                            </td></tr>\n",
       "\t<tr><td>BME_dtw_raw_dist.csv          </td><td>3                             </td><td>0.74666667                    </td><td>0.20822106                    </td><td>5                             </td><td>10                            </td><td>50                            </td></tr>\n",
       "\t<tr><td>BME_euc_paa_dist.csv          </td><td>5                             </td><td>0.74000000                    </td><td>0.23608677                    </td><td>5                             </td><td>10                            </td><td>50                            </td></tr>\n",
       "\t<tr><td>BME_euc_raw_dist.csv          </td><td>5                             </td><td>0.74000000                    </td><td>0.23608677                    </td><td>5                             </td><td>10                            </td><td>50                            </td></tr>\n",
       "\t<tr><td>BME_euc_diff2_dist.csv        </td><td>5                             </td><td>0.66666667                    </td><td>0.25197632                    </td><td>5                             </td><td>10                            </td><td>50                            </td></tr>\n",
       "\t<tr><td>BME_euc_diff_dist.csv         </td><td>5                             </td><td>0.64666667                    </td><td>0.24660966                    </td><td>5                             </td><td>10                            </td><td>50                            </td></tr>\n",
       "\t<tr><td>BME_lcss_paa2_epsilon_005.csv </td><td>5                             </td><td>0.28000000                    </td><td>0.18269834                    </td><td>5                             </td><td>10                            </td><td>50                            </td></tr>\n",
       "\t<tr><td>BME_lcss_paa2_epsilon_005.csv </td><td>3                             </td><td>0.20666667                    </td><td>0.16343812                    </td><td>5                             </td><td>10                            </td><td>50                            </td></tr>\n",
       "\t<tr><td>BME_lcss_paa_epsilon_005.csv  </td><td>1                             </td><td>0.17333333                    </td><td>0.16822402                    </td><td>5                             </td><td>10                            </td><td>50                            </td></tr>\n",
       "\t<tr><td>BME_lcss_paa2_epsilon_005.csv </td><td>1                             </td><td>0.15333333                    </td><td>0.16781914                    </td><td>5                             </td><td>10                            </td><td>50                            </td></tr>\n",
       "\t<tr><td>BME_lcss_raw_epsilon_005.csv  </td><td>3                             </td><td>0.10000000                    </td><td>0.15430335                    </td><td>5                             </td><td>10                            </td><td>50                            </td></tr>\n",
       "\t<tr><td>BME_lcss_raw_epsilon_005.csv  </td><td>1                             </td><td>0.08000000                    </td><td>0.14380637                    </td><td>5                             </td><td>10                            </td><td>50                            </td></tr>\n",
       "\t<tr><td>BME_lcss_paa_epsilon_005.csv  </td><td>3                             </td><td>0.07333333                    </td><td>0.13948399                    </td><td>5                             </td><td>10                            </td><td>50                            </td></tr>\n",
       "\t<tr><td>BME_lcss_raw_epsilon_005.csv  </td><td>5                             </td><td>0.06000000                    </td><td>0.12936264                    </td><td>5                             </td><td>10                            </td><td>50                            </td></tr>\n",
       "\t<tr><td>BME_lcss_paa_epsilon_005.csv  </td><td>5                             </td><td>0.02666667                    </td><td>0.09134917                    </td><td>5                             </td><td>10                            </td><td>50                            </td></tr>\n",
       "\t<tr><td>BME_lcss_diff_epsilon_005.csv </td><td>1                             </td><td>0.01333333                    </td><td>0.06598289                    </td><td>5                             </td><td>10                            </td><td>50                            </td></tr>\n",
       "\t<tr><td>BME_lcss_diff_epsilon_005.csv </td><td>3                             </td><td>0.00000000                    </td><td>0.00000000                    </td><td>5                             </td><td>10                            </td><td>50                            </td></tr>\n",
       "\t<tr><td>BME_lcss_diff_epsilon_005.csv </td><td>5                             </td><td>0.00000000                    </td><td>0.00000000                    </td><td>5                             </td><td>10                            </td><td>50                            </td></tr>\n",
       "\t<tr><td>BME_lcss_diff2_epsilon_005.csv</td><td>1                             </td><td>0.00000000                    </td><td>0.00000000                    </td><td>5                             </td><td>10                            </td><td>50                            </td></tr>\n",
       "\t<tr><td>BME_lcss_diff2_epsilon_005.csv</td><td>3                             </td><td>0.00000000                    </td><td>0.00000000                    </td><td>5                             </td><td>10                            </td><td>50                            </td></tr>\n",
       "\t<tr><td>BME_lcss_diff2_epsilon_005.csv</td><td>5                             </td><td>0.00000000                    </td><td>0.00000000                    </td><td>5                             </td><td>10                            </td><td>50                            </td></tr>\n",
       "</tbody>\n",
       "</table>\n"
      ],
      "text/latex": [
       "\\begin{tabular}{r|lllllll}\n",
       " approach & k & avg\\_acc & sdev\\_acc & repid & foldid & result\\_count\\\\\n",
       "\\hline\n",
       "\t BME\\_dtw\\_diff2\\_dist.csv         & 1                                    & 1.00000000                           & 0.00000000                           & 5                                    & 10                                   & 50                                  \\\\\n",
       "\t BME\\_dtw\\_diff2\\_dist.csv         & 3                                    & 1.00000000                           & 0.00000000                           & 5                                    & 10                                   & 50                                  \\\\\n",
       "\t BME\\_dtw\\_diff2\\_dist.csv         & 5                                    & 0.96666667                           & 0.10101525                           & 5                                    & 10                                   & 50                                  \\\\\n",
       "\t BME\\_dtw\\_diff\\_dist.csv          & 1                                    & 0.94000000                           & 0.12936264                           & 5                                    & 10                                   & 50                                  \\\\\n",
       "\t BME\\_dtw\\_diff\\_dist.csv          & 5                                    & 0.94000000                           & 0.12936264                           & 5                                    & 10                                   & 50                                  \\\\\n",
       "\t BME\\_dtw\\_diff\\_dist.csv          & 3                                    & 0.93333333                           & 0.13468701                           & 5                                    & 10                                   & 50                                  \\\\\n",
       "\t BME\\_euc\\_paa\\_dist.csv           & 1                                    & 0.90000000                           & 0.15430335                           & 5                                    & 10                                   & 50                                  \\\\\n",
       "\t BME\\_euc\\_paa2\\_dist.csv          & 1                                    & 0.90000000                           & 0.15430335                           & 5                                    & 10                                   & 50                                  \\\\\n",
       "\t BME\\_euc\\_raw\\_dist.csv           & 1                                    & 0.87333333                           & 0.16343812                           & 5                                    & 10                                   & 50                                  \\\\\n",
       "\t BME\\_dtw\\_paa2\\_dist.csv          & 1                                    & 0.87333333                           & 0.16343812                           & 5                                    & 10                                   & 50                                  \\\\\n",
       "\t BME\\_erp\\_paa2\\_gap\\_005.csv       & 5                                      & 0.84000000                             & 0.19331222                             & 5                                      & 10                                     & 50                                    \\\\\n",
       "\t BME\\_erp\\_paa2\\_gap\\_005.csv       & 1                                      & 0.83333333                             & 0.18132793                             & 5                                      & 10                                     & 50                                    \\\\\n",
       "\t BME\\_euc\\_paa2\\_dist.csv          & 3                                    & 0.83333333                           & 0.19342949                           & 5                                    & 10                                   & 50                                  \\\\\n",
       "\t BME\\_erp\\_diff\\_gap\\_005.csv       & 1                                      & 0.83333333                             & 0.19342949                             & 5                                      & 10                                     & 50                                    \\\\\n",
       "\t BME\\_euc\\_paa\\_dist.csv           & 3                                    & 0.82000000                           & 0.18082702                           & 5                                    & 10                                   & 50                                  \\\\\n",
       "\t BME\\_euc\\_raw\\_dist.csv           & 3                                    & 0.81333333                           & 0.19237152                           & 5                                    & 10                                   & 50                                  \\\\\n",
       "\t BME\\_erp\\_paa2\\_gap\\_005.csv       & 3                                      & 0.80666667                             & 0.20303815                             & 5                                      & 10                                     & 50                                    \\\\\n",
       "\t BME\\_euc\\_diff2\\_dist.csv         & 1                                    & 0.80666667                           & 0.17931591                           & 5                                    & 10                                   & 50                                  \\\\\n",
       "\t BME\\_erp\\_paa\\_gap\\_005.csv        & 1                                      & 0.80000000                             & 0.17817416                             & 5                                      & 10                                     & 50                                    \\\\\n",
       "\t BME\\_erp\\_paa\\_gap\\_005.csv        & 3                                      & 0.80000000                             & 0.20203051                             & 5                                      & 10                                     & 50                                    \\\\\n",
       "\t BME\\_erp\\_paa\\_gap\\_005.csv        & 5                                      & 0.80000000                             & 0.20203051                             & 5                                      & 10                                     & 50                                    \\\\\n",
       "\t BME\\_erp\\_raw\\_gap\\_005.csv        & 5                                      & 0.80000000                             & 0.20203051                             & 5                                      & 10                                     & 50                                    \\\\\n",
       "\t BME\\_dtw\\_paa2\\_dist.csv          & 3                                    & 0.80000000                           & 0.22335313                           & 5                                    & 10                                   & 50                                  \\\\\n",
       "\t BME\\_erp\\_diff\\_gap\\_005.csv       & 3                                      & 0.80000000                             & 0.19047619                             & 5                                      & 10                                     & 50                                    \\\\\n",
       "\t BME\\_erp\\_diff2\\_gap\\_005.csv      & 1                                      & 0.80000000                             & 0.19047619                             & 5                                      & 10                                     & 50                                    \\\\\n",
       "\t BME\\_erp\\_diff2\\_gap\\_005.csv      & 3                                      & 0.80000000                             & 0.19047619                             & 5                                      & 10                                     & 50                                    \\\\\n",
       "\t BME\\_erp\\_diff2\\_gap\\_005.csv      & 5                                      & 0.80000000                             & 0.17817416                             & 5                                      & 10                                     & 50                                    \\\\\n",
       "\t BME\\_erp\\_diff\\_gap\\_005.csv       & 5                                      & 0.79333333                             & 0.20079208                             & 5                                      & 10                                     & 50                                    \\\\\n",
       "\t BME\\_erp\\_raw\\_gap\\_005.csv        & 3                                      & 0.78666667                             & 0.19931857                             & 5                                      & 10                                     & 50                                    \\\\\n",
       "\t BME\\_dtw\\_raw\\_dist.csv           & 1                                    & 0.78000000                           & 0.19760470                           & 5                                    & 10                                   & 50                                  \\\\\n",
       "\t BME\\_dtw\\_raw\\_dist.csv           & 5                                    & 0.77333333                           & 0.20691010                           & 5                                    & 10                                   & 50                                  \\\\\n",
       "\t BME\\_euc\\_diff\\_dist.csv          & 1                                    & 0.77333333                           & 0.18368859                           & 5                                    & 10                                   & 50                                  \\\\\n",
       "\t BME\\_euc\\_paa2\\_dist.csv          & 5                                    & 0.77333333                           & 0.21759352                           & 5                                    & 10                                   & 50                                  \\\\\n",
       "\t BME\\_erp\\_raw\\_gap\\_005.csv        & 1                                      & 0.76666667                             & 0.16835876                             & 5                                      & 10                                     & 50                                    \\\\\n",
       "\t BME\\_dtw\\_paa\\_dist.csv           & 1                                    & 0.76666667                           & 0.20481727                           & 5                                    & 10                                   & 50                                  \\\\\n",
       "\t BME\\_dtw\\_paa\\_dist.csv           & 3                                    & 0.76666667                           & 0.21560441                           & 5                                    & 10                                   & 50                                  \\\\\n",
       "\t BME\\_dtw\\_paa2\\_dist.csv          & 5                                    & 0.76666667                           & 0.21560441                           & 5                                    & 10                                   & 50                                  \\\\\n",
       "\t BME\\_euc\\_diff\\_dist.csv          & 3                                    & 0.76000000                           & 0.19095179                           & 5                                    & 10                                   & 50                                  \\\\\n",
       "\t BME\\_euc\\_diff2\\_dist.csv         & 3                                    & 0.76000000                           & 0.19095179                           & 5                                    & 10                                   & 50                                  \\\\\n",
       "\t BME\\_dtw\\_paa\\_dist.csv           & 5                                    & 0.75333333                           & 0.22141577                           & 5                                    & 10                                   & 50                                  \\\\\n",
       "\t BME\\_dtw\\_raw\\_dist.csv           & 3                                    & 0.74666667                           & 0.20822106                           & 5                                    & 10                                   & 50                                  \\\\\n",
       "\t BME\\_euc\\_paa\\_dist.csv           & 5                                    & 0.74000000                           & 0.23608677                           & 5                                    & 10                                   & 50                                  \\\\\n",
       "\t BME\\_euc\\_raw\\_dist.csv           & 5                                    & 0.74000000                           & 0.23608677                           & 5                                    & 10                                   & 50                                  \\\\\n",
       "\t BME\\_euc\\_diff2\\_dist.csv         & 5                                    & 0.66666667                           & 0.25197632                           & 5                                    & 10                                   & 50                                  \\\\\n",
       "\t BME\\_euc\\_diff\\_dist.csv          & 5                                    & 0.64666667                           & 0.24660966                           & 5                                    & 10                                   & 50                                  \\\\\n",
       "\t BME\\_lcss\\_paa2\\_epsilon\\_005.csv  & 5                                      & 0.28000000                             & 0.18269834                             & 5                                      & 10                                     & 50                                    \\\\\n",
       "\t BME\\_lcss\\_paa2\\_epsilon\\_005.csv  & 3                                      & 0.20666667                             & 0.16343812                             & 5                                      & 10                                     & 50                                    \\\\\n",
       "\t BME\\_lcss\\_paa\\_epsilon\\_005.csv   & 1                                      & 0.17333333                             & 0.16822402                             & 5                                      & 10                                     & 50                                    \\\\\n",
       "\t BME\\_lcss\\_paa2\\_epsilon\\_005.csv  & 1                                      & 0.15333333                             & 0.16781914                             & 5                                      & 10                                     & 50                                    \\\\\n",
       "\t BME\\_lcss\\_raw\\_epsilon\\_005.csv   & 3                                      & 0.10000000                             & 0.15430335                             & 5                                      & 10                                     & 50                                    \\\\\n",
       "\t BME\\_lcss\\_raw\\_epsilon\\_005.csv   & 1                                      & 0.08000000                             & 0.14380637                             & 5                                      & 10                                     & 50                                    \\\\\n",
       "\t BME\\_lcss\\_paa\\_epsilon\\_005.csv   & 3                                      & 0.07333333                             & 0.13948399                             & 5                                      & 10                                     & 50                                    \\\\\n",
       "\t BME\\_lcss\\_raw\\_epsilon\\_005.csv   & 5                                      & 0.06000000                             & 0.12936264                             & 5                                      & 10                                     & 50                                    \\\\\n",
       "\t BME\\_lcss\\_paa\\_epsilon\\_005.csv   & 5                                      & 0.02666667                             & 0.09134917                             & 5                                      & 10                                     & 50                                    \\\\\n",
       "\t BME\\_lcss\\_diff\\_epsilon\\_005.csv  & 1                                      & 0.01333333                             & 0.06598289                             & 5                                      & 10                                     & 50                                    \\\\\n",
       "\t BME\\_lcss\\_diff\\_epsilon\\_005.csv  & 3                                      & 0.00000000                             & 0.00000000                             & 5                                      & 10                                     & 50                                    \\\\\n",
       "\t BME\\_lcss\\_diff\\_epsilon\\_005.csv  & 5                                      & 0.00000000                             & 0.00000000                             & 5                                      & 10                                     & 50                                    \\\\\n",
       "\t BME\\_lcss\\_diff2\\_epsilon\\_005.csv & 1                                      & 0.00000000                             & 0.00000000                             & 5                                      & 10                                     & 50                                    \\\\\n",
       "\t BME\\_lcss\\_diff2\\_epsilon\\_005.csv & 3                                      & 0.00000000                             & 0.00000000                             & 5                                      & 10                                     & 50                                    \\\\\n",
       "\t BME\\_lcss\\_diff2\\_epsilon\\_005.csv & 5                                      & 0.00000000                             & 0.00000000                             & 5                                      & 10                                     & 50                                    \\\\\n",
       "\\end{tabular}\n"
      ],
      "text/markdown": [
       "\n",
       "| approach | k | avg_acc | sdev_acc | repid | foldid | result_count |\n",
       "|---|---|---|---|---|---|---|\n",
       "| BME_dtw_diff2_dist.csv         | 1                              | 1.00000000                     | 0.00000000                     | 5                              | 10                             | 50                             |\n",
       "| BME_dtw_diff2_dist.csv         | 3                              | 1.00000000                     | 0.00000000                     | 5                              | 10                             | 50                             |\n",
       "| BME_dtw_diff2_dist.csv         | 5                              | 0.96666667                     | 0.10101525                     | 5                              | 10                             | 50                             |\n",
       "| BME_dtw_diff_dist.csv          | 1                              | 0.94000000                     | 0.12936264                     | 5                              | 10                             | 50                             |\n",
       "| BME_dtw_diff_dist.csv          | 5                              | 0.94000000                     | 0.12936264                     | 5                              | 10                             | 50                             |\n",
       "| BME_dtw_diff_dist.csv          | 3                              | 0.93333333                     | 0.13468701                     | 5                              | 10                             | 50                             |\n",
       "| BME_euc_paa_dist.csv           | 1                              | 0.90000000                     | 0.15430335                     | 5                              | 10                             | 50                             |\n",
       "| BME_euc_paa2_dist.csv          | 1                              | 0.90000000                     | 0.15430335                     | 5                              | 10                             | 50                             |\n",
       "| BME_euc_raw_dist.csv           | 1                              | 0.87333333                     | 0.16343812                     | 5                              | 10                             | 50                             |\n",
       "| BME_dtw_paa2_dist.csv          | 1                              | 0.87333333                     | 0.16343812                     | 5                              | 10                             | 50                             |\n",
       "| BME_erp_paa2_gap_005.csv       | 5                              | 0.84000000                     | 0.19331222                     | 5                              | 10                             | 50                             |\n",
       "| BME_erp_paa2_gap_005.csv       | 1                              | 0.83333333                     | 0.18132793                     | 5                              | 10                             | 50                             |\n",
       "| BME_euc_paa2_dist.csv          | 3                              | 0.83333333                     | 0.19342949                     | 5                              | 10                             | 50                             |\n",
       "| BME_erp_diff_gap_005.csv       | 1                              | 0.83333333                     | 0.19342949                     | 5                              | 10                             | 50                             |\n",
       "| BME_euc_paa_dist.csv           | 3                              | 0.82000000                     | 0.18082702                     | 5                              | 10                             | 50                             |\n",
       "| BME_euc_raw_dist.csv           | 3                              | 0.81333333                     | 0.19237152                     | 5                              | 10                             | 50                             |\n",
       "| BME_erp_paa2_gap_005.csv       | 3                              | 0.80666667                     | 0.20303815                     | 5                              | 10                             | 50                             |\n",
       "| BME_euc_diff2_dist.csv         | 1                              | 0.80666667                     | 0.17931591                     | 5                              | 10                             | 50                             |\n",
       "| BME_erp_paa_gap_005.csv        | 1                              | 0.80000000                     | 0.17817416                     | 5                              | 10                             | 50                             |\n",
       "| BME_erp_paa_gap_005.csv        | 3                              | 0.80000000                     | 0.20203051                     | 5                              | 10                             | 50                             |\n",
       "| BME_erp_paa_gap_005.csv        | 5                              | 0.80000000                     | 0.20203051                     | 5                              | 10                             | 50                             |\n",
       "| BME_erp_raw_gap_005.csv        | 5                              | 0.80000000                     | 0.20203051                     | 5                              | 10                             | 50                             |\n",
       "| BME_dtw_paa2_dist.csv          | 3                              | 0.80000000                     | 0.22335313                     | 5                              | 10                             | 50                             |\n",
       "| BME_erp_diff_gap_005.csv       | 3                              | 0.80000000                     | 0.19047619                     | 5                              | 10                             | 50                             |\n",
       "| BME_erp_diff2_gap_005.csv      | 1                              | 0.80000000                     | 0.19047619                     | 5                              | 10                             | 50                             |\n",
       "| BME_erp_diff2_gap_005.csv      | 3                              | 0.80000000                     | 0.19047619                     | 5                              | 10                             | 50                             |\n",
       "| BME_erp_diff2_gap_005.csv      | 5                              | 0.80000000                     | 0.17817416                     | 5                              | 10                             | 50                             |\n",
       "| BME_erp_diff_gap_005.csv       | 5                              | 0.79333333                     | 0.20079208                     | 5                              | 10                             | 50                             |\n",
       "| BME_erp_raw_gap_005.csv        | 3                              | 0.78666667                     | 0.19931857                     | 5                              | 10                             | 50                             |\n",
       "| BME_dtw_raw_dist.csv           | 1                              | 0.78000000                     | 0.19760470                     | 5                              | 10                             | 50                             |\n",
       "| BME_dtw_raw_dist.csv           | 5                              | 0.77333333                     | 0.20691010                     | 5                              | 10                             | 50                             |\n",
       "| BME_euc_diff_dist.csv          | 1                              | 0.77333333                     | 0.18368859                     | 5                              | 10                             | 50                             |\n",
       "| BME_euc_paa2_dist.csv          | 5                              | 0.77333333                     | 0.21759352                     | 5                              | 10                             | 50                             |\n",
       "| BME_erp_raw_gap_005.csv        | 1                              | 0.76666667                     | 0.16835876                     | 5                              | 10                             | 50                             |\n",
       "| BME_dtw_paa_dist.csv           | 1                              | 0.76666667                     | 0.20481727                     | 5                              | 10                             | 50                             |\n",
       "| BME_dtw_paa_dist.csv           | 3                              | 0.76666667                     | 0.21560441                     | 5                              | 10                             | 50                             |\n",
       "| BME_dtw_paa2_dist.csv          | 5                              | 0.76666667                     | 0.21560441                     | 5                              | 10                             | 50                             |\n",
       "| BME_euc_diff_dist.csv          | 3                              | 0.76000000                     | 0.19095179                     | 5                              | 10                             | 50                             |\n",
       "| BME_euc_diff2_dist.csv         | 3                              | 0.76000000                     | 0.19095179                     | 5                              | 10                             | 50                             |\n",
       "| BME_dtw_paa_dist.csv           | 5                              | 0.75333333                     | 0.22141577                     | 5                              | 10                             | 50                             |\n",
       "| BME_dtw_raw_dist.csv           | 3                              | 0.74666667                     | 0.20822106                     | 5                              | 10                             | 50                             |\n",
       "| BME_euc_paa_dist.csv           | 5                              | 0.74000000                     | 0.23608677                     | 5                              | 10                             | 50                             |\n",
       "| BME_euc_raw_dist.csv           | 5                              | 0.74000000                     | 0.23608677                     | 5                              | 10                             | 50                             |\n",
       "| BME_euc_diff2_dist.csv         | 5                              | 0.66666667                     | 0.25197632                     | 5                              | 10                             | 50                             |\n",
       "| BME_euc_diff_dist.csv          | 5                              | 0.64666667                     | 0.24660966                     | 5                              | 10                             | 50                             |\n",
       "| BME_lcss_paa2_epsilon_005.csv  | 5                              | 0.28000000                     | 0.18269834                     | 5                              | 10                             | 50                             |\n",
       "| BME_lcss_paa2_epsilon_005.csv  | 3                              | 0.20666667                     | 0.16343812                     | 5                              | 10                             | 50                             |\n",
       "| BME_lcss_paa_epsilon_005.csv   | 1                              | 0.17333333                     | 0.16822402                     | 5                              | 10                             | 50                             |\n",
       "| BME_lcss_paa2_epsilon_005.csv  | 1                              | 0.15333333                     | 0.16781914                     | 5                              | 10                             | 50                             |\n",
       "| BME_lcss_raw_epsilon_005.csv   | 3                              | 0.10000000                     | 0.15430335                     | 5                              | 10                             | 50                             |\n",
       "| BME_lcss_raw_epsilon_005.csv   | 1                              | 0.08000000                     | 0.14380637                     | 5                              | 10                             | 50                             |\n",
       "| BME_lcss_paa_epsilon_005.csv   | 3                              | 0.07333333                     | 0.13948399                     | 5                              | 10                             | 50                             |\n",
       "| BME_lcss_raw_epsilon_005.csv   | 5                              | 0.06000000                     | 0.12936264                     | 5                              | 10                             | 50                             |\n",
       "| BME_lcss_paa_epsilon_005.csv   | 5                              | 0.02666667                     | 0.09134917                     | 5                              | 10                             | 50                             |\n",
       "| BME_lcss_diff_epsilon_005.csv  | 1                              | 0.01333333                     | 0.06598289                     | 5                              | 10                             | 50                             |\n",
       "| BME_lcss_diff_epsilon_005.csv  | 3                              | 0.00000000                     | 0.00000000                     | 5                              | 10                             | 50                             |\n",
       "| BME_lcss_diff_epsilon_005.csv  | 5                              | 0.00000000                     | 0.00000000                     | 5                              | 10                             | 50                             |\n",
       "| BME_lcss_diff2_epsilon_005.csv | 1                              | 0.00000000                     | 0.00000000                     | 5                              | 10                             | 50                             |\n",
       "| BME_lcss_diff2_epsilon_005.csv | 3                              | 0.00000000                     | 0.00000000                     | 5                              | 10                             | 50                             |\n",
       "| BME_lcss_diff2_epsilon_005.csv | 5                              | 0.00000000                     | 0.00000000                     | 5                              | 10                             | 50                             |\n",
       "\n"
      ],
      "text/plain": [
       "   approach                       k avg_acc    sdev_acc   repid foldid\n",
       "1  BME_dtw_diff2_dist.csv         1 1.00000000 0.00000000 5     10    \n",
       "2  BME_dtw_diff2_dist.csv         3 1.00000000 0.00000000 5     10    \n",
       "3  BME_dtw_diff2_dist.csv         5 0.96666667 0.10101525 5     10    \n",
       "4  BME_dtw_diff_dist.csv          1 0.94000000 0.12936264 5     10    \n",
       "5  BME_dtw_diff_dist.csv          5 0.94000000 0.12936264 5     10    \n",
       "6  BME_dtw_diff_dist.csv          3 0.93333333 0.13468701 5     10    \n",
       "7  BME_euc_paa_dist.csv           1 0.90000000 0.15430335 5     10    \n",
       "8  BME_euc_paa2_dist.csv          1 0.90000000 0.15430335 5     10    \n",
       "9  BME_euc_raw_dist.csv           1 0.87333333 0.16343812 5     10    \n",
       "10 BME_dtw_paa2_dist.csv          1 0.87333333 0.16343812 5     10    \n",
       "11 BME_erp_paa2_gap_005.csv       5 0.84000000 0.19331222 5     10    \n",
       "12 BME_erp_paa2_gap_005.csv       1 0.83333333 0.18132793 5     10    \n",
       "13 BME_euc_paa2_dist.csv          3 0.83333333 0.19342949 5     10    \n",
       "14 BME_erp_diff_gap_005.csv       1 0.83333333 0.19342949 5     10    \n",
       "15 BME_euc_paa_dist.csv           3 0.82000000 0.18082702 5     10    \n",
       "16 BME_euc_raw_dist.csv           3 0.81333333 0.19237152 5     10    \n",
       "17 BME_erp_paa2_gap_005.csv       3 0.80666667 0.20303815 5     10    \n",
       "18 BME_euc_diff2_dist.csv         1 0.80666667 0.17931591 5     10    \n",
       "19 BME_erp_paa_gap_005.csv        1 0.80000000 0.17817416 5     10    \n",
       "20 BME_erp_paa_gap_005.csv        3 0.80000000 0.20203051 5     10    \n",
       "21 BME_erp_paa_gap_005.csv        5 0.80000000 0.20203051 5     10    \n",
       "22 BME_erp_raw_gap_005.csv        5 0.80000000 0.20203051 5     10    \n",
       "23 BME_dtw_paa2_dist.csv          3 0.80000000 0.22335313 5     10    \n",
       "24 BME_erp_diff_gap_005.csv       3 0.80000000 0.19047619 5     10    \n",
       "25 BME_erp_diff2_gap_005.csv      1 0.80000000 0.19047619 5     10    \n",
       "26 BME_erp_diff2_gap_005.csv      3 0.80000000 0.19047619 5     10    \n",
       "27 BME_erp_diff2_gap_005.csv      5 0.80000000 0.17817416 5     10    \n",
       "28 BME_erp_diff_gap_005.csv       5 0.79333333 0.20079208 5     10    \n",
       "29 BME_erp_raw_gap_005.csv        3 0.78666667 0.19931857 5     10    \n",
       "30 BME_dtw_raw_dist.csv           1 0.78000000 0.19760470 5     10    \n",
       "31 BME_dtw_raw_dist.csv           5 0.77333333 0.20691010 5     10    \n",
       "32 BME_euc_diff_dist.csv          1 0.77333333 0.18368859 5     10    \n",
       "33 BME_euc_paa2_dist.csv          5 0.77333333 0.21759352 5     10    \n",
       "34 BME_erp_raw_gap_005.csv        1 0.76666667 0.16835876 5     10    \n",
       "35 BME_dtw_paa_dist.csv           1 0.76666667 0.20481727 5     10    \n",
       "36 BME_dtw_paa_dist.csv           3 0.76666667 0.21560441 5     10    \n",
       "37 BME_dtw_paa2_dist.csv          5 0.76666667 0.21560441 5     10    \n",
       "38 BME_euc_diff_dist.csv          3 0.76000000 0.19095179 5     10    \n",
       "39 BME_euc_diff2_dist.csv         3 0.76000000 0.19095179 5     10    \n",
       "40 BME_dtw_paa_dist.csv           5 0.75333333 0.22141577 5     10    \n",
       "41 BME_dtw_raw_dist.csv           3 0.74666667 0.20822106 5     10    \n",
       "42 BME_euc_paa_dist.csv           5 0.74000000 0.23608677 5     10    \n",
       "43 BME_euc_raw_dist.csv           5 0.74000000 0.23608677 5     10    \n",
       "44 BME_euc_diff2_dist.csv         5 0.66666667 0.25197632 5     10    \n",
       "45 BME_euc_diff_dist.csv          5 0.64666667 0.24660966 5     10    \n",
       "46 BME_lcss_paa2_epsilon_005.csv  5 0.28000000 0.18269834 5     10    \n",
       "47 BME_lcss_paa2_epsilon_005.csv  3 0.20666667 0.16343812 5     10    \n",
       "48 BME_lcss_paa_epsilon_005.csv   1 0.17333333 0.16822402 5     10    \n",
       "49 BME_lcss_paa2_epsilon_005.csv  1 0.15333333 0.16781914 5     10    \n",
       "50 BME_lcss_raw_epsilon_005.csv   3 0.10000000 0.15430335 5     10    \n",
       "51 BME_lcss_raw_epsilon_005.csv   1 0.08000000 0.14380637 5     10    \n",
       "52 BME_lcss_paa_epsilon_005.csv   3 0.07333333 0.13948399 5     10    \n",
       "53 BME_lcss_raw_epsilon_005.csv   5 0.06000000 0.12936264 5     10    \n",
       "54 BME_lcss_paa_epsilon_005.csv   5 0.02666667 0.09134917 5     10    \n",
       "55 BME_lcss_diff_epsilon_005.csv  1 0.01333333 0.06598289 5     10    \n",
       "56 BME_lcss_diff_epsilon_005.csv  3 0.00000000 0.00000000 5     10    \n",
       "57 BME_lcss_diff_epsilon_005.csv  5 0.00000000 0.00000000 5     10    \n",
       "58 BME_lcss_diff2_epsilon_005.csv 1 0.00000000 0.00000000 5     10    \n",
       "59 BME_lcss_diff2_epsilon_005.csv 3 0.00000000 0.00000000 5     10    \n",
       "60 BME_lcss_diff2_epsilon_005.csv 5 0.00000000 0.00000000 5     10    \n",
       "   result_count\n",
       "1  50          \n",
       "2  50          \n",
       "3  50          \n",
       "4  50          \n",
       "5  50          \n",
       "6  50          \n",
       "7  50          \n",
       "8  50          \n",
       "9  50          \n",
       "10 50          \n",
       "11 50          \n",
       "12 50          \n",
       "13 50          \n",
       "14 50          \n",
       "15 50          \n",
       "16 50          \n",
       "17 50          \n",
       "18 50          \n",
       "19 50          \n",
       "20 50          \n",
       "21 50          \n",
       "22 50          \n",
       "23 50          \n",
       "24 50          \n",
       "25 50          \n",
       "26 50          \n",
       "27 50          \n",
       "28 50          \n",
       "29 50          \n",
       "30 50          \n",
       "31 50          \n",
       "32 50          \n",
       "33 50          \n",
       "34 50          \n",
       "35 50          \n",
       "36 50          \n",
       "37 50          \n",
       "38 50          \n",
       "39 50          \n",
       "40 50          \n",
       "41 50          \n",
       "42 50          \n",
       "43 50          \n",
       "44 50          \n",
       "45 50          \n",
       "46 50          \n",
       "47 50          \n",
       "48 50          \n",
       "49 50          \n",
       "50 50          \n",
       "51 50          \n",
       "52 50          \n",
       "53 50          \n",
       "54 50          \n",
       "55 50          \n",
       "56 50          \n",
       "57 50          \n",
       "58 50          \n",
       "59 50          \n",
       "60 50          "
      ]
     },
     "metadata": {},
     "output_type": "display_data"
    }
   ],
   "source": [
    "acc_res_ordered"
   ]
  },
  {
   "cell_type": "markdown",
   "metadata": {},
   "source": [
    "## Best Result and Parameter Combination"
   ]
  },
  {
   "cell_type": "code",
   "execution_count": 54,
   "metadata": {},
   "outputs": [
    {
     "data": {
      "text/html": [
       "<table>\n",
       "<thead><tr><th scope=col>approach</th><th scope=col>k</th><th scope=col>avg_acc</th><th scope=col>sdev_acc</th><th scope=col>repid</th><th scope=col>foldid</th><th scope=col>result_count</th></tr></thead>\n",
       "<tbody>\n",
       "\t<tr><td>BME_dtw_diff2_dist.csv</td><td>1                     </td><td>1                     </td><td>0                     </td><td>5                     </td><td>10                    </td><td>50                    </td></tr>\n",
       "</tbody>\n",
       "</table>\n"
      ],
      "text/latex": [
       "\\begin{tabular}{r|lllllll}\n",
       " approach & k & avg\\_acc & sdev\\_acc & repid & foldid & result\\_count\\\\\n",
       "\\hline\n",
       "\t BME\\_dtw\\_diff2\\_dist.csv & 1                            & 1                            & 0                            & 5                            & 10                           & 50                          \\\\\n",
       "\\end{tabular}\n"
      ],
      "text/markdown": [
       "\n",
       "| approach | k | avg_acc | sdev_acc | repid | foldid | result_count |\n",
       "|---|---|---|---|---|---|---|\n",
       "| BME_dtw_diff2_dist.csv | 1                      | 1                      | 0                      | 5                      | 10                     | 50                     |\n",
       "\n"
      ],
      "text/plain": [
       "  approach               k avg_acc sdev_acc repid foldid result_count\n",
       "1 BME_dtw_diff2_dist.csv 1 1       0        5     10     50          "
      ]
     },
     "metadata": {},
     "output_type": "display_data"
    }
   ],
   "source": [
    "acc_res_ordered[1]"
   ]
  },
  {
   "cell_type": "markdown",
   "metadata": {},
   "source": [
    "Result is obtained by considering mean and standard deviation of the accuracy over the test folds. There are 2 different models obtaining the full accuracy. The only difference in these models are the k values. K is selected as 1 to have simple model."
   ]
  },
  {
   "cell_type": "markdown",
   "metadata": {},
   "source": [
    "### Best Parameter Combination"
   ]
  },
  {
   "cell_type": "markdown",
   "metadata": {},
   "source": [
    "- Representation: 2 Difference Taken Data\n",
    "- Distance: Dynamic Time Wrapping with epsilon 0.05\n",
    "- K value of NN: 1\n",
    "\n",
    "**Average Accuracy: 1.00 based on 5 repeats and 10-fold cross validation**"
   ]
  },
  {
   "cell_type": "markdown",
   "metadata": {},
   "source": [
    "### Train Result"
   ]
  },
  {
   "cell_type": "code",
   "execution_count": 52,
   "metadata": {
    "scrolled": true
   },
   "outputs": [
    {
     "data": {
      "text/html": [
       "<table>\n",
       "<thead><tr><th scope=col>approach</th><th scope=col>k</th><th scope=col>avg_acc</th></tr></thead>\n",
       "<tbody>\n",
       "\t<tr><td>BME_dtw_diff2_dist.csv</td><td>1                     </td><td>1                     </td></tr>\n",
       "</tbody>\n",
       "</table>\n"
      ],
      "text/latex": [
       "\\begin{tabular}{r|lll}\n",
       " approach & k & avg\\_acc\\\\\n",
       "\\hline\n",
       "\t BME\\_dtw\\_diff2\\_dist.csv & 1                            & 1                           \\\\\n",
       "\\end{tabular}\n"
      ],
      "text/markdown": [
       "\n",
       "| approach | k | avg_acc |\n",
       "|---|---|---|\n",
       "| BME_dtw_diff2_dist.csv | 1                      | 1                      |\n",
       "\n"
      ],
      "text/plain": [
       "  approach               k avg_acc\n",
       "1 BME_dtw_diff2_dist.csv 1 1      "
      ]
     },
     "metadata": {},
     "output_type": "display_data"
    }
   ],
   "source": [
    "acc_res_ordered[1][,c(\"approach\", \"k\", \"avg_acc\")]"
   ]
  },
  {
   "cell_type": "markdown",
   "metadata": {},
   "source": [
    "### Test Result"
   ]
  },
  {
   "cell_type": "code",
   "execution_count": 51,
   "metadata": {},
   "outputs": [
    {
     "data": {
      "text/html": [
       "<table>\n",
       "<thead><tr><th scope=col>approach</th><th scope=col>k</th><th scope=col>acc</th></tr></thead>\n",
       "<tbody>\n",
       "\t<tr><td>BME_dtw_diff2_dist_Test.csv</td><td>1                          </td><td>0.98                       </td></tr>\n",
       "</tbody>\n",
       "</table>\n"
      ],
      "text/latex": [
       "\\begin{tabular}{r|lll}\n",
       " approach & k & acc\\\\\n",
       "\\hline\n",
       "\t BME\\_dtw\\_diff2\\_dist\\_Test.csv & 1                                   & 0.98                               \\\\\n",
       "\\end{tabular}\n"
      ],
      "text/markdown": [
       "\n",
       "| approach | k | acc |\n",
       "|---|---|---|\n",
       "| BME_dtw_diff2_dist_Test.csv | 1                           | 0.98                        |\n",
       "\n"
      ],
      "text/plain": [
       "  approach                    k acc \n",
       "1 BME_dtw_diff2_dist_Test.csv 1 0.98"
      ]
     },
     "metadata": {},
     "output_type": "display_data"
    }
   ],
   "source": [
    "final_res"
   ]
  },
  {
   "cell_type": "code",
   "execution_count": null,
   "metadata": {},
   "outputs": [],
   "source": []
  },
  {
   "cell_type": "code",
   "execution_count": null,
   "metadata": {},
   "outputs": [],
   "source": []
  },
  {
   "cell_type": "code",
   "execution_count": null,
   "metadata": {},
   "outputs": [],
   "source": []
  },
  {
   "cell_type": "markdown",
   "metadata": {},
   "source": [
    "## Fourth Dataset"
   ]
  },
  {
   "cell_type": "markdown",
   "metadata": {},
   "source": [
    "Obtained results for mean and standard deviation of the accuracy over the test folds for each alternative parameter combination."
   ]
  },
  {
   "cell_type": "code",
   "execution_count": 40,
   "metadata": {},
   "outputs": [
    {
     "data": {
      "text/html": [
       "<table>\n",
       "<thead><tr><th scope=col>approach</th><th scope=col>k</th><th scope=col>avg_acc</th><th scope=col>sdev_acc</th><th scope=col>repid</th><th scope=col>foldid</th><th scope=col>result_count</th></tr></thead>\n",
       "<tbody>\n",
       "\t<tr><td>BME_dtw_diff2_dist.csv        </td><td>1                             </td><td>1.00000000                    </td><td>0.00000000                    </td><td>5                             </td><td>10                            </td><td>50                            </td></tr>\n",
       "\t<tr><td>BME_dtw_diff2_dist.csv        </td><td>3                             </td><td>1.00000000                    </td><td>0.00000000                    </td><td>5                             </td><td>10                            </td><td>50                            </td></tr>\n",
       "\t<tr><td>BME_dtw_diff2_dist.csv        </td><td>5                             </td><td>0.96666667                    </td><td>0.10101525                    </td><td>5                             </td><td>10                            </td><td>50                            </td></tr>\n",
       "\t<tr><td>BME_dtw_diff_dist.csv         </td><td>1                             </td><td>0.94000000                    </td><td>0.12936264                    </td><td>5                             </td><td>10                            </td><td>50                            </td></tr>\n",
       "\t<tr><td>BME_dtw_diff_dist.csv         </td><td>5                             </td><td>0.94000000                    </td><td>0.12936264                    </td><td>5                             </td><td>10                            </td><td>50                            </td></tr>\n",
       "\t<tr><td>BME_dtw_diff_dist.csv         </td><td>3                             </td><td>0.93333333                    </td><td>0.13468701                    </td><td>5                             </td><td>10                            </td><td>50                            </td></tr>\n",
       "\t<tr><td>BME_euc_paa_dist.csv          </td><td>1                             </td><td>0.90000000                    </td><td>0.15430335                    </td><td>5                             </td><td>10                            </td><td>50                            </td></tr>\n",
       "\t<tr><td>BME_euc_paa2_dist.csv         </td><td>1                             </td><td>0.90000000                    </td><td>0.15430335                    </td><td>5                             </td><td>10                            </td><td>50                            </td></tr>\n",
       "\t<tr><td>BME_euc_raw_dist.csv          </td><td>1                             </td><td>0.87333333                    </td><td>0.16343812                    </td><td>5                             </td><td>10                            </td><td>50                            </td></tr>\n",
       "\t<tr><td>BME_dtw_paa2_dist.csv         </td><td>1                             </td><td>0.87333333                    </td><td>0.16343812                    </td><td>5                             </td><td>10                            </td><td>50                            </td></tr>\n",
       "\t<tr><td>BME_erp_paa2_gap_005.csv      </td><td>5                             </td><td>0.84000000                    </td><td>0.19331222                    </td><td>5                             </td><td>10                            </td><td>50                            </td></tr>\n",
       "\t<tr><td>BME_erp_paa2_gap_005.csv      </td><td>1                             </td><td>0.83333333                    </td><td>0.18132793                    </td><td>5                             </td><td>10                            </td><td>50                            </td></tr>\n",
       "\t<tr><td>BME_euc_paa2_dist.csv         </td><td>3                             </td><td>0.83333333                    </td><td>0.19342949                    </td><td>5                             </td><td>10                            </td><td>50                            </td></tr>\n",
       "\t<tr><td>BME_erp_diff_gap_005.csv      </td><td>1                             </td><td>0.83333333                    </td><td>0.19342949                    </td><td>5                             </td><td>10                            </td><td>50                            </td></tr>\n",
       "\t<tr><td>BME_euc_paa_dist.csv          </td><td>3                             </td><td>0.82000000                    </td><td>0.18082702                    </td><td>5                             </td><td>10                            </td><td>50                            </td></tr>\n",
       "\t<tr><td>BME_euc_raw_dist.csv          </td><td>3                             </td><td>0.81333333                    </td><td>0.19237152                    </td><td>5                             </td><td>10                            </td><td>50                            </td></tr>\n",
       "\t<tr><td>BME_erp_paa2_gap_005.csv      </td><td>3                             </td><td>0.80666667                    </td><td>0.20303815                    </td><td>5                             </td><td>10                            </td><td>50                            </td></tr>\n",
       "\t<tr><td>BME_euc_diff2_dist.csv        </td><td>1                             </td><td>0.80666667                    </td><td>0.17931591                    </td><td>5                             </td><td>10                            </td><td>50                            </td></tr>\n",
       "\t<tr><td>BME_erp_paa_gap_005.csv       </td><td>1                             </td><td>0.80000000                    </td><td>0.17817416                    </td><td>5                             </td><td>10                            </td><td>50                            </td></tr>\n",
       "\t<tr><td>BME_erp_paa_gap_005.csv       </td><td>3                             </td><td>0.80000000                    </td><td>0.20203051                    </td><td>5                             </td><td>10                            </td><td>50                            </td></tr>\n",
       "\t<tr><td>BME_erp_paa_gap_005.csv       </td><td>5                             </td><td>0.80000000                    </td><td>0.20203051                    </td><td>5                             </td><td>10                            </td><td>50                            </td></tr>\n",
       "\t<tr><td>BME_erp_raw_gap_005.csv       </td><td>5                             </td><td>0.80000000                    </td><td>0.20203051                    </td><td>5                             </td><td>10                            </td><td>50                            </td></tr>\n",
       "\t<tr><td>BME_dtw_paa2_dist.csv         </td><td>3                             </td><td>0.80000000                    </td><td>0.22335313                    </td><td>5                             </td><td>10                            </td><td>50                            </td></tr>\n",
       "\t<tr><td>BME_erp_diff_gap_005.csv      </td><td>3                             </td><td>0.80000000                    </td><td>0.19047619                    </td><td>5                             </td><td>10                            </td><td>50                            </td></tr>\n",
       "\t<tr><td>BME_erp_diff2_gap_005.csv     </td><td>1                             </td><td>0.80000000                    </td><td>0.19047619                    </td><td>5                             </td><td>10                            </td><td>50                            </td></tr>\n",
       "\t<tr><td>BME_erp_diff2_gap_005.csv     </td><td>3                             </td><td>0.80000000                    </td><td>0.19047619                    </td><td>5                             </td><td>10                            </td><td>50                            </td></tr>\n",
       "\t<tr><td>BME_erp_diff2_gap_005.csv     </td><td>5                             </td><td>0.80000000                    </td><td>0.17817416                    </td><td>5                             </td><td>10                            </td><td>50                            </td></tr>\n",
       "\t<tr><td>BME_erp_diff_gap_005.csv      </td><td>5                             </td><td>0.79333333                    </td><td>0.20079208                    </td><td>5                             </td><td>10                            </td><td>50                            </td></tr>\n",
       "\t<tr><td>BME_erp_raw_gap_005.csv       </td><td>3                             </td><td>0.78666667                    </td><td>0.19931857                    </td><td>5                             </td><td>10                            </td><td>50                            </td></tr>\n",
       "\t<tr><td>BME_dtw_raw_dist.csv          </td><td>1                             </td><td>0.78000000                    </td><td>0.19760470                    </td><td>5                             </td><td>10                            </td><td>50                            </td></tr>\n",
       "\t<tr><td>BME_dtw_raw_dist.csv          </td><td>5                             </td><td>0.77333333                    </td><td>0.20691010                    </td><td>5                             </td><td>10                            </td><td>50                            </td></tr>\n",
       "\t<tr><td>BME_euc_diff_dist.csv         </td><td>1                             </td><td>0.77333333                    </td><td>0.18368859                    </td><td>5                             </td><td>10                            </td><td>50                            </td></tr>\n",
       "\t<tr><td>BME_euc_paa2_dist.csv         </td><td>5                             </td><td>0.77333333                    </td><td>0.21759352                    </td><td>5                             </td><td>10                            </td><td>50                            </td></tr>\n",
       "\t<tr><td>BME_erp_raw_gap_005.csv       </td><td>1                             </td><td>0.76666667                    </td><td>0.16835876                    </td><td>5                             </td><td>10                            </td><td>50                            </td></tr>\n",
       "\t<tr><td>BME_dtw_paa_dist.csv          </td><td>1                             </td><td>0.76666667                    </td><td>0.20481727                    </td><td>5                             </td><td>10                            </td><td>50                            </td></tr>\n",
       "\t<tr><td>BME_dtw_paa_dist.csv          </td><td>3                             </td><td>0.76666667                    </td><td>0.21560441                    </td><td>5                             </td><td>10                            </td><td>50                            </td></tr>\n",
       "\t<tr><td>BME_dtw_paa2_dist.csv         </td><td>5                             </td><td>0.76666667                    </td><td>0.21560441                    </td><td>5                             </td><td>10                            </td><td>50                            </td></tr>\n",
       "\t<tr><td>BME_euc_diff_dist.csv         </td><td>3                             </td><td>0.76000000                    </td><td>0.19095179                    </td><td>5                             </td><td>10                            </td><td>50                            </td></tr>\n",
       "\t<tr><td>BME_euc_diff2_dist.csv        </td><td>3                             </td><td>0.76000000                    </td><td>0.19095179                    </td><td>5                             </td><td>10                            </td><td>50                            </td></tr>\n",
       "\t<tr><td>BME_dtw_paa_dist.csv          </td><td>5                             </td><td>0.75333333                    </td><td>0.22141577                    </td><td>5                             </td><td>10                            </td><td>50                            </td></tr>\n",
       "\t<tr><td>BME_dtw_raw_dist.csv          </td><td>3                             </td><td>0.74666667                    </td><td>0.20822106                    </td><td>5                             </td><td>10                            </td><td>50                            </td></tr>\n",
       "\t<tr><td>BME_euc_paa_dist.csv          </td><td>5                             </td><td>0.74000000                    </td><td>0.23608677                    </td><td>5                             </td><td>10                            </td><td>50                            </td></tr>\n",
       "\t<tr><td>BME_euc_raw_dist.csv          </td><td>5                             </td><td>0.74000000                    </td><td>0.23608677                    </td><td>5                             </td><td>10                            </td><td>50                            </td></tr>\n",
       "\t<tr><td>BME_euc_diff2_dist.csv        </td><td>5                             </td><td>0.66666667                    </td><td>0.25197632                    </td><td>5                             </td><td>10                            </td><td>50                            </td></tr>\n",
       "\t<tr><td>BME_euc_diff_dist.csv         </td><td>5                             </td><td>0.64666667                    </td><td>0.24660966                    </td><td>5                             </td><td>10                            </td><td>50                            </td></tr>\n",
       "\t<tr><td>BME_lcss_paa2_epsilon_005.csv </td><td>5                             </td><td>0.28000000                    </td><td>0.18269834                    </td><td>5                             </td><td>10                            </td><td>50                            </td></tr>\n",
       "\t<tr><td>BME_lcss_paa2_epsilon_005.csv </td><td>3                             </td><td>0.20666667                    </td><td>0.16343812                    </td><td>5                             </td><td>10                            </td><td>50                            </td></tr>\n",
       "\t<tr><td>BME_lcss_paa_epsilon_005.csv  </td><td>1                             </td><td>0.17333333                    </td><td>0.16822402                    </td><td>5                             </td><td>10                            </td><td>50                            </td></tr>\n",
       "\t<tr><td>BME_lcss_paa2_epsilon_005.csv </td><td>1                             </td><td>0.15333333                    </td><td>0.16781914                    </td><td>5                             </td><td>10                            </td><td>50                            </td></tr>\n",
       "\t<tr><td>BME_lcss_raw_epsilon_005.csv  </td><td>3                             </td><td>0.10000000                    </td><td>0.15430335                    </td><td>5                             </td><td>10                            </td><td>50                            </td></tr>\n",
       "\t<tr><td>BME_lcss_raw_epsilon_005.csv  </td><td>1                             </td><td>0.08000000                    </td><td>0.14380637                    </td><td>5                             </td><td>10                            </td><td>50                            </td></tr>\n",
       "\t<tr><td>BME_lcss_paa_epsilon_005.csv  </td><td>3                             </td><td>0.07333333                    </td><td>0.13948399                    </td><td>5                             </td><td>10                            </td><td>50                            </td></tr>\n",
       "\t<tr><td>BME_lcss_raw_epsilon_005.csv  </td><td>5                             </td><td>0.06000000                    </td><td>0.12936264                    </td><td>5                             </td><td>10                            </td><td>50                            </td></tr>\n",
       "\t<tr><td>BME_lcss_paa_epsilon_005.csv  </td><td>5                             </td><td>0.02666667                    </td><td>0.09134917                    </td><td>5                             </td><td>10                            </td><td>50                            </td></tr>\n",
       "\t<tr><td>BME_lcss_diff_epsilon_005.csv </td><td>1                             </td><td>0.01333333                    </td><td>0.06598289                    </td><td>5                             </td><td>10                            </td><td>50                            </td></tr>\n",
       "\t<tr><td>BME_lcss_diff_epsilon_005.csv </td><td>3                             </td><td>0.00000000                    </td><td>0.00000000                    </td><td>5                             </td><td>10                            </td><td>50                            </td></tr>\n",
       "\t<tr><td>BME_lcss_diff_epsilon_005.csv </td><td>5                             </td><td>0.00000000                    </td><td>0.00000000                    </td><td>5                             </td><td>10                            </td><td>50                            </td></tr>\n",
       "\t<tr><td>BME_lcss_diff2_epsilon_005.csv</td><td>1                             </td><td>0.00000000                    </td><td>0.00000000                    </td><td>5                             </td><td>10                            </td><td>50                            </td></tr>\n",
       "\t<tr><td>BME_lcss_diff2_epsilon_005.csv</td><td>3                             </td><td>0.00000000                    </td><td>0.00000000                    </td><td>5                             </td><td>10                            </td><td>50                            </td></tr>\n",
       "\t<tr><td>BME_lcss_diff2_epsilon_005.csv</td><td>5                             </td><td>0.00000000                    </td><td>0.00000000                    </td><td>5                             </td><td>10                            </td><td>50                            </td></tr>\n",
       "</tbody>\n",
       "</table>\n"
      ],
      "text/latex": [
       "\\begin{tabular}{r|lllllll}\n",
       " approach & k & avg\\_acc & sdev\\_acc & repid & foldid & result\\_count\\\\\n",
       "\\hline\n",
       "\t BME\\_dtw\\_diff2\\_dist.csv         & 1                                    & 1.00000000                           & 0.00000000                           & 5                                    & 10                                   & 50                                  \\\\\n",
       "\t BME\\_dtw\\_diff2\\_dist.csv         & 3                                    & 1.00000000                           & 0.00000000                           & 5                                    & 10                                   & 50                                  \\\\\n",
       "\t BME\\_dtw\\_diff2\\_dist.csv         & 5                                    & 0.96666667                           & 0.10101525                           & 5                                    & 10                                   & 50                                  \\\\\n",
       "\t BME\\_dtw\\_diff\\_dist.csv          & 1                                    & 0.94000000                           & 0.12936264                           & 5                                    & 10                                   & 50                                  \\\\\n",
       "\t BME\\_dtw\\_diff\\_dist.csv          & 5                                    & 0.94000000                           & 0.12936264                           & 5                                    & 10                                   & 50                                  \\\\\n",
       "\t BME\\_dtw\\_diff\\_dist.csv          & 3                                    & 0.93333333                           & 0.13468701                           & 5                                    & 10                                   & 50                                  \\\\\n",
       "\t BME\\_euc\\_paa\\_dist.csv           & 1                                    & 0.90000000                           & 0.15430335                           & 5                                    & 10                                   & 50                                  \\\\\n",
       "\t BME\\_euc\\_paa2\\_dist.csv          & 1                                    & 0.90000000                           & 0.15430335                           & 5                                    & 10                                   & 50                                  \\\\\n",
       "\t BME\\_euc\\_raw\\_dist.csv           & 1                                    & 0.87333333                           & 0.16343812                           & 5                                    & 10                                   & 50                                  \\\\\n",
       "\t BME\\_dtw\\_paa2\\_dist.csv          & 1                                    & 0.87333333                           & 0.16343812                           & 5                                    & 10                                   & 50                                  \\\\\n",
       "\t BME\\_erp\\_paa2\\_gap\\_005.csv       & 5                                      & 0.84000000                             & 0.19331222                             & 5                                      & 10                                     & 50                                    \\\\\n",
       "\t BME\\_erp\\_paa2\\_gap\\_005.csv       & 1                                      & 0.83333333                             & 0.18132793                             & 5                                      & 10                                     & 50                                    \\\\\n",
       "\t BME\\_euc\\_paa2\\_dist.csv          & 3                                    & 0.83333333                           & 0.19342949                           & 5                                    & 10                                   & 50                                  \\\\\n",
       "\t BME\\_erp\\_diff\\_gap\\_005.csv       & 1                                      & 0.83333333                             & 0.19342949                             & 5                                      & 10                                     & 50                                    \\\\\n",
       "\t BME\\_euc\\_paa\\_dist.csv           & 3                                    & 0.82000000                           & 0.18082702                           & 5                                    & 10                                   & 50                                  \\\\\n",
       "\t BME\\_euc\\_raw\\_dist.csv           & 3                                    & 0.81333333                           & 0.19237152                           & 5                                    & 10                                   & 50                                  \\\\\n",
       "\t BME\\_erp\\_paa2\\_gap\\_005.csv       & 3                                      & 0.80666667                             & 0.20303815                             & 5                                      & 10                                     & 50                                    \\\\\n",
       "\t BME\\_euc\\_diff2\\_dist.csv         & 1                                    & 0.80666667                           & 0.17931591                           & 5                                    & 10                                   & 50                                  \\\\\n",
       "\t BME\\_erp\\_paa\\_gap\\_005.csv        & 1                                      & 0.80000000                             & 0.17817416                             & 5                                      & 10                                     & 50                                    \\\\\n",
       "\t BME\\_erp\\_paa\\_gap\\_005.csv        & 3                                      & 0.80000000                             & 0.20203051                             & 5                                      & 10                                     & 50                                    \\\\\n",
       "\t BME\\_erp\\_paa\\_gap\\_005.csv        & 5                                      & 0.80000000                             & 0.20203051                             & 5                                      & 10                                     & 50                                    \\\\\n",
       "\t BME\\_erp\\_raw\\_gap\\_005.csv        & 5                                      & 0.80000000                             & 0.20203051                             & 5                                      & 10                                     & 50                                    \\\\\n",
       "\t BME\\_dtw\\_paa2\\_dist.csv          & 3                                    & 0.80000000                           & 0.22335313                           & 5                                    & 10                                   & 50                                  \\\\\n",
       "\t BME\\_erp\\_diff\\_gap\\_005.csv       & 3                                      & 0.80000000                             & 0.19047619                             & 5                                      & 10                                     & 50                                    \\\\\n",
       "\t BME\\_erp\\_diff2\\_gap\\_005.csv      & 1                                      & 0.80000000                             & 0.19047619                             & 5                                      & 10                                     & 50                                    \\\\\n",
       "\t BME\\_erp\\_diff2\\_gap\\_005.csv      & 3                                      & 0.80000000                             & 0.19047619                             & 5                                      & 10                                     & 50                                    \\\\\n",
       "\t BME\\_erp\\_diff2\\_gap\\_005.csv      & 5                                      & 0.80000000                             & 0.17817416                             & 5                                      & 10                                     & 50                                    \\\\\n",
       "\t BME\\_erp\\_diff\\_gap\\_005.csv       & 5                                      & 0.79333333                             & 0.20079208                             & 5                                      & 10                                     & 50                                    \\\\\n",
       "\t BME\\_erp\\_raw\\_gap\\_005.csv        & 3                                      & 0.78666667                             & 0.19931857                             & 5                                      & 10                                     & 50                                    \\\\\n",
       "\t BME\\_dtw\\_raw\\_dist.csv           & 1                                    & 0.78000000                           & 0.19760470                           & 5                                    & 10                                   & 50                                  \\\\\n",
       "\t BME\\_dtw\\_raw\\_dist.csv           & 5                                    & 0.77333333                           & 0.20691010                           & 5                                    & 10                                   & 50                                  \\\\\n",
       "\t BME\\_euc\\_diff\\_dist.csv          & 1                                    & 0.77333333                           & 0.18368859                           & 5                                    & 10                                   & 50                                  \\\\\n",
       "\t BME\\_euc\\_paa2\\_dist.csv          & 5                                    & 0.77333333                           & 0.21759352                           & 5                                    & 10                                   & 50                                  \\\\\n",
       "\t BME\\_erp\\_raw\\_gap\\_005.csv        & 1                                      & 0.76666667                             & 0.16835876                             & 5                                      & 10                                     & 50                                    \\\\\n",
       "\t BME\\_dtw\\_paa\\_dist.csv           & 1                                    & 0.76666667                           & 0.20481727                           & 5                                    & 10                                   & 50                                  \\\\\n",
       "\t BME\\_dtw\\_paa\\_dist.csv           & 3                                    & 0.76666667                           & 0.21560441                           & 5                                    & 10                                   & 50                                  \\\\\n",
       "\t BME\\_dtw\\_paa2\\_dist.csv          & 5                                    & 0.76666667                           & 0.21560441                           & 5                                    & 10                                   & 50                                  \\\\\n",
       "\t BME\\_euc\\_diff\\_dist.csv          & 3                                    & 0.76000000                           & 0.19095179                           & 5                                    & 10                                   & 50                                  \\\\\n",
       "\t BME\\_euc\\_diff2\\_dist.csv         & 3                                    & 0.76000000                           & 0.19095179                           & 5                                    & 10                                   & 50                                  \\\\\n",
       "\t BME\\_dtw\\_paa\\_dist.csv           & 5                                    & 0.75333333                           & 0.22141577                           & 5                                    & 10                                   & 50                                  \\\\\n",
       "\t BME\\_dtw\\_raw\\_dist.csv           & 3                                    & 0.74666667                           & 0.20822106                           & 5                                    & 10                                   & 50                                  \\\\\n",
       "\t BME\\_euc\\_paa\\_dist.csv           & 5                                    & 0.74000000                           & 0.23608677                           & 5                                    & 10                                   & 50                                  \\\\\n",
       "\t BME\\_euc\\_raw\\_dist.csv           & 5                                    & 0.74000000                           & 0.23608677                           & 5                                    & 10                                   & 50                                  \\\\\n",
       "\t BME\\_euc\\_diff2\\_dist.csv         & 5                                    & 0.66666667                           & 0.25197632                           & 5                                    & 10                                   & 50                                  \\\\\n",
       "\t BME\\_euc\\_diff\\_dist.csv          & 5                                    & 0.64666667                           & 0.24660966                           & 5                                    & 10                                   & 50                                  \\\\\n",
       "\t BME\\_lcss\\_paa2\\_epsilon\\_005.csv  & 5                                      & 0.28000000                             & 0.18269834                             & 5                                      & 10                                     & 50                                    \\\\\n",
       "\t BME\\_lcss\\_paa2\\_epsilon\\_005.csv  & 3                                      & 0.20666667                             & 0.16343812                             & 5                                      & 10                                     & 50                                    \\\\\n",
       "\t BME\\_lcss\\_paa\\_epsilon\\_005.csv   & 1                                      & 0.17333333                             & 0.16822402                             & 5                                      & 10                                     & 50                                    \\\\\n",
       "\t BME\\_lcss\\_paa2\\_epsilon\\_005.csv  & 1                                      & 0.15333333                             & 0.16781914                             & 5                                      & 10                                     & 50                                    \\\\\n",
       "\t BME\\_lcss\\_raw\\_epsilon\\_005.csv   & 3                                      & 0.10000000                             & 0.15430335                             & 5                                      & 10                                     & 50                                    \\\\\n",
       "\t BME\\_lcss\\_raw\\_epsilon\\_005.csv   & 1                                      & 0.08000000                             & 0.14380637                             & 5                                      & 10                                     & 50                                    \\\\\n",
       "\t BME\\_lcss\\_paa\\_epsilon\\_005.csv   & 3                                      & 0.07333333                             & 0.13948399                             & 5                                      & 10                                     & 50                                    \\\\\n",
       "\t BME\\_lcss\\_raw\\_epsilon\\_005.csv   & 5                                      & 0.06000000                             & 0.12936264                             & 5                                      & 10                                     & 50                                    \\\\\n",
       "\t BME\\_lcss\\_paa\\_epsilon\\_005.csv   & 5                                      & 0.02666667                             & 0.09134917                             & 5                                      & 10                                     & 50                                    \\\\\n",
       "\t BME\\_lcss\\_diff\\_epsilon\\_005.csv  & 1                                      & 0.01333333                             & 0.06598289                             & 5                                      & 10                                     & 50                                    \\\\\n",
       "\t BME\\_lcss\\_diff\\_epsilon\\_005.csv  & 3                                      & 0.00000000                             & 0.00000000                             & 5                                      & 10                                     & 50                                    \\\\\n",
       "\t BME\\_lcss\\_diff\\_epsilon\\_005.csv  & 5                                      & 0.00000000                             & 0.00000000                             & 5                                      & 10                                     & 50                                    \\\\\n",
       "\t BME\\_lcss\\_diff2\\_epsilon\\_005.csv & 1                                      & 0.00000000                             & 0.00000000                             & 5                                      & 10                                     & 50                                    \\\\\n",
       "\t BME\\_lcss\\_diff2\\_epsilon\\_005.csv & 3                                      & 0.00000000                             & 0.00000000                             & 5                                      & 10                                     & 50                                    \\\\\n",
       "\t BME\\_lcss\\_diff2\\_epsilon\\_005.csv & 5                                      & 0.00000000                             & 0.00000000                             & 5                                      & 10                                     & 50                                    \\\\\n",
       "\\end{tabular}\n"
      ],
      "text/markdown": [
       "\n",
       "| approach | k | avg_acc | sdev_acc | repid | foldid | result_count |\n",
       "|---|---|---|---|---|---|---|\n",
       "| BME_dtw_diff2_dist.csv         | 1                              | 1.00000000                     | 0.00000000                     | 5                              | 10                             | 50                             |\n",
       "| BME_dtw_diff2_dist.csv         | 3                              | 1.00000000                     | 0.00000000                     | 5                              | 10                             | 50                             |\n",
       "| BME_dtw_diff2_dist.csv         | 5                              | 0.96666667                     | 0.10101525                     | 5                              | 10                             | 50                             |\n",
       "| BME_dtw_diff_dist.csv          | 1                              | 0.94000000                     | 0.12936264                     | 5                              | 10                             | 50                             |\n",
       "| BME_dtw_diff_dist.csv          | 5                              | 0.94000000                     | 0.12936264                     | 5                              | 10                             | 50                             |\n",
       "| BME_dtw_diff_dist.csv          | 3                              | 0.93333333                     | 0.13468701                     | 5                              | 10                             | 50                             |\n",
       "| BME_euc_paa_dist.csv           | 1                              | 0.90000000                     | 0.15430335                     | 5                              | 10                             | 50                             |\n",
       "| BME_euc_paa2_dist.csv          | 1                              | 0.90000000                     | 0.15430335                     | 5                              | 10                             | 50                             |\n",
       "| BME_euc_raw_dist.csv           | 1                              | 0.87333333                     | 0.16343812                     | 5                              | 10                             | 50                             |\n",
       "| BME_dtw_paa2_dist.csv          | 1                              | 0.87333333                     | 0.16343812                     | 5                              | 10                             | 50                             |\n",
       "| BME_erp_paa2_gap_005.csv       | 5                              | 0.84000000                     | 0.19331222                     | 5                              | 10                             | 50                             |\n",
       "| BME_erp_paa2_gap_005.csv       | 1                              | 0.83333333                     | 0.18132793                     | 5                              | 10                             | 50                             |\n",
       "| BME_euc_paa2_dist.csv          | 3                              | 0.83333333                     | 0.19342949                     | 5                              | 10                             | 50                             |\n",
       "| BME_erp_diff_gap_005.csv       | 1                              | 0.83333333                     | 0.19342949                     | 5                              | 10                             | 50                             |\n",
       "| BME_euc_paa_dist.csv           | 3                              | 0.82000000                     | 0.18082702                     | 5                              | 10                             | 50                             |\n",
       "| BME_euc_raw_dist.csv           | 3                              | 0.81333333                     | 0.19237152                     | 5                              | 10                             | 50                             |\n",
       "| BME_erp_paa2_gap_005.csv       | 3                              | 0.80666667                     | 0.20303815                     | 5                              | 10                             | 50                             |\n",
       "| BME_euc_diff2_dist.csv         | 1                              | 0.80666667                     | 0.17931591                     | 5                              | 10                             | 50                             |\n",
       "| BME_erp_paa_gap_005.csv        | 1                              | 0.80000000                     | 0.17817416                     | 5                              | 10                             | 50                             |\n",
       "| BME_erp_paa_gap_005.csv        | 3                              | 0.80000000                     | 0.20203051                     | 5                              | 10                             | 50                             |\n",
       "| BME_erp_paa_gap_005.csv        | 5                              | 0.80000000                     | 0.20203051                     | 5                              | 10                             | 50                             |\n",
       "| BME_erp_raw_gap_005.csv        | 5                              | 0.80000000                     | 0.20203051                     | 5                              | 10                             | 50                             |\n",
       "| BME_dtw_paa2_dist.csv          | 3                              | 0.80000000                     | 0.22335313                     | 5                              | 10                             | 50                             |\n",
       "| BME_erp_diff_gap_005.csv       | 3                              | 0.80000000                     | 0.19047619                     | 5                              | 10                             | 50                             |\n",
       "| BME_erp_diff2_gap_005.csv      | 1                              | 0.80000000                     | 0.19047619                     | 5                              | 10                             | 50                             |\n",
       "| BME_erp_diff2_gap_005.csv      | 3                              | 0.80000000                     | 0.19047619                     | 5                              | 10                             | 50                             |\n",
       "| BME_erp_diff2_gap_005.csv      | 5                              | 0.80000000                     | 0.17817416                     | 5                              | 10                             | 50                             |\n",
       "| BME_erp_diff_gap_005.csv       | 5                              | 0.79333333                     | 0.20079208                     | 5                              | 10                             | 50                             |\n",
       "| BME_erp_raw_gap_005.csv        | 3                              | 0.78666667                     | 0.19931857                     | 5                              | 10                             | 50                             |\n",
       "| BME_dtw_raw_dist.csv           | 1                              | 0.78000000                     | 0.19760470                     | 5                              | 10                             | 50                             |\n",
       "| BME_dtw_raw_dist.csv           | 5                              | 0.77333333                     | 0.20691010                     | 5                              | 10                             | 50                             |\n",
       "| BME_euc_diff_dist.csv          | 1                              | 0.77333333                     | 0.18368859                     | 5                              | 10                             | 50                             |\n",
       "| BME_euc_paa2_dist.csv          | 5                              | 0.77333333                     | 0.21759352                     | 5                              | 10                             | 50                             |\n",
       "| BME_erp_raw_gap_005.csv        | 1                              | 0.76666667                     | 0.16835876                     | 5                              | 10                             | 50                             |\n",
       "| BME_dtw_paa_dist.csv           | 1                              | 0.76666667                     | 0.20481727                     | 5                              | 10                             | 50                             |\n",
       "| BME_dtw_paa_dist.csv           | 3                              | 0.76666667                     | 0.21560441                     | 5                              | 10                             | 50                             |\n",
       "| BME_dtw_paa2_dist.csv          | 5                              | 0.76666667                     | 0.21560441                     | 5                              | 10                             | 50                             |\n",
       "| BME_euc_diff_dist.csv          | 3                              | 0.76000000                     | 0.19095179                     | 5                              | 10                             | 50                             |\n",
       "| BME_euc_diff2_dist.csv         | 3                              | 0.76000000                     | 0.19095179                     | 5                              | 10                             | 50                             |\n",
       "| BME_dtw_paa_dist.csv           | 5                              | 0.75333333                     | 0.22141577                     | 5                              | 10                             | 50                             |\n",
       "| BME_dtw_raw_dist.csv           | 3                              | 0.74666667                     | 0.20822106                     | 5                              | 10                             | 50                             |\n",
       "| BME_euc_paa_dist.csv           | 5                              | 0.74000000                     | 0.23608677                     | 5                              | 10                             | 50                             |\n",
       "| BME_euc_raw_dist.csv           | 5                              | 0.74000000                     | 0.23608677                     | 5                              | 10                             | 50                             |\n",
       "| BME_euc_diff2_dist.csv         | 5                              | 0.66666667                     | 0.25197632                     | 5                              | 10                             | 50                             |\n",
       "| BME_euc_diff_dist.csv          | 5                              | 0.64666667                     | 0.24660966                     | 5                              | 10                             | 50                             |\n",
       "| BME_lcss_paa2_epsilon_005.csv  | 5                              | 0.28000000                     | 0.18269834                     | 5                              | 10                             | 50                             |\n",
       "| BME_lcss_paa2_epsilon_005.csv  | 3                              | 0.20666667                     | 0.16343812                     | 5                              | 10                             | 50                             |\n",
       "| BME_lcss_paa_epsilon_005.csv   | 1                              | 0.17333333                     | 0.16822402                     | 5                              | 10                             | 50                             |\n",
       "| BME_lcss_paa2_epsilon_005.csv  | 1                              | 0.15333333                     | 0.16781914                     | 5                              | 10                             | 50                             |\n",
       "| BME_lcss_raw_epsilon_005.csv   | 3                              | 0.10000000                     | 0.15430335                     | 5                              | 10                             | 50                             |\n",
       "| BME_lcss_raw_epsilon_005.csv   | 1                              | 0.08000000                     | 0.14380637                     | 5                              | 10                             | 50                             |\n",
       "| BME_lcss_paa_epsilon_005.csv   | 3                              | 0.07333333                     | 0.13948399                     | 5                              | 10                             | 50                             |\n",
       "| BME_lcss_raw_epsilon_005.csv   | 5                              | 0.06000000                     | 0.12936264                     | 5                              | 10                             | 50                             |\n",
       "| BME_lcss_paa_epsilon_005.csv   | 5                              | 0.02666667                     | 0.09134917                     | 5                              | 10                             | 50                             |\n",
       "| BME_lcss_diff_epsilon_005.csv  | 1                              | 0.01333333                     | 0.06598289                     | 5                              | 10                             | 50                             |\n",
       "| BME_lcss_diff_epsilon_005.csv  | 3                              | 0.00000000                     | 0.00000000                     | 5                              | 10                             | 50                             |\n",
       "| BME_lcss_diff_epsilon_005.csv  | 5                              | 0.00000000                     | 0.00000000                     | 5                              | 10                             | 50                             |\n",
       "| BME_lcss_diff2_epsilon_005.csv | 1                              | 0.00000000                     | 0.00000000                     | 5                              | 10                             | 50                             |\n",
       "| BME_lcss_diff2_epsilon_005.csv | 3                              | 0.00000000                     | 0.00000000                     | 5                              | 10                             | 50                             |\n",
       "| BME_lcss_diff2_epsilon_005.csv | 5                              | 0.00000000                     | 0.00000000                     | 5                              | 10                             | 50                             |\n",
       "\n"
      ],
      "text/plain": [
       "   approach                       k avg_acc    sdev_acc   repid foldid\n",
       "1  BME_dtw_diff2_dist.csv         1 1.00000000 0.00000000 5     10    \n",
       "2  BME_dtw_diff2_dist.csv         3 1.00000000 0.00000000 5     10    \n",
       "3  BME_dtw_diff2_dist.csv         5 0.96666667 0.10101525 5     10    \n",
       "4  BME_dtw_diff_dist.csv          1 0.94000000 0.12936264 5     10    \n",
       "5  BME_dtw_diff_dist.csv          5 0.94000000 0.12936264 5     10    \n",
       "6  BME_dtw_diff_dist.csv          3 0.93333333 0.13468701 5     10    \n",
       "7  BME_euc_paa_dist.csv           1 0.90000000 0.15430335 5     10    \n",
       "8  BME_euc_paa2_dist.csv          1 0.90000000 0.15430335 5     10    \n",
       "9  BME_euc_raw_dist.csv           1 0.87333333 0.16343812 5     10    \n",
       "10 BME_dtw_paa2_dist.csv          1 0.87333333 0.16343812 5     10    \n",
       "11 BME_erp_paa2_gap_005.csv       5 0.84000000 0.19331222 5     10    \n",
       "12 BME_erp_paa2_gap_005.csv       1 0.83333333 0.18132793 5     10    \n",
       "13 BME_euc_paa2_dist.csv          3 0.83333333 0.19342949 5     10    \n",
       "14 BME_erp_diff_gap_005.csv       1 0.83333333 0.19342949 5     10    \n",
       "15 BME_euc_paa_dist.csv           3 0.82000000 0.18082702 5     10    \n",
       "16 BME_euc_raw_dist.csv           3 0.81333333 0.19237152 5     10    \n",
       "17 BME_erp_paa2_gap_005.csv       3 0.80666667 0.20303815 5     10    \n",
       "18 BME_euc_diff2_dist.csv         1 0.80666667 0.17931591 5     10    \n",
       "19 BME_erp_paa_gap_005.csv        1 0.80000000 0.17817416 5     10    \n",
       "20 BME_erp_paa_gap_005.csv        3 0.80000000 0.20203051 5     10    \n",
       "21 BME_erp_paa_gap_005.csv        5 0.80000000 0.20203051 5     10    \n",
       "22 BME_erp_raw_gap_005.csv        5 0.80000000 0.20203051 5     10    \n",
       "23 BME_dtw_paa2_dist.csv          3 0.80000000 0.22335313 5     10    \n",
       "24 BME_erp_diff_gap_005.csv       3 0.80000000 0.19047619 5     10    \n",
       "25 BME_erp_diff2_gap_005.csv      1 0.80000000 0.19047619 5     10    \n",
       "26 BME_erp_diff2_gap_005.csv      3 0.80000000 0.19047619 5     10    \n",
       "27 BME_erp_diff2_gap_005.csv      5 0.80000000 0.17817416 5     10    \n",
       "28 BME_erp_diff_gap_005.csv       5 0.79333333 0.20079208 5     10    \n",
       "29 BME_erp_raw_gap_005.csv        3 0.78666667 0.19931857 5     10    \n",
       "30 BME_dtw_raw_dist.csv           1 0.78000000 0.19760470 5     10    \n",
       "31 BME_dtw_raw_dist.csv           5 0.77333333 0.20691010 5     10    \n",
       "32 BME_euc_diff_dist.csv          1 0.77333333 0.18368859 5     10    \n",
       "33 BME_euc_paa2_dist.csv          5 0.77333333 0.21759352 5     10    \n",
       "34 BME_erp_raw_gap_005.csv        1 0.76666667 0.16835876 5     10    \n",
       "35 BME_dtw_paa_dist.csv           1 0.76666667 0.20481727 5     10    \n",
       "36 BME_dtw_paa_dist.csv           3 0.76666667 0.21560441 5     10    \n",
       "37 BME_dtw_paa2_dist.csv          5 0.76666667 0.21560441 5     10    \n",
       "38 BME_euc_diff_dist.csv          3 0.76000000 0.19095179 5     10    \n",
       "39 BME_euc_diff2_dist.csv         3 0.76000000 0.19095179 5     10    \n",
       "40 BME_dtw_paa_dist.csv           5 0.75333333 0.22141577 5     10    \n",
       "41 BME_dtw_raw_dist.csv           3 0.74666667 0.20822106 5     10    \n",
       "42 BME_euc_paa_dist.csv           5 0.74000000 0.23608677 5     10    \n",
       "43 BME_euc_raw_dist.csv           5 0.74000000 0.23608677 5     10    \n",
       "44 BME_euc_diff2_dist.csv         5 0.66666667 0.25197632 5     10    \n",
       "45 BME_euc_diff_dist.csv          5 0.64666667 0.24660966 5     10    \n",
       "46 BME_lcss_paa2_epsilon_005.csv  5 0.28000000 0.18269834 5     10    \n",
       "47 BME_lcss_paa2_epsilon_005.csv  3 0.20666667 0.16343812 5     10    \n",
       "48 BME_lcss_paa_epsilon_005.csv   1 0.17333333 0.16822402 5     10    \n",
       "49 BME_lcss_paa2_epsilon_005.csv  1 0.15333333 0.16781914 5     10    \n",
       "50 BME_lcss_raw_epsilon_005.csv   3 0.10000000 0.15430335 5     10    \n",
       "51 BME_lcss_raw_epsilon_005.csv   1 0.08000000 0.14380637 5     10    \n",
       "52 BME_lcss_paa_epsilon_005.csv   3 0.07333333 0.13948399 5     10    \n",
       "53 BME_lcss_raw_epsilon_005.csv   5 0.06000000 0.12936264 5     10    \n",
       "54 BME_lcss_paa_epsilon_005.csv   5 0.02666667 0.09134917 5     10    \n",
       "55 BME_lcss_diff_epsilon_005.csv  1 0.01333333 0.06598289 5     10    \n",
       "56 BME_lcss_diff_epsilon_005.csv  3 0.00000000 0.00000000 5     10    \n",
       "57 BME_lcss_diff_epsilon_005.csv  5 0.00000000 0.00000000 5     10    \n",
       "58 BME_lcss_diff2_epsilon_005.csv 1 0.00000000 0.00000000 5     10    \n",
       "59 BME_lcss_diff2_epsilon_005.csv 3 0.00000000 0.00000000 5     10    \n",
       "60 BME_lcss_diff2_epsilon_005.csv 5 0.00000000 0.00000000 5     10    \n",
       "   result_count\n",
       "1  50          \n",
       "2  50          \n",
       "3  50          \n",
       "4  50          \n",
       "5  50          \n",
       "6  50          \n",
       "7  50          \n",
       "8  50          \n",
       "9  50          \n",
       "10 50          \n",
       "11 50          \n",
       "12 50          \n",
       "13 50          \n",
       "14 50          \n",
       "15 50          \n",
       "16 50          \n",
       "17 50          \n",
       "18 50          \n",
       "19 50          \n",
       "20 50          \n",
       "21 50          \n",
       "22 50          \n",
       "23 50          \n",
       "24 50          \n",
       "25 50          \n",
       "26 50          \n",
       "27 50          \n",
       "28 50          \n",
       "29 50          \n",
       "30 50          \n",
       "31 50          \n",
       "32 50          \n",
       "33 50          \n",
       "34 50          \n",
       "35 50          \n",
       "36 50          \n",
       "37 50          \n",
       "38 50          \n",
       "39 50          \n",
       "40 50          \n",
       "41 50          \n",
       "42 50          \n",
       "43 50          \n",
       "44 50          \n",
       "45 50          \n",
       "46 50          \n",
       "47 50          \n",
       "48 50          \n",
       "49 50          \n",
       "50 50          \n",
       "51 50          \n",
       "52 50          \n",
       "53 50          \n",
       "54 50          \n",
       "55 50          \n",
       "56 50          \n",
       "57 50          \n",
       "58 50          \n",
       "59 50          \n",
       "60 50          "
      ]
     },
     "metadata": {},
     "output_type": "display_data"
    }
   ],
   "source": [
    "acc_res_ordered"
   ]
  },
  {
   "cell_type": "markdown",
   "metadata": {},
   "source": [
    "## Best Result and Parameter Combination"
   ]
  },
  {
   "cell_type": "code",
   "execution_count": 54,
   "metadata": {},
   "outputs": [
    {
     "data": {
      "text/html": [
       "<table>\n",
       "<thead><tr><th scope=col>approach</th><th scope=col>k</th><th scope=col>avg_acc</th><th scope=col>sdev_acc</th><th scope=col>repid</th><th scope=col>foldid</th><th scope=col>result_count</th></tr></thead>\n",
       "<tbody>\n",
       "\t<tr><td>BME_dtw_diff2_dist.csv</td><td>1                     </td><td>1                     </td><td>0                     </td><td>5                     </td><td>10                    </td><td>50                    </td></tr>\n",
       "</tbody>\n",
       "</table>\n"
      ],
      "text/latex": [
       "\\begin{tabular}{r|lllllll}\n",
       " approach & k & avg\\_acc & sdev\\_acc & repid & foldid & result\\_count\\\\\n",
       "\\hline\n",
       "\t BME\\_dtw\\_diff2\\_dist.csv & 1                            & 1                            & 0                            & 5                            & 10                           & 50                          \\\\\n",
       "\\end{tabular}\n"
      ],
      "text/markdown": [
       "\n",
       "| approach | k | avg_acc | sdev_acc | repid | foldid | result_count |\n",
       "|---|---|---|---|---|---|---|\n",
       "| BME_dtw_diff2_dist.csv | 1                      | 1                      | 0                      | 5                      | 10                     | 50                     |\n",
       "\n"
      ],
      "text/plain": [
       "  approach               k avg_acc sdev_acc repid foldid result_count\n",
       "1 BME_dtw_diff2_dist.csv 1 1       0        5     10     50          "
      ]
     },
     "metadata": {},
     "output_type": "display_data"
    }
   ],
   "source": [
    "acc_res_ordered[1]"
   ]
  },
  {
   "cell_type": "markdown",
   "metadata": {},
   "source": [
    "Result is obtained by considering mean and standard deviation of the accuracy over the test folds. There are 2 different models obtaining the full accuracy. The only difference in these models are the k values. K is selected as 1 to have simple model."
   ]
  },
  {
   "cell_type": "markdown",
   "metadata": {},
   "source": [
    "### Best Parameter Combination"
   ]
  },
  {
   "cell_type": "markdown",
   "metadata": {},
   "source": [
    "- Representation: 2 Difference Taken Data\n",
    "- Distance: Dynamic Time Wrapping with epsilon 0.05\n",
    "- K value of NN: 1\n",
    "\n",
    "**Average Accuracy: 1.00 based on 5 repeats and 10-fold cross validation**"
   ]
  },
  {
   "cell_type": "markdown",
   "metadata": {},
   "source": [
    "### Train Result"
   ]
  },
  {
   "cell_type": "code",
   "execution_count": 58,
   "metadata": {},
   "outputs": [
    {
     "data": {
      "text/html": [
       "<table>\n",
       "<thead><tr><th scope=col>approach</th><th scope=col>k</th><th scope=col>avg_acc</th></tr></thead>\n",
       "<tbody>\n",
       "\t<tr><td>Coffee_dtw_raw_dist.csv</td><td>3                      </td><td>1                      </td></tr>\n",
       "</tbody>\n",
       "</table>\n"
      ],
      "text/latex": [
       "\\begin{tabular}{r|lll}\n",
       " approach & k & avg\\_acc\\\\\n",
       "\\hline\n",
       "\t Coffee\\_dtw\\_raw\\_dist.csv & 3                             & 1                            \\\\\n",
       "\\end{tabular}\n"
      ],
      "text/markdown": [
       "\n",
       "| approach | k | avg_acc |\n",
       "|---|---|---|\n",
       "| Coffee_dtw_raw_dist.csv | 3                       | 1                       |\n",
       "\n"
      ],
      "text/plain": [
       "  approach                k avg_acc\n",
       "1 Coffee_dtw_raw_dist.csv 3 1      "
      ]
     },
     "metadata": {},
     "output_type": "display_data"
    }
   ],
   "source": [
    "acc_res_ordered[1][,c(\"approach\", \"k\", \"avg_acc\")]"
   ]
  },
  {
   "cell_type": "markdown",
   "metadata": {},
   "source": [
    "### Test Result"
   ]
  },
  {
   "cell_type": "code",
   "execution_count": 57,
   "metadata": {},
   "outputs": [
    {
     "data": {
      "text/html": [
       "<table>\n",
       "<thead><tr><th scope=col>approach</th><th scope=col>k</th><th scope=col>acc</th></tr></thead>\n",
       "<tbody>\n",
       "\t<tr><td>Coffee_erp_diff2_gap_005_Test.csv</td><td>3                                </td><td>0.9642857                        </td></tr>\n",
       "</tbody>\n",
       "</table>\n"
      ],
      "text/latex": [
       "\\begin{tabular}{r|lll}\n",
       " approach & k & acc\\\\\n",
       "\\hline\n",
       "\t Coffee\\_erp\\_diff2\\_gap\\_005\\_Test.csv & 3                                           & 0.9642857                                  \\\\\n",
       "\\end{tabular}\n"
      ],
      "text/markdown": [
       "\n",
       "| approach | k | acc |\n",
       "|---|---|---|\n",
       "| Coffee_erp_diff2_gap_005_Test.csv | 3                                 | 0.9642857                         |\n",
       "\n"
      ],
      "text/plain": [
       "  approach                          k acc      \n",
       "1 Coffee_erp_diff2_gap_005_Test.csv 3 0.9642857"
      ]
     },
     "metadata": {},
     "output_type": "display_data"
    }
   ],
   "source": [
    "final_res"
   ]
  },
  {
   "cell_type": "code",
   "execution_count": null,
   "metadata": {},
   "outputs": [],
   "source": []
  },
  {
   "cell_type": "code",
   "execution_count": null,
   "metadata": {},
   "outputs": [],
   "source": []
  },
  {
   "cell_type": "code",
   "execution_count": null,
   "metadata": {},
   "outputs": [],
   "source": []
  },
  {
   "cell_type": "markdown",
   "metadata": {},
   "source": [
    "## Fifth Dataset"
   ]
  },
  {
   "cell_type": "markdown",
   "metadata": {},
   "source": [
    "Obtained results for mean and standard deviation of the accuracy over the test folds for each alternative parameter combination."
   ]
  },
  {
   "cell_type": "code",
   "execution_count": 40,
   "metadata": {
    "scrolled": false
   },
   "outputs": [
    {
     "data": {
      "text/html": [
       "<table>\n",
       "<thead><tr><th scope=col>approach</th><th scope=col>k</th><th scope=col>avg_acc</th><th scope=col>sdev_acc</th><th scope=col>repid</th><th scope=col>foldid</th><th scope=col>result_count</th></tr></thead>\n",
       "<tbody>\n",
       "\t<tr><td>Wine_euc_paa_dist.csv          </td><td>1                              </td><td>1.0000000                      </td><td>0.00000000                     </td><td>5                              </td><td>10                             </td><td>50                             </td></tr>\n",
       "\t<tr><td>Wine_euc_paa2_dist.csv         </td><td>1                              </td><td>1.0000000                      </td><td>0.00000000                     </td><td>5                              </td><td>10                             </td><td>50                             </td></tr>\n",
       "\t<tr><td>Wine_euc_raw_dist.csv          </td><td>1                              </td><td>1.0000000                      </td><td>0.00000000                     </td><td>5                              </td><td>10                             </td><td>50                             </td></tr>\n",
       "\t<tr><td>Wine_dtw_paa2_dist.csv         </td><td>1                              </td><td>0.9960000                      </td><td>0.02828427                     </td><td>5                              </td><td>10                             </td><td>50                             </td></tr>\n",
       "\t<tr><td>Wine_erp_paa2_gap_005.csv      </td><td>1                              </td><td>0.9960000                      </td><td>0.02828427                     </td><td>5                              </td><td>10                             </td><td>50                             </td></tr>\n",
       "\t<tr><td>Wine_erp_raw_gap_005.csv       </td><td>1                              </td><td>0.9960000                      </td><td>0.02828427                     </td><td>5                              </td><td>10                             </td><td>50                             </td></tr>\n",
       "\t<tr><td>Wine_dtw_raw_dist.csv          </td><td>1                              </td><td>0.9920000                      </td><td>0.03958973                     </td><td>5                              </td><td>10                             </td><td>50                             </td></tr>\n",
       "\t<tr><td>Wine_dtw_paa_dist.csv          </td><td>1                              </td><td>0.9880000                      </td><td>0.06272714                     </td><td>5                              </td><td>10                             </td><td>50                             </td></tr>\n",
       "\t<tr><td>Wine_erp_paa_gap_005.csv       </td><td>1                              </td><td>0.9880000                      </td><td>0.06272714                     </td><td>5                              </td><td>10                             </td><td>50                             </td></tr>\n",
       "\t<tr><td>Wine_dtw_diff_dist.csv         </td><td>1                              </td><td>0.9853333                      </td><td>0.05046720                     </td><td>5                              </td><td>10                             </td><td>50                             </td></tr>\n",
       "\t<tr><td>Wine_dtw_diff2_dist.csv        </td><td>1                              </td><td>0.9853333                      </td><td>0.05046720                     </td><td>5                              </td><td>10                             </td><td>50                             </td></tr>\n",
       "\t<tr><td>Wine_erp_diff_gap_005.csv      </td><td>1                              </td><td>0.9853333                      </td><td>0.05046720                     </td><td>5                              </td><td>10                             </td><td>50                             </td></tr>\n",
       "\t<tr><td>Wine_erp_diff2_gap_005.csv     </td><td>1                              </td><td>0.9853333                      </td><td>0.05046720                     </td><td>5                              </td><td>10                             </td><td>50                             </td></tr>\n",
       "\t<tr><td>Wine_euc_diff_dist.csv         </td><td>1                              </td><td>0.9820000                      </td><td>0.05479709                     </td><td>5                              </td><td>10                             </td><td>50                             </td></tr>\n",
       "\t<tr><td>Wine_euc_diff2_dist.csv        </td><td>1                              </td><td>0.9820000                      </td><td>0.05479709                     </td><td>5                              </td><td>10                             </td><td>50                             </td></tr>\n",
       "\t<tr><td>Wine_euc_paa_dist.csv          </td><td>3                              </td><td>0.8786667                      </td><td>0.16032280                     </td><td>5                              </td><td>10                             </td><td>50                             </td></tr>\n",
       "\t<tr><td>Wine_euc_paa2_dist.csv         </td><td>3                              </td><td>0.8786667                      </td><td>0.16032280                     </td><td>5                              </td><td>10                             </td><td>50                             </td></tr>\n",
       "\t<tr><td>Wine_euc_diff2_dist.csv        </td><td>3                              </td><td>0.8760000                      </td><td>0.14222718                     </td><td>5                              </td><td>10                             </td><td>50                             </td></tr>\n",
       "\t<tr><td>Wine_euc_raw_dist.csv          </td><td>3                              </td><td>0.8753333                      </td><td>0.15947903                     </td><td>5                              </td><td>10                             </td><td>50                             </td></tr>\n",
       "\t<tr><td>Wine_euc_diff_dist.csv         </td><td>3                              </td><td>0.8726667                      </td><td>0.14517016                     </td><td>5                              </td><td>10                             </td><td>50                             </td></tr>\n",
       "\t<tr><td>Wine_dtw_diff2_dist.csv        </td><td>3                              </td><td>0.8660000                      </td><td>0.15437534                     </td><td>5                              </td><td>10                             </td><td>50                             </td></tr>\n",
       "\t<tr><td>Wine_erp_diff2_gap_005.csv     </td><td>3                              </td><td>0.8660000                      </td><td>0.15437534                     </td><td>5                              </td><td>10                             </td><td>50                             </td></tr>\n",
       "\t<tr><td>Wine_dtw_diff_dist.csv         </td><td>3                              </td><td>0.8620000                      </td><td>0.15865220                     </td><td>5                              </td><td>10                             </td><td>50                             </td></tr>\n",
       "\t<tr><td>Wine_erp_diff_gap_005.csv      </td><td>3                              </td><td>0.8620000                      </td><td>0.15865220                     </td><td>5                              </td><td>10                             </td><td>50                             </td></tr>\n",
       "\t<tr><td>Wine_erp_raw_gap_005.csv       </td><td>3                              </td><td>0.8526667                      </td><td>0.16715439                     </td><td>5                              </td><td>10                             </td><td>50                             </td></tr>\n",
       "\t<tr><td>Wine_dtw_paa_dist.csv          </td><td>3                              </td><td>0.8453333                      </td><td>0.15947192                     </td><td>5                              </td><td>10                             </td><td>50                             </td></tr>\n",
       "\t<tr><td>Wine_erp_paa_gap_005.csv       </td><td>3                              </td><td>0.8453333                      </td><td>0.15947192                     </td><td>5                              </td><td>10                             </td><td>50                             </td></tr>\n",
       "\t<tr><td>Wine_dtw_raw_dist.csv          </td><td>3                              </td><td>0.8426667                      </td><td>0.16288777                     </td><td>5                              </td><td>10                             </td><td>50                             </td></tr>\n",
       "\t<tr><td>Wine_dtw_paa2_dist.csv         </td><td>3                              </td><td>0.8380000                      </td><td>0.16495859                     </td><td>5                              </td><td>10                             </td><td>50                             </td></tr>\n",
       "\t<tr><td>Wine_erp_paa2_gap_005.csv      </td><td>3                              </td><td>0.8380000                      </td><td>0.16495859                     </td><td>5                              </td><td>10                             </td><td>50                             </td></tr>\n",
       "\t<tr><td>Wine_lcss_diff_epsilon_005.csv </td><td>5                              </td><td>0.6033333                      </td><td>0.17486632                     </td><td>5                              </td><td>10                             </td><td>50                             </td></tr>\n",
       "\t<tr><td>Wine_lcss_diff2_epsilon_005.csv</td><td>5                              </td><td>0.5860000                      </td><td>0.16275547                     </td><td>5                              </td><td>10                             </td><td>50                             </td></tr>\n",
       "\t<tr><td>Wine_lcss_diff2_epsilon_005.csv</td><td>3                              </td><td>0.5766667                      </td><td>0.16512896                     </td><td>5                              </td><td>10                             </td><td>50                             </td></tr>\n",
       "\t<tr><td>Wine_lcss_diff2_epsilon_005.csv</td><td>1                              </td><td>0.5586667                      </td><td>0.15944348                     </td><td>5                              </td><td>10                             </td><td>50                             </td></tr>\n",
       "\t<tr><td>Wine_lcss_diff_epsilon_005.csv </td><td>3                              </td><td>0.5426667                      </td><td>0.12599536                     </td><td>5                              </td><td>10                             </td><td>50                             </td></tr>\n",
       "\t<tr><td>Wine_dtw_diff2_dist.csv        </td><td>5                              </td><td>0.5366667                      </td><td>0.20517677                     </td><td>5                              </td><td>10                             </td><td>50                             </td></tr>\n",
       "\t<tr><td>Wine_erp_diff2_gap_005.csv     </td><td>5                              </td><td>0.5366667                      </td><td>0.20517677                     </td><td>5                              </td><td>10                             </td><td>50                             </td></tr>\n",
       "\t<tr><td>Wine_euc_diff_dist.csv         </td><td>5                              </td><td>0.5320000                      </td><td>0.21507368                     </td><td>5                              </td><td>10                             </td><td>50                             </td></tr>\n",
       "\t<tr><td>Wine_euc_diff2_dist.csv        </td><td>5                              </td><td>0.5273333                      </td><td>0.21641168                     </td><td>5                              </td><td>10                             </td><td>50                             </td></tr>\n",
       "\t<tr><td>Wine_dtw_paa_dist.csv          </td><td>5                              </td><td>0.5240000                      </td><td>0.19012348                     </td><td>5                              </td><td>10                             </td><td>50                             </td></tr>\n",
       "\t<tr><td>Wine_erp_paa_gap_005.csv       </td><td>5                              </td><td>0.5206667                      </td><td>0.19200458                     </td><td>5                              </td><td>10                             </td><td>50                             </td></tr>\n",
       "\t<tr><td>Wine_lcss_paa_epsilon_005.csv  </td><td>5                              </td><td>0.5153333                      </td><td>0.16081002                     </td><td>5                              </td><td>10                             </td><td>50                             </td></tr>\n",
       "\t<tr><td>Wine_euc_paa_dist.csv          </td><td>5                              </td><td>0.5093333                      </td><td>0.19436973                     </td><td>5                              </td><td>10                             </td><td>50                             </td></tr>\n",
       "\t<tr><td>Wine_erp_diff_gap_005.csv      </td><td>5                              </td><td>0.5080000                      </td><td>0.20969257                     </td><td>5                              </td><td>10                             </td><td>50                             </td></tr>\n",
       "\t<tr><td>Wine_euc_paa2_dist.csv         </td><td>5                              </td><td>0.5060000                      </td><td>0.19304106                     </td><td>5                              </td><td>10                             </td><td>50                             </td></tr>\n",
       "\t<tr><td>Wine_lcss_raw_epsilon_005.csv  </td><td>5                              </td><td>0.5026667                      </td><td>0.11425396                     </td><td>5                              </td><td>10                             </td><td>50                             </td></tr>\n",
       "\t<tr><td>Wine_erp_raw_gap_005.csv       </td><td>5                              </td><td>0.5000000                      </td><td>0.20470653                     </td><td>5                              </td><td>10                             </td><td>50                             </td></tr>\n",
       "\t<tr><td>Wine_euc_raw_dist.csv          </td><td>5                              </td><td>0.4940000                      </td><td>0.21984224                     </td><td>5                              </td><td>10                             </td><td>50                             </td></tr>\n",
       "\t<tr><td>Wine_dtw_diff_dist.csv         </td><td>5                              </td><td>0.4913333                      </td><td>0.19128519                     </td><td>5                              </td><td>10                             </td><td>50                             </td></tr>\n",
       "\t<tr><td>Wine_dtw_raw_dist.csv          </td><td>5                              </td><td>0.4886667                      </td><td>0.22723917                     </td><td>5                              </td><td>10                             </td><td>50                             </td></tr>\n",
       "\t<tr><td>Wine_lcss_raw_epsilon_005.csv  </td><td>3                              </td><td>0.4886667                      </td><td>0.10047732                     </td><td>5                              </td><td>10                             </td><td>50                             </td></tr>\n",
       "\t<tr><td>Wine_erp_paa2_gap_005.csv      </td><td>5                              </td><td>0.4866667                      </td><td>0.18207671                     </td><td>5                              </td><td>10                             </td><td>50                             </td></tr>\n",
       "\t<tr><td>Wine_dtw_paa2_dist.csv         </td><td>5                              </td><td>0.4833333                      </td><td>0.18334879                     </td><td>5                              </td><td>10                             </td><td>50                             </td></tr>\n",
       "\t<tr><td>Wine_lcss_paa_epsilon_005.csv  </td><td>3                              </td><td>0.4766667                      </td><td>0.19334154                     </td><td>5                              </td><td>10                             </td><td>50                             </td></tr>\n",
       "\t<tr><td>Wine_lcss_diff_epsilon_005.csv </td><td>1                              </td><td>0.4713333                      </td><td>0.16399353                     </td><td>5                              </td><td>10                             </td><td>50                             </td></tr>\n",
       "\t<tr><td>Wine_lcss_raw_epsilon_005.csv  </td><td>1                              </td><td>0.4666667                      </td><td>0.04994328                     </td><td>5                              </td><td>10                             </td><td>50                             </td></tr>\n",
       "\t<tr><td>Wine_lcss_paa_epsilon_005.csv  </td><td>1                              </td><td>0.4580000                      </td><td>0.20009182                     </td><td>5                              </td><td>10                             </td><td>50                             </td></tr>\n",
       "\t<tr><td>Wine_lcss_paa2_epsilon_005.csv </td><td>1                              </td><td>0.4486667                      </td><td>0.18433062                     </td><td>5                              </td><td>10                             </td><td>50                             </td></tr>\n",
       "\t<tr><td>Wine_lcss_paa2_epsilon_005.csv </td><td>5                              </td><td>0.4433333                      </td><td>0.15996740                     </td><td>5                              </td><td>10                             </td><td>50                             </td></tr>\n",
       "\t<tr><td>Wine_lcss_paa2_epsilon_005.csv </td><td>3                              </td><td>0.4020000                      </td><td>0.17898809                     </td><td>5                              </td><td>10                             </td><td>50                             </td></tr>\n",
       "</tbody>\n",
       "</table>\n"
      ],
      "text/latex": [
       "\\begin{tabular}{r|lllllll}\n",
       " approach & k & avg\\_acc & sdev\\_acc & repid & foldid & result\\_count\\\\\n",
       "\\hline\n",
       "\t Wine\\_euc\\_paa\\_dist.csv           & 1                                     & 1.0000000                             & 0.00000000                            & 5                                     & 10                                    & 50                                   \\\\\n",
       "\t Wine\\_euc\\_paa2\\_dist.csv          & 1                                     & 1.0000000                             & 0.00000000                            & 5                                     & 10                                    & 50                                   \\\\\n",
       "\t Wine\\_euc\\_raw\\_dist.csv           & 1                                     & 1.0000000                             & 0.00000000                            & 5                                     & 10                                    & 50                                   \\\\\n",
       "\t Wine\\_dtw\\_paa2\\_dist.csv          & 1                                     & 0.9960000                             & 0.02828427                            & 5                                     & 10                                    & 50                                   \\\\\n",
       "\t Wine\\_erp\\_paa2\\_gap\\_005.csv       & 1                                       & 0.9960000                               & 0.02828427                              & 5                                       & 10                                      & 50                                     \\\\\n",
       "\t Wine\\_erp\\_raw\\_gap\\_005.csv        & 1                                       & 0.9960000                               & 0.02828427                              & 5                                       & 10                                      & 50                                     \\\\\n",
       "\t Wine\\_dtw\\_raw\\_dist.csv           & 1                                     & 0.9920000                             & 0.03958973                            & 5                                     & 10                                    & 50                                   \\\\\n",
       "\t Wine\\_dtw\\_paa\\_dist.csv           & 1                                     & 0.9880000                             & 0.06272714                            & 5                                     & 10                                    & 50                                   \\\\\n",
       "\t Wine\\_erp\\_paa\\_gap\\_005.csv        & 1                                       & 0.9880000                               & 0.06272714                              & 5                                       & 10                                      & 50                                     \\\\\n",
       "\t Wine\\_dtw\\_diff\\_dist.csv          & 1                                     & 0.9853333                             & 0.05046720                            & 5                                     & 10                                    & 50                                   \\\\\n",
       "\t Wine\\_dtw\\_diff2\\_dist.csv         & 1                                     & 0.9853333                             & 0.05046720                            & 5                                     & 10                                    & 50                                   \\\\\n",
       "\t Wine\\_erp\\_diff\\_gap\\_005.csv       & 1                                       & 0.9853333                               & 0.05046720                              & 5                                       & 10                                      & 50                                     \\\\\n",
       "\t Wine\\_erp\\_diff2\\_gap\\_005.csv      & 1                                       & 0.9853333                               & 0.05046720                              & 5                                       & 10                                      & 50                                     \\\\\n",
       "\t Wine\\_euc\\_diff\\_dist.csv          & 1                                     & 0.9820000                             & 0.05479709                            & 5                                     & 10                                    & 50                                   \\\\\n",
       "\t Wine\\_euc\\_diff2\\_dist.csv         & 1                                     & 0.9820000                             & 0.05479709                            & 5                                     & 10                                    & 50                                   \\\\\n",
       "\t Wine\\_euc\\_paa\\_dist.csv           & 3                                     & 0.8786667                             & 0.16032280                            & 5                                     & 10                                    & 50                                   \\\\\n",
       "\t Wine\\_euc\\_paa2\\_dist.csv          & 3                                     & 0.8786667                             & 0.16032280                            & 5                                     & 10                                    & 50                                   \\\\\n",
       "\t Wine\\_euc\\_diff2\\_dist.csv         & 3                                     & 0.8760000                             & 0.14222718                            & 5                                     & 10                                    & 50                                   \\\\\n",
       "\t Wine\\_euc\\_raw\\_dist.csv           & 3                                     & 0.8753333                             & 0.15947903                            & 5                                     & 10                                    & 50                                   \\\\\n",
       "\t Wine\\_euc\\_diff\\_dist.csv          & 3                                     & 0.8726667                             & 0.14517016                            & 5                                     & 10                                    & 50                                   \\\\\n",
       "\t Wine\\_dtw\\_diff2\\_dist.csv         & 3                                     & 0.8660000                             & 0.15437534                            & 5                                     & 10                                    & 50                                   \\\\\n",
       "\t Wine\\_erp\\_diff2\\_gap\\_005.csv      & 3                                       & 0.8660000                               & 0.15437534                              & 5                                       & 10                                      & 50                                     \\\\\n",
       "\t Wine\\_dtw\\_diff\\_dist.csv          & 3                                     & 0.8620000                             & 0.15865220                            & 5                                     & 10                                    & 50                                   \\\\\n",
       "\t Wine\\_erp\\_diff\\_gap\\_005.csv       & 3                                       & 0.8620000                               & 0.15865220                              & 5                                       & 10                                      & 50                                     \\\\\n",
       "\t Wine\\_erp\\_raw\\_gap\\_005.csv        & 3                                       & 0.8526667                               & 0.16715439                              & 5                                       & 10                                      & 50                                     \\\\\n",
       "\t Wine\\_dtw\\_paa\\_dist.csv           & 3                                     & 0.8453333                             & 0.15947192                            & 5                                     & 10                                    & 50                                   \\\\\n",
       "\t Wine\\_erp\\_paa\\_gap\\_005.csv        & 3                                       & 0.8453333                               & 0.15947192                              & 5                                       & 10                                      & 50                                     \\\\\n",
       "\t Wine\\_dtw\\_raw\\_dist.csv           & 3                                     & 0.8426667                             & 0.16288777                            & 5                                     & 10                                    & 50                                   \\\\\n",
       "\t Wine\\_dtw\\_paa2\\_dist.csv          & 3                                     & 0.8380000                             & 0.16495859                            & 5                                     & 10                                    & 50                                   \\\\\n",
       "\t Wine\\_erp\\_paa2\\_gap\\_005.csv       & 3                                       & 0.8380000                               & 0.16495859                              & 5                                       & 10                                      & 50                                     \\\\\n",
       "\t Wine\\_lcss\\_diff\\_epsilon\\_005.csv  & 5                                       & 0.6033333                               & 0.17486632                              & 5                                       & 10                                      & 50                                     \\\\\n",
       "\t Wine\\_lcss\\_diff2\\_epsilon\\_005.csv & 5                                       & 0.5860000                               & 0.16275547                              & 5                                       & 10                                      & 50                                     \\\\\n",
       "\t Wine\\_lcss\\_diff2\\_epsilon\\_005.csv & 3                                       & 0.5766667                               & 0.16512896                              & 5                                       & 10                                      & 50                                     \\\\\n",
       "\t Wine\\_lcss\\_diff2\\_epsilon\\_005.csv & 1                                       & 0.5586667                               & 0.15944348                              & 5                                       & 10                                      & 50                                     \\\\\n",
       "\t Wine\\_lcss\\_diff\\_epsilon\\_005.csv  & 3                                       & 0.5426667                               & 0.12599536                              & 5                                       & 10                                      & 50                                     \\\\\n",
       "\t Wine\\_dtw\\_diff2\\_dist.csv         & 5                                     & 0.5366667                             & 0.20517677                            & 5                                     & 10                                    & 50                                   \\\\\n",
       "\t Wine\\_erp\\_diff2\\_gap\\_005.csv      & 5                                       & 0.5366667                               & 0.20517677                              & 5                                       & 10                                      & 50                                     \\\\\n",
       "\t Wine\\_euc\\_diff\\_dist.csv          & 5                                     & 0.5320000                             & 0.21507368                            & 5                                     & 10                                    & 50                                   \\\\\n",
       "\t Wine\\_euc\\_diff2\\_dist.csv         & 5                                     & 0.5273333                             & 0.21641168                            & 5                                     & 10                                    & 50                                   \\\\\n",
       "\t Wine\\_dtw\\_paa\\_dist.csv           & 5                                     & 0.5240000                             & 0.19012348                            & 5                                     & 10                                    & 50                                   \\\\\n",
       "\t Wine\\_erp\\_paa\\_gap\\_005.csv        & 5                                       & 0.5206667                               & 0.19200458                              & 5                                       & 10                                      & 50                                     \\\\\n",
       "\t Wine\\_lcss\\_paa\\_epsilon\\_005.csv   & 5                                       & 0.5153333                               & 0.16081002                              & 5                                       & 10                                      & 50                                     \\\\\n",
       "\t Wine\\_euc\\_paa\\_dist.csv           & 5                                     & 0.5093333                             & 0.19436973                            & 5                                     & 10                                    & 50                                   \\\\\n",
       "\t Wine\\_erp\\_diff\\_gap\\_005.csv       & 5                                       & 0.5080000                               & 0.20969257                              & 5                                       & 10                                      & 50                                     \\\\\n",
       "\t Wine\\_euc\\_paa2\\_dist.csv          & 5                                     & 0.5060000                             & 0.19304106                            & 5                                     & 10                                    & 50                                   \\\\\n",
       "\t Wine\\_lcss\\_raw\\_epsilon\\_005.csv   & 5                                       & 0.5026667                               & 0.11425396                              & 5                                       & 10                                      & 50                                     \\\\\n",
       "\t Wine\\_erp\\_raw\\_gap\\_005.csv        & 5                                       & 0.5000000                               & 0.20470653                              & 5                                       & 10                                      & 50                                     \\\\\n",
       "\t Wine\\_euc\\_raw\\_dist.csv           & 5                                     & 0.4940000                             & 0.21984224                            & 5                                     & 10                                    & 50                                   \\\\\n",
       "\t Wine\\_dtw\\_diff\\_dist.csv          & 5                                     & 0.4913333                             & 0.19128519                            & 5                                     & 10                                    & 50                                   \\\\\n",
       "\t Wine\\_dtw\\_raw\\_dist.csv           & 5                                     & 0.4886667                             & 0.22723917                            & 5                                     & 10                                    & 50                                   \\\\\n",
       "\t Wine\\_lcss\\_raw\\_epsilon\\_005.csv   & 3                                       & 0.4886667                               & 0.10047732                              & 5                                       & 10                                      & 50                                     \\\\\n",
       "\t Wine\\_erp\\_paa2\\_gap\\_005.csv       & 5                                       & 0.4866667                               & 0.18207671                              & 5                                       & 10                                      & 50                                     \\\\\n",
       "\t Wine\\_dtw\\_paa2\\_dist.csv          & 5                                     & 0.4833333                             & 0.18334879                            & 5                                     & 10                                    & 50                                   \\\\\n",
       "\t Wine\\_lcss\\_paa\\_epsilon\\_005.csv   & 3                                       & 0.4766667                               & 0.19334154                              & 5                                       & 10                                      & 50                                     \\\\\n",
       "\t Wine\\_lcss\\_diff\\_epsilon\\_005.csv  & 1                                       & 0.4713333                               & 0.16399353                              & 5                                       & 10                                      & 50                                     \\\\\n",
       "\t Wine\\_lcss\\_raw\\_epsilon\\_005.csv   & 1                                       & 0.4666667                               & 0.04994328                              & 5                                       & 10                                      & 50                                     \\\\\n",
       "\t Wine\\_lcss\\_paa\\_epsilon\\_005.csv   & 1                                       & 0.4580000                               & 0.20009182                              & 5                                       & 10                                      & 50                                     \\\\\n",
       "\t Wine\\_lcss\\_paa2\\_epsilon\\_005.csv  & 1                                       & 0.4486667                               & 0.18433062                              & 5                                       & 10                                      & 50                                     \\\\\n",
       "\t Wine\\_lcss\\_paa2\\_epsilon\\_005.csv  & 5                                       & 0.4433333                               & 0.15996740                              & 5                                       & 10                                      & 50                                     \\\\\n",
       "\t Wine\\_lcss\\_paa2\\_epsilon\\_005.csv  & 3                                       & 0.4020000                               & 0.17898809                              & 5                                       & 10                                      & 50                                     \\\\\n",
       "\\end{tabular}\n"
      ],
      "text/markdown": [
       "\n",
       "| approach | k | avg_acc | sdev_acc | repid | foldid | result_count |\n",
       "|---|---|---|---|---|---|---|\n",
       "| Wine_euc_paa_dist.csv           | 1                               | 1.0000000                       | 0.00000000                      | 5                               | 10                              | 50                              |\n",
       "| Wine_euc_paa2_dist.csv          | 1                               | 1.0000000                       | 0.00000000                      | 5                               | 10                              | 50                              |\n",
       "| Wine_euc_raw_dist.csv           | 1                               | 1.0000000                       | 0.00000000                      | 5                               | 10                              | 50                              |\n",
       "| Wine_dtw_paa2_dist.csv          | 1                               | 0.9960000                       | 0.02828427                      | 5                               | 10                              | 50                              |\n",
       "| Wine_erp_paa2_gap_005.csv       | 1                               | 0.9960000                       | 0.02828427                      | 5                               | 10                              | 50                              |\n",
       "| Wine_erp_raw_gap_005.csv        | 1                               | 0.9960000                       | 0.02828427                      | 5                               | 10                              | 50                              |\n",
       "| Wine_dtw_raw_dist.csv           | 1                               | 0.9920000                       | 0.03958973                      | 5                               | 10                              | 50                              |\n",
       "| Wine_dtw_paa_dist.csv           | 1                               | 0.9880000                       | 0.06272714                      | 5                               | 10                              | 50                              |\n",
       "| Wine_erp_paa_gap_005.csv        | 1                               | 0.9880000                       | 0.06272714                      | 5                               | 10                              | 50                              |\n",
       "| Wine_dtw_diff_dist.csv          | 1                               | 0.9853333                       | 0.05046720                      | 5                               | 10                              | 50                              |\n",
       "| Wine_dtw_diff2_dist.csv         | 1                               | 0.9853333                       | 0.05046720                      | 5                               | 10                              | 50                              |\n",
       "| Wine_erp_diff_gap_005.csv       | 1                               | 0.9853333                       | 0.05046720                      | 5                               | 10                              | 50                              |\n",
       "| Wine_erp_diff2_gap_005.csv      | 1                               | 0.9853333                       | 0.05046720                      | 5                               | 10                              | 50                              |\n",
       "| Wine_euc_diff_dist.csv          | 1                               | 0.9820000                       | 0.05479709                      | 5                               | 10                              | 50                              |\n",
       "| Wine_euc_diff2_dist.csv         | 1                               | 0.9820000                       | 0.05479709                      | 5                               | 10                              | 50                              |\n",
       "| Wine_euc_paa_dist.csv           | 3                               | 0.8786667                       | 0.16032280                      | 5                               | 10                              | 50                              |\n",
       "| Wine_euc_paa2_dist.csv          | 3                               | 0.8786667                       | 0.16032280                      | 5                               | 10                              | 50                              |\n",
       "| Wine_euc_diff2_dist.csv         | 3                               | 0.8760000                       | 0.14222718                      | 5                               | 10                              | 50                              |\n",
       "| Wine_euc_raw_dist.csv           | 3                               | 0.8753333                       | 0.15947903                      | 5                               | 10                              | 50                              |\n",
       "| Wine_euc_diff_dist.csv          | 3                               | 0.8726667                       | 0.14517016                      | 5                               | 10                              | 50                              |\n",
       "| Wine_dtw_diff2_dist.csv         | 3                               | 0.8660000                       | 0.15437534                      | 5                               | 10                              | 50                              |\n",
       "| Wine_erp_diff2_gap_005.csv      | 3                               | 0.8660000                       | 0.15437534                      | 5                               | 10                              | 50                              |\n",
       "| Wine_dtw_diff_dist.csv          | 3                               | 0.8620000                       | 0.15865220                      | 5                               | 10                              | 50                              |\n",
       "| Wine_erp_diff_gap_005.csv       | 3                               | 0.8620000                       | 0.15865220                      | 5                               | 10                              | 50                              |\n",
       "| Wine_erp_raw_gap_005.csv        | 3                               | 0.8526667                       | 0.16715439                      | 5                               | 10                              | 50                              |\n",
       "| Wine_dtw_paa_dist.csv           | 3                               | 0.8453333                       | 0.15947192                      | 5                               | 10                              | 50                              |\n",
       "| Wine_erp_paa_gap_005.csv        | 3                               | 0.8453333                       | 0.15947192                      | 5                               | 10                              | 50                              |\n",
       "| Wine_dtw_raw_dist.csv           | 3                               | 0.8426667                       | 0.16288777                      | 5                               | 10                              | 50                              |\n",
       "| Wine_dtw_paa2_dist.csv          | 3                               | 0.8380000                       | 0.16495859                      | 5                               | 10                              | 50                              |\n",
       "| Wine_erp_paa2_gap_005.csv       | 3                               | 0.8380000                       | 0.16495859                      | 5                               | 10                              | 50                              |\n",
       "| Wine_lcss_diff_epsilon_005.csv  | 5                               | 0.6033333                       | 0.17486632                      | 5                               | 10                              | 50                              |\n",
       "| Wine_lcss_diff2_epsilon_005.csv | 5                               | 0.5860000                       | 0.16275547                      | 5                               | 10                              | 50                              |\n",
       "| Wine_lcss_diff2_epsilon_005.csv | 3                               | 0.5766667                       | 0.16512896                      | 5                               | 10                              | 50                              |\n",
       "| Wine_lcss_diff2_epsilon_005.csv | 1                               | 0.5586667                       | 0.15944348                      | 5                               | 10                              | 50                              |\n",
       "| Wine_lcss_diff_epsilon_005.csv  | 3                               | 0.5426667                       | 0.12599536                      | 5                               | 10                              | 50                              |\n",
       "| Wine_dtw_diff2_dist.csv         | 5                               | 0.5366667                       | 0.20517677                      | 5                               | 10                              | 50                              |\n",
       "| Wine_erp_diff2_gap_005.csv      | 5                               | 0.5366667                       | 0.20517677                      | 5                               | 10                              | 50                              |\n",
       "| Wine_euc_diff_dist.csv          | 5                               | 0.5320000                       | 0.21507368                      | 5                               | 10                              | 50                              |\n",
       "| Wine_euc_diff2_dist.csv         | 5                               | 0.5273333                       | 0.21641168                      | 5                               | 10                              | 50                              |\n",
       "| Wine_dtw_paa_dist.csv           | 5                               | 0.5240000                       | 0.19012348                      | 5                               | 10                              | 50                              |\n",
       "| Wine_erp_paa_gap_005.csv        | 5                               | 0.5206667                       | 0.19200458                      | 5                               | 10                              | 50                              |\n",
       "| Wine_lcss_paa_epsilon_005.csv   | 5                               | 0.5153333                       | 0.16081002                      | 5                               | 10                              | 50                              |\n",
       "| Wine_euc_paa_dist.csv           | 5                               | 0.5093333                       | 0.19436973                      | 5                               | 10                              | 50                              |\n",
       "| Wine_erp_diff_gap_005.csv       | 5                               | 0.5080000                       | 0.20969257                      | 5                               | 10                              | 50                              |\n",
       "| Wine_euc_paa2_dist.csv          | 5                               | 0.5060000                       | 0.19304106                      | 5                               | 10                              | 50                              |\n",
       "| Wine_lcss_raw_epsilon_005.csv   | 5                               | 0.5026667                       | 0.11425396                      | 5                               | 10                              | 50                              |\n",
       "| Wine_erp_raw_gap_005.csv        | 5                               | 0.5000000                       | 0.20470653                      | 5                               | 10                              | 50                              |\n",
       "| Wine_euc_raw_dist.csv           | 5                               | 0.4940000                       | 0.21984224                      | 5                               | 10                              | 50                              |\n",
       "| Wine_dtw_diff_dist.csv          | 5                               | 0.4913333                       | 0.19128519                      | 5                               | 10                              | 50                              |\n",
       "| Wine_dtw_raw_dist.csv           | 5                               | 0.4886667                       | 0.22723917                      | 5                               | 10                              | 50                              |\n",
       "| Wine_lcss_raw_epsilon_005.csv   | 3                               | 0.4886667                       | 0.10047732                      | 5                               | 10                              | 50                              |\n",
       "| Wine_erp_paa2_gap_005.csv       | 5                               | 0.4866667                       | 0.18207671                      | 5                               | 10                              | 50                              |\n",
       "| Wine_dtw_paa2_dist.csv          | 5                               | 0.4833333                       | 0.18334879                      | 5                               | 10                              | 50                              |\n",
       "| Wine_lcss_paa_epsilon_005.csv   | 3                               | 0.4766667                       | 0.19334154                      | 5                               | 10                              | 50                              |\n",
       "| Wine_lcss_diff_epsilon_005.csv  | 1                               | 0.4713333                       | 0.16399353                      | 5                               | 10                              | 50                              |\n",
       "| Wine_lcss_raw_epsilon_005.csv   | 1                               | 0.4666667                       | 0.04994328                      | 5                               | 10                              | 50                              |\n",
       "| Wine_lcss_paa_epsilon_005.csv   | 1                               | 0.4580000                       | 0.20009182                      | 5                               | 10                              | 50                              |\n",
       "| Wine_lcss_paa2_epsilon_005.csv  | 1                               | 0.4486667                       | 0.18433062                      | 5                               | 10                              | 50                              |\n",
       "| Wine_lcss_paa2_epsilon_005.csv  | 5                               | 0.4433333                       | 0.15996740                      | 5                               | 10                              | 50                              |\n",
       "| Wine_lcss_paa2_epsilon_005.csv  | 3                               | 0.4020000                       | 0.17898809                      | 5                               | 10                              | 50                              |\n",
       "\n"
      ],
      "text/plain": [
       "   approach                        k avg_acc   sdev_acc   repid foldid\n",
       "1  Wine_euc_paa_dist.csv           1 1.0000000 0.00000000 5     10    \n",
       "2  Wine_euc_paa2_dist.csv          1 1.0000000 0.00000000 5     10    \n",
       "3  Wine_euc_raw_dist.csv           1 1.0000000 0.00000000 5     10    \n",
       "4  Wine_dtw_paa2_dist.csv          1 0.9960000 0.02828427 5     10    \n",
       "5  Wine_erp_paa2_gap_005.csv       1 0.9960000 0.02828427 5     10    \n",
       "6  Wine_erp_raw_gap_005.csv        1 0.9960000 0.02828427 5     10    \n",
       "7  Wine_dtw_raw_dist.csv           1 0.9920000 0.03958973 5     10    \n",
       "8  Wine_dtw_paa_dist.csv           1 0.9880000 0.06272714 5     10    \n",
       "9  Wine_erp_paa_gap_005.csv        1 0.9880000 0.06272714 5     10    \n",
       "10 Wine_dtw_diff_dist.csv          1 0.9853333 0.05046720 5     10    \n",
       "11 Wine_dtw_diff2_dist.csv         1 0.9853333 0.05046720 5     10    \n",
       "12 Wine_erp_diff_gap_005.csv       1 0.9853333 0.05046720 5     10    \n",
       "13 Wine_erp_diff2_gap_005.csv      1 0.9853333 0.05046720 5     10    \n",
       "14 Wine_euc_diff_dist.csv          1 0.9820000 0.05479709 5     10    \n",
       "15 Wine_euc_diff2_dist.csv         1 0.9820000 0.05479709 5     10    \n",
       "16 Wine_euc_paa_dist.csv           3 0.8786667 0.16032280 5     10    \n",
       "17 Wine_euc_paa2_dist.csv          3 0.8786667 0.16032280 5     10    \n",
       "18 Wine_euc_diff2_dist.csv         3 0.8760000 0.14222718 5     10    \n",
       "19 Wine_euc_raw_dist.csv           3 0.8753333 0.15947903 5     10    \n",
       "20 Wine_euc_diff_dist.csv          3 0.8726667 0.14517016 5     10    \n",
       "21 Wine_dtw_diff2_dist.csv         3 0.8660000 0.15437534 5     10    \n",
       "22 Wine_erp_diff2_gap_005.csv      3 0.8660000 0.15437534 5     10    \n",
       "23 Wine_dtw_diff_dist.csv          3 0.8620000 0.15865220 5     10    \n",
       "24 Wine_erp_diff_gap_005.csv       3 0.8620000 0.15865220 5     10    \n",
       "25 Wine_erp_raw_gap_005.csv        3 0.8526667 0.16715439 5     10    \n",
       "26 Wine_dtw_paa_dist.csv           3 0.8453333 0.15947192 5     10    \n",
       "27 Wine_erp_paa_gap_005.csv        3 0.8453333 0.15947192 5     10    \n",
       "28 Wine_dtw_raw_dist.csv           3 0.8426667 0.16288777 5     10    \n",
       "29 Wine_dtw_paa2_dist.csv          3 0.8380000 0.16495859 5     10    \n",
       "30 Wine_erp_paa2_gap_005.csv       3 0.8380000 0.16495859 5     10    \n",
       "31 Wine_lcss_diff_epsilon_005.csv  5 0.6033333 0.17486632 5     10    \n",
       "32 Wine_lcss_diff2_epsilon_005.csv 5 0.5860000 0.16275547 5     10    \n",
       "33 Wine_lcss_diff2_epsilon_005.csv 3 0.5766667 0.16512896 5     10    \n",
       "34 Wine_lcss_diff2_epsilon_005.csv 1 0.5586667 0.15944348 5     10    \n",
       "35 Wine_lcss_diff_epsilon_005.csv  3 0.5426667 0.12599536 5     10    \n",
       "36 Wine_dtw_diff2_dist.csv         5 0.5366667 0.20517677 5     10    \n",
       "37 Wine_erp_diff2_gap_005.csv      5 0.5366667 0.20517677 5     10    \n",
       "38 Wine_euc_diff_dist.csv          5 0.5320000 0.21507368 5     10    \n",
       "39 Wine_euc_diff2_dist.csv         5 0.5273333 0.21641168 5     10    \n",
       "40 Wine_dtw_paa_dist.csv           5 0.5240000 0.19012348 5     10    \n",
       "41 Wine_erp_paa_gap_005.csv        5 0.5206667 0.19200458 5     10    \n",
       "42 Wine_lcss_paa_epsilon_005.csv   5 0.5153333 0.16081002 5     10    \n",
       "43 Wine_euc_paa_dist.csv           5 0.5093333 0.19436973 5     10    \n",
       "44 Wine_erp_diff_gap_005.csv       5 0.5080000 0.20969257 5     10    \n",
       "45 Wine_euc_paa2_dist.csv          5 0.5060000 0.19304106 5     10    \n",
       "46 Wine_lcss_raw_epsilon_005.csv   5 0.5026667 0.11425396 5     10    \n",
       "47 Wine_erp_raw_gap_005.csv        5 0.5000000 0.20470653 5     10    \n",
       "48 Wine_euc_raw_dist.csv           5 0.4940000 0.21984224 5     10    \n",
       "49 Wine_dtw_diff_dist.csv          5 0.4913333 0.19128519 5     10    \n",
       "50 Wine_dtw_raw_dist.csv           5 0.4886667 0.22723917 5     10    \n",
       "51 Wine_lcss_raw_epsilon_005.csv   3 0.4886667 0.10047732 5     10    \n",
       "52 Wine_erp_paa2_gap_005.csv       5 0.4866667 0.18207671 5     10    \n",
       "53 Wine_dtw_paa2_dist.csv          5 0.4833333 0.18334879 5     10    \n",
       "54 Wine_lcss_paa_epsilon_005.csv   3 0.4766667 0.19334154 5     10    \n",
       "55 Wine_lcss_diff_epsilon_005.csv  1 0.4713333 0.16399353 5     10    \n",
       "56 Wine_lcss_raw_epsilon_005.csv   1 0.4666667 0.04994328 5     10    \n",
       "57 Wine_lcss_paa_epsilon_005.csv   1 0.4580000 0.20009182 5     10    \n",
       "58 Wine_lcss_paa2_epsilon_005.csv  1 0.4486667 0.18433062 5     10    \n",
       "59 Wine_lcss_paa2_epsilon_005.csv  5 0.4433333 0.15996740 5     10    \n",
       "60 Wine_lcss_paa2_epsilon_005.csv  3 0.4020000 0.17898809 5     10    \n",
       "   result_count\n",
       "1  50          \n",
       "2  50          \n",
       "3  50          \n",
       "4  50          \n",
       "5  50          \n",
       "6  50          \n",
       "7  50          \n",
       "8  50          \n",
       "9  50          \n",
       "10 50          \n",
       "11 50          \n",
       "12 50          \n",
       "13 50          \n",
       "14 50          \n",
       "15 50          \n",
       "16 50          \n",
       "17 50          \n",
       "18 50          \n",
       "19 50          \n",
       "20 50          \n",
       "21 50          \n",
       "22 50          \n",
       "23 50          \n",
       "24 50          \n",
       "25 50          \n",
       "26 50          \n",
       "27 50          \n",
       "28 50          \n",
       "29 50          \n",
       "30 50          \n",
       "31 50          \n",
       "32 50          \n",
       "33 50          \n",
       "34 50          \n",
       "35 50          \n",
       "36 50          \n",
       "37 50          \n",
       "38 50          \n",
       "39 50          \n",
       "40 50          \n",
       "41 50          \n",
       "42 50          \n",
       "43 50          \n",
       "44 50          \n",
       "45 50          \n",
       "46 50          \n",
       "47 50          \n",
       "48 50          \n",
       "49 50          \n",
       "50 50          \n",
       "51 50          \n",
       "52 50          \n",
       "53 50          \n",
       "54 50          \n",
       "55 50          \n",
       "56 50          \n",
       "57 50          \n",
       "58 50          \n",
       "59 50          \n",
       "60 50          "
      ]
     },
     "metadata": {},
     "output_type": "display_data"
    }
   ],
   "source": [
    "acc_res_ordered"
   ]
  },
  {
   "cell_type": "markdown",
   "metadata": {},
   "source": [
    "## Best Result and Parameter Combination"
   ]
  },
  {
   "cell_type": "code",
   "execution_count": 54,
   "metadata": {},
   "outputs": [
    {
     "data": {
      "text/html": [
       "<table>\n",
       "<thead><tr><th scope=col>approach</th><th scope=col>k</th><th scope=col>avg_acc</th><th scope=col>sdev_acc</th><th scope=col>repid</th><th scope=col>foldid</th><th scope=col>result_count</th></tr></thead>\n",
       "<tbody>\n",
       "\t<tr><td>Wine_euc_paa_dist.csv</td><td>1                    </td><td>1                    </td><td>0                    </td><td>5                    </td><td>10                   </td><td>50                   </td></tr>\n",
       "</tbody>\n",
       "</table>\n"
      ],
      "text/latex": [
       "\\begin{tabular}{r|lllllll}\n",
       " approach & k & avg\\_acc & sdev\\_acc & repid & foldid & result\\_count\\\\\n",
       "\\hline\n",
       "\t Wine\\_euc\\_paa\\_dist.csv & 1                           & 1                           & 0                           & 5                           & 10                          & 50                         \\\\\n",
       "\\end{tabular}\n"
      ],
      "text/markdown": [
       "\n",
       "| approach | k | avg_acc | sdev_acc | repid | foldid | result_count |\n",
       "|---|---|---|---|---|---|---|\n",
       "| Wine_euc_paa_dist.csv | 1                     | 1                     | 0                     | 5                     | 10                    | 50                    |\n",
       "\n"
      ],
      "text/plain": [
       "  approach              k avg_acc sdev_acc repid foldid result_count\n",
       "1 Wine_euc_paa_dist.csv 1 1       0        5     10     50          "
      ]
     },
     "metadata": {},
     "output_type": "display_data"
    }
   ],
   "source": [
    "acc_res_ordered[1]"
   ]
  },
  {
   "cell_type": "markdown",
   "metadata": {},
   "source": [
    "Result is obtained by considering mean and standard deviation of the accuracy over the test folds. Two PAA representation get full accuracy, so PAA with segment lenght 9 is selected."
   ]
  },
  {
   "cell_type": "markdown",
   "metadata": {},
   "source": [
    "### Best Parameter Combination"
   ]
  },
  {
   "cell_type": "markdown",
   "metadata": {},
   "source": [
    "- Representation: PAA with segment lenght 9\n",
    "- Distance: Euclidean\n",
    "- K value of NN: 1\n",
    "\n",
    "**Average Accuracy: 1.00 based on 5 repeats and 10-fold cross validation**"
   ]
  },
  {
   "cell_type": "markdown",
   "metadata": {},
   "source": [
    "### Train Result"
   ]
  },
  {
   "cell_type": "code",
   "execution_count": 52,
   "metadata": {},
   "outputs": [
    {
     "data": {
      "text/html": [
       "<table>\n",
       "<thead><tr><th scope=col>approach</th><th scope=col>k</th><th scope=col>avg_acc</th></tr></thead>\n",
       "<tbody>\n",
       "\t<tr><td>Wine_euc_paa_dist.csv</td><td>1                    </td><td>1                    </td></tr>\n",
       "</tbody>\n",
       "</table>\n"
      ],
      "text/latex": [
       "\\begin{tabular}{r|lll}\n",
       " approach & k & avg\\_acc\\\\\n",
       "\\hline\n",
       "\t Wine\\_euc\\_paa\\_dist.csv & 1                           & 1                          \\\\\n",
       "\\end{tabular}\n"
      ],
      "text/markdown": [
       "\n",
       "| approach | k | avg_acc |\n",
       "|---|---|---|\n",
       "| Wine_euc_paa_dist.csv | 1                     | 1                     |\n",
       "\n"
      ],
      "text/plain": [
       "  approach              k avg_acc\n",
       "1 Wine_euc_paa_dist.csv 1 1      "
      ]
     },
     "metadata": {},
     "output_type": "display_data"
    }
   ],
   "source": [
    "acc_res_ordered[1][,c(\"approach\", \"k\", \"avg_acc\")]"
   ]
  },
  {
   "cell_type": "markdown",
   "metadata": {},
   "source": [
    "### Test Result"
   ]
  },
  {
   "cell_type": "code",
   "execution_count": 51,
   "metadata": {},
   "outputs": [
    {
     "data": {
      "text/html": [
       "<table>\n",
       "<thead><tr><th scope=col>approach</th><th scope=col>k</th><th scope=col>acc</th></tr></thead>\n",
       "<tbody>\n",
       "\t<tr><td>Wine_euc_paa_dist_Test.csv</td><td>1                         </td><td>0.6111111                 </td></tr>\n",
       "</tbody>\n",
       "</table>\n"
      ],
      "text/latex": [
       "\\begin{tabular}{r|lll}\n",
       " approach & k & acc\\\\\n",
       "\\hline\n",
       "\t Wine\\_euc\\_paa\\_dist\\_Test.csv & 1                                  & 0.6111111                         \\\\\n",
       "\\end{tabular}\n"
      ],
      "text/markdown": [
       "\n",
       "| approach | k | acc |\n",
       "|---|---|---|\n",
       "| Wine_euc_paa_dist_Test.csv | 1                          | 0.6111111                  |\n",
       "\n"
      ],
      "text/plain": [
       "  approach                   k acc      \n",
       "1 Wine_euc_paa_dist_Test.csv 1 0.6111111"
      ]
     },
     "metadata": {},
     "output_type": "display_data"
    }
   ],
   "source": [
    "final_res"
   ]
  },
  {
   "cell_type": "code",
   "execution_count": null,
   "metadata": {},
   "outputs": [],
   "source": []
  },
  {
   "cell_type": "code",
   "execution_count": null,
   "metadata": {},
   "outputs": [],
   "source": []
  },
  {
   "cell_type": "code",
   "execution_count": null,
   "metadata": {},
   "outputs": [],
   "source": []
  },
  {
   "cell_type": "markdown",
   "metadata": {},
   "source": [
    "# Total Results"
   ]
  },
  {
   "cell_type": "markdown",
   "metadata": {},
   "source": []
  }
 ],
 "metadata": {
  "kernelspec": {
   "display_name": "R",
   "language": "R",
   "name": "ir"
  },
  "language_info": {
   "codemirror_mode": "r",
   "file_extension": ".r",
   "mimetype": "text/x-r-source",
   "name": "R",
   "pygments_lexer": "r",
   "version": "3.6.1"
  }
 },
 "nbformat": 4,
 "nbformat_minor": 4
}
