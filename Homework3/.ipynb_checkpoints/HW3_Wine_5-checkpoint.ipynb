{
 "cells": [
  {
   "cell_type": "code",
   "execution_count": 10,
   "metadata": {},
   "outputs": [],
   "source": [
    "library(data.table)\n",
    "library(TSrepr)\n",
    "library(TSdist)\n",
    "library(dtw)\n",
    "library(TunePareto)\n",
    "library(dplyr)"
   ]
  },
  {
   "cell_type": "markdown",
   "metadata": {},
   "source": [
    "# Summary\n",
    "\n",
    "In this homework, 60 different parameter combination will be tried to get hyperparameter tuning. To get this combination, 5 different representation types(raw + 2 different difference taken + 2 different PAA), 4 different distance calculations, and 3 different k values will be used. Difference will be taken by shift function and 1, 2 will be used to get difference values. For PAA, 2 different segment length will be used by considering proper values for timeseries. In terms of distance, Euclidean, Dynamic Time Wrapping, Longest Common Subsequence, and Edit Distance with Real Penalties will be used. Lastly, k values are selected as 1, 5, 10 for k-nearest neighbor model. \n",
    "\n",
    "Performance of the models will be inspected by using 10-fold cross and 5 repeated validation technique. Moreover, performance of the models will be controlled by having the same test indices to have identical conditions. Lastly, obtained 60 performance will be controlled by a dataframe including average accuracy and standard deviation in accuracy. By considering this dataframe, the best parameter combination will be controlled and this parameters will be used to get accuracy performance in the test dataset. Last comments will be held at the end of the notebooks."
   ]
  },
  {
   "cell_type": "markdown",
   "metadata": {},
   "source": [
    "# Context\n",
    "(In order to get specified techniques rapidly, a context part is added to Notebook.)\n",
    "\n",
    "1. [Data Preparation](#1)\n",
    "1. [Classify Function](#2)\n",
    "1. [Representations](#3)\n",
    "    1. Raw Data\n",
    "    1. [Difference Function](#4)\n",
    "    1. [PAA Function](#5)\n",
    "1. [Distances](#6)\n",
    "    1. [Raw Data](#7)\n",
    "    1. [Difference Data](#8)\n",
    "    1. [PAA Data](#9)\n",
    "1. [Main Model](#10)\n",
    "1. [Result of Models](#11)\n",
    "1. [Test Performance](#12)\n",
    "1. [Comments](#13)"
   ]
  },
  {
   "cell_type": "markdown",
   "metadata": {},
   "source": [
    "<a id=\"1\"></a>\n",
    "# Data Preparation"
   ]
  },
  {
   "cell_type": "code",
   "execution_count": 11,
   "metadata": {},
   "outputs": [],
   "source": [
    "dataset_path=\"D:/Datasets/Univariate2018_arff/Univariate_arff/\""
   ]
  },
  {
   "cell_type": "code",
   "execution_count": 12,
   "metadata": {},
   "outputs": [],
   "source": [
    "distance_path=\"C:/Users/bahad/GitHub/IE48B/Homework3/Distances/\""
   ]
  },
  {
   "cell_type": "code",
   "execution_count": 13,
   "metadata": {},
   "outputs": [],
   "source": [
    "first_dataset=\"Beef\"\n",
    "second_dataset=\"BirdChicken\"\n",
    "third_dataset=\"BMW\"\n",
    "fourth_dataset=\"Coffee\"\n",
    "fifth_dataset=\"Wine\""
   ]
  },
  {
   "cell_type": "markdown",
   "metadata": {},
   "source": [
    "## Loading Dataset"
   ]
  },
  {
   "cell_type": "code",
   "execution_count": 14,
   "metadata": {},
   "outputs": [],
   "source": [
    "traindata=as.matrix(fread(sprintf('%s%s/%s_TRAIN.txt',dataset_path, fifth_dataset,fifth_dataset)))"
   ]
  },
  {
   "cell_type": "code",
   "execution_count": 15,
   "metadata": {},
   "outputs": [
    {
     "data": {
      "text/html": [
       "<table>\n",
       "<thead><tr><th scope=col>V1</th><th scope=col>V2</th><th scope=col>V3</th><th scope=col>V4</th><th scope=col>V5</th><th scope=col>V6</th><th scope=col>V7</th><th scope=col>V8</th><th scope=col>V9</th><th scope=col>V10</th><th scope=col>...</th><th scope=col>V226</th><th scope=col>V227</th><th scope=col>V228</th><th scope=col>V229</th><th scope=col>V230</th><th scope=col>V231</th><th scope=col>V232</th><th scope=col>V233</th><th scope=col>V234</th><th scope=col>V235</th></tr></thead>\n",
       "<tbody>\n",
       "\t<tr><td>1        </td><td>1.781622 </td><td>1.641665 </td><td>1.513937 </td><td>1.394362 </td><td>1.282035 </td><td>1.174689 </td><td>1.070514 </td><td>0.9704153</td><td>0.8739401</td><td>...      </td><td>-1.670196</td><td>-1.709601</td><td>-1.744930</td><td>-1.782977</td><td>-1.810606</td><td>-1.837329</td><td>-1.860882</td><td>-1.880358</td><td>-1.901193</td><td>-1.918857</td></tr>\n",
       "\t<tr><td>1        </td><td>1.779750 </td><td>1.638856 </td><td>1.512006 </td><td>1.391952 </td><td>1.277787 </td><td>1.170418 </td><td>1.066673 </td><td>0.9670050</td><td>0.8714146</td><td>...      </td><td>-1.670564</td><td>-1.710431</td><td>-1.745768</td><td>-1.783370</td><td>-1.811005</td><td>-1.837734</td><td>-1.861292</td><td>-1.880773</td><td>-1.901612</td><td>-1.919280</td></tr>\n",
       "\t<tr><td>1        </td><td>1.776492 </td><td>1.636260 </td><td>1.508282 </td><td>1.388472 </td><td>1.275469 </td><td>1.166551 </td><td>1.063533 </td><td>0.9650530</td><td>0.8683883</td><td>...      </td><td>-1.673939</td><td>-1.713876</td><td>-1.748820</td><td>-1.786488</td><td>-1.814171</td><td>-1.840947</td><td>-1.864546</td><td>-1.884060</td><td>-1.904482</td><td>-1.922635</td></tr>\n",
       "\t<tr><td>1        </td><td>1.774080 </td><td>1.635140 </td><td>1.507890 </td><td>1.388734 </td><td>1.277222 </td><td>1.171555 </td><td>1.066788 </td><td>0.9665168</td><td>0.8720912</td><td>...      </td><td>-1.656265</td><td>-1.695384</td><td>-1.730906</td><td>-1.769126</td><td>-1.796555</td><td>-1.823084</td><td>-1.846465</td><td>-1.865800</td><td>-1.886933</td><td>-1.904919</td></tr>\n",
       "\t<tr><td>1        </td><td>1.776502 </td><td>1.637654 </td><td>1.510938 </td><td>1.392310 </td><td>1.279075 </td><td>1.172580 </td><td>1.069230 </td><td>0.9703732</td><td>0.8746622</td><td>...      </td><td>-1.655163</td><td>-1.694706</td><td>-1.730204</td><td>-1.768399</td><td>-1.795809</td><td>-1.821871</td><td>-1.844788</td><td>-1.864559</td><td>-1.885678</td><td>-1.903652</td></tr>\n",
       "\t<tr><td>1        </td><td>1.776937 </td><td>1.636610 </td><td>1.510630 </td><td>1.392272 </td><td>1.280190 </td><td>1.173488 </td><td>1.070821 </td><td>0.9717404</td><td>0.8753500</td><td>...      </td><td>-1.651872</td><td>-1.691325</td><td>-1.726295</td><td>-1.763954</td><td>-1.791302</td><td>-1.818202</td><td>-1.841067</td><td>-1.860345</td><td>-1.881416</td><td>-1.899349</td></tr>\n",
       "</tbody>\n",
       "</table>\n"
      ],
      "text/latex": [
       "\\begin{tabular}{lllllllllllllllllllllllllllllllllllllllllllllllllllllllllllllllllllllllllllllllllllllllllllllllllllllllllllllllllllllllllllllllllllllllllllllllllllllllllllllllllllllllllllllllllllllllllllllllllllllllllllllllllllllllllllllllllllllllllll}\n",
       " V1 & V2 & V3 & V4 & V5 & V6 & V7 & V8 & V9 & V10 & ... & V226 & V227 & V228 & V229 & V230 & V231 & V232 & V233 & V234 & V235\\\\\n",
       "\\hline\n",
       "\t 1         & 1.781622  & 1.641665  & 1.513937  & 1.394362  & 1.282035  & 1.174689  & 1.070514  & 0.9704153 & 0.8739401 & ...       & -1.670196 & -1.709601 & -1.744930 & -1.782977 & -1.810606 & -1.837329 & -1.860882 & -1.880358 & -1.901193 & -1.918857\\\\\n",
       "\t 1         & 1.779750  & 1.638856  & 1.512006  & 1.391952  & 1.277787  & 1.170418  & 1.066673  & 0.9670050 & 0.8714146 & ...       & -1.670564 & -1.710431 & -1.745768 & -1.783370 & -1.811005 & -1.837734 & -1.861292 & -1.880773 & -1.901612 & -1.919280\\\\\n",
       "\t 1         & 1.776492  & 1.636260  & 1.508282  & 1.388472  & 1.275469  & 1.166551  & 1.063533  & 0.9650530 & 0.8683883 & ...       & -1.673939 & -1.713876 & -1.748820 & -1.786488 & -1.814171 & -1.840947 & -1.864546 & -1.884060 & -1.904482 & -1.922635\\\\\n",
       "\t 1         & 1.774080  & 1.635140  & 1.507890  & 1.388734  & 1.277222  & 1.171555  & 1.066788  & 0.9665168 & 0.8720912 & ...       & -1.656265 & -1.695384 & -1.730906 & -1.769126 & -1.796555 & -1.823084 & -1.846465 & -1.865800 & -1.886933 & -1.904919\\\\\n",
       "\t 1         & 1.776502  & 1.637654  & 1.510938  & 1.392310  & 1.279075  & 1.172580  & 1.069230  & 0.9703732 & 0.8746622 & ...       & -1.655163 & -1.694706 & -1.730204 & -1.768399 & -1.795809 & -1.821871 & -1.844788 & -1.864559 & -1.885678 & -1.903652\\\\\n",
       "\t 1         & 1.776937  & 1.636610  & 1.510630  & 1.392272  & 1.280190  & 1.173488  & 1.070821  & 0.9717404 & 0.8753500 & ...       & -1.651872 & -1.691325 & -1.726295 & -1.763954 & -1.791302 & -1.818202 & -1.841067 & -1.860345 & -1.881416 & -1.899349\\\\\n",
       "\\end{tabular}\n"
      ],
      "text/markdown": [
       "\n",
       "| V1 | V2 | V3 | V4 | V5 | V6 | V7 | V8 | V9 | V10 | ... | V226 | V227 | V228 | V229 | V230 | V231 | V232 | V233 | V234 | V235 |\n",
       "|---|---|---|---|---|---|---|---|---|---|---|---|---|---|---|---|---|---|---|---|---|\n",
       "| 1         | 1.781622  | 1.641665  | 1.513937  | 1.394362  | 1.282035  | 1.174689  | 1.070514  | 0.9704153 | 0.8739401 | ...       | -1.670196 | -1.709601 | -1.744930 | -1.782977 | -1.810606 | -1.837329 | -1.860882 | -1.880358 | -1.901193 | -1.918857 |\n",
       "| 1         | 1.779750  | 1.638856  | 1.512006  | 1.391952  | 1.277787  | 1.170418  | 1.066673  | 0.9670050 | 0.8714146 | ...       | -1.670564 | -1.710431 | -1.745768 | -1.783370 | -1.811005 | -1.837734 | -1.861292 | -1.880773 | -1.901612 | -1.919280 |\n",
       "| 1         | 1.776492  | 1.636260  | 1.508282  | 1.388472  | 1.275469  | 1.166551  | 1.063533  | 0.9650530 | 0.8683883 | ...       | -1.673939 | -1.713876 | -1.748820 | -1.786488 | -1.814171 | -1.840947 | -1.864546 | -1.884060 | -1.904482 | -1.922635 |\n",
       "| 1         | 1.774080  | 1.635140  | 1.507890  | 1.388734  | 1.277222  | 1.171555  | 1.066788  | 0.9665168 | 0.8720912 | ...       | -1.656265 | -1.695384 | -1.730906 | -1.769126 | -1.796555 | -1.823084 | -1.846465 | -1.865800 | -1.886933 | -1.904919 |\n",
       "| 1         | 1.776502  | 1.637654  | 1.510938  | 1.392310  | 1.279075  | 1.172580  | 1.069230  | 0.9703732 | 0.8746622 | ...       | -1.655163 | -1.694706 | -1.730204 | -1.768399 | -1.795809 | -1.821871 | -1.844788 | -1.864559 | -1.885678 | -1.903652 |\n",
       "| 1         | 1.776937  | 1.636610  | 1.510630  | 1.392272  | 1.280190  | 1.173488  | 1.070821  | 0.9717404 | 0.8753500 | ...       | -1.651872 | -1.691325 | -1.726295 | -1.763954 | -1.791302 | -1.818202 | -1.841067 | -1.860345 | -1.881416 | -1.899349 |\n",
       "\n"
      ],
      "text/plain": [
       "     V1 V2       V3       V4       V5       V6       V7       V8      \n",
       "[1,] 1  1.781622 1.641665 1.513937 1.394362 1.282035 1.174689 1.070514\n",
       "[2,] 1  1.779750 1.638856 1.512006 1.391952 1.277787 1.170418 1.066673\n",
       "[3,] 1  1.776492 1.636260 1.508282 1.388472 1.275469 1.166551 1.063533\n",
       "[4,] 1  1.774080 1.635140 1.507890 1.388734 1.277222 1.171555 1.066788\n",
       "[5,] 1  1.776502 1.637654 1.510938 1.392310 1.279075 1.172580 1.069230\n",
       "[6,] 1  1.776937 1.636610 1.510630 1.392272 1.280190 1.173488 1.070821\n",
       "     V9        V10       ... V226      V227      V228      V229      V230     \n",
       "[1,] 0.9704153 0.8739401 ... -1.670196 -1.709601 -1.744930 -1.782977 -1.810606\n",
       "[2,] 0.9670050 0.8714146 ... -1.670564 -1.710431 -1.745768 -1.783370 -1.811005\n",
       "[3,] 0.9650530 0.8683883 ... -1.673939 -1.713876 -1.748820 -1.786488 -1.814171\n",
       "[4,] 0.9665168 0.8720912 ... -1.656265 -1.695384 -1.730906 -1.769126 -1.796555\n",
       "[5,] 0.9703732 0.8746622 ... -1.655163 -1.694706 -1.730204 -1.768399 -1.795809\n",
       "[6,] 0.9717404 0.8753500 ... -1.651872 -1.691325 -1.726295 -1.763954 -1.791302\n",
       "     V231      V232      V233      V234      V235     \n",
       "[1,] -1.837329 -1.860882 -1.880358 -1.901193 -1.918857\n",
       "[2,] -1.837734 -1.861292 -1.880773 -1.901612 -1.919280\n",
       "[3,] -1.840947 -1.864546 -1.884060 -1.904482 -1.922635\n",
       "[4,] -1.823084 -1.846465 -1.865800 -1.886933 -1.904919\n",
       "[5,] -1.821871 -1.844788 -1.864559 -1.885678 -1.903652\n",
       "[6,] -1.818202 -1.841067 -1.860345 -1.881416 -1.899349"
      ]
     },
     "metadata": {},
     "output_type": "display_data"
    }
   ],
   "source": [
    "head(traindata)"
   ]
  },
  {
   "cell_type": "code",
   "execution_count": 16,
   "metadata": {},
   "outputs": [
    {
     "name": "stdout",
     "output_type": "stream",
     "text": [
      " num [1:57, 1:235] 1 1 1 1 1 1 1 1 1 1 ...\n",
      " - attr(*, \"dimnames\")=List of 2\n",
      "  ..$ : NULL\n",
      "  ..$ : chr [1:235] \"V1\" \"V2\" \"V3\" \"V4\" ...\n"
     ]
    }
   ],
   "source": [
    "str(traindata)"
   ]
  },
  {
   "cell_type": "markdown",
   "metadata": {},
   "source": [
    "## Class Information"
   ]
  },
  {
   "cell_type": "code",
   "execution_count": 17,
   "metadata": {},
   "outputs": [],
   "source": [
    "trainclass=traindata[,1] "
   ]
  },
  {
   "cell_type": "markdown",
   "metadata": {},
   "source": [
    "## Time Series"
   ]
  },
  {
   "cell_type": "code",
   "execution_count": 18,
   "metadata": {},
   "outputs": [],
   "source": [
    "traindata=traindata[,2:ncol(traindata)]"
   ]
  },
  {
   "cell_type": "markdown",
   "metadata": {},
   "source": [
    "## Dataset Information"
   ]
  },
  {
   "cell_type": "code",
   "execution_count": 19,
   "metadata": {},
   "outputs": [],
   "source": [
    "tlength=ncol(traindata)\n",
    "n_series_train=nrow(traindata)"
   ]
  },
  {
   "cell_type": "markdown",
   "metadata": {},
   "source": [
    "## Indices for Datasets"
   ]
  },
  {
   "cell_type": "markdown",
   "metadata": {},
   "source": [
    "Mentioned test indices are obtained by TunePareto library to have identical conditions. nfold and ntimes parameters are selected as 10, 5 respectively."
   ]
  },
  {
   "cell_type": "code",
   "execution_count": 20,
   "metadata": {},
   "outputs": [],
   "source": [
    "set.seed(35)\n",
    "nof_rep=5\n",
    "n_fold=10"
   ]
  },
  {
   "cell_type": "code",
   "execution_count": 21,
   "metadata": {},
   "outputs": [
    {
     "name": "stdout",
     "output_type": "stream",
     "text": [
      "List of 5\n",
      " $ Run  1:List of 10\n",
      "  ..$ Fold  1 : int [1:6] 10 2 16 39 47 55\n",
      "  ..$ Fold  2 : int [1:6] 6 24 13 44 45 46\n",
      "  ..$ Fold  3 : int [1:6] 8 30 15 42 54 56\n",
      "  ..$ Fold  4 : int [1:6] 1 17 4 41 32 57\n",
      "  ..$ Fold  5 : int [1:6] 7 3 20 35 48 49\n",
      "  ..$ Fold  6 : int [1:6] 11 23 27 40 50 38\n",
      "  ..$ Fold  7 : int [1:6] 9 22 28 53 37 34\n",
      "  ..$ Fold  8 : int [1:5] 14 29 19 31 33\n",
      "  ..$ Fold  9 : int [1:5] 5 26 21 36 43\n",
      "  ..$ Fold  10: int [1:5] 18 25 12 52 51\n",
      " $ Run  2:List of 10\n",
      "  ..$ Fold  1 : int [1:6] 9 29 10 43 37 39\n",
      "  ..$ Fold  2 : int [1:6] 4 17 3 51 47 55\n",
      "  ..$ Fold  3 : int [1:6] 6 13 22 32 33 50\n",
      "  ..$ Fold  4 : int [1:6] 23 2 30 35 52 38\n",
      "  ..$ Fold  5 : int [1:6] 1 5 24 48 34 36\n",
      "  ..$ Fold  6 : int [1:6] 8 26 27 56 57 44\n",
      "  ..$ Fold  7 : int [1:6] 16 18 14 54 45 31\n",
      "  ..$ Fold  8 : int [1:5] 11 21 7 49 40\n",
      "  ..$ Fold  9 : int [1:5] 25 12 20 53 46\n",
      "  ..$ Fold  10: int [1:5] 15 19 28 41 42\n",
      " $ Run  3:List of 10\n",
      "  ..$ Fold  1 : int [1:6] 12 21 1 41 31 48\n",
      "  ..$ Fold  2 : int [1:6] 8 28 2 38 54 55\n",
      "  ..$ Fold  3 : int [1:6] 15 23 20 49 43 37\n",
      "  ..$ Fold  4 : int [1:6] 7 29 24 46 47 40\n",
      "  ..$ Fold  5 : int [1:6] 19 11 6 51 56 42\n",
      "  ..$ Fold  6 : int [1:6] 5 9 10 32 52 45\n",
      "  ..$ Fold  7 : int [1:6] 27 4 25 35 44 39\n",
      "  ..$ Fold  8 : int [1:5] 26 3 13 36 34\n",
      "  ..$ Fold  9 : int [1:5] 16 18 22 53 50\n",
      "  ..$ Fold  10: int [1:5] 30 17 14 57 33\n",
      " $ Run  4:List of 10\n",
      "  ..$ Fold  1 : int [1:6] 6 22 7 48 54 36\n",
      "  ..$ Fold  2 : int [1:6] 4 20 10 38 57 55\n",
      "  ..$ Fold  3 : int [1:6] 11 14 12 53 37 35\n",
      "  ..$ Fold  4 : int [1:6] 5 2 26 56 32 31\n",
      "  ..$ Fold  5 : int [1:6] 27 8 9 42 50 47\n",
      "  ..$ Fold  6 : int [1:6] 18 15 30 46 49 52\n",
      "  ..$ Fold  7 : int [1:6] 25 23 3 45 41 44\n",
      "  ..$ Fold  8 : int [1:5] 1 29 24 39 34\n",
      "  ..$ Fold  9 : int [1:5] 21 19 28 33 51\n",
      "  ..$ Fold  10: int [1:5] 17 16 13 40 43\n",
      " $ Run  5:List of 10\n",
      "  ..$ Fold  1 : int [1:6] 6 29 20 48 44 35\n",
      "  ..$ Fold  2 : int [1:6] 25 26 21 54 38 32\n",
      "  ..$ Fold  3 : int [1:6] 19 4 27 51 33 49\n",
      "  ..$ Fold  4 : int [1:6] 23 14 16 42 31 55\n",
      "  ..$ Fold  5 : int [1:6] 18 8 22 37 45 46\n",
      "  ..$ Fold  6 : int [1:6] 3 10 7 36 53 47\n",
      "  ..$ Fold  7 : int [1:6] 2 28 15 34 52 43\n",
      "  ..$ Fold  8 : int [1:5] 11 30 24 50 57\n",
      "  ..$ Fold  9 : int [1:5] 1 12 5 40 56\n",
      "  ..$ Fold  10: int [1:5] 13 17 9 41 39\n"
     ]
    }
   ],
   "source": [
    "cv_indices=generateCVRuns(trainclass, ntimes =nof_rep, nfold = n_fold, \n",
    "                          leaveOneOut = FALSE, stratified = TRUE)\n",
    "\n",
    "str(cv_indices)"
   ]
  },
  {
   "cell_type": "markdown",
   "metadata": {},
   "source": [
    "<a id=\"2\"></a>\n",
    "# Classify Function"
   ]
  },
  {
   "cell_type": "markdown",
   "metadata": {},
   "source": [
    "Classify function is obtained from lecture notebooks. Function takes 4 different parameters, distance matrix, class information, test indeces and k parameter."
   ]
  },
  {
   "cell_type": "code",
   "execution_count": 22,
   "metadata": {},
   "outputs": [],
   "source": [
    "nn_classify_cv=function(dist_matrix,train_class,test_indices,k){\n",
    "    \n",
    "    test_distances_to_train=dist_matrix[test_indices,]\n",
    "    test_distances_to_train=test_distances_to_train[,-test_indices]\n",
    "    train_class=train_class[-test_indices]\n",
    "\n",
    "    ordered_indices=apply(test_distances_to_train,1,order)\n",
    "    if(k==1){\n",
    "        nearest_class=as.numeric(train_class[as.numeric(ordered_indices[1,])])\n",
    "        nearest_class=data.table(id=test_indices,nearest_class)\n",
    "    } else {\n",
    "        nearest_class=apply(ordered_indices[1:k,],2,function(x) {train_class[x]})\n",
    "        nearest_class=data.table(id=test_indices,t(nearest_class))\n",
    "    }\n",
    "    \n",
    "    long_nn_class=melt(nearest_class,'id')\n",
    "\n",
    "    class_counts=long_nn_class[,.N,list(id,value)]\n",
    "    class_counts[,predicted_prob:=N/k]\n",
    "    wide_class_prob_predictions=dcast(class_counts,id~value,value.var='predicted_prob')\n",
    "    wide_class_prob_predictions[is.na(wide_class_prob_predictions)]=0\n",
    "    class_predictions=class_counts[,list(predicted=value[which.max(N)]),by=list(id)]\n",
    "    \n",
    "    \n",
    "    return(list(prediction=class_predictions,prob_estimates=wide_class_prob_predictions))\n",
    "    \n",
    "}"
   ]
  },
  {
   "cell_type": "code",
   "execution_count": null,
   "metadata": {},
   "outputs": [],
   "source": []
  },
  {
   "cell_type": "markdown",
   "metadata": {},
   "source": [
    "<a id=\"3\"></a>\n",
    "# Representations"
   ]
  },
  {
   "cell_type": "markdown",
   "metadata": {},
   "source": [
    "There are 3 major representations, raw dataset, difference taken dataset, and paa representation. For difference taken dataset 1 and 2 will be used in shift operator. At the beginning, an example code will be given to show obtained dataframes in difference datasets. For paa dataset 9 and 18 will be used in segment length parameter. At the beginning, an example code will be given to show obtained dataframes in paa datasets."
   ]
  },
  {
   "cell_type": "markdown",
   "metadata": {},
   "source": [
    "## Example Code for difference datasets"
   ]
  },
  {
   "cell_type": "code",
   "execution_count": 23,
   "metadata": {
    "scrolled": true
   },
   "outputs": [
    {
     "data": {
      "text/html": [
       "<table>\n",
       "<thead><tr><th scope=col>id</th><th scope=col>variable</th><th scope=col>value</th><th scope=col>time</th><th scope=col>diff_series</th></tr></thead>\n",
       "<tbody>\n",
       "\t<tr><td>1         </td><td>V2        </td><td>1.781622  </td><td>1         </td><td>        NA</td></tr>\n",
       "\t<tr><td>1         </td><td>V3        </td><td>1.641665  </td><td>2         </td><td>-0.1399570</td></tr>\n",
       "\t<tr><td>1         </td><td>V4        </td><td>1.513937  </td><td>3         </td><td>-0.1277277</td></tr>\n",
       "\t<tr><td>1         </td><td>V5        </td><td>1.394362  </td><td>4         </td><td>-0.1195748</td></tr>\n",
       "\t<tr><td>1         </td><td>V6        </td><td>1.282035  </td><td>5         </td><td>-0.1123279</td></tr>\n",
       "\t<tr><td>1         </td><td>V7        </td><td>1.174689  </td><td>6         </td><td>-0.1073456</td></tr>\n",
       "</tbody>\n",
       "</table>\n"
      ],
      "text/latex": [
       "\\begin{tabular}{r|lllll}\n",
       " id & variable & value & time & diff\\_series\\\\\n",
       "\\hline\n",
       "\t 1          & V2         & 1.781622   & 1          &         NA\\\\\n",
       "\t 1          & V3         & 1.641665   & 2          & -0.1399570\\\\\n",
       "\t 1          & V4         & 1.513937   & 3          & -0.1277277\\\\\n",
       "\t 1          & V5         & 1.394362   & 4          & -0.1195748\\\\\n",
       "\t 1          & V6         & 1.282035   & 5          & -0.1123279\\\\\n",
       "\t 1          & V7         & 1.174689   & 6          & -0.1073456\\\\\n",
       "\\end{tabular}\n"
      ],
      "text/markdown": [
       "\n",
       "| id | variable | value | time | diff_series |\n",
       "|---|---|---|---|---|\n",
       "| 1          | V2         | 1.781622   | 1          |         NA |\n",
       "| 1          | V3         | 1.641665   | 2          | -0.1399570 |\n",
       "| 1          | V4         | 1.513937   | 3          | -0.1277277 |\n",
       "| 1          | V5         | 1.394362   | 4          | -0.1195748 |\n",
       "| 1          | V6         | 1.282035   | 5          | -0.1123279 |\n",
       "| 1          | V7         | 1.174689   | 6          | -0.1073456 |\n",
       "\n"
      ],
      "text/plain": [
       "  id variable value    time diff_series\n",
       "1 1  V2       1.781622 1            NA \n",
       "2 1  V3       1.641665 2    -0.1399570 \n",
       "3 1  V4       1.513937 3    -0.1277277 \n",
       "4 1  V5       1.394362 4    -0.1195748 \n",
       "5 1  V6       1.282035 5    -0.1123279 \n",
       "6 1  V7       1.174689 6    -0.1073456 "
      ]
     },
     "metadata": {},
     "output_type": "display_data"
    }
   ],
   "source": [
    "dt_ts_train=data.table(traindata)\n",
    "dt_ts_train[,id:=1:.N]\n",
    "long_train=melt(dt_ts_train,id.vars=c('id'))\n",
    "long_train[,time:=as.numeric(gsub(\"\\\\D\", \"\", variable))-1]\n",
    "long_train=long_train[order(id,time)]\n",
    "diff_long=copy(long_train)\n",
    "diff_long[,diff_series:=value-shift(value,1),by=list(id)]\n",
    "head(diff_long)"
   ]
  },
  {
   "cell_type": "code",
   "execution_count": 24,
   "metadata": {
    "scrolled": true
   },
   "outputs": [
    {
     "data": {
      "text/html": [
       "<table>\n",
       "<thead><tr><th scope=col>2</th><th scope=col>3</th><th scope=col>4</th><th scope=col>5</th><th scope=col>6</th><th scope=col>7</th><th scope=col>8</th><th scope=col>9</th><th scope=col>10</th><th scope=col>11</th><th scope=col>...</th><th scope=col>225</th><th scope=col>226</th><th scope=col>227</th><th scope=col>228</th><th scope=col>229</th><th scope=col>230</th><th scope=col>231</th><th scope=col>232</th><th scope=col>233</th><th scope=col>234</th></tr></thead>\n",
       "<tbody>\n",
       "\t<tr><td>-0.1399570 </td><td>-0.1277277 </td><td>-0.1195748 </td><td>-0.1123279 </td><td>-0.1073456 </td><td>-0.1041751 </td><td>-0.10009862</td><td>-0.09647516</td><td>-0.09330462</td><td>-0.08696353</td><td>...        </td><td>-0.0461994 </td><td>-0.0394053 </td><td>-0.0353289 </td><td>-0.0380466 </td><td>-0.0276290 </td><td>-0.0267232 </td><td>-0.0235526 </td><td>-0.0194762 </td><td>-0.0208350 </td><td>-0.0176645 </td></tr>\n",
       "\t<tr><td>-0.1408939 </td><td>-0.1268498 </td><td>-0.1200542 </td><td>-0.1141648 </td><td>-0.1073693 </td><td>-0.1037450 </td><td>-0.09966771</td><td>-0.09559037</td><td>-0.09241912</td><td>-0.08834181</td><td>...        </td><td>-0.0462096 </td><td>-0.0398670 </td><td>-0.0353368 </td><td>-0.0376019 </td><td>-0.0276351 </td><td>-0.0267291 </td><td>-0.0235578 </td><td>-0.0194805 </td><td>-0.0208396 </td><td>-0.0176683 </td></tr>\n",
       "\t<tr><td>-0.1402320 </td><td>-0.1279786 </td><td>-0.1198098 </td><td>-0.1130024 </td><td>-0.1089180 </td><td>-0.1030183 </td><td>-0.09848005</td><td>-0.09666472</td><td>-0.09303413</td><td>-0.08622675</td><td>...        </td><td>-0.0462901 </td><td>-0.0399366 </td><td>-0.0349446 </td><td>-0.0376674 </td><td>-0.0276834 </td><td>-0.0267756 </td><td>-0.0235989 </td><td>-0.0195145 </td><td>-0.0204221 </td><td>-0.0181530 </td></tr>\n",
       "\t<tr><td>-0.1389405 </td><td>-0.1272497 </td><td>-0.1191560 </td><td>-0.1115121 </td><td>-0.1056667 </td><td>-0.1047674 </td><td>-0.10027091</td><td>-0.09442555</td><td>-0.09127803</td><td>-0.08678158</td><td>...        </td><td>-0.0458639 </td><td>-0.0391191 </td><td>-0.0355220 </td><td>-0.0382199 </td><td>-0.0274283 </td><td>-0.0265291 </td><td>-0.0233816 </td><td>-0.0193347 </td><td>-0.0211334 </td><td>-0.0179858 </td></tr>\n",
       "\t<tr><td>-0.1388483 </td><td>-0.1267159 </td><td>-0.1186277 </td><td>-0.1132355 </td><td>-0.1064953 </td><td>-0.1033499 </td><td>-0.09885643</td><td>-0.09571097</td><td>-0.09211620</td><td>-0.08627468</td><td>...        </td><td>-0.0458334 </td><td>-0.0395426 </td><td>-0.0354984 </td><td>-0.0381945 </td><td>-0.0274102 </td><td>-0.0260621 </td><td>-0.0229167 </td><td>-0.0197713 </td><td>-0.0211194 </td><td>-0.0179738 </td></tr>\n",
       "\t<tr><td>-0.1403266 </td><td>-0.1259800 </td><td>-0.1183585 </td><td>-0.1120819 </td><td>-0.1067019 </td><td>-0.1026670 </td><td>-0.09908042</td><td>-0.09639043</td><td>-0.09280380</td><td>-0.08473390</td><td>...        </td><td>-0.0457294 </td><td>-0.0394528 </td><td>-0.0349696 </td><td>-0.0376595 </td><td>-0.0273480 </td><td>-0.0268996 </td><td>-0.0228647 </td><td>-0.0192781 </td><td>-0.0210714 </td><td>-0.0179331 </td></tr>\n",
       "</tbody>\n",
       "</table>\n"
      ],
      "text/latex": [
       "\\begin{tabular}{r|lllllllllllllllllllllllllllllllllllllllllllllllllllllllllllllllllllllllllllllllllllllllllllllllllllllllllllllllllllllllllllllllllllllllllllllllllllllllllllllllllllllllllllllllllllllllllllllllllllllllllllllllllllllllllllllllllllllllll}\n",
       " 2 & 3 & 4 & 5 & 6 & 7 & 8 & 9 & 10 & 11 & ... & 225 & 226 & 227 & 228 & 229 & 230 & 231 & 232 & 233 & 234\\\\\n",
       "\\hline\n",
       "\t -0.1399570  & -0.1277277  & -0.1195748  & -0.1123279  & -0.1073456  & -0.1041751  & -0.10009862 & -0.09647516 & -0.09330462 & -0.08696353 & ...         & -0.0461994  & -0.0394053  & -0.0353289  & -0.0380466  & -0.0276290  & -0.0267232  & -0.0235526  & -0.0194762  & -0.0208350  & -0.0176645 \\\\\n",
       "\t -0.1408939  & -0.1268498  & -0.1200542  & -0.1141648  & -0.1073693  & -0.1037450  & -0.09966771 & -0.09559037 & -0.09241912 & -0.08834181 & ...         & -0.0462096  & -0.0398670  & -0.0353368  & -0.0376019  & -0.0276351  & -0.0267291  & -0.0235578  & -0.0194805  & -0.0208396  & -0.0176683 \\\\\n",
       "\t -0.1402320  & -0.1279786  & -0.1198098  & -0.1130024  & -0.1089180  & -0.1030183  & -0.09848005 & -0.09666472 & -0.09303413 & -0.08622675 & ...         & -0.0462901  & -0.0399366  & -0.0349446  & -0.0376674  & -0.0276834  & -0.0267756  & -0.0235989  & -0.0195145  & -0.0204221  & -0.0181530 \\\\\n",
       "\t -0.1389405  & -0.1272497  & -0.1191560  & -0.1115121  & -0.1056667  & -0.1047674  & -0.10027091 & -0.09442555 & -0.09127803 & -0.08678158 & ...         & -0.0458639  & -0.0391191  & -0.0355220  & -0.0382199  & -0.0274283  & -0.0265291  & -0.0233816  & -0.0193347  & -0.0211334  & -0.0179858 \\\\\n",
       "\t -0.1388483  & -0.1267159  & -0.1186277  & -0.1132355  & -0.1064953  & -0.1033499  & -0.09885643 & -0.09571097 & -0.09211620 & -0.08627468 & ...         & -0.0458334  & -0.0395426  & -0.0354984  & -0.0381945  & -0.0274102  & -0.0260621  & -0.0229167  & -0.0197713  & -0.0211194  & -0.0179738 \\\\\n",
       "\t -0.1403266  & -0.1259800  & -0.1183585  & -0.1120819  & -0.1067019  & -0.1026670  & -0.09908042 & -0.09639043 & -0.09280380 & -0.08473390 & ...         & -0.0457294  & -0.0394528  & -0.0349696  & -0.0376595  & -0.0273480  & -0.0268996  & -0.0228647  & -0.0192781  & -0.0210714  & -0.0179331 \\\\\n",
       "\\end{tabular}\n"
      ],
      "text/markdown": [
       "\n",
       "| 2 | 3 | 4 | 5 | 6 | 7 | 8 | 9 | 10 | 11 | ... | 225 | 226 | 227 | 228 | 229 | 230 | 231 | 232 | 233 | 234 |\n",
       "|---|---|---|---|---|---|---|---|---|---|---|---|---|---|---|---|---|---|---|---|---|\n",
       "| -0.1399570  | -0.1277277  | -0.1195748  | -0.1123279  | -0.1073456  | -0.1041751  | -0.10009862 | -0.09647516 | -0.09330462 | -0.08696353 | ...         | -0.0461994  | -0.0394053  | -0.0353289  | -0.0380466  | -0.0276290  | -0.0267232  | -0.0235526  | -0.0194762  | -0.0208350  | -0.0176645  |\n",
       "| -0.1408939  | -0.1268498  | -0.1200542  | -0.1141648  | -0.1073693  | -0.1037450  | -0.09966771 | -0.09559037 | -0.09241912 | -0.08834181 | ...         | -0.0462096  | -0.0398670  | -0.0353368  | -0.0376019  | -0.0276351  | -0.0267291  | -0.0235578  | -0.0194805  | -0.0208396  | -0.0176683  |\n",
       "| -0.1402320  | -0.1279786  | -0.1198098  | -0.1130024  | -0.1089180  | -0.1030183  | -0.09848005 | -0.09666472 | -0.09303413 | -0.08622675 | ...         | -0.0462901  | -0.0399366  | -0.0349446  | -0.0376674  | -0.0276834  | -0.0267756  | -0.0235989  | -0.0195145  | -0.0204221  | -0.0181530  |\n",
       "| -0.1389405  | -0.1272497  | -0.1191560  | -0.1115121  | -0.1056667  | -0.1047674  | -0.10027091 | -0.09442555 | -0.09127803 | -0.08678158 | ...         | -0.0458639  | -0.0391191  | -0.0355220  | -0.0382199  | -0.0274283  | -0.0265291  | -0.0233816  | -0.0193347  | -0.0211334  | -0.0179858  |\n",
       "| -0.1388483  | -0.1267159  | -0.1186277  | -0.1132355  | -0.1064953  | -0.1033499  | -0.09885643 | -0.09571097 | -0.09211620 | -0.08627468 | ...         | -0.0458334  | -0.0395426  | -0.0354984  | -0.0381945  | -0.0274102  | -0.0260621  | -0.0229167  | -0.0197713  | -0.0211194  | -0.0179738  |\n",
       "| -0.1403266  | -0.1259800  | -0.1183585  | -0.1120819  | -0.1067019  | -0.1026670  | -0.09908042 | -0.09639043 | -0.09280380 | -0.08473390 | ...         | -0.0457294  | -0.0394528  | -0.0349696  | -0.0376595  | -0.0273480  | -0.0268996  | -0.0228647  | -0.0192781  | -0.0210714  | -0.0179331  |\n",
       "\n"
      ],
      "text/plain": [
       "  2          3          4          5          6          7          8          \n",
       "1 -0.1399570 -0.1277277 -0.1195748 -0.1123279 -0.1073456 -0.1041751 -0.10009862\n",
       "2 -0.1408939 -0.1268498 -0.1200542 -0.1141648 -0.1073693 -0.1037450 -0.09966771\n",
       "3 -0.1402320 -0.1279786 -0.1198098 -0.1130024 -0.1089180 -0.1030183 -0.09848005\n",
       "4 -0.1389405 -0.1272497 -0.1191560 -0.1115121 -0.1056667 -0.1047674 -0.10027091\n",
       "5 -0.1388483 -0.1267159 -0.1186277 -0.1132355 -0.1064953 -0.1033499 -0.09885643\n",
       "6 -0.1403266 -0.1259800 -0.1183585 -0.1120819 -0.1067019 -0.1026670 -0.09908042\n",
       "  9           10          11          ... 225        226        227       \n",
       "1 -0.09647516 -0.09330462 -0.08696353 ... -0.0461994 -0.0394053 -0.0353289\n",
       "2 -0.09559037 -0.09241912 -0.08834181 ... -0.0462096 -0.0398670 -0.0353368\n",
       "3 -0.09666472 -0.09303413 -0.08622675 ... -0.0462901 -0.0399366 -0.0349446\n",
       "4 -0.09442555 -0.09127803 -0.08678158 ... -0.0458639 -0.0391191 -0.0355220\n",
       "5 -0.09571097 -0.09211620 -0.08627468 ... -0.0458334 -0.0395426 -0.0354984\n",
       "6 -0.09639043 -0.09280380 -0.08473390 ... -0.0457294 -0.0394528 -0.0349696\n",
       "  228        229        230        231        232        233        234       \n",
       "1 -0.0380466 -0.0276290 -0.0267232 -0.0235526 -0.0194762 -0.0208350 -0.0176645\n",
       "2 -0.0376019 -0.0276351 -0.0267291 -0.0235578 -0.0194805 -0.0208396 -0.0176683\n",
       "3 -0.0376674 -0.0276834 -0.0267756 -0.0235989 -0.0195145 -0.0204221 -0.0181530\n",
       "4 -0.0382199 -0.0274283 -0.0265291 -0.0233816 -0.0193347 -0.0211334 -0.0179858\n",
       "5 -0.0381945 -0.0274102 -0.0260621 -0.0229167 -0.0197713 -0.0211194 -0.0179738\n",
       "6 -0.0376595 -0.0273480 -0.0268996 -0.0228647 -0.0192781 -0.0210714 -0.0179331"
      ]
     },
     "metadata": {},
     "output_type": "display_data"
    }
   ],
   "source": [
    "diff_train=dcast(diff_long[!is.na(diff_series)],id~time,value.var='diff_series')\n",
    "diff_train=diff_train[,-c(\"id\")]\n",
    "head(diff_train)\n",
    "diff_train=as.matrix(diff_train)"
   ]
  },
  {
   "cell_type": "markdown",
   "metadata": {},
   "source": [
    "<a id=\"4\"></a>\n",
    "## Difference Function"
   ]
  },
  {
   "cell_type": "code",
   "execution_count": 25,
   "metadata": {},
   "outputs": [],
   "source": [
    "difference_obtainer=function(traindata, diff_value){\n",
    "    dt_ts_train=data.table(traindata)\n",
    "    dt_ts_train[,id:=1:.N]\n",
    "    long_train=melt(dt_ts_train,id.vars=c('id'))\n",
    "    long_train[,time:=as.numeric(gsub(\"\\\\D\", \"\", variable))-1]\n",
    "    long_train=long_train[order(id,time)]\n",
    "    diff_long=copy(long_train)\n",
    "    diff_long[,diff_series:=value-shift(value,diff_value),by=list(id)]#Lag value is assigned by diff_value\n",
    "    head(diff_long)\n",
    "    \n",
    "    diff_train=dcast(diff_long[!is.na(diff_series)],id~time,value.var='diff_series')\n",
    "    diff_train=diff_train[,-c(\"id\")]\n",
    "    head(diff_train)\n",
    "    diff_train=as.matrix(diff_train)\n",
    "    \n",
    "    return(diff_train)\n",
    "}"
   ]
  },
  {
   "cell_type": "markdown",
   "metadata": {},
   "source": [
    "This function will be used to get a difference dataset. \"_2\" string will be used to mention 2 differences taken dataset."
   ]
  },
  {
   "cell_type": "markdown",
   "metadata": {},
   "source": [
    "###  1 Difference"
   ]
  },
  {
   "cell_type": "code",
   "execution_count": 26,
   "metadata": {},
   "outputs": [],
   "source": [
    "diff_train=difference_obtainer(traindata,1)"
   ]
  },
  {
   "cell_type": "markdown",
   "metadata": {},
   "source": [
    "### 2 Difference"
   ]
  },
  {
   "cell_type": "code",
   "execution_count": 27,
   "metadata": {},
   "outputs": [],
   "source": [
    "diff_train_2=difference_obtainer(traindata,2)"
   ]
  },
  {
   "cell_type": "code",
   "execution_count": null,
   "metadata": {},
   "outputs": [],
   "source": []
  },
  {
   "cell_type": "code",
   "execution_count": null,
   "metadata": {},
   "outputs": [],
   "source": []
  },
  {
   "cell_type": "markdown",
   "metadata": {},
   "source": [
    "## Example Code for PAA"
   ]
  },
  {
   "cell_type": "code",
   "execution_count": 28,
   "metadata": {},
   "outputs": [],
   "source": [
    "segment_length=5"
   ]
  },
  {
   "cell_type": "code",
   "execution_count": 29,
   "metadata": {},
   "outputs": [],
   "source": [
    "paa_results=vector(\"list\", max(long_train$id))"
   ]
  },
  {
   "cell_type": "code",
   "execution_count": 30,
   "metadata": {
    "scrolled": false
   },
   "outputs": [],
   "source": [
    "for(i in 1:max(long_train$id)){\n",
    "    current_ts=long_train[id==i,]$value\n",
    "    \n",
    "    paa_rep=repr_paa(current_ts, segment_length, meanC)\n",
    "    current_dt=data.table(time=1:length(long_train[id==i,]$value))\n",
    "    result_dt=data.table(time=c(1:(length(paa_rep)))*segment_length, values=paa_rep)\n",
    "    all_dt=merge(current_dt, result_dt, by='time',all.x=T)\n",
    "    all_dt[,values:=nafill(values,'nocb')]\n",
    "    paa_results[[i]]=transpose(data.table(values=all_dt$values))\n",
    "    \n",
    "}"
   ]
  },
  {
   "cell_type": "code",
   "execution_count": 31,
   "metadata": {},
   "outputs": [],
   "source": [
    "paa_train=rbindlist(paa_results)"
   ]
  },
  {
   "cell_type": "code",
   "execution_count": 32,
   "metadata": {},
   "outputs": [
    {
     "data": {
      "text/html": [
       "<table>\n",
       "<thead><tr><th scope=col>V1</th><th scope=col>V2</th><th scope=col>V3</th><th scope=col>V4</th><th scope=col>V5</th><th scope=col>V6</th><th scope=col>V7</th><th scope=col>V8</th><th scope=col>V9</th><th scope=col>V10</th><th scope=col>...</th><th scope=col>V225</th><th scope=col>V226</th><th scope=col>V227</th><th scope=col>V228</th><th scope=col>V229</th><th scope=col>V230</th><th scope=col>V231</th><th scope=col>V232</th><th scope=col>V233</th><th scope=col>V234</th></tr></thead>\n",
       "<tbody>\n",
       "\t<tr><td>1.522724 </td><td>1.522724 </td><td>1.522724 </td><td>1.522724 </td><td>1.522724 </td><td>0.9740388</td><td>0.9740388</td><td>0.9740388</td><td>0.9740388</td><td>0.9740388</td><td>...      </td><td>-1.568920</td><td>-1.777089</td><td>-1.777089</td><td>-1.777089</td><td>-1.777089</td><td>-1.777089</td><td>NA       </td><td>NA       </td><td>NA       </td><td>NA       </td></tr>\n",
       "\t<tr><td>1.520070 </td><td>1.520070 </td><td>1.520070 </td><td>1.520070 </td><td>1.520070 </td><td>0.9709011</td><td>0.9709011</td><td>0.9709011</td><td>0.9709011</td><td>0.9709011</td><td>...      </td><td>-1.568813</td><td>-1.777662</td><td>-1.777662</td><td>-1.777662</td><td>-1.777662</td><td>-1.777662</td><td>NA       </td><td>NA       </td><td>NA       </td><td>NA       </td></tr>\n",
       "\t<tr><td>1.516995 </td><td>1.516995 </td><td>1.516995 </td><td>1.516995 </td><td>1.516995 </td><td>0.9677760</td><td>0.9677760</td><td>0.9677760</td><td>0.9677760</td><td>0.9677760</td><td>...      </td><td>-1.572192</td><td>-1.780860</td><td>-1.780860</td><td>-1.780860</td><td>-1.780860</td><td>-1.780860</td><td>NA       </td><td>NA       </td><td>NA       </td><td>NA       </td></tr>\n",
       "\t<tr><td>1.516613 </td><td>1.516613 </td><td>1.516613 </td><td>1.516613 </td><td>1.516613 </td><td>0.9715528</td><td>0.9715528</td><td>0.9715528</td><td>0.9715528</td><td>0.9715528</td><td>...      </td><td>-1.555994</td><td>-1.763011</td><td>-1.763011</td><td>-1.763011</td><td>-1.763011</td><td>-1.763011</td><td>NA       </td><td>NA       </td><td>NA       </td><td>NA       </td></tr>\n",
       "\t<tr><td>1.519296 </td><td>1.519296 </td><td>1.519296 </td><td>1.519296 </td><td>1.519296 </td><td>0.9738781</td><td>0.9738781</td><td>0.9738781</td><td>0.9738781</td><td>0.9738781</td><td>...      </td><td>-1.554959</td><td>-1.762198</td><td>-1.762198</td><td>-1.762198</td><td>-1.762198</td><td>-1.762198</td><td>NA       </td><td>NA       </td><td>NA       </td><td>NA       </td></tr>\n",
       "\t<tr><td>1.519328 </td><td>1.519328 </td><td>1.519328 </td><td>1.519328 </td><td>1.519328 </td><td>0.9747890</td><td>0.9747890</td><td>0.9747890</td><td>0.9747890</td><td>0.9747890</td><td>...      </td><td>-1.551895</td><td>-1.758216</td><td>-1.758216</td><td>-1.758216</td><td>-1.758216</td><td>-1.758216</td><td>NA       </td><td>NA       </td><td>NA       </td><td>NA       </td></tr>\n",
       "\t<tr><td>1.413624 </td><td>1.413624 </td><td>1.413624 </td><td>1.413624 </td><td>1.413624 </td><td>0.9047137</td><td>0.9047137</td><td>0.9047137</td><td>0.9047137</td><td>0.9047137</td><td>...      </td><td>-1.559792</td><td>-1.759599</td><td>-1.759599</td><td>-1.759599</td><td>-1.759599</td><td>-1.759599</td><td>NA       </td><td>NA       </td><td>NA       </td><td>NA       </td></tr>\n",
       "\t<tr><td>1.413895 </td><td>1.413895 </td><td>1.413895 </td><td>1.413895 </td><td>1.413895 </td><td>0.9044763</td><td>0.9044763</td><td>0.9044763</td><td>0.9044763</td><td>0.9044763</td><td>...      </td><td>-1.561058</td><td>-1.761513</td><td>-1.761513</td><td>-1.761513</td><td>-1.761513</td><td>-1.761513</td><td>NA       </td><td>NA       </td><td>NA       </td><td>NA       </td></tr>\n",
       "\t<tr><td>1.415631 </td><td>1.415631 </td><td>1.415631 </td><td>1.415631 </td><td>1.415631 </td><td>0.9059895</td><td>0.9059895</td><td>0.9059895</td><td>0.9059895</td><td>0.9059895</td><td>...      </td><td>-1.559395</td><td>-1.759925</td><td>-1.759925</td><td>-1.759925</td><td>-1.759925</td><td>-1.759925</td><td>NA       </td><td>NA       </td><td>NA       </td><td>NA       </td></tr>\n",
       "\t<tr><td>1.464627 </td><td>1.464627 </td><td>1.464627 </td><td>1.464627 </td><td>1.464627 </td><td>0.9375599</td><td>0.9375599</td><td>0.9375599</td><td>0.9375599</td><td>0.9375599</td><td>...      </td><td>-1.559965</td><td>-1.765061</td><td>-1.765061</td><td>-1.765061</td><td>-1.765061</td><td>-1.765061</td><td>NA       </td><td>NA       </td><td>NA       </td><td>NA       </td></tr>\n",
       "\t<tr><td>1.464445 </td><td>1.464445 </td><td>1.464445 </td><td>1.464445 </td><td>1.464445 </td><td>0.9361842</td><td>0.9361842</td><td>0.9361842</td><td>0.9361842</td><td>0.9361842</td><td>...      </td><td>-1.559848</td><td>-1.764953</td><td>-1.764953</td><td>-1.764953</td><td>-1.764953</td><td>-1.764953</td><td>NA       </td><td>NA       </td><td>NA       </td><td>NA       </td></tr>\n",
       "\t<tr><td>1.464054 </td><td>1.464054 </td><td>1.464054 </td><td>1.464054 </td><td>1.464054 </td><td>0.9363089</td><td>0.9363089</td><td>0.9363089</td><td>0.9363089</td><td>0.9363089</td><td>...      </td><td>-1.559123</td><td>-1.764367</td><td>-1.764367</td><td>-1.764367</td><td>-1.764367</td><td>-1.764367</td><td>NA       </td><td>NA       </td><td>NA       </td><td>NA       </td></tr>\n",
       "\t<tr><td>1.451967 </td><td>1.451967 </td><td>1.451967 </td><td>1.451967 </td><td>1.451967 </td><td>0.9277160</td><td>0.9277160</td><td>0.9277160</td><td>0.9277160</td><td>0.9277160</td><td>...      </td><td>-1.564879</td><td>-1.767530</td><td>-1.767530</td><td>-1.767530</td><td>-1.767530</td><td>-1.767530</td><td>NA       </td><td>NA       </td><td>NA       </td><td>NA       </td></tr>\n",
       "\t<tr><td>1.452788 </td><td>1.452788 </td><td>1.452788 </td><td>1.452788 </td><td>1.452788 </td><td>0.9288805</td><td>0.9288805</td><td>0.9288805</td><td>0.9288805</td><td>0.9288805</td><td>...      </td><td>-1.565277</td><td>-1.768274</td><td>-1.768274</td><td>-1.768274</td><td>-1.768274</td><td>-1.768274</td><td>NA       </td><td>NA       </td><td>NA       </td><td>NA       </td></tr>\n",
       "\t<tr><td>1.454976 </td><td>1.454976 </td><td>1.454976 </td><td>1.454976 </td><td>1.454976 </td><td>0.9315724</td><td>0.9315724</td><td>0.9315724</td><td>0.9315724</td><td>0.9315724</td><td>...      </td><td>-1.566205</td><td>-1.769231</td><td>-1.769231</td><td>-1.769231</td><td>-1.769231</td><td>-1.769231</td><td>NA       </td><td>NA       </td><td>NA       </td><td>NA       </td></tr>\n",
       "\t<tr><td>1.433529 </td><td>1.433529 </td><td>1.433529 </td><td>1.433529 </td><td>1.433529 </td><td>0.9194017</td><td>0.9194017</td><td>0.9194017</td><td>0.9194017</td><td>0.9194017</td><td>...      </td><td>-1.554776</td><td>-1.757620</td><td>-1.757620</td><td>-1.757620</td><td>-1.757620</td><td>-1.757620</td><td>NA       </td><td>NA       </td><td>NA       </td><td>NA       </td></tr>\n",
       "\t<tr><td>1.437429 </td><td>1.437429 </td><td>1.437429 </td><td>1.437429 </td><td>1.437429 </td><td>0.9222565</td><td>0.9222565</td><td>0.9222565</td><td>0.9222565</td><td>0.9222565</td><td>...      </td><td>-1.553072</td><td>-1.755302</td><td>-1.755302</td><td>-1.755302</td><td>-1.755302</td><td>-1.755302</td><td>NA       </td><td>NA       </td><td>NA       </td><td>NA       </td></tr>\n",
       "\t<tr><td>1.434207 </td><td>1.434207 </td><td>1.434207 </td><td>1.434207 </td><td>1.434207 </td><td>0.9206880</td><td>0.9206880</td><td>0.9206880</td><td>0.9206880</td><td>0.9206880</td><td>...      </td><td>-1.560230</td><td>-1.762895</td><td>-1.762895</td><td>-1.762895</td><td>-1.762895</td><td>-1.762895</td><td>NA       </td><td>NA       </td><td>NA       </td><td>NA       </td></tr>\n",
       "\t<tr><td>1.429326 </td><td>1.429326 </td><td>1.429326 </td><td>1.429326 </td><td>1.429326 </td><td>0.9159919</td><td>0.9159919</td><td>0.9159919</td><td>0.9159919</td><td>0.9159919</td><td>...      </td><td>-1.534150</td><td>-1.731979</td><td>-1.731979</td><td>-1.731979</td><td>-1.731979</td><td>-1.731979</td><td>NA       </td><td>NA       </td><td>NA       </td><td>NA       </td></tr>\n",
       "\t<tr><td>1.437679 </td><td>1.437679 </td><td>1.437679 </td><td>1.437679 </td><td>1.437679 </td><td>0.9232046</td><td>0.9232046</td><td>0.9232046</td><td>0.9232046</td><td>0.9232046</td><td>...      </td><td>-1.537040</td><td>-1.732489</td><td>-1.732489</td><td>-1.732489</td><td>-1.732489</td><td>-1.732489</td><td>NA       </td><td>NA       </td><td>NA       </td><td>NA       </td></tr>\n",
       "\t<tr><td>1.432618 </td><td>1.432618 </td><td>1.432618 </td><td>1.432618 </td><td>1.432618 </td><td>0.9183191</td><td>0.9183191</td><td>0.9183191</td><td>0.9183191</td><td>0.9183191</td><td>...      </td><td>-1.539671</td><td>-1.738213</td><td>-1.738213</td><td>-1.738213</td><td>-1.738213</td><td>-1.738213</td><td>NA       </td><td>NA       </td><td>NA       </td><td>NA       </td></tr>\n",
       "\t<tr><td>1.420517 </td><td>1.420517 </td><td>1.420517 </td><td>1.420517 </td><td>1.420517 </td><td>0.9071155</td><td>0.9071155</td><td>0.9071155</td><td>0.9071155</td><td>0.9071155</td><td>...      </td><td>-1.560401</td><td>-1.761535</td><td>-1.761535</td><td>-1.761535</td><td>-1.761535</td><td>-1.761535</td><td>NA       </td><td>NA       </td><td>NA       </td><td>NA       </td></tr>\n",
       "\t<tr><td>1.420181 </td><td>1.420181 </td><td>1.420181 </td><td>1.420181 </td><td>1.420181 </td><td>0.9078602</td><td>0.9078602</td><td>0.9078602</td><td>0.9078602</td><td>0.9078602</td><td>...      </td><td>-1.559316</td><td>-1.760879</td><td>-1.760879</td><td>-1.760879</td><td>-1.760879</td><td>-1.760879</td><td>NA       </td><td>NA       </td><td>NA       </td><td>NA       </td></tr>\n",
       "\t<tr><td>1.419375 </td><td>1.419375 </td><td>1.419375 </td><td>1.419375 </td><td>1.419375 </td><td>0.9070706</td><td>0.9070706</td><td>0.9070706</td><td>0.9070706</td><td>0.9070706</td><td>...      </td><td>-1.560603</td><td>-1.761818</td><td>-1.761818</td><td>-1.761818</td><td>-1.761818</td><td>-1.761818</td><td>NA       </td><td>NA       </td><td>NA       </td><td>NA       </td></tr>\n",
       "\t<tr><td>1.444937 </td><td>1.444937 </td><td>1.444937 </td><td>1.444937 </td><td>1.444937 </td><td>0.9276033</td><td>0.9276033</td><td>0.9276033</td><td>0.9276033</td><td>0.9276033</td><td>...      </td><td>-1.548680</td><td>-1.747928</td><td>-1.747928</td><td>-1.747928</td><td>-1.747928</td><td>-1.747928</td><td>NA       </td><td>NA       </td><td>NA       </td><td>NA       </td></tr>\n",
       "\t<tr><td>1.448579 </td><td>1.448579 </td><td>1.448579 </td><td>1.448579 </td><td>1.448579 </td><td>0.9309921</td><td>0.9309921</td><td>0.9309921</td><td>0.9309921</td><td>0.9309921</td><td>...      </td><td>-1.552909</td><td>-1.752859</td><td>-1.752859</td><td>-1.752859</td><td>-1.752859</td><td>-1.752859</td><td>NA       </td><td>NA       </td><td>NA       </td><td>NA       </td></tr>\n",
       "\t<tr><td>1.438511 </td><td>1.438511 </td><td>1.438511 </td><td>1.438511 </td><td>1.438511 </td><td>0.9225048</td><td>0.9225048</td><td>0.9225048</td><td>0.9225048</td><td>0.9225048</td><td>...      </td><td>-1.545850</td><td>-1.744950</td><td>-1.744950</td><td>-1.744950</td><td>-1.744950</td><td>-1.744950</td><td>NA       </td><td>NA       </td><td>NA       </td><td>NA       </td></tr>\n",
       "\t<tr><td>1.442770 </td><td>1.442770 </td><td>1.442770 </td><td>1.442770 </td><td>1.442770 </td><td>0.9208207</td><td>0.9208207</td><td>0.9208207</td><td>0.9208207</td><td>0.9208207</td><td>...      </td><td>-1.568863</td><td>-1.773779</td><td>-1.773779</td><td>-1.773779</td><td>-1.773779</td><td>-1.773779</td><td>NA       </td><td>NA       </td><td>NA       </td><td>NA       </td></tr>\n",
       "\t<tr><td>1.434801 </td><td>1.434801 </td><td>1.434801 </td><td>1.434801 </td><td>1.434801 </td><td>0.9135788</td><td>0.9135788</td><td>0.9135788</td><td>0.9135788</td><td>0.9135788</td><td>...      </td><td>-1.561936</td><td>-1.766147</td><td>-1.766147</td><td>-1.766147</td><td>-1.766147</td><td>-1.766147</td><td>NA       </td><td>NA       </td><td>NA       </td><td>NA       </td></tr>\n",
       "\t<tr><td>1.436116 </td><td>1.436116 </td><td>1.436116 </td><td>1.436116 </td><td>1.436116 </td><td>0.9169724</td><td>0.9169724</td><td>0.9169724</td><td>0.9169724</td><td>0.9169724</td><td>...      </td><td>-1.559194</td><td>-1.763746</td><td>-1.763746</td><td>-1.763746</td><td>-1.763746</td><td>-1.763746</td><td>NA       </td><td>NA       </td><td>NA       </td><td>NA       </td></tr>\n",
       "\t<tr><td>1.516981 </td><td>1.516981 </td><td>1.516981 </td><td>1.516981 </td><td>1.516981 </td><td>0.9701741</td><td>0.9701741</td><td>0.9701741</td><td>0.9701741</td><td>0.9701741</td><td>...      </td><td>-1.572170</td><td>-1.778718</td><td>-1.778718</td><td>-1.778718</td><td>-1.778718</td><td>-1.778718</td><td>NA       </td><td>NA       </td><td>NA       </td><td>NA       </td></tr>\n",
       "\t<tr><td>1.517738 </td><td>1.517738 </td><td>1.517738 </td><td>1.517738 </td><td>1.517738 </td><td>0.9698687</td><td>0.9698687</td><td>0.9698687</td><td>0.9698687</td><td>0.9698687</td><td>...      </td><td>-1.571728</td><td>-1.778266</td><td>-1.778266</td><td>-1.778266</td><td>-1.778266</td><td>-1.778266</td><td>NA       </td><td>NA       </td><td>NA       </td><td>NA       </td></tr>\n",
       "\t<tr><td>1.517655 </td><td>1.517655 </td><td>1.517655 </td><td>1.517655 </td><td>1.517655 </td><td>0.9712780</td><td>0.9712780</td><td>0.9712780</td><td>0.9712780</td><td>0.9712780</td><td>...      </td><td>-1.568543</td><td>-1.773615</td><td>-1.773615</td><td>-1.773615</td><td>-1.773615</td><td>-1.773615</td><td>NA       </td><td>NA       </td><td>NA       </td><td>NA       </td></tr>\n",
       "\t<tr><td>1.432693 </td><td>1.432693 </td><td>1.432693 </td><td>1.432693 </td><td>1.432693 </td><td>0.9137106</td><td>0.9137106</td><td>0.9137106</td><td>0.9137106</td><td>0.9137106</td><td>...      </td><td>-1.603564</td><td>-1.805767</td><td>-1.805767</td><td>-1.805767</td><td>-1.805767</td><td>-1.805767</td><td>NA       </td><td>NA       </td><td>NA       </td><td>NA       </td></tr>\n",
       "\t<tr><td>1.433200 </td><td>1.433200 </td><td>1.433200 </td><td>1.433200 </td><td>1.433200 </td><td>0.9139216</td><td>0.9139216</td><td>0.9139216</td><td>0.9139216</td><td>0.9139216</td><td>...      </td><td>-1.600820</td><td>-1.802838</td><td>-1.802838</td><td>-1.802838</td><td>-1.802838</td><td>-1.802838</td><td>NA       </td><td>NA       </td><td>NA       </td><td>NA       </td></tr>\n",
       "\t<tr><td>1.435682 </td><td>1.435682 </td><td>1.435682 </td><td>1.435682 </td><td>1.435682 </td><td>0.9155450</td><td>0.9155450</td><td>0.9155450</td><td>0.9155450</td><td>0.9155450</td><td>...      </td><td>-1.601013</td><td>-1.803044</td><td>-1.803044</td><td>-1.803044</td><td>-1.803044</td><td>-1.803044</td><td>NA       </td><td>NA       </td><td>NA       </td><td>NA       </td></tr>\n",
       "\t<tr><td>1.462461 </td><td>1.462461 </td><td>1.462461 </td><td>1.462461 </td><td>1.462461 </td><td>0.9400520</td><td>0.9400520</td><td>0.9400520</td><td>0.9400520</td><td>0.9400520</td><td>...      </td><td>-1.563143</td><td>-1.766103</td><td>-1.766103</td><td>-1.766103</td><td>-1.766103</td><td>-1.766103</td><td>NA       </td><td>NA       </td><td>NA       </td><td>NA       </td></tr>\n",
       "\t<tr><td>1.465027 </td><td>1.465027 </td><td>1.465027 </td><td>1.465027 </td><td>1.465027 </td><td>0.9413844</td><td>0.9413844</td><td>0.9413844</td><td>0.9413844</td><td>0.9413844</td><td>...      </td><td>-1.562608</td><td>-1.765792</td><td>-1.765792</td><td>-1.765792</td><td>-1.765792</td><td>-1.765792</td><td>NA       </td><td>NA       </td><td>NA       </td><td>NA       </td></tr>\n",
       "\t<tr><td>1.466717 </td><td>1.466717 </td><td>1.466717 </td><td>1.466717 </td><td>1.466717 </td><td>0.9442080</td><td>0.9442080</td><td>0.9442080</td><td>0.9442080</td><td>0.9442080</td><td>...      </td><td>-1.562288</td><td>-1.765845</td><td>-1.765845</td><td>-1.765845</td><td>-1.765845</td><td>-1.765845</td><td>NA       </td><td>NA       </td><td>NA       </td><td>NA       </td></tr>\n",
       "\t<tr><td>1.469031 </td><td>1.469031 </td><td>1.469031 </td><td>1.469031 </td><td>1.469031 </td><td>0.9455690</td><td>0.9455690</td><td>0.9455690</td><td>0.9455690</td><td>0.9455690</td><td>...      </td><td>-1.550679</td><td>-1.755007</td><td>-1.755007</td><td>-1.755007</td><td>-1.755007</td><td>-1.755007</td><td>NA       </td><td>NA       </td><td>NA       </td><td>NA       </td></tr>\n",
       "\t<tr><td>1.465866 </td><td>1.465866 </td><td>1.465866 </td><td>1.465866 </td><td>1.465866 </td><td>0.9440293</td><td>0.9440293</td><td>0.9440293</td><td>0.9440293</td><td>0.9440293</td><td>...      </td><td>-1.550907</td><td>-1.754925</td><td>-1.754925</td><td>-1.754925</td><td>-1.754925</td><td>-1.754925</td><td>NA       </td><td>NA       </td><td>NA       </td><td>NA       </td></tr>\n",
       "\t<tr><td>1.466053 </td><td>1.466053 </td><td>1.466053 </td><td>1.466053 </td><td>1.466053 </td><td>0.9439828</td><td>0.9439828</td><td>0.9439828</td><td>0.9439828</td><td>0.9439828</td><td>...      </td><td>-1.550185</td><td>-1.754244</td><td>-1.754244</td><td>-1.754244</td><td>-1.754244</td><td>-1.754244</td><td>NA       </td><td>NA       </td><td>NA       </td><td>NA       </td></tr>\n",
       "\t<tr><td>1.453794 </td><td>1.453794 </td><td>1.453794 </td><td>1.453794 </td><td>1.453794 </td><td>0.9341453</td><td>0.9341453</td><td>0.9341453</td><td>0.9341453</td><td>0.9341453</td><td>...      </td><td>-1.554803</td><td>-1.757743</td><td>-1.757743</td><td>-1.757743</td><td>-1.757743</td><td>-1.757743</td><td>NA       </td><td>NA       </td><td>NA       </td><td>NA       </td></tr>\n",
       "\t<tr><td>1.454473 </td><td>1.454473 </td><td>1.454473 </td><td>1.454473 </td><td>1.454473 </td><td>0.9352148</td><td>0.9352148</td><td>0.9352148</td><td>0.9352148</td><td>0.9352148</td><td>...      </td><td>-1.552207</td><td>-1.755213</td><td>-1.755213</td><td>-1.755213</td><td>-1.755213</td><td>-1.755213</td><td>NA       </td><td>NA       </td><td>NA       </td><td>NA       </td></tr>\n",
       "\t<tr><td>1.453675 </td><td>1.453675 </td><td>1.453675 </td><td>1.453675 </td><td>1.453675 </td><td>0.9327029</td><td>0.9327029</td><td>0.9327029</td><td>0.9327029</td><td>0.9327029</td><td>...      </td><td>-1.554113</td><td>-1.756514</td><td>-1.756514</td><td>-1.756514</td><td>-1.756514</td><td>-1.756514</td><td>NA       </td><td>NA       </td><td>NA       </td><td>NA       </td></tr>\n",
       "\t<tr><td>1.440905 </td><td>1.440905 </td><td>1.440905 </td><td>1.440905 </td><td>1.440905 </td><td>0.9229835</td><td>0.9229835</td><td>0.9229835</td><td>0.9229835</td><td>0.9229835</td><td>...      </td><td>-1.554805</td><td>-1.756025</td><td>-1.756025</td><td>-1.756025</td><td>-1.756025</td><td>-1.756025</td><td>NA       </td><td>NA       </td><td>NA       </td><td>NA       </td></tr>\n",
       "\t<tr><td>1.425913 </td><td>1.425913 </td><td>1.425913 </td><td>1.425913 </td><td>1.425913 </td><td>0.9131526</td><td>0.9131526</td><td>0.9131526</td><td>0.9131526</td><td>0.9131526</td><td>...      </td><td>-1.553572</td><td>-1.753702</td><td>-1.753702</td><td>-1.753702</td><td>-1.753702</td><td>-1.753702</td><td>NA       </td><td>NA       </td><td>NA       </td><td>NA       </td></tr>\n",
       "\t<tr><td>1.425538 </td><td>1.425538 </td><td>1.425538 </td><td>1.425538 </td><td>1.425538 </td><td>0.9141355</td><td>0.9141355</td><td>0.9141355</td><td>0.9141355</td><td>0.9141355</td><td>...      </td><td>-1.551158</td><td>-1.751338</td><td>-1.751338</td><td>-1.751338</td><td>-1.751338</td><td>-1.751338</td><td>NA       </td><td>NA       </td><td>NA       </td><td>NA       </td></tr>\n",
       "\t<tr><td>1.437954 </td><td>1.437954 </td><td>1.437954 </td><td>1.437954 </td><td>1.437954 </td><td>0.9240711</td><td>0.9240711</td><td>0.9240711</td><td>0.9240711</td><td>0.9240711</td><td>...      </td><td>-1.543910</td><td>-1.740223</td><td>-1.740223</td><td>-1.740223</td><td>-1.740223</td><td>-1.740223</td><td>NA       </td><td>NA       </td><td>NA       </td><td>NA       </td></tr>\n",
       "\t<tr><td>1.433748 </td><td>1.433748 </td><td>1.433748 </td><td>1.433748 </td><td>1.433748 </td><td>0.9206432</td><td>0.9206432</td><td>0.9206432</td><td>0.9206432</td><td>0.9206432</td><td>...      </td><td>-1.541731</td><td>-1.738134</td><td>-1.738134</td><td>-1.738134</td><td>-1.738134</td><td>-1.738134</td><td>NA       </td><td>NA       </td><td>NA       </td><td>NA       </td></tr>\n",
       "\t<tr><td>1.431862 </td><td>1.431862 </td><td>1.431862 </td><td>1.431862 </td><td>1.431862 </td><td>0.9182086</td><td>0.9182086</td><td>0.9182086</td><td>0.9182086</td><td>0.9182086</td><td>...      </td><td>-1.546761</td><td>-1.743692</td><td>-1.743692</td><td>-1.743692</td><td>-1.743692</td><td>-1.743692</td><td>NA       </td><td>NA       </td><td>NA       </td><td>NA       </td></tr>\n",
       "\t<tr><td>1.415833 </td><td>1.415833 </td><td>1.415833 </td><td>1.415833 </td><td>1.415833 </td><td>0.9013746</td><td>0.9013746</td><td>0.9013746</td><td>0.9013746</td><td>0.9013746</td><td>...      </td><td>-1.561496</td><td>-1.760659</td><td>-1.760659</td><td>-1.760659</td><td>-1.760659</td><td>-1.760659</td><td>NA       </td><td>NA       </td><td>NA       </td><td>NA       </td></tr>\n",
       "\t<tr><td>1.418089 </td><td>1.418089 </td><td>1.418089 </td><td>1.418089 </td><td>1.418089 </td><td>0.9022741</td><td>0.9022741</td><td>0.9022741</td><td>0.9022741</td><td>0.9022741</td><td>...      </td><td>-1.561467</td><td>-1.761083</td><td>-1.761083</td><td>-1.761083</td><td>-1.761083</td><td>-1.761083</td><td>NA       </td><td>NA       </td><td>NA       </td><td>NA       </td></tr>\n",
       "\t<tr><td>1.418711 </td><td>1.418711 </td><td>1.418711 </td><td>1.418711 </td><td>1.418711 </td><td>0.9038292</td><td>0.9038292</td><td>0.9038292</td><td>0.9038292</td><td>0.9038292</td><td>...      </td><td>-1.561430</td><td>-1.760672</td><td>-1.760672</td><td>-1.760672</td><td>-1.760672</td><td>-1.760672</td><td>NA       </td><td>NA       </td><td>NA       </td><td>NA       </td></tr>\n",
       "\t<tr><td>1.436672 </td><td>1.436672 </td><td>1.436672 </td><td>1.436672 </td><td>1.436672 </td><td>0.9214124</td><td>0.9214124</td><td>0.9214124</td><td>0.9214124</td><td>0.9214124</td><td>...      </td><td>-1.557546</td><td>-1.759567</td><td>-1.759567</td><td>-1.759567</td><td>-1.759567</td><td>-1.759567</td><td>NA       </td><td>NA       </td><td>NA       </td><td>NA       </td></tr>\n",
       "\t<tr><td>1.438428 </td><td>1.438428 </td><td>1.438428 </td><td>1.438428 </td><td>1.438428 </td><td>0.9220293</td><td>0.9220293</td><td>0.9220293</td><td>0.9220293</td><td>0.9220293</td><td>...      </td><td>-1.561261</td><td>-1.762886</td><td>-1.762886</td><td>-1.762886</td><td>-1.762886</td><td>-1.762886</td><td>NA       </td><td>NA       </td><td>NA       </td><td>NA       </td></tr>\n",
       "\t<tr><td>1.444418 </td><td>1.444418 </td><td>1.444418 </td><td>1.444418 </td><td>1.444418 </td><td>0.9263145</td><td>0.9263145</td><td>0.9263145</td><td>0.9263145</td><td>0.9263145</td><td>...      </td><td>-1.565604</td><td>-1.768473</td><td>-1.768473</td><td>-1.768473</td><td>-1.768473</td><td>-1.768473</td><td>NA       </td><td>NA       </td><td>NA       </td><td>NA       </td></tr>\n",
       "</tbody>\n",
       "</table>\n"
      ],
      "text/latex": [
       "\\begin{tabular}{r|llllllllllllllllllllllllllllllllllllllllllllllllllllllllllllllllllllllllllllllllllllllllllllllllllllllllllllllllllllllllllllllllllllllllllllllllllllllllllllllllllllllllllllllllllllllllllllllllllllllllllllllllllllllllllllllllllllllllll}\n",
       " V1 & V2 & V3 & V4 & V5 & V6 & V7 & V8 & V9 & V10 & ... & V225 & V226 & V227 & V228 & V229 & V230 & V231 & V232 & V233 & V234\\\\\n",
       "\\hline\n",
       "\t 1.522724  & 1.522724  & 1.522724  & 1.522724  & 1.522724  & 0.9740388 & 0.9740388 & 0.9740388 & 0.9740388 & 0.9740388 & ...       & -1.568920 & -1.777089 & -1.777089 & -1.777089 & -1.777089 & -1.777089 & NA        & NA        & NA        & NA       \\\\\n",
       "\t 1.520070  & 1.520070  & 1.520070  & 1.520070  & 1.520070  & 0.9709011 & 0.9709011 & 0.9709011 & 0.9709011 & 0.9709011 & ...       & -1.568813 & -1.777662 & -1.777662 & -1.777662 & -1.777662 & -1.777662 & NA        & NA        & NA        & NA       \\\\\n",
       "\t 1.516995  & 1.516995  & 1.516995  & 1.516995  & 1.516995  & 0.9677760 & 0.9677760 & 0.9677760 & 0.9677760 & 0.9677760 & ...       & -1.572192 & -1.780860 & -1.780860 & -1.780860 & -1.780860 & -1.780860 & NA        & NA        & NA        & NA       \\\\\n",
       "\t 1.516613  & 1.516613  & 1.516613  & 1.516613  & 1.516613  & 0.9715528 & 0.9715528 & 0.9715528 & 0.9715528 & 0.9715528 & ...       & -1.555994 & -1.763011 & -1.763011 & -1.763011 & -1.763011 & -1.763011 & NA        & NA        & NA        & NA       \\\\\n",
       "\t 1.519296  & 1.519296  & 1.519296  & 1.519296  & 1.519296  & 0.9738781 & 0.9738781 & 0.9738781 & 0.9738781 & 0.9738781 & ...       & -1.554959 & -1.762198 & -1.762198 & -1.762198 & -1.762198 & -1.762198 & NA        & NA        & NA        & NA       \\\\\n",
       "\t 1.519328  & 1.519328  & 1.519328  & 1.519328  & 1.519328  & 0.9747890 & 0.9747890 & 0.9747890 & 0.9747890 & 0.9747890 & ...       & -1.551895 & -1.758216 & -1.758216 & -1.758216 & -1.758216 & -1.758216 & NA        & NA        & NA        & NA       \\\\\n",
       "\t 1.413624  & 1.413624  & 1.413624  & 1.413624  & 1.413624  & 0.9047137 & 0.9047137 & 0.9047137 & 0.9047137 & 0.9047137 & ...       & -1.559792 & -1.759599 & -1.759599 & -1.759599 & -1.759599 & -1.759599 & NA        & NA        & NA        & NA       \\\\\n",
       "\t 1.413895  & 1.413895  & 1.413895  & 1.413895  & 1.413895  & 0.9044763 & 0.9044763 & 0.9044763 & 0.9044763 & 0.9044763 & ...       & -1.561058 & -1.761513 & -1.761513 & -1.761513 & -1.761513 & -1.761513 & NA        & NA        & NA        & NA       \\\\\n",
       "\t 1.415631  & 1.415631  & 1.415631  & 1.415631  & 1.415631  & 0.9059895 & 0.9059895 & 0.9059895 & 0.9059895 & 0.9059895 & ...       & -1.559395 & -1.759925 & -1.759925 & -1.759925 & -1.759925 & -1.759925 & NA        & NA        & NA        & NA       \\\\\n",
       "\t 1.464627  & 1.464627  & 1.464627  & 1.464627  & 1.464627  & 0.9375599 & 0.9375599 & 0.9375599 & 0.9375599 & 0.9375599 & ...       & -1.559965 & -1.765061 & -1.765061 & -1.765061 & -1.765061 & -1.765061 & NA        & NA        & NA        & NA       \\\\\n",
       "\t 1.464445  & 1.464445  & 1.464445  & 1.464445  & 1.464445  & 0.9361842 & 0.9361842 & 0.9361842 & 0.9361842 & 0.9361842 & ...       & -1.559848 & -1.764953 & -1.764953 & -1.764953 & -1.764953 & -1.764953 & NA        & NA        & NA        & NA       \\\\\n",
       "\t 1.464054  & 1.464054  & 1.464054  & 1.464054  & 1.464054  & 0.9363089 & 0.9363089 & 0.9363089 & 0.9363089 & 0.9363089 & ...       & -1.559123 & -1.764367 & -1.764367 & -1.764367 & -1.764367 & -1.764367 & NA        & NA        & NA        & NA       \\\\\n",
       "\t 1.451967  & 1.451967  & 1.451967  & 1.451967  & 1.451967  & 0.9277160 & 0.9277160 & 0.9277160 & 0.9277160 & 0.9277160 & ...       & -1.564879 & -1.767530 & -1.767530 & -1.767530 & -1.767530 & -1.767530 & NA        & NA        & NA        & NA       \\\\\n",
       "\t 1.452788  & 1.452788  & 1.452788  & 1.452788  & 1.452788  & 0.9288805 & 0.9288805 & 0.9288805 & 0.9288805 & 0.9288805 & ...       & -1.565277 & -1.768274 & -1.768274 & -1.768274 & -1.768274 & -1.768274 & NA        & NA        & NA        & NA       \\\\\n",
       "\t 1.454976  & 1.454976  & 1.454976  & 1.454976  & 1.454976  & 0.9315724 & 0.9315724 & 0.9315724 & 0.9315724 & 0.9315724 & ...       & -1.566205 & -1.769231 & -1.769231 & -1.769231 & -1.769231 & -1.769231 & NA        & NA        & NA        & NA       \\\\\n",
       "\t 1.433529  & 1.433529  & 1.433529  & 1.433529  & 1.433529  & 0.9194017 & 0.9194017 & 0.9194017 & 0.9194017 & 0.9194017 & ...       & -1.554776 & -1.757620 & -1.757620 & -1.757620 & -1.757620 & -1.757620 & NA        & NA        & NA        & NA       \\\\\n",
       "\t 1.437429  & 1.437429  & 1.437429  & 1.437429  & 1.437429  & 0.9222565 & 0.9222565 & 0.9222565 & 0.9222565 & 0.9222565 & ...       & -1.553072 & -1.755302 & -1.755302 & -1.755302 & -1.755302 & -1.755302 & NA        & NA        & NA        & NA       \\\\\n",
       "\t 1.434207  & 1.434207  & 1.434207  & 1.434207  & 1.434207  & 0.9206880 & 0.9206880 & 0.9206880 & 0.9206880 & 0.9206880 & ...       & -1.560230 & -1.762895 & -1.762895 & -1.762895 & -1.762895 & -1.762895 & NA        & NA        & NA        & NA       \\\\\n",
       "\t 1.429326  & 1.429326  & 1.429326  & 1.429326  & 1.429326  & 0.9159919 & 0.9159919 & 0.9159919 & 0.9159919 & 0.9159919 & ...       & -1.534150 & -1.731979 & -1.731979 & -1.731979 & -1.731979 & -1.731979 & NA        & NA        & NA        & NA       \\\\\n",
       "\t 1.437679  & 1.437679  & 1.437679  & 1.437679  & 1.437679  & 0.9232046 & 0.9232046 & 0.9232046 & 0.9232046 & 0.9232046 & ...       & -1.537040 & -1.732489 & -1.732489 & -1.732489 & -1.732489 & -1.732489 & NA        & NA        & NA        & NA       \\\\\n",
       "\t 1.432618  & 1.432618  & 1.432618  & 1.432618  & 1.432618  & 0.9183191 & 0.9183191 & 0.9183191 & 0.9183191 & 0.9183191 & ...       & -1.539671 & -1.738213 & -1.738213 & -1.738213 & -1.738213 & -1.738213 & NA        & NA        & NA        & NA       \\\\\n",
       "\t 1.420517  & 1.420517  & 1.420517  & 1.420517  & 1.420517  & 0.9071155 & 0.9071155 & 0.9071155 & 0.9071155 & 0.9071155 & ...       & -1.560401 & -1.761535 & -1.761535 & -1.761535 & -1.761535 & -1.761535 & NA        & NA        & NA        & NA       \\\\\n",
       "\t 1.420181  & 1.420181  & 1.420181  & 1.420181  & 1.420181  & 0.9078602 & 0.9078602 & 0.9078602 & 0.9078602 & 0.9078602 & ...       & -1.559316 & -1.760879 & -1.760879 & -1.760879 & -1.760879 & -1.760879 & NA        & NA        & NA        & NA       \\\\\n",
       "\t 1.419375  & 1.419375  & 1.419375  & 1.419375  & 1.419375  & 0.9070706 & 0.9070706 & 0.9070706 & 0.9070706 & 0.9070706 & ...       & -1.560603 & -1.761818 & -1.761818 & -1.761818 & -1.761818 & -1.761818 & NA        & NA        & NA        & NA       \\\\\n",
       "\t 1.444937  & 1.444937  & 1.444937  & 1.444937  & 1.444937  & 0.9276033 & 0.9276033 & 0.9276033 & 0.9276033 & 0.9276033 & ...       & -1.548680 & -1.747928 & -1.747928 & -1.747928 & -1.747928 & -1.747928 & NA        & NA        & NA        & NA       \\\\\n",
       "\t 1.448579  & 1.448579  & 1.448579  & 1.448579  & 1.448579  & 0.9309921 & 0.9309921 & 0.9309921 & 0.9309921 & 0.9309921 & ...       & -1.552909 & -1.752859 & -1.752859 & -1.752859 & -1.752859 & -1.752859 & NA        & NA        & NA        & NA       \\\\\n",
       "\t 1.438511  & 1.438511  & 1.438511  & 1.438511  & 1.438511  & 0.9225048 & 0.9225048 & 0.9225048 & 0.9225048 & 0.9225048 & ...       & -1.545850 & -1.744950 & -1.744950 & -1.744950 & -1.744950 & -1.744950 & NA        & NA        & NA        & NA       \\\\\n",
       "\t 1.442770  & 1.442770  & 1.442770  & 1.442770  & 1.442770  & 0.9208207 & 0.9208207 & 0.9208207 & 0.9208207 & 0.9208207 & ...       & -1.568863 & -1.773779 & -1.773779 & -1.773779 & -1.773779 & -1.773779 & NA        & NA        & NA        & NA       \\\\\n",
       "\t 1.434801  & 1.434801  & 1.434801  & 1.434801  & 1.434801  & 0.9135788 & 0.9135788 & 0.9135788 & 0.9135788 & 0.9135788 & ...       & -1.561936 & -1.766147 & -1.766147 & -1.766147 & -1.766147 & -1.766147 & NA        & NA        & NA        & NA       \\\\\n",
       "\t 1.436116  & 1.436116  & 1.436116  & 1.436116  & 1.436116  & 0.9169724 & 0.9169724 & 0.9169724 & 0.9169724 & 0.9169724 & ...       & -1.559194 & -1.763746 & -1.763746 & -1.763746 & -1.763746 & -1.763746 & NA        & NA        & NA        & NA       \\\\\n",
       "\t 1.516981  & 1.516981  & 1.516981  & 1.516981  & 1.516981  & 0.9701741 & 0.9701741 & 0.9701741 & 0.9701741 & 0.9701741 & ...       & -1.572170 & -1.778718 & -1.778718 & -1.778718 & -1.778718 & -1.778718 & NA        & NA        & NA        & NA       \\\\\n",
       "\t 1.517738  & 1.517738  & 1.517738  & 1.517738  & 1.517738  & 0.9698687 & 0.9698687 & 0.9698687 & 0.9698687 & 0.9698687 & ...       & -1.571728 & -1.778266 & -1.778266 & -1.778266 & -1.778266 & -1.778266 & NA        & NA        & NA        & NA       \\\\\n",
       "\t 1.517655  & 1.517655  & 1.517655  & 1.517655  & 1.517655  & 0.9712780 & 0.9712780 & 0.9712780 & 0.9712780 & 0.9712780 & ...       & -1.568543 & -1.773615 & -1.773615 & -1.773615 & -1.773615 & -1.773615 & NA        & NA        & NA        & NA       \\\\\n",
       "\t 1.432693  & 1.432693  & 1.432693  & 1.432693  & 1.432693  & 0.9137106 & 0.9137106 & 0.9137106 & 0.9137106 & 0.9137106 & ...       & -1.603564 & -1.805767 & -1.805767 & -1.805767 & -1.805767 & -1.805767 & NA        & NA        & NA        & NA       \\\\\n",
       "\t 1.433200  & 1.433200  & 1.433200  & 1.433200  & 1.433200  & 0.9139216 & 0.9139216 & 0.9139216 & 0.9139216 & 0.9139216 & ...       & -1.600820 & -1.802838 & -1.802838 & -1.802838 & -1.802838 & -1.802838 & NA        & NA        & NA        & NA       \\\\\n",
       "\t 1.435682  & 1.435682  & 1.435682  & 1.435682  & 1.435682  & 0.9155450 & 0.9155450 & 0.9155450 & 0.9155450 & 0.9155450 & ...       & -1.601013 & -1.803044 & -1.803044 & -1.803044 & -1.803044 & -1.803044 & NA        & NA        & NA        & NA       \\\\\n",
       "\t 1.462461  & 1.462461  & 1.462461  & 1.462461  & 1.462461  & 0.9400520 & 0.9400520 & 0.9400520 & 0.9400520 & 0.9400520 & ...       & -1.563143 & -1.766103 & -1.766103 & -1.766103 & -1.766103 & -1.766103 & NA        & NA        & NA        & NA       \\\\\n",
       "\t 1.465027  & 1.465027  & 1.465027  & 1.465027  & 1.465027  & 0.9413844 & 0.9413844 & 0.9413844 & 0.9413844 & 0.9413844 & ...       & -1.562608 & -1.765792 & -1.765792 & -1.765792 & -1.765792 & -1.765792 & NA        & NA        & NA        & NA       \\\\\n",
       "\t 1.466717  & 1.466717  & 1.466717  & 1.466717  & 1.466717  & 0.9442080 & 0.9442080 & 0.9442080 & 0.9442080 & 0.9442080 & ...       & -1.562288 & -1.765845 & -1.765845 & -1.765845 & -1.765845 & -1.765845 & NA        & NA        & NA        & NA       \\\\\n",
       "\t 1.469031  & 1.469031  & 1.469031  & 1.469031  & 1.469031  & 0.9455690 & 0.9455690 & 0.9455690 & 0.9455690 & 0.9455690 & ...       & -1.550679 & -1.755007 & -1.755007 & -1.755007 & -1.755007 & -1.755007 & NA        & NA        & NA        & NA       \\\\\n",
       "\t 1.465866  & 1.465866  & 1.465866  & 1.465866  & 1.465866  & 0.9440293 & 0.9440293 & 0.9440293 & 0.9440293 & 0.9440293 & ...       & -1.550907 & -1.754925 & -1.754925 & -1.754925 & -1.754925 & -1.754925 & NA        & NA        & NA        & NA       \\\\\n",
       "\t 1.466053  & 1.466053  & 1.466053  & 1.466053  & 1.466053  & 0.9439828 & 0.9439828 & 0.9439828 & 0.9439828 & 0.9439828 & ...       & -1.550185 & -1.754244 & -1.754244 & -1.754244 & -1.754244 & -1.754244 & NA        & NA        & NA        & NA       \\\\\n",
       "\t 1.453794  & 1.453794  & 1.453794  & 1.453794  & 1.453794  & 0.9341453 & 0.9341453 & 0.9341453 & 0.9341453 & 0.9341453 & ...       & -1.554803 & -1.757743 & -1.757743 & -1.757743 & -1.757743 & -1.757743 & NA        & NA        & NA        & NA       \\\\\n",
       "\t 1.454473  & 1.454473  & 1.454473  & 1.454473  & 1.454473  & 0.9352148 & 0.9352148 & 0.9352148 & 0.9352148 & 0.9352148 & ...       & -1.552207 & -1.755213 & -1.755213 & -1.755213 & -1.755213 & -1.755213 & NA        & NA        & NA        & NA       \\\\\n",
       "\t 1.453675  & 1.453675  & 1.453675  & 1.453675  & 1.453675  & 0.9327029 & 0.9327029 & 0.9327029 & 0.9327029 & 0.9327029 & ...       & -1.554113 & -1.756514 & -1.756514 & -1.756514 & -1.756514 & -1.756514 & NA        & NA        & NA        & NA       \\\\\n",
       "\t 1.440905  & 1.440905  & 1.440905  & 1.440905  & 1.440905  & 0.9229835 & 0.9229835 & 0.9229835 & 0.9229835 & 0.9229835 & ...       & -1.554805 & -1.756025 & -1.756025 & -1.756025 & -1.756025 & -1.756025 & NA        & NA        & NA        & NA       \\\\\n",
       "\t 1.425913  & 1.425913  & 1.425913  & 1.425913  & 1.425913  & 0.9131526 & 0.9131526 & 0.9131526 & 0.9131526 & 0.9131526 & ...       & -1.553572 & -1.753702 & -1.753702 & -1.753702 & -1.753702 & -1.753702 & NA        & NA        & NA        & NA       \\\\\n",
       "\t 1.425538  & 1.425538  & 1.425538  & 1.425538  & 1.425538  & 0.9141355 & 0.9141355 & 0.9141355 & 0.9141355 & 0.9141355 & ...       & -1.551158 & -1.751338 & -1.751338 & -1.751338 & -1.751338 & -1.751338 & NA        & NA        & NA        & NA       \\\\\n",
       "\t 1.437954  & 1.437954  & 1.437954  & 1.437954  & 1.437954  & 0.9240711 & 0.9240711 & 0.9240711 & 0.9240711 & 0.9240711 & ...       & -1.543910 & -1.740223 & -1.740223 & -1.740223 & -1.740223 & -1.740223 & NA        & NA        & NA        & NA       \\\\\n",
       "\t 1.433748  & 1.433748  & 1.433748  & 1.433748  & 1.433748  & 0.9206432 & 0.9206432 & 0.9206432 & 0.9206432 & 0.9206432 & ...       & -1.541731 & -1.738134 & -1.738134 & -1.738134 & -1.738134 & -1.738134 & NA        & NA        & NA        & NA       \\\\\n",
       "\t 1.431862  & 1.431862  & 1.431862  & 1.431862  & 1.431862  & 0.9182086 & 0.9182086 & 0.9182086 & 0.9182086 & 0.9182086 & ...       & -1.546761 & -1.743692 & -1.743692 & -1.743692 & -1.743692 & -1.743692 & NA        & NA        & NA        & NA       \\\\\n",
       "\t 1.415833  & 1.415833  & 1.415833  & 1.415833  & 1.415833  & 0.9013746 & 0.9013746 & 0.9013746 & 0.9013746 & 0.9013746 & ...       & -1.561496 & -1.760659 & -1.760659 & -1.760659 & -1.760659 & -1.760659 & NA        & NA        & NA        & NA       \\\\\n",
       "\t 1.418089  & 1.418089  & 1.418089  & 1.418089  & 1.418089  & 0.9022741 & 0.9022741 & 0.9022741 & 0.9022741 & 0.9022741 & ...       & -1.561467 & -1.761083 & -1.761083 & -1.761083 & -1.761083 & -1.761083 & NA        & NA        & NA        & NA       \\\\\n",
       "\t 1.418711  & 1.418711  & 1.418711  & 1.418711  & 1.418711  & 0.9038292 & 0.9038292 & 0.9038292 & 0.9038292 & 0.9038292 & ...       & -1.561430 & -1.760672 & -1.760672 & -1.760672 & -1.760672 & -1.760672 & NA        & NA        & NA        & NA       \\\\\n",
       "\t 1.436672  & 1.436672  & 1.436672  & 1.436672  & 1.436672  & 0.9214124 & 0.9214124 & 0.9214124 & 0.9214124 & 0.9214124 & ...       & -1.557546 & -1.759567 & -1.759567 & -1.759567 & -1.759567 & -1.759567 & NA        & NA        & NA        & NA       \\\\\n",
       "\t 1.438428  & 1.438428  & 1.438428  & 1.438428  & 1.438428  & 0.9220293 & 0.9220293 & 0.9220293 & 0.9220293 & 0.9220293 & ...       & -1.561261 & -1.762886 & -1.762886 & -1.762886 & -1.762886 & -1.762886 & NA        & NA        & NA        & NA       \\\\\n",
       "\t 1.444418  & 1.444418  & 1.444418  & 1.444418  & 1.444418  & 0.9263145 & 0.9263145 & 0.9263145 & 0.9263145 & 0.9263145 & ...       & -1.565604 & -1.768473 & -1.768473 & -1.768473 & -1.768473 & -1.768473 & NA        & NA        & NA        & NA       \\\\\n",
       "\\end{tabular}\n"
      ],
      "text/markdown": [
       "\n",
       "| V1 | V2 | V3 | V4 | V5 | V6 | V7 | V8 | V9 | V10 | ... | V225 | V226 | V227 | V228 | V229 | V230 | V231 | V232 | V233 | V234 |\n",
       "|---|---|---|---|---|---|---|---|---|---|---|---|---|---|---|---|---|---|---|---|---|\n",
       "| 1.522724  | 1.522724  | 1.522724  | 1.522724  | 1.522724  | 0.9740388 | 0.9740388 | 0.9740388 | 0.9740388 | 0.9740388 | ...       | -1.568920 | -1.777089 | -1.777089 | -1.777089 | -1.777089 | -1.777089 | NA        | NA        | NA        | NA        |\n",
       "| 1.520070  | 1.520070  | 1.520070  | 1.520070  | 1.520070  | 0.9709011 | 0.9709011 | 0.9709011 | 0.9709011 | 0.9709011 | ...       | -1.568813 | -1.777662 | -1.777662 | -1.777662 | -1.777662 | -1.777662 | NA        | NA        | NA        | NA        |\n",
       "| 1.516995  | 1.516995  | 1.516995  | 1.516995  | 1.516995  | 0.9677760 | 0.9677760 | 0.9677760 | 0.9677760 | 0.9677760 | ...       | -1.572192 | -1.780860 | -1.780860 | -1.780860 | -1.780860 | -1.780860 | NA        | NA        | NA        | NA        |\n",
       "| 1.516613  | 1.516613  | 1.516613  | 1.516613  | 1.516613  | 0.9715528 | 0.9715528 | 0.9715528 | 0.9715528 | 0.9715528 | ...       | -1.555994 | -1.763011 | -1.763011 | -1.763011 | -1.763011 | -1.763011 | NA        | NA        | NA        | NA        |\n",
       "| 1.519296  | 1.519296  | 1.519296  | 1.519296  | 1.519296  | 0.9738781 | 0.9738781 | 0.9738781 | 0.9738781 | 0.9738781 | ...       | -1.554959 | -1.762198 | -1.762198 | -1.762198 | -1.762198 | -1.762198 | NA        | NA        | NA        | NA        |\n",
       "| 1.519328  | 1.519328  | 1.519328  | 1.519328  | 1.519328  | 0.9747890 | 0.9747890 | 0.9747890 | 0.9747890 | 0.9747890 | ...       | -1.551895 | -1.758216 | -1.758216 | -1.758216 | -1.758216 | -1.758216 | NA        | NA        | NA        | NA        |\n",
       "| 1.413624  | 1.413624  | 1.413624  | 1.413624  | 1.413624  | 0.9047137 | 0.9047137 | 0.9047137 | 0.9047137 | 0.9047137 | ...       | -1.559792 | -1.759599 | -1.759599 | -1.759599 | -1.759599 | -1.759599 | NA        | NA        | NA        | NA        |\n",
       "| 1.413895  | 1.413895  | 1.413895  | 1.413895  | 1.413895  | 0.9044763 | 0.9044763 | 0.9044763 | 0.9044763 | 0.9044763 | ...       | -1.561058 | -1.761513 | -1.761513 | -1.761513 | -1.761513 | -1.761513 | NA        | NA        | NA        | NA        |\n",
       "| 1.415631  | 1.415631  | 1.415631  | 1.415631  | 1.415631  | 0.9059895 | 0.9059895 | 0.9059895 | 0.9059895 | 0.9059895 | ...       | -1.559395 | -1.759925 | -1.759925 | -1.759925 | -1.759925 | -1.759925 | NA        | NA        | NA        | NA        |\n",
       "| 1.464627  | 1.464627  | 1.464627  | 1.464627  | 1.464627  | 0.9375599 | 0.9375599 | 0.9375599 | 0.9375599 | 0.9375599 | ...       | -1.559965 | -1.765061 | -1.765061 | -1.765061 | -1.765061 | -1.765061 | NA        | NA        | NA        | NA        |\n",
       "| 1.464445  | 1.464445  | 1.464445  | 1.464445  | 1.464445  | 0.9361842 | 0.9361842 | 0.9361842 | 0.9361842 | 0.9361842 | ...       | -1.559848 | -1.764953 | -1.764953 | -1.764953 | -1.764953 | -1.764953 | NA        | NA        | NA        | NA        |\n",
       "| 1.464054  | 1.464054  | 1.464054  | 1.464054  | 1.464054  | 0.9363089 | 0.9363089 | 0.9363089 | 0.9363089 | 0.9363089 | ...       | -1.559123 | -1.764367 | -1.764367 | -1.764367 | -1.764367 | -1.764367 | NA        | NA        | NA        | NA        |\n",
       "| 1.451967  | 1.451967  | 1.451967  | 1.451967  | 1.451967  | 0.9277160 | 0.9277160 | 0.9277160 | 0.9277160 | 0.9277160 | ...       | -1.564879 | -1.767530 | -1.767530 | -1.767530 | -1.767530 | -1.767530 | NA        | NA        | NA        | NA        |\n",
       "| 1.452788  | 1.452788  | 1.452788  | 1.452788  | 1.452788  | 0.9288805 | 0.9288805 | 0.9288805 | 0.9288805 | 0.9288805 | ...       | -1.565277 | -1.768274 | -1.768274 | -1.768274 | -1.768274 | -1.768274 | NA        | NA        | NA        | NA        |\n",
       "| 1.454976  | 1.454976  | 1.454976  | 1.454976  | 1.454976  | 0.9315724 | 0.9315724 | 0.9315724 | 0.9315724 | 0.9315724 | ...       | -1.566205 | -1.769231 | -1.769231 | -1.769231 | -1.769231 | -1.769231 | NA        | NA        | NA        | NA        |\n",
       "| 1.433529  | 1.433529  | 1.433529  | 1.433529  | 1.433529  | 0.9194017 | 0.9194017 | 0.9194017 | 0.9194017 | 0.9194017 | ...       | -1.554776 | -1.757620 | -1.757620 | -1.757620 | -1.757620 | -1.757620 | NA        | NA        | NA        | NA        |\n",
       "| 1.437429  | 1.437429  | 1.437429  | 1.437429  | 1.437429  | 0.9222565 | 0.9222565 | 0.9222565 | 0.9222565 | 0.9222565 | ...       | -1.553072 | -1.755302 | -1.755302 | -1.755302 | -1.755302 | -1.755302 | NA        | NA        | NA        | NA        |\n",
       "| 1.434207  | 1.434207  | 1.434207  | 1.434207  | 1.434207  | 0.9206880 | 0.9206880 | 0.9206880 | 0.9206880 | 0.9206880 | ...       | -1.560230 | -1.762895 | -1.762895 | -1.762895 | -1.762895 | -1.762895 | NA        | NA        | NA        | NA        |\n",
       "| 1.429326  | 1.429326  | 1.429326  | 1.429326  | 1.429326  | 0.9159919 | 0.9159919 | 0.9159919 | 0.9159919 | 0.9159919 | ...       | -1.534150 | -1.731979 | -1.731979 | -1.731979 | -1.731979 | -1.731979 | NA        | NA        | NA        | NA        |\n",
       "| 1.437679  | 1.437679  | 1.437679  | 1.437679  | 1.437679  | 0.9232046 | 0.9232046 | 0.9232046 | 0.9232046 | 0.9232046 | ...       | -1.537040 | -1.732489 | -1.732489 | -1.732489 | -1.732489 | -1.732489 | NA        | NA        | NA        | NA        |\n",
       "| 1.432618  | 1.432618  | 1.432618  | 1.432618  | 1.432618  | 0.9183191 | 0.9183191 | 0.9183191 | 0.9183191 | 0.9183191 | ...       | -1.539671 | -1.738213 | -1.738213 | -1.738213 | -1.738213 | -1.738213 | NA        | NA        | NA        | NA        |\n",
       "| 1.420517  | 1.420517  | 1.420517  | 1.420517  | 1.420517  | 0.9071155 | 0.9071155 | 0.9071155 | 0.9071155 | 0.9071155 | ...       | -1.560401 | -1.761535 | -1.761535 | -1.761535 | -1.761535 | -1.761535 | NA        | NA        | NA        | NA        |\n",
       "| 1.420181  | 1.420181  | 1.420181  | 1.420181  | 1.420181  | 0.9078602 | 0.9078602 | 0.9078602 | 0.9078602 | 0.9078602 | ...       | -1.559316 | -1.760879 | -1.760879 | -1.760879 | -1.760879 | -1.760879 | NA        | NA        | NA        | NA        |\n",
       "| 1.419375  | 1.419375  | 1.419375  | 1.419375  | 1.419375  | 0.9070706 | 0.9070706 | 0.9070706 | 0.9070706 | 0.9070706 | ...       | -1.560603 | -1.761818 | -1.761818 | -1.761818 | -1.761818 | -1.761818 | NA        | NA        | NA        | NA        |\n",
       "| 1.444937  | 1.444937  | 1.444937  | 1.444937  | 1.444937  | 0.9276033 | 0.9276033 | 0.9276033 | 0.9276033 | 0.9276033 | ...       | -1.548680 | -1.747928 | -1.747928 | -1.747928 | -1.747928 | -1.747928 | NA        | NA        | NA        | NA        |\n",
       "| 1.448579  | 1.448579  | 1.448579  | 1.448579  | 1.448579  | 0.9309921 | 0.9309921 | 0.9309921 | 0.9309921 | 0.9309921 | ...       | -1.552909 | -1.752859 | -1.752859 | -1.752859 | -1.752859 | -1.752859 | NA        | NA        | NA        | NA        |\n",
       "| 1.438511  | 1.438511  | 1.438511  | 1.438511  | 1.438511  | 0.9225048 | 0.9225048 | 0.9225048 | 0.9225048 | 0.9225048 | ...       | -1.545850 | -1.744950 | -1.744950 | -1.744950 | -1.744950 | -1.744950 | NA        | NA        | NA        | NA        |\n",
       "| 1.442770  | 1.442770  | 1.442770  | 1.442770  | 1.442770  | 0.9208207 | 0.9208207 | 0.9208207 | 0.9208207 | 0.9208207 | ...       | -1.568863 | -1.773779 | -1.773779 | -1.773779 | -1.773779 | -1.773779 | NA        | NA        | NA        | NA        |\n",
       "| 1.434801  | 1.434801  | 1.434801  | 1.434801  | 1.434801  | 0.9135788 | 0.9135788 | 0.9135788 | 0.9135788 | 0.9135788 | ...       | -1.561936 | -1.766147 | -1.766147 | -1.766147 | -1.766147 | -1.766147 | NA        | NA        | NA        | NA        |\n",
       "| 1.436116  | 1.436116  | 1.436116  | 1.436116  | 1.436116  | 0.9169724 | 0.9169724 | 0.9169724 | 0.9169724 | 0.9169724 | ...       | -1.559194 | -1.763746 | -1.763746 | -1.763746 | -1.763746 | -1.763746 | NA        | NA        | NA        | NA        |\n",
       "| 1.516981  | 1.516981  | 1.516981  | 1.516981  | 1.516981  | 0.9701741 | 0.9701741 | 0.9701741 | 0.9701741 | 0.9701741 | ...       | -1.572170 | -1.778718 | -1.778718 | -1.778718 | -1.778718 | -1.778718 | NA        | NA        | NA        | NA        |\n",
       "| 1.517738  | 1.517738  | 1.517738  | 1.517738  | 1.517738  | 0.9698687 | 0.9698687 | 0.9698687 | 0.9698687 | 0.9698687 | ...       | -1.571728 | -1.778266 | -1.778266 | -1.778266 | -1.778266 | -1.778266 | NA        | NA        | NA        | NA        |\n",
       "| 1.517655  | 1.517655  | 1.517655  | 1.517655  | 1.517655  | 0.9712780 | 0.9712780 | 0.9712780 | 0.9712780 | 0.9712780 | ...       | -1.568543 | -1.773615 | -1.773615 | -1.773615 | -1.773615 | -1.773615 | NA        | NA        | NA        | NA        |\n",
       "| 1.432693  | 1.432693  | 1.432693  | 1.432693  | 1.432693  | 0.9137106 | 0.9137106 | 0.9137106 | 0.9137106 | 0.9137106 | ...       | -1.603564 | -1.805767 | -1.805767 | -1.805767 | -1.805767 | -1.805767 | NA        | NA        | NA        | NA        |\n",
       "| 1.433200  | 1.433200  | 1.433200  | 1.433200  | 1.433200  | 0.9139216 | 0.9139216 | 0.9139216 | 0.9139216 | 0.9139216 | ...       | -1.600820 | -1.802838 | -1.802838 | -1.802838 | -1.802838 | -1.802838 | NA        | NA        | NA        | NA        |\n",
       "| 1.435682  | 1.435682  | 1.435682  | 1.435682  | 1.435682  | 0.9155450 | 0.9155450 | 0.9155450 | 0.9155450 | 0.9155450 | ...       | -1.601013 | -1.803044 | -1.803044 | -1.803044 | -1.803044 | -1.803044 | NA        | NA        | NA        | NA        |\n",
       "| 1.462461  | 1.462461  | 1.462461  | 1.462461  | 1.462461  | 0.9400520 | 0.9400520 | 0.9400520 | 0.9400520 | 0.9400520 | ...       | -1.563143 | -1.766103 | -1.766103 | -1.766103 | -1.766103 | -1.766103 | NA        | NA        | NA        | NA        |\n",
       "| 1.465027  | 1.465027  | 1.465027  | 1.465027  | 1.465027  | 0.9413844 | 0.9413844 | 0.9413844 | 0.9413844 | 0.9413844 | ...       | -1.562608 | -1.765792 | -1.765792 | -1.765792 | -1.765792 | -1.765792 | NA        | NA        | NA        | NA        |\n",
       "| 1.466717  | 1.466717  | 1.466717  | 1.466717  | 1.466717  | 0.9442080 | 0.9442080 | 0.9442080 | 0.9442080 | 0.9442080 | ...       | -1.562288 | -1.765845 | -1.765845 | -1.765845 | -1.765845 | -1.765845 | NA        | NA        | NA        | NA        |\n",
       "| 1.469031  | 1.469031  | 1.469031  | 1.469031  | 1.469031  | 0.9455690 | 0.9455690 | 0.9455690 | 0.9455690 | 0.9455690 | ...       | -1.550679 | -1.755007 | -1.755007 | -1.755007 | -1.755007 | -1.755007 | NA        | NA        | NA        | NA        |\n",
       "| 1.465866  | 1.465866  | 1.465866  | 1.465866  | 1.465866  | 0.9440293 | 0.9440293 | 0.9440293 | 0.9440293 | 0.9440293 | ...       | -1.550907 | -1.754925 | -1.754925 | -1.754925 | -1.754925 | -1.754925 | NA        | NA        | NA        | NA        |\n",
       "| 1.466053  | 1.466053  | 1.466053  | 1.466053  | 1.466053  | 0.9439828 | 0.9439828 | 0.9439828 | 0.9439828 | 0.9439828 | ...       | -1.550185 | -1.754244 | -1.754244 | -1.754244 | -1.754244 | -1.754244 | NA        | NA        | NA        | NA        |\n",
       "| 1.453794  | 1.453794  | 1.453794  | 1.453794  | 1.453794  | 0.9341453 | 0.9341453 | 0.9341453 | 0.9341453 | 0.9341453 | ...       | -1.554803 | -1.757743 | -1.757743 | -1.757743 | -1.757743 | -1.757743 | NA        | NA        | NA        | NA        |\n",
       "| 1.454473  | 1.454473  | 1.454473  | 1.454473  | 1.454473  | 0.9352148 | 0.9352148 | 0.9352148 | 0.9352148 | 0.9352148 | ...       | -1.552207 | -1.755213 | -1.755213 | -1.755213 | -1.755213 | -1.755213 | NA        | NA        | NA        | NA        |\n",
       "| 1.453675  | 1.453675  | 1.453675  | 1.453675  | 1.453675  | 0.9327029 | 0.9327029 | 0.9327029 | 0.9327029 | 0.9327029 | ...       | -1.554113 | -1.756514 | -1.756514 | -1.756514 | -1.756514 | -1.756514 | NA        | NA        | NA        | NA        |\n",
       "| 1.440905  | 1.440905  | 1.440905  | 1.440905  | 1.440905  | 0.9229835 | 0.9229835 | 0.9229835 | 0.9229835 | 0.9229835 | ...       | -1.554805 | -1.756025 | -1.756025 | -1.756025 | -1.756025 | -1.756025 | NA        | NA        | NA        | NA        |\n",
       "| 1.425913  | 1.425913  | 1.425913  | 1.425913  | 1.425913  | 0.9131526 | 0.9131526 | 0.9131526 | 0.9131526 | 0.9131526 | ...       | -1.553572 | -1.753702 | -1.753702 | -1.753702 | -1.753702 | -1.753702 | NA        | NA        | NA        | NA        |\n",
       "| 1.425538  | 1.425538  | 1.425538  | 1.425538  | 1.425538  | 0.9141355 | 0.9141355 | 0.9141355 | 0.9141355 | 0.9141355 | ...       | -1.551158 | -1.751338 | -1.751338 | -1.751338 | -1.751338 | -1.751338 | NA        | NA        | NA        | NA        |\n",
       "| 1.437954  | 1.437954  | 1.437954  | 1.437954  | 1.437954  | 0.9240711 | 0.9240711 | 0.9240711 | 0.9240711 | 0.9240711 | ...       | -1.543910 | -1.740223 | -1.740223 | -1.740223 | -1.740223 | -1.740223 | NA        | NA        | NA        | NA        |\n",
       "| 1.433748  | 1.433748  | 1.433748  | 1.433748  | 1.433748  | 0.9206432 | 0.9206432 | 0.9206432 | 0.9206432 | 0.9206432 | ...       | -1.541731 | -1.738134 | -1.738134 | -1.738134 | -1.738134 | -1.738134 | NA        | NA        | NA        | NA        |\n",
       "| 1.431862  | 1.431862  | 1.431862  | 1.431862  | 1.431862  | 0.9182086 | 0.9182086 | 0.9182086 | 0.9182086 | 0.9182086 | ...       | -1.546761 | -1.743692 | -1.743692 | -1.743692 | -1.743692 | -1.743692 | NA        | NA        | NA        | NA        |\n",
       "| 1.415833  | 1.415833  | 1.415833  | 1.415833  | 1.415833  | 0.9013746 | 0.9013746 | 0.9013746 | 0.9013746 | 0.9013746 | ...       | -1.561496 | -1.760659 | -1.760659 | -1.760659 | -1.760659 | -1.760659 | NA        | NA        | NA        | NA        |\n",
       "| 1.418089  | 1.418089  | 1.418089  | 1.418089  | 1.418089  | 0.9022741 | 0.9022741 | 0.9022741 | 0.9022741 | 0.9022741 | ...       | -1.561467 | -1.761083 | -1.761083 | -1.761083 | -1.761083 | -1.761083 | NA        | NA        | NA        | NA        |\n",
       "| 1.418711  | 1.418711  | 1.418711  | 1.418711  | 1.418711  | 0.9038292 | 0.9038292 | 0.9038292 | 0.9038292 | 0.9038292 | ...       | -1.561430 | -1.760672 | -1.760672 | -1.760672 | -1.760672 | -1.760672 | NA        | NA        | NA        | NA        |\n",
       "| 1.436672  | 1.436672  | 1.436672  | 1.436672  | 1.436672  | 0.9214124 | 0.9214124 | 0.9214124 | 0.9214124 | 0.9214124 | ...       | -1.557546 | -1.759567 | -1.759567 | -1.759567 | -1.759567 | -1.759567 | NA        | NA        | NA        | NA        |\n",
       "| 1.438428  | 1.438428  | 1.438428  | 1.438428  | 1.438428  | 0.9220293 | 0.9220293 | 0.9220293 | 0.9220293 | 0.9220293 | ...       | -1.561261 | -1.762886 | -1.762886 | -1.762886 | -1.762886 | -1.762886 | NA        | NA        | NA        | NA        |\n",
       "| 1.444418  | 1.444418  | 1.444418  | 1.444418  | 1.444418  | 0.9263145 | 0.9263145 | 0.9263145 | 0.9263145 | 0.9263145 | ...       | -1.565604 | -1.768473 | -1.768473 | -1.768473 | -1.768473 | -1.768473 | NA        | NA        | NA        | NA        |\n",
       "\n"
      ],
      "text/plain": [
       "   V1       V2       V3       V4       V5       V6        V7        V8       \n",
       "1  1.522724 1.522724 1.522724 1.522724 1.522724 0.9740388 0.9740388 0.9740388\n",
       "2  1.520070 1.520070 1.520070 1.520070 1.520070 0.9709011 0.9709011 0.9709011\n",
       "3  1.516995 1.516995 1.516995 1.516995 1.516995 0.9677760 0.9677760 0.9677760\n",
       "4  1.516613 1.516613 1.516613 1.516613 1.516613 0.9715528 0.9715528 0.9715528\n",
       "5  1.519296 1.519296 1.519296 1.519296 1.519296 0.9738781 0.9738781 0.9738781\n",
       "6  1.519328 1.519328 1.519328 1.519328 1.519328 0.9747890 0.9747890 0.9747890\n",
       "7  1.413624 1.413624 1.413624 1.413624 1.413624 0.9047137 0.9047137 0.9047137\n",
       "8  1.413895 1.413895 1.413895 1.413895 1.413895 0.9044763 0.9044763 0.9044763\n",
       "9  1.415631 1.415631 1.415631 1.415631 1.415631 0.9059895 0.9059895 0.9059895\n",
       "10 1.464627 1.464627 1.464627 1.464627 1.464627 0.9375599 0.9375599 0.9375599\n",
       "11 1.464445 1.464445 1.464445 1.464445 1.464445 0.9361842 0.9361842 0.9361842\n",
       "12 1.464054 1.464054 1.464054 1.464054 1.464054 0.9363089 0.9363089 0.9363089\n",
       "13 1.451967 1.451967 1.451967 1.451967 1.451967 0.9277160 0.9277160 0.9277160\n",
       "14 1.452788 1.452788 1.452788 1.452788 1.452788 0.9288805 0.9288805 0.9288805\n",
       "15 1.454976 1.454976 1.454976 1.454976 1.454976 0.9315724 0.9315724 0.9315724\n",
       "16 1.433529 1.433529 1.433529 1.433529 1.433529 0.9194017 0.9194017 0.9194017\n",
       "17 1.437429 1.437429 1.437429 1.437429 1.437429 0.9222565 0.9222565 0.9222565\n",
       "18 1.434207 1.434207 1.434207 1.434207 1.434207 0.9206880 0.9206880 0.9206880\n",
       "19 1.429326 1.429326 1.429326 1.429326 1.429326 0.9159919 0.9159919 0.9159919\n",
       "20 1.437679 1.437679 1.437679 1.437679 1.437679 0.9232046 0.9232046 0.9232046\n",
       "21 1.432618 1.432618 1.432618 1.432618 1.432618 0.9183191 0.9183191 0.9183191\n",
       "22 1.420517 1.420517 1.420517 1.420517 1.420517 0.9071155 0.9071155 0.9071155\n",
       "23 1.420181 1.420181 1.420181 1.420181 1.420181 0.9078602 0.9078602 0.9078602\n",
       "24 1.419375 1.419375 1.419375 1.419375 1.419375 0.9070706 0.9070706 0.9070706\n",
       "25 1.444937 1.444937 1.444937 1.444937 1.444937 0.9276033 0.9276033 0.9276033\n",
       "26 1.448579 1.448579 1.448579 1.448579 1.448579 0.9309921 0.9309921 0.9309921\n",
       "27 1.438511 1.438511 1.438511 1.438511 1.438511 0.9225048 0.9225048 0.9225048\n",
       "28 1.442770 1.442770 1.442770 1.442770 1.442770 0.9208207 0.9208207 0.9208207\n",
       "29 1.434801 1.434801 1.434801 1.434801 1.434801 0.9135788 0.9135788 0.9135788\n",
       "30 1.436116 1.436116 1.436116 1.436116 1.436116 0.9169724 0.9169724 0.9169724\n",
       "31 1.516981 1.516981 1.516981 1.516981 1.516981 0.9701741 0.9701741 0.9701741\n",
       "32 1.517738 1.517738 1.517738 1.517738 1.517738 0.9698687 0.9698687 0.9698687\n",
       "33 1.517655 1.517655 1.517655 1.517655 1.517655 0.9712780 0.9712780 0.9712780\n",
       "34 1.432693 1.432693 1.432693 1.432693 1.432693 0.9137106 0.9137106 0.9137106\n",
       "35 1.433200 1.433200 1.433200 1.433200 1.433200 0.9139216 0.9139216 0.9139216\n",
       "36 1.435682 1.435682 1.435682 1.435682 1.435682 0.9155450 0.9155450 0.9155450\n",
       "37 1.462461 1.462461 1.462461 1.462461 1.462461 0.9400520 0.9400520 0.9400520\n",
       "38 1.465027 1.465027 1.465027 1.465027 1.465027 0.9413844 0.9413844 0.9413844\n",
       "39 1.466717 1.466717 1.466717 1.466717 1.466717 0.9442080 0.9442080 0.9442080\n",
       "40 1.469031 1.469031 1.469031 1.469031 1.469031 0.9455690 0.9455690 0.9455690\n",
       "41 1.465866 1.465866 1.465866 1.465866 1.465866 0.9440293 0.9440293 0.9440293\n",
       "42 1.466053 1.466053 1.466053 1.466053 1.466053 0.9439828 0.9439828 0.9439828\n",
       "43 1.453794 1.453794 1.453794 1.453794 1.453794 0.9341453 0.9341453 0.9341453\n",
       "44 1.454473 1.454473 1.454473 1.454473 1.454473 0.9352148 0.9352148 0.9352148\n",
       "45 1.453675 1.453675 1.453675 1.453675 1.453675 0.9327029 0.9327029 0.9327029\n",
       "46 1.440905 1.440905 1.440905 1.440905 1.440905 0.9229835 0.9229835 0.9229835\n",
       "47 1.425913 1.425913 1.425913 1.425913 1.425913 0.9131526 0.9131526 0.9131526\n",
       "48 1.425538 1.425538 1.425538 1.425538 1.425538 0.9141355 0.9141355 0.9141355\n",
       "49 1.437954 1.437954 1.437954 1.437954 1.437954 0.9240711 0.9240711 0.9240711\n",
       "50 1.433748 1.433748 1.433748 1.433748 1.433748 0.9206432 0.9206432 0.9206432\n",
       "51 1.431862 1.431862 1.431862 1.431862 1.431862 0.9182086 0.9182086 0.9182086\n",
       "52 1.415833 1.415833 1.415833 1.415833 1.415833 0.9013746 0.9013746 0.9013746\n",
       "53 1.418089 1.418089 1.418089 1.418089 1.418089 0.9022741 0.9022741 0.9022741\n",
       "54 1.418711 1.418711 1.418711 1.418711 1.418711 0.9038292 0.9038292 0.9038292\n",
       "55 1.436672 1.436672 1.436672 1.436672 1.436672 0.9214124 0.9214124 0.9214124\n",
       "56 1.438428 1.438428 1.438428 1.438428 1.438428 0.9220293 0.9220293 0.9220293\n",
       "57 1.444418 1.444418 1.444418 1.444418 1.444418 0.9263145 0.9263145 0.9263145\n",
       "   V9        V10       ... V225      V226      V227      V228      V229     \n",
       "1  0.9740388 0.9740388 ... -1.568920 -1.777089 -1.777089 -1.777089 -1.777089\n",
       "2  0.9709011 0.9709011 ... -1.568813 -1.777662 -1.777662 -1.777662 -1.777662\n",
       "3  0.9677760 0.9677760 ... -1.572192 -1.780860 -1.780860 -1.780860 -1.780860\n",
       "4  0.9715528 0.9715528 ... -1.555994 -1.763011 -1.763011 -1.763011 -1.763011\n",
       "5  0.9738781 0.9738781 ... -1.554959 -1.762198 -1.762198 -1.762198 -1.762198\n",
       "6  0.9747890 0.9747890 ... -1.551895 -1.758216 -1.758216 -1.758216 -1.758216\n",
       "7  0.9047137 0.9047137 ... -1.559792 -1.759599 -1.759599 -1.759599 -1.759599\n",
       "8  0.9044763 0.9044763 ... -1.561058 -1.761513 -1.761513 -1.761513 -1.761513\n",
       "9  0.9059895 0.9059895 ... -1.559395 -1.759925 -1.759925 -1.759925 -1.759925\n",
       "10 0.9375599 0.9375599 ... -1.559965 -1.765061 -1.765061 -1.765061 -1.765061\n",
       "11 0.9361842 0.9361842 ... -1.559848 -1.764953 -1.764953 -1.764953 -1.764953\n",
       "12 0.9363089 0.9363089 ... -1.559123 -1.764367 -1.764367 -1.764367 -1.764367\n",
       "13 0.9277160 0.9277160 ... -1.564879 -1.767530 -1.767530 -1.767530 -1.767530\n",
       "14 0.9288805 0.9288805 ... -1.565277 -1.768274 -1.768274 -1.768274 -1.768274\n",
       "15 0.9315724 0.9315724 ... -1.566205 -1.769231 -1.769231 -1.769231 -1.769231\n",
       "16 0.9194017 0.9194017 ... -1.554776 -1.757620 -1.757620 -1.757620 -1.757620\n",
       "17 0.9222565 0.9222565 ... -1.553072 -1.755302 -1.755302 -1.755302 -1.755302\n",
       "18 0.9206880 0.9206880 ... -1.560230 -1.762895 -1.762895 -1.762895 -1.762895\n",
       "19 0.9159919 0.9159919 ... -1.534150 -1.731979 -1.731979 -1.731979 -1.731979\n",
       "20 0.9232046 0.9232046 ... -1.537040 -1.732489 -1.732489 -1.732489 -1.732489\n",
       "21 0.9183191 0.9183191 ... -1.539671 -1.738213 -1.738213 -1.738213 -1.738213\n",
       "22 0.9071155 0.9071155 ... -1.560401 -1.761535 -1.761535 -1.761535 -1.761535\n",
       "23 0.9078602 0.9078602 ... -1.559316 -1.760879 -1.760879 -1.760879 -1.760879\n",
       "24 0.9070706 0.9070706 ... -1.560603 -1.761818 -1.761818 -1.761818 -1.761818\n",
       "25 0.9276033 0.9276033 ... -1.548680 -1.747928 -1.747928 -1.747928 -1.747928\n",
       "26 0.9309921 0.9309921 ... -1.552909 -1.752859 -1.752859 -1.752859 -1.752859\n",
       "27 0.9225048 0.9225048 ... -1.545850 -1.744950 -1.744950 -1.744950 -1.744950\n",
       "28 0.9208207 0.9208207 ... -1.568863 -1.773779 -1.773779 -1.773779 -1.773779\n",
       "29 0.9135788 0.9135788 ... -1.561936 -1.766147 -1.766147 -1.766147 -1.766147\n",
       "30 0.9169724 0.9169724 ... -1.559194 -1.763746 -1.763746 -1.763746 -1.763746\n",
       "31 0.9701741 0.9701741 ... -1.572170 -1.778718 -1.778718 -1.778718 -1.778718\n",
       "32 0.9698687 0.9698687 ... -1.571728 -1.778266 -1.778266 -1.778266 -1.778266\n",
       "33 0.9712780 0.9712780 ... -1.568543 -1.773615 -1.773615 -1.773615 -1.773615\n",
       "34 0.9137106 0.9137106 ... -1.603564 -1.805767 -1.805767 -1.805767 -1.805767\n",
       "35 0.9139216 0.9139216 ... -1.600820 -1.802838 -1.802838 -1.802838 -1.802838\n",
       "36 0.9155450 0.9155450 ... -1.601013 -1.803044 -1.803044 -1.803044 -1.803044\n",
       "37 0.9400520 0.9400520 ... -1.563143 -1.766103 -1.766103 -1.766103 -1.766103\n",
       "38 0.9413844 0.9413844 ... -1.562608 -1.765792 -1.765792 -1.765792 -1.765792\n",
       "39 0.9442080 0.9442080 ... -1.562288 -1.765845 -1.765845 -1.765845 -1.765845\n",
       "40 0.9455690 0.9455690 ... -1.550679 -1.755007 -1.755007 -1.755007 -1.755007\n",
       "41 0.9440293 0.9440293 ... -1.550907 -1.754925 -1.754925 -1.754925 -1.754925\n",
       "42 0.9439828 0.9439828 ... -1.550185 -1.754244 -1.754244 -1.754244 -1.754244\n",
       "43 0.9341453 0.9341453 ... -1.554803 -1.757743 -1.757743 -1.757743 -1.757743\n",
       "44 0.9352148 0.9352148 ... -1.552207 -1.755213 -1.755213 -1.755213 -1.755213\n",
       "45 0.9327029 0.9327029 ... -1.554113 -1.756514 -1.756514 -1.756514 -1.756514\n",
       "46 0.9229835 0.9229835 ... -1.554805 -1.756025 -1.756025 -1.756025 -1.756025\n",
       "47 0.9131526 0.9131526 ... -1.553572 -1.753702 -1.753702 -1.753702 -1.753702\n",
       "48 0.9141355 0.9141355 ... -1.551158 -1.751338 -1.751338 -1.751338 -1.751338\n",
       "49 0.9240711 0.9240711 ... -1.543910 -1.740223 -1.740223 -1.740223 -1.740223\n",
       "50 0.9206432 0.9206432 ... -1.541731 -1.738134 -1.738134 -1.738134 -1.738134\n",
       "51 0.9182086 0.9182086 ... -1.546761 -1.743692 -1.743692 -1.743692 -1.743692\n",
       "52 0.9013746 0.9013746 ... -1.561496 -1.760659 -1.760659 -1.760659 -1.760659\n",
       "53 0.9022741 0.9022741 ... -1.561467 -1.761083 -1.761083 -1.761083 -1.761083\n",
       "54 0.9038292 0.9038292 ... -1.561430 -1.760672 -1.760672 -1.760672 -1.760672\n",
       "55 0.9214124 0.9214124 ... -1.557546 -1.759567 -1.759567 -1.759567 -1.759567\n",
       "56 0.9220293 0.9220293 ... -1.561261 -1.762886 -1.762886 -1.762886 -1.762886\n",
       "57 0.9263145 0.9263145 ... -1.565604 -1.768473 -1.768473 -1.768473 -1.768473\n",
       "   V230      V231 V232 V233 V234\n",
       "1  -1.777089 NA   NA   NA   NA  \n",
       "2  -1.777662 NA   NA   NA   NA  \n",
       "3  -1.780860 NA   NA   NA   NA  \n",
       "4  -1.763011 NA   NA   NA   NA  \n",
       "5  -1.762198 NA   NA   NA   NA  \n",
       "6  -1.758216 NA   NA   NA   NA  \n",
       "7  -1.759599 NA   NA   NA   NA  \n",
       "8  -1.761513 NA   NA   NA   NA  \n",
       "9  -1.759925 NA   NA   NA   NA  \n",
       "10 -1.765061 NA   NA   NA   NA  \n",
       "11 -1.764953 NA   NA   NA   NA  \n",
       "12 -1.764367 NA   NA   NA   NA  \n",
       "13 -1.767530 NA   NA   NA   NA  \n",
       "14 -1.768274 NA   NA   NA   NA  \n",
       "15 -1.769231 NA   NA   NA   NA  \n",
       "16 -1.757620 NA   NA   NA   NA  \n",
       "17 -1.755302 NA   NA   NA   NA  \n",
       "18 -1.762895 NA   NA   NA   NA  \n",
       "19 -1.731979 NA   NA   NA   NA  \n",
       "20 -1.732489 NA   NA   NA   NA  \n",
       "21 -1.738213 NA   NA   NA   NA  \n",
       "22 -1.761535 NA   NA   NA   NA  \n",
       "23 -1.760879 NA   NA   NA   NA  \n",
       "24 -1.761818 NA   NA   NA   NA  \n",
       "25 -1.747928 NA   NA   NA   NA  \n",
       "26 -1.752859 NA   NA   NA   NA  \n",
       "27 -1.744950 NA   NA   NA   NA  \n",
       "28 -1.773779 NA   NA   NA   NA  \n",
       "29 -1.766147 NA   NA   NA   NA  \n",
       "30 -1.763746 NA   NA   NA   NA  \n",
       "31 -1.778718 NA   NA   NA   NA  \n",
       "32 -1.778266 NA   NA   NA   NA  \n",
       "33 -1.773615 NA   NA   NA   NA  \n",
       "34 -1.805767 NA   NA   NA   NA  \n",
       "35 -1.802838 NA   NA   NA   NA  \n",
       "36 -1.803044 NA   NA   NA   NA  \n",
       "37 -1.766103 NA   NA   NA   NA  \n",
       "38 -1.765792 NA   NA   NA   NA  \n",
       "39 -1.765845 NA   NA   NA   NA  \n",
       "40 -1.755007 NA   NA   NA   NA  \n",
       "41 -1.754925 NA   NA   NA   NA  \n",
       "42 -1.754244 NA   NA   NA   NA  \n",
       "43 -1.757743 NA   NA   NA   NA  \n",
       "44 -1.755213 NA   NA   NA   NA  \n",
       "45 -1.756514 NA   NA   NA   NA  \n",
       "46 -1.756025 NA   NA   NA   NA  \n",
       "47 -1.753702 NA   NA   NA   NA  \n",
       "48 -1.751338 NA   NA   NA   NA  \n",
       "49 -1.740223 NA   NA   NA   NA  \n",
       "50 -1.738134 NA   NA   NA   NA  \n",
       "51 -1.743692 NA   NA   NA   NA  \n",
       "52 -1.760659 NA   NA   NA   NA  \n",
       "53 -1.761083 NA   NA   NA   NA  \n",
       "54 -1.760672 NA   NA   NA   NA  \n",
       "55 -1.759567 NA   NA   NA   NA  \n",
       "56 -1.762886 NA   NA   NA   NA  \n",
       "57 -1.768473 NA   NA   NA   NA  "
      ]
     },
     "metadata": {},
     "output_type": "display_data"
    }
   ],
   "source": [
    "paa_train"
   ]
  },
  {
   "cell_type": "markdown",
   "metadata": {},
   "source": [
    "<a id=\"5\"></a>\n",
    "## PAA Function"
   ]
  },
  {
   "cell_type": "code",
   "execution_count": 33,
   "metadata": {},
   "outputs": [],
   "source": [
    "paa_obtainer=function(traindata,segment_length){\n",
    "    dt_ts_train=data.table(traindata)\n",
    "    dt_ts_train[,id:=1:.N]\n",
    "    long_train=melt(dt_ts_train,id.vars=c('id'))\n",
    "    long_train[,time:=as.numeric(gsub(\"\\\\D\", \"\", variable))-1]\n",
    "    long_train=long_train[order(id,time)]\n",
    "    \n",
    "    paa_results=vector(\"list\", max(long_train$id))\n",
    "    for(i in 1:max(long_train$id)){\n",
    "        current_ts=long_train[id==i,]$value\n",
    "\n",
    "        paa_rep=repr_paa(current_ts, segment_length, meanC)\n",
    "        current_dt=data.table(time=1:length(long_train[id==i,]$value))\n",
    "        result_dt=data.table(time=c(1:(length(paa_rep)))*segment_length, values=paa_rep)\n",
    "        all_dt=merge(current_dt, result_dt, by='time',all.x=T)\n",
    "        all_dt[,values:=nafill(values,'nocb')]\n",
    "        paa_results[[i]]=transpose(data.table(values=all_dt$values))\n",
    "\n",
    "    }\n",
    "    return(rbindlist(paa_results))\n",
    "}"
   ]
  },
  {
   "cell_type": "markdown",
   "metadata": {},
   "source": [
    "This function will be used to get a difference dataset. \"_2\" string will be used to mention segment lentgh determined as 10."
   ]
  },
  {
   "cell_type": "markdown",
   "metadata": {},
   "source": [
    "### Segment Length 9"
   ]
  },
  {
   "cell_type": "code",
   "execution_count": 34,
   "metadata": {},
   "outputs": [],
   "source": [
    "paa_train=paa_obtainer(traindata,9)"
   ]
  },
  {
   "cell_type": "markdown",
   "metadata": {},
   "source": [
    "### Segment Length 18"
   ]
  },
  {
   "cell_type": "code",
   "execution_count": 35,
   "metadata": {},
   "outputs": [],
   "source": [
    "paa_train_2=paa_obtainer(traindata,18)"
   ]
  },
  {
   "cell_type": "code",
   "execution_count": null,
   "metadata": {},
   "outputs": [],
   "source": []
  },
  {
   "cell_type": "code",
   "execution_count": null,
   "metadata": {},
   "outputs": [],
   "source": []
  },
  {
   "cell_type": "markdown",
   "metadata": {},
   "source": [
    "<a id=\"6\"></a>\n",
    "# Distances"
   ]
  },
  {
   "cell_type": "markdown",
   "metadata": {},
   "source": [
    "In this part, distance datasets will be calculated to have 20 different combination (5 representation * 4 different distance calculation types). In addition, obtained distance datasets will be stored in a file to skip distance calculation."
   ]
  },
  {
   "cell_type": "code",
   "execution_count": 36,
   "metadata": {},
   "outputs": [],
   "source": [
    "large_number=10000"
   ]
  },
  {
   "cell_type": "markdown",
   "metadata": {},
   "source": [
    "<a id=\"7\"></a>\n",
    "## Raw Dataset "
   ]
  },
  {
   "cell_type": "code",
   "execution_count": 37,
   "metadata": {},
   "outputs": [
    {
     "name": "stderr",
     "output_type": "stream",
     "text": [
      "x being coerced from class: matrix to data.table\n",
      "x being coerced from class: matrix to data.table\n",
      "x being coerced from class: matrix to data.table\n",
      "x being coerced from class: matrix to data.table\n"
     ]
    }
   ],
   "source": [
    "dist_euc=as.matrix(dist(traindata))\n",
    "diag(dist_euc)=large_number\n",
    "fwrite(dist_euc,sprintf('%s%s/%s_euc_raw_dist.csv', distance_path, fifth_dataset, fifth_dataset),col.names=F)\n",
    "\n",
    "dist_dtw=as.matrix(dtwDist(traindata))\n",
    "diag(dist_dtw)=large_number\n",
    "fwrite(dist_dtw,sprintf('%s%s/%s_dtw_raw_dist.csv', distance_path, fifth_dataset, fifth_dataset),col.names=F)\n",
    "\n",
    "dist_lcss=TSDatabaseDistances(traindata,distance='lcss',epsilon=0.05)\n",
    "dist_lcss=as.matrix(dist_lcss)\n",
    "diag(dist_lcss)=large_number\n",
    "fwrite(dist_lcss,sprintf('%s%s/%s_lcss_raw_epsilon_005.csv', distance_path, fifth_dataset, fifth_dataset),col.names=F)  \n",
    "\n",
    "dist_erp=TSDatabaseDistances(traindata,distance='erp',g=0.5)\n",
    "dist_erp=as.matrix(dist_erp)\n",
    "diag(dist_erp)=large_number\n",
    "fwrite(dist_erp,sprintf('%s%s/%s_erp_raw_gap_005.csv', distance_path, fifth_dataset, fifth_dataset),col.names=F)  "
   ]
  },
  {
   "cell_type": "markdown",
   "metadata": {},
   "source": [
    "<a id=\"8\"></a>\n",
    "## Difference taken Datasets"
   ]
  },
  {
   "cell_type": "markdown",
   "metadata": {},
   "source": [
    "### First difference dataset when shift value is 1"
   ]
  },
  {
   "cell_type": "code",
   "execution_count": 38,
   "metadata": {},
   "outputs": [
    {
     "name": "stderr",
     "output_type": "stream",
     "text": [
      "x being coerced from class: matrix to data.table\n",
      "x being coerced from class: matrix to data.table\n",
      "x being coerced from class: matrix to data.table\n",
      "x being coerced from class: matrix to data.table\n"
     ]
    }
   ],
   "source": [
    "dist_euc_diff=as.matrix(dist(diff_train))\n",
    "diag(dist_euc_diff)=large_number\n",
    "fwrite(dist_euc_diff,sprintf('%s%s/%s_euc_diff_dist.csv', distance_path, fifth_dataset, fifth_dataset),col.names=F)\n",
    "\n",
    "dist_dtw_diff=as.matrix(dtwDist(diff_train))\n",
    "diag(dist_dtw_diff)=large_number\n",
    "fwrite(dist_dtw_diff,sprintf('%s%s/%s_dtw_diff_dist.csv', distance_path, fifth_dataset, fifth_dataset),col.names=F)\n",
    "\n",
    "dist_lcss_diff=TSDatabaseDistances(diff_train,distance='lcss',epsilon=0.05)\n",
    "dist_lcss_diff=as.matrix(dist_lcss_diff)\n",
    "diag(dist_lcss_diff)=large_number\n",
    "fwrite(dist_lcss_diff,sprintf('%s%s/%s_lcss_diff_epsilon_005.csv', distance_path, fifth_dataset, fifth_dataset),col.names=F)  \n",
    "\n",
    "dist_erp_diff=TSDatabaseDistances(diff_train,distance='erp',g=0.5)\n",
    "dist_erp_diff=as.matrix(dist_erp_diff)\n",
    "diag(dist_erp_diff)=large_number\n",
    "fwrite(dist_erp_diff,sprintf('%s%s/%s_erp_diff_gap_005.csv', distance_path, fifth_dataset, fifth_dataset),col.names=F)  "
   ]
  },
  {
   "cell_type": "markdown",
   "metadata": {},
   "source": [
    "### Second difference dataset when shift value is 2"
   ]
  },
  {
   "cell_type": "code",
   "execution_count": 39,
   "metadata": {},
   "outputs": [
    {
     "name": "stderr",
     "output_type": "stream",
     "text": [
      "x being coerced from class: matrix to data.table\n",
      "x being coerced from class: matrix to data.table\n",
      "x being coerced from class: matrix to data.table\n",
      "x being coerced from class: matrix to data.table\n"
     ]
    }
   ],
   "source": [
    "dist_euc_diff_2=as.matrix(dist(diff_train_2))\n",
    "diag(dist_euc_diff_2)=large_number\n",
    "fwrite(dist_euc_diff_2,sprintf('%s%s/%s_euc_diff2_dist.csv', distance_path, fifth_dataset, fifth_dataset),col.names=F)\n",
    "\n",
    "dist_dtw_diff_2=as.matrix(dtwDist(diff_train_2))\n",
    "diag(dist_dtw_diff_2)=large_number\n",
    "fwrite(dist_dtw_diff_2,sprintf('%s%s/%s_dtw_diff2_dist.csv', distance_path, fifth_dataset, fifth_dataset),col.names=F)\n",
    "\n",
    "dist_lcss_diff_2=TSDatabaseDistances(diff_train_2,distance='lcss',epsilon=0.05)\n",
    "dist_lcss_diff_2=as.matrix(dist_lcss_diff_2)\n",
    "diag(dist_lcss_diff_2)=large_number\n",
    "fwrite(dist_lcss_diff_2,sprintf('%s%s/%s_lcss_diff2_epsilon_005.csv', distance_path, fifth_dataset, fifth_dataset),col.names=F)  \n",
    "\n",
    "dist_erp_diff_2=TSDatabaseDistances(diff_train_2,distance='erp',g=0.5)\n",
    "dist_erp_diff_2=as.matrix(dist_erp_diff_2)\n",
    "diag(dist_erp_diff_2)=large_number\n",
    "fwrite(dist_erp_diff_2,sprintf('%s%s/%s_erp_diff2_gap_005.csv', distance_path, fifth_dataset, fifth_dataset),col.names=F)  "
   ]
  },
  {
   "cell_type": "markdown",
   "metadata": {},
   "source": [
    "<a id=\"9\"></a>\n",
    "## PAA Datasets"
   ]
  },
  {
   "cell_type": "markdown",
   "metadata": {},
   "source": [
    "### First PAA dataset when segment length value is 9"
   ]
  },
  {
   "cell_type": "code",
   "execution_count": 40,
   "metadata": {},
   "outputs": [
    {
     "name": "stderr",
     "output_type": "stream",
     "text": [
      "x being coerced from class: matrix to data.table\n",
      "x being coerced from class: matrix to data.table\n",
      "x being coerced from class: matrix to data.table\n",
      "x being coerced from class: matrix to data.table\n"
     ]
    }
   ],
   "source": [
    "dist_euc_paa=as.matrix(dist(paa_train))\n",
    "diag(dist_euc_paa)=large_number\n",
    "fwrite(dist_euc_paa,sprintf('%s%s/%s_euc_paa_dist.csv', distance_path, fifth_dataset, fifth_dataset),col.names=F)\n",
    "\n",
    "dist_dtw_paa=as.matrix(dtwDist(paa_train))\n",
    "diag(dist_dtw_paa)=large_number\n",
    "fwrite(dist_dtw_paa,sprintf('%s%s/%s_dtw_paa_dist.csv', distance_path, fifth_dataset, fifth_dataset),col.names=F)\n",
    "\n",
    "dist_lcss_paa=TSDatabaseDistances(paa_train,distance='lcss',epsilon=0.05)\n",
    "dist_lcss_paa=as.matrix(dist_lcss_paa)\n",
    "diag(dist_lcss_paa)=large_number\n",
    "fwrite(dist_lcss_paa,sprintf('%s%s/%s_lcss_paa_epsilon_005.csv', distance_path, fifth_dataset, fifth_dataset),col.names=F)  \n",
    "\n",
    "dist_erp_paa=TSDatabaseDistances(paa_train,distance='erp',g=0.5)\n",
    "dist_erp_paa=as.matrix(dist_erp_paa)\n",
    "diag(dist_erp_paa)=large_number\n",
    "fwrite(dist_erp_paa,sprintf('%s%s/%s_erp_paa_gap_005.csv', distance_path, fifth_dataset, fifth_dataset),col.names=F)  "
   ]
  },
  {
   "cell_type": "markdown",
   "metadata": {},
   "source": [
    "### Second PAA dataset when segment length value is 18"
   ]
  },
  {
   "cell_type": "code",
   "execution_count": 41,
   "metadata": {},
   "outputs": [
    {
     "name": "stderr",
     "output_type": "stream",
     "text": [
      "x being coerced from class: matrix to data.table\n",
      "x being coerced from class: matrix to data.table\n",
      "x being coerced from class: matrix to data.table\n",
      "x being coerced from class: matrix to data.table\n"
     ]
    }
   ],
   "source": [
    "dist_euc_paa_2=as.matrix(dist(paa_train_2))\n",
    "diag(dist_euc_paa_2)=large_number\n",
    "fwrite(dist_euc_paa_2,sprintf('%s%s/%s_euc_paa2_dist.csv', distance_path, fifth_dataset, fifth_dataset),col.names=F)\n",
    "\n",
    "dist_dtw_paa_2=as.matrix(dtwDist(paa_train_2))\n",
    "diag(dist_dtw_paa_2)=large_number\n",
    "fwrite(dist_dtw_paa_2,sprintf('%s%s/%s_dtw_paa2_dist.csv', distance_path, fifth_dataset, fifth_dataset),col.names=F)\n",
    "\n",
    "dist_lcss_paa_2=TSDatabaseDistances(paa_train_2,distance='lcss',epsilon=0.05)\n",
    "dist_lcss_paa_2=as.matrix(dist_lcss_paa_2)\n",
    "diag(dist_lcss_paa_2)=large_number\n",
    "fwrite(dist_lcss_paa_2,sprintf('%s%s/%s_lcss_paa2_epsilon_005.csv', distance_path, fifth_dataset, fifth_dataset),col.names=F)  \n",
    "\n",
    "dist_erp_paa_2=TSDatabaseDistances(paa_train_2,distance='erp',g=0.5)\n",
    "dist_erp_paa_2=as.matrix(dist_erp_paa_2)\n",
    "diag(dist_erp_paa_2)=large_number\n",
    "fwrite(dist_erp_paa_2,sprintf('%s%s/%s_erp_paa2_gap_005.csv', distance_path, fifth_dataset, fifth_dataset),col.names=F)  "
   ]
  },
  {
   "cell_type": "markdown",
   "metadata": {},
   "source": [
    "### To store obtained distance datasetes in a list"
   ]
  },
  {
   "cell_type": "code",
   "execution_count": 42,
   "metadata": {},
   "outputs": [],
   "source": [
    "dist_folder=sprintf('%s%s', distance_path, fifth_dataset)\n",
    "dist_files=list.files(dist_folder, full.names=T)"
   ]
  },
  {
   "cell_type": "code",
   "execution_count": 43,
   "metadata": {},
   "outputs": [
    {
     "data": {
      "text/html": [
       "<ol class=list-inline>\n",
       "\t<li>'C:/Users/bahad/GitHub/IE48B/Homework3/Distances/Wine/Wine_dtw_diff_dist.csv'</li>\n",
       "\t<li>'C:/Users/bahad/GitHub/IE48B/Homework3/Distances/Wine/Wine_dtw_diff2_dist.csv'</li>\n",
       "\t<li>'C:/Users/bahad/GitHub/IE48B/Homework3/Distances/Wine/Wine_dtw_paa_dist.csv'</li>\n",
       "\t<li>'C:/Users/bahad/GitHub/IE48B/Homework3/Distances/Wine/Wine_dtw_paa2_dist.csv'</li>\n",
       "\t<li>'C:/Users/bahad/GitHub/IE48B/Homework3/Distances/Wine/Wine_dtw_raw_dist.csv'</li>\n",
       "\t<li>'C:/Users/bahad/GitHub/IE48B/Homework3/Distances/Wine/Wine_erp_diff_gap_005.csv'</li>\n",
       "\t<li>'C:/Users/bahad/GitHub/IE48B/Homework3/Distances/Wine/Wine_erp_diff2_gap_005.csv'</li>\n",
       "\t<li>'C:/Users/bahad/GitHub/IE48B/Homework3/Distances/Wine/Wine_erp_paa_gap_005.csv'</li>\n",
       "\t<li>'C:/Users/bahad/GitHub/IE48B/Homework3/Distances/Wine/Wine_erp_paa2_gap_005.csv'</li>\n",
       "\t<li>'C:/Users/bahad/GitHub/IE48B/Homework3/Distances/Wine/Wine_erp_raw_gap_005.csv'</li>\n",
       "\t<li>'C:/Users/bahad/GitHub/IE48B/Homework3/Distances/Wine/Wine_euc_diff_dist.csv'</li>\n",
       "\t<li>'C:/Users/bahad/GitHub/IE48B/Homework3/Distances/Wine/Wine_euc_diff2_dist.csv'</li>\n",
       "\t<li>'C:/Users/bahad/GitHub/IE48B/Homework3/Distances/Wine/Wine_euc_paa_dist.csv'</li>\n",
       "\t<li>'C:/Users/bahad/GitHub/IE48B/Homework3/Distances/Wine/Wine_euc_paa2_dist.csv'</li>\n",
       "\t<li>'C:/Users/bahad/GitHub/IE48B/Homework3/Distances/Wine/Wine_euc_raw_dist.csv'</li>\n",
       "\t<li>'C:/Users/bahad/GitHub/IE48B/Homework3/Distances/Wine/Wine_lcss_diff_epsilon_005.csv'</li>\n",
       "\t<li>'C:/Users/bahad/GitHub/IE48B/Homework3/Distances/Wine/Wine_lcss_diff2_epsilon_005.csv'</li>\n",
       "\t<li>'C:/Users/bahad/GitHub/IE48B/Homework3/Distances/Wine/Wine_lcss_paa_epsilon_005.csv'</li>\n",
       "\t<li>'C:/Users/bahad/GitHub/IE48B/Homework3/Distances/Wine/Wine_lcss_paa2_epsilon_005.csv'</li>\n",
       "\t<li>'C:/Users/bahad/GitHub/IE48B/Homework3/Distances/Wine/Wine_lcss_raw_epsilon_005.csv'</li>\n",
       "</ol>\n"
      ],
      "text/latex": [
       "\\begin{enumerate*}\n",
       "\\item 'C:/Users/bahad/GitHub/IE48B/Homework3/Distances/Wine/Wine\\_dtw\\_diff\\_dist.csv'\n",
       "\\item 'C:/Users/bahad/GitHub/IE48B/Homework3/Distances/Wine/Wine\\_dtw\\_diff2\\_dist.csv'\n",
       "\\item 'C:/Users/bahad/GitHub/IE48B/Homework3/Distances/Wine/Wine\\_dtw\\_paa\\_dist.csv'\n",
       "\\item 'C:/Users/bahad/GitHub/IE48B/Homework3/Distances/Wine/Wine\\_dtw\\_paa2\\_dist.csv'\n",
       "\\item 'C:/Users/bahad/GitHub/IE48B/Homework3/Distances/Wine/Wine\\_dtw\\_raw\\_dist.csv'\n",
       "\\item 'C:/Users/bahad/GitHub/IE48B/Homework3/Distances/Wine/Wine\\_erp\\_diff\\_gap\\_005.csv'\n",
       "\\item 'C:/Users/bahad/GitHub/IE48B/Homework3/Distances/Wine/Wine\\_erp\\_diff2\\_gap\\_005.csv'\n",
       "\\item 'C:/Users/bahad/GitHub/IE48B/Homework3/Distances/Wine/Wine\\_erp\\_paa\\_gap\\_005.csv'\n",
       "\\item 'C:/Users/bahad/GitHub/IE48B/Homework3/Distances/Wine/Wine\\_erp\\_paa2\\_gap\\_005.csv'\n",
       "\\item 'C:/Users/bahad/GitHub/IE48B/Homework3/Distances/Wine/Wine\\_erp\\_raw\\_gap\\_005.csv'\n",
       "\\item 'C:/Users/bahad/GitHub/IE48B/Homework3/Distances/Wine/Wine\\_euc\\_diff\\_dist.csv'\n",
       "\\item 'C:/Users/bahad/GitHub/IE48B/Homework3/Distances/Wine/Wine\\_euc\\_diff2\\_dist.csv'\n",
       "\\item 'C:/Users/bahad/GitHub/IE48B/Homework3/Distances/Wine/Wine\\_euc\\_paa\\_dist.csv'\n",
       "\\item 'C:/Users/bahad/GitHub/IE48B/Homework3/Distances/Wine/Wine\\_euc\\_paa2\\_dist.csv'\n",
       "\\item 'C:/Users/bahad/GitHub/IE48B/Homework3/Distances/Wine/Wine\\_euc\\_raw\\_dist.csv'\n",
       "\\item 'C:/Users/bahad/GitHub/IE48B/Homework3/Distances/Wine/Wine\\_lcss\\_diff\\_epsilon\\_005.csv'\n",
       "\\item 'C:/Users/bahad/GitHub/IE48B/Homework3/Distances/Wine/Wine\\_lcss\\_diff2\\_epsilon\\_005.csv'\n",
       "\\item 'C:/Users/bahad/GitHub/IE48B/Homework3/Distances/Wine/Wine\\_lcss\\_paa\\_epsilon\\_005.csv'\n",
       "\\item 'C:/Users/bahad/GitHub/IE48B/Homework3/Distances/Wine/Wine\\_lcss\\_paa2\\_epsilon\\_005.csv'\n",
       "\\item 'C:/Users/bahad/GitHub/IE48B/Homework3/Distances/Wine/Wine\\_lcss\\_raw\\_epsilon\\_005.csv'\n",
       "\\end{enumerate*}\n"
      ],
      "text/markdown": [
       "1. 'C:/Users/bahad/GitHub/IE48B/Homework3/Distances/Wine/Wine_dtw_diff_dist.csv'\n",
       "2. 'C:/Users/bahad/GitHub/IE48B/Homework3/Distances/Wine/Wine_dtw_diff2_dist.csv'\n",
       "3. 'C:/Users/bahad/GitHub/IE48B/Homework3/Distances/Wine/Wine_dtw_paa_dist.csv'\n",
       "4. 'C:/Users/bahad/GitHub/IE48B/Homework3/Distances/Wine/Wine_dtw_paa2_dist.csv'\n",
       "5. 'C:/Users/bahad/GitHub/IE48B/Homework3/Distances/Wine/Wine_dtw_raw_dist.csv'\n",
       "6. 'C:/Users/bahad/GitHub/IE48B/Homework3/Distances/Wine/Wine_erp_diff_gap_005.csv'\n",
       "7. 'C:/Users/bahad/GitHub/IE48B/Homework3/Distances/Wine/Wine_erp_diff2_gap_005.csv'\n",
       "8. 'C:/Users/bahad/GitHub/IE48B/Homework3/Distances/Wine/Wine_erp_paa_gap_005.csv'\n",
       "9. 'C:/Users/bahad/GitHub/IE48B/Homework3/Distances/Wine/Wine_erp_paa2_gap_005.csv'\n",
       "10. 'C:/Users/bahad/GitHub/IE48B/Homework3/Distances/Wine/Wine_erp_raw_gap_005.csv'\n",
       "11. 'C:/Users/bahad/GitHub/IE48B/Homework3/Distances/Wine/Wine_euc_diff_dist.csv'\n",
       "12. 'C:/Users/bahad/GitHub/IE48B/Homework3/Distances/Wine/Wine_euc_diff2_dist.csv'\n",
       "13. 'C:/Users/bahad/GitHub/IE48B/Homework3/Distances/Wine/Wine_euc_paa_dist.csv'\n",
       "14. 'C:/Users/bahad/GitHub/IE48B/Homework3/Distances/Wine/Wine_euc_paa2_dist.csv'\n",
       "15. 'C:/Users/bahad/GitHub/IE48B/Homework3/Distances/Wine/Wine_euc_raw_dist.csv'\n",
       "16. 'C:/Users/bahad/GitHub/IE48B/Homework3/Distances/Wine/Wine_lcss_diff_epsilon_005.csv'\n",
       "17. 'C:/Users/bahad/GitHub/IE48B/Homework3/Distances/Wine/Wine_lcss_diff2_epsilon_005.csv'\n",
       "18. 'C:/Users/bahad/GitHub/IE48B/Homework3/Distances/Wine/Wine_lcss_paa_epsilon_005.csv'\n",
       "19. 'C:/Users/bahad/GitHub/IE48B/Homework3/Distances/Wine/Wine_lcss_paa2_epsilon_005.csv'\n",
       "20. 'C:/Users/bahad/GitHub/IE48B/Homework3/Distances/Wine/Wine_lcss_raw_epsilon_005.csv'\n",
       "\n",
       "\n"
      ],
      "text/plain": [
       " [1] \"C:/Users/bahad/GitHub/IE48B/Homework3/Distances/Wine/Wine_dtw_diff_dist.csv\"         \n",
       " [2] \"C:/Users/bahad/GitHub/IE48B/Homework3/Distances/Wine/Wine_dtw_diff2_dist.csv\"        \n",
       " [3] \"C:/Users/bahad/GitHub/IE48B/Homework3/Distances/Wine/Wine_dtw_paa_dist.csv\"          \n",
       " [4] \"C:/Users/bahad/GitHub/IE48B/Homework3/Distances/Wine/Wine_dtw_paa2_dist.csv\"         \n",
       " [5] \"C:/Users/bahad/GitHub/IE48B/Homework3/Distances/Wine/Wine_dtw_raw_dist.csv\"          \n",
       " [6] \"C:/Users/bahad/GitHub/IE48B/Homework3/Distances/Wine/Wine_erp_diff_gap_005.csv\"      \n",
       " [7] \"C:/Users/bahad/GitHub/IE48B/Homework3/Distances/Wine/Wine_erp_diff2_gap_005.csv\"     \n",
       " [8] \"C:/Users/bahad/GitHub/IE48B/Homework3/Distances/Wine/Wine_erp_paa_gap_005.csv\"       \n",
       " [9] \"C:/Users/bahad/GitHub/IE48B/Homework3/Distances/Wine/Wine_erp_paa2_gap_005.csv\"      \n",
       "[10] \"C:/Users/bahad/GitHub/IE48B/Homework3/Distances/Wine/Wine_erp_raw_gap_005.csv\"       \n",
       "[11] \"C:/Users/bahad/GitHub/IE48B/Homework3/Distances/Wine/Wine_euc_diff_dist.csv\"         \n",
       "[12] \"C:/Users/bahad/GitHub/IE48B/Homework3/Distances/Wine/Wine_euc_diff2_dist.csv\"        \n",
       "[13] \"C:/Users/bahad/GitHub/IE48B/Homework3/Distances/Wine/Wine_euc_paa_dist.csv\"          \n",
       "[14] \"C:/Users/bahad/GitHub/IE48B/Homework3/Distances/Wine/Wine_euc_paa2_dist.csv\"         \n",
       "[15] \"C:/Users/bahad/GitHub/IE48B/Homework3/Distances/Wine/Wine_euc_raw_dist.csv\"          \n",
       "[16] \"C:/Users/bahad/GitHub/IE48B/Homework3/Distances/Wine/Wine_lcss_diff_epsilon_005.csv\" \n",
       "[17] \"C:/Users/bahad/GitHub/IE48B/Homework3/Distances/Wine/Wine_lcss_diff2_epsilon_005.csv\"\n",
       "[18] \"C:/Users/bahad/GitHub/IE48B/Homework3/Distances/Wine/Wine_lcss_paa_epsilon_005.csv\"  \n",
       "[19] \"C:/Users/bahad/GitHub/IE48B/Homework3/Distances/Wine/Wine_lcss_paa2_epsilon_005.csv\" \n",
       "[20] \"C:/Users/bahad/GitHub/IE48B/Homework3/Distances/Wine/Wine_lcss_raw_epsilon_005.csv\"  "
      ]
     },
     "metadata": {},
     "output_type": "display_data"
    }
   ],
   "source": [
    "dist_files"
   ]
  },
  {
   "cell_type": "code",
   "execution_count": null,
   "metadata": {},
   "outputs": [],
   "source": []
  },
  {
   "cell_type": "code",
   "execution_count": null,
   "metadata": {},
   "outputs": [],
   "source": []
  },
  {
   "cell_type": "markdown",
   "metadata": {},
   "source": [
    "<a id=\"10\"></a>\n",
    "# Main Model"
   ]
  },
  {
   "cell_type": "code",
   "execution_count": 44,
   "metadata": {},
   "outputs": [],
   "source": [
    "k_levels=c(1,5,10)\n",
    "approach_file=list.files(dist_folder)"
   ]
  },
  {
   "cell_type": "code",
   "execution_count": 45,
   "metadata": {},
   "outputs": [],
   "source": [
    "result=vector('list',length(dist_files)*nof_rep*n_fold*length(k_levels))"
   ]
  },
  {
   "cell_type": "code",
   "execution_count": 46,
   "metadata": {},
   "outputs": [
    {
     "name": "stdout",
     "output_type": "stream",
     "text": [
      "[1] \"C:/Users/bahad/GitHub/IE48B/Homework3/Distances/Wine/Wine_dtw_diff_dist.csv\"\n",
      "[1] \"C:/Users/bahad/GitHub/IE48B/Homework3/Distances/Wine/Wine_dtw_diff2_dist.csv\"\n",
      "[1] \"C:/Users/bahad/GitHub/IE48B/Homework3/Distances/Wine/Wine_dtw_paa_dist.csv\"\n",
      "[1] \"C:/Users/bahad/GitHub/IE48B/Homework3/Distances/Wine/Wine_dtw_paa2_dist.csv\"\n",
      "[1] \"C:/Users/bahad/GitHub/IE48B/Homework3/Distances/Wine/Wine_dtw_raw_dist.csv\"\n",
      "[1] \"C:/Users/bahad/GitHub/IE48B/Homework3/Distances/Wine/Wine_erp_diff_gap_005.csv\"\n",
      "[1] \"C:/Users/bahad/GitHub/IE48B/Homework3/Distances/Wine/Wine_erp_diff2_gap_005.csv\"\n",
      "[1] \"C:/Users/bahad/GitHub/IE48B/Homework3/Distances/Wine/Wine_erp_paa_gap_005.csv\"\n",
      "[1] \"C:/Users/bahad/GitHub/IE48B/Homework3/Distances/Wine/Wine_erp_paa2_gap_005.csv\"\n",
      "[1] \"C:/Users/bahad/GitHub/IE48B/Homework3/Distances/Wine/Wine_erp_raw_gap_005.csv\"\n",
      "[1] \"C:/Users/bahad/GitHub/IE48B/Homework3/Distances/Wine/Wine_euc_diff_dist.csv\"\n",
      "[1] \"C:/Users/bahad/GitHub/IE48B/Homework3/Distances/Wine/Wine_euc_diff2_dist.csv\"\n",
      "[1] \"C:/Users/bahad/GitHub/IE48B/Homework3/Distances/Wine/Wine_euc_paa_dist.csv\"\n",
      "[1] \"C:/Users/bahad/GitHub/IE48B/Homework3/Distances/Wine/Wine_euc_paa2_dist.csv\"\n",
      "[1] \"C:/Users/bahad/GitHub/IE48B/Homework3/Distances/Wine/Wine_euc_raw_dist.csv\"\n",
      "[1] \"C:/Users/bahad/GitHub/IE48B/Homework3/Distances/Wine/Wine_lcss_diff_epsilon_005.csv\"\n",
      "[1] \"C:/Users/bahad/GitHub/IE48B/Homework3/Distances/Wine/Wine_lcss_diff2_epsilon_005.csv\"\n",
      "[1] \"C:/Users/bahad/GitHub/IE48B/Homework3/Distances/Wine/Wine_lcss_paa_epsilon_005.csv\"\n",
      "[1] \"C:/Users/bahad/GitHub/IE48B/Homework3/Distances/Wine/Wine_lcss_paa2_epsilon_005.csv\"\n",
      "[1] \"C:/Users/bahad/GitHub/IE48B/Homework3/Distances/Wine/Wine_lcss_raw_epsilon_005.csv\"\n"
     ]
    }
   ],
   "source": [
    "iter=1\n",
    "for(m in 1:length(dist_files)){ #\n",
    "    print(dist_files[m])\n",
    "    dist_mat=as.matrix(fread(dist_files[m],header=FALSE))\n",
    "    for(i in 1:nof_rep){\n",
    "        this_fold=cv_indices[[i]]\n",
    "        for(j in 1:n_fold){\n",
    "            test_indices=this_fold[[j]]\n",
    "            for(k in 1:length(k_levels)){\n",
    "                current_k=k_levels[k]\n",
    "                current_fold=nn_classify_cv(dist_mat,trainclass,test_indices,k=current_k)\n",
    "                accuracy=sum(trainclass[test_indices]==current_fold$prediction$predicted)/length(test_indices)\n",
    "                tmp=data.table(approach=approach_file[m],repid=i,foldid=j,\n",
    "                               k=current_k,acc=accuracy)\n",
    "                result[[iter]]=tmp\n",
    "                iter=iter+1\n",
    "            }\n",
    "            \n",
    "        }\n",
    "    \n",
    "    }   \n",
    "    \n",
    "}"
   ]
  },
  {
   "cell_type": "markdown",
   "metadata": {},
   "source": [
    "<a id=\"11\"></a>\n",
    "# Result of Models"
   ]
  },
  {
   "cell_type": "code",
   "execution_count": 47,
   "metadata": {},
   "outputs": [
    {
     "data": {
      "text/html": [
       "<table>\n",
       "<thead><tr><th scope=col>approach</th><th scope=col>repid</th><th scope=col>foldid</th><th scope=col>k</th><th scope=col>acc</th></tr></thead>\n",
       "<tbody>\n",
       "\t<tr><td>Wine_dtw_diff_dist.csv</td><td>1                     </td><td>1                     </td><td> 1                    </td><td>1.0000000             </td></tr>\n",
       "\t<tr><td>Wine_dtw_diff_dist.csv</td><td>1                     </td><td>1                     </td><td> 5                    </td><td>0.3333333             </td></tr>\n",
       "\t<tr><td>Wine_dtw_diff_dist.csv</td><td>1                     </td><td>1                     </td><td>10                    </td><td>0.8333333             </td></tr>\n",
       "\t<tr><td>Wine_dtw_diff_dist.csv</td><td>1                     </td><td>2                     </td><td> 1                    </td><td>1.0000000             </td></tr>\n",
       "\t<tr><td>Wine_dtw_diff_dist.csv</td><td>1                     </td><td>2                     </td><td> 5                    </td><td>0.6666667             </td></tr>\n",
       "\t<tr><td>Wine_dtw_diff_dist.csv</td><td>1                     </td><td>2                     </td><td>10                    </td><td>0.6666667             </td></tr>\n",
       "</tbody>\n",
       "</table>\n"
      ],
      "text/latex": [
       "\\begin{tabular}{r|lllll}\n",
       " approach & repid & foldid & k & acc\\\\\n",
       "\\hline\n",
       "\t Wine\\_dtw\\_diff\\_dist.csv & 1                            & 1                            &  1                           & 1.0000000                   \\\\\n",
       "\t Wine\\_dtw\\_diff\\_dist.csv & 1                            & 1                            &  5                           & 0.3333333                   \\\\\n",
       "\t Wine\\_dtw\\_diff\\_dist.csv & 1                            & 1                            & 10                           & 0.8333333                   \\\\\n",
       "\t Wine\\_dtw\\_diff\\_dist.csv & 1                            & 2                            &  1                           & 1.0000000                   \\\\\n",
       "\t Wine\\_dtw\\_diff\\_dist.csv & 1                            & 2                            &  5                           & 0.6666667                   \\\\\n",
       "\t Wine\\_dtw\\_diff\\_dist.csv & 1                            & 2                            & 10                           & 0.6666667                   \\\\\n",
       "\\end{tabular}\n"
      ],
      "text/markdown": [
       "\n",
       "| approach | repid | foldid | k | acc |\n",
       "|---|---|---|---|---|\n",
       "| Wine_dtw_diff_dist.csv | 1                      | 1                      |  1                     | 1.0000000              |\n",
       "| Wine_dtw_diff_dist.csv | 1                      | 1                      |  5                     | 0.3333333              |\n",
       "| Wine_dtw_diff_dist.csv | 1                      | 1                      | 10                     | 0.8333333              |\n",
       "| Wine_dtw_diff_dist.csv | 1                      | 2                      |  1                     | 1.0000000              |\n",
       "| Wine_dtw_diff_dist.csv | 1                      | 2                      |  5                     | 0.6666667              |\n",
       "| Wine_dtw_diff_dist.csv | 1                      | 2                      | 10                     | 0.6666667              |\n",
       "\n"
      ],
      "text/plain": [
       "  approach               repid foldid k  acc      \n",
       "1 Wine_dtw_diff_dist.csv 1     1       1 1.0000000\n",
       "2 Wine_dtw_diff_dist.csv 1     1       5 0.3333333\n",
       "3 Wine_dtw_diff_dist.csv 1     1      10 0.8333333\n",
       "4 Wine_dtw_diff_dist.csv 1     2       1 1.0000000\n",
       "5 Wine_dtw_diff_dist.csv 1     2       5 0.6666667\n",
       "6 Wine_dtw_diff_dist.csv 1     2      10 0.6666667"
      ]
     },
     "metadata": {},
     "output_type": "display_data"
    }
   ],
   "source": [
    "dataframe_result=rbindlist(result)\n",
    "head(dataframe_result)"
   ]
  },
  {
   "cell_type": "markdown",
   "metadata": {},
   "source": [
    "In this dataset, result of each fold exists in this dataframe. repid and foldid represent which repetition and fold respectively. "
   ]
  },
  {
   "cell_type": "markdown",
   "metadata": {},
   "source": [
    "### Accumulated Datasets"
   ]
  },
  {
   "cell_type": "code",
   "execution_count": 48,
   "metadata": {
    "scrolled": true
   },
   "outputs": [],
   "source": [
    "acc_res=dataframe_result[,list(avg_acc=mean(acc),sdev_acc=sd(acc), repid=max(repid), foldid=max(foldid), \n",
    "                                   result_count=.N),by=list(approach,k)]\n",
    "acc_res_ordered=acc_res[order(avg_acc,decreasing = TRUE)]"
   ]
  },
  {
   "cell_type": "markdown",
   "metadata": {},
   "source": [
    "Accumulated dataset are ordered by avg_acc value. "
   ]
  },
  {
   "cell_type": "code",
   "execution_count": 49,
   "metadata": {},
   "outputs": [
    {
     "data": {
      "text/html": [
       "<table>\n",
       "<thead><tr><th scope=col>approach</th><th scope=col>k</th><th scope=col>avg_acc</th><th scope=col>sdev_acc</th><th scope=col>repid</th><th scope=col>foldid</th><th scope=col>result_count</th></tr></thead>\n",
       "<tbody>\n",
       "\t<tr><td>Wine_euc_paa_dist.csv          </td><td> 1                             </td><td>1.0000000                      </td><td>0.00000000                     </td><td>5                              </td><td>10                             </td><td>50                             </td></tr>\n",
       "\t<tr><td>Wine_euc_paa2_dist.csv         </td><td> 1                             </td><td>1.0000000                      </td><td>0.00000000                     </td><td>5                              </td><td>10                             </td><td>50                             </td></tr>\n",
       "\t<tr><td>Wine_euc_raw_dist.csv          </td><td> 1                             </td><td>1.0000000                      </td><td>0.00000000                     </td><td>5                              </td><td>10                             </td><td>50                             </td></tr>\n",
       "\t<tr><td>Wine_dtw_paa2_dist.csv         </td><td> 1                             </td><td>0.9960000                      </td><td>0.02828427                     </td><td>5                              </td><td>10                             </td><td>50                             </td></tr>\n",
       "\t<tr><td>Wine_erp_paa2_gap_005.csv      </td><td> 1                             </td><td>0.9960000                      </td><td>0.02828427                     </td><td>5                              </td><td>10                             </td><td>50                             </td></tr>\n",
       "\t<tr><td>Wine_erp_raw_gap_005.csv       </td><td> 1                             </td><td>0.9960000                      </td><td>0.02828427                     </td><td>5                              </td><td>10                             </td><td>50                             </td></tr>\n",
       "\t<tr><td>Wine_dtw_raw_dist.csv          </td><td> 1                             </td><td>0.9920000                      </td><td>0.03958973                     </td><td>5                              </td><td>10                             </td><td>50                             </td></tr>\n",
       "\t<tr><td>Wine_dtw_paa_dist.csv          </td><td> 1                             </td><td>0.9880000                      </td><td>0.06272714                     </td><td>5                              </td><td>10                             </td><td>50                             </td></tr>\n",
       "\t<tr><td>Wine_erp_paa_gap_005.csv       </td><td> 1                             </td><td>0.9880000                      </td><td>0.06272714                     </td><td>5                              </td><td>10                             </td><td>50                             </td></tr>\n",
       "\t<tr><td>Wine_dtw_diff_dist.csv         </td><td> 1                             </td><td>0.9853333                      </td><td>0.05046720                     </td><td>5                              </td><td>10                             </td><td>50                             </td></tr>\n",
       "\t<tr><td>Wine_dtw_diff2_dist.csv        </td><td> 1                             </td><td>0.9853333                      </td><td>0.05046720                     </td><td>5                              </td><td>10                             </td><td>50                             </td></tr>\n",
       "\t<tr><td>Wine_erp_diff_gap_005.csv      </td><td> 1                             </td><td>0.9853333                      </td><td>0.05046720                     </td><td>5                              </td><td>10                             </td><td>50                             </td></tr>\n",
       "\t<tr><td>Wine_erp_diff2_gap_005.csv     </td><td> 1                             </td><td>0.9853333                      </td><td>0.05046720                     </td><td>5                              </td><td>10                             </td><td>50                             </td></tr>\n",
       "\t<tr><td>Wine_euc_diff_dist.csv         </td><td> 1                             </td><td>0.9820000                      </td><td>0.05479709                     </td><td>5                              </td><td>10                             </td><td>50                             </td></tr>\n",
       "\t<tr><td>Wine_euc_diff2_dist.csv        </td><td> 1                             </td><td>0.9820000                      </td><td>0.05479709                     </td><td>5                              </td><td>10                             </td><td>50                             </td></tr>\n",
       "\t<tr><td>Wine_lcss_diff_epsilon_005.csv </td><td>10                             </td><td>0.6700000                      </td><td>0.18433554                     </td><td>5                              </td><td>10                             </td><td>50                             </td></tr>\n",
       "\t<tr><td>Wine_euc_paa2_dist.csv         </td><td>10                             </td><td>0.6406667                      </td><td>0.20770750                     </td><td>5                              </td><td>10                             </td><td>50                             </td></tr>\n",
       "\t<tr><td>Wine_erp_raw_gap_005.csv       </td><td>10                             </td><td>0.6306667                      </td><td>0.16994597                     </td><td>5                              </td><td>10                             </td><td>50                             </td></tr>\n",
       "\t<tr><td>Wine_erp_diff_gap_005.csv      </td><td>10                             </td><td>0.6306667                      </td><td>0.19446304                     </td><td>5                              </td><td>10                             </td><td>50                             </td></tr>\n",
       "\t<tr><td>Wine_dtw_raw_dist.csv          </td><td>10                             </td><td>0.6300000                      </td><td>0.19474386                     </td><td>5                              </td><td>10                             </td><td>50                             </td></tr>\n",
       "\t<tr><td>Wine_erp_diff2_gap_005.csv     </td><td>10                             </td><td>0.6260000                      </td><td>0.21277670                     </td><td>5                              </td><td>10                             </td><td>50                             </td></tr>\n",
       "\t<tr><td>Wine_euc_raw_dist.csv          </td><td>10                             </td><td>0.6193333                      </td><td>0.17805831                     </td><td>5                              </td><td>10                             </td><td>50                             </td></tr>\n",
       "\t<tr><td>Wine_erp_paa_gap_005.csv       </td><td>10                             </td><td>0.6100000                      </td><td>0.17641556                     </td><td>5                              </td><td>10                             </td><td>50                             </td></tr>\n",
       "\t<tr><td>Wine_euc_paa_dist.csv          </td><td>10                             </td><td>0.6080000                      </td><td>0.18681724                     </td><td>5                              </td><td>10                             </td><td>50                             </td></tr>\n",
       "\t<tr><td>Wine_dtw_diff_dist.csv         </td><td>10                             </td><td>0.6053333                      </td><td>0.19556999                     </td><td>5                              </td><td>10                             </td><td>50                             </td></tr>\n",
       "\t<tr><td>Wine_lcss_diff_epsilon_005.csv </td><td> 5                             </td><td>0.6033333                      </td><td>0.17486632                     </td><td>5                              </td><td>10                             </td><td>50                             </td></tr>\n",
       "\t<tr><td>Wine_dtw_diff2_dist.csv        </td><td>10                             </td><td>0.5993333                      </td><td>0.19731646                     </td><td>5                              </td><td>10                             </td><td>50                             </td></tr>\n",
       "\t<tr><td>Wine_dtw_paa_dist.csv          </td><td>10                             </td><td>0.5966667                      </td><td>0.18726459                     </td><td>5                              </td><td>10                             </td><td>50                             </td></tr>\n",
       "\t<tr><td>Wine_erp_paa2_gap_005.csv      </td><td>10                             </td><td>0.5893333                      </td><td>0.19534724                     </td><td>5                              </td><td>10                             </td><td>50                             </td></tr>\n",
       "\t<tr><td>Wine_lcss_diff2_epsilon_005.csv</td><td> 5                             </td><td>0.5860000                      </td><td>0.16275547                     </td><td>5                              </td><td>10                             </td><td>50                             </td></tr>\n",
       "\t<tr><td>Wine_dtw_paa2_dist.csv         </td><td>10                             </td><td>0.5826667                      </td><td>0.19251763                     </td><td>5                              </td><td>10                             </td><td>50                             </td></tr>\n",
       "\t<tr><td>Wine_lcss_diff2_epsilon_005.csv</td><td>10                             </td><td>0.5786667                      </td><td>0.20523312                     </td><td>5                              </td><td>10                             </td><td>50                             </td></tr>\n",
       "\t<tr><td>Wine_euc_diff2_dist.csv        </td><td>10                             </td><td>0.5766667                      </td><td>0.19322422                     </td><td>5                              </td><td>10                             </td><td>50                             </td></tr>\n",
       "\t<tr><td>Wine_lcss_paa_epsilon_005.csv  </td><td>10                             </td><td>0.5746667                      </td><td>0.17862666                     </td><td>5                              </td><td>10                             </td><td>50                             </td></tr>\n",
       "\t<tr><td>Wine_euc_diff_dist.csv         </td><td>10                             </td><td>0.5726667                      </td><td>0.20019152                     </td><td>5                              </td><td>10                             </td><td>50                             </td></tr>\n",
       "\t<tr><td>Wine_lcss_raw_epsilon_005.csv  </td><td>10                             </td><td>0.5720000                      </td><td>0.15332446                     </td><td>5                              </td><td>10                             </td><td>50                             </td></tr>\n",
       "\t<tr><td>Wine_lcss_diff2_epsilon_005.csv</td><td> 1                             </td><td>0.5586667                      </td><td>0.15944348                     </td><td>5                              </td><td>10                             </td><td>50                             </td></tr>\n",
       "\t<tr><td>Wine_lcss_paa2_epsilon_005.csv </td><td>10                             </td><td>0.5426667                      </td><td>0.15179052                     </td><td>5                              </td><td>10                             </td><td>50                             </td></tr>\n",
       "\t<tr><td>Wine_dtw_diff2_dist.csv        </td><td> 5                             </td><td>0.5366667                      </td><td>0.20517677                     </td><td>5                              </td><td>10                             </td><td>50                             </td></tr>\n",
       "\t<tr><td>Wine_erp_diff2_gap_005.csv     </td><td> 5                             </td><td>0.5366667                      </td><td>0.20517677                     </td><td>5                              </td><td>10                             </td><td>50                             </td></tr>\n",
       "\t<tr><td>Wine_euc_diff_dist.csv         </td><td> 5                             </td><td>0.5320000                      </td><td>0.21507368                     </td><td>5                              </td><td>10                             </td><td>50                             </td></tr>\n",
       "\t<tr><td>Wine_euc_diff2_dist.csv        </td><td> 5                             </td><td>0.5273333                      </td><td>0.21641168                     </td><td>5                              </td><td>10                             </td><td>50                             </td></tr>\n",
       "\t<tr><td>Wine_dtw_paa_dist.csv          </td><td> 5                             </td><td>0.5240000                      </td><td>0.19012348                     </td><td>5                              </td><td>10                             </td><td>50                             </td></tr>\n",
       "\t<tr><td>Wine_erp_paa_gap_005.csv       </td><td> 5                             </td><td>0.5206667                      </td><td>0.19200458                     </td><td>5                              </td><td>10                             </td><td>50                             </td></tr>\n",
       "\t<tr><td>Wine_lcss_paa_epsilon_005.csv  </td><td> 5                             </td><td>0.5153333                      </td><td>0.16081002                     </td><td>5                              </td><td>10                             </td><td>50                             </td></tr>\n",
       "\t<tr><td>Wine_euc_paa_dist.csv          </td><td> 5                             </td><td>0.5093333                      </td><td>0.19436973                     </td><td>5                              </td><td>10                             </td><td>50                             </td></tr>\n",
       "\t<tr><td>Wine_erp_diff_gap_005.csv      </td><td> 5                             </td><td>0.5080000                      </td><td>0.20969257                     </td><td>5                              </td><td>10                             </td><td>50                             </td></tr>\n",
       "\t<tr><td>Wine_euc_paa2_dist.csv         </td><td> 5                             </td><td>0.5060000                      </td><td>0.19304106                     </td><td>5                              </td><td>10                             </td><td>50                             </td></tr>\n",
       "\t<tr><td>Wine_lcss_raw_epsilon_005.csv  </td><td> 5                             </td><td>0.5026667                      </td><td>0.11425396                     </td><td>5                              </td><td>10                             </td><td>50                             </td></tr>\n",
       "\t<tr><td>Wine_erp_raw_gap_005.csv       </td><td> 5                             </td><td>0.5000000                      </td><td>0.20470653                     </td><td>5                              </td><td>10                             </td><td>50                             </td></tr>\n",
       "\t<tr><td>Wine_euc_raw_dist.csv          </td><td> 5                             </td><td>0.4940000                      </td><td>0.21984224                     </td><td>5                              </td><td>10                             </td><td>50                             </td></tr>\n",
       "\t<tr><td>Wine_dtw_diff_dist.csv         </td><td> 5                             </td><td>0.4913333                      </td><td>0.19128519                     </td><td>5                              </td><td>10                             </td><td>50                             </td></tr>\n",
       "\t<tr><td>Wine_dtw_raw_dist.csv          </td><td> 5                             </td><td>0.4886667                      </td><td>0.22723917                     </td><td>5                              </td><td>10                             </td><td>50                             </td></tr>\n",
       "\t<tr><td>Wine_erp_paa2_gap_005.csv      </td><td> 5                             </td><td>0.4866667                      </td><td>0.18207671                     </td><td>5                              </td><td>10                             </td><td>50                             </td></tr>\n",
       "\t<tr><td>Wine_dtw_paa2_dist.csv         </td><td> 5                             </td><td>0.4833333                      </td><td>0.18334879                     </td><td>5                              </td><td>10                             </td><td>50                             </td></tr>\n",
       "\t<tr><td>Wine_lcss_diff_epsilon_005.csv </td><td> 1                             </td><td>0.4713333                      </td><td>0.16399353                     </td><td>5                              </td><td>10                             </td><td>50                             </td></tr>\n",
       "\t<tr><td>Wine_lcss_raw_epsilon_005.csv  </td><td> 1                             </td><td>0.4666667                      </td><td>0.04994328                     </td><td>5                              </td><td>10                             </td><td>50                             </td></tr>\n",
       "\t<tr><td>Wine_lcss_paa_epsilon_005.csv  </td><td> 1                             </td><td>0.4580000                      </td><td>0.20009182                     </td><td>5                              </td><td>10                             </td><td>50                             </td></tr>\n",
       "\t<tr><td>Wine_lcss_paa2_epsilon_005.csv </td><td> 1                             </td><td>0.4486667                      </td><td>0.18433062                     </td><td>5                              </td><td>10                             </td><td>50                             </td></tr>\n",
       "\t<tr><td>Wine_lcss_paa2_epsilon_005.csv </td><td> 5                             </td><td>0.4433333                      </td><td>0.15996740                     </td><td>5                              </td><td>10                             </td><td>50                             </td></tr>\n",
       "</tbody>\n",
       "</table>\n"
      ],
      "text/latex": [
       "\\begin{tabular}{r|lllllll}\n",
       " approach & k & avg\\_acc & sdev\\_acc & repid & foldid & result\\_count\\\\\n",
       "\\hline\n",
       "\t Wine\\_euc\\_paa\\_dist.csv           &  1                                    & 1.0000000                             & 0.00000000                            & 5                                     & 10                                    & 50                                   \\\\\n",
       "\t Wine\\_euc\\_paa2\\_dist.csv          &  1                                    & 1.0000000                             & 0.00000000                            & 5                                     & 10                                    & 50                                   \\\\\n",
       "\t Wine\\_euc\\_raw\\_dist.csv           &  1                                    & 1.0000000                             & 0.00000000                            & 5                                     & 10                                    & 50                                   \\\\\n",
       "\t Wine\\_dtw\\_paa2\\_dist.csv          &  1                                    & 0.9960000                             & 0.02828427                            & 5                                     & 10                                    & 50                                   \\\\\n",
       "\t Wine\\_erp\\_paa2\\_gap\\_005.csv       &  1                                      & 0.9960000                               & 0.02828427                              & 5                                       & 10                                      & 50                                     \\\\\n",
       "\t Wine\\_erp\\_raw\\_gap\\_005.csv        &  1                                      & 0.9960000                               & 0.02828427                              & 5                                       & 10                                      & 50                                     \\\\\n",
       "\t Wine\\_dtw\\_raw\\_dist.csv           &  1                                    & 0.9920000                             & 0.03958973                            & 5                                     & 10                                    & 50                                   \\\\\n",
       "\t Wine\\_dtw\\_paa\\_dist.csv           &  1                                    & 0.9880000                             & 0.06272714                            & 5                                     & 10                                    & 50                                   \\\\\n",
       "\t Wine\\_erp\\_paa\\_gap\\_005.csv        &  1                                      & 0.9880000                               & 0.06272714                              & 5                                       & 10                                      & 50                                     \\\\\n",
       "\t Wine\\_dtw\\_diff\\_dist.csv          &  1                                    & 0.9853333                             & 0.05046720                            & 5                                     & 10                                    & 50                                   \\\\\n",
       "\t Wine\\_dtw\\_diff2\\_dist.csv         &  1                                    & 0.9853333                             & 0.05046720                            & 5                                     & 10                                    & 50                                   \\\\\n",
       "\t Wine\\_erp\\_diff\\_gap\\_005.csv       &  1                                      & 0.9853333                               & 0.05046720                              & 5                                       & 10                                      & 50                                     \\\\\n",
       "\t Wine\\_erp\\_diff2\\_gap\\_005.csv      &  1                                      & 0.9853333                               & 0.05046720                              & 5                                       & 10                                      & 50                                     \\\\\n",
       "\t Wine\\_euc\\_diff\\_dist.csv          &  1                                    & 0.9820000                             & 0.05479709                            & 5                                     & 10                                    & 50                                   \\\\\n",
       "\t Wine\\_euc\\_diff2\\_dist.csv         &  1                                    & 0.9820000                             & 0.05479709                            & 5                                     & 10                                    & 50                                   \\\\\n",
       "\t Wine\\_lcss\\_diff\\_epsilon\\_005.csv  & 10                                      & 0.6700000                               & 0.18433554                              & 5                                       & 10                                      & 50                                     \\\\\n",
       "\t Wine\\_euc\\_paa2\\_dist.csv          & 10                                    & 0.6406667                             & 0.20770750                            & 5                                     & 10                                    & 50                                   \\\\\n",
       "\t Wine\\_erp\\_raw\\_gap\\_005.csv        & 10                                      & 0.6306667                               & 0.16994597                              & 5                                       & 10                                      & 50                                     \\\\\n",
       "\t Wine\\_erp\\_diff\\_gap\\_005.csv       & 10                                      & 0.6306667                               & 0.19446304                              & 5                                       & 10                                      & 50                                     \\\\\n",
       "\t Wine\\_dtw\\_raw\\_dist.csv           & 10                                    & 0.6300000                             & 0.19474386                            & 5                                     & 10                                    & 50                                   \\\\\n",
       "\t Wine\\_erp\\_diff2\\_gap\\_005.csv      & 10                                      & 0.6260000                               & 0.21277670                              & 5                                       & 10                                      & 50                                     \\\\\n",
       "\t Wine\\_euc\\_raw\\_dist.csv           & 10                                    & 0.6193333                             & 0.17805831                            & 5                                     & 10                                    & 50                                   \\\\\n",
       "\t Wine\\_erp\\_paa\\_gap\\_005.csv        & 10                                      & 0.6100000                               & 0.17641556                              & 5                                       & 10                                      & 50                                     \\\\\n",
       "\t Wine\\_euc\\_paa\\_dist.csv           & 10                                    & 0.6080000                             & 0.18681724                            & 5                                     & 10                                    & 50                                   \\\\\n",
       "\t Wine\\_dtw\\_diff\\_dist.csv          & 10                                    & 0.6053333                             & 0.19556999                            & 5                                     & 10                                    & 50                                   \\\\\n",
       "\t Wine\\_lcss\\_diff\\_epsilon\\_005.csv  &  5                                      & 0.6033333                               & 0.17486632                              & 5                                       & 10                                      & 50                                     \\\\\n",
       "\t Wine\\_dtw\\_diff2\\_dist.csv         & 10                                    & 0.5993333                             & 0.19731646                            & 5                                     & 10                                    & 50                                   \\\\\n",
       "\t Wine\\_dtw\\_paa\\_dist.csv           & 10                                    & 0.5966667                             & 0.18726459                            & 5                                     & 10                                    & 50                                   \\\\\n",
       "\t Wine\\_erp\\_paa2\\_gap\\_005.csv       & 10                                      & 0.5893333                               & 0.19534724                              & 5                                       & 10                                      & 50                                     \\\\\n",
       "\t Wine\\_lcss\\_diff2\\_epsilon\\_005.csv &  5                                      & 0.5860000                               & 0.16275547                              & 5                                       & 10                                      & 50                                     \\\\\n",
       "\t Wine\\_dtw\\_paa2\\_dist.csv          & 10                                    & 0.5826667                             & 0.19251763                            & 5                                     & 10                                    & 50                                   \\\\\n",
       "\t Wine\\_lcss\\_diff2\\_epsilon\\_005.csv & 10                                      & 0.5786667                               & 0.20523312                              & 5                                       & 10                                      & 50                                     \\\\\n",
       "\t Wine\\_euc\\_diff2\\_dist.csv         & 10                                    & 0.5766667                             & 0.19322422                            & 5                                     & 10                                    & 50                                   \\\\\n",
       "\t Wine\\_lcss\\_paa\\_epsilon\\_005.csv   & 10                                      & 0.5746667                               & 0.17862666                              & 5                                       & 10                                      & 50                                     \\\\\n",
       "\t Wine\\_euc\\_diff\\_dist.csv          & 10                                    & 0.5726667                             & 0.20019152                            & 5                                     & 10                                    & 50                                   \\\\\n",
       "\t Wine\\_lcss\\_raw\\_epsilon\\_005.csv   & 10                                      & 0.5720000                               & 0.15332446                              & 5                                       & 10                                      & 50                                     \\\\\n",
       "\t Wine\\_lcss\\_diff2\\_epsilon\\_005.csv &  1                                      & 0.5586667                               & 0.15944348                              & 5                                       & 10                                      & 50                                     \\\\\n",
       "\t Wine\\_lcss\\_paa2\\_epsilon\\_005.csv  & 10                                      & 0.5426667                               & 0.15179052                              & 5                                       & 10                                      & 50                                     \\\\\n",
       "\t Wine\\_dtw\\_diff2\\_dist.csv         &  5                                    & 0.5366667                             & 0.20517677                            & 5                                     & 10                                    & 50                                   \\\\\n",
       "\t Wine\\_erp\\_diff2\\_gap\\_005.csv      &  5                                      & 0.5366667                               & 0.20517677                              & 5                                       & 10                                      & 50                                     \\\\\n",
       "\t Wine\\_euc\\_diff\\_dist.csv          &  5                                    & 0.5320000                             & 0.21507368                            & 5                                     & 10                                    & 50                                   \\\\\n",
       "\t Wine\\_euc\\_diff2\\_dist.csv         &  5                                    & 0.5273333                             & 0.21641168                            & 5                                     & 10                                    & 50                                   \\\\\n",
       "\t Wine\\_dtw\\_paa\\_dist.csv           &  5                                    & 0.5240000                             & 0.19012348                            & 5                                     & 10                                    & 50                                   \\\\\n",
       "\t Wine\\_erp\\_paa\\_gap\\_005.csv        &  5                                      & 0.5206667                               & 0.19200458                              & 5                                       & 10                                      & 50                                     \\\\\n",
       "\t Wine\\_lcss\\_paa\\_epsilon\\_005.csv   &  5                                      & 0.5153333                               & 0.16081002                              & 5                                       & 10                                      & 50                                     \\\\\n",
       "\t Wine\\_euc\\_paa\\_dist.csv           &  5                                    & 0.5093333                             & 0.19436973                            & 5                                     & 10                                    & 50                                   \\\\\n",
       "\t Wine\\_erp\\_diff\\_gap\\_005.csv       &  5                                      & 0.5080000                               & 0.20969257                              & 5                                       & 10                                      & 50                                     \\\\\n",
       "\t Wine\\_euc\\_paa2\\_dist.csv          &  5                                    & 0.5060000                             & 0.19304106                            & 5                                     & 10                                    & 50                                   \\\\\n",
       "\t Wine\\_lcss\\_raw\\_epsilon\\_005.csv   &  5                                      & 0.5026667                               & 0.11425396                              & 5                                       & 10                                      & 50                                     \\\\\n",
       "\t Wine\\_erp\\_raw\\_gap\\_005.csv        &  5                                      & 0.5000000                               & 0.20470653                              & 5                                       & 10                                      & 50                                     \\\\\n",
       "\t Wine\\_euc\\_raw\\_dist.csv           &  5                                    & 0.4940000                             & 0.21984224                            & 5                                     & 10                                    & 50                                   \\\\\n",
       "\t Wine\\_dtw\\_diff\\_dist.csv          &  5                                    & 0.4913333                             & 0.19128519                            & 5                                     & 10                                    & 50                                   \\\\\n",
       "\t Wine\\_dtw\\_raw\\_dist.csv           &  5                                    & 0.4886667                             & 0.22723917                            & 5                                     & 10                                    & 50                                   \\\\\n",
       "\t Wine\\_erp\\_paa2\\_gap\\_005.csv       &  5                                      & 0.4866667                               & 0.18207671                              & 5                                       & 10                                      & 50                                     \\\\\n",
       "\t Wine\\_dtw\\_paa2\\_dist.csv          &  5                                    & 0.4833333                             & 0.18334879                            & 5                                     & 10                                    & 50                                   \\\\\n",
       "\t Wine\\_lcss\\_diff\\_epsilon\\_005.csv  &  1                                      & 0.4713333                               & 0.16399353                              & 5                                       & 10                                      & 50                                     \\\\\n",
       "\t Wine\\_lcss\\_raw\\_epsilon\\_005.csv   &  1                                      & 0.4666667                               & 0.04994328                              & 5                                       & 10                                      & 50                                     \\\\\n",
       "\t Wine\\_lcss\\_paa\\_epsilon\\_005.csv   &  1                                      & 0.4580000                               & 0.20009182                              & 5                                       & 10                                      & 50                                     \\\\\n",
       "\t Wine\\_lcss\\_paa2\\_epsilon\\_005.csv  &  1                                      & 0.4486667                               & 0.18433062                              & 5                                       & 10                                      & 50                                     \\\\\n",
       "\t Wine\\_lcss\\_paa2\\_epsilon\\_005.csv  &  5                                      & 0.4433333                               & 0.15996740                              & 5                                       & 10                                      & 50                                     \\\\\n",
       "\\end{tabular}\n"
      ],
      "text/markdown": [
       "\n",
       "| approach | k | avg_acc | sdev_acc | repid | foldid | result_count |\n",
       "|---|---|---|---|---|---|---|\n",
       "| Wine_euc_paa_dist.csv           |  1                              | 1.0000000                       | 0.00000000                      | 5                               | 10                              | 50                              |\n",
       "| Wine_euc_paa2_dist.csv          |  1                              | 1.0000000                       | 0.00000000                      | 5                               | 10                              | 50                              |\n",
       "| Wine_euc_raw_dist.csv           |  1                              | 1.0000000                       | 0.00000000                      | 5                               | 10                              | 50                              |\n",
       "| Wine_dtw_paa2_dist.csv          |  1                              | 0.9960000                       | 0.02828427                      | 5                               | 10                              | 50                              |\n",
       "| Wine_erp_paa2_gap_005.csv       |  1                              | 0.9960000                       | 0.02828427                      | 5                               | 10                              | 50                              |\n",
       "| Wine_erp_raw_gap_005.csv        |  1                              | 0.9960000                       | 0.02828427                      | 5                               | 10                              | 50                              |\n",
       "| Wine_dtw_raw_dist.csv           |  1                              | 0.9920000                       | 0.03958973                      | 5                               | 10                              | 50                              |\n",
       "| Wine_dtw_paa_dist.csv           |  1                              | 0.9880000                       | 0.06272714                      | 5                               | 10                              | 50                              |\n",
       "| Wine_erp_paa_gap_005.csv        |  1                              | 0.9880000                       | 0.06272714                      | 5                               | 10                              | 50                              |\n",
       "| Wine_dtw_diff_dist.csv          |  1                              | 0.9853333                       | 0.05046720                      | 5                               | 10                              | 50                              |\n",
       "| Wine_dtw_diff2_dist.csv         |  1                              | 0.9853333                       | 0.05046720                      | 5                               | 10                              | 50                              |\n",
       "| Wine_erp_diff_gap_005.csv       |  1                              | 0.9853333                       | 0.05046720                      | 5                               | 10                              | 50                              |\n",
       "| Wine_erp_diff2_gap_005.csv      |  1                              | 0.9853333                       | 0.05046720                      | 5                               | 10                              | 50                              |\n",
       "| Wine_euc_diff_dist.csv          |  1                              | 0.9820000                       | 0.05479709                      | 5                               | 10                              | 50                              |\n",
       "| Wine_euc_diff2_dist.csv         |  1                              | 0.9820000                       | 0.05479709                      | 5                               | 10                              | 50                              |\n",
       "| Wine_lcss_diff_epsilon_005.csv  | 10                              | 0.6700000                       | 0.18433554                      | 5                               | 10                              | 50                              |\n",
       "| Wine_euc_paa2_dist.csv          | 10                              | 0.6406667                       | 0.20770750                      | 5                               | 10                              | 50                              |\n",
       "| Wine_erp_raw_gap_005.csv        | 10                              | 0.6306667                       | 0.16994597                      | 5                               | 10                              | 50                              |\n",
       "| Wine_erp_diff_gap_005.csv       | 10                              | 0.6306667                       | 0.19446304                      | 5                               | 10                              | 50                              |\n",
       "| Wine_dtw_raw_dist.csv           | 10                              | 0.6300000                       | 0.19474386                      | 5                               | 10                              | 50                              |\n",
       "| Wine_erp_diff2_gap_005.csv      | 10                              | 0.6260000                       | 0.21277670                      | 5                               | 10                              | 50                              |\n",
       "| Wine_euc_raw_dist.csv           | 10                              | 0.6193333                       | 0.17805831                      | 5                               | 10                              | 50                              |\n",
       "| Wine_erp_paa_gap_005.csv        | 10                              | 0.6100000                       | 0.17641556                      | 5                               | 10                              | 50                              |\n",
       "| Wine_euc_paa_dist.csv           | 10                              | 0.6080000                       | 0.18681724                      | 5                               | 10                              | 50                              |\n",
       "| Wine_dtw_diff_dist.csv          | 10                              | 0.6053333                       | 0.19556999                      | 5                               | 10                              | 50                              |\n",
       "| Wine_lcss_diff_epsilon_005.csv  |  5                              | 0.6033333                       | 0.17486632                      | 5                               | 10                              | 50                              |\n",
       "| Wine_dtw_diff2_dist.csv         | 10                              | 0.5993333                       | 0.19731646                      | 5                               | 10                              | 50                              |\n",
       "| Wine_dtw_paa_dist.csv           | 10                              | 0.5966667                       | 0.18726459                      | 5                               | 10                              | 50                              |\n",
       "| Wine_erp_paa2_gap_005.csv       | 10                              | 0.5893333                       | 0.19534724                      | 5                               | 10                              | 50                              |\n",
       "| Wine_lcss_diff2_epsilon_005.csv |  5                              | 0.5860000                       | 0.16275547                      | 5                               | 10                              | 50                              |\n",
       "| Wine_dtw_paa2_dist.csv          | 10                              | 0.5826667                       | 0.19251763                      | 5                               | 10                              | 50                              |\n",
       "| Wine_lcss_diff2_epsilon_005.csv | 10                              | 0.5786667                       | 0.20523312                      | 5                               | 10                              | 50                              |\n",
       "| Wine_euc_diff2_dist.csv         | 10                              | 0.5766667                       | 0.19322422                      | 5                               | 10                              | 50                              |\n",
       "| Wine_lcss_paa_epsilon_005.csv   | 10                              | 0.5746667                       | 0.17862666                      | 5                               | 10                              | 50                              |\n",
       "| Wine_euc_diff_dist.csv          | 10                              | 0.5726667                       | 0.20019152                      | 5                               | 10                              | 50                              |\n",
       "| Wine_lcss_raw_epsilon_005.csv   | 10                              | 0.5720000                       | 0.15332446                      | 5                               | 10                              | 50                              |\n",
       "| Wine_lcss_diff2_epsilon_005.csv |  1                              | 0.5586667                       | 0.15944348                      | 5                               | 10                              | 50                              |\n",
       "| Wine_lcss_paa2_epsilon_005.csv  | 10                              | 0.5426667                       | 0.15179052                      | 5                               | 10                              | 50                              |\n",
       "| Wine_dtw_diff2_dist.csv         |  5                              | 0.5366667                       | 0.20517677                      | 5                               | 10                              | 50                              |\n",
       "| Wine_erp_diff2_gap_005.csv      |  5                              | 0.5366667                       | 0.20517677                      | 5                               | 10                              | 50                              |\n",
       "| Wine_euc_diff_dist.csv          |  5                              | 0.5320000                       | 0.21507368                      | 5                               | 10                              | 50                              |\n",
       "| Wine_euc_diff2_dist.csv         |  5                              | 0.5273333                       | 0.21641168                      | 5                               | 10                              | 50                              |\n",
       "| Wine_dtw_paa_dist.csv           |  5                              | 0.5240000                       | 0.19012348                      | 5                               | 10                              | 50                              |\n",
       "| Wine_erp_paa_gap_005.csv        |  5                              | 0.5206667                       | 0.19200458                      | 5                               | 10                              | 50                              |\n",
       "| Wine_lcss_paa_epsilon_005.csv   |  5                              | 0.5153333                       | 0.16081002                      | 5                               | 10                              | 50                              |\n",
       "| Wine_euc_paa_dist.csv           |  5                              | 0.5093333                       | 0.19436973                      | 5                               | 10                              | 50                              |\n",
       "| Wine_erp_diff_gap_005.csv       |  5                              | 0.5080000                       | 0.20969257                      | 5                               | 10                              | 50                              |\n",
       "| Wine_euc_paa2_dist.csv          |  5                              | 0.5060000                       | 0.19304106                      | 5                               | 10                              | 50                              |\n",
       "| Wine_lcss_raw_epsilon_005.csv   |  5                              | 0.5026667                       | 0.11425396                      | 5                               | 10                              | 50                              |\n",
       "| Wine_erp_raw_gap_005.csv        |  5                              | 0.5000000                       | 0.20470653                      | 5                               | 10                              | 50                              |\n",
       "| Wine_euc_raw_dist.csv           |  5                              | 0.4940000                       | 0.21984224                      | 5                               | 10                              | 50                              |\n",
       "| Wine_dtw_diff_dist.csv          |  5                              | 0.4913333                       | 0.19128519                      | 5                               | 10                              | 50                              |\n",
       "| Wine_dtw_raw_dist.csv           |  5                              | 0.4886667                       | 0.22723917                      | 5                               | 10                              | 50                              |\n",
       "| Wine_erp_paa2_gap_005.csv       |  5                              | 0.4866667                       | 0.18207671                      | 5                               | 10                              | 50                              |\n",
       "| Wine_dtw_paa2_dist.csv          |  5                              | 0.4833333                       | 0.18334879                      | 5                               | 10                              | 50                              |\n",
       "| Wine_lcss_diff_epsilon_005.csv  |  1                              | 0.4713333                       | 0.16399353                      | 5                               | 10                              | 50                              |\n",
       "| Wine_lcss_raw_epsilon_005.csv   |  1                              | 0.4666667                       | 0.04994328                      | 5                               | 10                              | 50                              |\n",
       "| Wine_lcss_paa_epsilon_005.csv   |  1                              | 0.4580000                       | 0.20009182                      | 5                               | 10                              | 50                              |\n",
       "| Wine_lcss_paa2_epsilon_005.csv  |  1                              | 0.4486667                       | 0.18433062                      | 5                               | 10                              | 50                              |\n",
       "| Wine_lcss_paa2_epsilon_005.csv  |  5                              | 0.4433333                       | 0.15996740                      | 5                               | 10                              | 50                              |\n",
       "\n"
      ],
      "text/plain": [
       "   approach                        k  avg_acc   sdev_acc   repid foldid\n",
       "1  Wine_euc_paa_dist.csv            1 1.0000000 0.00000000 5     10    \n",
       "2  Wine_euc_paa2_dist.csv           1 1.0000000 0.00000000 5     10    \n",
       "3  Wine_euc_raw_dist.csv            1 1.0000000 0.00000000 5     10    \n",
       "4  Wine_dtw_paa2_dist.csv           1 0.9960000 0.02828427 5     10    \n",
       "5  Wine_erp_paa2_gap_005.csv        1 0.9960000 0.02828427 5     10    \n",
       "6  Wine_erp_raw_gap_005.csv         1 0.9960000 0.02828427 5     10    \n",
       "7  Wine_dtw_raw_dist.csv            1 0.9920000 0.03958973 5     10    \n",
       "8  Wine_dtw_paa_dist.csv            1 0.9880000 0.06272714 5     10    \n",
       "9  Wine_erp_paa_gap_005.csv         1 0.9880000 0.06272714 5     10    \n",
       "10 Wine_dtw_diff_dist.csv           1 0.9853333 0.05046720 5     10    \n",
       "11 Wine_dtw_diff2_dist.csv          1 0.9853333 0.05046720 5     10    \n",
       "12 Wine_erp_diff_gap_005.csv        1 0.9853333 0.05046720 5     10    \n",
       "13 Wine_erp_diff2_gap_005.csv       1 0.9853333 0.05046720 5     10    \n",
       "14 Wine_euc_diff_dist.csv           1 0.9820000 0.05479709 5     10    \n",
       "15 Wine_euc_diff2_dist.csv          1 0.9820000 0.05479709 5     10    \n",
       "16 Wine_lcss_diff_epsilon_005.csv  10 0.6700000 0.18433554 5     10    \n",
       "17 Wine_euc_paa2_dist.csv          10 0.6406667 0.20770750 5     10    \n",
       "18 Wine_erp_raw_gap_005.csv        10 0.6306667 0.16994597 5     10    \n",
       "19 Wine_erp_diff_gap_005.csv       10 0.6306667 0.19446304 5     10    \n",
       "20 Wine_dtw_raw_dist.csv           10 0.6300000 0.19474386 5     10    \n",
       "21 Wine_erp_diff2_gap_005.csv      10 0.6260000 0.21277670 5     10    \n",
       "22 Wine_euc_raw_dist.csv           10 0.6193333 0.17805831 5     10    \n",
       "23 Wine_erp_paa_gap_005.csv        10 0.6100000 0.17641556 5     10    \n",
       "24 Wine_euc_paa_dist.csv           10 0.6080000 0.18681724 5     10    \n",
       "25 Wine_dtw_diff_dist.csv          10 0.6053333 0.19556999 5     10    \n",
       "26 Wine_lcss_diff_epsilon_005.csv   5 0.6033333 0.17486632 5     10    \n",
       "27 Wine_dtw_diff2_dist.csv         10 0.5993333 0.19731646 5     10    \n",
       "28 Wine_dtw_paa_dist.csv           10 0.5966667 0.18726459 5     10    \n",
       "29 Wine_erp_paa2_gap_005.csv       10 0.5893333 0.19534724 5     10    \n",
       "30 Wine_lcss_diff2_epsilon_005.csv  5 0.5860000 0.16275547 5     10    \n",
       "31 Wine_dtw_paa2_dist.csv          10 0.5826667 0.19251763 5     10    \n",
       "32 Wine_lcss_diff2_epsilon_005.csv 10 0.5786667 0.20523312 5     10    \n",
       "33 Wine_euc_diff2_dist.csv         10 0.5766667 0.19322422 5     10    \n",
       "34 Wine_lcss_paa_epsilon_005.csv   10 0.5746667 0.17862666 5     10    \n",
       "35 Wine_euc_diff_dist.csv          10 0.5726667 0.20019152 5     10    \n",
       "36 Wine_lcss_raw_epsilon_005.csv   10 0.5720000 0.15332446 5     10    \n",
       "37 Wine_lcss_diff2_epsilon_005.csv  1 0.5586667 0.15944348 5     10    \n",
       "38 Wine_lcss_paa2_epsilon_005.csv  10 0.5426667 0.15179052 5     10    \n",
       "39 Wine_dtw_diff2_dist.csv          5 0.5366667 0.20517677 5     10    \n",
       "40 Wine_erp_diff2_gap_005.csv       5 0.5366667 0.20517677 5     10    \n",
       "41 Wine_euc_diff_dist.csv           5 0.5320000 0.21507368 5     10    \n",
       "42 Wine_euc_diff2_dist.csv          5 0.5273333 0.21641168 5     10    \n",
       "43 Wine_dtw_paa_dist.csv            5 0.5240000 0.19012348 5     10    \n",
       "44 Wine_erp_paa_gap_005.csv         5 0.5206667 0.19200458 5     10    \n",
       "45 Wine_lcss_paa_epsilon_005.csv    5 0.5153333 0.16081002 5     10    \n",
       "46 Wine_euc_paa_dist.csv            5 0.5093333 0.19436973 5     10    \n",
       "47 Wine_erp_diff_gap_005.csv        5 0.5080000 0.20969257 5     10    \n",
       "48 Wine_euc_paa2_dist.csv           5 0.5060000 0.19304106 5     10    \n",
       "49 Wine_lcss_raw_epsilon_005.csv    5 0.5026667 0.11425396 5     10    \n",
       "50 Wine_erp_raw_gap_005.csv         5 0.5000000 0.20470653 5     10    \n",
       "51 Wine_euc_raw_dist.csv            5 0.4940000 0.21984224 5     10    \n",
       "52 Wine_dtw_diff_dist.csv           5 0.4913333 0.19128519 5     10    \n",
       "53 Wine_dtw_raw_dist.csv            5 0.4886667 0.22723917 5     10    \n",
       "54 Wine_erp_paa2_gap_005.csv        5 0.4866667 0.18207671 5     10    \n",
       "55 Wine_dtw_paa2_dist.csv           5 0.4833333 0.18334879 5     10    \n",
       "56 Wine_lcss_diff_epsilon_005.csv   1 0.4713333 0.16399353 5     10    \n",
       "57 Wine_lcss_raw_epsilon_005.csv    1 0.4666667 0.04994328 5     10    \n",
       "58 Wine_lcss_paa_epsilon_005.csv    1 0.4580000 0.20009182 5     10    \n",
       "59 Wine_lcss_paa2_epsilon_005.csv   1 0.4486667 0.18433062 5     10    \n",
       "60 Wine_lcss_paa2_epsilon_005.csv   5 0.4433333 0.15996740 5     10    \n",
       "   result_count\n",
       "1  50          \n",
       "2  50          \n",
       "3  50          \n",
       "4  50          \n",
       "5  50          \n",
       "6  50          \n",
       "7  50          \n",
       "8  50          \n",
       "9  50          \n",
       "10 50          \n",
       "11 50          \n",
       "12 50          \n",
       "13 50          \n",
       "14 50          \n",
       "15 50          \n",
       "16 50          \n",
       "17 50          \n",
       "18 50          \n",
       "19 50          \n",
       "20 50          \n",
       "21 50          \n",
       "22 50          \n",
       "23 50          \n",
       "24 50          \n",
       "25 50          \n",
       "26 50          \n",
       "27 50          \n",
       "28 50          \n",
       "29 50          \n",
       "30 50          \n",
       "31 50          \n",
       "32 50          \n",
       "33 50          \n",
       "34 50          \n",
       "35 50          \n",
       "36 50          \n",
       "37 50          \n",
       "38 50          \n",
       "39 50          \n",
       "40 50          \n",
       "41 50          \n",
       "42 50          \n",
       "43 50          \n",
       "44 50          \n",
       "45 50          \n",
       "46 50          \n",
       "47 50          \n",
       "48 50          \n",
       "49 50          \n",
       "50 50          \n",
       "51 50          \n",
       "52 50          \n",
       "53 50          \n",
       "54 50          \n",
       "55 50          \n",
       "56 50          \n",
       "57 50          \n",
       "58 50          \n",
       "59 50          \n",
       "60 50          "
      ]
     },
     "metadata": {},
     "output_type": "display_data"
    }
   ],
   "source": [
    "acc_res_ordered"
   ]
  },
  {
   "cell_type": "code",
   "execution_count": 50,
   "metadata": {},
   "outputs": [],
   "source": [
    "# require(ggplot2)\n",
    "# ggplot(dataframe_result,aes(x=paste0(approach,'with K=',k), y=acc)) +\n",
    "#         geom_boxplot()+\n",
    "#         labs(title=\"Boxplot of Models\")+\n",
    "#         xlab(\"Model Types\")+\n",
    "#         coord_flip()"
   ]
  },
  {
   "cell_type": "code",
   "execution_count": null,
   "metadata": {},
   "outputs": [],
   "source": []
  },
  {
   "cell_type": "markdown",
   "metadata": {},
   "source": [
    "<a id=\"12\"></a>\n",
    "# Test Performance"
   ]
  },
  {
   "cell_type": "markdown",
   "metadata": {},
   "source": [
    "Best performance is obtained when representation, distance, and k values are difference=1, Euclidean, and K=1 respectively."
   ]
  },
  {
   "cell_type": "code",
   "execution_count": 51,
   "metadata": {},
   "outputs": [],
   "source": [
    "traindata=as.matrix(fread(sprintf('%s%s/%s_TRAIN.txt',dataset_path, fifth_dataset,fifth_dataset)))\n",
    "testdata=as.matrix(fread(sprintf('%s%s/%s_TEST.txt',dataset_path, fifth_dataset,fifth_dataset)))"
   ]
  },
  {
   "cell_type": "markdown",
   "metadata": {},
   "source": [
    "To get test performance, train and test datasets will be used. These 2 datasets will be bind and test indices are selected as test dataset indices."
   ]
  },
  {
   "cell_type": "code",
   "execution_count": 52,
   "metadata": {},
   "outputs": [],
   "source": [
    "all_dt=rbind(traindata, testdata)"
   ]
  },
  {
   "cell_type": "code",
   "execution_count": 53,
   "metadata": {},
   "outputs": [],
   "source": [
    "allclass=all_dt[,1] \n",
    "all_dt=all_dt[,2:ncol(all_dt)]"
   ]
  },
  {
   "cell_type": "code",
   "execution_count": 54,
   "metadata": {},
   "outputs": [],
   "source": [
    "test_indices_last=(nrow(all_dt)+1-nrow(testdata)):nrow(all_dt)"
   ]
  },
  {
   "cell_type": "markdown",
   "metadata": {},
   "source": [
    "### Parameters"
   ]
  },
  {
   "cell_type": "code",
   "execution_count": 55,
   "metadata": {},
   "outputs": [
    {
     "data": {
      "text/html": [
       "<ol class=list-inline>\n",
       "\t<li>58</li>\n",
       "\t<li>59</li>\n",
       "\t<li>60</li>\n",
       "\t<li>61</li>\n",
       "\t<li>62</li>\n",
       "\t<li>63</li>\n",
       "\t<li>64</li>\n",
       "\t<li>65</li>\n",
       "\t<li>66</li>\n",
       "\t<li>67</li>\n",
       "\t<li>68</li>\n",
       "\t<li>69</li>\n",
       "\t<li>70</li>\n",
       "\t<li>71</li>\n",
       "\t<li>72</li>\n",
       "\t<li>73</li>\n",
       "\t<li>74</li>\n",
       "\t<li>75</li>\n",
       "\t<li>76</li>\n",
       "\t<li>77</li>\n",
       "\t<li>78</li>\n",
       "\t<li>79</li>\n",
       "\t<li>80</li>\n",
       "\t<li>81</li>\n",
       "\t<li>82</li>\n",
       "\t<li>83</li>\n",
       "\t<li>84</li>\n",
       "\t<li>85</li>\n",
       "\t<li>86</li>\n",
       "\t<li>87</li>\n",
       "\t<li>88</li>\n",
       "\t<li>89</li>\n",
       "\t<li>90</li>\n",
       "\t<li>91</li>\n",
       "\t<li>92</li>\n",
       "\t<li>93</li>\n",
       "\t<li>94</li>\n",
       "\t<li>95</li>\n",
       "\t<li>96</li>\n",
       "\t<li>97</li>\n",
       "\t<li>98</li>\n",
       "\t<li>99</li>\n",
       "\t<li>100</li>\n",
       "\t<li>101</li>\n",
       "\t<li>102</li>\n",
       "\t<li>103</li>\n",
       "\t<li>104</li>\n",
       "\t<li>105</li>\n",
       "\t<li>106</li>\n",
       "\t<li>107</li>\n",
       "\t<li>108</li>\n",
       "\t<li>109</li>\n",
       "\t<li>110</li>\n",
       "\t<li>111</li>\n",
       "</ol>\n"
      ],
      "text/latex": [
       "\\begin{enumerate*}\n",
       "\\item 58\n",
       "\\item 59\n",
       "\\item 60\n",
       "\\item 61\n",
       "\\item 62\n",
       "\\item 63\n",
       "\\item 64\n",
       "\\item 65\n",
       "\\item 66\n",
       "\\item 67\n",
       "\\item 68\n",
       "\\item 69\n",
       "\\item 70\n",
       "\\item 71\n",
       "\\item 72\n",
       "\\item 73\n",
       "\\item 74\n",
       "\\item 75\n",
       "\\item 76\n",
       "\\item 77\n",
       "\\item 78\n",
       "\\item 79\n",
       "\\item 80\n",
       "\\item 81\n",
       "\\item 82\n",
       "\\item 83\n",
       "\\item 84\n",
       "\\item 85\n",
       "\\item 86\n",
       "\\item 87\n",
       "\\item 88\n",
       "\\item 89\n",
       "\\item 90\n",
       "\\item 91\n",
       "\\item 92\n",
       "\\item 93\n",
       "\\item 94\n",
       "\\item 95\n",
       "\\item 96\n",
       "\\item 97\n",
       "\\item 98\n",
       "\\item 99\n",
       "\\item 100\n",
       "\\item 101\n",
       "\\item 102\n",
       "\\item 103\n",
       "\\item 104\n",
       "\\item 105\n",
       "\\item 106\n",
       "\\item 107\n",
       "\\item 108\n",
       "\\item 109\n",
       "\\item 110\n",
       "\\item 111\n",
       "\\end{enumerate*}\n"
      ],
      "text/markdown": [
       "1. 58\n",
       "2. 59\n",
       "3. 60\n",
       "4. 61\n",
       "5. 62\n",
       "6. 63\n",
       "7. 64\n",
       "8. 65\n",
       "9. 66\n",
       "10. 67\n",
       "11. 68\n",
       "12. 69\n",
       "13. 70\n",
       "14. 71\n",
       "15. 72\n",
       "16. 73\n",
       "17. 74\n",
       "18. 75\n",
       "19. 76\n",
       "20. 77\n",
       "21. 78\n",
       "22. 79\n",
       "23. 80\n",
       "24. 81\n",
       "25. 82\n",
       "26. 83\n",
       "27. 84\n",
       "28. 85\n",
       "29. 86\n",
       "30. 87\n",
       "31. 88\n",
       "32. 89\n",
       "33. 90\n",
       "34. 91\n",
       "35. 92\n",
       "36. 93\n",
       "37. 94\n",
       "38. 95\n",
       "39. 96\n",
       "40. 97\n",
       "41. 98\n",
       "42. 99\n",
       "43. 100\n",
       "44. 101\n",
       "45. 102\n",
       "46. 103\n",
       "47. 104\n",
       "48. 105\n",
       "49. 106\n",
       "50. 107\n",
       "51. 108\n",
       "52. 109\n",
       "53. 110\n",
       "54. 111\n",
       "\n",
       "\n"
      ],
      "text/plain": [
       " [1]  58  59  60  61  62  63  64  65  66  67  68  69  70  71  72  73  74  75  76\n",
       "[20]  77  78  79  80  81  82  83  84  85  86  87  88  89  90  91  92  93  94  95\n",
       "[39]  96  97  98  99 100 101 102 103 104 105 106 107 108 109 110 111"
      ]
     },
     "metadata": {},
     "output_type": "display_data"
    }
   ],
   "source": [
    "test_indices_last"
   ]
  },
  {
   "cell_type": "code",
   "execution_count": 56,
   "metadata": {},
   "outputs": [],
   "source": [
    "last_k=1"
   ]
  },
  {
   "cell_type": "markdown",
   "metadata": {},
   "source": [
    "## Representation and Distance Calculation"
   ]
  },
  {
   "cell_type": "markdown",
   "metadata": {},
   "source": [
    "Representation and distance types are selected by looking the best parameter combination obtained in train dataset."
   ]
  },
  {
   "cell_type": "code",
   "execution_count": 63,
   "metadata": {},
   "outputs": [],
   "source": [
    "paa_test=paa_obtainer(all_dt,9)"
   ]
  },
  {
   "cell_type": "code",
   "execution_count": 64,
   "metadata": {},
   "outputs": [],
   "source": [
    "dist_euc_paa_test=as.matrix(dist(paa_test))\n",
    "diag(dist_euc_paa_test)=large_number"
   ]
  },
  {
   "cell_type": "markdown",
   "metadata": {},
   "source": [
    "## Result of Test Dataset"
   ]
  },
  {
   "cell_type": "code",
   "execution_count": 65,
   "metadata": {},
   "outputs": [],
   "source": [
    "last_result=nn_classify_cv(dist_euc_paa_test,allclass,test_indices_last,k=last_k)\n",
    "accuracy=sum(allclass[test_indices_last]==last_result$prediction$predicted)/length(test_indices_last)\n",
    "final_res=data.table(approach=\"Wine_euc_paa_dist_Test.csv\", k=last_k, acc=accuracy)"
   ]
  },
  {
   "cell_type": "markdown",
   "metadata": {},
   "source": [
    "### Test Result"
   ]
  },
  {
   "cell_type": "code",
   "execution_count": 66,
   "metadata": {},
   "outputs": [
    {
     "data": {
      "text/html": [
       "<table>\n",
       "<thead><tr><th scope=col>approach</th><th scope=col>k</th><th scope=col>acc</th></tr></thead>\n",
       "<tbody>\n",
       "\t<tr><td>Wine_euc_paa_dist_Test.csv</td><td>1                         </td><td>0.6111111                 </td></tr>\n",
       "</tbody>\n",
       "</table>\n"
      ],
      "text/latex": [
       "\\begin{tabular}{r|lll}\n",
       " approach & k & acc\\\\\n",
       "\\hline\n",
       "\t Wine\\_euc\\_paa\\_dist\\_Test.csv & 1                                  & 0.6111111                         \\\\\n",
       "\\end{tabular}\n"
      ],
      "text/markdown": [
       "\n",
       "| approach | k | acc |\n",
       "|---|---|---|\n",
       "| Wine_euc_paa_dist_Test.csv | 1                          | 0.6111111                  |\n",
       "\n"
      ],
      "text/plain": [
       "  approach                   k acc      \n",
       "1 Wine_euc_paa_dist_Test.csv 1 0.6111111"
      ]
     },
     "metadata": {},
     "output_type": "display_data"
    }
   ],
   "source": [
    "final_res"
   ]
  },
  {
   "cell_type": "markdown",
   "metadata": {},
   "source": [
    "### Train Result"
   ]
  },
  {
   "cell_type": "code",
   "execution_count": 61,
   "metadata": {},
   "outputs": [
    {
     "data": {
      "text/html": [
       "<table>\n",
       "<thead><tr><th scope=col>approach</th><th scope=col>k</th><th scope=col>avg_acc</th></tr></thead>\n",
       "<tbody>\n",
       "\t<tr><td>Wine_euc_paa_dist.csv</td><td>1                    </td><td>1                    </td></tr>\n",
       "</tbody>\n",
       "</table>\n"
      ],
      "text/latex": [
       "\\begin{tabular}{r|lll}\n",
       " approach & k & avg\\_acc\\\\\n",
       "\\hline\n",
       "\t Wine\\_euc\\_paa\\_dist.csv & 1                           & 1                          \\\\\n",
       "\\end{tabular}\n"
      ],
      "text/markdown": [
       "\n",
       "| approach | k | avg_acc |\n",
       "|---|---|---|\n",
       "| Wine_euc_paa_dist.csv | 1                     | 1                     |\n",
       "\n"
      ],
      "text/plain": [
       "  approach              k avg_acc\n",
       "1 Wine_euc_paa_dist.csv 1 1      "
      ]
     },
     "metadata": {},
     "output_type": "display_data"
    }
   ],
   "source": [
    "acc_res_ordered[1][,c(\"approach\", \"k\", \"avg_acc\")]"
   ]
  },
  {
   "cell_type": "markdown",
   "metadata": {},
   "source": [
    "<a id=\"13\"></a>\n",
    "# Comments"
   ]
  },
  {
   "cell_type": "markdown",
   "metadata": {},
   "source": [
    "Obtained results will be analyzed in the result comparison notebook."
   ]
  }
 ],
 "metadata": {
  "kernelspec": {
   "display_name": "R",
   "language": "R",
   "name": "ir"
  },
  "language_info": {
   "codemirror_mode": "r",
   "file_extension": ".r",
   "mimetype": "text/x-r-source",
   "name": "R",
   "pygments_lexer": "r",
   "version": "3.6.1"
  }
 },
 "nbformat": 4,
 "nbformat_minor": 4
}
