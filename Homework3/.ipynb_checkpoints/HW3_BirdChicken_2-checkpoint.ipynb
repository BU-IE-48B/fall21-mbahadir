{
 "cells": [
  {
   "cell_type": "code",
   "execution_count": 2,
   "metadata": {},
   "outputs": [
    {
     "name": "stderr",
     "output_type": "stream",
     "text": [
      "Warning message:\n",
      "\"package 'data.table' was built under R version 3.6.3\"Warning message:\n",
      "\"package 'TSrepr' was built under R version 3.6.3\"Warning message:\n",
      "\"package 'TSdist' was built under R version 3.6.3\"Loading required package: proxy\n",
      "Warning message:\n",
      "\"package 'proxy' was built under R version 3.6.3\"\n",
      "Attaching package: 'proxy'\n",
      "\n",
      "The following objects are masked from 'package:stats':\n",
      "\n",
      "    as.dist, dist\n",
      "\n",
      "The following object is masked from 'package:base':\n",
      "\n",
      "    as.matrix\n",
      "\n",
      "Registered S3 method overwritten by 'xts':\n",
      "  method     from\n",
      "  as.zoo.xts zoo \n",
      "Loaded TSdist v3.7. See ?TSdist for help, citation(\"TSdist\") for use in publication.\n",
      "\n",
      "Warning message:\n",
      "\"package 'dtw' was built under R version 3.6.3\"Loaded dtw v1.22-3. See ?dtw for help, citation(\"dtw\") for use in publication.\n",
      "\n",
      "Warning message:\n",
      "\"package 'dplyr' was built under R version 3.6.3\"\n",
      "Attaching package: 'dplyr'\n",
      "\n",
      "The following objects are masked from 'package:data.table':\n",
      "\n",
      "    between, first, last\n",
      "\n",
      "The following objects are masked from 'package:stats':\n",
      "\n",
      "    filter, lag\n",
      "\n",
      "The following objects are masked from 'package:base':\n",
      "\n",
      "    intersect, setdiff, setequal, union\n",
      "\n"
     ]
    }
   ],
   "source": [
    "library(data.table)\n",
    "library(TSrepr)\n",
    "library(TSdist)\n",
    "library(dtw)\n",
    "library(TunePareto)\n",
    "library(dplyr)"
   ]
  },
  {
   "cell_type": "markdown",
   "metadata": {},
   "source": [
    "# Summary\n",
    "\n",
    "In this homework, 60 different parameter combination will be tried to get hyperparameter tuning. To get this combination, 5 different representation types(raw + 2 different difference taken + 2 different PAA), 4 different distance calculations, and 3 different k values will be used. Difference will be taken by shift function and 1, 2 will be used to get difference values. For PAA, 2 different segment length will be used by considering proper values for timeseries. In terms of distance, Euclidean, Dynamic Time Wrapping, Longest Common Subsequence, and Edit Distance with Real Penalties will be used. Lastly, k values are selected as 1, 5, 10 for k-nearest neighbor model. \n",
    "\n",
    "Performance of the models will be inspected by using 10-fold cross and 5 repeated validation technique. Moreover, performance of the models will be controlled by having the same test indices to have identical conditions. Lastly, obtained 60 performance will be controlled by a dataframe including average accuracy and standard deviation in accuracy. By considering this dataframe, the best parameter combination will be controlled and this parameters will be used to get accuracy performance in the test dataset. Last comments will be held at the end of the notebooks."
   ]
  },
  {
   "cell_type": "markdown",
   "metadata": {},
   "source": [
    "# Context\n",
    "(In order to get specified techniques rapidly, a context part is added to Notebook.)\n",
    "\n",
    "1. [Data Preparation](#1)\n",
    "1. [Classify Function](#2)\n",
    "1. [Representations](#3)\n",
    "    1. Raw Data\n",
    "    1. [Difference Function](#4)\n",
    "    1. [PAA Function](#5)\n",
    "1. [Distances](#6)\n",
    "    1. [Raw Data](#7)\n",
    "    1. [Difference Data](#8)\n",
    "    1. [PAA Data](#9)\n",
    "1. [Main Model](#10)\n",
    "1. [Result of Models](#11)\n",
    "1. [Test Performance](#12)\n",
    "1. [Comments](#13)"
   ]
  },
  {
   "cell_type": "markdown",
   "metadata": {},
   "source": [
    "<a id=\"1\"></a>\n",
    "# Data Preparation"
   ]
  },
  {
   "cell_type": "code",
   "execution_count": 3,
   "metadata": {},
   "outputs": [],
   "source": [
    "dataset_path=\"D:/Datasets/Univariate2018_arff/Univariate_arff/\""
   ]
  },
  {
   "cell_type": "code",
   "execution_count": 4,
   "metadata": {},
   "outputs": [],
   "source": [
    "distance_path=\"C:/Users/bahad/GitHub/IE48B/Homework3/Distances/\""
   ]
  },
  {
   "cell_type": "code",
   "execution_count": 5,
   "metadata": {},
   "outputs": [],
   "source": [
    "first_dataset=\"Beef\"\n",
    "second_dataset=\"BirdChicken\"\n",
    "third_dataset=\"BMW\"\n",
    "fourth_dataset=\"Coffee\"\n",
    "fifth_dataset=\"Wine\""
   ]
  },
  {
   "cell_type": "markdown",
   "metadata": {},
   "source": [
    "## Loading Dataset"
   ]
  },
  {
   "cell_type": "code",
   "execution_count": 6,
   "metadata": {},
   "outputs": [],
   "source": [
    "traindata=as.matrix(fread(sprintf('%s%s/%s_TRAIN.txt',dataset_path, first_dataset,first_dataset)))"
   ]
  },
  {
   "cell_type": "code",
   "execution_count": null,
   "metadata": {},
   "outputs": [],
   "source": [
    "head(traindata)"
   ]
  },
  {
   "cell_type": "code",
   "execution_count": null,
   "metadata": {},
   "outputs": [],
   "source": [
    "str(traindata)"
   ]
  },
  {
   "cell_type": "markdown",
   "metadata": {},
   "source": [
    "## Class Information"
   ]
  },
  {
   "cell_type": "code",
   "execution_count": null,
   "metadata": {},
   "outputs": [],
   "source": [
    "trainclass=traindata[,1] "
   ]
  },
  {
   "cell_type": "markdown",
   "metadata": {},
   "source": [
    "## Time Series"
   ]
  },
  {
   "cell_type": "code",
   "execution_count": null,
   "metadata": {},
   "outputs": [],
   "source": [
    "traindata=traindata[,2:ncol(traindata)]"
   ]
  },
  {
   "cell_type": "markdown",
   "metadata": {},
   "source": [
    "## Dataset Information"
   ]
  },
  {
   "cell_type": "code",
   "execution_count": null,
   "metadata": {},
   "outputs": [],
   "source": [
    "tlength=ncol(traindata)\n",
    "n_series_train=nrow(traindata)"
   ]
  },
  {
   "cell_type": "markdown",
   "metadata": {},
   "source": [
    "## Indices for Datasets"
   ]
  },
  {
   "cell_type": "markdown",
   "metadata": {},
   "source": [
    "Mentioned test indices are obtained by TunePareto library to have identical conditions. nfold and ntimes parameters are selected as 10, 5 respectively."
   ]
  },
  {
   "cell_type": "code",
   "execution_count": null,
   "metadata": {},
   "outputs": [],
   "source": [
    "set.seed(35)\n",
    "nof_rep=5\n",
    "n_fold=10"
   ]
  },
  {
   "cell_type": "code",
   "execution_count": null,
   "metadata": {},
   "outputs": [],
   "source": [
    "cv_indices=generateCVRuns(trainclass, ntimes =nof_rep, nfold = n_fold, \n",
    "                          leaveOneOut = FALSE, stratified = TRUE)\n",
    "\n",
    "str(cv_indices)"
   ]
  },
  {
   "cell_type": "markdown",
   "metadata": {},
   "source": [
    "<a id=\"2\"></a>\n",
    "# Classify Function"
   ]
  },
  {
   "cell_type": "markdown",
   "metadata": {},
   "source": [
    "Classify function is obtained from lecture notebooks. Function takes 4 different parameters, distance matrix, class information, test indeces and k parameter."
   ]
  },
  {
   "cell_type": "code",
   "execution_count": null,
   "metadata": {},
   "outputs": [],
   "source": [
    "nn_classify_cv=function(dist_matrix,train_class,test_indices,k){\n",
    "    \n",
    "    test_distances_to_train=dist_matrix[test_indices,]\n",
    "    test_distances_to_train=test_distances_to_train[,-test_indices]\n",
    "    train_class=train_class[-test_indices]\n",
    "\n",
    "    ordered_indices=apply(test_distances_to_train,1,order)\n",
    "    if(k==1){\n",
    "        nearest_class=as.numeric(train_class[as.numeric(ordered_indices[1,])])\n",
    "        nearest_class=data.table(id=test_indices,nearest_class)\n",
    "    } else {\n",
    "        nearest_class=apply(ordered_indices[1:k,],2,function(x) {train_class[x]})\n",
    "        nearest_class=data.table(id=test_indices,t(nearest_class))\n",
    "    }\n",
    "    \n",
    "    long_nn_class=melt(nearest_class,'id')\n",
    "\n",
    "    class_counts=long_nn_class[,.N,list(id,value)]\n",
    "    class_counts[,predicted_prob:=N/k]\n",
    "    wide_class_prob_predictions=dcast(class_counts,id~value,value.var='predicted_prob')\n",
    "    wide_class_prob_predictions[is.na(wide_class_prob_predictions)]=0\n",
    "    class_predictions=class_counts[,list(predicted=value[which.max(N)]),by=list(id)]\n",
    "    \n",
    "    \n",
    "    return(list(prediction=class_predictions,prob_estimates=wide_class_prob_predictions))\n",
    "    \n",
    "}"
   ]
  },
  {
   "cell_type": "code",
   "execution_count": null,
   "metadata": {},
   "outputs": [],
   "source": []
  },
  {
   "cell_type": "markdown",
   "metadata": {},
   "source": [
    "<a id=\"3\"></a>\n",
    "# Representations"
   ]
  },
  {
   "cell_type": "markdown",
   "metadata": {},
   "source": [
    "There are 3 major representations, raw dataset, difference taken dataset, and paa representation. For difference taken dataset 1 and 2 will be used in shift operator. At the beginning, an example code will be given to show obtained dataframes in difference datasets. For paa dataset 5 and 10 will be used in segment length parameter. At the beginning, an example code will be given to show obtained dataframes in paa datasets."
   ]
  },
  {
   "cell_type": "markdown",
   "metadata": {},
   "source": [
    "## Example Code for difference datasets"
   ]
  },
  {
   "cell_type": "code",
   "execution_count": null,
   "metadata": {
    "scrolled": true
   },
   "outputs": [],
   "source": [
    "dt_ts_train=data.table(traindata)\n",
    "dt_ts_train[,id:=1:.N]\n",
    "long_train=melt(dt_ts_train,id.vars=c('id'))\n",
    "long_train[,time:=as.numeric(gsub(\"\\\\D\", \"\", variable))-1]\n",
    "long_train=long_train[order(id,time)]\n",
    "diff_long=copy(long_train)\n",
    "diff_long[,diff_series:=value-shift(value,1),by=list(id)]\n",
    "head(diff_long)"
   ]
  },
  {
   "cell_type": "code",
   "execution_count": null,
   "metadata": {
    "scrolled": true
   },
   "outputs": [],
   "source": [
    "diff_train=dcast(diff_long[!is.na(diff_series)],id~time,value.var='diff_series')\n",
    "diff_train=diff_train[,-c(\"id\")]\n",
    "head(diff_train)\n",
    "diff_train=as.matrix(diff_train)"
   ]
  },
  {
   "cell_type": "markdown",
   "metadata": {},
   "source": [
    "<a id=\"4\"></a>\n",
    "## Difference Function"
   ]
  },
  {
   "cell_type": "code",
   "execution_count": null,
   "metadata": {},
   "outputs": [],
   "source": [
    "difference_obtainer=function(traindata, diff_value){\n",
    "    dt_ts_train=data.table(traindata)\n",
    "    dt_ts_train[,id:=1:.N]\n",
    "    long_train=melt(dt_ts_train,id.vars=c('id'))\n",
    "    long_train[,time:=as.numeric(gsub(\"\\\\D\", \"\", variable))-1]\n",
    "    long_train=long_train[order(id,time)]\n",
    "    diff_long=copy(long_train)\n",
    "    diff_long[,diff_series:=value-shift(value,diff_value),by=list(id)]#Lag value is assigned by diff_value\n",
    "    head(diff_long)\n",
    "    \n",
    "    diff_train=dcast(diff_long[!is.na(diff_series)],id~time,value.var='diff_series')\n",
    "    diff_train=diff_train[,-c(\"id\")]\n",
    "    head(diff_train)\n",
    "    diff_train=as.matrix(diff_train)\n",
    "    \n",
    "    return(diff_train)\n",
    "}"
   ]
  },
  {
   "cell_type": "markdown",
   "metadata": {},
   "source": [
    "This function will be used to get a difference dataset. \"_2\" string will be used to mention 2 differences taken dataset."
   ]
  },
  {
   "cell_type": "markdown",
   "metadata": {},
   "source": [
    "###  1 Difference"
   ]
  },
  {
   "cell_type": "code",
   "execution_count": null,
   "metadata": {},
   "outputs": [],
   "source": [
    "diff_train=difference_obtainer(traindata,1)"
   ]
  },
  {
   "cell_type": "markdown",
   "metadata": {},
   "source": [
    "### 2 Difference"
   ]
  },
  {
   "cell_type": "code",
   "execution_count": null,
   "metadata": {},
   "outputs": [],
   "source": [
    "diff_train_2=difference_obtainer(traindata,2)"
   ]
  },
  {
   "cell_type": "code",
   "execution_count": null,
   "metadata": {},
   "outputs": [],
   "source": []
  },
  {
   "cell_type": "code",
   "execution_count": null,
   "metadata": {},
   "outputs": [],
   "source": []
  },
  {
   "cell_type": "markdown",
   "metadata": {},
   "source": [
    "## Example Code for PAA"
   ]
  },
  {
   "cell_type": "code",
   "execution_count": null,
   "metadata": {},
   "outputs": [],
   "source": [
    "segment_length=5"
   ]
  },
  {
   "cell_type": "code",
   "execution_count": null,
   "metadata": {},
   "outputs": [],
   "source": [
    "paa_results=vector(\"list\", max(long_train$id))"
   ]
  },
  {
   "cell_type": "code",
   "execution_count": null,
   "metadata": {
    "scrolled": false
   },
   "outputs": [],
   "source": [
    "for(i in 1:max(long_train$id)){\n",
    "    current_ts=long_train[id==i,]$value\n",
    "    \n",
    "    paa_rep=repr_paa(current_ts, segment_length, meanC)\n",
    "    current_dt=data.table(time=1:length(long_train[id==i,]$value))\n",
    "    result_dt=data.table(time=c(1:(length(paa_rep)))*segment_length, values=paa_rep)\n",
    "    all_dt=merge(current_dt, result_dt, by='time',all.x=T)\n",
    "    all_dt[,values:=nafill(values,'nocb')]\n",
    "    paa_results[[i]]=transpose(data.table(values=all_dt$values))\n",
    "    \n",
    "}"
   ]
  },
  {
   "cell_type": "code",
   "execution_count": null,
   "metadata": {},
   "outputs": [],
   "source": [
    "paa_train=rbindlist(paa_results)"
   ]
  },
  {
   "cell_type": "code",
   "execution_count": null,
   "metadata": {},
   "outputs": [],
   "source": [
    "paa_train"
   ]
  },
  {
   "cell_type": "markdown",
   "metadata": {},
   "source": [
    "<a id=\"5\"></a>\n",
    "## PAA Function"
   ]
  },
  {
   "cell_type": "code",
   "execution_count": null,
   "metadata": {},
   "outputs": [],
   "source": [
    "paa_obtainer=function(traindata,segment_length){\n",
    "    dt_ts_train=data.table(traindata)\n",
    "    dt_ts_train[,id:=1:.N]\n",
    "    long_train=melt(dt_ts_train,id.vars=c('id'))\n",
    "    long_train[,time:=as.numeric(gsub(\"\\\\D\", \"\", variable))-1]\n",
    "    long_train=long_train[order(id,time)]\n",
    "    \n",
    "    paa_results=vector(\"list\", max(long_train$id))\n",
    "    for(i in 1:max(long_train$id)){\n",
    "        current_ts=long_train[id==i,]$value\n",
    "\n",
    "        paa_rep=repr_paa(current_ts, segment_length, meanC)\n",
    "        current_dt=data.table(time=1:length(long_train[id==i,]$value))\n",
    "        result_dt=data.table(time=c(1:(length(paa_rep)))*segment_length, values=paa_rep)\n",
    "        all_dt=merge(current_dt, result_dt, by='time',all.x=T)\n",
    "        all_dt[,values:=nafill(values,'nocb')]\n",
    "        paa_results[[i]]=transpose(data.table(values=all_dt$values))\n",
    "\n",
    "    }\n",
    "    return(rbindlist(paa_results))\n",
    "}"
   ]
  },
  {
   "cell_type": "markdown",
   "metadata": {},
   "source": [
    "This function will be used to get a difference dataset. \"_2\" string will be used to mention segment lentgh determined as 10."
   ]
  },
  {
   "cell_type": "markdown",
   "metadata": {},
   "source": [
    "### Segment Length 5"
   ]
  },
  {
   "cell_type": "code",
   "execution_count": null,
   "metadata": {},
   "outputs": [],
   "source": [
    "paa_train=paa_obtainer(traindata,5)"
   ]
  },
  {
   "cell_type": "markdown",
   "metadata": {},
   "source": [
    "### Segment Length 10"
   ]
  },
  {
   "cell_type": "code",
   "execution_count": null,
   "metadata": {},
   "outputs": [],
   "source": [
    "paa_train_2=paa_obtainer(traindata,10)"
   ]
  },
  {
   "cell_type": "code",
   "execution_count": null,
   "metadata": {},
   "outputs": [],
   "source": []
  },
  {
   "cell_type": "code",
   "execution_count": null,
   "metadata": {},
   "outputs": [],
   "source": []
  },
  {
   "cell_type": "markdown",
   "metadata": {},
   "source": [
    "<a id=\"6\"></a>\n",
    "# Distances"
   ]
  },
  {
   "cell_type": "markdown",
   "metadata": {},
   "source": [
    "In this part, distance datasets will be calculated to have 20 different combination (5 representation * 4 different distance calculation types). In addition, obtained distance datasets will be stored in a file to skip distance calculation."
   ]
  },
  {
   "cell_type": "code",
   "execution_count": null,
   "metadata": {},
   "outputs": [],
   "source": [
    "large_number=10000"
   ]
  },
  {
   "cell_type": "markdown",
   "metadata": {},
   "source": [
    "<a id=\"7\"></a>\n",
    "## Raw Dataset "
   ]
  },
  {
   "cell_type": "code",
   "execution_count": null,
   "metadata": {},
   "outputs": [],
   "source": [
    "dist_euc=as.matrix(dist(traindata))\n",
    "diag(dist_euc)=large_number\n",
    "fwrite(dist_euc,sprintf('%s%s/%s_euc_raw_dist.csv', distance_path, first_dataset, first_dataset),col.names=F)\n",
    "\n",
    "dist_dtw=as.matrix(dtwDist(traindata))\n",
    "diag(dist_dtw)=large_number\n",
    "fwrite(dist_dtw,sprintf('%s%s/%s_dtw_raw_dist.csv', distance_path, first_dataset, first_dataset),col.names=F)\n",
    "\n",
    "dist_lcss=TSDatabaseDistances(traindata,distance='lcss',epsilon=0.05)\n",
    "dist_lcss=as.matrix(dist_lcss)\n",
    "diag(dist_lcss)=large_number\n",
    "fwrite(dist_lcss,sprintf('%s%s/%s_lcss_raw_epsilon_005.csv', distance_path, first_dataset, first_dataset),col.names=F)  \n",
    "\n",
    "dist_erp=TSDatabaseDistances(traindata,distance='erp',g=0.5)\n",
    "dist_erp=as.matrix(dist_erp)\n",
    "diag(dist_erp)=large_number\n",
    "fwrite(dist_erp,sprintf('%s%s/%s_erp_raw_gap_005.csv', distance_path, first_dataset, first_dataset),col.names=F)  "
   ]
  },
  {
   "cell_type": "markdown",
   "metadata": {},
   "source": [
    "<a id=\"8\"></a>\n",
    "## Difference taken Datasets"
   ]
  },
  {
   "cell_type": "markdown",
   "metadata": {},
   "source": [
    "### First difference dataset when shift value is 1"
   ]
  },
  {
   "cell_type": "code",
   "execution_count": null,
   "metadata": {},
   "outputs": [],
   "source": [
    "dist_euc_diff=as.matrix(dist(diff_train))\n",
    "diag(dist_euc_diff)=large_number\n",
    "fwrite(dist_euc_diff,sprintf('%s%s/%s_euc_diff_dist.csv', distance_path, first_dataset, first_dataset),col.names=F)\n",
    "\n",
    "dist_dtw_diff=as.matrix(dtwDist(diff_train))\n",
    "diag(dist_dtw_diff)=large_number\n",
    "fwrite(dist_dtw_diff,sprintf('%s%s/%s_dtw_diff_dist.csv', distance_path, first_dataset, first_dataset),col.names=F)\n",
    "\n",
    "dist_lcss_diff=TSDatabaseDistances(diff_train,distance='lcss',epsilon=0.05)\n",
    "dist_lcss_diff=as.matrix(dist_lcss_diff)\n",
    "diag(dist_lcss_diff)=large_number\n",
    "fwrite(dist_lcss_diff,sprintf('%s%s/%s_lcss_diff_epsilon_005.csv', distance_path, first_dataset, first_dataset),col.names=F)  \n",
    "\n",
    "dist_erp_diff=TSDatabaseDistances(diff_train,distance='erp',g=0.5)\n",
    "dist_erp_diff=as.matrix(dist_erp_diff)\n",
    "diag(dist_erp_diff)=large_number\n",
    "fwrite(dist_erp_diff,sprintf('%s%s/%s_erp_diff_gap_005.csv', distance_path, first_dataset, first_dataset),col.names=F)  "
   ]
  },
  {
   "cell_type": "markdown",
   "metadata": {},
   "source": [
    "### Second difference dataset when shift value is 2"
   ]
  },
  {
   "cell_type": "code",
   "execution_count": null,
   "metadata": {},
   "outputs": [],
   "source": [
    "dist_euc_diff_2=as.matrix(dist(diff_train_2))\n",
    "diag(dist_euc_diff_2)=large_number\n",
    "fwrite(dist_euc_diff_2,sprintf('%s%s/%s_euc_diff2_dist.csv', distance_path, first_dataset, first_dataset),col.names=F)\n",
    "\n",
    "dist_dtw_diff_2=as.matrix(dtwDist(diff_train_2))\n",
    "diag(dist_dtw_diff_2)=large_number\n",
    "fwrite(dist_dtw_diff_2,sprintf('%s%s/%s_dtw_diff2_dist.csv', distance_path, first_dataset, first_dataset),col.names=F)\n",
    "\n",
    "dist_lcss_diff_2=TSDatabaseDistances(diff_train_2,distance='lcss',epsilon=0.05)\n",
    "dist_lcss_diff_2=as.matrix(dist_lcss_diff_2)\n",
    "diag(dist_lcss_diff_2)=large_number\n",
    "fwrite(dist_lcss_diff_2,sprintf('%s%s/%s_lcss_diff2_epsilon_005.csv', distance_path, first_dataset, first_dataset),col.names=F)  \n",
    "\n",
    "dist_erp_diff_2=TSDatabaseDistances(diff_train_2,distance='erp',g=0.5)\n",
    "dist_erp_diff_2=as.matrix(dist_erp_diff_2)\n",
    "diag(dist_erp_diff_2)=large_number\n",
    "fwrite(dist_erp_diff_2,sprintf('%s%s/%s_erp_diff2_gap_005.csv', distance_path, first_dataset, first_dataset),col.names=F)  "
   ]
  },
  {
   "cell_type": "markdown",
   "metadata": {},
   "source": [
    "<a id=\"9\"></a>\n",
    "## PAA Datasets"
   ]
  },
  {
   "cell_type": "markdown",
   "metadata": {},
   "source": [
    "### First PAA dataset when segment length value is 5"
   ]
  },
  {
   "cell_type": "code",
   "execution_count": null,
   "metadata": {},
   "outputs": [],
   "source": [
    "dist_euc_paa=as.matrix(dist(paa_train))\n",
    "diag(dist_euc_paa)=large_number\n",
    "fwrite(dist_euc_paa,sprintf('%s%s/%s_euc_paa_dist.csv', distance_path, first_dataset, first_dataset),col.names=F)\n",
    "\n",
    "dist_dtw_paa=as.matrix(dtwDist(paa_train))\n",
    "diag(dist_dtw_paa)=large_number\n",
    "fwrite(dist_dtw_paa,sprintf('%s%s/%s_dtw_paa_dist.csv', distance_path, first_dataset, first_dataset),col.names=F)\n",
    "\n",
    "dist_lcss_paa=TSDatabaseDistances(paa_train,distance='lcss',epsilon=0.05)\n",
    "dist_lcss_paa=as.matrix(dist_lcss_paa)\n",
    "diag(dist_lcss_paa)=large_number\n",
    "fwrite(dist_lcss_paa,sprintf('%s%s/%s_lcss_paa_epsilon_005.csv', distance_path, first_dataset, first_dataset),col.names=F)  \n",
    "\n",
    "dist_erp_paa=TSDatabaseDistances(paa_train,distance='erp',g=0.5)\n",
    "dist_erp_paa=as.matrix(dist_erp_paa)\n",
    "diag(dist_erp_paa)=large_number\n",
    "fwrite(dist_erp_paa,sprintf('%s%s/%s_erp_paa_gap_005.csv', distance_path, first_dataset, first_dataset),col.names=F)  "
   ]
  },
  {
   "cell_type": "markdown",
   "metadata": {},
   "source": [
    "### Second PAA dataset when segment length value is 10"
   ]
  },
  {
   "cell_type": "code",
   "execution_count": null,
   "metadata": {},
   "outputs": [],
   "source": [
    "dist_euc_paa_2=as.matrix(dist(paa_train_2))\n",
    "diag(dist_euc_paa_2)=large_number\n",
    "fwrite(dist_euc_paa_2,sprintf('%s%s/%s_euc_paa2_dist.csv', distance_path, first_dataset, first_dataset),col.names=F)\n",
    "\n",
    "dist_dtw_paa_2=as.matrix(dtwDist(paa_train_2))\n",
    "diag(dist_dtw_paa_2)=large_number\n",
    "fwrite(dist_dtw_paa_2,sprintf('%s%s/%s_dtw_paa2_dist.csv', distance_path, first_dataset, first_dataset),col.names=F)\n",
    "\n",
    "dist_lcss_paa_2=TSDatabaseDistances(paa_train_2,distance='lcss',epsilon=0.05)\n",
    "dist_lcss_paa_2=as.matrix(dist_lcss_paa_2)\n",
    "diag(dist_lcss_paa_2)=large_number\n",
    "fwrite(dist_lcss_paa_2,sprintf('%s%s/%s_lcss_paa2_epsilon_005.csv', distance_path, first_dataset, first_dataset),col.names=F)  \n",
    "\n",
    "dist_erp_paa_2=TSDatabaseDistances(paa_train_2,distance='erp',g=0.5)\n",
    "dist_erp_paa_2=as.matrix(dist_erp_paa_2)\n",
    "diag(dist_erp_paa_2)=large_number\n",
    "fwrite(dist_erp_paa_2,sprintf('%s%s/%s_erp_paa2_gap_005.csv', distance_path, first_dataset, first_dataset),col.names=F)  "
   ]
  },
  {
   "cell_type": "markdown",
   "metadata": {},
   "source": [
    "### To store obtained distance datasetes in a list"
   ]
  },
  {
   "cell_type": "code",
   "execution_count": null,
   "metadata": {},
   "outputs": [],
   "source": [
    "dist_folder=sprintf('%s%s', distance_path, first_dataset)\n",
    "dist_files=list.files(dist_folder, full.names=T)"
   ]
  },
  {
   "cell_type": "code",
   "execution_count": null,
   "metadata": {},
   "outputs": [],
   "source": [
    "dist_files"
   ]
  },
  {
   "cell_type": "code",
   "execution_count": null,
   "metadata": {},
   "outputs": [],
   "source": []
  },
  {
   "cell_type": "code",
   "execution_count": null,
   "metadata": {},
   "outputs": [],
   "source": []
  },
  {
   "cell_type": "markdown",
   "metadata": {},
   "source": [
    "<a id=\"10\"></a>\n",
    "# Main Model"
   ]
  },
  {
   "cell_type": "code",
   "execution_count": null,
   "metadata": {},
   "outputs": [],
   "source": [
    "k_levels=c(1,5,10)\n",
    "approach_file=list.files(dist_folder)"
   ]
  },
  {
   "cell_type": "code",
   "execution_count": null,
   "metadata": {},
   "outputs": [],
   "source": [
    "result=vector('list',length(dist_files)*nof_rep*n_fold*length(k_levels))"
   ]
  },
  {
   "cell_type": "code",
   "execution_count": null,
   "metadata": {},
   "outputs": [],
   "source": [
    "iter=1\n",
    "for(m in 1:length(dist_files)){ #\n",
    "    print(dist_files[m])\n",
    "    dist_mat=as.matrix(fread(dist_files[m],header=FALSE))\n",
    "    for(i in 1:nof_rep){\n",
    "        this_fold=cv_indices[[i]]\n",
    "        for(j in 1:n_fold){\n",
    "            test_indices=this_fold[[j]]\n",
    "            for(k in 1:length(k_levels)){\n",
    "                current_k=k_levels[k]\n",
    "                current_fold=nn_classify_cv(dist_mat,trainclass,test_indices,k=current_k)\n",
    "                accuracy=sum(trainclass[test_indices]==current_fold$prediction$predicted)/length(test_indices)\n",
    "                tmp=data.table(approach=approach_file[m],repid=i,foldid=j,\n",
    "                               k=current_k,acc=accuracy)\n",
    "                result[[iter]]=tmp\n",
    "                iter=iter+1\n",
    "            }\n",
    "            \n",
    "        }\n",
    "    \n",
    "    }   \n",
    "    \n",
    "}"
   ]
  },
  {
   "cell_type": "markdown",
   "metadata": {},
   "source": [
    "<a id=\"11\"></a>\n",
    "# Result of Models"
   ]
  },
  {
   "cell_type": "code",
   "execution_count": null,
   "metadata": {},
   "outputs": [],
   "source": [
    "dataframe_result=rbindlist(result)\n",
    "head(dataframe_result)"
   ]
  },
  {
   "cell_type": "markdown",
   "metadata": {},
   "source": [
    "In this dataset, result of each fold exists in this dataframe. repid and foldid represent which repetition and fold respectively. "
   ]
  },
  {
   "cell_type": "markdown",
   "metadata": {},
   "source": [
    "### Accumulated Datasets"
   ]
  },
  {
   "cell_type": "code",
   "execution_count": null,
   "metadata": {
    "scrolled": true
   },
   "outputs": [],
   "source": [
    "acc_res=dataframe_result[,list(avg_acc=mean(acc),sdev_acc=sd(acc), repid=max(repid), foldid=max(foldid), \n",
    "                                   result_count=.N),by=list(approach,k)]\n",
    "acc_res_ordered=acc_res[order(avg_acc,decreasing = TRUE)]"
   ]
  },
  {
   "cell_type": "markdown",
   "metadata": {},
   "source": [
    "Accumulated dataset are ordered by avg_acc value. "
   ]
  },
  {
   "cell_type": "code",
   "execution_count": null,
   "metadata": {},
   "outputs": [],
   "source": [
    "acc_res_ordered"
   ]
  },
  {
   "cell_type": "code",
   "execution_count": null,
   "metadata": {},
   "outputs": [],
   "source": [
    "# require(ggplot2)\n",
    "# ggplot(dataframe_result,aes(x=paste0(approach,'with K=',k), y=acc)) +\n",
    "#         geom_boxplot()+\n",
    "#         labs(title=\"Boxplot of Models\")+\n",
    "#         xlab(\"Model Types\")+\n",
    "#         coord_flip()"
   ]
  },
  {
   "cell_type": "code",
   "execution_count": null,
   "metadata": {},
   "outputs": [],
   "source": []
  },
  {
   "cell_type": "markdown",
   "metadata": {},
   "source": [
    "<a id=\"12\"></a>\n",
    "# Test Performance"
   ]
  },
  {
   "cell_type": "markdown",
   "metadata": {},
   "source": [
    "Best performance is obtained when representation, distance, and k values are difference=1, Euclidean, and K=1 respectively."
   ]
  },
  {
   "cell_type": "code",
   "execution_count": null,
   "metadata": {},
   "outputs": [],
   "source": [
    "traindata=as.matrix(fread(sprintf('%s%s/%s_TRAIN.txt',dataset_path, first_dataset,first_dataset)))\n",
    "testdata=as.matrix(fread(sprintf('%s%s/%s_TEST.txt',dataset_path, first_dataset,first_dataset)))"
   ]
  },
  {
   "cell_type": "markdown",
   "metadata": {},
   "source": [
    "To get test performance, train and test datasets will be used. These 2 datasets will be bind and test indices are selected as test dataset indices."
   ]
  },
  {
   "cell_type": "code",
   "execution_count": null,
   "metadata": {},
   "outputs": [],
   "source": [
    "all_dt=rbind(traindata, testdata)"
   ]
  },
  {
   "cell_type": "code",
   "execution_count": null,
   "metadata": {},
   "outputs": [],
   "source": [
    "allclass=all_dt[,1] \n",
    "all_dt=all_dt[,2:ncol(all_dt)]"
   ]
  },
  {
   "cell_type": "code",
   "execution_count": null,
   "metadata": {},
   "outputs": [],
   "source": [
    "test_indices_last=(nrow(all_dt)+1-nrow(testdata)):nrow(all_dt)"
   ]
  },
  {
   "cell_type": "markdown",
   "metadata": {},
   "source": [
    "### Parameters"
   ]
  },
  {
   "cell_type": "code",
   "execution_count": null,
   "metadata": {},
   "outputs": [],
   "source": [
    "test_indices_last"
   ]
  },
  {
   "cell_type": "code",
   "execution_count": null,
   "metadata": {},
   "outputs": [],
   "source": [
    "last_k=1"
   ]
  },
  {
   "cell_type": "markdown",
   "metadata": {},
   "source": [
    "## Representation and Distance Calculation"
   ]
  },
  {
   "cell_type": "markdown",
   "metadata": {},
   "source": [
    "Representation and distance types are selected by looking the best parameter combination obtained in train dataset."
   ]
  },
  {
   "cell_type": "code",
   "execution_count": null,
   "metadata": {},
   "outputs": [],
   "source": [
    "diff_test=difference_obtainer(all_dt,1)"
   ]
  },
  {
   "cell_type": "code",
   "execution_count": null,
   "metadata": {},
   "outputs": [],
   "source": [
    "dist_euc_diff_test=as.matrix(dist(diff_test))\n",
    "diag(dist_euc_diff_test)=large_number"
   ]
  },
  {
   "cell_type": "markdown",
   "metadata": {},
   "source": [
    "## Result of Test Dataset"
   ]
  },
  {
   "cell_type": "code",
   "execution_count": null,
   "metadata": {},
   "outputs": [],
   "source": [
    "last_result=nn_classify_cv(dist_euc_diff_test,allclass,test_indices_last,k=last_k)\n",
    "accuracy=sum(allclass[test_indices_last]==last_result$prediction$predicted)/length(test_indices_last)\n",
    "final_res=data.table(approach=\"Beef_euc_diff_dist.csv\", k=last_k, acc=accuracy)"
   ]
  },
  {
   "cell_type": "markdown",
   "metadata": {},
   "source": [
    "### Test Result"
   ]
  },
  {
   "cell_type": "code",
   "execution_count": null,
   "metadata": {},
   "outputs": [],
   "source": [
    "final_res"
   ]
  },
  {
   "cell_type": "markdown",
   "metadata": {},
   "source": [
    "### Train Result"
   ]
  },
  {
   "cell_type": "code",
   "execution_count": null,
   "metadata": {},
   "outputs": [],
   "source": [
    "acc_res_ordered[1][,c(\"approach\", \"k\", \"avg_acc\")]"
   ]
  },
  {
   "cell_type": "markdown",
   "metadata": {},
   "source": [
    "<a id=\"13\"></a>\n",
    "# Comments"
   ]
  },
  {
   "cell_type": "markdown",
   "metadata": {},
   "source": [
    "Obtained results will be analyzed in the result comparison notebook."
   ]
  }
 ],
 "metadata": {
  "kernelspec": {
   "display_name": "R",
   "language": "R",
   "name": "ir"
  },
  "language_info": {
   "codemirror_mode": "r",
   "file_extension": ".r",
   "mimetype": "text/x-r-source",
   "name": "R",
   "pygments_lexer": "r",
   "version": "3.6.1"
  }
 },
 "nbformat": 4,
 "nbformat_minor": 4
}
