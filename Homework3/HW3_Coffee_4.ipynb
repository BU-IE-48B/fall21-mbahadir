{
 "cells": [
  {
   "cell_type": "code",
   "execution_count": 60,
   "metadata": {},
   "outputs": [],
   "source": [
    "library(data.table)\n",
    "library(TSrepr)\n",
    "library(TSdist)\n",
    "library(dtw)\n",
    "library(TunePareto)\n",
    "library(dplyr)"
   ]
  },
  {
   "cell_type": "markdown",
   "metadata": {},
   "source": [
    "# Summary\n",
    "\n",
    "In this homework, 60 different parameter combination will be tried to get hyperparameter tuning. To get this combination, 5 different representation types(raw + 2 different difference taken + 2 different PAA), 4 different distance calculations, and 3 different k values will be used. Difference will be taken by shift function and 1, 2 will be used to get difference values. For PAA, 2 different segment length will be used by considering proper values for timeseries. In terms of distance, Euclidean, Dynamic Time Wrapping, Longest Common Subsequence, and Edit Distance with Real Penalties will be used. Lastly, k values are selected as 1, 5, 10 for k-nearest neighbor model. \n",
    "\n",
    "Performance of the models will be inspected by using 10-fold cross and 5 repeated validation technique. Moreover, performance of the models will be controlled by having the same test indices to have identical conditions. Lastly, obtained 60 performance will be controlled by a dataframe including average accuracy and standard deviation in accuracy. By considering this dataframe, the best parameter combination will be controlled and this parameters will be used to get accuracy performance in the test dataset. Last comments will be held at the end of the notebooks."
   ]
  },
  {
   "cell_type": "markdown",
   "metadata": {},
   "source": [
    "# Context\n",
    "(In order to get specified techniques rapidly, a context part is added to Notebook.)\n",
    "\n",
    "1. [Data Preparation](#1)\n",
    "1. [Classify Function](#2)\n",
    "1. [Representations](#3)\n",
    "    1. Raw Data\n",
    "    1. [Difference Function](#4)\n",
    "    1. [PAA Function](#5)\n",
    "1. [Distances](#6)\n",
    "    1. [Raw Data](#7)\n",
    "    1. [Difference Data](#8)\n",
    "    1. [PAA Data](#9)\n",
    "1. [Main Model](#10)\n",
    "1. [Result of Models](#11)\n",
    "1. [Test Performance](#12)\n",
    "1. [Comments](#13)"
   ]
  },
  {
   "cell_type": "markdown",
   "metadata": {},
   "source": [
    "<a id=\"1\"></a>\n",
    "# Data Preparation"
   ]
  },
  {
   "cell_type": "code",
   "execution_count": 61,
   "metadata": {},
   "outputs": [],
   "source": [
    "dataset_path=\"D:/Datasets/Univariate2018_arff/Univariate_arff/\""
   ]
  },
  {
   "cell_type": "code",
   "execution_count": 62,
   "metadata": {},
   "outputs": [],
   "source": [
    "distance_path=\"C:/Users/bahad/GitHub/IE48B/Homework3/Distances/\""
   ]
  },
  {
   "cell_type": "code",
   "execution_count": 63,
   "metadata": {},
   "outputs": [],
   "source": [
    "first_dataset=\"Beef\"\n",
    "second_dataset=\"BirdChicken\"\n",
    "third_dataset=\"BMW\"\n",
    "fourth_dataset=\"Coffee\"\n",
    "fifth_dataset=\"Wine\""
   ]
  },
  {
   "cell_type": "markdown",
   "metadata": {},
   "source": [
    "## Loading Dataset"
   ]
  },
  {
   "cell_type": "code",
   "execution_count": 64,
   "metadata": {},
   "outputs": [],
   "source": [
    "traindata=as.matrix(fread(sprintf('%s%s/%s_TRAIN.txt',dataset_path, fourth_dataset,fourth_dataset)))"
   ]
  },
  {
   "cell_type": "code",
   "execution_count": 65,
   "metadata": {},
   "outputs": [
    {
     "data": {
      "text/html": [
       "<table>\n",
       "<thead><tr><th scope=col>V1</th><th scope=col>V2</th><th scope=col>V3</th><th scope=col>V4</th><th scope=col>V5</th><th scope=col>V6</th><th scope=col>V7</th><th scope=col>V8</th><th scope=col>V9</th><th scope=col>V10</th><th scope=col>...</th><th scope=col>V278</th><th scope=col>V279</th><th scope=col>V280</th><th scope=col>V281</th><th scope=col>V282</th><th scope=col>V283</th><th scope=col>V284</th><th scope=col>V285</th><th scope=col>V286</th><th scope=col>V287</th></tr></thead>\n",
       "<tbody>\n",
       "\t<tr><td>0         </td><td>-0.5184190</td><td>-0.4858836</td><td>-0.5050075</td><td>-0.5601829</td><td>-0.6362994</td><td>-0.7532290</td><td>-0.8272291</td><td>-0.8597647</td><td>-0.9063207</td><td>...       </td><td>-1.920125 </td><td>-1.922313 </td><td>-1.924212 </td><td>-1.926997 </td><td>-1.928721 </td><td>-1.930026 </td><td>-1.932301 </td><td>-1.933631 </td><td>-1.934964 </td><td>-1.936007 </td></tr>\n",
       "\t<tr><td>0         </td><td>-0.5484617</td><td>-0.5336808</td><td>-0.5147230</td><td>-0.5592555</td><td>-0.6268061</td><td>-0.7272836</td><td>-0.7963394</td><td>-0.8295523</td><td>-0.8630914</td><td>...       </td><td>-1.922542 </td><td>-1.925779 </td><td>-1.928604 </td><td>-1.932173 </td><td>-1.934748 </td><td>-1.935731 </td><td>-1.937072 </td><td>-1.940727 </td><td>-1.943786 </td><td>-1.944308 </td></tr>\n",
       "\t<tr><td>0         </td><td>-0.4726339</td><td>-0.4155460</td><td>-0.3599294</td><td>-0.4304963</td><td>-0.5521319</td><td>-0.6316207</td><td>-0.7325723</td><td>-0.8071204</td><td>-0.8372398</td><td>...       </td><td>-1.971076 </td><td>-1.974600 </td><td>-1.976788 </td><td>-1.979676 </td><td>-1.981696 </td><td>-1.984215 </td><td>-1.987586 </td><td>-1.989143 </td><td>-1.990659 </td><td>-1.992301 </td></tr>\n",
       "\t<tr><td>0         </td><td>-0.5095209</td><td>-0.4842175</td><td>-0.4779512</td><td>-0.5112869</td><td>-0.5585871</td><td>-0.6524283</td><td>-0.7452984</td><td>-0.7873563</td><td>-0.8182795</td><td>...       </td><td>-1.930869 </td><td>-1.933198 </td><td>-1.937328 </td><td>-1.941241 </td><td>-1.943985 </td><td>-1.945762 </td><td>-1.947613 </td><td>-1.950172 </td><td>-1.951748 </td><td>-1.952922 </td></tr>\n",
       "\t<tr><td>0         </td><td>-0.5634268</td><td>-0.5338962</td><td>-0.5438216</td><td>-0.5982462</td><td>-0.6902596</td><td>-0.7943840</td><td>-0.8841401</td><td>-0.9239700</td><td>-0.9395037</td><td>...       </td><td>-1.855820 </td><td>-1.857870 </td><td>-1.859198 </td><td>-1.861003 </td><td>-1.863121 </td><td>-1.865041 </td><td>-1.866122 </td><td>-1.866945 </td><td>-1.868419 </td><td>-1.869571 </td></tr>\n",
       "\t<tr><td>0         </td><td>-0.4414854</td><td>-0.4493659</td><td>-0.4445403</td><td>-0.4976200</td><td>-0.5806420</td><td>-0.6490550</td><td>-0.7425977</td><td>-0.8104691</td><td>-0.8254575</td><td>...       </td><td>-2.044548 </td><td>-2.045894 </td><td>-2.048417 </td><td>-2.053040 </td><td>-2.055719 </td><td>-2.056885 </td><td>-2.059849 </td><td>-2.062159 </td><td>-2.063178 </td><td>-2.064161 </td></tr>\n",
       "</tbody>\n",
       "</table>\n"
      ],
      "text/latex": [
       "\\begin{tabular}{lllllllllllllllllllllllllllllllllllllllllllllllllllllllllllllllllllllllllllllllllllllllllllllllllllllllllllllllllllllllllllllllllllllllllllllllllllllllllllllllllllllllllllllllllllllllllllllllllllllllllllllllllllllllllllllllllllllllllllllllllllllllllllllllllllllllllllllllllllllllllllllll}\n",
       " V1 & V2 & V3 & V4 & V5 & V6 & V7 & V8 & V9 & V10 & ... & V278 & V279 & V280 & V281 & V282 & V283 & V284 & V285 & V286 & V287\\\\\n",
       "\\hline\n",
       "\t 0          & -0.5184190 & -0.4858836 & -0.5050075 & -0.5601829 & -0.6362994 & -0.7532290 & -0.8272291 & -0.8597647 & -0.9063207 & ...        & -1.920125  & -1.922313  & -1.924212  & -1.926997  & -1.928721  & -1.930026  & -1.932301  & -1.933631  & -1.934964  & -1.936007 \\\\\n",
       "\t 0          & -0.5484617 & -0.5336808 & -0.5147230 & -0.5592555 & -0.6268061 & -0.7272836 & -0.7963394 & -0.8295523 & -0.8630914 & ...        & -1.922542  & -1.925779  & -1.928604  & -1.932173  & -1.934748  & -1.935731  & -1.937072  & -1.940727  & -1.943786  & -1.944308 \\\\\n",
       "\t 0          & -0.4726339 & -0.4155460 & -0.3599294 & -0.4304963 & -0.5521319 & -0.6316207 & -0.7325723 & -0.8071204 & -0.8372398 & ...        & -1.971076  & -1.974600  & -1.976788  & -1.979676  & -1.981696  & -1.984215  & -1.987586  & -1.989143  & -1.990659  & -1.992301 \\\\\n",
       "\t 0          & -0.5095209 & -0.4842175 & -0.4779512 & -0.5112869 & -0.5585871 & -0.6524283 & -0.7452984 & -0.7873563 & -0.8182795 & ...        & -1.930869  & -1.933198  & -1.937328  & -1.941241  & -1.943985  & -1.945762  & -1.947613  & -1.950172  & -1.951748  & -1.952922 \\\\\n",
       "\t 0          & -0.5634268 & -0.5338962 & -0.5438216 & -0.5982462 & -0.6902596 & -0.7943840 & -0.8841401 & -0.9239700 & -0.9395037 & ...        & -1.855820  & -1.857870  & -1.859198  & -1.861003  & -1.863121  & -1.865041  & -1.866122  & -1.866945  & -1.868419  & -1.869571 \\\\\n",
       "\t 0          & -0.4414854 & -0.4493659 & -0.4445403 & -0.4976200 & -0.5806420 & -0.6490550 & -0.7425977 & -0.8104691 & -0.8254575 & ...        & -2.044548  & -2.045894  & -2.048417  & -2.053040  & -2.055719  & -2.056885  & -2.059849  & -2.062159  & -2.063178  & -2.064161 \\\\\n",
       "\\end{tabular}\n"
      ],
      "text/markdown": [
       "\n",
       "| V1 | V2 | V3 | V4 | V5 | V6 | V7 | V8 | V9 | V10 | ... | V278 | V279 | V280 | V281 | V282 | V283 | V284 | V285 | V286 | V287 |\n",
       "|---|---|---|---|---|---|---|---|---|---|---|---|---|---|---|---|---|---|---|---|---|\n",
       "| 0          | -0.5184190 | -0.4858836 | -0.5050075 | -0.5601829 | -0.6362994 | -0.7532290 | -0.8272291 | -0.8597647 | -0.9063207 | ...        | -1.920125  | -1.922313  | -1.924212  | -1.926997  | -1.928721  | -1.930026  | -1.932301  | -1.933631  | -1.934964  | -1.936007  |\n",
       "| 0          | -0.5484617 | -0.5336808 | -0.5147230 | -0.5592555 | -0.6268061 | -0.7272836 | -0.7963394 | -0.8295523 | -0.8630914 | ...        | -1.922542  | -1.925779  | -1.928604  | -1.932173  | -1.934748  | -1.935731  | -1.937072  | -1.940727  | -1.943786  | -1.944308  |\n",
       "| 0          | -0.4726339 | -0.4155460 | -0.3599294 | -0.4304963 | -0.5521319 | -0.6316207 | -0.7325723 | -0.8071204 | -0.8372398 | ...        | -1.971076  | -1.974600  | -1.976788  | -1.979676  | -1.981696  | -1.984215  | -1.987586  | -1.989143  | -1.990659  | -1.992301  |\n",
       "| 0          | -0.5095209 | -0.4842175 | -0.4779512 | -0.5112869 | -0.5585871 | -0.6524283 | -0.7452984 | -0.7873563 | -0.8182795 | ...        | -1.930869  | -1.933198  | -1.937328  | -1.941241  | -1.943985  | -1.945762  | -1.947613  | -1.950172  | -1.951748  | -1.952922  |\n",
       "| 0          | -0.5634268 | -0.5338962 | -0.5438216 | -0.5982462 | -0.6902596 | -0.7943840 | -0.8841401 | -0.9239700 | -0.9395037 | ...        | -1.855820  | -1.857870  | -1.859198  | -1.861003  | -1.863121  | -1.865041  | -1.866122  | -1.866945  | -1.868419  | -1.869571  |\n",
       "| 0          | -0.4414854 | -0.4493659 | -0.4445403 | -0.4976200 | -0.5806420 | -0.6490550 | -0.7425977 | -0.8104691 | -0.8254575 | ...        | -2.044548  | -2.045894  | -2.048417  | -2.053040  | -2.055719  | -2.056885  | -2.059849  | -2.062159  | -2.063178  | -2.064161  |\n",
       "\n"
      ],
      "text/plain": [
       "     V1 V2         V3         V4         V5         V6         V7        \n",
       "[1,] 0  -0.5184190 -0.4858836 -0.5050075 -0.5601829 -0.6362994 -0.7532290\n",
       "[2,] 0  -0.5484617 -0.5336808 -0.5147230 -0.5592555 -0.6268061 -0.7272836\n",
       "[3,] 0  -0.4726339 -0.4155460 -0.3599294 -0.4304963 -0.5521319 -0.6316207\n",
       "[4,] 0  -0.5095209 -0.4842175 -0.4779512 -0.5112869 -0.5585871 -0.6524283\n",
       "[5,] 0  -0.5634268 -0.5338962 -0.5438216 -0.5982462 -0.6902596 -0.7943840\n",
       "[6,] 0  -0.4414854 -0.4493659 -0.4445403 -0.4976200 -0.5806420 -0.6490550\n",
       "     V8         V9         V10        ... V278      V279      V280     \n",
       "[1,] -0.8272291 -0.8597647 -0.9063207 ... -1.920125 -1.922313 -1.924212\n",
       "[2,] -0.7963394 -0.8295523 -0.8630914 ... -1.922542 -1.925779 -1.928604\n",
       "[3,] -0.7325723 -0.8071204 -0.8372398 ... -1.971076 -1.974600 -1.976788\n",
       "[4,] -0.7452984 -0.7873563 -0.8182795 ... -1.930869 -1.933198 -1.937328\n",
       "[5,] -0.8841401 -0.9239700 -0.9395037 ... -1.855820 -1.857870 -1.859198\n",
       "[6,] -0.7425977 -0.8104691 -0.8254575 ... -2.044548 -2.045894 -2.048417\n",
       "     V281      V282      V283      V284      V285      V286      V287     \n",
       "[1,] -1.926997 -1.928721 -1.930026 -1.932301 -1.933631 -1.934964 -1.936007\n",
       "[2,] -1.932173 -1.934748 -1.935731 -1.937072 -1.940727 -1.943786 -1.944308\n",
       "[3,] -1.979676 -1.981696 -1.984215 -1.987586 -1.989143 -1.990659 -1.992301\n",
       "[4,] -1.941241 -1.943985 -1.945762 -1.947613 -1.950172 -1.951748 -1.952922\n",
       "[5,] -1.861003 -1.863121 -1.865041 -1.866122 -1.866945 -1.868419 -1.869571\n",
       "[6,] -2.053040 -2.055719 -2.056885 -2.059849 -2.062159 -2.063178 -2.064161"
      ]
     },
     "metadata": {},
     "output_type": "display_data"
    }
   ],
   "source": [
    "head(traindata)"
   ]
  },
  {
   "cell_type": "code",
   "execution_count": 66,
   "metadata": {},
   "outputs": [
    {
     "name": "stdout",
     "output_type": "stream",
     "text": [
      " num [1:28, 1:287] 0 0 0 0 0 0 0 0 0 0 ...\n",
      " - attr(*, \"dimnames\")=List of 2\n",
      "  ..$ : NULL\n",
      "  ..$ : chr [1:287] \"V1\" \"V2\" \"V3\" \"V4\" ...\n"
     ]
    }
   ],
   "source": [
    "str(traindata)"
   ]
  },
  {
   "cell_type": "markdown",
   "metadata": {},
   "source": [
    "## Class Information"
   ]
  },
  {
   "cell_type": "code",
   "execution_count": 67,
   "metadata": {},
   "outputs": [],
   "source": [
    "trainclass=traindata[,1] "
   ]
  },
  {
   "cell_type": "markdown",
   "metadata": {},
   "source": [
    "## Time Series"
   ]
  },
  {
   "cell_type": "code",
   "execution_count": 68,
   "metadata": {},
   "outputs": [],
   "source": [
    "traindata=traindata[,2:ncol(traindata)]"
   ]
  },
  {
   "cell_type": "markdown",
   "metadata": {},
   "source": [
    "## Dataset Information"
   ]
  },
  {
   "cell_type": "code",
   "execution_count": 69,
   "metadata": {},
   "outputs": [],
   "source": [
    "tlength=ncol(traindata)\n",
    "n_series_train=nrow(traindata)"
   ]
  },
  {
   "cell_type": "markdown",
   "metadata": {},
   "source": [
    "## Indices for Datasets"
   ]
  },
  {
   "cell_type": "markdown",
   "metadata": {},
   "source": [
    "Mentioned test indices are obtained by TunePareto library to have identical conditions. nfold and ntimes parameters are selected as 10, 5 respectively."
   ]
  },
  {
   "cell_type": "code",
   "execution_count": 70,
   "metadata": {},
   "outputs": [],
   "source": [
    "set.seed(35)\n",
    "nof_rep=5\n",
    "n_fold=10"
   ]
  },
  {
   "cell_type": "code",
   "execution_count": 71,
   "metadata": {},
   "outputs": [
    {
     "name": "stdout",
     "output_type": "stream",
     "text": [
      "List of 5\n",
      " $ Run  1:List of 10\n",
      "  ..$ Fold  1 : int [1:3] 10 4 20\n",
      "  ..$ Fold  2 : int [1:3] 6 11 21\n",
      "  ..$ Fold  3 : int [1:3] 8 14 28\n",
      "  ..$ Fold  4 : int [1:3] 1 3 24\n",
      "  ..$ Fold  5 : int [1:3] 7 23 22\n",
      "  ..$ Fold  6 : int [1:3] 9 25 18\n",
      "  ..$ Fold  7 : int [1:3] 13 19 16\n",
      "  ..$ Fold  8 : int [1:3] 5 15 27\n",
      "  ..$ Fold  9 : int [1:2] 2 17\n",
      "  ..$ Fold  10: int [1:2] 12 26\n",
      " $ Run  2:List of 10\n",
      "  ..$ Fold  1 : int [1:3] 4 3 21\n",
      "  ..$ Fold  2 : int [1:3] 10 7 17\n",
      "  ..$ Fold  3 : int [1:3] 9 13 22\n",
      "  ..$ Fold  4 : int [1:3] 12 11 19\n",
      "  ..$ Fold  5 : int [1:3] 2 15 23\n",
      "  ..$ Fold  6 : int [1:3] 8 20 27\n",
      "  ..$ Fold  7 : int [1:3] 5 24 18\n",
      "  ..$ Fold  8 : int [1:3] 1 28 26\n",
      "  ..$ Fold  9 : int [1:2] 6 16\n",
      "  ..$ Fold  10: int [1:2] 14 25\n",
      " $ Run  3:List of 10\n",
      "  ..$ Fold  1 : int [1:3] 11 8 22\n",
      "  ..$ Fold  2 : int [1:3] 13 5 23\n",
      "  ..$ Fold  3 : int [1:3] 6 2 19\n",
      "  ..$ Fold  4 : int [1:3] 9 14 25\n",
      "  ..$ Fold  5 : int [1:3] 4 15 26\n",
      "  ..$ Fold  6 : int [1:3] 12 27 21\n",
      "  ..$ Fold  7 : int [1:3] 7 28 18\n",
      "  ..$ Fold  8 : int [1:3] 1 16 20\n",
      "  ..$ Fold  9 : int [1:2] 3 24\n",
      "  ..$ Fold  10: int [1:2] 10 17\n",
      " $ Run  4:List of 10\n",
      "  ..$ Fold  1 : int [1:3] 13 3 26\n",
      "  ..$ Fold  2 : int [1:3] 5 9 16\n",
      "  ..$ Fold  3 : int [1:3] 11 1 23\n",
      "  ..$ Fold  4 : int [1:3] 2 6 27\n",
      "  ..$ Fold  5 : int [1:3] 14 21 22\n",
      "  ..$ Fold  6 : int [1:3] 12 28 25\n",
      "  ..$ Fold  7 : int [1:3] 7 17 20\n",
      "  ..$ Fold  8 : int [1:3] 10 19 15\n",
      "  ..$ Fold  9 : int [1:2] 4 18\n",
      "  ..$ Fold  10: int [1:2] 8 24\n",
      " $ Run  5:List of 10\n",
      "  ..$ Fold  1 : int [1:3] 12 2 15\n",
      "  ..$ Fold  2 : int [1:3] 8 1 21\n",
      "  ..$ Fold  3 : int [1:3] 7 13 27\n",
      "  ..$ Fold  4 : int [1:3] 3 10 16\n",
      "  ..$ Fold  5 : int [1:3] 5 19 28\n",
      "  ..$ Fold  6 : int [1:3] 14 22 26\n",
      "  ..$ Fold  7 : int [1:3] 11 25 24\n",
      "  ..$ Fold  8 : int [1:3] 9 23 20\n",
      "  ..$ Fold  9 : int [1:2] 6 18\n",
      "  ..$ Fold  10: int [1:2] 4 17\n"
     ]
    }
   ],
   "source": [
    "cv_indices=generateCVRuns(trainclass, ntimes =nof_rep, nfold = n_fold, \n",
    "                          leaveOneOut = FALSE, stratified = TRUE)\n",
    "\n",
    "str(cv_indices)"
   ]
  },
  {
   "cell_type": "markdown",
   "metadata": {},
   "source": [
    "<a id=\"2\"></a>\n",
    "# Classify Function"
   ]
  },
  {
   "cell_type": "markdown",
   "metadata": {},
   "source": [
    "Classify function is obtained from lecture notebooks. Function takes 4 different parameters, distance matrix, class information, test indeces and k parameter."
   ]
  },
  {
   "cell_type": "code",
   "execution_count": 72,
   "metadata": {},
   "outputs": [],
   "source": [
    "nn_classify_cv=function(dist_matrix,train_class,test_indices,k){\n",
    "    \n",
    "    test_distances_to_train=dist_matrix[test_indices,]\n",
    "    test_distances_to_train=test_distances_to_train[,-test_indices]\n",
    "    train_class=train_class[-test_indices]\n",
    "\n",
    "    ordered_indices=apply(test_distances_to_train,1,order)\n",
    "    if(k==1){\n",
    "        nearest_class=as.numeric(train_class[as.numeric(ordered_indices[1,])])\n",
    "        nearest_class=data.table(id=test_indices,nearest_class)\n",
    "    } else {\n",
    "        nearest_class=apply(ordered_indices[1:k,],2,function(x) {train_class[x]})\n",
    "        nearest_class=data.table(id=test_indices,t(nearest_class))\n",
    "    }\n",
    "    \n",
    "    long_nn_class=melt(nearest_class,'id')\n",
    "\n",
    "    class_counts=long_nn_class[,.N,list(id,value)]\n",
    "    class_counts[,predicted_prob:=N/k]\n",
    "    wide_class_prob_predictions=dcast(class_counts,id~value,value.var='predicted_prob')\n",
    "    wide_class_prob_predictions[is.na(wide_class_prob_predictions)]=0\n",
    "    class_predictions=class_counts[,list(predicted=value[which.max(N)]),by=list(id)]\n",
    "    \n",
    "    \n",
    "    return(list(prediction=class_predictions,prob_estimates=wide_class_prob_predictions))\n",
    "    \n",
    "}"
   ]
  },
  {
   "cell_type": "code",
   "execution_count": null,
   "metadata": {},
   "outputs": [],
   "source": []
  },
  {
   "cell_type": "markdown",
   "metadata": {},
   "source": [
    "<a id=\"3\"></a>\n",
    "# Representations"
   ]
  },
  {
   "cell_type": "markdown",
   "metadata": {},
   "source": [
    "There are 3 major representations, raw dataset, difference taken dataset, and paa representation. For difference taken dataset 1 and 2 will be used in shift operator. At the beginning, an example code will be given to show obtained dataframes in difference datasets. For paa dataset 13 and 26 will be used in segment length parameter. At the beginning, an example code will be given to show obtained dataframes in paa datasets."
   ]
  },
  {
   "cell_type": "markdown",
   "metadata": {},
   "source": [
    "## Example Code for difference datasets"
   ]
  },
  {
   "cell_type": "code",
   "execution_count": 73,
   "metadata": {
    "scrolled": true
   },
   "outputs": [
    {
     "data": {
      "text/html": [
       "<table>\n",
       "<thead><tr><th scope=col>id</th><th scope=col>variable</th><th scope=col>value</th><th scope=col>time</th><th scope=col>diff_series</th></tr></thead>\n",
       "<tbody>\n",
       "\t<tr><td>1          </td><td>V2         </td><td>-0.5184190 </td><td>1          </td><td>         NA</td></tr>\n",
       "\t<tr><td>1          </td><td>V3         </td><td>-0.4858836 </td><td>2          </td><td> 0.03253536</td></tr>\n",
       "\t<tr><td>1          </td><td>V4         </td><td>-0.5050075 </td><td>3          </td><td>-0.01912384</td></tr>\n",
       "\t<tr><td>1          </td><td>V5         </td><td>-0.5601829 </td><td>4          </td><td>-0.05517547</td></tr>\n",
       "\t<tr><td>1          </td><td>V6         </td><td>-0.6362994 </td><td>5          </td><td>-0.07611647</td></tr>\n",
       "\t<tr><td>1          </td><td>V7         </td><td>-0.7532290 </td><td>6          </td><td>-0.11692961</td></tr>\n",
       "</tbody>\n",
       "</table>\n"
      ],
      "text/latex": [
       "\\begin{tabular}{r|lllll}\n",
       " id & variable & value & time & diff\\_series\\\\\n",
       "\\hline\n",
       "\t 1           & V2          & -0.5184190  & 1           &          NA\\\\\n",
       "\t 1           & V3          & -0.4858836  & 2           &  0.03253536\\\\\n",
       "\t 1           & V4          & -0.5050075  & 3           & -0.01912384\\\\\n",
       "\t 1           & V5          & -0.5601829  & 4           & -0.05517547\\\\\n",
       "\t 1           & V6          & -0.6362994  & 5           & -0.07611647\\\\\n",
       "\t 1           & V7          & -0.7532290  & 6           & -0.11692961\\\\\n",
       "\\end{tabular}\n"
      ],
      "text/markdown": [
       "\n",
       "| id | variable | value | time | diff_series |\n",
       "|---|---|---|---|---|\n",
       "| 1           | V2          | -0.5184190  | 1           |          NA |\n",
       "| 1           | V3          | -0.4858836  | 2           |  0.03253536 |\n",
       "| 1           | V4          | -0.5050075  | 3           | -0.01912384 |\n",
       "| 1           | V5          | -0.5601829  | 4           | -0.05517547 |\n",
       "| 1           | V6          | -0.6362994  | 5           | -0.07611647 |\n",
       "| 1           | V7          | -0.7532290  | 6           | -0.11692961 |\n",
       "\n"
      ],
      "text/plain": [
       "  id variable value      time diff_series\n",
       "1 1  V2       -0.5184190 1             NA\n",
       "2 1  V3       -0.4858836 2     0.03253536\n",
       "3 1  V4       -0.5050075 3    -0.01912384\n",
       "4 1  V5       -0.5601829 4    -0.05517547\n",
       "5 1  V6       -0.6362994 5    -0.07611647\n",
       "6 1  V7       -0.7532290 6    -0.11692961"
      ]
     },
     "metadata": {},
     "output_type": "display_data"
    }
   ],
   "source": [
    "dt_ts_train=data.table(traindata)\n",
    "dt_ts_train[,id:=1:.N]\n",
    "long_train=melt(dt_ts_train,id.vars=c('id'))\n",
    "long_train[,time:=as.numeric(gsub(\"\\\\D\", \"\", variable))-1]\n",
    "long_train=long_train[order(id,time)]\n",
    "diff_long=copy(long_train)\n",
    "diff_long[,diff_series:=value-shift(value,1),by=list(id)]\n",
    "head(diff_long)"
   ]
  },
  {
   "cell_type": "code",
   "execution_count": 74,
   "metadata": {
    "scrolled": true
   },
   "outputs": [
    {
     "data": {
      "text/html": [
       "<table>\n",
       "<thead><tr><th scope=col>2</th><th scope=col>3</th><th scope=col>4</th><th scope=col>5</th><th scope=col>6</th><th scope=col>7</th><th scope=col>8</th><th scope=col>9</th><th scope=col>10</th><th scope=col>11</th><th scope=col>...</th><th scope=col>277</th><th scope=col>278</th><th scope=col>279</th><th scope=col>280</th><th scope=col>281</th><th scope=col>282</th><th scope=col>283</th><th scope=col>284</th><th scope=col>285</th><th scope=col>286</th></tr></thead>\n",
       "<tbody>\n",
       "\t<tr><td> 0.03253536</td><td>-0.01912384</td><td>-0.05517547</td><td>-0.07611647</td><td>-0.11692961</td><td>-0.07400013</td><td>-0.03253552</td><td>-0.04655605</td><td>-0.01747576</td><td>-0.00941574</td><td>...        </td><td>-0.0019317 </td><td>-0.0021883 </td><td>-0.0018993 </td><td>-0.0027843 </td><td>-0.0017243 </td><td>-0.0013054 </td><td>-0.0022752 </td><td>-0.0013294 </td><td>-0.0013327 </td><td>-0.0010432 </td></tr>\n",
       "\t<tr><td> 0.01478087</td><td> 0.01895787</td><td>-0.04453259</td><td>-0.06755058</td><td>-0.10047749</td><td>-0.06905574</td><td>-0.03321291</td><td>-0.03353916</td><td> 0.00490994</td><td> 0.00389329</td><td>...        </td><td>-0.0027429 </td><td>-0.0032366 </td><td>-0.0028251 </td><td>-0.0035696 </td><td>-0.0025746 </td><td>-0.0009827 </td><td>-0.0013411 </td><td>-0.0036556 </td><td>-0.0030584 </td><td>-0.0005225 </td></tr>\n",
       "\t<tr><td> 0.05708788</td><td> 0.05561664</td><td>-0.07056694</td><td>-0.12163556</td><td>-0.07948878</td><td>-0.10095166</td><td>-0.07454809</td><td>-0.03011933</td><td>-0.01295425</td><td>-0.00177044</td><td>...        </td><td>-0.0034303 </td><td>-0.0035243 </td><td>-0.0021878 </td><td>-0.0028881 </td><td>-0.0020197 </td><td>-0.0025197 </td><td>-0.0033707 </td><td>-0.0015567 </td><td>-0.0015160 </td><td>-0.0016418 </td></tr>\n",
       "\t<tr><td> 0.02530337</td><td> 0.00626636</td><td>-0.03333568</td><td>-0.04730026</td><td>-0.09384114</td><td>-0.09287011</td><td>-0.04205795</td><td>-0.03092318</td><td>-0.00777037</td><td>-0.00397302</td><td>...        </td><td>-0.0033078 </td><td>-0.0023283 </td><td>-0.0041307 </td><td>-0.0039128 </td><td>-0.0027437 </td><td>-0.0017768 </td><td>-0.0018510 </td><td>-0.0025589 </td><td>-0.0015760 </td><td>-0.0011741 </td></tr>\n",
       "\t<tr><td> 0.02953055</td><td>-0.00992538</td><td>-0.05442465</td><td>-0.09201337</td><td>-0.10412434</td><td>-0.08975611</td><td>-0.03982988</td><td>-0.01553371</td><td>-0.01401202</td><td>-0.00542412</td><td>...        </td><td>-0.0028115 </td><td>-0.0020495 </td><td>-0.0013279 </td><td>-0.0018052 </td><td>-0.0021182 </td><td>-0.0019200 </td><td>-0.0010815 </td><td>-0.0008222 </td><td>-0.0014744 </td><td>-0.0011524 </td></tr>\n",
       "\t<tr><td>-0.00788045</td><td> 0.00482562</td><td>-0.05307979</td><td>-0.08302197</td><td>-0.06841294</td><td>-0.09354278</td><td>-0.06787134</td><td>-0.01498843</td><td>-0.01132876</td><td>-0.02562906</td><td>...        </td><td>-0.0022004 </td><td>-0.0013459 </td><td>-0.0025231 </td><td>-0.0046228 </td><td>-0.0026792 </td><td>-0.0011660 </td><td>-0.0029633 </td><td>-0.0023107 </td><td>-0.0010190 </td><td>-0.0009825 </td></tr>\n",
       "</tbody>\n",
       "</table>\n"
      ],
      "text/latex": [
       "\\begin{tabular}{r|lllllllllllllllllllllllllllllllllllllllllllllllllllllllllllllllllllllllllllllllllllllllllllllllllllllllllllllllllllllllllllllllllllllllllllllllllllllllllllllllllllllllllllllllllllllllllllllllllllllllllllllllllllllllllllllllllllllllllllllllllllllllllllllllllllllllllllllllllllllllllllll}\n",
       " 2 & 3 & 4 & 5 & 6 & 7 & 8 & 9 & 10 & 11 & ... & 277 & 278 & 279 & 280 & 281 & 282 & 283 & 284 & 285 & 286\\\\\n",
       "\\hline\n",
       "\t  0.03253536 & -0.01912384 & -0.05517547 & -0.07611647 & -0.11692961 & -0.07400013 & -0.03253552 & -0.04655605 & -0.01747576 & -0.00941574 & ...         & -0.0019317  & -0.0021883  & -0.0018993  & -0.0027843  & -0.0017243  & -0.0013054  & -0.0022752  & -0.0013294  & -0.0013327  & -0.0010432 \\\\\n",
       "\t  0.01478087 &  0.01895787 & -0.04453259 & -0.06755058 & -0.10047749 & -0.06905574 & -0.03321291 & -0.03353916 &  0.00490994 &  0.00389329 & ...         & -0.0027429  & -0.0032366  & -0.0028251  & -0.0035696  & -0.0025746  & -0.0009827  & -0.0013411  & -0.0036556  & -0.0030584  & -0.0005225 \\\\\n",
       "\t  0.05708788 &  0.05561664 & -0.07056694 & -0.12163556 & -0.07948878 & -0.10095166 & -0.07454809 & -0.03011933 & -0.01295425 & -0.00177044 & ...         & -0.0034303  & -0.0035243  & -0.0021878  & -0.0028881  & -0.0020197  & -0.0025197  & -0.0033707  & -0.0015567  & -0.0015160  & -0.0016418 \\\\\n",
       "\t  0.02530337 &  0.00626636 & -0.03333568 & -0.04730026 & -0.09384114 & -0.09287011 & -0.04205795 & -0.03092318 & -0.00777037 & -0.00397302 & ...         & -0.0033078  & -0.0023283  & -0.0041307  & -0.0039128  & -0.0027437  & -0.0017768  & -0.0018510  & -0.0025589  & -0.0015760  & -0.0011741 \\\\\n",
       "\t  0.02953055 & -0.00992538 & -0.05442465 & -0.09201337 & -0.10412434 & -0.08975611 & -0.03982988 & -0.01553371 & -0.01401202 & -0.00542412 & ...         & -0.0028115  & -0.0020495  & -0.0013279  & -0.0018052  & -0.0021182  & -0.0019200  & -0.0010815  & -0.0008222  & -0.0014744  & -0.0011524 \\\\\n",
       "\t -0.00788045 &  0.00482562 & -0.05307979 & -0.08302197 & -0.06841294 & -0.09354278 & -0.06787134 & -0.01498843 & -0.01132876 & -0.02562906 & ...         & -0.0022004  & -0.0013459  & -0.0025231  & -0.0046228  & -0.0026792  & -0.0011660  & -0.0029633  & -0.0023107  & -0.0010190  & -0.0009825 \\\\\n",
       "\\end{tabular}\n"
      ],
      "text/markdown": [
       "\n",
       "| 2 | 3 | 4 | 5 | 6 | 7 | 8 | 9 | 10 | 11 | ... | 277 | 278 | 279 | 280 | 281 | 282 | 283 | 284 | 285 | 286 |\n",
       "|---|---|---|---|---|---|---|---|---|---|---|---|---|---|---|---|---|---|---|---|---|\n",
       "|  0.03253536 | -0.01912384 | -0.05517547 | -0.07611647 | -0.11692961 | -0.07400013 | -0.03253552 | -0.04655605 | -0.01747576 | -0.00941574 | ...         | -0.0019317  | -0.0021883  | -0.0018993  | -0.0027843  | -0.0017243  | -0.0013054  | -0.0022752  | -0.0013294  | -0.0013327  | -0.0010432  |\n",
       "|  0.01478087 |  0.01895787 | -0.04453259 | -0.06755058 | -0.10047749 | -0.06905574 | -0.03321291 | -0.03353916 |  0.00490994 |  0.00389329 | ...         | -0.0027429  | -0.0032366  | -0.0028251  | -0.0035696  | -0.0025746  | -0.0009827  | -0.0013411  | -0.0036556  | -0.0030584  | -0.0005225  |\n",
       "|  0.05708788 |  0.05561664 | -0.07056694 | -0.12163556 | -0.07948878 | -0.10095166 | -0.07454809 | -0.03011933 | -0.01295425 | -0.00177044 | ...         | -0.0034303  | -0.0035243  | -0.0021878  | -0.0028881  | -0.0020197  | -0.0025197  | -0.0033707  | -0.0015567  | -0.0015160  | -0.0016418  |\n",
       "|  0.02530337 |  0.00626636 | -0.03333568 | -0.04730026 | -0.09384114 | -0.09287011 | -0.04205795 | -0.03092318 | -0.00777037 | -0.00397302 | ...         | -0.0033078  | -0.0023283  | -0.0041307  | -0.0039128  | -0.0027437  | -0.0017768  | -0.0018510  | -0.0025589  | -0.0015760  | -0.0011741  |\n",
       "|  0.02953055 | -0.00992538 | -0.05442465 | -0.09201337 | -0.10412434 | -0.08975611 | -0.03982988 | -0.01553371 | -0.01401202 | -0.00542412 | ...         | -0.0028115  | -0.0020495  | -0.0013279  | -0.0018052  | -0.0021182  | -0.0019200  | -0.0010815  | -0.0008222  | -0.0014744  | -0.0011524  |\n",
       "| -0.00788045 |  0.00482562 | -0.05307979 | -0.08302197 | -0.06841294 | -0.09354278 | -0.06787134 | -0.01498843 | -0.01132876 | -0.02562906 | ...         | -0.0022004  | -0.0013459  | -0.0025231  | -0.0046228  | -0.0026792  | -0.0011660  | -0.0029633  | -0.0023107  | -0.0010190  | -0.0009825  |\n",
       "\n"
      ],
      "text/plain": [
       "  2           3           4           5           6           7          \n",
       "1  0.03253536 -0.01912384 -0.05517547 -0.07611647 -0.11692961 -0.07400013\n",
       "2  0.01478087  0.01895787 -0.04453259 -0.06755058 -0.10047749 -0.06905574\n",
       "3  0.05708788  0.05561664 -0.07056694 -0.12163556 -0.07948878 -0.10095166\n",
       "4  0.02530337  0.00626636 -0.03333568 -0.04730026 -0.09384114 -0.09287011\n",
       "5  0.02953055 -0.00992538 -0.05442465 -0.09201337 -0.10412434 -0.08975611\n",
       "6 -0.00788045  0.00482562 -0.05307979 -0.08302197 -0.06841294 -0.09354278\n",
       "  8           9           10          11          ... 277        278       \n",
       "1 -0.03253552 -0.04655605 -0.01747576 -0.00941574 ... -0.0019317 -0.0021883\n",
       "2 -0.03321291 -0.03353916  0.00490994  0.00389329 ... -0.0027429 -0.0032366\n",
       "3 -0.07454809 -0.03011933 -0.01295425 -0.00177044 ... -0.0034303 -0.0035243\n",
       "4 -0.04205795 -0.03092318 -0.00777037 -0.00397302 ... -0.0033078 -0.0023283\n",
       "5 -0.03982988 -0.01553371 -0.01401202 -0.00542412 ... -0.0028115 -0.0020495\n",
       "6 -0.06787134 -0.01498843 -0.01132876 -0.02562906 ... -0.0022004 -0.0013459\n",
       "  279        280        281        282        283        284        285       \n",
       "1 -0.0018993 -0.0027843 -0.0017243 -0.0013054 -0.0022752 -0.0013294 -0.0013327\n",
       "2 -0.0028251 -0.0035696 -0.0025746 -0.0009827 -0.0013411 -0.0036556 -0.0030584\n",
       "3 -0.0021878 -0.0028881 -0.0020197 -0.0025197 -0.0033707 -0.0015567 -0.0015160\n",
       "4 -0.0041307 -0.0039128 -0.0027437 -0.0017768 -0.0018510 -0.0025589 -0.0015760\n",
       "5 -0.0013279 -0.0018052 -0.0021182 -0.0019200 -0.0010815 -0.0008222 -0.0014744\n",
       "6 -0.0025231 -0.0046228 -0.0026792 -0.0011660 -0.0029633 -0.0023107 -0.0010190\n",
       "  286       \n",
       "1 -0.0010432\n",
       "2 -0.0005225\n",
       "3 -0.0016418\n",
       "4 -0.0011741\n",
       "5 -0.0011524\n",
       "6 -0.0009825"
      ]
     },
     "metadata": {},
     "output_type": "display_data"
    }
   ],
   "source": [
    "diff_train=dcast(diff_long[!is.na(diff_series)],id~time,value.var='diff_series')\n",
    "diff_train=diff_train[,-c(\"id\")]\n",
    "head(diff_train)\n",
    "diff_train=as.matrix(diff_train)"
   ]
  },
  {
   "cell_type": "markdown",
   "metadata": {},
   "source": [
    "<a id=\"4\"></a>\n",
    "## Difference Function"
   ]
  },
  {
   "cell_type": "code",
   "execution_count": 75,
   "metadata": {},
   "outputs": [],
   "source": [
    "difference_obtainer=function(traindata, diff_value){\n",
    "    dt_ts_train=data.table(traindata)\n",
    "    dt_ts_train[,id:=1:.N]\n",
    "    long_train=melt(dt_ts_train,id.vars=c('id'))\n",
    "    long_train[,time:=as.numeric(gsub(\"\\\\D\", \"\", variable))-1]\n",
    "    long_train=long_train[order(id,time)]\n",
    "    diff_long=copy(long_train)\n",
    "    diff_long[,diff_series:=value-shift(value,diff_value),by=list(id)]#Lag value is assigned by diff_value\n",
    "    head(diff_long)\n",
    "    \n",
    "    diff_train=dcast(diff_long[!is.na(diff_series)],id~time,value.var='diff_series')\n",
    "    diff_train=diff_train[,-c(\"id\")]\n",
    "    head(diff_train)\n",
    "    diff_train=as.matrix(diff_train)\n",
    "    \n",
    "    return(diff_train)\n",
    "}"
   ]
  },
  {
   "cell_type": "markdown",
   "metadata": {},
   "source": [
    "This function will be used to get a difference dataset. \"_2\" string will be used to mention 2 differences taken dataset."
   ]
  },
  {
   "cell_type": "markdown",
   "metadata": {},
   "source": [
    "###  1 Difference"
   ]
  },
  {
   "cell_type": "code",
   "execution_count": 76,
   "metadata": {},
   "outputs": [],
   "source": [
    "diff_train=difference_obtainer(traindata,1)"
   ]
  },
  {
   "cell_type": "markdown",
   "metadata": {},
   "source": [
    "### 2 Difference"
   ]
  },
  {
   "cell_type": "code",
   "execution_count": 77,
   "metadata": {},
   "outputs": [],
   "source": [
    "diff_train_2=difference_obtainer(traindata,2)"
   ]
  },
  {
   "cell_type": "code",
   "execution_count": null,
   "metadata": {},
   "outputs": [],
   "source": []
  },
  {
   "cell_type": "code",
   "execution_count": null,
   "metadata": {},
   "outputs": [],
   "source": []
  },
  {
   "cell_type": "markdown",
   "metadata": {},
   "source": [
    "## Example Code for PAA"
   ]
  },
  {
   "cell_type": "code",
   "execution_count": 78,
   "metadata": {},
   "outputs": [],
   "source": [
    "segment_length=5"
   ]
  },
  {
   "cell_type": "code",
   "execution_count": 79,
   "metadata": {},
   "outputs": [],
   "source": [
    "paa_results=vector(\"list\", max(long_train$id))"
   ]
  },
  {
   "cell_type": "code",
   "execution_count": 80,
   "metadata": {
    "scrolled": false
   },
   "outputs": [],
   "source": [
    "for(i in 1:max(long_train$id)){\n",
    "    current_ts=long_train[id==i,]$value\n",
    "    \n",
    "    paa_rep=repr_paa(current_ts, segment_length, meanC)\n",
    "    current_dt=data.table(time=1:length(long_train[id==i,]$value))\n",
    "    result_dt=data.table(time=c(1:(length(paa_rep)))*segment_length, values=paa_rep)\n",
    "    all_dt=merge(current_dt, result_dt, by='time',all.x=T)\n",
    "    all_dt[,values:=nafill(values,'nocb')]\n",
    "    paa_results[[i]]=transpose(data.table(values=all_dt$values))\n",
    "    \n",
    "}"
   ]
  },
  {
   "cell_type": "code",
   "execution_count": 81,
   "metadata": {},
   "outputs": [],
   "source": [
    "paa_train=rbindlist(paa_results)"
   ]
  },
  {
   "cell_type": "code",
   "execution_count": 82,
   "metadata": {},
   "outputs": [
    {
     "data": {
      "text/html": [
       "<table>\n",
       "<thead><tr><th scope=col>V1</th><th scope=col>V2</th><th scope=col>V3</th><th scope=col>V4</th><th scope=col>V5</th><th scope=col>V6</th><th scope=col>V7</th><th scope=col>V8</th><th scope=col>V9</th><th scope=col>V10</th><th scope=col>...</th><th scope=col>V277</th><th scope=col>V278</th><th scope=col>V279</th><th scope=col>V280</th><th scope=col>V281</th><th scope=col>V282</th><th scope=col>V283</th><th scope=col>V284</th><th scope=col>V285</th><th scope=col>V286</th></tr></thead>\n",
       "<tbody>\n",
       "\t<tr><td>-0.5411585</td><td>-0.5411585</td><td>-0.5411585</td><td>-0.5411585</td><td>-0.5411585</td><td>-0.8540680</td><td>-0.8540680</td><td>-0.8540680</td><td>-0.8540680</td><td>-0.8540680</td><td>...       </td><td>-1.922368 </td><td>-1.922368 </td><td>-1.922368 </td><td>-1.922368 </td><td>-1.931929 </td><td>-1.931929 </td><td>-1.931929 </td><td>-1.931929 </td><td>-1.931929 </td><td>NA        </td></tr>\n",
       "\t<tr><td>-0.5565854</td><td>-0.5565854</td><td>-0.5565854</td><td>-0.5565854</td><td>-0.5565854</td><td>-0.8148896</td><td>-0.8148896</td><td>-0.8148896</td><td>-0.8148896</td><td>-0.8148896</td><td>...       </td><td>-1.925779 </td><td>-1.925779 </td><td>-1.925779 </td><td>-1.925779 </td><td>-1.938413 </td><td>-1.938413 </td><td>-1.938413 </td><td>-1.938413 </td><td>-1.938413 </td><td>NA        </td></tr>\n",
       "\t<tr><td>-0.4461475</td><td>-0.4461475</td><td>-0.4461475</td><td>-0.4461475</td><td>-0.4461475</td><td>-0.7717494</td><td>-0.7717494</td><td>-0.7717494</td><td>-0.7717494</td><td>-0.7717494</td><td>...       </td><td>-1.973957 </td><td>-1.973957 </td><td>-1.973957 </td><td>-1.973957 </td><td>-1.986660 </td><td>-1.986660 </td><td>-1.986660 </td><td>-1.986660 </td><td>-1.986660 </td><td>NA        </td></tr>\n",
       "\t<tr><td>-0.5083127</td><td>-0.5083127</td><td>-0.5083127</td><td>-0.5083127</td><td>-0.5083127</td><td>-0.7658825</td><td>-0.7658825</td><td>-0.7658825</td><td>-0.7658825</td><td>-0.7658825</td><td>...       </td><td>-1.934040 </td><td>-1.934040 </td><td>-1.934040 </td><td>-1.934040 </td><td>-1.947856 </td><td>-1.947856 </td><td>-1.947856 </td><td>-1.947856 </td><td>-1.947856 </td><td>NA        </td></tr>\n",
       "\t<tr><td>-0.5859301</td><td>-0.5859301</td><td>-0.5859301</td><td>-0.5859301</td><td>-0.5859301</td><td>-0.8991027</td><td>-0.8991027</td><td>-0.8991027</td><td>-0.8991027</td><td>-0.8991027</td><td>...       </td><td>-1.857380 </td><td>-1.857380 </td><td>-1.857380 </td><td>-1.857380 </td><td>-1.865930 </td><td>-1.865930 </td><td>-1.865930 </td><td>-1.865930 </td><td>-1.865930 </td><td>NA        </td></tr>\n",
       "\t<tr><td>-0.4827307</td><td>-0.4827307</td><td>-0.4827307</td><td>-0.4827307</td><td>-0.4827307</td><td>-0.7728731</td><td>-0.7728731</td><td>-0.7728731</td><td>-0.7728731</td><td>-0.7728731</td><td>...       </td><td>-2.046850 </td><td>-2.046850 </td><td>-2.046850 </td><td>-2.046850 </td><td>-2.059558 </td><td>-2.059558 </td><td>-2.059558 </td><td>-2.059558 </td><td>-2.059558 </td><td>NA        </td></tr>\n",
       "\t<tr><td>-0.4806861</td><td>-0.4806861</td><td>-0.4806861</td><td>-0.4806861</td><td>-0.4806861</td><td>-0.7791753</td><td>-0.7791753</td><td>-0.7791753</td><td>-0.7791753</td><td>-0.7791753</td><td>...       </td><td>-1.890993 </td><td>-1.890993 </td><td>-1.890993 </td><td>-1.890993 </td><td>-1.902057 </td><td>-1.902057 </td><td>-1.902057 </td><td>-1.902057 </td><td>-1.902057 </td><td>NA        </td></tr>\n",
       "\t<tr><td>-0.4367111</td><td>-0.4367111</td><td>-0.4367111</td><td>-0.4367111</td><td>-0.4367111</td><td>-0.7365598</td><td>-0.7365598</td><td>-0.7365598</td><td>-0.7365598</td><td>-0.7365598</td><td>...       </td><td>-1.977570 </td><td>-1.977570 </td><td>-1.977570 </td><td>-1.977570 </td><td>-1.992024 </td><td>-1.992024 </td><td>-1.992024 </td><td>-1.992024 </td><td>-1.992024 </td><td>NA        </td></tr>\n",
       "\t<tr><td>-0.6017844</td><td>-0.6017844</td><td>-0.6017844</td><td>-0.6017844</td><td>-0.6017844</td><td>-0.8296413</td><td>-0.8296413</td><td>-0.8296413</td><td>-0.8296413</td><td>-0.8296413</td><td>...       </td><td>-1.819104 </td><td>-1.819104 </td><td>-1.819104 </td><td>-1.819104 </td><td>-1.828807 </td><td>-1.828807 </td><td>-1.828807 </td><td>-1.828807 </td><td>-1.828807 </td><td>NA        </td></tr>\n",
       "\t<tr><td>-0.6565392</td><td>-0.6565392</td><td>-0.6565392</td><td>-0.6565392</td><td>-0.6565392</td><td>-0.9546911</td><td>-0.9546911</td><td>-0.9546911</td><td>-0.9546911</td><td>-0.9546911</td><td>...       </td><td>-1.881285 </td><td>-1.881285 </td><td>-1.881285 </td><td>-1.881285 </td><td>-1.892077 </td><td>-1.892077 </td><td>-1.892077 </td><td>-1.892077 </td><td>-1.892077 </td><td>NA        </td></tr>\n",
       "\t<tr><td>-0.6737459</td><td>-0.6737459</td><td>-0.6737459</td><td>-0.6737459</td><td>-0.6737459</td><td>-0.8825258</td><td>-0.8825258</td><td>-0.8825258</td><td>-0.8825258</td><td>-0.8825258</td><td>...       </td><td>-1.728525 </td><td>-1.728525 </td><td>-1.728525 </td><td>-1.728525 </td><td>-1.737503 </td><td>-1.737503 </td><td>-1.737503 </td><td>-1.737503 </td><td>-1.737503 </td><td>NA        </td></tr>\n",
       "\t<tr><td>-0.6667397</td><td>-0.6667397</td><td>-0.6667397</td><td>-0.6667397</td><td>-0.6667397</td><td>-0.9901081</td><td>-0.9901081</td><td>-0.9901081</td><td>-0.9901081</td><td>-0.9901081</td><td>...       </td><td>-1.856445 </td><td>-1.856445 </td><td>-1.856445 </td><td>-1.856445 </td><td>-1.865208 </td><td>-1.865208 </td><td>-1.865208 </td><td>-1.865208 </td><td>-1.865208 </td><td>NA        </td></tr>\n",
       "\t<tr><td>-0.6431197</td><td>-0.6431197</td><td>-0.6431197</td><td>-0.6431197</td><td>-0.6431197</td><td>-0.9363855</td><td>-0.9363855</td><td>-0.9363855</td><td>-0.9363855</td><td>-0.9363855</td><td>...       </td><td>-1.782230 </td><td>-1.782230 </td><td>-1.782230 </td><td>-1.782230 </td><td>-1.790404 </td><td>-1.790404 </td><td>-1.790404 </td><td>-1.790404 </td><td>-1.790404 </td><td>NA        </td></tr>\n",
       "\t<tr><td>-0.6255889</td><td>-0.6255889</td><td>-0.6255889</td><td>-0.6255889</td><td>-0.6255889</td><td>-0.9008191</td><td>-0.9008191</td><td>-0.9008191</td><td>-0.9008191</td><td>-0.9008191</td><td>...       </td><td>-1.737229 </td><td>-1.737229 </td><td>-1.737229 </td><td>-1.737229 </td><td>-1.745022 </td><td>-1.745022 </td><td>-1.745022 </td><td>-1.745022 </td><td>-1.745022 </td><td>NA        </td></tr>\n",
       "\t<tr><td>-0.5313836</td><td>-0.5313836</td><td>-0.5313836</td><td>-0.5313836</td><td>-0.5313836</td><td>-0.8368334</td><td>-0.8368334</td><td>-0.8368334</td><td>-0.8368334</td><td>-0.8368334</td><td>...       </td><td>-1.853736 </td><td>-1.853736 </td><td>-1.853736 </td><td>-1.853736 </td><td>-1.864545 </td><td>-1.864545 </td><td>-1.864545 </td><td>-1.864545 </td><td>-1.864545 </td><td>NA        </td></tr>\n",
       "\t<tr><td>-0.4705522</td><td>-0.4705522</td><td>-0.4705522</td><td>-0.4705522</td><td>-0.4705522</td><td>-0.7863181</td><td>-0.7863181</td><td>-0.7863181</td><td>-0.7863181</td><td>-0.7863181</td><td>...       </td><td>-1.915179 </td><td>-1.915179 </td><td>-1.915179 </td><td>-1.915179 </td><td>-1.928819 </td><td>-1.928819 </td><td>-1.928819 </td><td>-1.928819 </td><td>-1.928819 </td><td>NA        </td></tr>\n",
       "\t<tr><td>-0.5462880</td><td>-0.5462880</td><td>-0.5462880</td><td>-0.5462880</td><td>-0.5462880</td><td>-0.8309320</td><td>-0.8309320</td><td>-0.8309320</td><td>-0.8309320</td><td>-0.8309320</td><td>...       </td><td>-1.794992 </td><td>-1.794992 </td><td>-1.794992 </td><td>-1.794992 </td><td>-1.805567 </td><td>-1.805567 </td><td>-1.805567 </td><td>-1.805567 </td><td>-1.805567 </td><td>NA        </td></tr>\n",
       "\t<tr><td>-0.5604349</td><td>-0.5604349</td><td>-0.5604349</td><td>-0.5604349</td><td>-0.5604349</td><td>-0.8533189</td><td>-0.8533189</td><td>-0.8533189</td><td>-0.8533189</td><td>-0.8533189</td><td>...       </td><td>-1.792888 </td><td>-1.792888 </td><td>-1.792888 </td><td>-1.792888 </td><td>-1.803021 </td><td>-1.803021 </td><td>-1.803021 </td><td>-1.803021 </td><td>-1.803021 </td><td>NA        </td></tr>\n",
       "\t<tr><td>-0.5659020</td><td>-0.5659020</td><td>-0.5659020</td><td>-0.5659020</td><td>-0.5659020</td><td>-0.8696924</td><td>-0.8696924</td><td>-0.8696924</td><td>-0.8696924</td><td>-0.8696924</td><td>...       </td><td>-1.899258 </td><td>-1.899258 </td><td>-1.899258 </td><td>-1.899258 </td><td>-1.910916 </td><td>-1.910916 </td><td>-1.910916 </td><td>-1.910916 </td><td>-1.910916 </td><td>NA        </td></tr>\n",
       "\t<tr><td>-0.4292804</td><td>-0.4292804</td><td>-0.4292804</td><td>-0.4292804</td><td>-0.4292804</td><td>-0.7741696</td><td>-0.7741696</td><td>-0.7741696</td><td>-0.7741696</td><td>-0.7741696</td><td>...       </td><td>-1.975185 </td><td>-1.975185 </td><td>-1.975185 </td><td>-1.975185 </td><td>-1.990827 </td><td>-1.990827 </td><td>-1.990827 </td><td>-1.990827 </td><td>-1.990827 </td><td>NA        </td></tr>\n",
       "\t<tr><td>-0.4999289</td><td>-0.4999289</td><td>-0.4999289</td><td>-0.4999289</td><td>-0.4999289</td><td>-0.8104222</td><td>-0.8104222</td><td>-0.8104222</td><td>-0.8104222</td><td>-0.8104222</td><td>...       </td><td>-1.984793 </td><td>-1.984793 </td><td>-1.984793 </td><td>-1.984793 </td><td>-2.001277 </td><td>-2.001277 </td><td>-2.001277 </td><td>-2.001277 </td><td>-2.001277 </td><td>NA        </td></tr>\n",
       "\t<tr><td>-0.6549013</td><td>-0.6549013</td><td>-0.6549013</td><td>-0.6549013</td><td>-0.6549013</td><td>-0.8860775</td><td>-0.8860775</td><td>-0.8860775</td><td>-0.8860775</td><td>-0.8860775</td><td>...       </td><td>-1.813123 </td><td>-1.813123 </td><td>-1.813123 </td><td>-1.813123 </td><td>-1.825519 </td><td>-1.825519 </td><td>-1.825519 </td><td>-1.825519 </td><td>-1.825519 </td><td>NA        </td></tr>\n",
       "\t<tr><td>-0.5976663</td><td>-0.5976663</td><td>-0.5976663</td><td>-0.5976663</td><td>-0.5976663</td><td>-0.8443887</td><td>-0.8443887</td><td>-0.8443887</td><td>-0.8443887</td><td>-0.8443887</td><td>...       </td><td>-1.782434 </td><td>-1.782434 </td><td>-1.782434 </td><td>-1.782434 </td><td>-1.795404 </td><td>-1.795404 </td><td>-1.795404 </td><td>-1.795404 </td><td>-1.795404 </td><td>NA        </td></tr>\n",
       "\t<tr><td>-0.6550701</td><td>-0.6550701</td><td>-0.6550701</td><td>-0.6550701</td><td>-0.6550701</td><td>-0.8866733</td><td>-0.8866733</td><td>-0.8866733</td><td>-0.8866733</td><td>-0.8866733</td><td>...       </td><td>-1.758201 </td><td>-1.758201 </td><td>-1.758201 </td><td>-1.758201 </td><td>-1.769746 </td><td>-1.769746 </td><td>-1.769746 </td><td>-1.769746 </td><td>-1.769746 </td><td>NA        </td></tr>\n",
       "\t<tr><td>-0.6655823</td><td>-0.6655823</td><td>-0.6655823</td><td>-0.6655823</td><td>-0.6655823</td><td>-0.9161742</td><td>-0.9161742</td><td>-0.9161742</td><td>-0.9161742</td><td>-0.9161742</td><td>...       </td><td>-1.733955 </td><td>-1.733955 </td><td>-1.733955 </td><td>-1.733955 </td><td>-1.745198 </td><td>-1.745198 </td><td>-1.745198 </td><td>-1.745198 </td><td>-1.745198 </td><td>NA        </td></tr>\n",
       "\t<tr><td>-0.5446247</td><td>-0.5446247</td><td>-0.5446247</td><td>-0.5446247</td><td>-0.5446247</td><td>-0.8455975</td><td>-0.8455975</td><td>-0.8455975</td><td>-0.8455975</td><td>-0.8455975</td><td>...       </td><td>-1.821939 </td><td>-1.821939 </td><td>-1.821939 </td><td>-1.821939 </td><td>-1.834045 </td><td>-1.834045 </td><td>-1.834045 </td><td>-1.834045 </td><td>-1.834045 </td><td>NA        </td></tr>\n",
       "\t<tr><td>-0.6345394</td><td>-0.6345394</td><td>-0.6345394</td><td>-0.6345394</td><td>-0.6345394</td><td>-0.9181392</td><td>-0.9181392</td><td>-0.9181392</td><td>-0.9181392</td><td>-0.9181392</td><td>...       </td><td>-1.860929 </td><td>-1.860929 </td><td>-1.860929 </td><td>-1.860929 </td><td>-1.872064 </td><td>-1.872064 </td><td>-1.872064 </td><td>-1.872064 </td><td>-1.872064 </td><td>NA        </td></tr>\n",
       "\t<tr><td>-0.7019092</td><td>-0.7019092</td><td>-0.7019092</td><td>-0.7019092</td><td>-0.7019092</td><td>-0.9576005</td><td>-0.9576005</td><td>-0.9576005</td><td>-0.9576005</td><td>-0.9576005</td><td>...       </td><td>-1.764951 </td><td>-1.764951 </td><td>-1.764951 </td><td>-1.764951 </td><td>-1.775796 </td><td>-1.775796 </td><td>-1.775796 </td><td>-1.775796 </td><td>-1.775796 </td><td>NA        </td></tr>\n",
       "</tbody>\n",
       "</table>\n"
      ],
      "text/latex": [
       "\\begin{tabular}{r|llllllllllllllllllllllllllllllllllllllllllllllllllllllllllllllllllllllllllllllllllllllllllllllllllllllllllllllllllllllllllllllllllllllllllllllllllllllllllllllllllllllllllllllllllllllllllllllllllllllllllllllllllllllllllllllllllllllllllllllllllllllllllllllllllllllllllllllllllllllllllllll}\n",
       " V1 & V2 & V3 & V4 & V5 & V6 & V7 & V8 & V9 & V10 & ... & V277 & V278 & V279 & V280 & V281 & V282 & V283 & V284 & V285 & V286\\\\\n",
       "\\hline\n",
       "\t -0.5411585 & -0.5411585 & -0.5411585 & -0.5411585 & -0.5411585 & -0.8540680 & -0.8540680 & -0.8540680 & -0.8540680 & -0.8540680 & ...        & -1.922368  & -1.922368  & -1.922368  & -1.922368  & -1.931929  & -1.931929  & -1.931929  & -1.931929  & -1.931929  & NA        \\\\\n",
       "\t -0.5565854 & -0.5565854 & -0.5565854 & -0.5565854 & -0.5565854 & -0.8148896 & -0.8148896 & -0.8148896 & -0.8148896 & -0.8148896 & ...        & -1.925779  & -1.925779  & -1.925779  & -1.925779  & -1.938413  & -1.938413  & -1.938413  & -1.938413  & -1.938413  & NA        \\\\\n",
       "\t -0.4461475 & -0.4461475 & -0.4461475 & -0.4461475 & -0.4461475 & -0.7717494 & -0.7717494 & -0.7717494 & -0.7717494 & -0.7717494 & ...        & -1.973957  & -1.973957  & -1.973957  & -1.973957  & -1.986660  & -1.986660  & -1.986660  & -1.986660  & -1.986660  & NA        \\\\\n",
       "\t -0.5083127 & -0.5083127 & -0.5083127 & -0.5083127 & -0.5083127 & -0.7658825 & -0.7658825 & -0.7658825 & -0.7658825 & -0.7658825 & ...        & -1.934040  & -1.934040  & -1.934040  & -1.934040  & -1.947856  & -1.947856  & -1.947856  & -1.947856  & -1.947856  & NA        \\\\\n",
       "\t -0.5859301 & -0.5859301 & -0.5859301 & -0.5859301 & -0.5859301 & -0.8991027 & -0.8991027 & -0.8991027 & -0.8991027 & -0.8991027 & ...        & -1.857380  & -1.857380  & -1.857380  & -1.857380  & -1.865930  & -1.865930  & -1.865930  & -1.865930  & -1.865930  & NA        \\\\\n",
       "\t -0.4827307 & -0.4827307 & -0.4827307 & -0.4827307 & -0.4827307 & -0.7728731 & -0.7728731 & -0.7728731 & -0.7728731 & -0.7728731 & ...        & -2.046850  & -2.046850  & -2.046850  & -2.046850  & -2.059558  & -2.059558  & -2.059558  & -2.059558  & -2.059558  & NA        \\\\\n",
       "\t -0.4806861 & -0.4806861 & -0.4806861 & -0.4806861 & -0.4806861 & -0.7791753 & -0.7791753 & -0.7791753 & -0.7791753 & -0.7791753 & ...        & -1.890993  & -1.890993  & -1.890993  & -1.890993  & -1.902057  & -1.902057  & -1.902057  & -1.902057  & -1.902057  & NA        \\\\\n",
       "\t -0.4367111 & -0.4367111 & -0.4367111 & -0.4367111 & -0.4367111 & -0.7365598 & -0.7365598 & -0.7365598 & -0.7365598 & -0.7365598 & ...        & -1.977570  & -1.977570  & -1.977570  & -1.977570  & -1.992024  & -1.992024  & -1.992024  & -1.992024  & -1.992024  & NA        \\\\\n",
       "\t -0.6017844 & -0.6017844 & -0.6017844 & -0.6017844 & -0.6017844 & -0.8296413 & -0.8296413 & -0.8296413 & -0.8296413 & -0.8296413 & ...        & -1.819104  & -1.819104  & -1.819104  & -1.819104  & -1.828807  & -1.828807  & -1.828807  & -1.828807  & -1.828807  & NA        \\\\\n",
       "\t -0.6565392 & -0.6565392 & -0.6565392 & -0.6565392 & -0.6565392 & -0.9546911 & -0.9546911 & -0.9546911 & -0.9546911 & -0.9546911 & ...        & -1.881285  & -1.881285  & -1.881285  & -1.881285  & -1.892077  & -1.892077  & -1.892077  & -1.892077  & -1.892077  & NA        \\\\\n",
       "\t -0.6737459 & -0.6737459 & -0.6737459 & -0.6737459 & -0.6737459 & -0.8825258 & -0.8825258 & -0.8825258 & -0.8825258 & -0.8825258 & ...        & -1.728525  & -1.728525  & -1.728525  & -1.728525  & -1.737503  & -1.737503  & -1.737503  & -1.737503  & -1.737503  & NA        \\\\\n",
       "\t -0.6667397 & -0.6667397 & -0.6667397 & -0.6667397 & -0.6667397 & -0.9901081 & -0.9901081 & -0.9901081 & -0.9901081 & -0.9901081 & ...        & -1.856445  & -1.856445  & -1.856445  & -1.856445  & -1.865208  & -1.865208  & -1.865208  & -1.865208  & -1.865208  & NA        \\\\\n",
       "\t -0.6431197 & -0.6431197 & -0.6431197 & -0.6431197 & -0.6431197 & -0.9363855 & -0.9363855 & -0.9363855 & -0.9363855 & -0.9363855 & ...        & -1.782230  & -1.782230  & -1.782230  & -1.782230  & -1.790404  & -1.790404  & -1.790404  & -1.790404  & -1.790404  & NA        \\\\\n",
       "\t -0.6255889 & -0.6255889 & -0.6255889 & -0.6255889 & -0.6255889 & -0.9008191 & -0.9008191 & -0.9008191 & -0.9008191 & -0.9008191 & ...        & -1.737229  & -1.737229  & -1.737229  & -1.737229  & -1.745022  & -1.745022  & -1.745022  & -1.745022  & -1.745022  & NA        \\\\\n",
       "\t -0.5313836 & -0.5313836 & -0.5313836 & -0.5313836 & -0.5313836 & -0.8368334 & -0.8368334 & -0.8368334 & -0.8368334 & -0.8368334 & ...        & -1.853736  & -1.853736  & -1.853736  & -1.853736  & -1.864545  & -1.864545  & -1.864545  & -1.864545  & -1.864545  & NA        \\\\\n",
       "\t -0.4705522 & -0.4705522 & -0.4705522 & -0.4705522 & -0.4705522 & -0.7863181 & -0.7863181 & -0.7863181 & -0.7863181 & -0.7863181 & ...        & -1.915179  & -1.915179  & -1.915179  & -1.915179  & -1.928819  & -1.928819  & -1.928819  & -1.928819  & -1.928819  & NA        \\\\\n",
       "\t -0.5462880 & -0.5462880 & -0.5462880 & -0.5462880 & -0.5462880 & -0.8309320 & -0.8309320 & -0.8309320 & -0.8309320 & -0.8309320 & ...        & -1.794992  & -1.794992  & -1.794992  & -1.794992  & -1.805567  & -1.805567  & -1.805567  & -1.805567  & -1.805567  & NA        \\\\\n",
       "\t -0.5604349 & -0.5604349 & -0.5604349 & -0.5604349 & -0.5604349 & -0.8533189 & -0.8533189 & -0.8533189 & -0.8533189 & -0.8533189 & ...        & -1.792888  & -1.792888  & -1.792888  & -1.792888  & -1.803021  & -1.803021  & -1.803021  & -1.803021  & -1.803021  & NA        \\\\\n",
       "\t -0.5659020 & -0.5659020 & -0.5659020 & -0.5659020 & -0.5659020 & -0.8696924 & -0.8696924 & -0.8696924 & -0.8696924 & -0.8696924 & ...        & -1.899258  & -1.899258  & -1.899258  & -1.899258  & -1.910916  & -1.910916  & -1.910916  & -1.910916  & -1.910916  & NA        \\\\\n",
       "\t -0.4292804 & -0.4292804 & -0.4292804 & -0.4292804 & -0.4292804 & -0.7741696 & -0.7741696 & -0.7741696 & -0.7741696 & -0.7741696 & ...        & -1.975185  & -1.975185  & -1.975185  & -1.975185  & -1.990827  & -1.990827  & -1.990827  & -1.990827  & -1.990827  & NA        \\\\\n",
       "\t -0.4999289 & -0.4999289 & -0.4999289 & -0.4999289 & -0.4999289 & -0.8104222 & -0.8104222 & -0.8104222 & -0.8104222 & -0.8104222 & ...        & -1.984793  & -1.984793  & -1.984793  & -1.984793  & -2.001277  & -2.001277  & -2.001277  & -2.001277  & -2.001277  & NA        \\\\\n",
       "\t -0.6549013 & -0.6549013 & -0.6549013 & -0.6549013 & -0.6549013 & -0.8860775 & -0.8860775 & -0.8860775 & -0.8860775 & -0.8860775 & ...        & -1.813123  & -1.813123  & -1.813123  & -1.813123  & -1.825519  & -1.825519  & -1.825519  & -1.825519  & -1.825519  & NA        \\\\\n",
       "\t -0.5976663 & -0.5976663 & -0.5976663 & -0.5976663 & -0.5976663 & -0.8443887 & -0.8443887 & -0.8443887 & -0.8443887 & -0.8443887 & ...        & -1.782434  & -1.782434  & -1.782434  & -1.782434  & -1.795404  & -1.795404  & -1.795404  & -1.795404  & -1.795404  & NA        \\\\\n",
       "\t -0.6550701 & -0.6550701 & -0.6550701 & -0.6550701 & -0.6550701 & -0.8866733 & -0.8866733 & -0.8866733 & -0.8866733 & -0.8866733 & ...        & -1.758201  & -1.758201  & -1.758201  & -1.758201  & -1.769746  & -1.769746  & -1.769746  & -1.769746  & -1.769746  & NA        \\\\\n",
       "\t -0.6655823 & -0.6655823 & -0.6655823 & -0.6655823 & -0.6655823 & -0.9161742 & -0.9161742 & -0.9161742 & -0.9161742 & -0.9161742 & ...        & -1.733955  & -1.733955  & -1.733955  & -1.733955  & -1.745198  & -1.745198  & -1.745198  & -1.745198  & -1.745198  & NA        \\\\\n",
       "\t -0.5446247 & -0.5446247 & -0.5446247 & -0.5446247 & -0.5446247 & -0.8455975 & -0.8455975 & -0.8455975 & -0.8455975 & -0.8455975 & ...        & -1.821939  & -1.821939  & -1.821939  & -1.821939  & -1.834045  & -1.834045  & -1.834045  & -1.834045  & -1.834045  & NA        \\\\\n",
       "\t -0.6345394 & -0.6345394 & -0.6345394 & -0.6345394 & -0.6345394 & -0.9181392 & -0.9181392 & -0.9181392 & -0.9181392 & -0.9181392 & ...        & -1.860929  & -1.860929  & -1.860929  & -1.860929  & -1.872064  & -1.872064  & -1.872064  & -1.872064  & -1.872064  & NA        \\\\\n",
       "\t -0.7019092 & -0.7019092 & -0.7019092 & -0.7019092 & -0.7019092 & -0.9576005 & -0.9576005 & -0.9576005 & -0.9576005 & -0.9576005 & ...        & -1.764951  & -1.764951  & -1.764951  & -1.764951  & -1.775796  & -1.775796  & -1.775796  & -1.775796  & -1.775796  & NA        \\\\\n",
       "\\end{tabular}\n"
      ],
      "text/markdown": [
       "\n",
       "| V1 | V2 | V3 | V4 | V5 | V6 | V7 | V8 | V9 | V10 | ... | V277 | V278 | V279 | V280 | V281 | V282 | V283 | V284 | V285 | V286 |\n",
       "|---|---|---|---|---|---|---|---|---|---|---|---|---|---|---|---|---|---|---|---|---|\n",
       "| -0.5411585 | -0.5411585 | -0.5411585 | -0.5411585 | -0.5411585 | -0.8540680 | -0.8540680 | -0.8540680 | -0.8540680 | -0.8540680 | ...        | -1.922368  | -1.922368  | -1.922368  | -1.922368  | -1.931929  | -1.931929  | -1.931929  | -1.931929  | -1.931929  | NA         |\n",
       "| -0.5565854 | -0.5565854 | -0.5565854 | -0.5565854 | -0.5565854 | -0.8148896 | -0.8148896 | -0.8148896 | -0.8148896 | -0.8148896 | ...        | -1.925779  | -1.925779  | -1.925779  | -1.925779  | -1.938413  | -1.938413  | -1.938413  | -1.938413  | -1.938413  | NA         |\n",
       "| -0.4461475 | -0.4461475 | -0.4461475 | -0.4461475 | -0.4461475 | -0.7717494 | -0.7717494 | -0.7717494 | -0.7717494 | -0.7717494 | ...        | -1.973957  | -1.973957  | -1.973957  | -1.973957  | -1.986660  | -1.986660  | -1.986660  | -1.986660  | -1.986660  | NA         |\n",
       "| -0.5083127 | -0.5083127 | -0.5083127 | -0.5083127 | -0.5083127 | -0.7658825 | -0.7658825 | -0.7658825 | -0.7658825 | -0.7658825 | ...        | -1.934040  | -1.934040  | -1.934040  | -1.934040  | -1.947856  | -1.947856  | -1.947856  | -1.947856  | -1.947856  | NA         |\n",
       "| -0.5859301 | -0.5859301 | -0.5859301 | -0.5859301 | -0.5859301 | -0.8991027 | -0.8991027 | -0.8991027 | -0.8991027 | -0.8991027 | ...        | -1.857380  | -1.857380  | -1.857380  | -1.857380  | -1.865930  | -1.865930  | -1.865930  | -1.865930  | -1.865930  | NA         |\n",
       "| -0.4827307 | -0.4827307 | -0.4827307 | -0.4827307 | -0.4827307 | -0.7728731 | -0.7728731 | -0.7728731 | -0.7728731 | -0.7728731 | ...        | -2.046850  | -2.046850  | -2.046850  | -2.046850  | -2.059558  | -2.059558  | -2.059558  | -2.059558  | -2.059558  | NA         |\n",
       "| -0.4806861 | -0.4806861 | -0.4806861 | -0.4806861 | -0.4806861 | -0.7791753 | -0.7791753 | -0.7791753 | -0.7791753 | -0.7791753 | ...        | -1.890993  | -1.890993  | -1.890993  | -1.890993  | -1.902057  | -1.902057  | -1.902057  | -1.902057  | -1.902057  | NA         |\n",
       "| -0.4367111 | -0.4367111 | -0.4367111 | -0.4367111 | -0.4367111 | -0.7365598 | -0.7365598 | -0.7365598 | -0.7365598 | -0.7365598 | ...        | -1.977570  | -1.977570  | -1.977570  | -1.977570  | -1.992024  | -1.992024  | -1.992024  | -1.992024  | -1.992024  | NA         |\n",
       "| -0.6017844 | -0.6017844 | -0.6017844 | -0.6017844 | -0.6017844 | -0.8296413 | -0.8296413 | -0.8296413 | -0.8296413 | -0.8296413 | ...        | -1.819104  | -1.819104  | -1.819104  | -1.819104  | -1.828807  | -1.828807  | -1.828807  | -1.828807  | -1.828807  | NA         |\n",
       "| -0.6565392 | -0.6565392 | -0.6565392 | -0.6565392 | -0.6565392 | -0.9546911 | -0.9546911 | -0.9546911 | -0.9546911 | -0.9546911 | ...        | -1.881285  | -1.881285  | -1.881285  | -1.881285  | -1.892077  | -1.892077  | -1.892077  | -1.892077  | -1.892077  | NA         |\n",
       "| -0.6737459 | -0.6737459 | -0.6737459 | -0.6737459 | -0.6737459 | -0.8825258 | -0.8825258 | -0.8825258 | -0.8825258 | -0.8825258 | ...        | -1.728525  | -1.728525  | -1.728525  | -1.728525  | -1.737503  | -1.737503  | -1.737503  | -1.737503  | -1.737503  | NA         |\n",
       "| -0.6667397 | -0.6667397 | -0.6667397 | -0.6667397 | -0.6667397 | -0.9901081 | -0.9901081 | -0.9901081 | -0.9901081 | -0.9901081 | ...        | -1.856445  | -1.856445  | -1.856445  | -1.856445  | -1.865208  | -1.865208  | -1.865208  | -1.865208  | -1.865208  | NA         |\n",
       "| -0.6431197 | -0.6431197 | -0.6431197 | -0.6431197 | -0.6431197 | -0.9363855 | -0.9363855 | -0.9363855 | -0.9363855 | -0.9363855 | ...        | -1.782230  | -1.782230  | -1.782230  | -1.782230  | -1.790404  | -1.790404  | -1.790404  | -1.790404  | -1.790404  | NA         |\n",
       "| -0.6255889 | -0.6255889 | -0.6255889 | -0.6255889 | -0.6255889 | -0.9008191 | -0.9008191 | -0.9008191 | -0.9008191 | -0.9008191 | ...        | -1.737229  | -1.737229  | -1.737229  | -1.737229  | -1.745022  | -1.745022  | -1.745022  | -1.745022  | -1.745022  | NA         |\n",
       "| -0.5313836 | -0.5313836 | -0.5313836 | -0.5313836 | -0.5313836 | -0.8368334 | -0.8368334 | -0.8368334 | -0.8368334 | -0.8368334 | ...        | -1.853736  | -1.853736  | -1.853736  | -1.853736  | -1.864545  | -1.864545  | -1.864545  | -1.864545  | -1.864545  | NA         |\n",
       "| -0.4705522 | -0.4705522 | -0.4705522 | -0.4705522 | -0.4705522 | -0.7863181 | -0.7863181 | -0.7863181 | -0.7863181 | -0.7863181 | ...        | -1.915179  | -1.915179  | -1.915179  | -1.915179  | -1.928819  | -1.928819  | -1.928819  | -1.928819  | -1.928819  | NA         |\n",
       "| -0.5462880 | -0.5462880 | -0.5462880 | -0.5462880 | -0.5462880 | -0.8309320 | -0.8309320 | -0.8309320 | -0.8309320 | -0.8309320 | ...        | -1.794992  | -1.794992  | -1.794992  | -1.794992  | -1.805567  | -1.805567  | -1.805567  | -1.805567  | -1.805567  | NA         |\n",
       "| -0.5604349 | -0.5604349 | -0.5604349 | -0.5604349 | -0.5604349 | -0.8533189 | -0.8533189 | -0.8533189 | -0.8533189 | -0.8533189 | ...        | -1.792888  | -1.792888  | -1.792888  | -1.792888  | -1.803021  | -1.803021  | -1.803021  | -1.803021  | -1.803021  | NA         |\n",
       "| -0.5659020 | -0.5659020 | -0.5659020 | -0.5659020 | -0.5659020 | -0.8696924 | -0.8696924 | -0.8696924 | -0.8696924 | -0.8696924 | ...        | -1.899258  | -1.899258  | -1.899258  | -1.899258  | -1.910916  | -1.910916  | -1.910916  | -1.910916  | -1.910916  | NA         |\n",
       "| -0.4292804 | -0.4292804 | -0.4292804 | -0.4292804 | -0.4292804 | -0.7741696 | -0.7741696 | -0.7741696 | -0.7741696 | -0.7741696 | ...        | -1.975185  | -1.975185  | -1.975185  | -1.975185  | -1.990827  | -1.990827  | -1.990827  | -1.990827  | -1.990827  | NA         |\n",
       "| -0.4999289 | -0.4999289 | -0.4999289 | -0.4999289 | -0.4999289 | -0.8104222 | -0.8104222 | -0.8104222 | -0.8104222 | -0.8104222 | ...        | -1.984793  | -1.984793  | -1.984793  | -1.984793  | -2.001277  | -2.001277  | -2.001277  | -2.001277  | -2.001277  | NA         |\n",
       "| -0.6549013 | -0.6549013 | -0.6549013 | -0.6549013 | -0.6549013 | -0.8860775 | -0.8860775 | -0.8860775 | -0.8860775 | -0.8860775 | ...        | -1.813123  | -1.813123  | -1.813123  | -1.813123  | -1.825519  | -1.825519  | -1.825519  | -1.825519  | -1.825519  | NA         |\n",
       "| -0.5976663 | -0.5976663 | -0.5976663 | -0.5976663 | -0.5976663 | -0.8443887 | -0.8443887 | -0.8443887 | -0.8443887 | -0.8443887 | ...        | -1.782434  | -1.782434  | -1.782434  | -1.782434  | -1.795404  | -1.795404  | -1.795404  | -1.795404  | -1.795404  | NA         |\n",
       "| -0.6550701 | -0.6550701 | -0.6550701 | -0.6550701 | -0.6550701 | -0.8866733 | -0.8866733 | -0.8866733 | -0.8866733 | -0.8866733 | ...        | -1.758201  | -1.758201  | -1.758201  | -1.758201  | -1.769746  | -1.769746  | -1.769746  | -1.769746  | -1.769746  | NA         |\n",
       "| -0.6655823 | -0.6655823 | -0.6655823 | -0.6655823 | -0.6655823 | -0.9161742 | -0.9161742 | -0.9161742 | -0.9161742 | -0.9161742 | ...        | -1.733955  | -1.733955  | -1.733955  | -1.733955  | -1.745198  | -1.745198  | -1.745198  | -1.745198  | -1.745198  | NA         |\n",
       "| -0.5446247 | -0.5446247 | -0.5446247 | -0.5446247 | -0.5446247 | -0.8455975 | -0.8455975 | -0.8455975 | -0.8455975 | -0.8455975 | ...        | -1.821939  | -1.821939  | -1.821939  | -1.821939  | -1.834045  | -1.834045  | -1.834045  | -1.834045  | -1.834045  | NA         |\n",
       "| -0.6345394 | -0.6345394 | -0.6345394 | -0.6345394 | -0.6345394 | -0.9181392 | -0.9181392 | -0.9181392 | -0.9181392 | -0.9181392 | ...        | -1.860929  | -1.860929  | -1.860929  | -1.860929  | -1.872064  | -1.872064  | -1.872064  | -1.872064  | -1.872064  | NA         |\n",
       "| -0.7019092 | -0.7019092 | -0.7019092 | -0.7019092 | -0.7019092 | -0.9576005 | -0.9576005 | -0.9576005 | -0.9576005 | -0.9576005 | ...        | -1.764951  | -1.764951  | -1.764951  | -1.764951  | -1.775796  | -1.775796  | -1.775796  | -1.775796  | -1.775796  | NA         |\n",
       "\n"
      ],
      "text/plain": [
       "   V1         V2         V3         V4         V5         V6         V7        \n",
       "1  -0.5411585 -0.5411585 -0.5411585 -0.5411585 -0.5411585 -0.8540680 -0.8540680\n",
       "2  -0.5565854 -0.5565854 -0.5565854 -0.5565854 -0.5565854 -0.8148896 -0.8148896\n",
       "3  -0.4461475 -0.4461475 -0.4461475 -0.4461475 -0.4461475 -0.7717494 -0.7717494\n",
       "4  -0.5083127 -0.5083127 -0.5083127 -0.5083127 -0.5083127 -0.7658825 -0.7658825\n",
       "5  -0.5859301 -0.5859301 -0.5859301 -0.5859301 -0.5859301 -0.8991027 -0.8991027\n",
       "6  -0.4827307 -0.4827307 -0.4827307 -0.4827307 -0.4827307 -0.7728731 -0.7728731\n",
       "7  -0.4806861 -0.4806861 -0.4806861 -0.4806861 -0.4806861 -0.7791753 -0.7791753\n",
       "8  -0.4367111 -0.4367111 -0.4367111 -0.4367111 -0.4367111 -0.7365598 -0.7365598\n",
       "9  -0.6017844 -0.6017844 -0.6017844 -0.6017844 -0.6017844 -0.8296413 -0.8296413\n",
       "10 -0.6565392 -0.6565392 -0.6565392 -0.6565392 -0.6565392 -0.9546911 -0.9546911\n",
       "11 -0.6737459 -0.6737459 -0.6737459 -0.6737459 -0.6737459 -0.8825258 -0.8825258\n",
       "12 -0.6667397 -0.6667397 -0.6667397 -0.6667397 -0.6667397 -0.9901081 -0.9901081\n",
       "13 -0.6431197 -0.6431197 -0.6431197 -0.6431197 -0.6431197 -0.9363855 -0.9363855\n",
       "14 -0.6255889 -0.6255889 -0.6255889 -0.6255889 -0.6255889 -0.9008191 -0.9008191\n",
       "15 -0.5313836 -0.5313836 -0.5313836 -0.5313836 -0.5313836 -0.8368334 -0.8368334\n",
       "16 -0.4705522 -0.4705522 -0.4705522 -0.4705522 -0.4705522 -0.7863181 -0.7863181\n",
       "17 -0.5462880 -0.5462880 -0.5462880 -0.5462880 -0.5462880 -0.8309320 -0.8309320\n",
       "18 -0.5604349 -0.5604349 -0.5604349 -0.5604349 -0.5604349 -0.8533189 -0.8533189\n",
       "19 -0.5659020 -0.5659020 -0.5659020 -0.5659020 -0.5659020 -0.8696924 -0.8696924\n",
       "20 -0.4292804 -0.4292804 -0.4292804 -0.4292804 -0.4292804 -0.7741696 -0.7741696\n",
       "21 -0.4999289 -0.4999289 -0.4999289 -0.4999289 -0.4999289 -0.8104222 -0.8104222\n",
       "22 -0.6549013 -0.6549013 -0.6549013 -0.6549013 -0.6549013 -0.8860775 -0.8860775\n",
       "23 -0.5976663 -0.5976663 -0.5976663 -0.5976663 -0.5976663 -0.8443887 -0.8443887\n",
       "24 -0.6550701 -0.6550701 -0.6550701 -0.6550701 -0.6550701 -0.8866733 -0.8866733\n",
       "25 -0.6655823 -0.6655823 -0.6655823 -0.6655823 -0.6655823 -0.9161742 -0.9161742\n",
       "26 -0.5446247 -0.5446247 -0.5446247 -0.5446247 -0.5446247 -0.8455975 -0.8455975\n",
       "27 -0.6345394 -0.6345394 -0.6345394 -0.6345394 -0.6345394 -0.9181392 -0.9181392\n",
       "28 -0.7019092 -0.7019092 -0.7019092 -0.7019092 -0.7019092 -0.9576005 -0.9576005\n",
       "   V8         V9         V10        ... V277      V278      V279      V280     \n",
       "1  -0.8540680 -0.8540680 -0.8540680 ... -1.922368 -1.922368 -1.922368 -1.922368\n",
       "2  -0.8148896 -0.8148896 -0.8148896 ... -1.925779 -1.925779 -1.925779 -1.925779\n",
       "3  -0.7717494 -0.7717494 -0.7717494 ... -1.973957 -1.973957 -1.973957 -1.973957\n",
       "4  -0.7658825 -0.7658825 -0.7658825 ... -1.934040 -1.934040 -1.934040 -1.934040\n",
       "5  -0.8991027 -0.8991027 -0.8991027 ... -1.857380 -1.857380 -1.857380 -1.857380\n",
       "6  -0.7728731 -0.7728731 -0.7728731 ... -2.046850 -2.046850 -2.046850 -2.046850\n",
       "7  -0.7791753 -0.7791753 -0.7791753 ... -1.890993 -1.890993 -1.890993 -1.890993\n",
       "8  -0.7365598 -0.7365598 -0.7365598 ... -1.977570 -1.977570 -1.977570 -1.977570\n",
       "9  -0.8296413 -0.8296413 -0.8296413 ... -1.819104 -1.819104 -1.819104 -1.819104\n",
       "10 -0.9546911 -0.9546911 -0.9546911 ... -1.881285 -1.881285 -1.881285 -1.881285\n",
       "11 -0.8825258 -0.8825258 -0.8825258 ... -1.728525 -1.728525 -1.728525 -1.728525\n",
       "12 -0.9901081 -0.9901081 -0.9901081 ... -1.856445 -1.856445 -1.856445 -1.856445\n",
       "13 -0.9363855 -0.9363855 -0.9363855 ... -1.782230 -1.782230 -1.782230 -1.782230\n",
       "14 -0.9008191 -0.9008191 -0.9008191 ... -1.737229 -1.737229 -1.737229 -1.737229\n",
       "15 -0.8368334 -0.8368334 -0.8368334 ... -1.853736 -1.853736 -1.853736 -1.853736\n",
       "16 -0.7863181 -0.7863181 -0.7863181 ... -1.915179 -1.915179 -1.915179 -1.915179\n",
       "17 -0.8309320 -0.8309320 -0.8309320 ... -1.794992 -1.794992 -1.794992 -1.794992\n",
       "18 -0.8533189 -0.8533189 -0.8533189 ... -1.792888 -1.792888 -1.792888 -1.792888\n",
       "19 -0.8696924 -0.8696924 -0.8696924 ... -1.899258 -1.899258 -1.899258 -1.899258\n",
       "20 -0.7741696 -0.7741696 -0.7741696 ... -1.975185 -1.975185 -1.975185 -1.975185\n",
       "21 -0.8104222 -0.8104222 -0.8104222 ... -1.984793 -1.984793 -1.984793 -1.984793\n",
       "22 -0.8860775 -0.8860775 -0.8860775 ... -1.813123 -1.813123 -1.813123 -1.813123\n",
       "23 -0.8443887 -0.8443887 -0.8443887 ... -1.782434 -1.782434 -1.782434 -1.782434\n",
       "24 -0.8866733 -0.8866733 -0.8866733 ... -1.758201 -1.758201 -1.758201 -1.758201\n",
       "25 -0.9161742 -0.9161742 -0.9161742 ... -1.733955 -1.733955 -1.733955 -1.733955\n",
       "26 -0.8455975 -0.8455975 -0.8455975 ... -1.821939 -1.821939 -1.821939 -1.821939\n",
       "27 -0.9181392 -0.9181392 -0.9181392 ... -1.860929 -1.860929 -1.860929 -1.860929\n",
       "28 -0.9576005 -0.9576005 -0.9576005 ... -1.764951 -1.764951 -1.764951 -1.764951\n",
       "   V281      V282      V283      V284      V285      V286\n",
       "1  -1.931929 -1.931929 -1.931929 -1.931929 -1.931929 NA  \n",
       "2  -1.938413 -1.938413 -1.938413 -1.938413 -1.938413 NA  \n",
       "3  -1.986660 -1.986660 -1.986660 -1.986660 -1.986660 NA  \n",
       "4  -1.947856 -1.947856 -1.947856 -1.947856 -1.947856 NA  \n",
       "5  -1.865930 -1.865930 -1.865930 -1.865930 -1.865930 NA  \n",
       "6  -2.059558 -2.059558 -2.059558 -2.059558 -2.059558 NA  \n",
       "7  -1.902057 -1.902057 -1.902057 -1.902057 -1.902057 NA  \n",
       "8  -1.992024 -1.992024 -1.992024 -1.992024 -1.992024 NA  \n",
       "9  -1.828807 -1.828807 -1.828807 -1.828807 -1.828807 NA  \n",
       "10 -1.892077 -1.892077 -1.892077 -1.892077 -1.892077 NA  \n",
       "11 -1.737503 -1.737503 -1.737503 -1.737503 -1.737503 NA  \n",
       "12 -1.865208 -1.865208 -1.865208 -1.865208 -1.865208 NA  \n",
       "13 -1.790404 -1.790404 -1.790404 -1.790404 -1.790404 NA  \n",
       "14 -1.745022 -1.745022 -1.745022 -1.745022 -1.745022 NA  \n",
       "15 -1.864545 -1.864545 -1.864545 -1.864545 -1.864545 NA  \n",
       "16 -1.928819 -1.928819 -1.928819 -1.928819 -1.928819 NA  \n",
       "17 -1.805567 -1.805567 -1.805567 -1.805567 -1.805567 NA  \n",
       "18 -1.803021 -1.803021 -1.803021 -1.803021 -1.803021 NA  \n",
       "19 -1.910916 -1.910916 -1.910916 -1.910916 -1.910916 NA  \n",
       "20 -1.990827 -1.990827 -1.990827 -1.990827 -1.990827 NA  \n",
       "21 -2.001277 -2.001277 -2.001277 -2.001277 -2.001277 NA  \n",
       "22 -1.825519 -1.825519 -1.825519 -1.825519 -1.825519 NA  \n",
       "23 -1.795404 -1.795404 -1.795404 -1.795404 -1.795404 NA  \n",
       "24 -1.769746 -1.769746 -1.769746 -1.769746 -1.769746 NA  \n",
       "25 -1.745198 -1.745198 -1.745198 -1.745198 -1.745198 NA  \n",
       "26 -1.834045 -1.834045 -1.834045 -1.834045 -1.834045 NA  \n",
       "27 -1.872064 -1.872064 -1.872064 -1.872064 -1.872064 NA  \n",
       "28 -1.775796 -1.775796 -1.775796 -1.775796 -1.775796 NA  "
      ]
     },
     "metadata": {},
     "output_type": "display_data"
    }
   ],
   "source": [
    "paa_train"
   ]
  },
  {
   "cell_type": "markdown",
   "metadata": {},
   "source": [
    "<a id=\"5\"></a>\n",
    "## PAA Function"
   ]
  },
  {
   "cell_type": "code",
   "execution_count": 83,
   "metadata": {},
   "outputs": [],
   "source": [
    "paa_obtainer=function(traindata,segment_length){\n",
    "    dt_ts_train=data.table(traindata)\n",
    "    dt_ts_train[,id:=1:.N]\n",
    "    long_train=melt(dt_ts_train,id.vars=c('id'))\n",
    "    long_train[,time:=as.numeric(gsub(\"\\\\D\", \"\", variable))-1]\n",
    "    long_train=long_train[order(id,time)]\n",
    "    \n",
    "    paa_results=vector(\"list\", max(long_train$id))\n",
    "    for(i in 1:max(long_train$id)){\n",
    "        current_ts=long_train[id==i,]$value\n",
    "\n",
    "        paa_rep=repr_paa(current_ts, segment_length, meanC)\n",
    "        current_dt=data.table(time=1:length(long_train[id==i,]$value))\n",
    "        result_dt=data.table(time=c(1:(length(paa_rep)))*segment_length, values=paa_rep)\n",
    "        all_dt=merge(current_dt, result_dt, by='time',all.x=T)\n",
    "        all_dt[,values:=nafill(values,'nocb')]\n",
    "        paa_results[[i]]=transpose(data.table(values=all_dt$values))\n",
    "\n",
    "    }\n",
    "    return(rbindlist(paa_results))\n",
    "}"
   ]
  },
  {
   "cell_type": "markdown",
   "metadata": {},
   "source": [
    "This function will be used to get a difference dataset. \"_2\" string will be used to mention segment lentgh determined as 10."
   ]
  },
  {
   "cell_type": "markdown",
   "metadata": {},
   "source": [
    "### Segment Length 13"
   ]
  },
  {
   "cell_type": "code",
   "execution_count": 84,
   "metadata": {},
   "outputs": [],
   "source": [
    "paa_train=paa_obtainer(traindata,13)"
   ]
  },
  {
   "cell_type": "markdown",
   "metadata": {},
   "source": [
    "### Segment Length 26"
   ]
  },
  {
   "cell_type": "code",
   "execution_count": 85,
   "metadata": {},
   "outputs": [],
   "source": [
    "paa_train_2=paa_obtainer(traindata,26)"
   ]
  },
  {
   "cell_type": "code",
   "execution_count": null,
   "metadata": {},
   "outputs": [],
   "source": []
  },
  {
   "cell_type": "code",
   "execution_count": null,
   "metadata": {},
   "outputs": [],
   "source": []
  },
  {
   "cell_type": "markdown",
   "metadata": {},
   "source": [
    "<a id=\"6\"></a>\n",
    "# Distances"
   ]
  },
  {
   "cell_type": "markdown",
   "metadata": {},
   "source": [
    "In this part, distance datasets will be calculated to have 20 different combination (5 representation * 4 different distance calculation types). In addition, obtained distance datasets will be stored in a file to skip distance calculation."
   ]
  },
  {
   "cell_type": "code",
   "execution_count": 86,
   "metadata": {},
   "outputs": [],
   "source": [
    "large_number=10000"
   ]
  },
  {
   "cell_type": "markdown",
   "metadata": {},
   "source": [
    "<a id=\"7\"></a>\n",
    "## Raw Dataset "
   ]
  },
  {
   "cell_type": "code",
   "execution_count": 87,
   "metadata": {},
   "outputs": [
    {
     "name": "stderr",
     "output_type": "stream",
     "text": [
      "x being coerced from class: matrix to data.table\n",
      "x being coerced from class: matrix to data.table\n",
      "x being coerced from class: matrix to data.table\n",
      "x being coerced from class: matrix to data.table\n"
     ]
    }
   ],
   "source": [
    "dist_euc=as.matrix(dist(traindata))\n",
    "diag(dist_euc)=large_number\n",
    "fwrite(dist_euc,sprintf('%s%s/%s_euc_raw_dist.csv', distance_path, fourth_dataset, fourth_dataset),col.names=F)\n",
    "\n",
    "dist_dtw=as.matrix(dtwDist(traindata))\n",
    "diag(dist_dtw)=large_number\n",
    "fwrite(dist_dtw,sprintf('%s%s/%s_dtw_raw_dist.csv', distance_path, fourth_dataset, fourth_dataset),col.names=F)\n",
    "\n",
    "dist_lcss=TSDatabaseDistances(traindata,distance='lcss',epsilon=0.05)\n",
    "dist_lcss=as.matrix(dist_lcss)\n",
    "diag(dist_lcss)=large_number\n",
    "fwrite(dist_lcss,sprintf('%s%s/%s_lcss_raw_epsilon_005.csv', distance_path, fourth_dataset, fourth_dataset),col.names=F)  \n",
    "\n",
    "dist_erp=TSDatabaseDistances(traindata,distance='erp',g=0.5)\n",
    "dist_erp=as.matrix(dist_erp)\n",
    "diag(dist_erp)=large_number\n",
    "fwrite(dist_erp,sprintf('%s%s/%s_erp_raw_gap_005.csv', distance_path, fourth_dataset, fourth_dataset),col.names=F)  "
   ]
  },
  {
   "cell_type": "markdown",
   "metadata": {},
   "source": [
    "<a id=\"8\"></a>\n",
    "## Difference taken Datasets"
   ]
  },
  {
   "cell_type": "markdown",
   "metadata": {},
   "source": [
    "### First difference dataset when shift value is 1"
   ]
  },
  {
   "cell_type": "code",
   "execution_count": 88,
   "metadata": {},
   "outputs": [
    {
     "name": "stderr",
     "output_type": "stream",
     "text": [
      "x being coerced from class: matrix to data.table\n",
      "x being coerced from class: matrix to data.table\n",
      "x being coerced from class: matrix to data.table\n",
      "x being coerced from class: matrix to data.table\n"
     ]
    }
   ],
   "source": [
    "dist_euc_diff=as.matrix(dist(diff_train))\n",
    "diag(dist_euc_diff)=large_number\n",
    "fwrite(dist_euc_diff,sprintf('%s%s/%s_euc_diff_dist.csv', distance_path, fourth_dataset, fourth_dataset),col.names=F)\n",
    "\n",
    "dist_dtw_diff=as.matrix(dtwDist(diff_train))\n",
    "diag(dist_dtw_diff)=large_number\n",
    "fwrite(dist_dtw_diff,sprintf('%s%s/%s_dtw_diff_dist.csv', distance_path, fourth_dataset, fourth_dataset),col.names=F)\n",
    "\n",
    "dist_lcss_diff=TSDatabaseDistances(diff_train,distance='lcss',epsilon=0.05)\n",
    "dist_lcss_diff=as.matrix(dist_lcss_diff)\n",
    "diag(dist_lcss_diff)=large_number\n",
    "fwrite(dist_lcss_diff,sprintf('%s%s/%s_lcss_diff_epsilon_005.csv', distance_path, fourth_dataset, fourth_dataset),col.names=F)  \n",
    "\n",
    "dist_erp_diff=TSDatabaseDistances(diff_train,distance='erp',g=0.5)\n",
    "dist_erp_diff=as.matrix(dist_erp_diff)\n",
    "diag(dist_erp_diff)=large_number\n",
    "fwrite(dist_erp_diff,sprintf('%s%s/%s_erp_diff_gap_005.csv', distance_path, fourth_dataset, fourth_dataset),col.names=F)  "
   ]
  },
  {
   "cell_type": "markdown",
   "metadata": {},
   "source": [
    "### Second difference dataset when shift value is 2"
   ]
  },
  {
   "cell_type": "code",
   "execution_count": 89,
   "metadata": {},
   "outputs": [
    {
     "name": "stderr",
     "output_type": "stream",
     "text": [
      "x being coerced from class: matrix to data.table\n",
      "x being coerced from class: matrix to data.table\n",
      "x being coerced from class: matrix to data.table\n",
      "x being coerced from class: matrix to data.table\n"
     ]
    }
   ],
   "source": [
    "dist_euc_diff_2=as.matrix(dist(diff_train_2))\n",
    "diag(dist_euc_diff_2)=large_number\n",
    "fwrite(dist_euc_diff_2,sprintf('%s%s/%s_euc_diff2_dist.csv', distance_path, fourth_dataset, fourth_dataset),col.names=F)\n",
    "\n",
    "dist_dtw_diff_2=as.matrix(dtwDist(diff_train_2))\n",
    "diag(dist_dtw_diff_2)=large_number\n",
    "fwrite(dist_dtw_diff_2,sprintf('%s%s/%s_dtw_diff2_dist.csv', distance_path, fourth_dataset, fourth_dataset),col.names=F)\n",
    "\n",
    "dist_lcss_diff_2=TSDatabaseDistances(diff_train_2,distance='lcss',epsilon=0.05)\n",
    "dist_lcss_diff_2=as.matrix(dist_lcss_diff_2)\n",
    "diag(dist_lcss_diff_2)=large_number\n",
    "fwrite(dist_lcss_diff_2,sprintf('%s%s/%s_lcss_diff2_epsilon_005.csv', distance_path, fourth_dataset, fourth_dataset),col.names=F)  \n",
    "\n",
    "dist_erp_diff_2=TSDatabaseDistances(diff_train_2,distance='erp',g=0.5)\n",
    "dist_erp_diff_2=as.matrix(dist_erp_diff_2)\n",
    "diag(dist_erp_diff_2)=large_number\n",
    "fwrite(dist_erp_diff_2,sprintf('%s%s/%s_erp_diff2_gap_005.csv', distance_path, fourth_dataset, fourth_dataset),col.names=F)  "
   ]
  },
  {
   "cell_type": "markdown",
   "metadata": {},
   "source": [
    "<a id=\"9\"></a>\n",
    "## PAA Datasets"
   ]
  },
  {
   "cell_type": "markdown",
   "metadata": {},
   "source": [
    "### First PAA dataset when segment length value is 13"
   ]
  },
  {
   "cell_type": "code",
   "execution_count": 90,
   "metadata": {},
   "outputs": [
    {
     "name": "stderr",
     "output_type": "stream",
     "text": [
      "x being coerced from class: matrix to data.table\n",
      "x being coerced from class: matrix to data.table\n",
      "x being coerced from class: matrix to data.table\n",
      "x being coerced from class: matrix to data.table\n"
     ]
    }
   ],
   "source": [
    "dist_euc_paa=as.matrix(dist(paa_train))\n",
    "diag(dist_euc_paa)=large_number\n",
    "fwrite(dist_euc_paa,sprintf('%s%s/%s_euc_paa_dist.csv', distance_path, fourth_dataset, fourth_dataset),col.names=F)\n",
    "\n",
    "dist_dtw_paa=as.matrix(dtwDist(paa_train))\n",
    "diag(dist_dtw_paa)=large_number\n",
    "fwrite(dist_dtw_paa,sprintf('%s%s/%s_dtw_paa_dist.csv', distance_path, fourth_dataset, fourth_dataset),col.names=F)\n",
    "\n",
    "dist_lcss_paa=TSDatabaseDistances(paa_train,distance='lcss',epsilon=0.05)\n",
    "dist_lcss_paa=as.matrix(dist_lcss_paa)\n",
    "diag(dist_lcss_paa)=large_number\n",
    "fwrite(dist_lcss_paa,sprintf('%s%s/%s_lcss_paa_epsilon_005.csv', distance_path, fourth_dataset, fourth_dataset),col.names=F)  \n",
    "\n",
    "dist_erp_paa=TSDatabaseDistances(paa_train,distance='erp',g=0.5)\n",
    "dist_erp_paa=as.matrix(dist_erp_paa)\n",
    "diag(dist_erp_paa)=large_number\n",
    "fwrite(dist_erp_paa,sprintf('%s%s/%s_erp_paa_gap_005.csv', distance_path, fourth_dataset, fourth_dataset),col.names=F)  "
   ]
  },
  {
   "cell_type": "markdown",
   "metadata": {},
   "source": [
    "### Second PAA dataset when segment length value is 26"
   ]
  },
  {
   "cell_type": "code",
   "execution_count": 91,
   "metadata": {},
   "outputs": [
    {
     "name": "stderr",
     "output_type": "stream",
     "text": [
      "x being coerced from class: matrix to data.table\n",
      "x being coerced from class: matrix to data.table\n",
      "x being coerced from class: matrix to data.table\n",
      "x being coerced from class: matrix to data.table\n"
     ]
    }
   ],
   "source": [
    "dist_euc_paa_2=as.matrix(dist(paa_train_2))\n",
    "diag(dist_euc_paa_2)=large_number\n",
    "fwrite(dist_euc_paa_2,sprintf('%s%s/%s_euc_paa2_dist.csv', distance_path, fourth_dataset, fourth_dataset),col.names=F)\n",
    "\n",
    "dist_dtw_paa_2=as.matrix(dtwDist(paa_train_2))\n",
    "diag(dist_dtw_paa_2)=large_number\n",
    "fwrite(dist_dtw_paa_2,sprintf('%s%s/%s_dtw_paa2_dist.csv', distance_path, fourth_dataset, fourth_dataset),col.names=F)\n",
    "\n",
    "dist_lcss_paa_2=TSDatabaseDistances(paa_train_2,distance='lcss',epsilon=0.05)\n",
    "dist_lcss_paa_2=as.matrix(dist_lcss_paa_2)\n",
    "diag(dist_lcss_paa_2)=large_number\n",
    "fwrite(dist_lcss_paa_2,sprintf('%s%s/%s_lcss_paa2_epsilon_005.csv', distance_path, fourth_dataset, fourth_dataset),col.names=F)  \n",
    "\n",
    "dist_erp_paa_2=TSDatabaseDistances(paa_train_2,distance='erp',g=0.5)\n",
    "dist_erp_paa_2=as.matrix(dist_erp_paa_2)\n",
    "diag(dist_erp_paa_2)=large_number\n",
    "fwrite(dist_erp_paa_2,sprintf('%s%s/%s_erp_paa2_gap_005.csv', distance_path, fourth_dataset, fourth_dataset),col.names=F)  "
   ]
  },
  {
   "cell_type": "markdown",
   "metadata": {},
   "source": [
    "### To store obtained distance datasetes in a list"
   ]
  },
  {
   "cell_type": "code",
   "execution_count": 92,
   "metadata": {},
   "outputs": [],
   "source": [
    "dist_folder=sprintf('%s%s', distance_path, fourth_dataset)\n",
    "dist_files=list.files(dist_folder, full.names=T)"
   ]
  },
  {
   "cell_type": "code",
   "execution_count": 93,
   "metadata": {},
   "outputs": [
    {
     "data": {
      "text/html": [
       "<ol class=list-inline>\n",
       "\t<li>'C:/Users/bahad/GitHub/IE48B/Homework3/Distances/Coffee/Coffee_dtw_diff_dist.csv'</li>\n",
       "\t<li>'C:/Users/bahad/GitHub/IE48B/Homework3/Distances/Coffee/Coffee_dtw_diff2_dist.csv'</li>\n",
       "\t<li>'C:/Users/bahad/GitHub/IE48B/Homework3/Distances/Coffee/Coffee_dtw_paa_dist.csv'</li>\n",
       "\t<li>'C:/Users/bahad/GitHub/IE48B/Homework3/Distances/Coffee/Coffee_dtw_paa2_dist.csv'</li>\n",
       "\t<li>'C:/Users/bahad/GitHub/IE48B/Homework3/Distances/Coffee/Coffee_dtw_raw_dist.csv'</li>\n",
       "\t<li>'C:/Users/bahad/GitHub/IE48B/Homework3/Distances/Coffee/Coffee_erp_diff_gap_005.csv'</li>\n",
       "\t<li>'C:/Users/bahad/GitHub/IE48B/Homework3/Distances/Coffee/Coffee_erp_diff2_gap_005.csv'</li>\n",
       "\t<li>'C:/Users/bahad/GitHub/IE48B/Homework3/Distances/Coffee/Coffee_erp_paa_gap_005.csv'</li>\n",
       "\t<li>'C:/Users/bahad/GitHub/IE48B/Homework3/Distances/Coffee/Coffee_erp_paa2_gap_005.csv'</li>\n",
       "\t<li>'C:/Users/bahad/GitHub/IE48B/Homework3/Distances/Coffee/Coffee_erp_raw_gap_005.csv'</li>\n",
       "\t<li>'C:/Users/bahad/GitHub/IE48B/Homework3/Distances/Coffee/Coffee_euc_diff_dist.csv'</li>\n",
       "\t<li>'C:/Users/bahad/GitHub/IE48B/Homework3/Distances/Coffee/Coffee_euc_diff2_dist.csv'</li>\n",
       "\t<li>'C:/Users/bahad/GitHub/IE48B/Homework3/Distances/Coffee/Coffee_euc_paa_dist.csv'</li>\n",
       "\t<li>'C:/Users/bahad/GitHub/IE48B/Homework3/Distances/Coffee/Coffee_euc_paa2_dist.csv'</li>\n",
       "\t<li>'C:/Users/bahad/GitHub/IE48B/Homework3/Distances/Coffee/Coffee_euc_raw_dist.csv'</li>\n",
       "\t<li>'C:/Users/bahad/GitHub/IE48B/Homework3/Distances/Coffee/Coffee_lcss_diff_epsilon_005.csv'</li>\n",
       "\t<li>'C:/Users/bahad/GitHub/IE48B/Homework3/Distances/Coffee/Coffee_lcss_diff2_epsilon_005.csv'</li>\n",
       "\t<li>'C:/Users/bahad/GitHub/IE48B/Homework3/Distances/Coffee/Coffee_lcss_paa_epsilon_005.csv'</li>\n",
       "\t<li>'C:/Users/bahad/GitHub/IE48B/Homework3/Distances/Coffee/Coffee_lcss_paa2_epsilon_005.csv'</li>\n",
       "\t<li>'C:/Users/bahad/GitHub/IE48B/Homework3/Distances/Coffee/Coffee_lcss_raw_epsilon_005.csv'</li>\n",
       "</ol>\n"
      ],
      "text/latex": [
       "\\begin{enumerate*}\n",
       "\\item 'C:/Users/bahad/GitHub/IE48B/Homework3/Distances/Coffee/Coffee\\_dtw\\_diff\\_dist.csv'\n",
       "\\item 'C:/Users/bahad/GitHub/IE48B/Homework3/Distances/Coffee/Coffee\\_dtw\\_diff2\\_dist.csv'\n",
       "\\item 'C:/Users/bahad/GitHub/IE48B/Homework3/Distances/Coffee/Coffee\\_dtw\\_paa\\_dist.csv'\n",
       "\\item 'C:/Users/bahad/GitHub/IE48B/Homework3/Distances/Coffee/Coffee\\_dtw\\_paa2\\_dist.csv'\n",
       "\\item 'C:/Users/bahad/GitHub/IE48B/Homework3/Distances/Coffee/Coffee\\_dtw\\_raw\\_dist.csv'\n",
       "\\item 'C:/Users/bahad/GitHub/IE48B/Homework3/Distances/Coffee/Coffee\\_erp\\_diff\\_gap\\_005.csv'\n",
       "\\item 'C:/Users/bahad/GitHub/IE48B/Homework3/Distances/Coffee/Coffee\\_erp\\_diff2\\_gap\\_005.csv'\n",
       "\\item 'C:/Users/bahad/GitHub/IE48B/Homework3/Distances/Coffee/Coffee\\_erp\\_paa\\_gap\\_005.csv'\n",
       "\\item 'C:/Users/bahad/GitHub/IE48B/Homework3/Distances/Coffee/Coffee\\_erp\\_paa2\\_gap\\_005.csv'\n",
       "\\item 'C:/Users/bahad/GitHub/IE48B/Homework3/Distances/Coffee/Coffee\\_erp\\_raw\\_gap\\_005.csv'\n",
       "\\item 'C:/Users/bahad/GitHub/IE48B/Homework3/Distances/Coffee/Coffee\\_euc\\_diff\\_dist.csv'\n",
       "\\item 'C:/Users/bahad/GitHub/IE48B/Homework3/Distances/Coffee/Coffee\\_euc\\_diff2\\_dist.csv'\n",
       "\\item 'C:/Users/bahad/GitHub/IE48B/Homework3/Distances/Coffee/Coffee\\_euc\\_paa\\_dist.csv'\n",
       "\\item 'C:/Users/bahad/GitHub/IE48B/Homework3/Distances/Coffee/Coffee\\_euc\\_paa2\\_dist.csv'\n",
       "\\item 'C:/Users/bahad/GitHub/IE48B/Homework3/Distances/Coffee/Coffee\\_euc\\_raw\\_dist.csv'\n",
       "\\item 'C:/Users/bahad/GitHub/IE48B/Homework3/Distances/Coffee/Coffee\\_lcss\\_diff\\_epsilon\\_005.csv'\n",
       "\\item 'C:/Users/bahad/GitHub/IE48B/Homework3/Distances/Coffee/Coffee\\_lcss\\_diff2\\_epsilon\\_005.csv'\n",
       "\\item 'C:/Users/bahad/GitHub/IE48B/Homework3/Distances/Coffee/Coffee\\_lcss\\_paa\\_epsilon\\_005.csv'\n",
       "\\item 'C:/Users/bahad/GitHub/IE48B/Homework3/Distances/Coffee/Coffee\\_lcss\\_paa2\\_epsilon\\_005.csv'\n",
       "\\item 'C:/Users/bahad/GitHub/IE48B/Homework3/Distances/Coffee/Coffee\\_lcss\\_raw\\_epsilon\\_005.csv'\n",
       "\\end{enumerate*}\n"
      ],
      "text/markdown": [
       "1. 'C:/Users/bahad/GitHub/IE48B/Homework3/Distances/Coffee/Coffee_dtw_diff_dist.csv'\n",
       "2. 'C:/Users/bahad/GitHub/IE48B/Homework3/Distances/Coffee/Coffee_dtw_diff2_dist.csv'\n",
       "3. 'C:/Users/bahad/GitHub/IE48B/Homework3/Distances/Coffee/Coffee_dtw_paa_dist.csv'\n",
       "4. 'C:/Users/bahad/GitHub/IE48B/Homework3/Distances/Coffee/Coffee_dtw_paa2_dist.csv'\n",
       "5. 'C:/Users/bahad/GitHub/IE48B/Homework3/Distances/Coffee/Coffee_dtw_raw_dist.csv'\n",
       "6. 'C:/Users/bahad/GitHub/IE48B/Homework3/Distances/Coffee/Coffee_erp_diff_gap_005.csv'\n",
       "7. 'C:/Users/bahad/GitHub/IE48B/Homework3/Distances/Coffee/Coffee_erp_diff2_gap_005.csv'\n",
       "8. 'C:/Users/bahad/GitHub/IE48B/Homework3/Distances/Coffee/Coffee_erp_paa_gap_005.csv'\n",
       "9. 'C:/Users/bahad/GitHub/IE48B/Homework3/Distances/Coffee/Coffee_erp_paa2_gap_005.csv'\n",
       "10. 'C:/Users/bahad/GitHub/IE48B/Homework3/Distances/Coffee/Coffee_erp_raw_gap_005.csv'\n",
       "11. 'C:/Users/bahad/GitHub/IE48B/Homework3/Distances/Coffee/Coffee_euc_diff_dist.csv'\n",
       "12. 'C:/Users/bahad/GitHub/IE48B/Homework3/Distances/Coffee/Coffee_euc_diff2_dist.csv'\n",
       "13. 'C:/Users/bahad/GitHub/IE48B/Homework3/Distances/Coffee/Coffee_euc_paa_dist.csv'\n",
       "14. 'C:/Users/bahad/GitHub/IE48B/Homework3/Distances/Coffee/Coffee_euc_paa2_dist.csv'\n",
       "15. 'C:/Users/bahad/GitHub/IE48B/Homework3/Distances/Coffee/Coffee_euc_raw_dist.csv'\n",
       "16. 'C:/Users/bahad/GitHub/IE48B/Homework3/Distances/Coffee/Coffee_lcss_diff_epsilon_005.csv'\n",
       "17. 'C:/Users/bahad/GitHub/IE48B/Homework3/Distances/Coffee/Coffee_lcss_diff2_epsilon_005.csv'\n",
       "18. 'C:/Users/bahad/GitHub/IE48B/Homework3/Distances/Coffee/Coffee_lcss_paa_epsilon_005.csv'\n",
       "19. 'C:/Users/bahad/GitHub/IE48B/Homework3/Distances/Coffee/Coffee_lcss_paa2_epsilon_005.csv'\n",
       "20. 'C:/Users/bahad/GitHub/IE48B/Homework3/Distances/Coffee/Coffee_lcss_raw_epsilon_005.csv'\n",
       "\n",
       "\n"
      ],
      "text/plain": [
       " [1] \"C:/Users/bahad/GitHub/IE48B/Homework3/Distances/Coffee/Coffee_dtw_diff_dist.csv\"         \n",
       " [2] \"C:/Users/bahad/GitHub/IE48B/Homework3/Distances/Coffee/Coffee_dtw_diff2_dist.csv\"        \n",
       " [3] \"C:/Users/bahad/GitHub/IE48B/Homework3/Distances/Coffee/Coffee_dtw_paa_dist.csv\"          \n",
       " [4] \"C:/Users/bahad/GitHub/IE48B/Homework3/Distances/Coffee/Coffee_dtw_paa2_dist.csv\"         \n",
       " [5] \"C:/Users/bahad/GitHub/IE48B/Homework3/Distances/Coffee/Coffee_dtw_raw_dist.csv\"          \n",
       " [6] \"C:/Users/bahad/GitHub/IE48B/Homework3/Distances/Coffee/Coffee_erp_diff_gap_005.csv\"      \n",
       " [7] \"C:/Users/bahad/GitHub/IE48B/Homework3/Distances/Coffee/Coffee_erp_diff2_gap_005.csv\"     \n",
       " [8] \"C:/Users/bahad/GitHub/IE48B/Homework3/Distances/Coffee/Coffee_erp_paa_gap_005.csv\"       \n",
       " [9] \"C:/Users/bahad/GitHub/IE48B/Homework3/Distances/Coffee/Coffee_erp_paa2_gap_005.csv\"      \n",
       "[10] \"C:/Users/bahad/GitHub/IE48B/Homework3/Distances/Coffee/Coffee_erp_raw_gap_005.csv\"       \n",
       "[11] \"C:/Users/bahad/GitHub/IE48B/Homework3/Distances/Coffee/Coffee_euc_diff_dist.csv\"         \n",
       "[12] \"C:/Users/bahad/GitHub/IE48B/Homework3/Distances/Coffee/Coffee_euc_diff2_dist.csv\"        \n",
       "[13] \"C:/Users/bahad/GitHub/IE48B/Homework3/Distances/Coffee/Coffee_euc_paa_dist.csv\"          \n",
       "[14] \"C:/Users/bahad/GitHub/IE48B/Homework3/Distances/Coffee/Coffee_euc_paa2_dist.csv\"         \n",
       "[15] \"C:/Users/bahad/GitHub/IE48B/Homework3/Distances/Coffee/Coffee_euc_raw_dist.csv\"          \n",
       "[16] \"C:/Users/bahad/GitHub/IE48B/Homework3/Distances/Coffee/Coffee_lcss_diff_epsilon_005.csv\" \n",
       "[17] \"C:/Users/bahad/GitHub/IE48B/Homework3/Distances/Coffee/Coffee_lcss_diff2_epsilon_005.csv\"\n",
       "[18] \"C:/Users/bahad/GitHub/IE48B/Homework3/Distances/Coffee/Coffee_lcss_paa_epsilon_005.csv\"  \n",
       "[19] \"C:/Users/bahad/GitHub/IE48B/Homework3/Distances/Coffee/Coffee_lcss_paa2_epsilon_005.csv\" \n",
       "[20] \"C:/Users/bahad/GitHub/IE48B/Homework3/Distances/Coffee/Coffee_lcss_raw_epsilon_005.csv\"  "
      ]
     },
     "metadata": {},
     "output_type": "display_data"
    }
   ],
   "source": [
    "dist_files"
   ]
  },
  {
   "cell_type": "code",
   "execution_count": null,
   "metadata": {},
   "outputs": [],
   "source": []
  },
  {
   "cell_type": "code",
   "execution_count": null,
   "metadata": {},
   "outputs": [],
   "source": []
  },
  {
   "cell_type": "markdown",
   "metadata": {},
   "source": [
    "<a id=\"10\"></a>\n",
    "# Main Model"
   ]
  },
  {
   "cell_type": "code",
   "execution_count": 94,
   "metadata": {},
   "outputs": [],
   "source": [
    "k_levels=c(1,5,10)\n",
    "approach_file=list.files(dist_folder)"
   ]
  },
  {
   "cell_type": "code",
   "execution_count": 95,
   "metadata": {},
   "outputs": [],
   "source": [
    "result=vector('list',length(dist_files)*nof_rep*n_fold*length(k_levels))"
   ]
  },
  {
   "cell_type": "code",
   "execution_count": 96,
   "metadata": {},
   "outputs": [
    {
     "name": "stdout",
     "output_type": "stream",
     "text": [
      "[1] \"C:/Users/bahad/GitHub/IE48B/Homework3/Distances/Coffee/Coffee_dtw_diff_dist.csv\"\n",
      "[1] \"C:/Users/bahad/GitHub/IE48B/Homework3/Distances/Coffee/Coffee_dtw_diff2_dist.csv\"\n",
      "[1] \"C:/Users/bahad/GitHub/IE48B/Homework3/Distances/Coffee/Coffee_dtw_paa_dist.csv\"\n",
      "[1] \"C:/Users/bahad/GitHub/IE48B/Homework3/Distances/Coffee/Coffee_dtw_paa2_dist.csv\"\n",
      "[1] \"C:/Users/bahad/GitHub/IE48B/Homework3/Distances/Coffee/Coffee_dtw_raw_dist.csv\"\n",
      "[1] \"C:/Users/bahad/GitHub/IE48B/Homework3/Distances/Coffee/Coffee_erp_diff_gap_005.csv\"\n",
      "[1] \"C:/Users/bahad/GitHub/IE48B/Homework3/Distances/Coffee/Coffee_erp_diff2_gap_005.csv\"\n",
      "[1] \"C:/Users/bahad/GitHub/IE48B/Homework3/Distances/Coffee/Coffee_erp_paa_gap_005.csv\"\n",
      "[1] \"C:/Users/bahad/GitHub/IE48B/Homework3/Distances/Coffee/Coffee_erp_paa2_gap_005.csv\"\n",
      "[1] \"C:/Users/bahad/GitHub/IE48B/Homework3/Distances/Coffee/Coffee_erp_raw_gap_005.csv\"\n",
      "[1] \"C:/Users/bahad/GitHub/IE48B/Homework3/Distances/Coffee/Coffee_euc_diff_dist.csv\"\n",
      "[1] \"C:/Users/bahad/GitHub/IE48B/Homework3/Distances/Coffee/Coffee_euc_diff2_dist.csv\"\n",
      "[1] \"C:/Users/bahad/GitHub/IE48B/Homework3/Distances/Coffee/Coffee_euc_paa_dist.csv\"\n",
      "[1] \"C:/Users/bahad/GitHub/IE48B/Homework3/Distances/Coffee/Coffee_euc_paa2_dist.csv\"\n",
      "[1] \"C:/Users/bahad/GitHub/IE48B/Homework3/Distances/Coffee/Coffee_euc_raw_dist.csv\"\n",
      "[1] \"C:/Users/bahad/GitHub/IE48B/Homework3/Distances/Coffee/Coffee_lcss_diff_epsilon_005.csv\"\n",
      "[1] \"C:/Users/bahad/GitHub/IE48B/Homework3/Distances/Coffee/Coffee_lcss_diff2_epsilon_005.csv\"\n",
      "[1] \"C:/Users/bahad/GitHub/IE48B/Homework3/Distances/Coffee/Coffee_lcss_paa_epsilon_005.csv\"\n",
      "[1] \"C:/Users/bahad/GitHub/IE48B/Homework3/Distances/Coffee/Coffee_lcss_paa2_epsilon_005.csv\"\n",
      "[1] \"C:/Users/bahad/GitHub/IE48B/Homework3/Distances/Coffee/Coffee_lcss_raw_epsilon_005.csv\"\n"
     ]
    }
   ],
   "source": [
    "iter=1\n",
    "for(m in 1:length(dist_files)){ #\n",
    "    print(dist_files[m])\n",
    "    dist_mat=as.matrix(fread(dist_files[m],header=FALSE))\n",
    "    for(i in 1:nof_rep){\n",
    "        this_fold=cv_indices[[i]]\n",
    "        for(j in 1:n_fold){\n",
    "            test_indices=this_fold[[j]]\n",
    "            for(k in 1:length(k_levels)){\n",
    "                current_k=k_levels[k]\n",
    "                current_fold=nn_classify_cv(dist_mat,trainclass,test_indices,k=current_k)\n",
    "                accuracy=sum(trainclass[test_indices]==current_fold$prediction$predicted)/length(test_indices)\n",
    "                tmp=data.table(approach=approach_file[m],repid=i,foldid=j,\n",
    "                               k=current_k,acc=accuracy)\n",
    "                result[[iter]]=tmp\n",
    "                iter=iter+1\n",
    "            }\n",
    "            \n",
    "        }\n",
    "    \n",
    "    }   \n",
    "    \n",
    "}"
   ]
  },
  {
   "cell_type": "markdown",
   "metadata": {},
   "source": [
    "<a id=\"11\"></a>\n",
    "# Result of Models"
   ]
  },
  {
   "cell_type": "code",
   "execution_count": 97,
   "metadata": {},
   "outputs": [
    {
     "data": {
      "text/html": [
       "<table>\n",
       "<thead><tr><th scope=col>approach</th><th scope=col>repid</th><th scope=col>foldid</th><th scope=col>k</th><th scope=col>acc</th></tr></thead>\n",
       "<tbody>\n",
       "\t<tr><td>Coffee_dtw_diff_dist.csv</td><td>1                       </td><td>1                       </td><td> 1                      </td><td>1                       </td></tr>\n",
       "\t<tr><td>Coffee_dtw_diff_dist.csv</td><td>1                       </td><td>1                       </td><td> 5                      </td><td>1                       </td></tr>\n",
       "\t<tr><td>Coffee_dtw_diff_dist.csv</td><td>1                       </td><td>1                       </td><td>10                      </td><td>1                       </td></tr>\n",
       "\t<tr><td>Coffee_dtw_diff_dist.csv</td><td>1                       </td><td>2                       </td><td> 1                      </td><td>1                       </td></tr>\n",
       "\t<tr><td>Coffee_dtw_diff_dist.csv</td><td>1                       </td><td>2                       </td><td> 5                      </td><td>1                       </td></tr>\n",
       "\t<tr><td>Coffee_dtw_diff_dist.csv</td><td>1                       </td><td>2                       </td><td>10                      </td><td>1                       </td></tr>\n",
       "</tbody>\n",
       "</table>\n"
      ],
      "text/latex": [
       "\\begin{tabular}{r|lllll}\n",
       " approach & repid & foldid & k & acc\\\\\n",
       "\\hline\n",
       "\t Coffee\\_dtw\\_diff\\_dist.csv & 1                              & 1                              &  1                             & 1                             \\\\\n",
       "\t Coffee\\_dtw\\_diff\\_dist.csv & 1                              & 1                              &  5                             & 1                             \\\\\n",
       "\t Coffee\\_dtw\\_diff\\_dist.csv & 1                              & 1                              & 10                             & 1                             \\\\\n",
       "\t Coffee\\_dtw\\_diff\\_dist.csv & 1                              & 2                              &  1                             & 1                             \\\\\n",
       "\t Coffee\\_dtw\\_diff\\_dist.csv & 1                              & 2                              &  5                             & 1                             \\\\\n",
       "\t Coffee\\_dtw\\_diff\\_dist.csv & 1                              & 2                              & 10                             & 1                             \\\\\n",
       "\\end{tabular}\n"
      ],
      "text/markdown": [
       "\n",
       "| approach | repid | foldid | k | acc |\n",
       "|---|---|---|---|---|\n",
       "| Coffee_dtw_diff_dist.csv | 1                        | 1                        |  1                       | 1                        |\n",
       "| Coffee_dtw_diff_dist.csv | 1                        | 1                        |  5                       | 1                        |\n",
       "| Coffee_dtw_diff_dist.csv | 1                        | 1                        | 10                       | 1                        |\n",
       "| Coffee_dtw_diff_dist.csv | 1                        | 2                        |  1                       | 1                        |\n",
       "| Coffee_dtw_diff_dist.csv | 1                        | 2                        |  5                       | 1                        |\n",
       "| Coffee_dtw_diff_dist.csv | 1                        | 2                        | 10                       | 1                        |\n",
       "\n"
      ],
      "text/plain": [
       "  approach                 repid foldid k  acc\n",
       "1 Coffee_dtw_diff_dist.csv 1     1       1 1  \n",
       "2 Coffee_dtw_diff_dist.csv 1     1       5 1  \n",
       "3 Coffee_dtw_diff_dist.csv 1     1      10 1  \n",
       "4 Coffee_dtw_diff_dist.csv 1     2       1 1  \n",
       "5 Coffee_dtw_diff_dist.csv 1     2       5 1  \n",
       "6 Coffee_dtw_diff_dist.csv 1     2      10 1  "
      ]
     },
     "metadata": {},
     "output_type": "display_data"
    }
   ],
   "source": [
    "dataframe_result=rbindlist(result)\n",
    "head(dataframe_result)"
   ]
  },
  {
   "cell_type": "markdown",
   "metadata": {},
   "source": [
    "In this dataset, result of each fold exists in this dataframe. repid and foldid represent which repetition and fold respectively. "
   ]
  },
  {
   "cell_type": "markdown",
   "metadata": {},
   "source": [
    "### Accumulated Datasets"
   ]
  },
  {
   "cell_type": "code",
   "execution_count": 98,
   "metadata": {
    "scrolled": true
   },
   "outputs": [],
   "source": [
    "acc_res=dataframe_result[,list(avg_acc=mean(acc),sdev_acc=sd(acc), repid=max(repid), foldid=max(foldid), \n",
    "                                   result_count=.N),by=list(approach,k)]\n",
    "acc_res_ordered=acc_res[order(avg_acc,decreasing = TRUE)]"
   ]
  },
  {
   "cell_type": "markdown",
   "metadata": {},
   "source": [
    "Accumulated dataset are ordered by avg_acc value. "
   ]
  },
  {
   "cell_type": "code",
   "execution_count": 99,
   "metadata": {},
   "outputs": [
    {
     "data": {
      "text/html": [
       "<table>\n",
       "<thead><tr><th scope=col>approach</th><th scope=col>k</th><th scope=col>avg_acc</th><th scope=col>sdev_acc</th><th scope=col>repid</th><th scope=col>foldid</th><th scope=col>result_count</th></tr></thead>\n",
       "<tbody>\n",
       "\t<tr><td>Coffee_erp_diff2_gap_005.csv     </td><td> 1                               </td><td>1.00000000                       </td><td>0.00000000                       </td><td>5                                </td><td>10                               </td><td>50                               </td></tr>\n",
       "\t<tr><td>Coffee_erp_diff2_gap_005.csv     </td><td>10                               </td><td>1.00000000                       </td><td>0.00000000                       </td><td>5                                </td><td>10                               </td><td>50                               </td></tr>\n",
       "\t<tr><td>Coffee_erp_raw_gap_005.csv       </td><td>10                               </td><td>1.00000000                       </td><td>0.00000000                       </td><td>5                                </td><td>10                               </td><td>50                               </td></tr>\n",
       "\t<tr><td>Coffee_euc_diff2_dist.csv        </td><td> 1                               </td><td>1.00000000                       </td><td>0.00000000                       </td><td>5                                </td><td>10                               </td><td>50                               </td></tr>\n",
       "\t<tr><td>Coffee_euc_diff2_dist.csv        </td><td> 5                               </td><td>1.00000000                       </td><td>0.00000000                       </td><td>5                                </td><td>10                               </td><td>50                               </td></tr>\n",
       "\t<tr><td>Coffee_euc_raw_dist.csv          </td><td> 1                               </td><td>1.00000000                       </td><td>0.00000000                       </td><td>5                                </td><td>10                               </td><td>50                               </td></tr>\n",
       "\t<tr><td>Coffee_euc_raw_dist.csv          </td><td>10                               </td><td>1.00000000                       </td><td>0.00000000                       </td><td>5                                </td><td>10                               </td><td>50                               </td></tr>\n",
       "\t<tr><td>Coffee_dtw_raw_dist.csv          </td><td>10                               </td><td>0.99333333                       </td><td>0.04714045                       </td><td>5                                </td><td>10                               </td><td>50                               </td></tr>\n",
       "\t<tr><td>Coffee_erp_paa_gap_005.csv       </td><td> 1                               </td><td>0.98666667                       </td><td>0.06598289                       </td><td>5                                </td><td>10                               </td><td>50                               </td></tr>\n",
       "\t<tr><td>Coffee_euc_paa_dist.csv          </td><td> 1                               </td><td>0.98666667                       </td><td>0.06598289                       </td><td>5                                </td><td>10                               </td><td>50                               </td></tr>\n",
       "\t<tr><td>Coffee_euc_paa_dist.csv          </td><td>10                               </td><td>0.98666667                       </td><td>0.06598289                       </td><td>5                                </td><td>10                               </td><td>50                               </td></tr>\n",
       "\t<tr><td>Coffee_dtw_raw_dist.csv          </td><td> 5                               </td><td>0.98666667                       </td><td>0.06598289                       </td><td>5                                </td><td>10                               </td><td>50                               </td></tr>\n",
       "\t<tr><td>Coffee_euc_diff2_dist.csv        </td><td>10                               </td><td>0.98666667                       </td><td>0.06598289                       </td><td>5                                </td><td>10                               </td><td>50                               </td></tr>\n",
       "\t<tr><td>Coffee_euc_diff_dist.csv         </td><td>10                               </td><td>0.98333333                       </td><td>0.08417938                       </td><td>5                                </td><td>10                               </td><td>50                               </td></tr>\n",
       "\t<tr><td>Coffee_erp_raw_gap_005.csv       </td><td> 1                               </td><td>0.98000000                       </td><td>0.07996598                       </td><td>5                                </td><td>10                               </td><td>50                               </td></tr>\n",
       "\t<tr><td>Coffee_euc_raw_dist.csv          </td><td> 5                               </td><td>0.97333333                       </td><td>0.10837911                       </td><td>5                                </td><td>10                               </td><td>50                               </td></tr>\n",
       "\t<tr><td>Coffee_dtw_diff2_dist.csv        </td><td>10                               </td><td>0.97333333                       </td><td>0.09134917                       </td><td>5                                </td><td>10                               </td><td>50                               </td></tr>\n",
       "\t<tr><td>Coffee_erp_diff2_gap_005.csv     </td><td> 5                               </td><td>0.96666667                       </td><td>0.10101525                       </td><td>5                                </td><td>10                               </td><td>50                               </td></tr>\n",
       "\t<tr><td>Coffee_erp_paa_gap_005.csv       </td><td>10                               </td><td>0.96666667                       </td><td>0.11664237                       </td><td>5                                </td><td>10                               </td><td>50                               </td></tr>\n",
       "\t<tr><td>Coffee_dtw_diff_dist.csv         </td><td> 5                               </td><td>0.96333333                       </td><td>0.11313909                       </td><td>5                                </td><td>10                               </td><td>50                               </td></tr>\n",
       "\t<tr><td>Coffee_dtw_diff2_dist.csv        </td><td> 1                               </td><td>0.96333333                       </td><td>0.11313909                       </td><td>5                                </td><td>10                               </td><td>50                               </td></tr>\n",
       "\t<tr><td>Coffee_euc_diff_dist.csv         </td><td> 1                               </td><td>0.96333333                       </td><td>0.11313909                       </td><td>5                                </td><td>10                               </td><td>50                               </td></tr>\n",
       "\t<tr><td>Coffee_erp_raw_gap_005.csv       </td><td> 5                               </td><td>0.96000000                       </td><td>0.12399254                       </td><td>5                                </td><td>10                               </td><td>50                               </td></tr>\n",
       "\t<tr><td>Coffee_euc_paa_dist.csv          </td><td> 5                               </td><td>0.96000000                       </td><td>0.12399254                       </td><td>5                                </td><td>10                               </td><td>50                               </td></tr>\n",
       "\t<tr><td>Coffee_euc_diff_dist.csv         </td><td> 5                               </td><td>0.95666667                       </td><td>0.12051477                       </td><td>5                                </td><td>10                               </td><td>50                               </td></tr>\n",
       "\t<tr><td>Coffee_dtw_raw_dist.csv          </td><td> 1                               </td><td>0.95333333                       </td><td>0.13058390                       </td><td>5                                </td><td>10                               </td><td>50                               </td></tr>\n",
       "\t<tr><td>Coffee_erp_paa_gap_005.csv       </td><td> 5                               </td><td>0.94666667                       </td><td>0.13652639                       </td><td>5                                </td><td>10                               </td><td>50                               </td></tr>\n",
       "\t<tr><td>Coffee_dtw_diff_dist.csv         </td><td>10                               </td><td>0.94333333                       </td><td>0.13303538                       </td><td>5                                </td><td>10                               </td><td>50                               </td></tr>\n",
       "\t<tr><td>Coffee_dtw_paa_dist.csv          </td><td> 1                               </td><td>0.94000000                       </td><td>0.14190157                       </td><td>5                                </td><td>10                               </td><td>50                               </td></tr>\n",
       "\t<tr><td>Coffee_dtw_diff_dist.csv         </td><td> 1                               </td><td>0.93000000                       </td><td>0.14321384                       </td><td>5                                </td><td>10                               </td><td>50                               </td></tr>\n",
       "\t<tr><td>Coffee_dtw_diff2_dist.csv        </td><td> 5                               </td><td>0.93000000                       </td><td>0.14321384                       </td><td>5                                </td><td>10                               </td><td>50                               </td></tr>\n",
       "\t<tr><td>Coffee_erp_diff_gap_005.csv      </td><td> 1                               </td><td>0.93000000                       </td><td>0.14321384                       </td><td>5                                </td><td>10                               </td><td>50                               </td></tr>\n",
       "\t<tr><td>Coffee_erp_diff_gap_005.csv      </td><td> 5                               </td><td>0.93000000                       </td><td>0.14321384                       </td><td>5                                </td><td>10                               </td><td>50                               </td></tr>\n",
       "\t<tr><td>Coffee_erp_diff_gap_005.csv      </td><td>10                               </td><td>0.93000000                       </td><td>0.14321384                       </td><td>5                                </td><td>10                               </td><td>50                               </td></tr>\n",
       "\t<tr><td>Coffee_dtw_paa_dist.csv          </td><td> 5                               </td><td>0.92666667                       </td><td>0.16550616                       </td><td>5                                </td><td>10                               </td><td>50                               </td></tr>\n",
       "\t<tr><td>Coffee_dtw_paa_dist.csv          </td><td>10                               </td><td>0.91000000                       </td><td>0.19110017                       </td><td>5                                </td><td>10                               </td><td>50                               </td></tr>\n",
       "\t<tr><td>Coffee_euc_paa2_dist.csv         </td><td>10                               </td><td>0.87000000                       </td><td>0.18223232                       </td><td>5                                </td><td>10                               </td><td>50                               </td></tr>\n",
       "\t<tr><td>Coffee_euc_paa2_dist.csv         </td><td> 1                               </td><td>0.77666667                       </td><td>0.21720237                       </td><td>5                                </td><td>10                               </td><td>50                               </td></tr>\n",
       "\t<tr><td>Coffee_euc_paa2_dist.csv         </td><td> 5                               </td><td>0.77666667                       </td><td>0.22236107                       </td><td>5                                </td><td>10                               </td><td>50                               </td></tr>\n",
       "\t<tr><td>Coffee_dtw_paa2_dist.csv         </td><td> 5                               </td><td>0.76666667                       </td><td>0.23328474                       </td><td>5                                </td><td>10                               </td><td>50                               </td></tr>\n",
       "\t<tr><td>Coffee_erp_paa2_gap_005.csv      </td><td>10                               </td><td>0.74666667                       </td><td>0.23866598                       </td><td>5                                </td><td>10                               </td><td>50                               </td></tr>\n",
       "\t<tr><td>Coffee_erp_paa2_gap_005.csv      </td><td> 5                               </td><td>0.71666667                       </td><td>0.25698849                       </td><td>5                                </td><td>10                               </td><td>50                               </td></tr>\n",
       "\t<tr><td>Coffee_erp_paa2_gap_005.csv      </td><td> 1                               </td><td>0.71000000                       </td><td>0.23282257                       </td><td>5                                </td><td>10                               </td><td>50                               </td></tr>\n",
       "\t<tr><td>Coffee_dtw_paa2_dist.csv         </td><td>10                               </td><td>0.70333333                       </td><td>0.25707671                       </td><td>5                                </td><td>10                               </td><td>50                               </td></tr>\n",
       "\t<tr><td>Coffee_dtw_paa2_dist.csv         </td><td> 1                               </td><td>0.61666667                       </td><td>0.29014423                       </td><td>5                                </td><td>10                               </td><td>50                               </td></tr>\n",
       "\t<tr><td>Coffee_lcss_paa_epsilon_005.csv  </td><td> 1                               </td><td>0.50000000                       </td><td>0.19342949                       </td><td>5                                </td><td>10                               </td><td>50                               </td></tr>\n",
       "\t<tr><td>Coffee_lcss_paa2_epsilon_005.csv </td><td> 1                               </td><td>0.35333333                       </td><td>0.21987422                       </td><td>5                                </td><td>10                               </td><td>50                               </td></tr>\n",
       "\t<tr><td>Coffee_lcss_paa_epsilon_005.csv  </td><td>10                               </td><td>0.28666667                       </td><td>0.24522654                       </td><td>5                                </td><td>10                               </td><td>50                               </td></tr>\n",
       "\t<tr><td>Coffee_lcss_paa2_epsilon_005.csv </td><td> 5                               </td><td>0.28000000                       </td><td>0.22946255                       </td><td>5                                </td><td>10                               </td><td>50                               </td></tr>\n",
       "\t<tr><td>Coffee_lcss_paa2_epsilon_005.csv </td><td>10                               </td><td>0.25000000                       </td><td>0.22899267                       </td><td>5                                </td><td>10                               </td><td>50                               </td></tr>\n",
       "\t<tr><td>Coffee_lcss_paa_epsilon_005.csv  </td><td> 5                               </td><td>0.24666667                       </td><td>0.20548047                       </td><td>5                                </td><td>10                               </td><td>50                               </td></tr>\n",
       "\t<tr><td>Coffee_lcss_raw_epsilon_005.csv  </td><td> 1                               </td><td>0.23666667                       </td><td>0.24302049                       </td><td>5                                </td><td>10                               </td><td>50                               </td></tr>\n",
       "\t<tr><td>Coffee_lcss_raw_epsilon_005.csv  </td><td> 5                               </td><td>0.12333333                       </td><td>0.18990987                       </td><td>5                                </td><td>10                               </td><td>50                               </td></tr>\n",
       "\t<tr><td>Coffee_lcss_diff_epsilon_005.csv </td><td> 1                               </td><td>0.11666667                       </td><td>0.18823081                       </td><td>5                                </td><td>10                               </td><td>50                               </td></tr>\n",
       "\t<tr><td>Coffee_lcss_raw_epsilon_005.csv  </td><td>10                               </td><td>0.10000000                       </td><td>0.17817416                       </td><td>5                                </td><td>10                               </td><td>50                               </td></tr>\n",
       "\t<tr><td>Coffee_lcss_diff2_epsilon_005.csv</td><td> 1                               </td><td>0.08333333                       </td><td>0.16581415                       </td><td>5                                </td><td>10                               </td><td>50                               </td></tr>\n",
       "\t<tr><td>Coffee_lcss_diff2_epsilon_005.csv</td><td> 5                               </td><td>0.07000000                       </td><td>0.14321384                       </td><td>5                                </td><td>10                               </td><td>50                               </td></tr>\n",
       "\t<tr><td>Coffee_lcss_diff_epsilon_005.csv </td><td>10                               </td><td>0.05333333                       </td><td>0.12344268                       </td><td>5                                </td><td>10                               </td><td>50                               </td></tr>\n",
       "\t<tr><td>Coffee_lcss_diff_epsilon_005.csv </td><td> 5                               </td><td>0.03333333                       </td><td>0.10101525                       </td><td>5                                </td><td>10                               </td><td>50                               </td></tr>\n",
       "\t<tr><td>Coffee_lcss_diff2_epsilon_005.csv</td><td>10                               </td><td>0.02333333                       </td><td>0.09529760                       </td><td>5                                </td><td>10                               </td><td>50                               </td></tr>\n",
       "</tbody>\n",
       "</table>\n"
      ],
      "text/latex": [
       "\\begin{tabular}{r|lllllll}\n",
       " approach & k & avg\\_acc & sdev\\_acc & repid & foldid & result\\_count\\\\\n",
       "\\hline\n",
       "\t Coffee\\_erp\\_diff2\\_gap\\_005.csv      &  1                                        & 1.00000000                                & 0.00000000                                & 5                                         & 10                                        & 50                                       \\\\\n",
       "\t Coffee\\_erp\\_diff2\\_gap\\_005.csv      & 10                                        & 1.00000000                                & 0.00000000                                & 5                                         & 10                                        & 50                                       \\\\\n",
       "\t Coffee\\_erp\\_raw\\_gap\\_005.csv        & 10                                        & 1.00000000                                & 0.00000000                                & 5                                         & 10                                        & 50                                       \\\\\n",
       "\t Coffee\\_euc\\_diff2\\_dist.csv         &  1                                      & 1.00000000                              & 0.00000000                              & 5                                       & 10                                      & 50                                     \\\\\n",
       "\t Coffee\\_euc\\_diff2\\_dist.csv         &  5                                      & 1.00000000                              & 0.00000000                              & 5                                       & 10                                      & 50                                     \\\\\n",
       "\t Coffee\\_euc\\_raw\\_dist.csv           &  1                                      & 1.00000000                              & 0.00000000                              & 5                                       & 10                                      & 50                                     \\\\\n",
       "\t Coffee\\_euc\\_raw\\_dist.csv           & 10                                      & 1.00000000                              & 0.00000000                              & 5                                       & 10                                      & 50                                     \\\\\n",
       "\t Coffee\\_dtw\\_raw\\_dist.csv           & 10                                      & 0.99333333                              & 0.04714045                              & 5                                       & 10                                      & 50                                     \\\\\n",
       "\t Coffee\\_erp\\_paa\\_gap\\_005.csv        &  1                                        & 0.98666667                                & 0.06598289                                & 5                                         & 10                                        & 50                                       \\\\\n",
       "\t Coffee\\_euc\\_paa\\_dist.csv           &  1                                      & 0.98666667                              & 0.06598289                              & 5                                       & 10                                      & 50                                     \\\\\n",
       "\t Coffee\\_euc\\_paa\\_dist.csv           & 10                                      & 0.98666667                              & 0.06598289                              & 5                                       & 10                                      & 50                                     \\\\\n",
       "\t Coffee\\_dtw\\_raw\\_dist.csv           &  5                                      & 0.98666667                              & 0.06598289                              & 5                                       & 10                                      & 50                                     \\\\\n",
       "\t Coffee\\_euc\\_diff2\\_dist.csv         & 10                                      & 0.98666667                              & 0.06598289                              & 5                                       & 10                                      & 50                                     \\\\\n",
       "\t Coffee\\_euc\\_diff\\_dist.csv          & 10                                      & 0.98333333                              & 0.08417938                              & 5                                       & 10                                      & 50                                     \\\\\n",
       "\t Coffee\\_erp\\_raw\\_gap\\_005.csv        &  1                                        & 0.98000000                                & 0.07996598                                & 5                                         & 10                                        & 50                                       \\\\\n",
       "\t Coffee\\_euc\\_raw\\_dist.csv           &  5                                      & 0.97333333                              & 0.10837911                              & 5                                       & 10                                      & 50                                     \\\\\n",
       "\t Coffee\\_dtw\\_diff2\\_dist.csv         & 10                                      & 0.97333333                              & 0.09134917                              & 5                                       & 10                                      & 50                                     \\\\\n",
       "\t Coffee\\_erp\\_diff2\\_gap\\_005.csv      &  5                                        & 0.96666667                                & 0.10101525                                & 5                                         & 10                                        & 50                                       \\\\\n",
       "\t Coffee\\_erp\\_paa\\_gap\\_005.csv        & 10                                        & 0.96666667                                & 0.11664237                                & 5                                         & 10                                        & 50                                       \\\\\n",
       "\t Coffee\\_dtw\\_diff\\_dist.csv          &  5                                      & 0.96333333                              & 0.11313909                              & 5                                       & 10                                      & 50                                     \\\\\n",
       "\t Coffee\\_dtw\\_diff2\\_dist.csv         &  1                                      & 0.96333333                              & 0.11313909                              & 5                                       & 10                                      & 50                                     \\\\\n",
       "\t Coffee\\_euc\\_diff\\_dist.csv          &  1                                      & 0.96333333                              & 0.11313909                              & 5                                       & 10                                      & 50                                     \\\\\n",
       "\t Coffee\\_erp\\_raw\\_gap\\_005.csv        &  5                                        & 0.96000000                                & 0.12399254                                & 5                                         & 10                                        & 50                                       \\\\\n",
       "\t Coffee\\_euc\\_paa\\_dist.csv           &  5                                      & 0.96000000                              & 0.12399254                              & 5                                       & 10                                      & 50                                     \\\\\n",
       "\t Coffee\\_euc\\_diff\\_dist.csv          &  5                                      & 0.95666667                              & 0.12051477                              & 5                                       & 10                                      & 50                                     \\\\\n",
       "\t Coffee\\_dtw\\_raw\\_dist.csv           &  1                                      & 0.95333333                              & 0.13058390                              & 5                                       & 10                                      & 50                                     \\\\\n",
       "\t Coffee\\_erp\\_paa\\_gap\\_005.csv        &  5                                        & 0.94666667                                & 0.13652639                                & 5                                         & 10                                        & 50                                       \\\\\n",
       "\t Coffee\\_dtw\\_diff\\_dist.csv          & 10                                      & 0.94333333                              & 0.13303538                              & 5                                       & 10                                      & 50                                     \\\\\n",
       "\t Coffee\\_dtw\\_paa\\_dist.csv           &  1                                      & 0.94000000                              & 0.14190157                              & 5                                       & 10                                      & 50                                     \\\\\n",
       "\t Coffee\\_dtw\\_diff\\_dist.csv          &  1                                      & 0.93000000                              & 0.14321384                              & 5                                       & 10                                      & 50                                     \\\\\n",
       "\t Coffee\\_dtw\\_diff2\\_dist.csv         &  5                                      & 0.93000000                              & 0.14321384                              & 5                                       & 10                                      & 50                                     \\\\\n",
       "\t Coffee\\_erp\\_diff\\_gap\\_005.csv       &  1                                        & 0.93000000                                & 0.14321384                                & 5                                         & 10                                        & 50                                       \\\\\n",
       "\t Coffee\\_erp\\_diff\\_gap\\_005.csv       &  5                                        & 0.93000000                                & 0.14321384                                & 5                                         & 10                                        & 50                                       \\\\\n",
       "\t Coffee\\_erp\\_diff\\_gap\\_005.csv       & 10                                        & 0.93000000                                & 0.14321384                                & 5                                         & 10                                        & 50                                       \\\\\n",
       "\t Coffee\\_dtw\\_paa\\_dist.csv           &  5                                      & 0.92666667                              & 0.16550616                              & 5                                       & 10                                      & 50                                     \\\\\n",
       "\t Coffee\\_dtw\\_paa\\_dist.csv           & 10                                      & 0.91000000                              & 0.19110017                              & 5                                       & 10                                      & 50                                     \\\\\n",
       "\t Coffee\\_euc\\_paa2\\_dist.csv          & 10                                      & 0.87000000                              & 0.18223232                              & 5                                       & 10                                      & 50                                     \\\\\n",
       "\t Coffee\\_euc\\_paa2\\_dist.csv          &  1                                      & 0.77666667                              & 0.21720237                              & 5                                       & 10                                      & 50                                     \\\\\n",
       "\t Coffee\\_euc\\_paa2\\_dist.csv          &  5                                      & 0.77666667                              & 0.22236107                              & 5                                       & 10                                      & 50                                     \\\\\n",
       "\t Coffee\\_dtw\\_paa2\\_dist.csv          &  5                                      & 0.76666667                              & 0.23328474                              & 5                                       & 10                                      & 50                                     \\\\\n",
       "\t Coffee\\_erp\\_paa2\\_gap\\_005.csv       & 10                                        & 0.74666667                                & 0.23866598                                & 5                                         & 10                                        & 50                                       \\\\\n",
       "\t Coffee\\_erp\\_paa2\\_gap\\_005.csv       &  5                                        & 0.71666667                                & 0.25698849                                & 5                                         & 10                                        & 50                                       \\\\\n",
       "\t Coffee\\_erp\\_paa2\\_gap\\_005.csv       &  1                                        & 0.71000000                                & 0.23282257                                & 5                                         & 10                                        & 50                                       \\\\\n",
       "\t Coffee\\_dtw\\_paa2\\_dist.csv          & 10                                      & 0.70333333                              & 0.25707671                              & 5                                       & 10                                      & 50                                     \\\\\n",
       "\t Coffee\\_dtw\\_paa2\\_dist.csv          &  1                                      & 0.61666667                              & 0.29014423                              & 5                                       & 10                                      & 50                                     \\\\\n",
       "\t Coffee\\_lcss\\_paa\\_epsilon\\_005.csv   &  1                                        & 0.50000000                                & 0.19342949                                & 5                                         & 10                                        & 50                                       \\\\\n",
       "\t Coffee\\_lcss\\_paa2\\_epsilon\\_005.csv  &  1                                        & 0.35333333                                & 0.21987422                                & 5                                         & 10                                        & 50                                       \\\\\n",
       "\t Coffee\\_lcss\\_paa\\_epsilon\\_005.csv   & 10                                        & 0.28666667                                & 0.24522654                                & 5                                         & 10                                        & 50                                       \\\\\n",
       "\t Coffee\\_lcss\\_paa2\\_epsilon\\_005.csv  &  5                                        & 0.28000000                                & 0.22946255                                & 5                                         & 10                                        & 50                                       \\\\\n",
       "\t Coffee\\_lcss\\_paa2\\_epsilon\\_005.csv  & 10                                        & 0.25000000                                & 0.22899267                                & 5                                         & 10                                        & 50                                       \\\\\n",
       "\t Coffee\\_lcss\\_paa\\_epsilon\\_005.csv   &  5                                        & 0.24666667                                & 0.20548047                                & 5                                         & 10                                        & 50                                       \\\\\n",
       "\t Coffee\\_lcss\\_raw\\_epsilon\\_005.csv   &  1                                        & 0.23666667                                & 0.24302049                                & 5                                         & 10                                        & 50                                       \\\\\n",
       "\t Coffee\\_lcss\\_raw\\_epsilon\\_005.csv   &  5                                        & 0.12333333                                & 0.18990987                                & 5                                         & 10                                        & 50                                       \\\\\n",
       "\t Coffee\\_lcss\\_diff\\_epsilon\\_005.csv  &  1                                        & 0.11666667                                & 0.18823081                                & 5                                         & 10                                        & 50                                       \\\\\n",
       "\t Coffee\\_lcss\\_raw\\_epsilon\\_005.csv   & 10                                        & 0.10000000                                & 0.17817416                                & 5                                         & 10                                        & 50                                       \\\\\n",
       "\t Coffee\\_lcss\\_diff2\\_epsilon\\_005.csv &  1                                        & 0.08333333                                & 0.16581415                                & 5                                         & 10                                        & 50                                       \\\\\n",
       "\t Coffee\\_lcss\\_diff2\\_epsilon\\_005.csv &  5                                        & 0.07000000                                & 0.14321384                                & 5                                         & 10                                        & 50                                       \\\\\n",
       "\t Coffee\\_lcss\\_diff\\_epsilon\\_005.csv  & 10                                        & 0.05333333                                & 0.12344268                                & 5                                         & 10                                        & 50                                       \\\\\n",
       "\t Coffee\\_lcss\\_diff\\_epsilon\\_005.csv  &  5                                        & 0.03333333                                & 0.10101525                                & 5                                         & 10                                        & 50                                       \\\\\n",
       "\t Coffee\\_lcss\\_diff2\\_epsilon\\_005.csv & 10                                        & 0.02333333                                & 0.09529760                                & 5                                         & 10                                        & 50                                       \\\\\n",
       "\\end{tabular}\n"
      ],
      "text/markdown": [
       "\n",
       "| approach | k | avg_acc | sdev_acc | repid | foldid | result_count |\n",
       "|---|---|---|---|---|---|---|\n",
       "| Coffee_erp_diff2_gap_005.csv      |  1                                | 1.00000000                        | 0.00000000                        | 5                                 | 10                                | 50                                |\n",
       "| Coffee_erp_diff2_gap_005.csv      | 10                                | 1.00000000                        | 0.00000000                        | 5                                 | 10                                | 50                                |\n",
       "| Coffee_erp_raw_gap_005.csv        | 10                                | 1.00000000                        | 0.00000000                        | 5                                 | 10                                | 50                                |\n",
       "| Coffee_euc_diff2_dist.csv         |  1                                | 1.00000000                        | 0.00000000                        | 5                                 | 10                                | 50                                |\n",
       "| Coffee_euc_diff2_dist.csv         |  5                                | 1.00000000                        | 0.00000000                        | 5                                 | 10                                | 50                                |\n",
       "| Coffee_euc_raw_dist.csv           |  1                                | 1.00000000                        | 0.00000000                        | 5                                 | 10                                | 50                                |\n",
       "| Coffee_euc_raw_dist.csv           | 10                                | 1.00000000                        | 0.00000000                        | 5                                 | 10                                | 50                                |\n",
       "| Coffee_dtw_raw_dist.csv           | 10                                | 0.99333333                        | 0.04714045                        | 5                                 | 10                                | 50                                |\n",
       "| Coffee_erp_paa_gap_005.csv        |  1                                | 0.98666667                        | 0.06598289                        | 5                                 | 10                                | 50                                |\n",
       "| Coffee_euc_paa_dist.csv           |  1                                | 0.98666667                        | 0.06598289                        | 5                                 | 10                                | 50                                |\n",
       "| Coffee_euc_paa_dist.csv           | 10                                | 0.98666667                        | 0.06598289                        | 5                                 | 10                                | 50                                |\n",
       "| Coffee_dtw_raw_dist.csv           |  5                                | 0.98666667                        | 0.06598289                        | 5                                 | 10                                | 50                                |\n",
       "| Coffee_euc_diff2_dist.csv         | 10                                | 0.98666667                        | 0.06598289                        | 5                                 | 10                                | 50                                |\n",
       "| Coffee_euc_diff_dist.csv          | 10                                | 0.98333333                        | 0.08417938                        | 5                                 | 10                                | 50                                |\n",
       "| Coffee_erp_raw_gap_005.csv        |  1                                | 0.98000000                        | 0.07996598                        | 5                                 | 10                                | 50                                |\n",
       "| Coffee_euc_raw_dist.csv           |  5                                | 0.97333333                        | 0.10837911                        | 5                                 | 10                                | 50                                |\n",
       "| Coffee_dtw_diff2_dist.csv         | 10                                | 0.97333333                        | 0.09134917                        | 5                                 | 10                                | 50                                |\n",
       "| Coffee_erp_diff2_gap_005.csv      |  5                                | 0.96666667                        | 0.10101525                        | 5                                 | 10                                | 50                                |\n",
       "| Coffee_erp_paa_gap_005.csv        | 10                                | 0.96666667                        | 0.11664237                        | 5                                 | 10                                | 50                                |\n",
       "| Coffee_dtw_diff_dist.csv          |  5                                | 0.96333333                        | 0.11313909                        | 5                                 | 10                                | 50                                |\n",
       "| Coffee_dtw_diff2_dist.csv         |  1                                | 0.96333333                        | 0.11313909                        | 5                                 | 10                                | 50                                |\n",
       "| Coffee_euc_diff_dist.csv          |  1                                | 0.96333333                        | 0.11313909                        | 5                                 | 10                                | 50                                |\n",
       "| Coffee_erp_raw_gap_005.csv        |  5                                | 0.96000000                        | 0.12399254                        | 5                                 | 10                                | 50                                |\n",
       "| Coffee_euc_paa_dist.csv           |  5                                | 0.96000000                        | 0.12399254                        | 5                                 | 10                                | 50                                |\n",
       "| Coffee_euc_diff_dist.csv          |  5                                | 0.95666667                        | 0.12051477                        | 5                                 | 10                                | 50                                |\n",
       "| Coffee_dtw_raw_dist.csv           |  1                                | 0.95333333                        | 0.13058390                        | 5                                 | 10                                | 50                                |\n",
       "| Coffee_erp_paa_gap_005.csv        |  5                                | 0.94666667                        | 0.13652639                        | 5                                 | 10                                | 50                                |\n",
       "| Coffee_dtw_diff_dist.csv          | 10                                | 0.94333333                        | 0.13303538                        | 5                                 | 10                                | 50                                |\n",
       "| Coffee_dtw_paa_dist.csv           |  1                                | 0.94000000                        | 0.14190157                        | 5                                 | 10                                | 50                                |\n",
       "| Coffee_dtw_diff_dist.csv          |  1                                | 0.93000000                        | 0.14321384                        | 5                                 | 10                                | 50                                |\n",
       "| Coffee_dtw_diff2_dist.csv         |  5                                | 0.93000000                        | 0.14321384                        | 5                                 | 10                                | 50                                |\n",
       "| Coffee_erp_diff_gap_005.csv       |  1                                | 0.93000000                        | 0.14321384                        | 5                                 | 10                                | 50                                |\n",
       "| Coffee_erp_diff_gap_005.csv       |  5                                | 0.93000000                        | 0.14321384                        | 5                                 | 10                                | 50                                |\n",
       "| Coffee_erp_diff_gap_005.csv       | 10                                | 0.93000000                        | 0.14321384                        | 5                                 | 10                                | 50                                |\n",
       "| Coffee_dtw_paa_dist.csv           |  5                                | 0.92666667                        | 0.16550616                        | 5                                 | 10                                | 50                                |\n",
       "| Coffee_dtw_paa_dist.csv           | 10                                | 0.91000000                        | 0.19110017                        | 5                                 | 10                                | 50                                |\n",
       "| Coffee_euc_paa2_dist.csv          | 10                                | 0.87000000                        | 0.18223232                        | 5                                 | 10                                | 50                                |\n",
       "| Coffee_euc_paa2_dist.csv          |  1                                | 0.77666667                        | 0.21720237                        | 5                                 | 10                                | 50                                |\n",
       "| Coffee_euc_paa2_dist.csv          |  5                                | 0.77666667                        | 0.22236107                        | 5                                 | 10                                | 50                                |\n",
       "| Coffee_dtw_paa2_dist.csv          |  5                                | 0.76666667                        | 0.23328474                        | 5                                 | 10                                | 50                                |\n",
       "| Coffee_erp_paa2_gap_005.csv       | 10                                | 0.74666667                        | 0.23866598                        | 5                                 | 10                                | 50                                |\n",
       "| Coffee_erp_paa2_gap_005.csv       |  5                                | 0.71666667                        | 0.25698849                        | 5                                 | 10                                | 50                                |\n",
       "| Coffee_erp_paa2_gap_005.csv       |  1                                | 0.71000000                        | 0.23282257                        | 5                                 | 10                                | 50                                |\n",
       "| Coffee_dtw_paa2_dist.csv          | 10                                | 0.70333333                        | 0.25707671                        | 5                                 | 10                                | 50                                |\n",
       "| Coffee_dtw_paa2_dist.csv          |  1                                | 0.61666667                        | 0.29014423                        | 5                                 | 10                                | 50                                |\n",
       "| Coffee_lcss_paa_epsilon_005.csv   |  1                                | 0.50000000                        | 0.19342949                        | 5                                 | 10                                | 50                                |\n",
       "| Coffee_lcss_paa2_epsilon_005.csv  |  1                                | 0.35333333                        | 0.21987422                        | 5                                 | 10                                | 50                                |\n",
       "| Coffee_lcss_paa_epsilon_005.csv   | 10                                | 0.28666667                        | 0.24522654                        | 5                                 | 10                                | 50                                |\n",
       "| Coffee_lcss_paa2_epsilon_005.csv  |  5                                | 0.28000000                        | 0.22946255                        | 5                                 | 10                                | 50                                |\n",
       "| Coffee_lcss_paa2_epsilon_005.csv  | 10                                | 0.25000000                        | 0.22899267                        | 5                                 | 10                                | 50                                |\n",
       "| Coffee_lcss_paa_epsilon_005.csv   |  5                                | 0.24666667                        | 0.20548047                        | 5                                 | 10                                | 50                                |\n",
       "| Coffee_lcss_raw_epsilon_005.csv   |  1                                | 0.23666667                        | 0.24302049                        | 5                                 | 10                                | 50                                |\n",
       "| Coffee_lcss_raw_epsilon_005.csv   |  5                                | 0.12333333                        | 0.18990987                        | 5                                 | 10                                | 50                                |\n",
       "| Coffee_lcss_diff_epsilon_005.csv  |  1                                | 0.11666667                        | 0.18823081                        | 5                                 | 10                                | 50                                |\n",
       "| Coffee_lcss_raw_epsilon_005.csv   | 10                                | 0.10000000                        | 0.17817416                        | 5                                 | 10                                | 50                                |\n",
       "| Coffee_lcss_diff2_epsilon_005.csv |  1                                | 0.08333333                        | 0.16581415                        | 5                                 | 10                                | 50                                |\n",
       "| Coffee_lcss_diff2_epsilon_005.csv |  5                                | 0.07000000                        | 0.14321384                        | 5                                 | 10                                | 50                                |\n",
       "| Coffee_lcss_diff_epsilon_005.csv  | 10                                | 0.05333333                        | 0.12344268                        | 5                                 | 10                                | 50                                |\n",
       "| Coffee_lcss_diff_epsilon_005.csv  |  5                                | 0.03333333                        | 0.10101525                        | 5                                 | 10                                | 50                                |\n",
       "| Coffee_lcss_diff2_epsilon_005.csv | 10                                | 0.02333333                        | 0.09529760                        | 5                                 | 10                                | 50                                |\n",
       "\n"
      ],
      "text/plain": [
       "   approach                          k  avg_acc    sdev_acc   repid foldid\n",
       "1  Coffee_erp_diff2_gap_005.csv       1 1.00000000 0.00000000 5     10    \n",
       "2  Coffee_erp_diff2_gap_005.csv      10 1.00000000 0.00000000 5     10    \n",
       "3  Coffee_erp_raw_gap_005.csv        10 1.00000000 0.00000000 5     10    \n",
       "4  Coffee_euc_diff2_dist.csv          1 1.00000000 0.00000000 5     10    \n",
       "5  Coffee_euc_diff2_dist.csv          5 1.00000000 0.00000000 5     10    \n",
       "6  Coffee_euc_raw_dist.csv            1 1.00000000 0.00000000 5     10    \n",
       "7  Coffee_euc_raw_dist.csv           10 1.00000000 0.00000000 5     10    \n",
       "8  Coffee_dtw_raw_dist.csv           10 0.99333333 0.04714045 5     10    \n",
       "9  Coffee_erp_paa_gap_005.csv         1 0.98666667 0.06598289 5     10    \n",
       "10 Coffee_euc_paa_dist.csv            1 0.98666667 0.06598289 5     10    \n",
       "11 Coffee_euc_paa_dist.csv           10 0.98666667 0.06598289 5     10    \n",
       "12 Coffee_dtw_raw_dist.csv            5 0.98666667 0.06598289 5     10    \n",
       "13 Coffee_euc_diff2_dist.csv         10 0.98666667 0.06598289 5     10    \n",
       "14 Coffee_euc_diff_dist.csv          10 0.98333333 0.08417938 5     10    \n",
       "15 Coffee_erp_raw_gap_005.csv         1 0.98000000 0.07996598 5     10    \n",
       "16 Coffee_euc_raw_dist.csv            5 0.97333333 0.10837911 5     10    \n",
       "17 Coffee_dtw_diff2_dist.csv         10 0.97333333 0.09134917 5     10    \n",
       "18 Coffee_erp_diff2_gap_005.csv       5 0.96666667 0.10101525 5     10    \n",
       "19 Coffee_erp_paa_gap_005.csv        10 0.96666667 0.11664237 5     10    \n",
       "20 Coffee_dtw_diff_dist.csv           5 0.96333333 0.11313909 5     10    \n",
       "21 Coffee_dtw_diff2_dist.csv          1 0.96333333 0.11313909 5     10    \n",
       "22 Coffee_euc_diff_dist.csv           1 0.96333333 0.11313909 5     10    \n",
       "23 Coffee_erp_raw_gap_005.csv         5 0.96000000 0.12399254 5     10    \n",
       "24 Coffee_euc_paa_dist.csv            5 0.96000000 0.12399254 5     10    \n",
       "25 Coffee_euc_diff_dist.csv           5 0.95666667 0.12051477 5     10    \n",
       "26 Coffee_dtw_raw_dist.csv            1 0.95333333 0.13058390 5     10    \n",
       "27 Coffee_erp_paa_gap_005.csv         5 0.94666667 0.13652639 5     10    \n",
       "28 Coffee_dtw_diff_dist.csv          10 0.94333333 0.13303538 5     10    \n",
       "29 Coffee_dtw_paa_dist.csv            1 0.94000000 0.14190157 5     10    \n",
       "30 Coffee_dtw_diff_dist.csv           1 0.93000000 0.14321384 5     10    \n",
       "31 Coffee_dtw_diff2_dist.csv          5 0.93000000 0.14321384 5     10    \n",
       "32 Coffee_erp_diff_gap_005.csv        1 0.93000000 0.14321384 5     10    \n",
       "33 Coffee_erp_diff_gap_005.csv        5 0.93000000 0.14321384 5     10    \n",
       "34 Coffee_erp_diff_gap_005.csv       10 0.93000000 0.14321384 5     10    \n",
       "35 Coffee_dtw_paa_dist.csv            5 0.92666667 0.16550616 5     10    \n",
       "36 Coffee_dtw_paa_dist.csv           10 0.91000000 0.19110017 5     10    \n",
       "37 Coffee_euc_paa2_dist.csv          10 0.87000000 0.18223232 5     10    \n",
       "38 Coffee_euc_paa2_dist.csv           1 0.77666667 0.21720237 5     10    \n",
       "39 Coffee_euc_paa2_dist.csv           5 0.77666667 0.22236107 5     10    \n",
       "40 Coffee_dtw_paa2_dist.csv           5 0.76666667 0.23328474 5     10    \n",
       "41 Coffee_erp_paa2_gap_005.csv       10 0.74666667 0.23866598 5     10    \n",
       "42 Coffee_erp_paa2_gap_005.csv        5 0.71666667 0.25698849 5     10    \n",
       "43 Coffee_erp_paa2_gap_005.csv        1 0.71000000 0.23282257 5     10    \n",
       "44 Coffee_dtw_paa2_dist.csv          10 0.70333333 0.25707671 5     10    \n",
       "45 Coffee_dtw_paa2_dist.csv           1 0.61666667 0.29014423 5     10    \n",
       "46 Coffee_lcss_paa_epsilon_005.csv    1 0.50000000 0.19342949 5     10    \n",
       "47 Coffee_lcss_paa2_epsilon_005.csv   1 0.35333333 0.21987422 5     10    \n",
       "48 Coffee_lcss_paa_epsilon_005.csv   10 0.28666667 0.24522654 5     10    \n",
       "49 Coffee_lcss_paa2_epsilon_005.csv   5 0.28000000 0.22946255 5     10    \n",
       "50 Coffee_lcss_paa2_epsilon_005.csv  10 0.25000000 0.22899267 5     10    \n",
       "51 Coffee_lcss_paa_epsilon_005.csv    5 0.24666667 0.20548047 5     10    \n",
       "52 Coffee_lcss_raw_epsilon_005.csv    1 0.23666667 0.24302049 5     10    \n",
       "53 Coffee_lcss_raw_epsilon_005.csv    5 0.12333333 0.18990987 5     10    \n",
       "54 Coffee_lcss_diff_epsilon_005.csv   1 0.11666667 0.18823081 5     10    \n",
       "55 Coffee_lcss_raw_epsilon_005.csv   10 0.10000000 0.17817416 5     10    \n",
       "56 Coffee_lcss_diff2_epsilon_005.csv  1 0.08333333 0.16581415 5     10    \n",
       "57 Coffee_lcss_diff2_epsilon_005.csv  5 0.07000000 0.14321384 5     10    \n",
       "58 Coffee_lcss_diff_epsilon_005.csv  10 0.05333333 0.12344268 5     10    \n",
       "59 Coffee_lcss_diff_epsilon_005.csv   5 0.03333333 0.10101525 5     10    \n",
       "60 Coffee_lcss_diff2_epsilon_005.csv 10 0.02333333 0.09529760 5     10    \n",
       "   result_count\n",
       "1  50          \n",
       "2  50          \n",
       "3  50          \n",
       "4  50          \n",
       "5  50          \n",
       "6  50          \n",
       "7  50          \n",
       "8  50          \n",
       "9  50          \n",
       "10 50          \n",
       "11 50          \n",
       "12 50          \n",
       "13 50          \n",
       "14 50          \n",
       "15 50          \n",
       "16 50          \n",
       "17 50          \n",
       "18 50          \n",
       "19 50          \n",
       "20 50          \n",
       "21 50          \n",
       "22 50          \n",
       "23 50          \n",
       "24 50          \n",
       "25 50          \n",
       "26 50          \n",
       "27 50          \n",
       "28 50          \n",
       "29 50          \n",
       "30 50          \n",
       "31 50          \n",
       "32 50          \n",
       "33 50          \n",
       "34 50          \n",
       "35 50          \n",
       "36 50          \n",
       "37 50          \n",
       "38 50          \n",
       "39 50          \n",
       "40 50          \n",
       "41 50          \n",
       "42 50          \n",
       "43 50          \n",
       "44 50          \n",
       "45 50          \n",
       "46 50          \n",
       "47 50          \n",
       "48 50          \n",
       "49 50          \n",
       "50 50          \n",
       "51 50          \n",
       "52 50          \n",
       "53 50          \n",
       "54 50          \n",
       "55 50          \n",
       "56 50          \n",
       "57 50          \n",
       "58 50          \n",
       "59 50          \n",
       "60 50          "
      ]
     },
     "metadata": {},
     "output_type": "display_data"
    }
   ],
   "source": [
    "acc_res_ordered"
   ]
  },
  {
   "cell_type": "code",
   "execution_count": 100,
   "metadata": {},
   "outputs": [],
   "source": [
    "# require(ggplot2)\n",
    "# ggplot(dataframe_result,aes(x=paste0(approach,'with K=',k), y=acc)) +\n",
    "#         geom_boxplot()+\n",
    "#         labs(title=\"Boxplot of Models\")+\n",
    "#         xlab(\"Model Types\")+\n",
    "#         coord_flip()"
   ]
  },
  {
   "cell_type": "code",
   "execution_count": null,
   "metadata": {},
   "outputs": [],
   "source": []
  },
  {
   "cell_type": "markdown",
   "metadata": {},
   "source": [
    "<a id=\"12\"></a>\n",
    "# Test Performance"
   ]
  },
  {
   "cell_type": "markdown",
   "metadata": {},
   "source": [
    "Best performance is obtained when representation, distance, and k values are difference=1, Euclidean, and K=1 respectively."
   ]
  },
  {
   "cell_type": "code",
   "execution_count": 101,
   "metadata": {},
   "outputs": [],
   "source": [
    "traindata=as.matrix(fread(sprintf('%s%s/%s_TRAIN.txt',dataset_path, fourth_dataset,fourth_dataset)))\n",
    "testdata=as.matrix(fread(sprintf('%s%s/%s_TEST.txt',dataset_path, fourth_dataset,fourth_dataset)))"
   ]
  },
  {
   "cell_type": "markdown",
   "metadata": {},
   "source": [
    "To get test performance, train and test datasets will be used. These 2 datasets will be bind and test indices are selected as test dataset indices."
   ]
  },
  {
   "cell_type": "code",
   "execution_count": 102,
   "metadata": {},
   "outputs": [],
   "source": [
    "all_dt=rbind(traindata, testdata)"
   ]
  },
  {
   "cell_type": "code",
   "execution_count": 103,
   "metadata": {},
   "outputs": [],
   "source": [
    "allclass=all_dt[,1] \n",
    "all_dt=all_dt[,2:ncol(all_dt)]"
   ]
  },
  {
   "cell_type": "code",
   "execution_count": 104,
   "metadata": {},
   "outputs": [],
   "source": [
    "test_indices_last=(nrow(all_dt)+1-nrow(testdata)):nrow(all_dt)"
   ]
  },
  {
   "cell_type": "markdown",
   "metadata": {},
   "source": [
    "### Parameters"
   ]
  },
  {
   "cell_type": "code",
   "execution_count": 105,
   "metadata": {},
   "outputs": [
    {
     "data": {
      "text/html": [
       "<ol class=list-inline>\n",
       "\t<li>29</li>\n",
       "\t<li>30</li>\n",
       "\t<li>31</li>\n",
       "\t<li>32</li>\n",
       "\t<li>33</li>\n",
       "\t<li>34</li>\n",
       "\t<li>35</li>\n",
       "\t<li>36</li>\n",
       "\t<li>37</li>\n",
       "\t<li>38</li>\n",
       "\t<li>39</li>\n",
       "\t<li>40</li>\n",
       "\t<li>41</li>\n",
       "\t<li>42</li>\n",
       "\t<li>43</li>\n",
       "\t<li>44</li>\n",
       "\t<li>45</li>\n",
       "\t<li>46</li>\n",
       "\t<li>47</li>\n",
       "\t<li>48</li>\n",
       "\t<li>49</li>\n",
       "\t<li>50</li>\n",
       "\t<li>51</li>\n",
       "\t<li>52</li>\n",
       "\t<li>53</li>\n",
       "\t<li>54</li>\n",
       "\t<li>55</li>\n",
       "\t<li>56</li>\n",
       "</ol>\n"
      ],
      "text/latex": [
       "\\begin{enumerate*}\n",
       "\\item 29\n",
       "\\item 30\n",
       "\\item 31\n",
       "\\item 32\n",
       "\\item 33\n",
       "\\item 34\n",
       "\\item 35\n",
       "\\item 36\n",
       "\\item 37\n",
       "\\item 38\n",
       "\\item 39\n",
       "\\item 40\n",
       "\\item 41\n",
       "\\item 42\n",
       "\\item 43\n",
       "\\item 44\n",
       "\\item 45\n",
       "\\item 46\n",
       "\\item 47\n",
       "\\item 48\n",
       "\\item 49\n",
       "\\item 50\n",
       "\\item 51\n",
       "\\item 52\n",
       "\\item 53\n",
       "\\item 54\n",
       "\\item 55\n",
       "\\item 56\n",
       "\\end{enumerate*}\n"
      ],
      "text/markdown": [
       "1. 29\n",
       "2. 30\n",
       "3. 31\n",
       "4. 32\n",
       "5. 33\n",
       "6. 34\n",
       "7. 35\n",
       "8. 36\n",
       "9. 37\n",
       "10. 38\n",
       "11. 39\n",
       "12. 40\n",
       "13. 41\n",
       "14. 42\n",
       "15. 43\n",
       "16. 44\n",
       "17. 45\n",
       "18. 46\n",
       "19. 47\n",
       "20. 48\n",
       "21. 49\n",
       "22. 50\n",
       "23. 51\n",
       "24. 52\n",
       "25. 53\n",
       "26. 54\n",
       "27. 55\n",
       "28. 56\n",
       "\n",
       "\n"
      ],
      "text/plain": [
       " [1] 29 30 31 32 33 34 35 36 37 38 39 40 41 42 43 44 45 46 47 48 49 50 51 52 53\n",
       "[26] 54 55 56"
      ]
     },
     "metadata": {},
     "output_type": "display_data"
    }
   ],
   "source": [
    "test_indices_last"
   ]
  },
  {
   "cell_type": "code",
   "execution_count": 106,
   "metadata": {},
   "outputs": [],
   "source": [
    "last_k=1"
   ]
  },
  {
   "cell_type": "markdown",
   "metadata": {},
   "source": [
    "## Representation and Distance Calculation"
   ]
  },
  {
   "cell_type": "markdown",
   "metadata": {},
   "source": [
    "Representation and distance types are selected by looking the best parameter combination obtained in train dataset."
   ]
  },
  {
   "cell_type": "code",
   "execution_count": 116,
   "metadata": {},
   "outputs": [],
   "source": [
    "diff_test_2=difference_obtainer(all_dt,2)"
   ]
  },
  {
   "cell_type": "code",
   "execution_count": 117,
   "metadata": {},
   "outputs": [],
   "source": [
    "dist_erp_diff_2_test=TSDatabaseDistances(diff_test_2,distance='erp',g=0.5)\n",
    "dist_erp_diff_2_test=as.matrix(dist_erp_diff_2_test)\n",
    "diag(dist_erp_diff_2_test)=large_number"
   ]
  },
  {
   "cell_type": "markdown",
   "metadata": {},
   "source": [
    "## Result of Test Dataset"
   ]
  },
  {
   "cell_type": "code",
   "execution_count": 120,
   "metadata": {},
   "outputs": [],
   "source": [
    "last_result=nn_classify_cv(dist_erp_diff_2_test,allclass,test_indices_last,k=last_k)\n",
    "accuracy=sum(allclass[test_indices_last]==last_result$prediction$predicted)/length(test_indices_last)\n",
    "final_res=data.table(approach=\"Coffee_erp_diff2_gap_005_Test.csv\", k=last_k, acc=accuracy)"
   ]
  },
  {
   "cell_type": "markdown",
   "metadata": {},
   "source": [
    "### Test Result"
   ]
  },
  {
   "cell_type": "code",
   "execution_count": 121,
   "metadata": {},
   "outputs": [
    {
     "data": {
      "text/html": [
       "<table>\n",
       "<thead><tr><th scope=col>approach</th><th scope=col>k</th><th scope=col>acc</th></tr></thead>\n",
       "<tbody>\n",
       "\t<tr><td>Coffee_erp_diff2_gap_005_Test.csv</td><td>1                                </td><td>0.9642857                        </td></tr>\n",
       "</tbody>\n",
       "</table>\n"
      ],
      "text/latex": [
       "\\begin{tabular}{r|lll}\n",
       " approach & k & acc\\\\\n",
       "\\hline\n",
       "\t Coffee\\_erp\\_diff2\\_gap\\_005\\_Test.csv & 1                                           & 0.9642857                                  \\\\\n",
       "\\end{tabular}\n"
      ],
      "text/markdown": [
       "\n",
       "| approach | k | acc |\n",
       "|---|---|---|\n",
       "| Coffee_erp_diff2_gap_005_Test.csv | 1                                 | 0.9642857                         |\n",
       "\n"
      ],
      "text/plain": [
       "  approach                          k acc      \n",
       "1 Coffee_erp_diff2_gap_005_Test.csv 1 0.9642857"
      ]
     },
     "metadata": {},
     "output_type": "display_data"
    }
   ],
   "source": [
    "final_res"
   ]
  },
  {
   "cell_type": "markdown",
   "metadata": {},
   "source": [
    "### Train Result"
   ]
  },
  {
   "cell_type": "code",
   "execution_count": 111,
   "metadata": {},
   "outputs": [
    {
     "data": {
      "text/html": [
       "<table>\n",
       "<thead><tr><th scope=col>approach</th><th scope=col>k</th><th scope=col>avg_acc</th></tr></thead>\n",
       "<tbody>\n",
       "\t<tr><td>Coffee_erp_diff2_gap_005.csv</td><td>1                           </td><td>1                           </td></tr>\n",
       "</tbody>\n",
       "</table>\n"
      ],
      "text/latex": [
       "\\begin{tabular}{r|lll}\n",
       " approach & k & avg\\_acc\\\\\n",
       "\\hline\n",
       "\t Coffee\\_erp\\_diff2\\_gap\\_005.csv & 1                                    & 1                                   \\\\\n",
       "\\end{tabular}\n"
      ],
      "text/markdown": [
       "\n",
       "| approach | k | avg_acc |\n",
       "|---|---|---|\n",
       "| Coffee_erp_diff2_gap_005.csv | 1                            | 1                            |\n",
       "\n"
      ],
      "text/plain": [
       "  approach                     k avg_acc\n",
       "1 Coffee_erp_diff2_gap_005.csv 1 1      "
      ]
     },
     "metadata": {},
     "output_type": "display_data"
    }
   ],
   "source": [
    "acc_res_ordered[1][,c(\"approach\", \"k\", \"avg_acc\")]"
   ]
  },
  {
   "cell_type": "markdown",
   "metadata": {},
   "source": [
    "<a id=\"13\"></a>\n",
    "# Comments"
   ]
  },
  {
   "cell_type": "markdown",
   "metadata": {},
   "source": [
    "Obtained results will be analyzed in the result comparison notebook."
   ]
  }
 ],
 "metadata": {
  "kernelspec": {
   "display_name": "R",
   "language": "R",
   "name": "ir"
  },
  "language_info": {
   "codemirror_mode": "r",
   "file_extension": ".r",
   "mimetype": "text/x-r-source",
   "name": "R",
   "pygments_lexer": "r",
   "version": "3.6.1"
  }
 },
 "nbformat": 4,
 "nbformat_minor": 4
}
